{
 "cells": [
  {
   "cell_type": "markdown",
   "id": "b2f4fdba-673f-4974-b9f8-d4574bbc9568",
   "metadata": {},
   "source": [
    "## Part 04 머신러닝 - 2장 군집 모형\n",
    "\n",
    "- 파이썬에서 사이킷런의 서브패키지 ```cluster```로부터 여러 클래스를 이용하면 군집 모형객체를 생성할 수 있음\n",
    "- 군집 모형의 경우 지도 학습 모형과 유사한 방식으로 ```sklearn.서브패키지명.클래스명```을 통해 **모형객체를 생성**한 후, 모형객체의 메소드 ```fit_predict()```를 통해 **모형에 적합**한 후 **군집을 형성**\n",
    "- 군집분석\n",
    "   - 계층적 군집분석 (Hierarchical Clustering)\n",
    "   - 비계층적 군집분석: k-means 군집분석\n",
    "\n",
    "<br><br>\n",
    "<hr>\n",
    "\n",
    "### 1절: 군집평가\n",
    "- 군집평가란 군집모형을 통해 형성된 군집이 얼마나 제대로 형성되었는지 평가하는 것을 말함\n",
    "- 정답 또는 타겟 레이블을 모르는 경우는 주로 실루엣(Sihoutte) 계수,\n",
    "- 아는 경우에는 랜드지수(RI; Rand Index)와 조정 랜드지수(ARI; Adjusted RI) 등을 지표로 사용함\n",
    "- 보통 두 함수를 이용하여 실루엣계수를 계산하고 이를 시각화로 표현하여 군집 평가를 진행하지만, 시험에서는 시각화를 지원하지 않으므로 시각화 없이 군집평가하기\n",
    "\n",
    "<br>\n",
    "\n",
    "#### **1) 실루엣 계수**\n",
    "\n",
    "- 실루엣 계수는 사이킷런의 서브패키지 ```metrics``` 내의 함수 ```silhouette_score()```와 ```silhouette_samples()```를 통해 계산할 수 있음\n",
    "- **silhouette_score()** 는 전체 개체에 대한 실루엣계수의 평균을 계산\n",
    "- ```sklearn.metrics.silhouette_score(X, y, ...)```\n",
    "   - **X**: 군집 형성에 사용된 데이터(배열)\n",
    "   - **y**: 예측된 레이블\n",
    "\n",
    "<br>\n",
    "\n",
    "- **silhouette_sample()** 은 각 개체에 대한 개별 실루엣계수를 계산하는 함수\n",
    "- ```sklearn.metrics.silhouette_sample(X, y, ...)```\n",
    "   - **X**: 군집 형성에 사용된 데이터(배열)\n",
    "   - **y**: 예측된 레이블\n",
    "\n",
    "<br><br>\n",
    "\n",
    "\n",
    "#### **2) RI와 ARI**\n",
    "\n",
    "- 랜드지수와 조정 랜드지수는 각각 사이킷런 서브패키지 ```metrics.cluster``` 내의 함수 ```rand_score()```, ```adjusted_rand_score()```를 통해 계산할 수 있음\n",
    "   - **RI**: ```metrics.rand_score(labels_true, labels_pred)```\n",
    "   - **ARI**: ```metrics.adjusted_rand_score(labels_true, labels_pred)```\n"
   ]
  },
  {
   "cell_type": "markdown",
   "id": "742480ed-072f-4ce8-b790-6c30da54f2ec",
   "metadata": {},
   "source": [
    "<br>\n",
    "\n",
    "#### Q. \n",
    "임의의 리스트 labels_true와 labels_pred를 생성한 후, 함수 rand_score(), adjust_rand_score()를 통하여 RI와 ARI를 계산하는 파이썬 코드 작성하기"
   ]
  },
  {
   "cell_type": "code",
   "execution_count": 1,
   "id": "88804494-98ef-4b18-83f0-5e6ff4886576",
   "metadata": {
    "tags": []
   },
   "outputs": [],
   "source": [
    "# 임의의 리스트 생성\n",
    "labels_true = [0, 0, 0, 1, 1, 1, 1, 2, 2]\n",
    "labels_pred = [0, 0, 1, 1, 1, 1, 2, 2, 2]"
   ]
  },
  {
   "cell_type": "code",
   "execution_count": 3,
   "id": "e3c0e1a6-247a-4ccc-bab0-3a29ad7aa811",
   "metadata": {
    "tags": []
   },
   "outputs": [],
   "source": [
    "# 함수 호출\n",
    "from sklearn.metrics.cluster import rand_score, adjusted_rand_score"
   ]
  },
  {
   "cell_type": "code",
   "execution_count": 4,
   "id": "a83bfbe9-3cca-4690-9d7b-0f0ffdab1c56",
   "metadata": {
    "tags": []
   },
   "outputs": [
    {
     "data": {
      "text/plain": [
       "0.7222222222222222"
      ]
     },
     "execution_count": 4,
     "metadata": {},
     "output_type": "execute_result"
    }
   ],
   "source": [
    "# RI (랜드지수)\n",
    "ri = rand_score(labels_true, labels_pred)\n",
    "ri"
   ]
  },
  {
   "cell_type": "code",
   "execution_count": 5,
   "id": "287f562d-6041-4afe-b938-7272af041c82",
   "metadata": {
    "tags": []
   },
   "outputs": [
    {
     "data": {
      "text/plain": [
       "0.3076923076923077"
      ]
     },
     "execution_count": 5,
     "metadata": {},
     "output_type": "execute_result"
    }
   ],
   "source": [
    "# ARI (조정 랜드지수)\n",
    "ari = adjusted_rand_score(labels_true, labels_pred)\n",
    "ari"
   ]
  },
  {
   "cell_type": "markdown",
   "id": "d9a695ef-8223-4052-a99d-d2554e4a4789",
   "metadata": {},
   "source": [
    "\n",
    "<br><br>\n",
    "<hr>\n",
    "\n",
    "### 2절: 계층적 군집분석\n",
    "\n",
    "- 계층적 군집모형은 사이킷런의 ```cluster``` 내 클래스 ```AgglomerativeClustering()```을 통해 모형객체를 생성할 수 있음\n",
    "- 생성된 모형객체의 메소드 ```fit_predict()```를 통해 군집을 형성할 수 있음\n",
    "- ```sklearn.cluster.AgglomerativeClustering(n_clusters = 2, linkage = 'ward', ...)```\n",
    "   - **n_clusters**: 찾을 군집의 수 (default = 2)\n",
    "   - **linkage**: 사용할 연결법\n",
    "      - 'ward' (default)\n",
    "      - 'average'\n",
    "      - 'complete'\n",
    "      - 'single'"
   ]
  },
  {
   "cell_type": "markdown",
   "id": "62ac558a-1ff4-44f6-9992-66746b14a2e2",
   "metadata": {},
   "source": [
    "<br>\n",
    "\n",
    "#### Q. \n",
    "사이킷런 패키지 내 iris 데이터를 호출한 후 클래스 AgglomerativeClustering()을 통해 네 종류의 연결법에 따른 모형객체를 생성하여 각각 군집을 형성하여 예측된 레이블과 정답 레이블을 이용하여 RI와 ARI를 계산하는 코드 작성하기 (단, 군집은 세 가지 형성)"
   ]
  },
  {
   "cell_type": "code",
   "execution_count": 6,
   "id": "77d3771d-30d1-473e-85cb-c968eff6919b",
   "metadata": {
    "tags": []
   },
   "outputs": [],
   "source": [
    "# 클래스 함수 불러오기\n",
    "from sklearn.cluster import AgglomerativeClustering\n",
    "from sklearn.metrics.cluster import rand_score, adjusted_rand_score"
   ]
  },
  {
   "cell_type": "code",
   "execution_count": 20,
   "id": "8ec7015e-e23c-456e-83a1-4e9fca0a0169",
   "metadata": {
    "tags": []
   },
   "outputs": [],
   "source": [
    "# iris 데이터 가져오기\n",
    "from sklearn.datasets import load_iris\n",
    "iris = load_iris()\n",
    "data = iris.data\n",
    "labels_true = iris.target      # 정답 레이블"
   ]
  },
  {
   "cell_type": "code",
   "execution_count": 21,
   "id": "a1231513-871f-4996-ae41-7c9ec24de90f",
   "metadata": {
    "tags": []
   },
   "outputs": [
    {
     "data": {
      "text/plain": [
       "array([1, 1, 1, 1, 1, 1, 1, 1, 1, 1, 1, 1, 1, 1, 1, 1, 1, 1, 1, 1, 1, 1,\n",
       "       1, 1, 1, 1, 1, 1, 1, 1, 1, 1, 1, 1, 1, 1, 1, 1, 1, 1, 1, 1, 1, 1,\n",
       "       1, 1, 1, 1, 1, 1, 0, 0, 0, 0, 0, 0, 0, 0, 0, 0, 0, 0, 0, 0, 0, 0,\n",
       "       0, 0, 0, 0, 0, 0, 0, 0, 0, 0, 0, 2, 0, 0, 0, 0, 0, 0, 0, 0, 0, 0,\n",
       "       0, 0, 0, 0, 0, 0, 0, 0, 0, 0, 0, 0, 2, 0, 2, 2, 2, 2, 0, 2, 2, 2,\n",
       "       2, 2, 2, 0, 0, 2, 2, 2, 2, 0, 2, 0, 2, 0, 2, 2, 0, 0, 2, 2, 2, 2,\n",
       "       2, 0, 0, 2, 2, 2, 0, 2, 2, 2, 0, 2, 2, 2, 0, 2, 2, 0], dtype=int64)"
      ]
     },
     "execution_count": 21,
     "metadata": {},
     "output_type": "execute_result"
    }
   ],
   "source": [
    "# 와드 연결법\n",
    "agg_ward = AgglomerativeClustering(n_clusters = 3)\n",
    "labels_pred_ward = agg_ward.fit_predict(data)\n",
    "labels_pred_ward"
   ]
  },
  {
   "cell_type": "code",
   "execution_count": 22,
   "id": "feeb2fb1-d708-4931-b065-ddf96c9ecf0c",
   "metadata": {
    "tags": []
   },
   "outputs": [
    {
     "data": {
      "text/plain": [
       "array([1, 1, 1, 1, 1, 1, 1, 1, 1, 1, 1, 1, 1, 1, 1, 1, 1, 1, 1, 1, 1, 1,\n",
       "       1, 1, 1, 1, 1, 1, 1, 1, 1, 1, 1, 1, 1, 1, 1, 1, 1, 1, 1, 1, 1, 1,\n",
       "       1, 1, 1, 1, 1, 1, 0, 0, 0, 0, 0, 0, 0, 0, 0, 0, 0, 0, 0, 0, 0, 0,\n",
       "       0, 0, 0, 0, 0, 0, 0, 0, 0, 0, 0, 0, 0, 0, 0, 0, 0, 0, 0, 0, 0, 0,\n",
       "       0, 0, 0, 0, 0, 0, 0, 0, 0, 0, 0, 0, 2, 0, 2, 2, 2, 2, 0, 2, 2, 2,\n",
       "       2, 2, 2, 0, 0, 2, 2, 2, 2, 0, 2, 0, 2, 0, 2, 2, 0, 0, 2, 2, 2, 2,\n",
       "       2, 0, 2, 2, 2, 2, 0, 2, 2, 2, 0, 2, 2, 2, 0, 2, 2, 0], dtype=int64)"
      ]
     },
     "execution_count": 22,
     "metadata": {},
     "output_type": "execute_result"
    }
   ],
   "source": [
    "# 평균 연결법\n",
    "agg_avg = AgglomerativeClustering(n_clusters = 3, linkage = 'average')\n",
    "labels_pred_avg = agg_avg.fit_predict(data)\n",
    "labels_pred_avg"
   ]
  },
  {
   "cell_type": "code",
   "execution_count": 23,
   "id": "23b40ffa-2e68-45e4-907d-91f77e7a4e2a",
   "metadata": {
    "tags": []
   },
   "outputs": [
    {
     "data": {
      "text/plain": [
       "array([1, 1, 1, 1, 1, 1, 1, 1, 1, 1, 1, 1, 1, 1, 1, 1, 1, 1, 1, 1, 1, 1,\n",
       "       1, 1, 1, 1, 1, 1, 1, 1, 1, 1, 1, 1, 1, 1, 1, 1, 1, 1, 1, 1, 1, 1,\n",
       "       1, 1, 1, 1, 1, 1, 0, 0, 0, 2, 0, 2, 0, 2, 0, 2, 2, 2, 2, 0, 2, 0,\n",
       "       2, 2, 0, 2, 0, 2, 0, 0, 0, 0, 0, 0, 0, 2, 2, 2, 2, 0, 2, 0, 0, 0,\n",
       "       2, 2, 2, 0, 2, 2, 2, 2, 2, 0, 2, 2, 0, 0, 0, 0, 0, 0, 2, 0, 0, 0,\n",
       "       0, 0, 0, 0, 0, 0, 0, 0, 0, 0, 0, 0, 0, 0, 0, 0, 0, 0, 0, 0, 0, 0,\n",
       "       0, 0, 0, 0, 0, 0, 0, 0, 0, 0, 0, 0, 0, 0, 0, 0, 0, 0], dtype=int64)"
      ]
     },
     "execution_count": 23,
     "metadata": {},
     "output_type": "execute_result"
    }
   ],
   "source": [
    "# 최장 연결법\n",
    "agg_comp = AgglomerativeClustering(n_clusters = 3, linkage = 'complete')\n",
    "labels_pred_comp = agg_comp.fit_predict(data)\n",
    "labels_pred_comp"
   ]
  },
  {
   "cell_type": "code",
   "execution_count": 24,
   "id": "fd4c716f-05bf-4343-869a-71c807c4ea76",
   "metadata": {
    "tags": []
   },
   "outputs": [
    {
     "data": {
      "text/plain": [
       "array([1, 1, 1, 1, 1, 1, 1, 1, 1, 1, 1, 1, 1, 1, 1, 1, 1, 1, 1, 1, 1, 1,\n",
       "       1, 1, 1, 1, 1, 1, 1, 1, 1, 1, 1, 1, 1, 1, 1, 1, 1, 1, 1, 1, 1, 1,\n",
       "       1, 1, 1, 1, 1, 1, 0, 0, 0, 0, 0, 0, 0, 0, 0, 0, 0, 0, 0, 0, 0, 0,\n",
       "       0, 0, 0, 0, 0, 0, 0, 0, 0, 0, 0, 0, 0, 0, 0, 0, 0, 0, 0, 0, 0, 0,\n",
       "       0, 0, 0, 0, 0, 0, 0, 0, 0, 0, 0, 0, 0, 0, 0, 0, 0, 0, 0, 0, 0, 0,\n",
       "       0, 0, 0, 0, 0, 0, 0, 2, 0, 0, 0, 0, 0, 0, 0, 0, 0, 0, 0, 0, 0, 2,\n",
       "       0, 0, 0, 0, 0, 0, 0, 0, 0, 0, 0, 0, 0, 0, 0, 0, 0, 0], dtype=int64)"
      ]
     },
     "execution_count": 24,
     "metadata": {},
     "output_type": "execute_result"
    }
   ],
   "source": [
    "# 최단 연결법\n",
    "agg_sing = AgglomerativeClustering(n_clusters = 3, linkage = 'single')\n",
    "labels_pred_sing = agg_sing.fit_predict(data)\n",
    "labels_pred_sing"
   ]
  },
  {
   "cell_type": "code",
   "execution_count": 25,
   "id": "c661d5ad-2501-4f02-b312-4bc84815be9d",
   "metadata": {
    "tags": []
   },
   "outputs": [
    {
     "name": "stdout",
     "output_type": "stream",
     "text": [
      "와드 연결법:  0.8797315436241611\n",
      "평균 연결법:  0.8922595078299776\n",
      "최장 연결법:  0.8367785234899329\n",
      "최단 연결법:  0.7766442953020134\n"
     ]
    }
   ],
   "source": [
    "# RI 비교\n",
    "print(\"와드 연결법: \", rand_score(labels_true, labels_pred_ward))\n",
    "print(\"평균 연결법: \", rand_score(labels_true, labels_pred_avg))\n",
    "print(\"최장 연결법: \", rand_score(labels_true, labels_pred_comp))\n",
    "print(\"최단 연결법: \", rand_score(labels_true, labels_pred_sing))"
   ]
  },
  {
   "cell_type": "code",
   "execution_count": 26,
   "id": "64937c66-efc3-4b14-a65c-17b0af1c964c",
   "metadata": {
    "tags": []
   },
   "outputs": [
    {
     "name": "stdout",
     "output_type": "stream",
     "text": [
      "와드 연결법:  0.7311985567707746\n",
      "평균 연결법:  0.7591987071071522\n",
      "최장 연결법:  0.6422512518362898\n",
      "최단 연결법:  0.5637510205230709\n"
     ]
    }
   ],
   "source": [
    "# ARI 비교\n",
    "print(\"와드 연결법: \", adjusted_rand_score(labels_true, labels_pred_ward))\n",
    "print(\"평균 연결법: \", adjusted_rand_score(labels_true, labels_pred_avg))\n",
    "print(\"최장 연결법: \", adjusted_rand_score(labels_true, labels_pred_comp))\n",
    "print(\"최단 연결법: \", adjusted_rand_score(labels_true, labels_pred_sing))"
   ]
  },
  {
   "cell_type": "markdown",
   "id": "694571e7-9983-4b30-a9ac-e5f9bb2075d9",
   "metadata": {},
   "source": [
    "<br><br>\n",
    "<hr>\n",
    "\n",
    "### 3절: k-means 군집분석\n",
    "\n",
    "- k-means 군집모형은 사이킷런의 ```cluster``` 내 클래스 ```KMeans()```를 통해 모형객체를 생성할 수 있음\n",
    "- 이를 통해 생성된 모형객체의 메소드 ```fit_predict()```를 통해 군집 형성\n",
    "- ```sklearn.cluster.KMeans(n_clusters = 8)```\n",
    "   - **n_clusters**: 형성할 군집의 수 (default = 8)"
   ]
  },
  {
   "cell_type": "markdown",
   "id": "9a87f2a8-b719-4d41-95d3-23cf3881a615",
   "metadata": {},
   "source": [
    "<br>\n",
    "\n",
    "#### Q. \n",
    "사이킷런 패키지 내 iris 데이터를 호출한 후 군집의 수(k)가 2~4개일 때 k-mean 모형에 대하여 전체, 레이블별 실루엣계수의 평균을 계산하는 코드 작성하기"
   ]
  },
  {
   "cell_type": "code",
   "execution_count": 27,
   "id": "4f596ceb-8219-46a3-9b8a-c22419c6ad95",
   "metadata": {
    "tags": []
   },
   "outputs": [],
   "source": [
    "# 클래스 함수 불러오기\n",
    "from sklearn.cluster import KMeans\n",
    "from sklearn.metrics import silhouette_score, silhouette_samples"
   ]
  },
  {
   "cell_type": "code",
   "execution_count": 30,
   "id": "be34c02a-8d8a-46f3-ba63-efe52fbd7a31",
   "metadata": {
    "tags": []
   },
   "outputs": [],
   "source": [
    "# iris 데이터 가져오기\n",
    "from sklearn.datasets import load_iris\n",
    "iris = load_iris()\n",
    "data = iris.data"
   ]
  },
  {
   "cell_type": "code",
   "execution_count": 31,
   "id": "5ccca657-1469-4e11-aa5b-1606981a9131",
   "metadata": {
    "tags": []
   },
   "outputs": [
    {
     "name": "stderr",
     "output_type": "stream",
     "text": [
      "C:\\Users\\kbr_u\\anaconda3\\Lib\\site-packages\\sklearn\\cluster\\_kmeans.py:1412: FutureWarning: The default value of `n_init` will change from 10 to 'auto' in 1.4. Set the value of `n_init` explicitly to suppress the warning\n",
      "  super()._check_params_vs_input(X, default_n_init=10)\n",
      "C:\\Users\\kbr_u\\anaconda3\\Lib\\site-packages\\sklearn\\cluster\\_kmeans.py:1436: UserWarning: KMeans is known to have a memory leak on Windows with MKL, when there are less chunks than available threads. You can avoid it by setting the environment variable OMP_NUM_THREADS=1.\n",
      "  warnings.warn(\n"
     ]
    },
    {
     "data": {
      "text/plain": [
       "array([0, 0, 0, 0, 0, 0, 0, 0, 0, 0, 0, 0, 0, 0, 0, 0, 0, 0, 0, 0, 0, 0,\n",
       "       0, 0, 0, 0, 0, 0, 0, 0, 0, 0, 0, 0, 0, 0, 0, 0, 0, 0, 0, 0, 0, 0,\n",
       "       0, 0, 0, 0, 0, 0, 1, 1, 1, 1, 1, 1, 1, 0, 1, 1, 1, 1, 1, 1, 1, 1,\n",
       "       1, 1, 1, 1, 1, 1, 1, 1, 1, 1, 1, 1, 1, 1, 1, 1, 1, 1, 1, 1, 1, 1,\n",
       "       1, 1, 1, 1, 1, 0, 1, 1, 1, 1, 0, 1, 1, 1, 1, 1, 1, 1, 1, 1, 1, 1,\n",
       "       1, 1, 1, 1, 1, 1, 1, 1, 1, 1, 1, 1, 1, 1, 1, 1, 1, 1, 1, 1, 1, 1,\n",
       "       1, 1, 1, 1, 1, 1, 1, 1, 1, 1, 1, 1, 1, 1, 1, 1, 1, 1])"
      ]
     },
     "execution_count": 31,
     "metadata": {},
     "output_type": "execute_result"
    }
   ],
   "source": [
    "# k = 2일 때 k-means 군집모형으로 군집 형성\n",
    "kmeans_k2 = KMeans(n_clusters = 2, random_state = 2022)\n",
    "labels_pred_k2 = kmeans_k2.fit_predict(data)\n",
    "labels_pred_k2"
   ]
  },
  {
   "cell_type": "code",
   "execution_count": 32,
   "id": "4d4971a4-3de7-4b51-8539-fa6f44fcb7a8",
   "metadata": {
    "tags": []
   },
   "outputs": [
    {
     "name": "stderr",
     "output_type": "stream",
     "text": [
      "C:\\Users\\kbr_u\\anaconda3\\Lib\\site-packages\\sklearn\\cluster\\_kmeans.py:1412: FutureWarning: The default value of `n_init` will change from 10 to 'auto' in 1.4. Set the value of `n_init` explicitly to suppress the warning\n",
      "  super()._check_params_vs_input(X, default_n_init=10)\n",
      "C:\\Users\\kbr_u\\anaconda3\\Lib\\site-packages\\sklearn\\cluster\\_kmeans.py:1436: UserWarning: KMeans is known to have a memory leak on Windows with MKL, when there are less chunks than available threads. You can avoid it by setting the environment variable OMP_NUM_THREADS=1.\n",
      "  warnings.warn(\n"
     ]
    },
    {
     "data": {
      "text/plain": [
       "array([0, 0, 0, 0, 0, 0, 0, 0, 0, 0, 0, 0, 0, 0, 0, 0, 0, 0, 0, 0, 0, 0,\n",
       "       0, 0, 0, 0, 0, 0, 0, 0, 0, 0, 0, 0, 0, 0, 0, 0, 0, 0, 0, 0, 0, 0,\n",
       "       0, 0, 0, 0, 0, 0, 1, 1, 2, 1, 1, 1, 1, 1, 1, 1, 1, 1, 1, 1, 1, 1,\n",
       "       1, 1, 1, 1, 1, 1, 1, 1, 1, 1, 1, 2, 1, 1, 1, 1, 1, 1, 1, 1, 1, 1,\n",
       "       1, 1, 1, 1, 1, 1, 1, 1, 1, 1, 1, 1, 2, 1, 2, 2, 2, 2, 1, 2, 2, 2,\n",
       "       2, 2, 2, 1, 1, 2, 2, 2, 2, 1, 2, 1, 2, 1, 2, 2, 1, 1, 2, 2, 2, 2,\n",
       "       2, 1, 2, 2, 2, 2, 1, 2, 2, 2, 1, 2, 2, 2, 1, 2, 2, 1])"
      ]
     },
     "execution_count": 32,
     "metadata": {},
     "output_type": "execute_result"
    }
   ],
   "source": [
    "# k = 3일 때 k-means 군집모형으로 군집 형성\n",
    "kmeans_k3 = KMeans(n_clusters = 3, random_state = 2022)\n",
    "labels_pred_k3 = kmeans_k3.fit_predict(data)\n",
    "labels_pred_k3"
   ]
  },
  {
   "cell_type": "code",
   "execution_count": 33,
   "id": "3d16b1fa-f747-4bfb-94c0-a8f13bf5aa6e",
   "metadata": {
    "tags": []
   },
   "outputs": [
    {
     "name": "stderr",
     "output_type": "stream",
     "text": [
      "C:\\Users\\kbr_u\\anaconda3\\Lib\\site-packages\\sklearn\\cluster\\_kmeans.py:1412: FutureWarning: The default value of `n_init` will change from 10 to 'auto' in 1.4. Set the value of `n_init` explicitly to suppress the warning\n",
      "  super()._check_params_vs_input(X, default_n_init=10)\n",
      "C:\\Users\\kbr_u\\anaconda3\\Lib\\site-packages\\sklearn\\cluster\\_kmeans.py:1436: UserWarning: KMeans is known to have a memory leak on Windows with MKL, when there are less chunks than available threads. You can avoid it by setting the environment variable OMP_NUM_THREADS=1.\n",
      "  warnings.warn(\n"
     ]
    },
    {
     "data": {
      "text/plain": [
       "array([1, 1, 1, 1, 1, 1, 1, 1, 1, 1, 1, 1, 1, 1, 1, 1, 1, 1, 1, 1, 1, 1,\n",
       "       1, 1, 1, 1, 1, 1, 1, 1, 1, 1, 1, 1, 1, 1, 1, 1, 1, 1, 1, 1, 1, 1,\n",
       "       1, 1, 1, 1, 1, 1, 3, 3, 3, 0, 3, 0, 3, 0, 3, 0, 0, 0, 0, 3, 0, 3,\n",
       "       0, 0, 3, 0, 3, 0, 3, 3, 3, 3, 3, 3, 3, 0, 0, 0, 0, 3, 0, 3, 3, 3,\n",
       "       0, 0, 0, 3, 0, 0, 0, 0, 0, 3, 0, 0, 2, 3, 2, 2, 2, 2, 0, 2, 2, 2,\n",
       "       3, 3, 2, 3, 3, 2, 2, 2, 2, 3, 2, 3, 2, 3, 2, 2, 3, 3, 2, 2, 2, 2,\n",
       "       2, 3, 3, 2, 2, 2, 3, 2, 2, 2, 3, 2, 2, 2, 3, 3, 2, 3])"
      ]
     },
     "execution_count": 33,
     "metadata": {},
     "output_type": "execute_result"
    }
   ],
   "source": [
    "# k = 4일 때 k-means 군집모형으로 군집 형성\n",
    "kmeans_k4 = KMeans(n_clusters = 4, random_state = 2022)\n",
    "labels_pred_k4 = kmeans_k4.fit_predict(data)\n",
    "labels_pred_k4"
   ]
  },
  {
   "cell_type": "code",
   "execution_count": 34,
   "id": "35a1d3e3-f0d8-4648-9be9-dba26b800050",
   "metadata": {
    "tags": []
   },
   "outputs": [],
   "source": [
    "# 개체별로 연결법에 따른 실루엣 계수 계산\n",
    "import pandas as pd   # 데이터프레임 생성해야 함"
   ]
  },
  {
   "cell_type": "code",
   "execution_count": 37,
   "id": "c76aa07d-0fae-48fa-9211-62f55b6ed38e",
   "metadata": {
    "tags": []
   },
   "outputs": [],
   "source": [
    "# k = 2일 때\n",
    "sil_k2 = silhouette_samples(data, labels_pred_k2)     # 개체별 실루엣계수"
   ]
  },
  {
   "cell_type": "code",
   "execution_count": 39,
   "id": "4f842fe1-f8c7-41b1-819e-4aa1e454d0fc",
   "metadata": {
    "tags": []
   },
   "outputs": [
    {
     "data": {
      "text/html": [
       "<div>\n",
       "<style scoped>\n",
       "    .dataframe tbody tr th:only-of-type {\n",
       "        vertical-align: middle;\n",
       "    }\n",
       "\n",
       "    .dataframe tbody tr th {\n",
       "        vertical-align: top;\n",
       "    }\n",
       "\n",
       "    .dataframe thead th {\n",
       "        text-align: right;\n",
       "    }\n",
       "</style>\n",
       "<table border=\"1\" class=\"dataframe\">\n",
       "  <thead>\n",
       "    <tr style=\"text-align: right;\">\n",
       "      <th></th>\n",
       "      <th>labels</th>\n",
       "      <th>silhouette</th>\n",
       "    </tr>\n",
       "  </thead>\n",
       "  <tbody>\n",
       "    <tr>\n",
       "      <th>0</th>\n",
       "      <td>0</td>\n",
       "      <td>0.852225</td>\n",
       "    </tr>\n",
       "    <tr>\n",
       "      <th>1</th>\n",
       "      <td>0</td>\n",
       "      <td>0.826916</td>\n",
       "    </tr>\n",
       "    <tr>\n",
       "      <th>2</th>\n",
       "      <td>0</td>\n",
       "      <td>0.835426</td>\n",
       "    </tr>\n",
       "    <tr>\n",
       "      <th>3</th>\n",
       "      <td>0</td>\n",
       "      <td>0.819249</td>\n",
       "    </tr>\n",
       "    <tr>\n",
       "      <th>4</th>\n",
       "      <td>0</td>\n",
       "      <td>0.848731</td>\n",
       "    </tr>\n",
       "  </tbody>\n",
       "</table>\n",
       "</div>"
      ],
      "text/plain": [
       "   labels  silhouette\n",
       "0       0    0.852225\n",
       "1       0    0.826916\n",
       "2       0    0.835426\n",
       "3       0    0.819249\n",
       "4       0    0.848731"
      ]
     },
     "execution_count": 39,
     "metadata": {},
     "output_type": "execute_result"
    }
   ],
   "source": [
    "# 개체별 예측 레이블과 실루엣계수를 각각 칼럼으로 가지는 df 생성\n",
    "df_k2 = pd.DataFrame( {'labels': labels_pred_k2, 'silhouette': sil_k2} )\n",
    "df_k2.head()"
   ]
  },
  {
   "cell_type": "code",
   "execution_count": 40,
   "id": "98b4d68e-8a40-4530-a967-987e59304ca5",
   "metadata": {
    "tags": []
   },
   "outputs": [
    {
     "data": {
      "text/plain": [
       "labels\n",
       "0    0.769526\n",
       "1    0.632701\n",
       "Name: silhouette, dtype: float64"
      ]
     },
     "execution_count": 40,
     "metadata": {},
     "output_type": "execute_result"
    }
   ],
   "source": [
    "# 레이블별 실루엣계수 평균\n",
    "df_k2.groupby('labels')['silhouette'].mean()"
   ]
  },
  {
   "cell_type": "code",
   "execution_count": 42,
   "id": "657f734a-267b-4ede-80ce-c091a73fcb02",
   "metadata": {
    "tags": []
   },
   "outputs": [
    {
     "data": {
      "text/plain": [
       "0.6810461692117462"
      ]
     },
     "execution_count": 42,
     "metadata": {},
     "output_type": "execute_result"
    }
   ],
   "source": [
    "# 전체 실루엣계수 평균\n",
    "silhouette_score(data, labels_pred_k2)"
   ]
  },
  {
   "cell_type": "code",
   "execution_count": 43,
   "id": "14e9ca3a-4444-40eb-8940-1210e37c11f6",
   "metadata": {
    "tags": []
   },
   "outputs": [],
   "source": [
    "# k = 3일 때\n",
    "sil_k3 = silhouette_samples(data, labels_pred_k3)        # 개체별 실루엣계수"
   ]
  },
  {
   "cell_type": "code",
   "execution_count": 44,
   "id": "7e54ce32-fa7e-4132-aaa4-b0b97c39cd10",
   "metadata": {
    "tags": []
   },
   "outputs": [],
   "source": [
    "# 개체별 예측 레이블과 실루엣계수를 각각 컬럼으로 가지는 데이터프레임 생성\n",
    "df_k3 = pd.DataFrame( {'labels': labels_pred_k3, 'silhouette': sil_k3} )"
   ]
  },
  {
   "cell_type": "code",
   "execution_count": 45,
   "id": "2f8c493a-a98c-4eba-8a13-1770c2a56f54",
   "metadata": {
    "tags": []
   },
   "outputs": [
    {
     "data": {
      "text/plain": [
       "labels\n",
       "0    0.798140\n",
       "1    0.417320\n",
       "2    0.451105\n",
       "Name: silhouette, dtype: float64"
      ]
     },
     "execution_count": 45,
     "metadata": {},
     "output_type": "execute_result"
    }
   ],
   "source": [
    "# 레이블별 실루엣계수의 평균\n",
    "df_k3.groupby('labels')['silhouette'].mean()"
   ]
  },
  {
   "cell_type": "code",
   "execution_count": 46,
   "id": "cf2544d4-e2a9-45c7-bb2b-6cba03413402",
   "metadata": {
    "tags": []
   },
   "outputs": [
    {
     "data": {
      "text/plain": [
       "0.5528190123564095"
      ]
     },
     "execution_count": 46,
     "metadata": {},
     "output_type": "execute_result"
    }
   ],
   "source": [
    "# 전체 실루엣계수 평균\n",
    "silhouette_score(data, labels_pred_k3)"
   ]
  },
  {
   "cell_type": "code",
   "execution_count": 47,
   "id": "b9b3786f-0b88-41b9-a813-9e26a5ba3ab2",
   "metadata": {
    "tags": []
   },
   "outputs": [],
   "source": [
    "# k = 4일 때\n",
    "sil_k4 = silhouette_samples(data, labels_pred_k4)     # 개체별 실루엣계수"
   ]
  },
  {
   "cell_type": "code",
   "execution_count": 50,
   "id": "f10004b4-1a85-4161-882c-04491e583980",
   "metadata": {
    "tags": []
   },
   "outputs": [],
   "source": [
    "# 개체별 예측 레이블과 실루엣계수를 각각 칼럼으로 가지는 데이터프레임 생성\n",
    "df_k4 = pd.DataFrame( {'labels': labels_pred_k4, 'silhouette': sil_k4} )"
   ]
  },
  {
   "cell_type": "code",
   "execution_count": 51,
   "id": "fa4e71fe-7e52-4f2d-80e9-c20bf08f5b87",
   "metadata": {
    "tags": []
   },
   "outputs": [
    {
     "data": {
      "text/plain": [
       "labels\n",
       "0    0.419518\n",
       "1    0.763176\n",
       "2    0.321324\n",
       "3    0.362998\n",
       "Name: silhouette, dtype: float64"
      ]
     },
     "execution_count": 51,
     "metadata": {},
     "output_type": "execute_result"
    }
   ],
   "source": [
    "# 레이블별 실루엣계수의 평균\n",
    "df_k4.groupby('labels')['silhouette'].mean()"
   ]
  },
  {
   "cell_type": "code",
   "execution_count": 52,
   "id": "119d17a9-4d4f-423c-98ac-4e7148c66510",
   "metadata": {
    "tags": []
   },
   "outputs": [
    {
     "data": {
      "text/plain": [
       "0.49805050499728737"
      ]
     },
     "execution_count": 52,
     "metadata": {},
     "output_type": "execute_result"
    }
   ],
   "source": [
    "# 전체 실루엣계수\n",
    "silhouette_score(data, labels_pred_k4)"
   ]
  }
 ],
 "metadata": {
  "kernelspec": {
   "display_name": "Python 3 (ipykernel)",
   "language": "python",
   "name": "python3"
  },
  "language_info": {
   "codemirror_mode": {
    "name": "ipython",
    "version": 3
   },
   "file_extension": ".py",
   "mimetype": "text/x-python",
   "name": "python",
   "nbconvert_exporter": "python",
   "pygments_lexer": "ipython3",
   "version": "3.11.5"
  }
 },
 "nbformat": 4,
 "nbformat_minor": 5
}
