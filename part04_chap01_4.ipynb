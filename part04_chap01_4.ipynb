{
 "cells": [
  {
   "cell_type": "markdown",
   "id": "ebd8a596-dc4a-4330-8409-0f8ffedd9a97",
   "metadata": {},
   "source": [
    "## Part 04 머신러닝 - 1장 지도 학습 모형\n",
    "\n",
    "### 9절: 앙상블\n",
    "- 사이킷런에서 지원하는 앙상블 모형은 배깅(Bagging), 랜덤포레스트(Random Forest), 에이다부스트(AdaBoost), 그래디언트부스팅(Gradient Boosting) 등이 있음\n",
    "- +) 사이킷런에서는 지원하지 않지만 별도의 패키지에서 사용 가능한 앙상블 모형인 XGBoost와 LightGBM의 모형객체 생성하는 방법\n",
    "\n",
    "<br>\n",
    "\n",
    "#### **1) 배깅 (Bagging)**\n",
    "\n",
    "- 배깅은 사이킷런 서브패키지 ```ensemble``` 내 클래스 ```BaggingClassifer()```, ```BaggingRegressor()``` 등을 통해 모형객체를 생성할 수 있음\n",
    "- BaggingClassifier는 이진분류와 다지분류, BaggingRegressor는 연속형 타겟변수에 사용됨  \n",
    "\n",
    "#### **1-1) BaggingClassifier**\n",
    "\n",
    "- 이진분류와 다지분류\n",
    "- ```sklearn.ensemble.BaggingClassifer(base_estimator = None, n_estimators = 10, max_samples = 1.0, max_features = 1.0, ...)```  \n",
    "   - **base_estimator**: 데이터의 랜덤 부분집합에 적합할 분류기. None(default)면 DecisionTressClassifer()\n",
    "   - **n_estimators**: 앙상블할 분류기의 수 (default = 10)\n",
    "   - **max_samples**: 각 분류기를 학습하기 위해 X에서 추출할 샘플의 수 (default = 1.0)\n",
    "   - **max_features**: 각 분류기를 학습하기 위해 X에서 사용한 컬럼의 수"
   ]
  },
  {
   "cell_type": "markdown",
   "id": "43fbdc74-9f09-4017-bcef-799e71189803",
   "metadata": {},
   "source": [
    "#### Q.\n",
    "사이킷런 패키지 내 breast_cancer 데이터를 호출한 후 학습 데이터와 평가 데이터로 분할하고 클래스 BaggingClassifier()를 통해 이진분류 모형객체를 생성하고 학습한 후 평가 데이터로 목표값을 예측하고 성능을 측정하는 코드 작성하기 (단, 학습과 평가 데이터의 비율은 8:2로 하고, target의 비율을 반영하고 평가지표는 AUC 사용하기)"
   ]
  },
  {
   "cell_type": "code",
   "execution_count": 1,
   "id": "ea99f45c-5a21-4ed4-a265-3a5d82f506d4",
   "metadata": {
    "tags": []
   },
   "outputs": [],
   "source": [
    "# 클래스와 함수 불러오기\n",
    "from sklearn.tree import DecisionTreeClassifier\n",
    "from sklearn.ensemble import BaggingClassifier\n",
    "from sklearn.model_selection import train_test_split"
   ]
  },
  {
   "cell_type": "code",
   "execution_count": 2,
   "id": "ced60463-cbc8-4795-b8e1-2af77939afb1",
   "metadata": {
    "tags": []
   },
   "outputs": [],
   "source": [
    "# breast_cancer 데이터 가져오기\n",
    "from sklearn.datasets import load_breast_cancer\n",
    "breast_cancer = load_breast_cancer()\n",
    "data = breast_cancer.data\n",
    "target = breast_cancer.target"
   ]
  },
  {
   "cell_type": "code",
   "execution_count": 3,
   "id": "f6078a47-b39d-493b-80ae-444fea388636",
   "metadata": {
    "tags": []
   },
   "outputs": [],
   "source": [
    "# 데이터 분할\n",
    "X_train, X_test, y_train, y_test = train_test_split(data,\n",
    "                                                    target,\n",
    "                                                    test_size = 0.2,\n",
    "                                                    stratify = target,\n",
    "                                                    random_state = 2205)"
   ]
  },
  {
   "cell_type": "code",
   "execution_count": 4,
   "id": "c0bd9ae8-cdff-4f7b-abf8-126bc300b56c",
   "metadata": {
    "tags": []
   },
   "outputs": [],
   "source": [
    "# 모형객체 생성\n",
    "dtr = DecisionTreeClassifier(max_depth = 3, min_samples_leaf = 10)\n",
    "bag_bin = BaggingClassifier(base_estimator = dtr,\n",
    "                            n_estimators = 500,\n",
    "                            random_state = 2022)"
   ]
  },
  {
   "cell_type": "code",
   "execution_count": 5,
   "id": "b2ea10ac-4151-4bbd-9f48-953822e757f2",
   "metadata": {
    "tags": []
   },
   "outputs": [
    {
     "name": "stderr",
     "output_type": "stream",
     "text": [
      "C:\\Users\\kbr_u\\anaconda3\\Lib\\site-packages\\sklearn\\ensemble\\_base.py:156: FutureWarning: `base_estimator` was renamed to `estimator` in version 1.2 and will be removed in 1.4.\n",
      "  warnings.warn(\n"
     ]
    },
    {
     "data": {
      "text/html": [
       "<style>#sk-container-id-1 {color: black;}#sk-container-id-1 pre{padding: 0;}#sk-container-id-1 div.sk-toggleable {background-color: white;}#sk-container-id-1 label.sk-toggleable__label {cursor: pointer;display: block;width: 100%;margin-bottom: 0;padding: 0.3em;box-sizing: border-box;text-align: center;}#sk-container-id-1 label.sk-toggleable__label-arrow:before {content: \"▸\";float: left;margin-right: 0.25em;color: #696969;}#sk-container-id-1 label.sk-toggleable__label-arrow:hover:before {color: black;}#sk-container-id-1 div.sk-estimator:hover label.sk-toggleable__label-arrow:before {color: black;}#sk-container-id-1 div.sk-toggleable__content {max-height: 0;max-width: 0;overflow: hidden;text-align: left;background-color: #f0f8ff;}#sk-container-id-1 div.sk-toggleable__content pre {margin: 0.2em;color: black;border-radius: 0.25em;background-color: #f0f8ff;}#sk-container-id-1 input.sk-toggleable__control:checked~div.sk-toggleable__content {max-height: 200px;max-width: 100%;overflow: auto;}#sk-container-id-1 input.sk-toggleable__control:checked~label.sk-toggleable__label-arrow:before {content: \"▾\";}#sk-container-id-1 div.sk-estimator input.sk-toggleable__control:checked~label.sk-toggleable__label {background-color: #d4ebff;}#sk-container-id-1 div.sk-label input.sk-toggleable__control:checked~label.sk-toggleable__label {background-color: #d4ebff;}#sk-container-id-1 input.sk-hidden--visually {border: 0;clip: rect(1px 1px 1px 1px);clip: rect(1px, 1px, 1px, 1px);height: 1px;margin: -1px;overflow: hidden;padding: 0;position: absolute;width: 1px;}#sk-container-id-1 div.sk-estimator {font-family: monospace;background-color: #f0f8ff;border: 1px dotted black;border-radius: 0.25em;box-sizing: border-box;margin-bottom: 0.5em;}#sk-container-id-1 div.sk-estimator:hover {background-color: #d4ebff;}#sk-container-id-1 div.sk-parallel-item::after {content: \"\";width: 100%;border-bottom: 1px solid gray;flex-grow: 1;}#sk-container-id-1 div.sk-label:hover label.sk-toggleable__label {background-color: #d4ebff;}#sk-container-id-1 div.sk-serial::before {content: \"\";position: absolute;border-left: 1px solid gray;box-sizing: border-box;top: 0;bottom: 0;left: 50%;z-index: 0;}#sk-container-id-1 div.sk-serial {display: flex;flex-direction: column;align-items: center;background-color: white;padding-right: 0.2em;padding-left: 0.2em;position: relative;}#sk-container-id-1 div.sk-item {position: relative;z-index: 1;}#sk-container-id-1 div.sk-parallel {display: flex;align-items: stretch;justify-content: center;background-color: white;position: relative;}#sk-container-id-1 div.sk-item::before, #sk-container-id-1 div.sk-parallel-item::before {content: \"\";position: absolute;border-left: 1px solid gray;box-sizing: border-box;top: 0;bottom: 0;left: 50%;z-index: -1;}#sk-container-id-1 div.sk-parallel-item {display: flex;flex-direction: column;z-index: 1;position: relative;background-color: white;}#sk-container-id-1 div.sk-parallel-item:first-child::after {align-self: flex-end;width: 50%;}#sk-container-id-1 div.sk-parallel-item:last-child::after {align-self: flex-start;width: 50%;}#sk-container-id-1 div.sk-parallel-item:only-child::after {width: 0;}#sk-container-id-1 div.sk-dashed-wrapped {border: 1px dashed gray;margin: 0 0.4em 0.5em 0.4em;box-sizing: border-box;padding-bottom: 0.4em;background-color: white;}#sk-container-id-1 div.sk-label label {font-family: monospace;font-weight: bold;display: inline-block;line-height: 1.2em;}#sk-container-id-1 div.sk-label-container {text-align: center;}#sk-container-id-1 div.sk-container {/* jupyter's `normalize.less` sets `[hidden] { display: none; }` but bootstrap.min.css set `[hidden] { display: none !important; }` so we also need the `!important` here to be able to override the default hidden behavior on the sphinx rendered scikit-learn.org. See: https://github.com/scikit-learn/scikit-learn/issues/21755 */display: inline-block !important;position: relative;}#sk-container-id-1 div.sk-text-repr-fallback {display: none;}</style><div id=\"sk-container-id-1\" class=\"sk-top-container\"><div class=\"sk-text-repr-fallback\"><pre>BaggingClassifier(base_estimator=DecisionTreeClassifier(max_depth=3,\n",
       "                                                        min_samples_leaf=10),\n",
       "                  n_estimators=500, random_state=2022)</pre><b>In a Jupyter environment, please rerun this cell to show the HTML representation or trust the notebook. <br />On GitHub, the HTML representation is unable to render, please try loading this page with nbviewer.org.</b></div><div class=\"sk-container\" hidden><div class=\"sk-item sk-dashed-wrapped\"><div class=\"sk-label-container\"><div class=\"sk-label sk-toggleable\"><input class=\"sk-toggleable__control sk-hidden--visually\" id=\"sk-estimator-id-1\" type=\"checkbox\" ><label for=\"sk-estimator-id-1\" class=\"sk-toggleable__label sk-toggleable__label-arrow\">BaggingClassifier</label><div class=\"sk-toggleable__content\"><pre>BaggingClassifier(base_estimator=DecisionTreeClassifier(max_depth=3,\n",
       "                                                        min_samples_leaf=10),\n",
       "                  n_estimators=500, random_state=2022)</pre></div></div></div><div class=\"sk-parallel\"><div class=\"sk-parallel-item\"><div class=\"sk-item\"><div class=\"sk-label-container\"><div class=\"sk-label sk-toggleable\"><input class=\"sk-toggleable__control sk-hidden--visually\" id=\"sk-estimator-id-2\" type=\"checkbox\" ><label for=\"sk-estimator-id-2\" class=\"sk-toggleable__label sk-toggleable__label-arrow\">base_estimator: DecisionTreeClassifier</label><div class=\"sk-toggleable__content\"><pre>DecisionTreeClassifier(max_depth=3, min_samples_leaf=10)</pre></div></div></div><div class=\"sk-serial\"><div class=\"sk-item\"><div class=\"sk-estimator sk-toggleable\"><input class=\"sk-toggleable__control sk-hidden--visually\" id=\"sk-estimator-id-3\" type=\"checkbox\" ><label for=\"sk-estimator-id-3\" class=\"sk-toggleable__label sk-toggleable__label-arrow\">DecisionTreeClassifier</label><div class=\"sk-toggleable__content\"><pre>DecisionTreeClassifier(max_depth=3, min_samples_leaf=10)</pre></div></div></div></div></div></div></div></div></div></div>"
      ],
      "text/plain": [
       "BaggingClassifier(base_estimator=DecisionTreeClassifier(max_depth=3,\n",
       "                                                        min_samples_leaf=10),\n",
       "                  n_estimators=500, random_state=2022)"
      ]
     },
     "execution_count": 5,
     "metadata": {},
     "output_type": "execute_result"
    }
   ],
   "source": [
    "# 모델학습\n",
    "model_bag_bin = bag_bin.fit(X_train, y_train)\n",
    "model_bag_bin"
   ]
  },
  {
   "cell_type": "code",
   "execution_count": 6,
   "id": "a34c7180-4bd9-4338-8053-58b16ad09216",
   "metadata": {
    "tags": []
   },
   "outputs": [],
   "source": [
    "# ROC\n",
    "from sklearn.metrics import roc_curve, auc\n",
    "y_score = model_bag_bin.predict_proba(X_test)[:, 1]"
   ]
  },
  {
   "cell_type": "code",
   "execution_count": 7,
   "id": "ac5b7941-233e-4140-9fc9-b71e28997374",
   "metadata": {
    "tags": []
   },
   "outputs": [
    {
     "name": "stdout",
     "output_type": "stream",
     "text": [
      "[0.         0.         0.         0.         0.         0.\n",
      " 0.         0.         0.04761905 0.04761905 0.14285714 0.14285714\n",
      " 0.95238095 1.        ]\n",
      "[0.         0.01388889 0.05555556 0.08333333 0.125      0.34722222\n",
      " 0.38888889 0.97222222 0.97222222 0.98611111 0.98611111 1.\n",
      " 1.         1.        ]\n",
      "[           inf 9.92764022e-01 9.92689948e-01 9.92597355e-01\n",
      " 9.92585450e-01 9.90710704e-01 9.90015109e-01 3.55463969e-01\n",
      " 2.61973429e-01 2.59376355e-01 1.83090882e-01 1.59505066e-01\n",
      " 1.94396858e-03 8.48397484e-04]\n"
     ]
    }
   ],
   "source": [
    "fpr, tpr, thresholds = roc_curve(y_test, y_score)\n",
    "print(fpr)\n",
    "print(tpr)\n",
    "print(thresholds)"
   ]
  },
  {
   "cell_type": "code",
   "execution_count": 8,
   "id": "8c9ff4da-dd74-4e45-9eb1-a7d47a4e4501",
   "metadata": {
    "tags": []
   },
   "outputs": [
    {
     "data": {
      "text/plain": [
       "0.9973544973544974"
      ]
     },
     "execution_count": 8,
     "metadata": {},
     "output_type": "execute_result"
    }
   ],
   "source": [
    "# AUC\n",
    "AUC = auc(fpr, tpr)\n",
    "AUC"
   ]
  },
  {
   "cell_type": "markdown",
   "id": "45e25928-c5ab-4e5a-8c96-62321a7f0766",
   "metadata": {},
   "source": [
    "<br>\n",
    "\n",
    "#### Q.\n",
    "사이킷런 패키지 내 iris 데이터를 호출한 후 학습 데이터와 평가 데이터로 분할하고 클래스 BaggingClassifier()를 통해 다지분류 모형객체를 생성하고 학습한 후 평가 데이터로 목표값을 예측하고 성능을 측정하는 코드 작성하기 (단, 학습과 평가 데이터의 비율은 8:2로 하고, target의 비율을 반영하고 평가지표는 macro f1-score 사용하기)"
   ]
  },
  {
   "cell_type": "code",
   "execution_count": 9,
   "id": "a819717e-23e4-4d35-80b8-2c53a81c07ad",
   "metadata": {
    "tags": []
   },
   "outputs": [],
   "source": [
    "# 클래스 함수 불러오기\n",
    "from sklearn.ensemble import BaggingClassifier\n",
    "from sklearn.tree import DecisionTreeClassifier\n",
    "from sklearn.model_selection import train_test_split"
   ]
  },
  {
   "cell_type": "code",
   "execution_count": 10,
   "id": "91b3e3a6-c32b-47ae-908a-799a0d1095fb",
   "metadata": {
    "tags": []
   },
   "outputs": [],
   "source": [
    "# iris 데이터 가져오기\n",
    "from sklearn.datasets import load_iris\n",
    "iris = load_iris()\n",
    "data = iris.data\n",
    "target = iris.target"
   ]
  },
  {
   "cell_type": "code",
   "execution_count": 11,
   "id": "491d96ea-5099-48dd-8524-08d96fde21f3",
   "metadata": {
    "tags": []
   },
   "outputs": [],
   "source": [
    "# 데이터 분할하기\n",
    "X_train, X_test, y_train, y_test = train_test_split(data,\n",
    "                                                    target,\n",
    "                                                    test_size = 0.2, \n",
    "                                                    stratify = target,\n",
    "                                                    random_state = 2205)"
   ]
  },
  {
   "cell_type": "code",
   "execution_count": 12,
   "id": "8d5fc2af-1bf9-404c-88c4-77e70b5ea001",
   "metadata": {
    "tags": []
   },
   "outputs": [],
   "source": [
    "# 모형객체 생성\n",
    "dtr = DecisionTreeClassifier(max_depth = 3, min_samples_leaf = 10)\n",
    "bag_multi = BaggingClassifier(base_estimator = dtr,\n",
    "                              n_estimators = 500,\n",
    "                              random_state = 2022)"
   ]
  },
  {
   "cell_type": "code",
   "execution_count": 13,
   "id": "e7f9a19e-9df4-4ee2-8ac0-bdb6c807b249",
   "metadata": {
    "tags": []
   },
   "outputs": [
    {
     "name": "stderr",
     "output_type": "stream",
     "text": [
      "C:\\Users\\kbr_u\\anaconda3\\Lib\\site-packages\\sklearn\\ensemble\\_base.py:156: FutureWarning: `base_estimator` was renamed to `estimator` in version 1.2 and will be removed in 1.4.\n",
      "  warnings.warn(\n"
     ]
    }
   ],
   "source": [
    "# 모엘학습\n",
    "model_bag_multi = bag_multi.fit(X_train, y_train)"
   ]
  },
  {
   "cell_type": "code",
   "execution_count": 14,
   "id": "a8c0d42f-126c-402a-8ff4-21ad35b9a220",
   "metadata": {
    "tags": []
   },
   "outputs": [],
   "source": [
    "# macro f1-score\n",
    "from sklearn.metrics import f1_score\n",
    "y_pred = model_bag_multi.predict(X_test)"
   ]
  },
  {
   "cell_type": "code",
   "execution_count": 15,
   "id": "d9fa7990-10f9-4165-9515-0ed5a7d1d7ba",
   "metadata": {
    "tags": []
   },
   "outputs": [
    {
     "data": {
      "text/plain": [
       "0.9665831244778613"
      ]
     },
     "execution_count": 15,
     "metadata": {},
     "output_type": "execute_result"
    }
   ],
   "source": [
    "macro_f1 = f1_score(y_test, y_pred, average='macro')\n",
    "macro_f1"
   ]
  },
  {
   "cell_type": "markdown",
   "id": "8bcb414e-23a1-41cf-9b0a-4c8839036f1f",
   "metadata": {},
   "source": [
    "<br><br>\n",
    "\n",
    "#### **1-2) BaggingRegressor**\n",
    "\n",
    "- 연속형 타겟변수\n",
    "- ```sklearn.ensemble.BaggingRegressor(base_estimator = None, n_estimators = 10, max_samples = 1.0, max_features = 1.0, ...)```  \n",
    "   - **base_estimator**: 데이터의 랜덤 부분집합에 적합할 분류기. None(default)면 DecisionTressClassifer()\n",
    "   - **n_estimators**: 앙상블할 분류기의 수 (default = 10)\n",
    "   - **max_samples**: 각 분류기를 학습하기 위해 X에서 추출할 샘플의 수 (default = 1.0)\n",
    "   - **max_features**: 각 분류기를 학습하기 위해 X에서 사용한 컬럼의 수"
   ]
  },
  {
   "cell_type": "markdown",
   "id": "6d7c22e4-7048-4778-acd5-fcf4fca4215d",
   "metadata": {},
   "source": [
    "#### Q.\n",
    "사이킷런 패키지 내 diabetes 데이터를 호출한 후 학습 데이터와 평가 데이터로 분할하고 클래스 BaggingRegressor()를 통해 연속형 예측 모형객체를 생성하고 학습한 후 평가 데이터로 목표값을 예측하고 성능을 측정하는 코드 작성하기 (단, 학습과 평가 데이터의 비율은 8:2로 하고, 평가지표는 RMSE 사용하기)"
   ]
  },
  {
   "cell_type": "code",
   "execution_count": 16,
   "id": "de5dab0c-9354-4198-b4c2-fe5120a977d8",
   "metadata": {
    "tags": []
   },
   "outputs": [],
   "source": [
    "# 클래스 함수 불러오기\n",
    "from sklearn.ensemble import BaggingRegressor\n",
    "from sklearn.tree import DecisionTreeRegressor\n",
    "from sklearn.model_selection import train_test_split"
   ]
  },
  {
   "cell_type": "code",
   "execution_count": 17,
   "id": "925a57fc-74e0-439d-9ce2-ff37542e1219",
   "metadata": {
    "tags": []
   },
   "outputs": [],
   "source": [
    "# diabetes 데이터 가져오기\n",
    "from sklearn.datasets import load_diabetes\n",
    "diabetes = load_diabetes()\n",
    "data = diabetes.data\n",
    "target = diabetes.target"
   ]
  },
  {
   "cell_type": "code",
   "execution_count": 18,
   "id": "11d48f8a-59d0-4eb6-981f-6c67d24a5a29",
   "metadata": {
    "tags": []
   },
   "outputs": [],
   "source": [
    "# 데이터 분할하기\n",
    "X_train, X_test, y_train, y_test = train_test_split(data,\n",
    "                                                    target,\n",
    "                                                    test_size = 0.2, \n",
    "                                                    random_state = 2205)"
   ]
  },
  {
   "cell_type": "code",
   "execution_count": 19,
   "id": "9659eaac-0e61-4838-9053-a4bf5fe5da9b",
   "metadata": {
    "tags": []
   },
   "outputs": [],
   "source": [
    "# 모델객체 생성\n",
    "dtr = DecisionTreeRegressor(max_depth = 3, min_samples_leaf = 10)\n",
    "bag_conti = BaggingRegressor(base_estimator = dtr,\n",
    "                             n_estimators = 500,\n",
    "                             random_state = 2022)"
   ]
  },
  {
   "cell_type": "code",
   "execution_count": 20,
   "id": "0c58ecc7-19b9-48eb-8747-246d093041e1",
   "metadata": {
    "tags": []
   },
   "outputs": [
    {
     "name": "stderr",
     "output_type": "stream",
     "text": [
      "C:\\Users\\kbr_u\\anaconda3\\Lib\\site-packages\\sklearn\\ensemble\\_base.py:156: FutureWarning: `base_estimator` was renamed to `estimator` in version 1.2 and will be removed in 1.4.\n",
      "  warnings.warn(\n"
     ]
    }
   ],
   "source": [
    "# 모델학습\n",
    "model_bag_conti = bag_conti.fit(X_train, y_train)"
   ]
  },
  {
   "cell_type": "code",
   "execution_count": 21,
   "id": "d43eb20e-1b18-49f0-9940-ff5ea4c9f26a",
   "metadata": {
    "tags": []
   },
   "outputs": [],
   "source": [
    "# RMSE\n",
    "from sklearn.metrics import mean_squared_error\n",
    "y_pred = model_bag_conti.predict(X_test)"
   ]
  },
  {
   "cell_type": "code",
   "execution_count": 22,
   "id": "0fa9553d-f976-45bf-8d62-d0be8107f4f3",
   "metadata": {
    "tags": []
   },
   "outputs": [
    {
     "data": {
      "text/plain": [
       "62.45208491746776"
      ]
     },
     "execution_count": 22,
     "metadata": {},
     "output_type": "execute_result"
    }
   ],
   "source": [
    "rmse = mean_squared_error(y_test, y_pred, squared = False)\n",
    "rmse"
   ]
  },
  {
   "cell_type": "markdown",
   "id": "ebd91f33-4683-4efe-a0d8-f8e7297d5020",
   "metadata": {},
   "source": [
    "<br><br><br>\n",
    "<hr>\n",
    "\n",
    "#### **2) 랜덤포레스트 (RandomForest)**\n",
    "\n",
    "- 랜덤포레스트는 사이킷런 서브패키지 ```ensemble``` 내 클래스 ```RandomForestClassifier()```, ```RandomForestRegressor()``` 등을 통해 모형객체를 생성할 수 있음\n",
    "- RandomForestClassifier는 이진분류와 다지분류, RandomForestRegressor는 연속형 타겟변수에 사용됨  \n",
    "\n",
    "#### **2-1) RandomForestClassifier**\n",
    "\n",
    "- 이진분류와 다지분류\n",
    "- ```sklearn.ensemble.RandomForestClassifier(n_estimators = 100, criterion = 'gini', max_depth = None, min_samples_leaf = 1, max_features = 'sqrt', ...)```  \n",
    "   - **n_estimators**: 트리의 수 (default = 100)\n",
    "   - **criterion**: 분할에 기준이 되는 지표\n",
    "      - 'gini' (default)\n",
    "      - 'entropy'\n",
    "      - 'log_loss'\n",
    "   - **max_depth**: 트리의 최대 깊이 (default = None)\n",
    "   - **min_samples_leaf**: 리프 노드에 있어야 하는 최소 샘플 수 (default = 1)\n",
    "   - **max_features**: 최적의 분할을 찾을 때 고려할 컬럼 수 (default= 'sqrt')\n",
    "      - 'auto'\n",
    "      - 'sqrt': sqrt(컬럼수)\n",
    "      - 'log2': log2(컬럼수),\n",
    "      - 'None': 컬럼수 또는 원하는 컬럼 수를 정수로 직접 입력 가능"
   ]
  },
  {
   "cell_type": "markdown",
   "id": "586d5742-619e-4c6c-9ca5-6a74df2ec89c",
   "metadata": {},
   "source": [
    "<br>\n",
    "\n",
    "#### Q.\n",
    "사이킷런 패키지 내 breast_cancer 데이터를 호출한 후 학습 데이터와 평가 데이터로 분할하고 클래스 RandomForestClassifier()를 통해 이진분류 모형객체를 생성하고 학습한 후 평가 데이터로 목표값을 예측하고 성능을 측정하는 코드 작성하기 (단, 학습과 평가 데이터의 비율은 8:2로 하고, target의 비율을 반영하고 평가지표는 AUC 사용하기)"
   ]
  },
  {
   "cell_type": "code",
   "execution_count": 23,
   "id": "cd26833c-a211-48b6-ad02-14899ecebb74",
   "metadata": {
    "tags": []
   },
   "outputs": [],
   "source": [
    "# 클래스 함수 불러오기\n",
    "from sklearn.ensemble import RandomForestClassifier\n",
    "from sklearn.model_selection import train_test_split"
   ]
  },
  {
   "cell_type": "code",
   "execution_count": 25,
   "id": "332e83e6-455b-4eea-b24a-f45468980c93",
   "metadata": {
    "tags": []
   },
   "outputs": [],
   "source": [
    "# breast_cancer 데이터 가져오기\n",
    "from sklearn.datasets import load_breast_cancer\n",
    "breast_cancer = load_breast_cancer()\n",
    "data = breast_cancer.data\n",
    "target = breast_cancer.target"
   ]
  },
  {
   "cell_type": "code",
   "execution_count": 26,
   "id": "04a87c12-a909-4257-93aa-120847ffffb7",
   "metadata": {
    "tags": []
   },
   "outputs": [],
   "source": [
    "# 데이터 분할하기\n",
    "X_train, X_test, y_train, y_test = train_test_split(data,\n",
    "                                                    target,\n",
    "                                                    test_size = 0.2,\n",
    "                                                    stratify = target,\n",
    "                                                    random_state = 2205)"
   ]
  },
  {
   "cell_type": "code",
   "execution_count": 27,
   "id": "0a5d8c3b-9ad8-4346-8af9-0dfd73877bf5",
   "metadata": {
    "tags": []
   },
   "outputs": [],
   "source": [
    "# 모형객체 생성\n",
    "rf_bin = RandomForestClassifier(n_estimators = 500,\n",
    "                                max_depth = 3,\n",
    "                                min_samples_leaf = 10,\n",
    "                                max_features = 'sqrt',\n",
    "                                random_state = 2022)"
   ]
  },
  {
   "cell_type": "code",
   "execution_count": 28,
   "id": "2b1f49e4-42fd-4e55-b712-c2195332ac8e",
   "metadata": {
    "tags": []
   },
   "outputs": [],
   "source": [
    "# 모델학습\n",
    "model_rf_bin = rf_bin.fit(X_train, y_train)"
   ]
  },
  {
   "cell_type": "code",
   "execution_count": 29,
   "id": "7e2bded4-f426-4a1f-a25f-35bf944b9e4d",
   "metadata": {
    "tags": []
   },
   "outputs": [],
   "source": [
    "# ROC\n",
    "from sklearn.metrics import roc_curve, auc\n",
    "y_score = model_rf_bin.predict_proba(X_test)[:, 1]"
   ]
  },
  {
   "cell_type": "code",
   "execution_count": 30,
   "id": "87700b13-94a8-4e66-bd5a-9302eade3a93",
   "metadata": {
    "tags": []
   },
   "outputs": [
    {
     "name": "stdout",
     "output_type": "stream",
     "text": [
      "[0.         0.         0.         0.02380952 0.02380952 1.        ]\n",
      "[0.         0.01388889 0.98611111 0.98611111 1.         1.        ]\n",
      "[       inf 0.98976089 0.39041401 0.37395488 0.36962848 0.00407486]\n"
     ]
    }
   ],
   "source": [
    "fpr, tpr, thresholds = roc_curve(y_test, y_score)\n",
    "print(fpr)\n",
    "print(tpr)\n",
    "print(thresholds)"
   ]
  },
  {
   "cell_type": "code",
   "execution_count": 31,
   "id": "b0054d82-728e-4205-80af-0d2c47cbf98c",
   "metadata": {
    "tags": []
   },
   "outputs": [
    {
     "data": {
      "text/plain": [
       "0.9996693121693121"
      ]
     },
     "execution_count": 31,
     "metadata": {},
     "output_type": "execute_result"
    }
   ],
   "source": [
    "# AUC\n",
    "AUC = auc(fpr, tpr)\n",
    "AUC"
   ]
  },
  {
   "cell_type": "markdown",
   "id": "5dfa29e2-8783-4330-8771-e758d5383d89",
   "metadata": {},
   "source": [
    "<br>\n",
    "\n",
    "#### Q.\n",
    "사이킷런 패키지 내 iris 데이터를 호출한 후 학습 데이터와 평가 데이터로 분할하고 클래스 RandomForestClassifer()를 통해 다지분류 모형객체를 생성하고 학습한 후 평가 데이터로 목표값을 예측하고 성능을 측정하는 코드 작성하기 (단, 학습과 평가 데이터의 비율은 8:2로 하고, target의 비율을 반영하고 평가지표는 macro f1-score 사용하기)"
   ]
  },
  {
   "cell_type": "code",
   "execution_count": 32,
   "id": "b3e13acf-dd7d-4726-aba5-826eb03c920d",
   "metadata": {
    "tags": []
   },
   "outputs": [],
   "source": [
    "# 클래스 함수 불러오기\n",
    "from sklearn.ensemble import RandomForestClassifier\n",
    "from sklearn.model_selection import train_test_split"
   ]
  },
  {
   "cell_type": "code",
   "execution_count": 33,
   "id": "99fcf555-8d89-43bb-8f91-824f3f3d3e2a",
   "metadata": {
    "tags": []
   },
   "outputs": [],
   "source": [
    "# iris 데이터 가져오기\n",
    "from sklearn.datasets import load_iris\n",
    "iris = load_iris()\n",
    "data = iris.data\n",
    "target = iris.target"
   ]
  },
  {
   "cell_type": "code",
   "execution_count": 35,
   "id": "99b45763-1ab4-4ad9-8911-66445d864043",
   "metadata": {
    "tags": []
   },
   "outputs": [],
   "source": [
    "# 데이터 분할하기\n",
    "X_train, X_test, y_train, y_test = train_test_split(data,\n",
    "                                                    target,\n",
    "                                                    test_size = 0.2, \n",
    "                                                    stratify = target,\n",
    "                                                    random_state = 2205)"
   ]
  },
  {
   "cell_type": "code",
   "execution_count": 36,
   "id": "553e1f4f-77cc-4571-85ae-a93054463349",
   "metadata": {
    "tags": []
   },
   "outputs": [],
   "source": [
    "# 모델객체 생성\n",
    "rf_multi = RandomForestClassifier(n_estimators = 500,\n",
    "                                  max_depth = 3,\n",
    "                                  min_samples_leaf = 15,\n",
    "                                  max_features = 'sqrt',\n",
    "                                  random_state = 2022)"
   ]
  },
  {
   "cell_type": "code",
   "execution_count": 37,
   "id": "8517bef3-2766-4aa9-bf52-f5bdf7fc3356",
   "metadata": {
    "tags": []
   },
   "outputs": [],
   "source": [
    "# 모델학습\n",
    "model_rf_multi = rf_multi.fit(X_train, y_train)"
   ]
  },
  {
   "cell_type": "code",
   "execution_count": 39,
   "id": "dddf159d-039c-4d35-86b5-37f5bf372717",
   "metadata": {
    "tags": []
   },
   "outputs": [],
   "source": [
    "# macro f1-score\n",
    "from sklearn.metrics import f1_score\n",
    "y_pred = model_rf_multi.predict(X_test)"
   ]
  },
  {
   "cell_type": "code",
   "execution_count": 40,
   "id": "e6bbf469-2465-4c94-af2d-00fc22b8be5c",
   "metadata": {
    "tags": []
   },
   "outputs": [
    {
     "data": {
      "text/plain": [
       "0.9665831244778613"
      ]
     },
     "execution_count": 40,
     "metadata": {},
     "output_type": "execute_result"
    }
   ],
   "source": [
    "macro_f1 = f1_score(y_test, y_pred, average = 'macro')\n",
    "macro_f1"
   ]
  },
  {
   "cell_type": "markdown",
   "id": "0948cd27-2bd0-4266-951d-a063bbbb4025",
   "metadata": {},
   "source": [
    "<br><br>\n",
    "\n",
    "#### **2-2) RandomForestRegressor**\n",
    "\n",
    "- 연속형 타겟변수\n",
    "- ```sklearn.ensemble.RandomForestRegressor(n_estimators = 100, criterion = 'squared_error', max_depth = None, min_samples_leaf = 1, max_features = 1.0, ...)```  \n",
    "   - **n_estimators**: 트리의 수 (default = 100)\n",
    "   - **criterion**: 분할에 기준이 되는 지표\n",
    "      - 'squared_error' (default)\n",
    "      - 'abolute_error'\n",
    "   - **max_depth**: 트리의 최대 깊이 (default = None)\n",
    "   - **min_samples_leaf**: 리프 노드에 있어야 하는 최소 샘플 수 (default = 1)\n",
    "   - **max_features**: 최적의 분할을 찾을 때 고려할 컬럼 수 (default= 1.0)\n",
    "      - 'auto'\n",
    "      - 'sqrt': sqrt(컬럼수)\n",
    "      - 'log2': log2(컬럼수),\n",
    "      - 'None': 컬럼수 또는 원하는 컬럼 수를 정수로 직접 입력 가능"
   ]
  },
  {
   "cell_type": "markdown",
   "id": "809ff4c9-1aaa-4184-b929-67cd6e42ba02",
   "metadata": {},
   "source": [
    "#### Q.\n",
    "사이킷런 패키지 내 diabetes 데이터를 호출한 후 학습 데이터와 평가 데이터로 분할하고 클래스 RandomForestRegressor()를 통해 연속형 예측 모형객체를 생성하고 학습한 후 평가 데이터로 목표값을 예측하고 성능을 측정하는 코드 작성하기 (단, 학습과 평가 데이터의 비율은 8:2로 하고 평가지표는 RMSE 사용하기)"
   ]
  },
  {
   "cell_type": "code",
   "execution_count": 42,
   "id": "2bee6bf2-7e7f-49c8-b8cb-0185c097a905",
   "metadata": {
    "tags": []
   },
   "outputs": [],
   "source": [
    "# 클래스 함수 불러오기\n",
    "from sklearn.ensemble import RandomForestRegressor\n",
    "from sklearn.model_selection import train_test_split"
   ]
  },
  {
   "cell_type": "code",
   "execution_count": 43,
   "id": "5d4701af-00c0-4561-9b60-2ef64b8bce2a",
   "metadata": {
    "tags": []
   },
   "outputs": [],
   "source": [
    "# diabetes 데이터 가져오기\n",
    "from sklearn.datasets import load_diabetes\n",
    "diabetes = load_diabetes()\n",
    "data = diabetes.data\n",
    "target = diabetes.target"
   ]
  },
  {
   "cell_type": "code",
   "execution_count": 44,
   "id": "722842a2-5dc9-4f9e-8e6e-61193c5ef303",
   "metadata": {
    "tags": []
   },
   "outputs": [],
   "source": [
    "# 데이터 분할하기\n",
    "X_train, X_test, y_train, y_test = train_test_split(data,\n",
    "                                                    target,\n",
    "                                                    test_size = 0.2,\n",
    "                                                    random_state = 2205)"
   ]
  },
  {
   "cell_type": "code",
   "execution_count": 45,
   "id": "477af3ff-b0c4-406a-97a4-5d9323942c04",
   "metadata": {
    "tags": []
   },
   "outputs": [],
   "source": [
    "# 모델객체 생성\n",
    "rf_conti = RandomForestRegressor(n_estimators = 500,\n",
    "                                 max_depth = 3,\n",
    "                                 min_samples_leaf = 10,\n",
    "                                 max_features = 3,\n",
    "                                 random_state = 2022)"
   ]
  },
  {
   "cell_type": "code",
   "execution_count": 46,
   "id": "23b476f2-349f-4d8f-bcb1-c3ea2b007890",
   "metadata": {
    "tags": []
   },
   "outputs": [],
   "source": [
    "# 모델학습\n",
    "model_rf_conti = rf_conti.fit(X_train, y_train)"
   ]
  },
  {
   "cell_type": "code",
   "execution_count": 47,
   "id": "49820ce1-7a7a-4f84-a051-cc99983268f2",
   "metadata": {
    "tags": []
   },
   "outputs": [],
   "source": [
    "# RMSE\n",
    "from sklearn.metrics import mean_squared_error\n",
    "y_pred = model_rf_conti.predict(X_test)"
   ]
  },
  {
   "cell_type": "code",
   "execution_count": 49,
   "id": "400719b1-1db8-46e3-a87b-9eed265d3968",
   "metadata": {
    "tags": []
   },
   "outputs": [
    {
     "data": {
      "text/plain": [
       "63.50376483948605"
      ]
     },
     "execution_count": 49,
     "metadata": {},
     "output_type": "execute_result"
    }
   ],
   "source": [
    "rmse = mean_squared_error(y_test, y_pred, squared = False)\n",
    "rmse"
   ]
  },
  {
   "cell_type": "markdown",
   "id": "ff38dbad-e1f2-41ff-b0dc-4b5b06d888fe",
   "metadata": {},
   "source": [
    "<br><br><br>\n",
    "<hr>\n",
    "\n",
    "#### **3) AdaBoost**\n",
    "\n",
    "- AdaBoost는 사이킷런 서브패키지 ```ensemble``` 내 클래스 ```AdaBoostClassifier()```, ```AdaBoostRegressor()``` 등을 통해 모형객체를 생성할 수 있음\n",
    "- AdaBoostClassifier는 이진분류와 다지분류, AdaBoostRegressor는 연속형 타겟변수에 사용됨  \n",
    "\n",
    "#### **3-1) AdaBoostClassifier**\n",
    "\n",
    "- 이진분류와 다지분류\n",
    "- ```sklearn.ensemble.AdaBoostClassifier(base_estimator = None, n_estimators = 50, learning_rate = 1.0, ...)```  \n",
    "   - **base_estimator**: 부스팅에 사용될 기본 분류기. None(default)면 DecisionTreeClassifier(max_depth = 1)\n",
    "   - **n_estimators**: 부스팅이 종료되는 최대 분류기 수 (default = 50)\n",
    "   - **learning_rate**: 부스팅 반복시 각 분류기에 적용되는 가중치 (default = 1.0)"
   ]
  },
  {
   "cell_type": "markdown",
   "id": "5fb3ef83-9edf-4526-bdde-b3cff2342ccd",
   "metadata": {},
   "source": [
    "<br>\n",
    "\n",
    "#### Q.\n",
    "사이킷런 패키지 내 breast_cancer 데이터를 호출한 후 학습 데이터와 평가 데이터로 분할하고 클래스 AdaBoostClassifier()를 통해 이진분류 모형객체를 생성하고 학습한 후 평가 데이터로 목표값을 예측하고 성능을 측정하는 코드 작성하기 (단, 학습과 평가 데이터의 비율은 8:2로 하고, target의 비율을 반영하고 평가지표는 AUC 사용하기)"
   ]
  },
  {
   "cell_type": "code",
   "execution_count": 50,
   "id": "3dd0d781-0094-44f4-9b97-7c1696106b55",
   "metadata": {
    "tags": []
   },
   "outputs": [],
   "source": [
    "# 클래스 함수 불러오기\n",
    "from sklearn.ensemble import AdaBoostClassifier\n",
    "from sklearn.model_selection import train_test_split"
   ]
  },
  {
   "cell_type": "code",
   "execution_count": 51,
   "id": "7ea21d24-9ffb-4669-b2d7-98bc71ade8f5",
   "metadata": {
    "tags": []
   },
   "outputs": [],
   "source": [
    "# breast_cancer 데이터 가져오기\n",
    "from sklearn.datasets import load_breast_cancer\n",
    "breast_cancer = load_breast_cancer()\n",
    "data = breast_cancer.data\n",
    "target = breast_cancer.target"
   ]
  },
  {
   "cell_type": "code",
   "execution_count": 52,
   "id": "08072849-710c-447d-99d1-053f40596a4d",
   "metadata": {
    "tags": []
   },
   "outputs": [],
   "source": [
    "# 데이터 분할\n",
    "X_train, X_test, y_train, y_test = train_test_split(data,\n",
    "                                                    target,\n",
    "                                                    test_size = 0.2, \n",
    "                                                    stratify = target,\n",
    "                                                    random_state = 2205)"
   ]
  },
  {
   "cell_type": "code",
   "execution_count": 53,
   "id": "d015b8e6-e86c-4457-94b3-c4ceab567701",
   "metadata": {
    "tags": []
   },
   "outputs": [],
   "source": [
    "# 모델객체 생성\n",
    "ada_bin = AdaBoostClassifier(n_estimators = 100,\n",
    "                             learning_rate = 0.5,\n",
    "                             random_state = 2022)"
   ]
  },
  {
   "cell_type": "code",
   "execution_count": 54,
   "id": "22b560e7-da8e-4746-a3c2-c05a46e8f4de",
   "metadata": {
    "tags": []
   },
   "outputs": [],
   "source": [
    "# 모델학습\n",
    "model_ada_bin = ada_bin.fit(X_train, y_train)"
   ]
  },
  {
   "cell_type": "code",
   "execution_count": 55,
   "id": "ea666545-48f1-4dcb-8295-da3c7895e023",
   "metadata": {
    "tags": []
   },
   "outputs": [],
   "source": [
    "# ROC\n",
    "from sklearn.metrics import roc_curve, auc\n",
    "y_score = model_ada_bin.predict_proba(X_test)[:, 1]"
   ]
  },
  {
   "cell_type": "code",
   "execution_count": 56,
   "id": "4ab7e345-f815-4597-94c8-6f4d4db48d21",
   "metadata": {
    "tags": []
   },
   "outputs": [
    {
     "name": "stdout",
     "output_type": "stream",
     "text": [
      "[0.         0.         0.         0.07142857 0.07142857 0.16666667\n",
      " 0.16666667 0.57142857 0.61904762 1.        ]\n",
      "[0.         0.01388889 0.95833333 0.95833333 0.98611111 0.98611111\n",
      " 1.         1.         1.         1.        ]\n",
      "[       inf 0.74945134 0.52535911 0.4598666  0.45630642 0.43730569\n",
      " 0.42932512 0.32936158 0.32884527 0.28120847]\n"
     ]
    }
   ],
   "source": [
    "fpr, tpr, thresholds = roc_curve(y_test, y_score)\n",
    "print(fpr)\n",
    "print(tpr)\n",
    "print(thresholds)"
   ]
  },
  {
   "cell_type": "code",
   "execution_count": 58,
   "id": "c60ce621-686d-4899-b8fd-86949c6320a9",
   "metadata": {
    "tags": []
   },
   "outputs": [
    {
     "data": {
      "text/plain": [
       "0.9957010582010583"
      ]
     },
     "execution_count": 58,
     "metadata": {},
     "output_type": "execute_result"
    }
   ],
   "source": [
    "# AUC\n",
    "AUC = auc(fpr, tpr)\n",
    "AUC"
   ]
  },
  {
   "cell_type": "markdown",
   "id": "df652d66-e97b-4133-b46b-53457fbb2118",
   "metadata": {},
   "source": [
    "<br>\n",
    "\n",
    "#### Q.\n",
    "사이킷런 패키지 내 iris 데이터를 호출한 후 학습 데이터와 평가 데이터로 분할하고 클래스 AdaBoostClassifier()를 통해 다지분류 모형객체를 생성하고 학습한 후 평가 데이터로 목표값을 예측하고 성능을 측정하는 코드 작성하기 (단, 학습과 평가 데이터의 비율은 8:2로 하고, target의 비율을 반영하고 평가지표는 macro f1-score 사용하기)"
   ]
  },
  {
   "cell_type": "code",
   "execution_count": 59,
   "id": "37b96b54-437d-43f7-a404-9fed6770a625",
   "metadata": {
    "tags": []
   },
   "outputs": [],
   "source": [
    "# 클래스 함수 불러오기\n",
    "from sklearn.ensemble import AdaBoostClassifier\n",
    "from sklearn.model_selection import train_test_split"
   ]
  },
  {
   "cell_type": "code",
   "execution_count": 60,
   "id": "734c2791-69d0-46f2-919f-166f1a30e2ba",
   "metadata": {
    "tags": []
   },
   "outputs": [],
   "source": [
    "# iris 데이터 가져오기\n",
    "from sklearn.datasets import load_iris\n",
    "iris = load_iris()\n",
    "data = iris.data\n",
    "target = iris.target"
   ]
  },
  {
   "cell_type": "code",
   "execution_count": 61,
   "id": "44f5f612-9978-414c-898a-895ab91c4741",
   "metadata": {
    "tags": []
   },
   "outputs": [],
   "source": [
    "# 데이터 분할하기\n",
    "X_train, X_test, y_train, y_test = train_test_split(data,\n",
    "                                                    target,\n",
    "                                                    test_size = 0.2,\n",
    "                                                    stratify = target,\n",
    "                                                    random_state = 2202)"
   ]
  },
  {
   "cell_type": "code",
   "execution_count": 65,
   "id": "dbb28eba-ad41-447b-8675-9a6fe06b76e8",
   "metadata": {
    "tags": []
   },
   "outputs": [],
   "source": [
    "# 모델객체 생성\n",
    "ada_multi = AdaBoostClassifier(n_estimators = 100,\n",
    "                            learning_rate = 0.5,\n",
    "                            random_state = 2022)"
   ]
  },
  {
   "cell_type": "code",
   "execution_count": 67,
   "id": "8d66ef34-38e4-4f12-8e5d-d7d3e2c8df31",
   "metadata": {
    "tags": []
   },
   "outputs": [],
   "source": [
    "# 모델학습\n",
    "model_ada_multi = ada_multi.fit(X_train, y_train)"
   ]
  },
  {
   "cell_type": "code",
   "execution_count": 68,
   "id": "cee80ff9-a527-48d4-b00b-e6c708b5ff3a",
   "metadata": {
    "tags": []
   },
   "outputs": [],
   "source": [
    "# macro f1-score\n",
    "from sklearn.metrics import f1_score\n",
    "y_pred = model_ada_multi.predict(X_test)"
   ]
  },
  {
   "cell_type": "code",
   "execution_count": 69,
   "id": "9e6a7b2f-6ff3-42c7-844c-d4b7ecc433eb",
   "metadata": {
    "tags": []
   },
   "outputs": [
    {
     "data": {
      "text/plain": [
       "0.899749373433584"
      ]
     },
     "execution_count": 69,
     "metadata": {},
     "output_type": "execute_result"
    }
   ],
   "source": [
    "macro_f1 = f1_score(y_test, y_pred, average = 'macro')\n",
    "macro_f1"
   ]
  },
  {
   "cell_type": "markdown",
   "id": "6bd820ab-cd68-4aff-875a-263e5c4c16e4",
   "metadata": {},
   "source": [
    "<br><br>\n",
    "\n",
    "#### **3-2) AdaBoostRegressor**\n",
    "\n",
    "- 연속형 타겟변수\n",
    "- ```sklearn.ensemble.AdaBoostRegressor(base_estimator = None, n_estimators = 50, learning_rate = 1.0, loss = 'linear', ...)```\n",
    "   - **base_estimator**: 부스팅할 앙상블의 기본 분류기. None(default)면 DecisionTreeRegressor(max_depth = 3)\n",
    "   - **n_estimators**: 트리의 수 (default = 5)\n",
    "   - **learning_rate**: 부스팅 반복시 각 분류기에 적용되는 가중치 (default = 1.0)\n",
    "   - **loss**: 부스팅 반복시 가중치 갱신 시 사용될 손실함수\n",
    "      - 'linear' (default)\n",
    "      - 'square'\n",
    "      - 'exponential'"
   ]
  },
  {
   "cell_type": "markdown",
   "id": "4dc21ed3-2db3-4733-a7c5-6ab10eadc197",
   "metadata": {},
   "source": [
    "#### Q.\n",
    "사이킷런 패키지 내 diabetes 데이터를 호출한 후 학습 데이터와 평가 데이터로 분할하고 클래스 AdaBoostRegresor()를 통해 연속형 예측 모형객체를 생성하고 학습한 후 평가 데이터로 목표값을 예측하고 성능을 측정하는 코드 작성하기 (단, 학습과 평가 데이터의 비율은 8:2로 하고 평가지표는 RMSE 사용하기)"
   ]
  },
  {
   "cell_type": "code",
   "execution_count": 1,
   "id": "8ee989f8-95a1-4a77-87aa-63abcae20791",
   "metadata": {
    "tags": []
   },
   "outputs": [],
   "source": [
    "# 클래스 함수 불러오기\n",
    "from sklearn.ensemble import AdaBoostRegressor\n",
    "from sklearn.model_selection import train_test_split"
   ]
  },
  {
   "cell_type": "code",
   "execution_count": 3,
   "id": "a8da0e7f-a9e8-45e1-b0c4-4753a041677f",
   "metadata": {
    "tags": []
   },
   "outputs": [],
   "source": [
    "# diabetes 데이터 가져오기\n",
    "from sklearn.datasets import load_diabetes\n",
    "diabetes = load_diabetes()\n",
    "data = diabetes.data\n",
    "target = diabetes.target"
   ]
  },
  {
   "cell_type": "code",
   "execution_count": 4,
   "id": "cedc34f6-c7bf-4127-9b95-bcdf717f21c6",
   "metadata": {
    "tags": []
   },
   "outputs": [],
   "source": [
    "# 데이터 분할\n",
    "X_train, X_test, y_train, y_test = train_test_split(data,\n",
    "                                                    target,\n",
    "                                                    test_size = 0.2,\n",
    "                                                    random_state = 2205)"
   ]
  },
  {
   "cell_type": "code",
   "execution_count": 6,
   "id": "9d69ade2-6b45-4315-aac5-0bb3de8fa7cf",
   "metadata": {
    "tags": []
   },
   "outputs": [],
   "source": [
    "# 모델객체 생성\n",
    "ada_conti = AdaBoostRegressor(n_estimators = 500,\n",
    "                              learning_rate = 0.01,\n",
    "                              loss = 'square',\n",
    "                              random_state = 2022)"
   ]
  },
  {
   "cell_type": "code",
   "execution_count": 7,
   "id": "064f946c-a799-4b61-8d21-80102d34936c",
   "metadata": {
    "tags": []
   },
   "outputs": [],
   "source": [
    "# 모델학습\n",
    "model_ada_conti = ada_conti.fit(X_train, y_train)"
   ]
  },
  {
   "cell_type": "code",
   "execution_count": 8,
   "id": "760068cc-be32-4866-8a1a-4459a65c3ca3",
   "metadata": {
    "tags": []
   },
   "outputs": [],
   "source": [
    "# RMSE\n",
    "from sklearn.metrics import mean_squared_error\n",
    "y_pred = model_ada_conti.predict(X_test)"
   ]
  },
  {
   "cell_type": "code",
   "execution_count": 9,
   "id": "a62507ba-9398-4167-aa7a-8bbfe25523fa",
   "metadata": {
    "tags": []
   },
   "outputs": [
    {
     "data": {
      "text/plain": [
       "62.219496081450266"
      ]
     },
     "execution_count": 9,
     "metadata": {},
     "output_type": "execute_result"
    }
   ],
   "source": [
    "rmse = mean_squared_error(y_test, y_pred, squared = False)\n",
    "rmse"
   ]
  },
  {
   "cell_type": "markdown",
   "id": "10dda0ef-7313-446a-9adf-aadedc70b2a2",
   "metadata": {},
   "source": [
    "<br><br><br>\n",
    "<hr>\n",
    "\n",
    "#### **4) Gradient Boosting**\n",
    "\n",
    "- Gradient Boosting은 사이킷런 서브패키지 ```ensemble``` 내 클래스 ```GradientBoostingClassifier()```, ```GradientBoostingRegressor()``` 등을 통해 모형객체를 생성할 수 있음\n",
    "- GradientBoostingClassifier는 이진분류와 다지분류, GradientBoostingRegressor는 연속형 타겟변수에 사용됨  \n",
    "\n",
    "#### **4-1) GradientBoostingClassifier**\n",
    "\n",
    "- 이진분류와 다지분류\n",
    "- ```sklearn.ensemble.GradientBoostingClassifier(n_estimators = 50, criterion = 'friedman_mse', max_depth = 3, min_samples_leaf = 1, max_feautres = None, learning_rate = 1.0, loss = 'log_loss',  ...)```  \n",
    "   - **n_estimators**: 수행할 부스팅 단계 수. 그래디언트 부스팅은 일반적으로 숫자가 많을수록 성능이 향상됨 (default = 100)\n",
    "   - **criterion**: 분할에 기준이 되는 지표\n",
    "      - 'friedman_mse' (default)\n",
    "      - 'squared_error'\n",
    "      - 'mse'\n",
    "   - **max_depth**: 트리의 최대 깊이 (default = 3)\n",
    "   - **min_samples_leaf**: 리프 노드에 있어야하는 최소 샘플 수 (default = 1)\n",
    "   - **max_features**: 최적의 분할을 찾을 때 고려할 컬럼 수\n",
    "      - 'auto'\n",
    "      - 'sqrt'\n",
    "      - 'log2'\n",
    "      - None (default)\n",
    "   - **learning_rate**: 부스팅 반복시 각 분류기에 적용되는 가중치 (default = 1.0)\n",
    "   - **loss**: 최적화할 손실함수\n",
    "      - 'log_loss' (default)\n",
    "      - 'deviance'\n",
    "      - 'exponential'"
   ]
  },
  {
   "cell_type": "markdown",
   "id": "1bb34559-4c1f-4c84-bd73-6d165ea68857",
   "metadata": {},
   "source": [
    "<br>\n",
    "\n",
    "#### Q.\n",
    "사이킷런 패키지 내 breast_cancer 데이터를 호출한 후 학습 데이터와 평가 데이터로 분할하고 클래스 GradientBoostingClassifier()를 통해 이진분류 모형객체를 생성하고 학습한 후 평가 데이터로 목표값을 예측하고 성능을 측정하는 코드 작성하기 (단, 학습과 평가 데이터의 비율은 8:2로 하고, target의 비율을 반영하고 평가지표는 AUC 사용하기)"
   ]
  },
  {
   "cell_type": "code",
   "execution_count": 10,
   "id": "bf858410-58f0-478d-b9f1-6a93c4d646c1",
   "metadata": {
    "tags": []
   },
   "outputs": [],
   "source": [
    "# 클래스 함수 가져오기\n",
    "from sklearn.ensemble import GradientBoostingClassifier\n",
    "from sklearn.model_selection import train_test_split"
   ]
  },
  {
   "cell_type": "code",
   "execution_count": 11,
   "id": "f5b660f0-f8b8-4d18-aa01-d53a55e021bb",
   "metadata": {
    "tags": []
   },
   "outputs": [],
   "source": [
    "# breast_cancer 데이터 가져오기\n",
    "from sklearn.datasets import load_breast_cancer\n",
    "breast_cancer = load_breast_cancer()\n",
    "data = breast_cancer.data\n",
    "target = breast_cancer.target"
   ]
  },
  {
   "cell_type": "code",
   "execution_count": 12,
   "id": "951b680d-1bd2-42e1-ab4d-ed1a87f1c5c3",
   "metadata": {
    "tags": []
   },
   "outputs": [],
   "source": [
    "# 데이터 분할\n",
    "X_train, X_test, y_train, y_test = train_test_split(data,\n",
    "                                                    target,\n",
    "                                                    test_size = 0.2,\n",
    "                                                    stratify = target,\n",
    "                                                    random_state = 2205)"
   ]
  },
  {
   "cell_type": "code",
   "execution_count": 14,
   "id": "9b91ecf6-c28f-4f91-a5ae-adb6fbee6219",
   "metadata": {
    "tags": []
   },
   "outputs": [],
   "source": [
    "# 모델객체 생성\n",
    "gradient_bin = GradientBoostingClassifier(n_estimators = 500,\n",
    "                                          max_depth = 4,\n",
    "                                          min_samples_leaf = 10,\n",
    "                                          learning_rate = 0.1,\n",
    "                                          random_state = 2022)"
   ]
  },
  {
   "cell_type": "code",
   "execution_count": 15,
   "id": "f4bcec78-d03a-4cd8-b1d7-10179eed6477",
   "metadata": {
    "tags": []
   },
   "outputs": [],
   "source": [
    "# 모델학습\n",
    "model_gradient_bin = gradient_bin.fit(X_train, y_train)"
   ]
  },
  {
   "cell_type": "code",
   "execution_count": 16,
   "id": "ac6fa433-4a08-44fa-9dfe-3dfba60c0b0f",
   "metadata": {
    "tags": []
   },
   "outputs": [],
   "source": [
    "# ROC\n",
    "from sklearn.metrics import roc_curve, auc\n",
    "y_score = model_gradient_bin.predict_proba(X_test)[:, 1]"
   ]
  },
  {
   "cell_type": "code",
   "execution_count": 17,
   "id": "7a6cae81-39b6-4511-b8ba-c06be316e829",
   "metadata": {
    "tags": []
   },
   "outputs": [
    {
     "name": "stdout",
     "output_type": "stream",
     "text": [
      "[0.         0.         0.         0.02380952 0.02380952 0.04761905\n",
      " 0.04761905 1.        ]\n",
      "[0.         0.01388889 0.95833333 0.95833333 0.98611111 0.98611111\n",
      " 1.         1.        ]\n",
      "[           inf 1.00000000e+00 8.67972695e-01 6.29254749e-02\n",
      " 2.37413316e-03 1.47966965e-03 6.74099220e-04 4.89679482e-13]\n"
     ]
    }
   ],
   "source": [
    "fpr, tpr, thresholds = roc_curve(y_test, y_score)\n",
    "print(fpr)\n",
    "print(tpr)\n",
    "print(thresholds)"
   ]
  },
  {
   "cell_type": "code",
   "execution_count": 18,
   "id": "32933686-2827-4b00-a333-d30112a4738d",
   "metadata": {
    "tags": []
   },
   "outputs": [
    {
     "data": {
      "text/plain": [
       "0.9986772486772486"
      ]
     },
     "execution_count": 18,
     "metadata": {},
     "output_type": "execute_result"
    }
   ],
   "source": [
    "# AUC\n",
    "AUC = auc(fpr, tpr)\n",
    "AUC"
   ]
  },
  {
   "cell_type": "markdown",
   "id": "1dba74d1-5340-4e7d-bf64-98b6f25cc6b3",
   "metadata": {},
   "source": [
    "<br>\n",
    "\n",
    "#### Q.\n",
    "사이킷런 패키지 내 iris 데이터를 호출한 후 학습 데이터와 평가 데이터로 분할하고 클래스 GradientBoostingClassifier()를 통해 다지분류 모형객체를 생성하고 학습한 후 평가 데이터로 목표값을 예측하고 성능을 측정하는 코드 작성하기 (단, 학습과 평가 데이터의 비율은 8:2로 하고, target의 비율을 반영하고 평가지표는 macro f1-score 사용하기)"
   ]
  },
  {
   "cell_type": "code",
   "execution_count": 19,
   "id": "f0cfa0b7-b34c-4606-8644-fe068d8761a3",
   "metadata": {
    "tags": []
   },
   "outputs": [],
   "source": [
    "# 클래스 함수 불러오기\n",
    "from sklearn.ensemble import GradientBoostingClassifier\n",
    "from sklearn.model_selection import train_test_split"
   ]
  },
  {
   "cell_type": "code",
   "execution_count": 20,
   "id": "56369a06-9f6f-4302-a639-bd0dfd4c2e80",
   "metadata": {
    "tags": []
   },
   "outputs": [],
   "source": [
    "# iris 데이터 가져오기\n",
    "from sklearn.datasets import load_iris\n",
    "iris = load_iris()\n",
    "data = iris.data\n",
    "target = iris.target"
   ]
  },
  {
   "cell_type": "code",
   "execution_count": 21,
   "id": "f6474a9e-b71e-4f35-96c3-0fd6eb7de7e8",
   "metadata": {
    "tags": []
   },
   "outputs": [],
   "source": [
    "# 데이터 분할\n",
    "X_train, X_test, y_train, y_test = train_test_split(data,\n",
    "                                                    target,\n",
    "                                                    test_size = 0.2,\n",
    "                                                    stratify = target,\n",
    "                                                    random_state = 2205)"
   ]
  },
  {
   "cell_type": "code",
   "execution_count": 22,
   "id": "76a0ea1d-eb8f-4584-9830-b1474b32310c",
   "metadata": {
    "tags": []
   },
   "outputs": [],
   "source": [
    "# 모델객체 생성\n",
    "gradient_multi = GradientBoostingClassifier(n_estimators = 500,\n",
    "                                            max_depth = 8,\n",
    "                                            min_samples_leaf = 5,\n",
    "                                            learning_rate = 0.5,\n",
    "                                            random_state = 2022)"
   ]
  },
  {
   "cell_type": "code",
   "execution_count": 23,
   "id": "78667673-996e-4320-8cc4-bc895d8963cd",
   "metadata": {
    "tags": []
   },
   "outputs": [],
   "source": [
    "# 모델학습\n",
    "model_gradient_multi = gradient_multi.fit(X_train, y_train)"
   ]
  },
  {
   "cell_type": "code",
   "execution_count": 25,
   "id": "19df2664-8c10-40d1-86b8-468beeb0ebe2",
   "metadata": {
    "tags": []
   },
   "outputs": [],
   "source": [
    "# macro f1-score\n",
    "from sklearn.metrics import f1_score\n",
    "y_pred = model_gradient_multi.predict(X_test)"
   ]
  },
  {
   "cell_type": "code",
   "execution_count": 26,
   "id": "b4a53639-70e2-44b9-89f0-5e4cf0339198",
   "metadata": {
    "tags": []
   },
   "outputs": [
    {
     "data": {
      "text/plain": [
       "0.9665831244778613"
      ]
     },
     "execution_count": 26,
     "metadata": {},
     "output_type": "execute_result"
    }
   ],
   "source": [
    "macro_f1 = f1_score(y_test, y_pred, average = 'macro')\n",
    "macro_f1"
   ]
  },
  {
   "cell_type": "markdown",
   "id": "59b6c481-5b35-49eb-a26a-91f4b94fc9e7",
   "metadata": {},
   "source": [
    "<br><br>\n",
    "\n",
    "#### **4-2) GradientBoostingRegressor**\n",
    "\n",
    "- 연속형 타겟변수\n",
    "- ```sklearn.ensemble.GradientBoostingRegressor(n_estimators = 100, criterion = 'friedman_mse', max_depth = 3, min_samples_leaf = 1, max_feautres = None, learning_rate = 1.0, loss = 'squared_error',  ...)```  \n",
    "   - **n_estimators**: 수행할 부스팅 단계 수. 그래디언트 부스팅은 일반적으로 숫자가 많을수록 성능이 향상됨 (default = 100)\n",
    "   - **criterion**: 분할에 기준이 되는 지표\n",
    "      - 'friedman_mse' (default)\n",
    "      - 'squared_error'\n",
    "      - 'mse'\n",
    "   - **max_depth**: 트리의 최대 깊이 (default = 3)\n",
    "   - **min_samples_leaf**: 리프 노드에 있어야하는 최소 샘플 수 (default = 1)\n",
    "   - **max_features**: 최적의 분할을 찾을 때 고려할 컬럼 수\n",
    "      - 'auto'\n",
    "      - 'sqrt'\n",
    "      - 'log2'\n",
    "      - None (default)\n",
    "   - **learning_rate**: 부스팅 반복시 각 분류기에 적용되는 가중치 (default = 1.0)\n",
    "   - **loss**: 최적화할 손실함수\n",
    "      - 'log_loss' (default)\n",
    "      - 'deviance'\n",
    "      - 'exponential'"
   ]
  },
  {
   "cell_type": "markdown",
   "id": "353c193a-098c-4999-ac2f-df4c62add3c4",
   "metadata": {},
   "source": [
    "#### Q.\n",
    "사이킷런 패키지 내 diabetes 데이터를 호출한 후 학습 데이터와 평가 데이터로 분할하고 클래스 GradientBoostingRegressor()를 통해 연속형 예측 모형객체를 생성하고 학습한 후 평가 데이터로 목표값을 예측하고 성능을 측정하는 코드 작성하기 (단, 학습과 평가 데이터의 비율은 8:2로 하고 평가지표는 RMSE 사용하기)"
   ]
  },
  {
   "cell_type": "code",
   "execution_count": 27,
   "id": "6553845a-86b9-4e60-bab6-029deaa644fa",
   "metadata": {
    "tags": []
   },
   "outputs": [],
   "source": [
    "# 클래스 함수 불러오기\n",
    "from sklearn.ensemble import GradientBoostingRegressor\n",
    "from sklearn.model_selection import train_test_split"
   ]
  },
  {
   "cell_type": "code",
   "execution_count": 28,
   "id": "33d4a313-1c7b-4aec-ae55-c637e189e19b",
   "metadata": {
    "tags": []
   },
   "outputs": [],
   "source": [
    "# diabetes 데이터 가져오기\n",
    "from sklearn.datasets import load_diabetes\n",
    "diabetes = load_diabetes()\n",
    "data = diabetes.data\n",
    "target = diabetes.target"
   ]
  },
  {
   "cell_type": "code",
   "execution_count": 29,
   "id": "effded28-ae4a-456c-b082-7f99d9110586",
   "metadata": {
    "tags": []
   },
   "outputs": [],
   "source": [
    "# 데이터 분할\n",
    "X_train, X_test, y_train, y_test = train_test_split(data,\n",
    "                                                    target,\n",
    "                                                    test_size = 0.2,\n",
    "                                                    random_state = 2205)"
   ]
  },
  {
   "cell_type": "code",
   "execution_count": 30,
   "id": "eea93efe-62b2-4b59-9626-43546dd108ee",
   "metadata": {
    "tags": []
   },
   "outputs": [],
   "source": [
    "# 모델객체 생성\n",
    "gradient_conti = GradientBoostingRegressor(n_estimators = 500,\n",
    "                                           max_depth = 2,\n",
    "                                           min_samples_leaf = 5,\n",
    "                                           learning_rate = 0.5, \n",
    "                                           random_state = 2022)"
   ]
  },
  {
   "cell_type": "code",
   "execution_count": 31,
   "id": "a0e0c8e5-a1ff-471c-8456-cfc3ce907361",
   "metadata": {
    "tags": []
   },
   "outputs": [],
   "source": [
    "# 모델학습\n",
    "model_gradient_conti = gradient_conti.fit(X_train, y_train)"
   ]
  },
  {
   "cell_type": "code",
   "execution_count": 32,
   "id": "206992ca-a13e-41bf-9c93-65826b2d07b9",
   "metadata": {
    "tags": []
   },
   "outputs": [],
   "source": [
    "# RMSE\n",
    "from sklearn.metrics import mean_squared_error\n",
    "y_pred = model_gradient_conti.predict(X_test)"
   ]
  },
  {
   "cell_type": "code",
   "execution_count": 33,
   "id": "3260ce3c-013b-4c32-9070-420462581871",
   "metadata": {
    "tags": []
   },
   "outputs": [
    {
     "data": {
      "text/plain": [
       "75.2312380664441"
      ]
     },
     "execution_count": 33,
     "metadata": {},
     "output_type": "execute_result"
    }
   ],
   "source": [
    "rmse = mean_squared_error(y_test, y_pred, squared = False)\n",
    "rmse"
   ]
  },
  {
   "cell_type": "markdown",
   "id": "2bcbe4a5-4333-429f-9bf5-b36131b174f7",
   "metadata": {},
   "source": [
    "<br><br><br>\n",
    "<hr>\n",
    "\n",
    "#### **5) XGBoost**\n",
    "\n",
    "- XGBoost는 ```xgboost``` 패키지를 설치한 후 해당 사이킷런 래퍼(Wrapper) 패키지 내 클래스 ```XGBClassifier```, ```XGBRegressor``` 등을 통해 모형객체를 생성함.\n",
    "- XGBClassifier는 이진분류와 다지분류, XGBRegressor는 연속형 타겟변수에 사용됨  \n",
    "\n",
    "#### **5-1) XGBClassifier**\n",
    "\n",
    "- 이진분류와 다지분류\n",
    "- ```xgboost.XGBClassifier(max_depth = 6, n_estimators = 100, nthread = None, min_child_weight = 1, gamma = 0, objective = multi:softmax)```  \n",
    "   - **max_depth**: 트리의 최대 깊이 (default = 6)\n",
    "   - **n_estimators**: 수행할 부스팅 단계 수 (default = 100)\n",
    "   - **n_thread**: 병렬 thread 수 (default = None)\n",
    "   - **min_child_weight**: 하위 노드에 필요한 인스턴스 가중치의 최소 합계 (default = 1)\n",
    "   - **gamma**: 트리의 리프노드에 추가 파티션을 만드는데 필요한 최소 손실 함수 (defualt = 0)\n",
    "   - **objective**: 목푯값에 따른 학습 목적\n",
    "      - 'binary:logistic'\n",
    "      - 'multi:softmax'"
   ]
  },
  {
   "cell_type": "markdown",
   "id": "1fe4f5cd-9516-4baf-a231-8b6e054e43d6",
   "metadata": {},
   "source": [
    "<br>\n",
    "\n",
    "#### Q.\n",
    "사이킷런 패키지 내 breast_cancer 데이터를 호출한 후 학습 데이터와 평가 데이터로 분할하고 클래스 XGBClassifier()를 통해 이진분류 모형객체를 생성하고 학습한 후 평가 데이터로 목표값을 예측하고 성능을 측정하는 코드 작성하기 (단, 학습과 평가 데이터의 비율은 8:2로 하고, target의 비율을 반영하고 평가지표는 AUC 사용하기)"
   ]
  },
  {
   "cell_type": "code",
   "execution_count": 38,
   "id": "d55f9542-29f8-48f8-8fc6-f8c4b92260a5",
   "metadata": {
    "tags": []
   },
   "outputs": [],
   "source": [
    "# 클래스, 함수 불러오기\n",
    "from sklearn.model_selection import train_test_split\n",
    "from xgboost import XGBClassifier"
   ]
  },
  {
   "cell_type": "code",
   "execution_count": 39,
   "id": "cf74e4c9-d831-4b6e-9576-2ee44503827d",
   "metadata": {
    "tags": []
   },
   "outputs": [],
   "source": [
    "# breast_cancer 데이터 가져오기\n",
    "from sklearn.datasets import load_breast_cancer\n",
    "breast_cancer = load_breast_cancer()\n",
    "data = breast_cancer.data\n",
    "target = breast_cancer.target"
   ]
  },
  {
   "cell_type": "code",
   "execution_count": 40,
   "id": "08b07446-9798-4b06-b706-11b7c35b4143",
   "metadata": {
    "tags": []
   },
   "outputs": [],
   "source": [
    "# 데이터 분할\n",
    "X_train, X_test, y_train, y_test = train_test_split(data,\n",
    "                                                    target,\n",
    "                                                    test_size = 0.2,\n",
    "                                                    stratify = target,\n",
    "                                                    random_state = 2205)"
   ]
  },
  {
   "cell_type": "code",
   "execution_count": 41,
   "id": "e335ffcc-bfbd-4410-9afc-1f80fadd5351",
   "metadata": {
    "tags": []
   },
   "outputs": [],
   "source": [
    "# 모형객체 생성\n",
    "xgb_wrap_bin = XGBClassifier(max_depth = 8,\n",
    "                             n_estimators = 500,\n",
    "                             nthread = 5,\n",
    "                             min_child_weight = 20,\n",
    "                             gamma = 0.5,\n",
    "                             objective = 'binary:logistic',\n",
    "                             use_level_encoder = False,\n",
    "                             random_state = 2022)"
   ]
  },
  {
   "cell_type": "code",
   "execution_count": 42,
   "id": "614176d1-be3e-4051-864e-b56c44170e83",
   "metadata": {
    "tags": []
   },
   "outputs": [
    {
     "name": "stderr",
     "output_type": "stream",
     "text": [
      "C:\\Users\\kbr_u\\anaconda3\\Lib\\site-packages\\xgboost\\sklearn.py:1146: UserWarning: The use of label encoder in XGBClassifier is deprecated and will be removed in a future release. To remove this warning, do the following: 1) Pass option use_label_encoder=False when constructing XGBClassifier object; and 2) Encode your labels (y) as integers starting with 0, i.e. 0, 1, 2, ..., [num_class - 1].\n",
      "  warnings.warn(label_encoder_deprecation_msg, UserWarning)\n"
     ]
    },
    {
     "name": "stdout",
     "output_type": "stream",
     "text": [
      "[02:11:27] WARNING: C:/Users/Administrator/workspace/xgboost-win64_release_1.4.0/src/learner.cc:573: \n",
      "Parameters: { \"use_level_encoder\" } might not be used.\n",
      "\n",
      "  This may not be accurate due to some parameters are only used in language bindings but\n",
      "  passed down to XGBoost core.  Or some parameters are not used but slip through this\n",
      "  verification. Please open an issue if you find above cases.\n",
      "\n",
      "\n"
     ]
    }
   ],
   "source": [
    "# 모델학습\n",
    "model_xgb_bin = xgb_wrap_bin.fit(X_train, y_train, eval_metric = 'mlogloss')"
   ]
  },
  {
   "cell_type": "markdown",
   "id": "f094fda4-57ca-4bb5-8c12-65fa89b53c32",
   "metadata": {},
   "source": [
    "- xgboost 모형은 자동으로 라벨인코딩이 수행(use_label_encoder의 dafault 값이 True)되는데 현재 데이터가 라벨인코딩이 되어있는 형태이므로 False 옵션을 추가함\n",
    "- 참고) 모형객체의 메소드 ```fit()``` 내 ```eval_metric``` 인자는 학습 모형에 대한 검증시 사용되는 평가지표로 default 값은 'rmse'(연속형), 'error'(이진분류)임\n",
    "- 참고) objective에 따라 사용할 수 있는 함수들이 다르고 eval_metric에 사용 가능한 함수는 ```rmse```, ```mae```, ```logloss```(negative log-likelihood), ```error```(binary classification error rate), ```merror```, ```mlogloss```(multiclass logloss), ```auc``` 등이 있음"
   ]
  },
  {
   "cell_type": "code",
   "execution_count": 43,
   "id": "f59362b2-307e-414c-9a35-a0a850236125",
   "metadata": {
    "tags": []
   },
   "outputs": [],
   "source": [
    "# ROC\n",
    "from sklearn.metrics import roc_curve, auc\n",
    "y_score = model_xgb_bin.predict_proba(X_test)[:, 1]"
   ]
  },
  {
   "cell_type": "code",
   "execution_count": 45,
   "id": "28a22d89-d0a9-4a4c-bcd5-1a526e4644c8",
   "metadata": {
    "tags": []
   },
   "outputs": [
    {
     "name": "stdout",
     "output_type": "stream",
     "text": [
      "[0.         0.         0.         0.         0.         0.\n",
      " 0.         0.         0.         0.         0.         0.\n",
      " 0.         0.         0.         0.         0.         0.02380952\n",
      " 0.02380952 0.02380952 0.0952381  0.11904762 0.11904762 0.14285714\n",
      " 0.16666667 0.21428571 0.23809524 1.        ]\n",
      "[0.         0.23611111 0.27777778 0.29166667 0.31944444 0.40277778\n",
      " 0.41666667 0.47222222 0.5        0.63888889 0.68055556 0.70833333\n",
      " 0.75       0.77777778 0.80555556 0.83333333 0.91666667 0.91666667\n",
      " 0.94444444 0.97222222 0.97222222 0.97222222 0.98611111 1.\n",
      " 1.         1.         1.         1.        ]\n",
      "[       inf 0.964954   0.95908093 0.95891404 0.95740104 0.9520791\n",
      " 0.9501267  0.9494602  0.94323325 0.9405234  0.92814016 0.9212042\n",
      " 0.91090393 0.8974478  0.883159   0.86612844 0.5465257  0.5057164\n",
      " 0.49900016 0.4262316  0.3945671  0.3077966  0.2066235  0.19412422\n",
      " 0.17169775 0.14115652 0.10407268 0.07343688]\n"
     ]
    }
   ],
   "source": [
    "fpr, tpr, thresholds = roc_curve(y_test, y_score)\n",
    "print(fpr)\n",
    "print(tpr)\n",
    "print(thresholds)"
   ]
  },
  {
   "cell_type": "code",
   "execution_count": 46,
   "id": "fb1c7bf6-e9f7-4554-ab0e-5409606eff05",
   "metadata": {
    "tags": []
   },
   "outputs": [
    {
     "data": {
      "text/plain": [
       "0.9952050264550264"
      ]
     },
     "execution_count": 46,
     "metadata": {},
     "output_type": "execute_result"
    }
   ],
   "source": [
    "# AUC\n",
    "AUC = auc(fpr, tpr)\n",
    "AUC"
   ]
  },
  {
   "cell_type": "markdown",
   "id": "76317756-7d4a-4adb-9695-072cd9199afc",
   "metadata": {},
   "source": [
    "<br>\n",
    "\n",
    "#### Q.\n",
    "사이킷런 패키지 내 iris 데이터를 호출한 후 학습 데이터와 평가 데이터로 분할하고 클래스 XGBClassifier()를 통해 다지분류 모형객체를 생성하고 학습한 후 평가 데이터로 목표값을 예측하고 성능을 측정하는 코드 작성하기 (단, 학습과 평가 데이터의 비율은 8:2로 하고, target의 비율을 반영하고 평가지표는 macro f1-score 사용하기)"
   ]
  },
  {
   "cell_type": "code",
   "execution_count": 47,
   "id": "5adde5f4-060b-409c-8d13-c39314316b64",
   "metadata": {
    "tags": []
   },
   "outputs": [],
   "source": [
    "# 클래스 함수 불러오기\n",
    "from xgboost import XGBClassifier\n",
    "from sklearn.model_selection import train_test_split"
   ]
  },
  {
   "cell_type": "code",
   "execution_count": 48,
   "id": "34e155d5-5440-4f86-8d4c-ea6d15b38797",
   "metadata": {
    "tags": []
   },
   "outputs": [],
   "source": [
    "# iris 데이터 가져오기\n",
    "from sklearn.datasets import load_iris\n",
    "iris = load_iris()\n",
    "data = iris.data\n",
    "target = iris.target"
   ]
  },
  {
   "cell_type": "code",
   "execution_count": 49,
   "id": "f3587cdd-d931-408d-a626-4cced196525b",
   "metadata": {
    "tags": []
   },
   "outputs": [],
   "source": [
    "# 데이터 분할\n",
    "X_train, X_test, y_train, y_test = train_test_split(data, \n",
    "                                                    target,\n",
    "                                                    test_size = 0.2,\n",
    "                                                    random_state = 2205,\n",
    "                                                    stratify = target)"
   ]
  },
  {
   "cell_type": "code",
   "execution_count": 50,
   "id": "9d6cc6af-e92d-430e-9be5-8892aefae1b9",
   "metadata": {
    "tags": []
   },
   "outputs": [],
   "source": [
    "# 모델객체 생성\n",
    "xgb_multi = XGBClassifier(max_depth = 8,\n",
    "                          n_estimators = 500,\n",
    "                          nthread = 5,\n",
    "                          min_child_weight = 10,\n",
    "                          gamma = 0.5,\n",
    "                          objective = 'multi:softmax',\n",
    "                          use_label_encoder = False,\n",
    "                          random_state = 2022)"
   ]
  },
  {
   "cell_type": "code",
   "execution_count": 51,
   "id": "76b4f6e4-b1be-4fa3-b39a-62677b0d05d0",
   "metadata": {
    "tags": []
   },
   "outputs": [],
   "source": [
    "# 모델학습\n",
    "model_xgb_multi = xgb_multi.fit(X_train, y_train, eval_metric = 'mlogloss')"
   ]
  },
  {
   "cell_type": "code",
   "execution_count": 57,
   "id": "05e8af47-79b4-4f35-a3cf-471f9577aa1c",
   "metadata": {
    "tags": []
   },
   "outputs": [],
   "source": [
    "# macro f1-score\n",
    "from sklearn.metrics import f1_score\n",
    "y_pred = model_xgb_multi.predict(X_test)"
   ]
  },
  {
   "cell_type": "code",
   "execution_count": 58,
   "id": "69f4eaea-ce02-4850-bb7f-72900e6d90d1",
   "metadata": {
    "tags": []
   },
   "outputs": [
    {
     "data": {
      "text/plain": [
       "0.9665831244778613"
      ]
     },
     "execution_count": 58,
     "metadata": {},
     "output_type": "execute_result"
    }
   ],
   "source": [
    "macro_f1 = f1_score(y_test, y_pred, average = 'macro')\n",
    "macro_f1"
   ]
  },
  {
   "cell_type": "markdown",
   "id": "d8734b9f-05df-4386-b05f-3e6d78eeda7d",
   "metadata": {},
   "source": [
    "<br><br>\n",
    "      \n",
    "#### **5-2) XGBRegressor**\n",
    "\n",
    "- 연속형 타겟변수\n",
    "- ```xgboost.XGBRegressor(max_depth = 6, n_estimators = 100, nthread = None, min_child_weight = 1, gamma = 0, objective = reg:squarederror)```  \n",
    "   - **max_depth**: 트리의 최대 깊이 (default = 6)\n",
    "   - **n_estimators**: 수행할 부스팅 단계 수 (default = 100)\n",
    "   - **n_thread**: 병렬 thread 수 (default = None)\n",
    "   - **min_child_weight**: 하위 노드에 필요한 인스턴스 가중치의 최소 합계 (default = 1)\n",
    "   - **gamma**: 트리의 리프노드에 추가 파티션을 만드는데 필요한 최소 손실 함수 (defualt = 0)\n",
    "   - **objective**: 목푯값에 따른 학습 목적. 회귀는 'reg:squarederror'"
   ]
  },
  {
   "cell_type": "markdown",
   "id": "ea8ea0ba-44d7-4bf9-829d-bb434f4cd76e",
   "metadata": {},
   "source": [
    "#### Q.\n",
    "사이킷런 패키지 내 diabetes 데이터를 호출한 후 학습 데이터와 평가 데이터로 분할하고 클래스 XGBRegressor()를 통해 연속형 예측 모형객체를 생성하고 학습한 후 평가 데이터로 목표값을 예측하고 성능을 측정하는 코드 작성하기 (단, 학습과 평가 데이터의 비율은 8:2로 하고 평가지표는 RMSE 사용하기)"
   ]
  },
  {
   "cell_type": "code",
   "execution_count": 59,
   "id": "82c11511-c350-4eef-9941-f4c560f0d2a2",
   "metadata": {
    "tags": []
   },
   "outputs": [],
   "source": [
    "# 클래스, 함수 불러오기\n",
    "from sklearn.model_selection import train_test_split\n",
    "from xgboost import XGBRegressor"
   ]
  },
  {
   "cell_type": "code",
   "execution_count": 60,
   "id": "b2a7c75d-26a9-4fff-9ddb-1e6ebe887e9b",
   "metadata": {
    "tags": []
   },
   "outputs": [],
   "source": [
    "# diabetes 데이터 가져오기\n",
    "from sklearn.datasets import load_diabetes\n",
    "diabetes = load_diabetes()\n",
    "data = diabetes.data\n",
    "target = diabetes.target"
   ]
  },
  {
   "cell_type": "code",
   "execution_count": 63,
   "id": "97d5473e-5474-4823-b13d-e926fe1f2398",
   "metadata": {
    "tags": []
   },
   "outputs": [],
   "source": [
    "# 데이터 분할\n",
    "X_train, X_test, y_train, y_test = train_test_split(data, \n",
    "                                                    target, \n",
    "                                                    test_size = 0.2,\n",
    "                                                    random_state = 2205)"
   ]
  },
  {
   "cell_type": "code",
   "execution_count": 64,
   "id": "554cf9d2-3ce8-43f2-a519-45617b587961",
   "metadata": {
    "tags": []
   },
   "outputs": [],
   "source": [
    "# 모델객체 생성\n",
    "xgb_conti = XGBRegressor(max_depth = 8,\n",
    "                         n_estimators = 500,\n",
    "                         n_thread = 5,\n",
    "                         min_child_weight = 10,\n",
    "                         gamma = 0.5,\n",
    "                         objective = 'reg:squarederror',\n",
    "                         use_label_encoder = False,\n",
    "                         random_state = 2022)"
   ]
  },
  {
   "cell_type": "code",
   "execution_count": 65,
   "id": "614970ec-b04f-425b-82c4-17dd2e938981",
   "metadata": {
    "tags": []
   },
   "outputs": [
    {
     "name": "stdout",
     "output_type": "stream",
     "text": [
      "[02:57:58] WARNING: C:/Users/Administrator/workspace/xgboost-win64_release_1.4.0/src/learner.cc:573: \n",
      "Parameters: { \"n_thread\" } might not be used.\n",
      "\n",
      "  This may not be accurate due to some parameters are only used in language bindings but\n",
      "  passed down to XGBoost core.  Or some parameters are not used but slip through this\n",
      "  verification. Please open an issue if you find above cases.\n",
      "\n",
      "\n"
     ]
    }
   ],
   "source": [
    "# 모델학습\n",
    "model_xgb_conti = xgb_conti.fit(X_train, y_train, eval_metric = 'rmse')"
   ]
  },
  {
   "cell_type": "code",
   "execution_count": 66,
   "id": "028bbd52-d46c-40cb-bc62-8d8a5833d381",
   "metadata": {
    "tags": []
   },
   "outputs": [],
   "source": [
    "# RMSE\n",
    "from sklearn.metrics import mean_squared_error\n",
    "y_score = model_xgb_conti.predict(X_test)"
   ]
  },
  {
   "cell_type": "code",
   "execution_count": 67,
   "id": "7abec9b6-c6cf-40d6-b01b-9a06c8e8771d",
   "metadata": {
    "tags": []
   },
   "outputs": [
    {
     "data": {
      "text/plain": [
       "67.9309022195871"
      ]
     },
     "execution_count": 67,
     "metadata": {},
     "output_type": "execute_result"
    }
   ],
   "source": [
    "rmse = mean_squared_error(y_test, y_score, squared = False)\n",
    "rmse"
   ]
  },
  {
   "cell_type": "markdown",
   "id": "b2d256be-df3e-4970-8d1e-1d84eb911b63",
   "metadata": {},
   "source": [
    "<br><br><br>\n",
    "<hr>\n",
    "\n",
    "#### **6) LightGBM**\n",
    "\n",
    "- LightGBM은 ```lightgbm``` 패키지를 설치한 후 해당 사이킷런 래퍼(Wrapper) 패키지 내 클래스 ```LGBMClassifier```, ```LGBMRegressor``` 등을 통해 모형객체를 생성함.\n",
    "- LGBMClassifier는 이진분류와 다지분류, LGBMRegressor는 연속형에 사용됨  \n",
    "\n",
    "#### **6-1) LGBMClassifier**\n",
    "\n",
    "- 이진분류와 다지분류\n",
    "- ```lightgbm.LGBMClassifier(boosting_type = 'gbdt', max_depth = -1, n_estimators = 100, n_jobs = None, learning_rate = 0.1, objective = None, ...)```\n",
    "   - **boosting_type**: 실행하고자 하는 알고리즘 타입\n",
    "      - 'gbdt': Traditional Gradient Boosting Decision Tree (default)\n",
    "      - 'rf': Random Forest\n",
    "   - **max_depth**: 트리의 최대 깊이, <=0은 제한을 두지 않는 것을 의미 (default = -1)\n",
    "   - **n_estimators**: 수행할 부스팅 단계 수 (default = 100)\n",
    "   - **n_jobs**: 병렬 thread 수 (default = None)\n",
    "   - **learning_rate**: 부스팅 반복시 각 분류기에 적용되는 가중치 (default = 0.1)\n",
    "   - **objective**: 목푯값에 따른 학습 목적\n",
    "      - 'binary'\n",
    "      - 'multiclass'"
   ]
  },
  {
   "cell_type": "markdown",
   "id": "81828e95-1e60-43e3-ae8c-a8039871df20",
   "metadata": {},
   "source": [
    "<br>\n",
    "\n",
    "#### Q.\n",
    "사이킷런 패키지 내 breast_cancer 데이터를 호출한 후 학습 데이터와 평가 데이터로 분할하고 클래스 LGBMClassifier()를 통해 이진분류 모형객체를 생성하고 학습한 후 평가 데이터로 목표값을 예측하고 성능을 측정하는 코드 작성하기 (단, 학습과 평가 데이터의 비율은 8:2로 하고, target의 비율을 반영하고 평가지표는 AUC 사용하기)"
   ]
  },
  {
   "cell_type": "code",
   "execution_count": 69,
   "id": "209ebdc9-8bba-4f48-b97a-fa9ab52e801e",
   "metadata": {
    "tags": []
   },
   "outputs": [
    {
     "name": "stdout",
     "output_type": "stream",
     "text": [
      "Collecting lightgbm==3.3.2\n",
      "  Obtaining dependency information for lightgbm==3.3.2 from https://files.pythonhosted.org/packages/ba/24/2f83a1008c8add8cd9da03163f911be6b555eb2b9166b5ab74e1ad63ff40/lightgbm-3.3.2-py3-none-win_amd64.whl.metadata\n",
      "  Downloading lightgbm-3.3.2-py3-none-win_amd64.whl.metadata (15 kB)\n",
      "Requirement already satisfied: wheel in c:\\users\\kbr_u\\anaconda3\\lib\\site-packages (from lightgbm==3.3.2) (0.38.4)\n",
      "Requirement already satisfied: numpy in c:\\users\\kbr_u\\anaconda3\\lib\\site-packages (from lightgbm==3.3.2) (1.24.3)\n",
      "Requirement already satisfied: scipy in c:\\users\\kbr_u\\anaconda3\\lib\\site-packages (from lightgbm==3.3.2) (1.11.1)\n",
      "Requirement already satisfied: scikit-learn!=0.22.0 in c:\\users\\kbr_u\\anaconda3\\lib\\site-packages (from lightgbm==3.3.2) (1.3.0)\n",
      "Requirement already satisfied: joblib>=1.1.1 in c:\\users\\kbr_u\\anaconda3\\lib\\site-packages (from scikit-learn!=0.22.0->lightgbm==3.3.2) (1.2.0)\n",
      "Requirement already satisfied: threadpoolctl>=2.0.0 in c:\\users\\kbr_u\\anaconda3\\lib\\site-packages (from scikit-learn!=0.22.0->lightgbm==3.3.2) (2.2.0)\n",
      "Downloading lightgbm-3.3.2-py3-none-win_amd64.whl (1.0 MB)\n",
      "   ---------------------------------------- 0.0/1.0 MB ? eta -:--:--\n",
      "   ---------------------------------------  1.0/1.0 MB 32.4 MB/s eta 0:00:01\n",
      "   ---------------------------------------- 1.0/1.0 MB 12.9 MB/s eta 0:00:00\n",
      "Installing collected packages: lightgbm\n",
      "Successfully installed lightgbm-3.3.2\n"
     ]
    }
   ],
   "source": [
    "!pip install lightgbm==3.3.2"
   ]
  },
  {
   "cell_type": "code",
   "execution_count": 72,
   "id": "5f7e49d4-511e-4bd8-a82e-68b97678ed22",
   "metadata": {
    "tags": []
   },
   "outputs": [],
   "source": [
    "# 클래스 함수 불러오기\n",
    "from lightgbm import LGBMClassifier\n",
    "from sklearn.model_selection import train_test_split"
   ]
  },
  {
   "cell_type": "code",
   "execution_count": 73,
   "id": "32c80c1b-6f55-41f5-9948-57efee648d61",
   "metadata": {
    "tags": []
   },
   "outputs": [],
   "source": [
    "# breast_cancer 데이터 가져오기\n",
    "from sklearn.datasets import load_breast_cancer\n",
    "breast_cancer = load_breast_cancer()\n",
    "data = breast_cancer.data\n",
    "target = breast_cancer.target"
   ]
  },
  {
   "cell_type": "code",
   "execution_count": 74,
   "id": "f7b2eac2-959a-4268-9c6a-167bee0bf9f2",
   "metadata": {
    "tags": []
   },
   "outputs": [],
   "source": [
    "# 데이터 분할\n",
    "X_train, X_test, y_train, y_test = train_test_split(data,\n",
    "                                                    target,\n",
    "                                                    test_size = 0.2,\n",
    "                                                    stratify = target,\n",
    "                                                    random_state = 2205)"
   ]
  },
  {
   "cell_type": "code",
   "execution_count": 75,
   "id": "f40faccb-8feb-4f32-96b6-03bf6e330b2b",
   "metadata": {
    "tags": []
   },
   "outputs": [],
   "source": [
    "# 모델객체 생성\n",
    "lgbm_bin = LGBMClassifier(max_depth = 8,\n",
    "                          n_estimators = 500,\n",
    "                          n_jobs = 30,\n",
    "                          min_child_weight = 10,\n",
    "                          learning_rate = 0.2,\n",
    "                          objective = 'binary',\n",
    "                          random_state = 2022)"
   ]
  },
  {
   "cell_type": "code",
   "execution_count": 76,
   "id": "f18fc441-fffe-4773-8180-c156c97acfb5",
   "metadata": {
    "tags": []
   },
   "outputs": [],
   "source": [
    "# 모델학습\n",
    "model_lgbm_bin = lgbm_bin.fit(X_train, y_train)"
   ]
  },
  {
   "cell_type": "code",
   "execution_count": 77,
   "id": "da971097-98f0-4dbc-bbf2-d6e835a591fd",
   "metadata": {
    "tags": []
   },
   "outputs": [],
   "source": [
    "# ROC\n",
    "from sklearn.metrics import roc_curve, auc\n",
    "y_pred = model_lgbm_bin.predict_proba(X_test)[:, 1]"
   ]
  },
  {
   "cell_type": "code",
   "execution_count": 78,
   "id": "62f73dae-3f3c-4be9-9556-02e0d6cae422",
   "metadata": {
    "tags": []
   },
   "outputs": [
    {
     "name": "stdout",
     "output_type": "stream",
     "text": [
      "[0.         0.         0.         0.         0.         0.\n",
      " 0.         0.         0.         0.         0.         0.02380952\n",
      " 0.02380952 0.23809524 0.28571429 0.80952381 0.92857143 1.        ]\n",
      "[0.         0.01388889 0.125      0.15277778 0.31944444 0.34722222\n",
      " 0.43055556 0.45833333 0.73611111 0.76388889 0.98611111 0.98611111\n",
      " 1.         1.         1.         1.         1.         1.        ]\n",
      "[       inf 0.99542067 0.99426807 0.99420371 0.99198285 0.99137414\n",
      " 0.99065517 0.99063428 0.95378065 0.95187075 0.48683936 0.33081646\n",
      " 0.32117036 0.03376842 0.02998259 0.01030292 0.0073062  0.00560571]\n"
     ]
    }
   ],
   "source": [
    "fpr, tpr, thresholds = roc_curve(y_test, y_pred)\n",
    "print(fpr)\n",
    "print(tpr)\n",
    "print(thresholds)"
   ]
  },
  {
   "cell_type": "code",
   "execution_count": 79,
   "id": "2f4f9438-c15c-4c44-888b-a436d7bea78a",
   "metadata": {
    "tags": []
   },
   "outputs": [
    {
     "data": {
      "text/plain": [
       "0.9996693121693121"
      ]
     },
     "execution_count": 79,
     "metadata": {},
     "output_type": "execute_result"
    }
   ],
   "source": [
    "# AUC\n",
    "AUC = auc(fpr, tpr)\n",
    "AUC"
   ]
  },
  {
   "cell_type": "markdown",
   "id": "bb25e2f6-4ea6-4c57-9d3d-bfb047cb3059",
   "metadata": {},
   "source": [
    "<br>\n",
    "\n",
    "#### Q.\n",
    "사이킷런 패키지 내 iris 데이터를 호출한 후 학습 데이터와 평가 데이터로 분할하고 클래스 LGBMClassifier()를 통해 다지분류 모형객체를 생성하고 학습한 후 평가 데이터로 목표값을 예측하고 성능을 측정하는 코드 작성하기 (단, 학습과 평가 데이터의 비율은 8:2로 하고, target의 비율을 반영하고 평가지표는 macro f1-score 사용하기)"
   ]
  },
  {
   "cell_type": "code",
   "execution_count": 80,
   "id": "7bdd0eae-ab04-499d-b6eb-696b027826d5",
   "metadata": {
    "tags": []
   },
   "outputs": [],
   "source": [
    "# 클래스 함수 불러오기\n",
    "from sklearn.model_selection import train_test_split\n",
    "from lightgbm import LGBMClassifier "
   ]
  },
  {
   "cell_type": "code",
   "execution_count": 81,
   "id": "c476998b-75a8-4a59-869b-fb994f1cc444",
   "metadata": {
    "tags": []
   },
   "outputs": [],
   "source": [
    "# iris 데이터 가져오기\n",
    "from sklearn.datasets import load_iris\n",
    "iris = load_iris()\n",
    "data = iris.data\n",
    "target = iris.target"
   ]
  },
  {
   "cell_type": "code",
   "execution_count": 82,
   "id": "b52275c2-769b-478f-8945-bac3f9fa37e9",
   "metadata": {
    "tags": []
   },
   "outputs": [],
   "source": [
    "# 데이터 분할\n",
    "X_train, X_test, y_train, y_test = train_test_split(data,\n",
    "                                                    target,\n",
    "                                                    test_size = 0.2,\n",
    "                                                    stratify = target,\n",
    "                                                    random_state = 2205)"
   ]
  },
  {
   "cell_type": "code",
   "execution_count": 83,
   "id": "9485d141-37d5-41cd-8434-7ade35abcac8",
   "metadata": {
    "tags": []
   },
   "outputs": [],
   "source": [
    "# 모형객체 생성\n",
    "lgbm_multi = LGBMClassifier(max_depth = 8,\n",
    "                            n_estimators = 500,\n",
    "                            n_jobs = 5,\n",
    "                            min_child_weight = 10,\n",
    "                            learning_rate = 0.5,\n",
    "                            objective = 'multiclass',\n",
    "                            random_state = 2022)"
   ]
  },
  {
   "cell_type": "code",
   "execution_count": 84,
   "id": "e0680b15-faab-482b-9d61-ac961660a1c2",
   "metadata": {
    "tags": []
   },
   "outputs": [],
   "source": [
    "# 모델학습\n",
    "model_lgbm_multi = lgbm_multi.fit(X_train, y_train)"
   ]
  },
  {
   "cell_type": "code",
   "execution_count": 85,
   "id": "30f17f5a-69dd-4ff3-8d41-eb7200d527d9",
   "metadata": {
    "tags": []
   },
   "outputs": [],
   "source": [
    "# macro f1-score\n",
    "from sklearn.metrics import f1_score\n",
    "y_score = model_lgbm_multi.predict(X_test)"
   ]
  },
  {
   "cell_type": "code",
   "execution_count": 86,
   "id": "be65dea6-f121-4ac3-afed-5808b3383d73",
   "metadata": {
    "tags": []
   },
   "outputs": [
    {
     "data": {
      "text/plain": [
       "0.9665831244778613"
      ]
     },
     "execution_count": 86,
     "metadata": {},
     "output_type": "execute_result"
    }
   ],
   "source": [
    "macro_f1 = f1_score(y_test, y_score, average = 'macro')\n",
    "macro_f1"
   ]
  },
  {
   "cell_type": "markdown",
   "id": "dec7479c-fed8-4399-ace7-1dc6050b85ae",
   "metadata": {},
   "source": [
    "<br><br>\n",
    "      \n",
    "#### **5-2) XGBRegressor**\n",
    "\n",
    "- 연속형 타겟변수\n",
    "- ```lightgbm.LGBMRegressor(boosting_type = 'gbdt', max_depth = -1, n_estimators = 100, n_jobs = None, learning_rate = 0.1, objective = None, ...)```\n",
    "   - **boosting_type**: 실행하고자 하는 알고리즘 타입\n",
    "      - 'gbdt': Traditional Gradient Boosting Decision Tree (default)\n",
    "      - 'rf': Random Forest\n",
    "   - **max_depth**: 트리의 최대 깊이, <=0은 제한을 두지 않는 것을 의미 (default = -1)\n",
    "   - **n_estimators**: 수행할 부스팅 단계 수 (default = 100)\n",
    "   - **n_jobs**: 병렬 thread 수 (default = None)\n",
    "   - **learning_rate**: 부스팅 반복시 각 분류기에 적용되는 가중치 (default = 0.1)\n",
    "   - **objective**: 목푯값에 따른 학습 목적\n",
    "      - 회귀는 'regression'"
   ]
  },
  {
   "cell_type": "markdown",
   "id": "c5fc08cf-145b-4ffb-8b7e-5d166202cfeb",
   "metadata": {},
   "source": [
    "#### Q.\n",
    "사이킷런 패키지 내 diabetes 데이터를 호출한 후 학습 데이터와 평가 데이터로 분할하고 클래스 LGBMRegresor()를 통해 연속형 예측 모형객체를 생성하고 학습한 후 평가 데이터로 목표값을 예측하고 성능을 측정하는 코드 작성하기 (단, 학습과 평가 데이터의 비율은 8:2로 하고 평가지표는 RMSE 사용하기)"
   ]
  },
  {
   "cell_type": "code",
   "execution_count": 87,
   "id": "70ef62e4-bb88-4815-b686-34dee9b391da",
   "metadata": {
    "tags": []
   },
   "outputs": [],
   "source": [
    "# 클래스 함수 불러오기\n",
    "from lightgbm import LGBMRegressor\n",
    "from sklearn.model_selection import train_test_split"
   ]
  },
  {
   "cell_type": "code",
   "execution_count": 89,
   "id": "19f0bc84-c58b-4d4a-b71e-876192be4a44",
   "metadata": {
    "tags": []
   },
   "outputs": [],
   "source": [
    "# diabetes 데이터 가져오기\n",
    "from sklearn.datasets import load_diabetes\n",
    "diabetes = load_diabetes()\n",
    "data = diabetes.data\n",
    "target = diabetes.target"
   ]
  },
  {
   "cell_type": "code",
   "execution_count": 90,
   "id": "d8621cf0-1177-445c-8729-a18c2cd37d7c",
   "metadata": {
    "tags": []
   },
   "outputs": [],
   "source": [
    "# 데이터 분할\n",
    "X_train, X_test, y_train, y_test = train_test_split(data,\n",
    "                                                    target,\n",
    "                                                    test_size = 0.2,\n",
    "                                                    random_state = 2205)"
   ]
  },
  {
   "cell_type": "code",
   "execution_count": 91,
   "id": "0ba767f7-8665-48ea-9dfd-4fba688f739f",
   "metadata": {
    "tags": []
   },
   "outputs": [],
   "source": [
    "# 모델객체 생성\n",
    "lgbm_conti = LGBMRegressor(max_depth = 8,\n",
    "                           n_estimators = 500,\n",
    "                           n_jobs = 5,\n",
    "                           min_child_weight = 10,\n",
    "                           learning_rate = 0.5,\n",
    "                           objective = 'regression',\n",
    "                           random_state = 2022)"
   ]
  },
  {
   "cell_type": "code",
   "execution_count": 92,
   "id": "5f98ebbb-70a4-4768-b854-99ebd9a9d411",
   "metadata": {
    "tags": []
   },
   "outputs": [],
   "source": [
    "# 모델학습\n",
    "model_lgbm_conti = lgbm_conti.fit(X_train, y_train)"
   ]
  },
  {
   "cell_type": "code",
   "execution_count": 93,
   "id": "5fdae44d-3707-4b74-81ca-4fdd4eae22bb",
   "metadata": {
    "tags": []
   },
   "outputs": [],
   "source": [
    "# RMSE\n",
    "from sklearn.metrics import mean_squared_error\n",
    "y_pred = model_lgbm_conti.predict(X_test)"
   ]
  },
  {
   "cell_type": "code",
   "execution_count": 94,
   "id": "79fdfddb-3d1d-4019-8290-0c09632e832b",
   "metadata": {
    "tags": []
   },
   "outputs": [
    {
     "data": {
      "text/plain": [
       "63.62631474228169"
      ]
     },
     "execution_count": 94,
     "metadata": {},
     "output_type": "execute_result"
    }
   ],
   "source": [
    "rmse = mean_squared_error(y_test, y_pred, squared = False)\n",
    "rmse"
   ]
  },
  {
   "cell_type": "code",
   "execution_count": null,
   "id": "95f460f9-30d3-4c2a-a0a1-f5f7757bc520",
   "metadata": {},
   "outputs": [],
   "source": []
  }
 ],
 "metadata": {
  "kernelspec": {
   "display_name": "Python 3 (ipykernel)",
   "language": "python",
   "name": "python3"
  },
  "language_info": {
   "codemirror_mode": {
    "name": "ipython",
    "version": 3
   },
   "file_extension": ".py",
   "mimetype": "text/x-python",
   "name": "python",
   "nbconvert_exporter": "python",
   "pygments_lexer": "ipython3",
   "version": "3.11.5"
  }
 },
 "nbformat": 4,
 "nbformat_minor": 5
}
