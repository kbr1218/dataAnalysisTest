{
 "cells": [
  {
   "cell_type": "markdown",
   "id": "af6d6003-854a-4e0e-8160-2067204f0d13",
   "metadata": {},
   "source": [
    "## Part 02 데이터 핸들링 - 2장 Pandas를 활용한 데이터 다루기\n",
    "### 1절: Series와 DataFrame"
   ]
  },
  {
   "cell_type": "code",
   "execution_count": 1,
   "id": "f7c26cbc-812a-4292-84ac-9264fbaf32e6",
   "metadata": {
    "tags": []
   },
   "outputs": [],
   "source": [
    "import pandas as pd\n",
    "import numpy as np"
   ]
  },
  {
   "cell_type": "markdown",
   "id": "81adc104-7d19-4e96-9913-3f444cd318ab",
   "metadata": {},
   "source": [
    "#### Series (시리즈)\n",
    "- 일차원 배열 데이터값(value)와 데이터 레이블(lable) 배열인 인덱스로 이루어진 구조적 1차원 객체\n",
    "- 1d array 객체와의 가장 큰 차이점은 시리즈는 원소의 데이터 타입이 서로 달라도 된다는 것\n",
    "- ```pandas.Series(object, index)``` 방법으로 생성 가능\n",
    "\n",
    "<br>\n",
    "\n",
    "#### 인자  \n",
    "- **object**: 객체, 주로 리스트 등과 같은 시퀀스형 객체와 딕셔너리형 객체 사용\n",
    "- **index**: 원하는 인덱스(레이블 배열)를 지정할 때 사용. 별도 지정하지 않을 경우 위치 인덱스 번호로 자동 지정"
   ]
  },
  {
   "cell_type": "code",
   "execution_count": 2,
   "id": "5efa5710-b112-4081-89eb-ea244d672bf7",
   "metadata": {
    "tags": []
   },
   "outputs": [
    {
     "data": {
      "text/plain": [
       "0    김말이\n",
       "1    김건아\n",
       "2    호랑이\n",
       "dtype: object"
      ]
     },
     "execution_count": 2,
     "metadata": {},
     "output_type": "execute_result"
    }
   ],
   "source": [
    "# object에 리스트(시퀀스) 객체 이용\n",
    "obj = ['김말이', '김건아', '호랑이']   # 값 리스트\n",
    "ser1 = pd.Series(obj)\n",
    "ser1"
   ]
  },
  {
   "cell_type": "code",
   "execution_count": 3,
   "id": "3b0f40eb-6bef-49bc-9d34-fbf69bed1a6c",
   "metadata": {
    "tags": []
   },
   "outputs": [
    {
     "data": {
      "text/plain": [
       "A    김말이\n",
       "B    김건아\n",
       "C    호랑이\n",
       "dtype: object"
      ]
     },
     "execution_count": 3,
     "metadata": {},
     "output_type": "execute_result"
    }
   ],
   "source": [
    "# 원하는 인덱스 지정\n",
    "idx = ['A', 'B', 'C']\n",
    "ser2 = pd.Series(obj, index=idx)\n",
    "ser2"
   ]
  },
  {
   "cell_type": "code",
   "execution_count": 5,
   "id": "664dd364-9811-440a-a504-08564a65a8d5",
   "metadata": {
    "tags": []
   },
   "outputs": [
    {
     "data": {
      "text/plain": [
       "a    김말이\n",
       "b    김건아\n",
       "c    호랑이\n",
       "dtype: object"
      ]
     },
     "execution_count": 5,
     "metadata": {},
     "output_type": "execute_result"
    }
   ],
   "source": [
    "# object에 딕셔너리 객체 이용\n",
    "dic = { 'a':'김말이', 'b':'김건아', 'c':'호랑이'}\n",
    "ser3 = pd.Series(dic)\n",
    "ser3"
   ]
  },
  {
   "cell_type": "code",
   "execution_count": null,
   "id": "fcad43ab-dd03-4e49-8e5d-edbcab053334",
   "metadata": {},
   "outputs": [],
   "source": []
  },
  {
   "cell_type": "markdown",
   "id": "ad9a1554-be33-4540-b83a-62d600abe5bb",
   "metadata": {},
   "source": [
    "#### 시리즈 정보 확인\n",
    "- **시리즈.values** : 시리즈 내 값을 배열 형태로 반환\n",
    "- **시리즈.index** : 시리즈 내 인덱스를 레이블 형태로 반환\n",
    "- **시리즈.dtypes** : 시리즈의 데이터 타입 확인 (object-일반 문자, float-실수, int-정수, category-카테고리 등)\n",
    "- **시리즈.size** : 시리즈의 총 객체 수"
   ]
  },
  {
   "cell_type": "code",
   "execution_count": 8,
   "id": "3deb6821-b1e2-4d8a-9c14-98bfc3df7dc8",
   "metadata": {
    "tags": []
   },
   "outputs": [
    {
     "name": "stdout",
     "output_type": "stream",
     "text": [
      "['김말이' '김건아' '호랑이']\n",
      "['김말이' '김건아' '호랑이']\n",
      "['김말이' '김건아' '호랑이']\n"
     ]
    }
   ],
   "source": [
    "# values\n",
    "print(ser1.values)\n",
    "print(ser2.values)\n",
    "print(ser3.values)"
   ]
  },
  {
   "cell_type": "code",
   "execution_count": 7,
   "id": "98a5f0cf-dfe3-45fb-b984-be278b2f879f",
   "metadata": {
    "tags": []
   },
   "outputs": [
    {
     "name": "stdout",
     "output_type": "stream",
     "text": [
      "RangeIndex(start=0, stop=3, step=1)\n",
      "Index(['A', 'B', 'C'], dtype='object')\n",
      "Index(['a', 'b', 'c'], dtype='object')\n"
     ]
    }
   ],
   "source": [
    "# index\n",
    "print(ser1.index)\n",
    "print(ser2.index)\n",
    "print(ser3.index)"
   ]
  },
  {
   "cell_type": "code",
   "execution_count": 9,
   "id": "9b3d5537-751f-4e7c-aa83-49f5609311cb",
   "metadata": {
    "tags": []
   },
   "outputs": [
    {
     "name": "stdout",
     "output_type": "stream",
     "text": [
      "object\n",
      "object\n",
      "object\n"
     ]
    }
   ],
   "source": [
    "# dtypes\n",
    "print(ser1.dtypes)\n",
    "print(ser2.dtypes)\n",
    "print(ser3.dtypes)"
   ]
  },
  {
   "cell_type": "code",
   "execution_count": 10,
   "id": "383bc5f3-388e-4bea-9461-9a327bde676e",
   "metadata": {
    "tags": []
   },
   "outputs": [
    {
     "name": "stdout",
     "output_type": "stream",
     "text": [
      "3\n",
      "3\n",
      "3\n"
     ]
    }
   ],
   "source": [
    "# size\n",
    "print(ser1.size)\n",
    "print(ser2.size)\n",
    "print(ser3.size)"
   ]
  },
  {
   "cell_type": "code",
   "execution_count": null,
   "id": "0bd400c7-3440-47be-b65b-8d434b90b444",
   "metadata": {},
   "outputs": [],
   "source": []
  },
  {
   "cell_type": "markdown",
   "id": "87232955-aa7a-4032-b76a-59d2f8dcdbc5",
   "metadata": {},
   "source": [
    "index 메소드를 이용해 시리즈의 인덱스 변경"
   ]
  },
  {
   "cell_type": "code",
   "execution_count": 11,
   "id": "7f290b8c-94b1-4cc0-8117-3c1fea8acced",
   "metadata": {
    "tags": []
   },
   "outputs": [
    {
     "name": "stdout",
     "output_type": "stream",
     "text": [
      "0    김말이\n",
      "1    김건아\n",
      "2    호랑이\n",
      "dtype: object\n"
     ]
    },
    {
     "data": {
      "text/plain": [
       "Q    김말이\n",
       "W    김건아\n",
       "E    호랑이\n",
       "dtype: object"
      ]
     },
     "execution_count": 11,
     "metadata": {},
     "output_type": "execute_result"
    }
   ],
   "source": [
    "print(ser1)                     # 변경 전\n",
    "ser1.index = ['Q', 'W', 'E']    # 변경\n",
    "ser1                            # 변경 후"
   ]
  },
  {
   "cell_type": "code",
   "execution_count": null,
   "id": "f46dffa9-4ed9-443f-9b91-d2307a0a199d",
   "metadata": {},
   "outputs": [],
   "source": []
  },
  {
   "cell_type": "markdown",
   "id": "4183cdef-8329-4886-926d-a035b251c5ce",
   "metadata": {},
   "source": [
    "#### 시리즈의 인덱싱과 슬라이싱\n",
    "- 시리즈는 대괄호([])와 위치 인덱스 번호를 통한 인덱싱과 슬라이싱이 가능\n",
    "- 위치 기반 인덱스 번호만이 아니라, 레이블 기반 인덱스들로도 인덱싱과 슬라이싱이 가능함\n",
    "- 시리지는 **시리즈명[위치인덱스]** 또는 **시리즈명[레이블인덱스]** 과 같은 방법으로 인덱싱과 슬라이싱이 간으함"
   ]
  },
  {
   "cell_type": "code",
   "execution_count": 13,
   "id": "13999d51-d326-4782-ace4-1ea15b980667",
   "metadata": {
    "tags": []
   },
   "outputs": [
    {
     "data": {
      "text/plain": [
       "A    22\n",
       "B    32\n",
       "C    41\n",
       "D    56\n",
       "E    46\n",
       "F    73\n",
       "dtype: int64"
      ]
     },
     "execution_count": 13,
     "metadata": {},
     "output_type": "execute_result"
    }
   ],
   "source": [
    "obj = [22, 32, 41, 56, 46, 73]\n",
    "idx = list('ABCDEF')\n",
    "ser1 = pd.Series(obj, index=idx)\n",
    "ser1"
   ]
  },
  {
   "cell_type": "code",
   "execution_count": 15,
   "id": "72ee1c35-bd3e-4ddd-8a90-e03abe4713fa",
   "metadata": {
    "tags": []
   },
   "outputs": [
    {
     "name": "stdout",
     "output_type": "stream",
     "text": [
      "46\n",
      "46\n"
     ]
    }
   ],
   "source": [
    "# 인덱싱\n",
    "print(ser1[4])    # 위치 기반\n",
    "print(ser1['E'])  # 레이블 기반"
   ]
  },
  {
   "cell_type": "code",
   "execution_count": 16,
   "id": "b4abb554-c94f-4d05-ae1f-7d11c9da0d33",
   "metadata": {
    "tags": []
   },
   "outputs": [
    {
     "name": "stdout",
     "output_type": "stream",
     "text": [
      "C    41\n",
      "D    56\n",
      "dtype: int64\n",
      "B    32\n",
      "C    41\n",
      "D    56\n",
      "E    46\n",
      "dtype: int64\n"
     ]
    }
   ],
   "source": [
    "# 슬라이싱\n",
    "print(ser1[2:4])      #위치 기반\n",
    "print(ser1['B':'E'])  # 레이블 기반"
   ]
  },
  {
   "cell_type": "code",
   "execution_count": 18,
   "id": "6f09c587-821c-480c-96fc-311bc3fe7260",
   "metadata": {
    "tags": []
   },
   "outputs": [
    {
     "data": {
      "text/plain": [
       "A    22\n",
       "D    56\n",
       "E    46\n",
       "dtype: int64"
      ]
     },
     "execution_count": 18,
     "metadata": {},
     "output_type": "execute_result"
    }
   ],
   "source": [
    "# 연속하지 않은 위치의 값을 참조할 때\n",
    "idx = [0, 3, 4]\n",
    "ser1[idx]"
   ]
  },
  {
   "cell_type": "code",
   "execution_count": 19,
   "id": "19000e19-7d5c-432b-b8a6-aaf8c9db9160",
   "metadata": {
    "tags": []
   },
   "outputs": [
    {
     "data": {
      "text/plain": [
       "A    22\n",
       "D    56\n",
       "E    46\n",
       "dtype: int64"
      ]
     },
     "execution_count": 19,
     "metadata": {},
     "output_type": "execute_result"
    }
   ],
   "source": [
    "lbl = ['A', 'D', 'E']\n",
    "ser1[lbl]"
   ]
  },
  {
   "cell_type": "code",
   "execution_count": null,
   "id": "b866e7a3-5854-44f2-9e5a-2bd53b9e48e6",
   "metadata": {},
   "outputs": [],
   "source": []
  },
  {
   "cell_type": "markdown",
   "id": "762c5da9-7f91-4a17-9fd5-6f8787ecdf85",
   "metadata": {},
   "source": [
    "#### 시리즈의 통계 메소드\n",
    "1. **시리즈.describe()** : 시리즈의 요약 통계량에 대한 정보\n",
    "   - float/int - 총 객체 수, 평균, 표준편차, 최솟값, 제1사분위수, 중앙값(제2사분위수), 제3사분위수, 최댓값, 데이터타입)\n",
    "   - object/category - 총 객체 수, 유일값, 최빈값, 최빈값의 빈도\n",
    "2. **시리즈.count()** : 시리즈의 총 객체 수\n",
    "3. **시리즈.mean()** : 시리즈 객체의 평균\n",
    "4. **시리즈.var(ddof=1)** : 시리즈의 분산 (numpy.var()와 ddof의 default 값이 다름)\n",
    "5. **시리즈.std(ddof=1)** : 시리즈의 표준편차 (numpy.var()와 ddof의 default 값이 다름)\n",
    "6. **시리즈.min()** : 시리즈의 최솟값\n",
    "7. **시리즈.max()** : 시리즈의 최댓값\n",
    "8. **시리즈.median()** : 시리즈의 중앙값\n",
    "9. **시리즈.quantile(q=0.5)** : 시리즈의 q * 100% 백분위수(default=0.5로, 50 백분위수)\n",
    "10. **시리즈.unique()** : 시리즈의 유일값을 1d array로 반환\n",
    "11. **시리즈.value_counts()** : 시리즈의 유일값별 빈도수를 시리즈로 반환\n",
    "12. **시리즈.mode()** : 시리즈의 최빈값을 시리즈로 반환"
   ]
  },
  {
   "cell_type": "code",
   "execution_count": 20,
   "id": "6dab7da5-835f-44e0-9160-1744461c62d4",
   "metadata": {
    "tags": []
   },
   "outputs": [],
   "source": [
    "# 시리즈 생성\n",
    "ser = pd.Series(range(100))"
   ]
  },
  {
   "cell_type": "code",
   "execution_count": 21,
   "id": "6ee19ab4-4738-4698-9e95-2183ed740eee",
   "metadata": {
    "tags": []
   },
   "outputs": [
    {
     "data": {
      "text/plain": [
       "count    100.000000\n",
       "mean      49.500000\n",
       "std       29.011492\n",
       "min        0.000000\n",
       "25%       24.750000\n",
       "50%       49.500000\n",
       "75%       74.250000\n",
       "max       99.000000\n",
       "dtype: float64"
      ]
     },
     "execution_count": 21,
     "metadata": {},
     "output_type": "execute_result"
    }
   ],
   "source": [
    "ser.describe()"
   ]
  },
  {
   "cell_type": "code",
   "execution_count": 22,
   "id": "1e32e906-d78c-494e-8d50-b3517020f6ed",
   "metadata": {
    "tags": []
   },
   "outputs": [
    {
     "data": {
      "text/plain": [
       "100"
      ]
     },
     "execution_count": 22,
     "metadata": {},
     "output_type": "execute_result"
    }
   ],
   "source": [
    "ser.count()"
   ]
  },
  {
   "cell_type": "code",
   "execution_count": 23,
   "id": "a343e799-1aa6-4883-a8d3-689e125df5b3",
   "metadata": {
    "tags": []
   },
   "outputs": [
    {
     "data": {
      "text/plain": [
       "49.5"
      ]
     },
     "execution_count": 23,
     "metadata": {},
     "output_type": "execute_result"
    }
   ],
   "source": [
    "ser.mean()"
   ]
  },
  {
   "cell_type": "code",
   "execution_count": 24,
   "id": "c9940001-d28f-4629-9c07-58b6d3efd04e",
   "metadata": {
    "tags": []
   },
   "outputs": [
    {
     "data": {
      "text/plain": [
       "841.6666666666666"
      ]
     },
     "execution_count": 24,
     "metadata": {},
     "output_type": "execute_result"
    }
   ],
   "source": [
    "ser.var()"
   ]
  },
  {
   "cell_type": "code",
   "execution_count": 25,
   "id": "4a3643e0-f5ed-4b3f-988f-e93be64d3a25",
   "metadata": {
    "tags": []
   },
   "outputs": [
    {
     "data": {
      "text/plain": [
       "29.011491975882016"
      ]
     },
     "execution_count": 25,
     "metadata": {},
     "output_type": "execute_result"
    }
   ],
   "source": [
    "ser.std()"
   ]
  },
  {
   "cell_type": "code",
   "execution_count": 27,
   "id": "b76d0974-aa16-42e7-8e53-aad61964fc65",
   "metadata": {
    "tags": []
   },
   "outputs": [
    {
     "name": "stdout",
     "output_type": "stream",
     "text": [
      "0\n",
      "99\n"
     ]
    }
   ],
   "source": [
    "print(ser.min())\n",
    "print(ser.max())"
   ]
  },
  {
   "cell_type": "code",
   "execution_count": 28,
   "id": "741857ae-aa82-457f-8f19-ee7a347ce618",
   "metadata": {
    "tags": []
   },
   "outputs": [
    {
     "data": {
      "text/plain": [
       "49.5"
      ]
     },
     "execution_count": 28,
     "metadata": {},
     "output_type": "execute_result"
    }
   ],
   "source": [
    "ser.median()"
   ]
  },
  {
   "cell_type": "code",
   "execution_count": 31,
   "id": "43d90093-d059-4b31-b5ee-ce3d23f7879c",
   "metadata": {
    "tags": []
   },
   "outputs": [
    {
     "name": "stdout",
     "output_type": "stream",
     "text": [
      "24.75\n",
      "49.5\n",
      "74.25\n"
     ]
    }
   ],
   "source": [
    "print(ser.quantile(q=0.25))\n",
    "print(ser.quantile())\n",
    "print(ser.quantile(q=0.75))"
   ]
  },
  {
   "cell_type": "code",
   "execution_count": 34,
   "id": "1b3368ba-189f-4d6a-8d00-02a62c19fd16",
   "metadata": {
    "tags": []
   },
   "outputs": [],
   "source": [
    "ser2 = pd.Series(['h', 'e', 'l', 'l', 'o'])"
   ]
  },
  {
   "cell_type": "code",
   "execution_count": 35,
   "id": "bf65245c-0edc-49ba-8257-98df4d6f6c5e",
   "metadata": {
    "tags": []
   },
   "outputs": [
    {
     "data": {
      "text/plain": [
       "count     5\n",
       "unique    4\n",
       "top       l\n",
       "freq      2\n",
       "dtype: object"
      ]
     },
     "execution_count": 35,
     "metadata": {},
     "output_type": "execute_result"
    }
   ],
   "source": [
    "ser2.describe()"
   ]
  },
  {
   "cell_type": "code",
   "execution_count": 36,
   "id": "cd7a1431-e637-4a4c-8d7d-e07a3f0d908a",
   "metadata": {
    "tags": []
   },
   "outputs": [
    {
     "data": {
      "text/plain": [
       "l    2\n",
       "h    1\n",
       "e    1\n",
       "o    1\n",
       "Name: count, dtype: int64"
      ]
     },
     "execution_count": 36,
     "metadata": {},
     "output_type": "execute_result"
    }
   ],
   "source": [
    "ser2.value_counts()"
   ]
  },
  {
   "cell_type": "code",
   "execution_count": 38,
   "id": "d0a2cce1-8642-4a65-b90a-6c3e5717ca8b",
   "metadata": {
    "tags": []
   },
   "outputs": [
    {
     "data": {
      "text/plain": [
       "0    l\n",
       "dtype: object"
      ]
     },
     "execution_count": 38,
     "metadata": {},
     "output_type": "execute_result"
    }
   ],
   "source": [
    "ser2.mode()"
   ]
  },
  {
   "cell_type": "code",
   "execution_count": null,
   "id": "4980ce90-8aee-47a2-bd24-e920dc9eb550",
   "metadata": {},
   "outputs": [],
   "source": []
  },
  {
   "cell_type": "markdown",
   "id": "196eafce-d0a8-45e1-98bd-a0856e53f2eb",
   "metadata": {},
   "source": [
    "#### DataFrame (데이터프레임)\n",
    "- 직사각형 형태의 스프레드시트처럼 같은 크기의 열들을 모아놓은 구조적 2차원 객체\n",
    "- 데이터프레임은 열과 행, 각각의 인덱스들로 이루어져 있음\n",
    "- 열은 변수(variable), 행은 개체(subject)\n",
    "- 데이터프레임과 2d array 객체와 가장 큰 차이점은 데이터프레임의 각 변수들이 서로 다른 데이터타입을 가질 수 있다는 것\n",
    "- ```pandas.DataFrame(object, index, columns)```로 생성 가능\n",
    "\n",
    "<br>\n",
    "\n",
    "#### 인자\n",
    "- **object** : 객체, 주로 딕셔너리형과 2d array 객체를 사용\n",
    "- **index** : 행에 대한 인덱스를 별도로 지정, 별도 지정하지 않을 경우 행 위치 인덱스로 자동 지정됨\n",
    "- **columns** : 열에 대한 인덱스를 별도로 지정, 별도 지정하지 않을 경우 열 위치 인덱스로 자동 저장됨\n",
    "\n",
    "<br>\n",
    "\n",
    "- 딕셔너리를 통한 데이터프레임 객체 생성 시 딕셔너리는 동일한 길이를 가진 리스트를 값으로 가지며, columns를 생략해도 딕셔너리의 키가 데이터프레임의 열 인덱스로 자동 저장됨"
   ]
  },
  {
   "cell_type": "code",
   "execution_count": 42,
   "id": "d6ac2e72-8bfb-434a-84e2-3a82a7eea078",
   "metadata": {
    "tags": []
   },
   "outputs": [
    {
     "data": {
      "text/html": [
       "<div>\n",
       "<style scoped>\n",
       "    .dataframe tbody tr th:only-of-type {\n",
       "        vertical-align: middle;\n",
       "    }\n",
       "\n",
       "    .dataframe tbody tr th {\n",
       "        vertical-align: top;\n",
       "    }\n",
       "\n",
       "    .dataframe thead th {\n",
       "        text-align: right;\n",
       "    }\n",
       "</style>\n",
       "<table border=\"1\" class=\"dataframe\">\n",
       "  <thead>\n",
       "    <tr style=\"text-align: right;\">\n",
       "      <th></th>\n",
       "      <th>이름</th>\n",
       "      <th>전공</th>\n",
       "      <th>성별</th>\n",
       "      <th>나이</th>\n",
       "    </tr>\n",
       "  </thead>\n",
       "  <tbody>\n",
       "    <tr>\n",
       "      <th>0</th>\n",
       "      <td>호랑이</td>\n",
       "      <td>경영학과</td>\n",
       "      <td>여</td>\n",
       "      <td>20</td>\n",
       "    </tr>\n",
       "    <tr>\n",
       "      <th>1</th>\n",
       "      <td>까치</td>\n",
       "      <td>컴퓨터공학과</td>\n",
       "      <td>남</td>\n",
       "      <td>21</td>\n",
       "    </tr>\n",
       "    <tr>\n",
       "      <th>2</th>\n",
       "      <td>무지개</td>\n",
       "      <td>데이터과학과</td>\n",
       "      <td>여</td>\n",
       "      <td>22</td>\n",
       "    </tr>\n",
       "  </tbody>\n",
       "</table>\n",
       "</div>"
      ],
      "text/plain": [
       "    이름      전공 성별  나이\n",
       "0  호랑이    경영학과  여  20\n",
       "1   까치  컴퓨터공학과  남  21\n",
       "2  무지개  데이터과학과  여  22"
      ]
     },
     "execution_count": 42,
     "metadata": {},
     "output_type": "execute_result"
    }
   ],
   "source": [
    "# object에 동일한 길이의 리스트를 값으로 가지는 딕셔너리 이용\n",
    "obj1 = { '이름': ['호랑이', '까치', '무지개'],\n",
    "        '전공': ['경영학과', '컴퓨터공학과', '데이터과학과'],\n",
    "        '성별': ['여', '남', '여'],\n",
    "        '나이': [20, 21, 22]\n",
    "      }\n",
    "\n",
    "df1 = pd.DataFrame(obj1)\n",
    "df1"
   ]
  },
  {
   "cell_type": "code",
   "execution_count": 43,
   "id": "0103c967-96cc-4995-ae4c-1145d3a6f804",
   "metadata": {
    "tags": []
   },
   "outputs": [
    {
     "data": {
      "text/html": [
       "<div>\n",
       "<style scoped>\n",
       "    .dataframe tbody tr th:only-of-type {\n",
       "        vertical-align: middle;\n",
       "    }\n",
       "\n",
       "    .dataframe tbody tr th {\n",
       "        vertical-align: top;\n",
       "    }\n",
       "\n",
       "    .dataframe thead th {\n",
       "        text-align: right;\n",
       "    }\n",
       "</style>\n",
       "<table border=\"1\" class=\"dataframe\">\n",
       "  <thead>\n",
       "    <tr style=\"text-align: right;\">\n",
       "      <th></th>\n",
       "      <th>0</th>\n",
       "      <th>1</th>\n",
       "      <th>2</th>\n",
       "      <th>3</th>\n",
       "    </tr>\n",
       "  </thead>\n",
       "  <tbody>\n",
       "    <tr>\n",
       "      <th>0</th>\n",
       "      <td>까마귀</td>\n",
       "      <td>경영학과</td>\n",
       "      <td>여</td>\n",
       "      <td>30</td>\n",
       "    </tr>\n",
       "    <tr>\n",
       "      <th>1</th>\n",
       "      <td>당나귀</td>\n",
       "      <td>컴퓨터공학과</td>\n",
       "      <td>남</td>\n",
       "      <td>40</td>\n",
       "    </tr>\n",
       "    <tr>\n",
       "      <th>2</th>\n",
       "      <td>너구리</td>\n",
       "      <td>데이터과학과</td>\n",
       "      <td>여</td>\n",
       "      <td>35</td>\n",
       "    </tr>\n",
       "  </tbody>\n",
       "</table>\n",
       "</div>"
      ],
      "text/plain": [
       "     0       1  2   3\n",
       "0  까마귀    경영학과  여  30\n",
       "1  당나귀  컴퓨터공학과  남  40\n",
       "2  너구리  데이터과학과  여  35"
      ]
     },
     "execution_count": 43,
     "metadata": {},
     "output_type": "execute_result"
    }
   ],
   "source": [
    "# object에 2차원 배열 이용\n",
    "obj2 = np.array([ ['까마귀', '경영학과', '여', 30],\n",
    "                  ['당나귀', '컴퓨터공학과', '남', 40],\n",
    "                  ['너구리', '데이터과학과', '여', 35]\n",
    "                ])\n",
    "\n",
    "df2 = pd.DataFrame(obj2)\n",
    "df2"
   ]
  },
  {
   "cell_type": "code",
   "execution_count": 44,
   "id": "028c7b7d-da2a-4b8a-8bc2-4e416c35afc4",
   "metadata": {
    "tags": []
   },
   "outputs": [
    {
     "data": {
      "text/html": [
       "<div>\n",
       "<style scoped>\n",
       "    .dataframe tbody tr th:only-of-type {\n",
       "        vertical-align: middle;\n",
       "    }\n",
       "\n",
       "    .dataframe tbody tr th {\n",
       "        vertical-align: top;\n",
       "    }\n",
       "\n",
       "    .dataframe thead th {\n",
       "        text-align: right;\n",
       "    }\n",
       "</style>\n",
       "<table border=\"1\" class=\"dataframe\">\n",
       "  <thead>\n",
       "    <tr style=\"text-align: right;\">\n",
       "      <th></th>\n",
       "      <th>Name</th>\n",
       "      <th>Major</th>\n",
       "      <th>Sex</th>\n",
       "      <th>Age</th>\n",
       "    </tr>\n",
       "  </thead>\n",
       "  <tbody>\n",
       "    <tr>\n",
       "      <th>A</th>\n",
       "      <td>까마귀</td>\n",
       "      <td>경영학과</td>\n",
       "      <td>여</td>\n",
       "      <td>30</td>\n",
       "    </tr>\n",
       "    <tr>\n",
       "      <th>B</th>\n",
       "      <td>당나귀</td>\n",
       "      <td>컴퓨터공학과</td>\n",
       "      <td>남</td>\n",
       "      <td>40</td>\n",
       "    </tr>\n",
       "    <tr>\n",
       "      <th>C</th>\n",
       "      <td>너구리</td>\n",
       "      <td>데이터과학과</td>\n",
       "      <td>여</td>\n",
       "      <td>35</td>\n",
       "    </tr>\n",
       "  </tbody>\n",
       "</table>\n",
       "</div>"
      ],
      "text/plain": [
       "  Name   Major Sex Age\n",
       "A  까마귀    경영학과   여  30\n",
       "B  당나귀  컴퓨터공학과   남  40\n",
       "C  너구리  데이터과학과   여  35"
      ]
     },
     "execution_count": 44,
     "metadata": {},
     "output_type": "execute_result"
    }
   ],
   "source": [
    "# 원하는 인덱스 지정\n",
    "df3 = pd.DataFrame(obj2,\n",
    "                   columns = ['Name', 'Major', 'Sex', 'Age'],     # 열에 대한 인덱스\n",
    "                   index = ['A', 'B', 'C'])                       # 행에 대한 인덱스\n",
    "\n",
    "df3"
   ]
  },
  {
   "cell_type": "code",
   "execution_count": null,
   "id": "b15ea955-fe1f-4b8b-8e47-c1f7e5d05af5",
   "metadata": {},
   "outputs": [],
   "source": []
  },
  {
   "cell_type": "markdown",
   "id": "8d2eb704-f16b-425d-b45a-1feb4251397b",
   "metadata": {},
   "source": [
    "#### 데이터프레임 정보 확인\n",
    "1. **df.values** : df 내 값을 배열 형태로 반환\n",
    "2. **df.index** : df 내 행 인덱스를 레이블 배열 형태로 반환\n",
    "3. **df.columns** : df 내 열 인덱스를 레이블 배열 형태로 반환\n",
    "4. **df.dtypes** : df 내 변수(컬럼)별 데이터 타입 확인 (object-일반 문자, float-실수, int-정수, category-카테고리, datetime-시간)\n",
    "5. **df.shape** : df의 행, 열 길이 확인\n",
    "6. **df.info()** : df의 전반적인 정보 확인\n",
    "7. **df.head(n=5)** : df의 상위 행 반환, n의 default=5, 음수를 입력할 경우 전체 행의 수에서 음수만큼 제외\n",
    "8. **df.tail(n=5)** : df의 하위 행을 반환, n의 default=5, 음수를 입력할 경우 전체 행의 수에서 음수만큼 제외"
   ]
  },
  {
   "cell_type": "code",
   "execution_count": 46,
   "id": "e4577a6f-e08a-43ae-88b4-d9457492b16e",
   "metadata": {
    "tags": []
   },
   "outputs": [
    {
     "data": {
      "text/html": [
       "<div>\n",
       "<style scoped>\n",
       "    .dataframe tbody tr th:only-of-type {\n",
       "        vertical-align: middle;\n",
       "    }\n",
       "\n",
       "    .dataframe tbody tr th {\n",
       "        vertical-align: top;\n",
       "    }\n",
       "\n",
       "    .dataframe thead th {\n",
       "        text-align: right;\n",
       "    }\n",
       "</style>\n",
       "<table border=\"1\" class=\"dataframe\">\n",
       "  <thead>\n",
       "    <tr style=\"text-align: right;\">\n",
       "      <th></th>\n",
       "      <th>Name</th>\n",
       "      <th>Sex</th>\n",
       "      <th>Age</th>\n",
       "    </tr>\n",
       "  </thead>\n",
       "  <tbody>\n",
       "    <tr>\n",
       "      <th>0</th>\n",
       "      <td>호랑이</td>\n",
       "      <td>Female</td>\n",
       "      <td>20</td>\n",
       "    </tr>\n",
       "    <tr>\n",
       "      <th>1</th>\n",
       "      <td>까치</td>\n",
       "      <td>Male</td>\n",
       "      <td>21</td>\n",
       "    </tr>\n",
       "    <tr>\n",
       "      <th>2</th>\n",
       "      <td>무지개</td>\n",
       "      <td>Female</td>\n",
       "      <td>22</td>\n",
       "    </tr>\n",
       "    <tr>\n",
       "      <th>3</th>\n",
       "      <td>낙타</td>\n",
       "      <td>Female</td>\n",
       "      <td>38</td>\n",
       "    </tr>\n",
       "    <tr>\n",
       "      <th>4</th>\n",
       "      <td>자전거</td>\n",
       "      <td>Male</td>\n",
       "      <td>40</td>\n",
       "    </tr>\n",
       "    <tr>\n",
       "      <th>5</th>\n",
       "      <td>숀</td>\n",
       "      <td>Female</td>\n",
       "      <td>17</td>\n",
       "    </tr>\n",
       "  </tbody>\n",
       "</table>\n",
       "</div>"
      ],
      "text/plain": [
       "  Name     Sex  Age\n",
       "0  호랑이  Female   20\n",
       "1   까치    Male   21\n",
       "2  무지개  Female   22\n",
       "3   낙타  Female   38\n",
       "4  자전거    Male   40\n",
       "5    숀  Female   17"
      ]
     },
     "execution_count": 46,
     "metadata": {},
     "output_type": "execute_result"
    }
   ],
   "source": [
    "obj3 = { 'Name': ['호랑이', '까치', '무지개', '낙타', '자전거', '숀'],\n",
    "         'Sex': ['Female', 'Male', 'Female', 'Female', 'Male', 'Female'],\n",
    "         'Age': [20, 21, 22, 38, 40, 17]\n",
    "      }\n",
    "\n",
    "df3 = pd.DataFrame(obj3)\n",
    "df3"
   ]
  },
  {
   "cell_type": "code",
   "execution_count": 47,
   "id": "530efb5e-268f-474f-b6ea-51bf0bbb1ac1",
   "metadata": {
    "tags": []
   },
   "outputs": [
    {
     "data": {
      "text/plain": [
       "array([['호랑이', 'Female', 20],\n",
       "       ['까치', 'Male', 21],\n",
       "       ['무지개', 'Female', 22],\n",
       "       ['낙타', 'Female', 38],\n",
       "       ['자전거', 'Male', 40],\n",
       "       ['숀', 'Female', 17]], dtype=object)"
      ]
     },
     "execution_count": 47,
     "metadata": {},
     "output_type": "execute_result"
    }
   ],
   "source": [
    "# values\n",
    "df3.values"
   ]
  },
  {
   "cell_type": "code",
   "execution_count": 48,
   "id": "a657b4dd-04c6-41ff-89d5-4ebd3281d3cc",
   "metadata": {
    "tags": []
   },
   "outputs": [
    {
     "data": {
      "text/plain": [
       "RangeIndex(start=0, stop=6, step=1)"
      ]
     },
     "execution_count": 48,
     "metadata": {},
     "output_type": "execute_result"
    }
   ],
   "source": [
    "# index\n",
    "df3.index "
   ]
  },
  {
   "cell_type": "code",
   "execution_count": 49,
   "id": "325de90b-e778-435a-bf58-805a6318e880",
   "metadata": {
    "tags": []
   },
   "outputs": [
    {
     "data": {
      "text/plain": [
       "Index(['Name', 'Sex', 'Age'], dtype='object')"
      ]
     },
     "execution_count": 49,
     "metadata": {},
     "output_type": "execute_result"
    }
   ],
   "source": [
    "# columns\n",
    "df3.columns"
   ]
  },
  {
   "cell_type": "code",
   "execution_count": 50,
   "id": "ad20354e-eb5e-4ebd-a9c1-895450675bb5",
   "metadata": {
    "tags": []
   },
   "outputs": [
    {
     "data": {
      "text/plain": [
       "Name    object\n",
       "Sex     object\n",
       "Age      int64\n",
       "dtype: object"
      ]
     },
     "execution_count": 50,
     "metadata": {},
     "output_type": "execute_result"
    }
   ],
   "source": [
    "# dtypes\n",
    "df3.dtypes"
   ]
  },
  {
   "cell_type": "code",
   "execution_count": 51,
   "id": "66090488-d8bc-4e4e-b0dd-4fb3f0b723d1",
   "metadata": {
    "tags": []
   },
   "outputs": [
    {
     "data": {
      "text/plain": [
       "(6, 3)"
      ]
     },
     "execution_count": 51,
     "metadata": {},
     "output_type": "execute_result"
    }
   ],
   "source": [
    "# shape\n",
    "df3.shape"
   ]
  },
  {
   "cell_type": "code",
   "execution_count": 52,
   "id": "01b7d999-daf9-43d5-8956-24ae333552ff",
   "metadata": {
    "tags": []
   },
   "outputs": [
    {
     "name": "stdout",
     "output_type": "stream",
     "text": [
      "<class 'pandas.core.frame.DataFrame'>\n",
      "RangeIndex: 6 entries, 0 to 5\n",
      "Data columns (total 3 columns):\n",
      " #   Column  Non-Null Count  Dtype \n",
      "---  ------  --------------  ----- \n",
      " 0   Name    6 non-null      object\n",
      " 1   Sex     6 non-null      object\n",
      " 2   Age     6 non-null      int64 \n",
      "dtypes: int64(1), object(2)\n",
      "memory usage: 276.0+ bytes\n"
     ]
    }
   ],
   "source": [
    "# info\n",
    "df3.info()"
   ]
  },
  {
   "cell_type": "code",
   "execution_count": 56,
   "id": "5ab4fb48-fe5c-4d66-a2d8-dd85ba78729e",
   "metadata": {
    "tags": []
   },
   "outputs": [
    {
     "data": {
      "text/html": [
       "<div>\n",
       "<style scoped>\n",
       "    .dataframe tbody tr th:only-of-type {\n",
       "        vertical-align: middle;\n",
       "    }\n",
       "\n",
       "    .dataframe tbody tr th {\n",
       "        vertical-align: top;\n",
       "    }\n",
       "\n",
       "    .dataframe thead th {\n",
       "        text-align: right;\n",
       "    }\n",
       "</style>\n",
       "<table border=\"1\" class=\"dataframe\">\n",
       "  <thead>\n",
       "    <tr style=\"text-align: right;\">\n",
       "      <th></th>\n",
       "      <th>Name</th>\n",
       "      <th>Sex</th>\n",
       "      <th>Age</th>\n",
       "    </tr>\n",
       "  </thead>\n",
       "  <tbody>\n",
       "    <tr>\n",
       "      <th>0</th>\n",
       "      <td>호랑이</td>\n",
       "      <td>Female</td>\n",
       "      <td>20</td>\n",
       "    </tr>\n",
       "    <tr>\n",
       "      <th>1</th>\n",
       "      <td>까치</td>\n",
       "      <td>Male</td>\n",
       "      <td>21</td>\n",
       "    </tr>\n",
       "  </tbody>\n",
       "</table>\n",
       "</div>"
      ],
      "text/plain": [
       "  Name     Sex  Age\n",
       "0  호랑이  Female   20\n",
       "1   까치    Male   21"
      ]
     },
     "execution_count": 56,
     "metadata": {},
     "output_type": "execute_result"
    }
   ],
   "source": [
    "df3.head(2)"
   ]
  },
  {
   "cell_type": "code",
   "execution_count": 57,
   "id": "d4079ed8-1c20-4418-96fe-1f7fb24f50cd",
   "metadata": {
    "tags": []
   },
   "outputs": [
    {
     "data": {
      "text/html": [
       "<div>\n",
       "<style scoped>\n",
       "    .dataframe tbody tr th:only-of-type {\n",
       "        vertical-align: middle;\n",
       "    }\n",
       "\n",
       "    .dataframe tbody tr th {\n",
       "        vertical-align: top;\n",
       "    }\n",
       "\n",
       "    .dataframe thead th {\n",
       "        text-align: right;\n",
       "    }\n",
       "</style>\n",
       "<table border=\"1\" class=\"dataframe\">\n",
       "  <thead>\n",
       "    <tr style=\"text-align: right;\">\n",
       "      <th></th>\n",
       "      <th>Name</th>\n",
       "      <th>Sex</th>\n",
       "      <th>Age</th>\n",
       "    </tr>\n",
       "  </thead>\n",
       "  <tbody>\n",
       "    <tr>\n",
       "      <th>0</th>\n",
       "      <td>호랑이</td>\n",
       "      <td>Female</td>\n",
       "      <td>20</td>\n",
       "    </tr>\n",
       "    <tr>\n",
       "      <th>1</th>\n",
       "      <td>까치</td>\n",
       "      <td>Male</td>\n",
       "      <td>21</td>\n",
       "    </tr>\n",
       "    <tr>\n",
       "      <th>2</th>\n",
       "      <td>무지개</td>\n",
       "      <td>Female</td>\n",
       "      <td>22</td>\n",
       "    </tr>\n",
       "    <tr>\n",
       "      <th>3</th>\n",
       "      <td>낙타</td>\n",
       "      <td>Female</td>\n",
       "      <td>38</td>\n",
       "    </tr>\n",
       "  </tbody>\n",
       "</table>\n",
       "</div>"
      ],
      "text/plain": [
       "  Name     Sex  Age\n",
       "0  호랑이  Female   20\n",
       "1   까치    Male   21\n",
       "2  무지개  Female   22\n",
       "3   낙타  Female   38"
      ]
     },
     "execution_count": 57,
     "metadata": {},
     "output_type": "execute_result"
    }
   ],
   "source": [
    "df3.head(-2)"
   ]
  },
  {
   "cell_type": "code",
   "execution_count": 58,
   "id": "e828b0b0-0ce6-45bd-8f7e-f250ee259ae7",
   "metadata": {
    "tags": []
   },
   "outputs": [
    {
     "data": {
      "text/html": [
       "<div>\n",
       "<style scoped>\n",
       "    .dataframe tbody tr th:only-of-type {\n",
       "        vertical-align: middle;\n",
       "    }\n",
       "\n",
       "    .dataframe tbody tr th {\n",
       "        vertical-align: top;\n",
       "    }\n",
       "\n",
       "    .dataframe thead th {\n",
       "        text-align: right;\n",
       "    }\n",
       "</style>\n",
       "<table border=\"1\" class=\"dataframe\">\n",
       "  <thead>\n",
       "    <tr style=\"text-align: right;\">\n",
       "      <th></th>\n",
       "      <th>Name</th>\n",
       "      <th>Sex</th>\n",
       "      <th>Age</th>\n",
       "    </tr>\n",
       "  </thead>\n",
       "  <tbody>\n",
       "    <tr>\n",
       "      <th>4</th>\n",
       "      <td>자전거</td>\n",
       "      <td>Male</td>\n",
       "      <td>40</td>\n",
       "    </tr>\n",
       "    <tr>\n",
       "      <th>5</th>\n",
       "      <td>숀</td>\n",
       "      <td>Female</td>\n",
       "      <td>17</td>\n",
       "    </tr>\n",
       "  </tbody>\n",
       "</table>\n",
       "</div>"
      ],
      "text/plain": [
       "  Name     Sex  Age\n",
       "4  자전거    Male   40\n",
       "5    숀  Female   17"
      ]
     },
     "execution_count": 58,
     "metadata": {},
     "output_type": "execute_result"
    }
   ],
   "source": [
    "df3.tail(2)"
   ]
  },
  {
   "cell_type": "code",
   "execution_count": 59,
   "id": "180091f6-9457-4297-98b6-efd08e84878a",
   "metadata": {
    "tags": []
   },
   "outputs": [
    {
     "data": {
      "text/html": [
       "<div>\n",
       "<style scoped>\n",
       "    .dataframe tbody tr th:only-of-type {\n",
       "        vertical-align: middle;\n",
       "    }\n",
       "\n",
       "    .dataframe tbody tr th {\n",
       "        vertical-align: top;\n",
       "    }\n",
       "\n",
       "    .dataframe thead th {\n",
       "        text-align: right;\n",
       "    }\n",
       "</style>\n",
       "<table border=\"1\" class=\"dataframe\">\n",
       "  <thead>\n",
       "    <tr style=\"text-align: right;\">\n",
       "      <th></th>\n",
       "      <th>Name</th>\n",
       "      <th>Sex</th>\n",
       "      <th>Age</th>\n",
       "    </tr>\n",
       "  </thead>\n",
       "  <tbody>\n",
       "    <tr>\n",
       "      <th>2</th>\n",
       "      <td>무지개</td>\n",
       "      <td>Female</td>\n",
       "      <td>22</td>\n",
       "    </tr>\n",
       "    <tr>\n",
       "      <th>3</th>\n",
       "      <td>낙타</td>\n",
       "      <td>Female</td>\n",
       "      <td>38</td>\n",
       "    </tr>\n",
       "    <tr>\n",
       "      <th>4</th>\n",
       "      <td>자전거</td>\n",
       "      <td>Male</td>\n",
       "      <td>40</td>\n",
       "    </tr>\n",
       "    <tr>\n",
       "      <th>5</th>\n",
       "      <td>숀</td>\n",
       "      <td>Female</td>\n",
       "      <td>17</td>\n",
       "    </tr>\n",
       "  </tbody>\n",
       "</table>\n",
       "</div>"
      ],
      "text/plain": [
       "  Name     Sex  Age\n",
       "2  무지개  Female   22\n",
       "3   낙타  Female   38\n",
       "4  자전거    Male   40\n",
       "5    숀  Female   17"
      ]
     },
     "execution_count": 59,
     "metadata": {},
     "output_type": "execute_result"
    }
   ],
   "source": [
    "df3.tail(-2)"
   ]
  },
  {
   "cell_type": "code",
   "execution_count": null,
   "id": "4d3ded9e-763c-4146-9088-cbf2fbf58566",
   "metadata": {},
   "outputs": [],
   "source": []
  },
  {
   "cell_type": "markdown",
   "id": "41d4ffc0-afa0-4ce8-8236-2d9c9a9a29bb",
   "metadata": {},
   "source": [
    "#### 데이터프레임 인덱식와 슬라이싱"
   ]
  },
  {
   "cell_type": "code",
   "execution_count": 64,
   "id": "caa822cd-a594-4aa8-bcaf-94f661f94d25",
   "metadata": {
    "tags": []
   },
   "outputs": [
    {
     "data": {
      "text/plain": [
       "0    호랑이\n",
       "1     까치\n",
       "2    무지개\n",
       "3     낙타\n",
       "4    자전거\n",
       "5      숀\n",
       "Name: Name, dtype: object"
      ]
     },
     "execution_count": 64,
     "metadata": {},
     "output_type": "execute_result"
    }
   ],
   "source": [
    "# 인덱싱\n",
    "df3['Name']"
   ]
  },
  {
   "cell_type": "code",
   "execution_count": 65,
   "id": "a74cd12d-36d5-46c2-b269-cf7545ba68b4",
   "metadata": {
    "tags": []
   },
   "outputs": [
    {
     "data": {
      "text/html": [
       "<div>\n",
       "<style scoped>\n",
       "    .dataframe tbody tr th:only-of-type {\n",
       "        vertical-align: middle;\n",
       "    }\n",
       "\n",
       "    .dataframe tbody tr th {\n",
       "        vertical-align: top;\n",
       "    }\n",
       "\n",
       "    .dataframe thead th {\n",
       "        text-align: right;\n",
       "    }\n",
       "</style>\n",
       "<table border=\"1\" class=\"dataframe\">\n",
       "  <thead>\n",
       "    <tr style=\"text-align: right;\">\n",
       "      <th></th>\n",
       "      <th>Name</th>\n",
       "      <th>Age</th>\n",
       "    </tr>\n",
       "  </thead>\n",
       "  <tbody>\n",
       "    <tr>\n",
       "      <th>0</th>\n",
       "      <td>호랑이</td>\n",
       "      <td>20</td>\n",
       "    </tr>\n",
       "    <tr>\n",
       "      <th>1</th>\n",
       "      <td>까치</td>\n",
       "      <td>21</td>\n",
       "    </tr>\n",
       "    <tr>\n",
       "      <th>2</th>\n",
       "      <td>무지개</td>\n",
       "      <td>22</td>\n",
       "    </tr>\n",
       "    <tr>\n",
       "      <th>3</th>\n",
       "      <td>낙타</td>\n",
       "      <td>38</td>\n",
       "    </tr>\n",
       "    <tr>\n",
       "      <th>4</th>\n",
       "      <td>자전거</td>\n",
       "      <td>40</td>\n",
       "    </tr>\n",
       "    <tr>\n",
       "      <th>5</th>\n",
       "      <td>숀</td>\n",
       "      <td>17</td>\n",
       "    </tr>\n",
       "  </tbody>\n",
       "</table>\n",
       "</div>"
      ],
      "text/plain": [
       "  Name  Age\n",
       "0  호랑이   20\n",
       "1   까치   21\n",
       "2  무지개   22\n",
       "3   낙타   38\n",
       "4  자전거   40\n",
       "5    숀   17"
      ]
     },
     "execution_count": 65,
     "metadata": {},
     "output_type": "execute_result"
    }
   ],
   "source": [
    "col = ['Name', 'Age']\n",
    "df3[col]"
   ]
  },
  {
   "cell_type": "code",
   "execution_count": 66,
   "id": "9e8c8f52-a0db-47ff-bf44-49d7d1ce29a1",
   "metadata": {
    "tags": []
   },
   "outputs": [
    {
     "data": {
      "text/plain": [
       "Name      까치\n",
       "Sex     Male\n",
       "Age       21\n",
       "Name: 1, dtype: object"
      ]
     },
     "execution_count": 66,
     "metadata": {},
     "output_type": "execute_result"
    }
   ],
   "source": [
    "# 행만 참조\n",
    "df3.iloc[1]"
   ]
  },
  {
   "cell_type": "code",
   "execution_count": 67,
   "id": "477a6e08-e461-47ac-9950-5af685cde5b4",
   "metadata": {
    "tags": []
   },
   "outputs": [
    {
     "data": {
      "text/html": [
       "<div>\n",
       "<style scoped>\n",
       "    .dataframe tbody tr th:only-of-type {\n",
       "        vertical-align: middle;\n",
       "    }\n",
       "\n",
       "    .dataframe tbody tr th {\n",
       "        vertical-align: top;\n",
       "    }\n",
       "\n",
       "    .dataframe thead th {\n",
       "        text-align: right;\n",
       "    }\n",
       "</style>\n",
       "<table border=\"1\" class=\"dataframe\">\n",
       "  <thead>\n",
       "    <tr style=\"text-align: right;\">\n",
       "      <th></th>\n",
       "      <th>Name</th>\n",
       "      <th>Sex</th>\n",
       "      <th>Age</th>\n",
       "    </tr>\n",
       "  </thead>\n",
       "  <tbody>\n",
       "    <tr>\n",
       "      <th>0</th>\n",
       "      <td>호랑이</td>\n",
       "      <td>Female</td>\n",
       "      <td>20</td>\n",
       "    </tr>\n",
       "    <tr>\n",
       "      <th>1</th>\n",
       "      <td>까치</td>\n",
       "      <td>Male</td>\n",
       "      <td>21</td>\n",
       "    </tr>\n",
       "    <tr>\n",
       "      <th>2</th>\n",
       "      <td>무지개</td>\n",
       "      <td>Female</td>\n",
       "      <td>22</td>\n",
       "    </tr>\n",
       "    <tr>\n",
       "      <th>3</th>\n",
       "      <td>낙타</td>\n",
       "      <td>Female</td>\n",
       "      <td>38</td>\n",
       "    </tr>\n",
       "    <tr>\n",
       "      <th>4</th>\n",
       "      <td>자전거</td>\n",
       "      <td>Male</td>\n",
       "      <td>40</td>\n",
       "    </tr>\n",
       "  </tbody>\n",
       "</table>\n",
       "</div>"
      ],
      "text/plain": [
       "  Name     Sex  Age\n",
       "0  호랑이  Female   20\n",
       "1   까치    Male   21\n",
       "2  무지개  Female   22\n",
       "3   낙타  Female   38\n",
       "4  자전거    Male   40"
      ]
     },
     "execution_count": 67,
     "metadata": {},
     "output_type": "execute_result"
    }
   ],
   "source": [
    "df3.iloc[:5]"
   ]
  },
  {
   "cell_type": "code",
   "execution_count": 68,
   "id": "c6d85e62-b156-41ef-9251-eddabf94b4a3",
   "metadata": {
    "tags": []
   },
   "outputs": [
    {
     "data": {
      "text/html": [
       "<div>\n",
       "<style scoped>\n",
       "    .dataframe tbody tr th:only-of-type {\n",
       "        vertical-align: middle;\n",
       "    }\n",
       "\n",
       "    .dataframe tbody tr th {\n",
       "        vertical-align: top;\n",
       "    }\n",
       "\n",
       "    .dataframe thead th {\n",
       "        text-align: right;\n",
       "    }\n",
       "</style>\n",
       "<table border=\"1\" class=\"dataframe\">\n",
       "  <thead>\n",
       "    <tr style=\"text-align: right;\">\n",
       "      <th></th>\n",
       "      <th>Name</th>\n",
       "      <th>Sex</th>\n",
       "      <th>Age</th>\n",
       "    </tr>\n",
       "  </thead>\n",
       "  <tbody>\n",
       "    <tr>\n",
       "      <th>1</th>\n",
       "      <td>까치</td>\n",
       "      <td>Male</td>\n",
       "      <td>21</td>\n",
       "    </tr>\n",
       "    <tr>\n",
       "      <th>3</th>\n",
       "      <td>낙타</td>\n",
       "      <td>Female</td>\n",
       "      <td>38</td>\n",
       "    </tr>\n",
       "    <tr>\n",
       "      <th>5</th>\n",
       "      <td>숀</td>\n",
       "      <td>Female</td>\n",
       "      <td>17</td>\n",
       "    </tr>\n",
       "  </tbody>\n",
       "</table>\n",
       "</div>"
      ],
      "text/plain": [
       "  Name     Sex  Age\n",
       "1   까치    Male   21\n",
       "3   낙타  Female   38\n",
       "5    숀  Female   17"
      ]
     },
     "execution_count": 68,
     "metadata": {},
     "output_type": "execute_result"
    }
   ],
   "source": [
    "# 연속하지 않은 위치일 경우 리스트로 행 참조\n",
    "idx=[1, 3, 5]\n",
    "df3.iloc[idx]"
   ]
  },
  {
   "cell_type": "code",
   "execution_count": 73,
   "id": "bf729dc4-06de-4f72-8183-d71a442c94dc",
   "metadata": {
    "tags": []
   },
   "outputs": [
    {
     "data": {
      "text/plain": [
       "Name      까치\n",
       "Sex     Male\n",
       "Age       21\n",
       "Name: B, dtype: object"
      ]
     },
     "execution_count": 73,
     "metadata": {},
     "output_type": "execute_result"
    }
   ],
   "source": [
    "# loc은 레이블 기반, df.loc[레이블인덱스]\n",
    "col = ['A', 'B', 'C', 'D', 'E', 'F']\n",
    "df3.index = col\n",
    "\n",
    "df3.loc['B']"
   ]
  },
  {
   "cell_type": "code",
   "execution_count": 74,
   "id": "3b7b06d1-8834-48b6-b2ca-b1a36019a4f5",
   "metadata": {
    "tags": []
   },
   "outputs": [
    {
     "data": {
      "text/html": [
       "<div>\n",
       "<style scoped>\n",
       "    .dataframe tbody tr th:only-of-type {\n",
       "        vertical-align: middle;\n",
       "    }\n",
       "\n",
       "    .dataframe tbody tr th {\n",
       "        vertical-align: top;\n",
       "    }\n",
       "\n",
       "    .dataframe thead th {\n",
       "        text-align: right;\n",
       "    }\n",
       "</style>\n",
       "<table border=\"1\" class=\"dataframe\">\n",
       "  <thead>\n",
       "    <tr style=\"text-align: right;\">\n",
       "      <th></th>\n",
       "      <th>Name</th>\n",
       "      <th>Sex</th>\n",
       "      <th>Age</th>\n",
       "    </tr>\n",
       "  </thead>\n",
       "  <tbody>\n",
       "    <tr>\n",
       "      <th>A</th>\n",
       "      <td>호랑이</td>\n",
       "      <td>Female</td>\n",
       "      <td>20</td>\n",
       "    </tr>\n",
       "    <tr>\n",
       "      <th>B</th>\n",
       "      <td>까치</td>\n",
       "      <td>Male</td>\n",
       "      <td>21</td>\n",
       "    </tr>\n",
       "    <tr>\n",
       "      <th>C</th>\n",
       "      <td>무지개</td>\n",
       "      <td>Female</td>\n",
       "      <td>22</td>\n",
       "    </tr>\n",
       "    <tr>\n",
       "      <th>D</th>\n",
       "      <td>낙타</td>\n",
       "      <td>Female</td>\n",
       "      <td>38</td>\n",
       "    </tr>\n",
       "  </tbody>\n",
       "</table>\n",
       "</div>"
      ],
      "text/plain": [
       "  Name     Sex  Age\n",
       "A  호랑이  Female   20\n",
       "B   까치    Male   21\n",
       "C  무지개  Female   22\n",
       "D   낙타  Female   38"
      ]
     },
     "execution_count": 74,
     "metadata": {},
     "output_type": "execute_result"
    }
   ],
   "source": [
    "df3.loc['A':'D']"
   ]
  },
  {
   "cell_type": "code",
   "execution_count": 75,
   "id": "3e68ff01-49d8-4ca7-a736-bce7ed6c129f",
   "metadata": {
    "tags": []
   },
   "outputs": [
    {
     "data": {
      "text/html": [
       "<div>\n",
       "<style scoped>\n",
       "    .dataframe tbody tr th:only-of-type {\n",
       "        vertical-align: middle;\n",
       "    }\n",
       "\n",
       "    .dataframe tbody tr th {\n",
       "        vertical-align: top;\n",
       "    }\n",
       "\n",
       "    .dataframe thead th {\n",
       "        text-align: right;\n",
       "    }\n",
       "</style>\n",
       "<table border=\"1\" class=\"dataframe\">\n",
       "  <thead>\n",
       "    <tr style=\"text-align: right;\">\n",
       "      <th></th>\n",
       "      <th>Name</th>\n",
       "      <th>Sex</th>\n",
       "      <th>Age</th>\n",
       "    </tr>\n",
       "  </thead>\n",
       "  <tbody>\n",
       "    <tr>\n",
       "      <th>B</th>\n",
       "      <td>까치</td>\n",
       "      <td>Male</td>\n",
       "      <td>21</td>\n",
       "    </tr>\n",
       "    <tr>\n",
       "      <th>D</th>\n",
       "      <td>낙타</td>\n",
       "      <td>Female</td>\n",
       "      <td>38</td>\n",
       "    </tr>\n",
       "  </tbody>\n",
       "</table>\n",
       "</div>"
      ],
      "text/plain": [
       "  Name     Sex  Age\n",
       "B   까치    Male   21\n",
       "D   낙타  Female   38"
      ]
     },
     "execution_count": 75,
     "metadata": {},
     "output_type": "execute_result"
    }
   ],
   "source": [
    "# 대부분의 레이블 인덱스는 연속하지 않음\n",
    "rownum = ['B', 'D']  # 리스트로 행 참조\n",
    "df3.loc[rownum]"
   ]
  },
  {
   "cell_type": "code",
   "execution_count": 76,
   "id": "ccf46e4b-30bb-480e-b6d1-536fb8a7b3f5",
   "metadata": {
    "tags": []
   },
   "outputs": [
    {
     "data": {
      "text/plain": [
       "A    20\n",
       "B    21\n",
       "C    22\n",
       "D    38\n",
       "E    40\n",
       "F    17\n",
       "Name: Age, dtype: int64"
      ]
     },
     "execution_count": 76,
     "metadata": {},
     "output_type": "execute_result"
    }
   ],
   "source": [
    "# 인덱스 없이 행과 열을 동시에 참조하는 방법\n",
    "df3['Age']"
   ]
  },
  {
   "cell_type": "code",
   "execution_count": 77,
   "id": "af0ee93b-ebe1-4925-a5b5-34b053cee045",
   "metadata": {
    "tags": []
   },
   "outputs": [
    {
     "data": {
      "text/plain": [
       "20"
      ]
     },
     "execution_count": 77,
     "metadata": {},
     "output_type": "execute_result"
    }
   ],
   "source": [
    "df3['Age']['A']"
   ]
  },
  {
   "cell_type": "code",
   "execution_count": 78,
   "id": "4750f4bc-b0df-4093-beb1-c86a4225b6b5",
   "metadata": {
    "tags": []
   },
   "outputs": [
    {
     "data": {
      "text/plain": [
       "20"
      ]
     },
     "execution_count": 78,
     "metadata": {},
     "output_type": "execute_result"
    }
   ],
   "source": [
    "df3['Age'][0]"
   ]
  },
  {
   "cell_type": "code",
   "execution_count": 79,
   "id": "c30c9354-cfe9-4bee-9375-24ac0bc51cd8",
   "metadata": {
    "tags": []
   },
   "outputs": [
    {
     "data": {
      "text/html": [
       "<div>\n",
       "<style scoped>\n",
       "    .dataframe tbody tr th:only-of-type {\n",
       "        vertical-align: middle;\n",
       "    }\n",
       "\n",
       "    .dataframe tbody tr th {\n",
       "        vertical-align: top;\n",
       "    }\n",
       "\n",
       "    .dataframe thead th {\n",
       "        text-align: right;\n",
       "    }\n",
       "</style>\n",
       "<table border=\"1\" class=\"dataframe\">\n",
       "  <thead>\n",
       "    <tr style=\"text-align: right;\">\n",
       "      <th></th>\n",
       "      <th>Sex</th>\n",
       "      <th>Age</th>\n",
       "    </tr>\n",
       "  </thead>\n",
       "  <tbody>\n",
       "    <tr>\n",
       "      <th>B</th>\n",
       "      <td>Male</td>\n",
       "      <td>21</td>\n",
       "    </tr>\n",
       "    <tr>\n",
       "      <th>C</th>\n",
       "      <td>Female</td>\n",
       "      <td>22</td>\n",
       "    </tr>\n",
       "    <tr>\n",
       "      <th>D</th>\n",
       "      <td>Female</td>\n",
       "      <td>38</td>\n",
       "    </tr>\n",
       "  </tbody>\n",
       "</table>\n",
       "</div>"
      ],
      "text/plain": [
       "      Sex  Age\n",
       "B    Male   21\n",
       "C  Female   22\n",
       "D  Female   38"
      ]
     },
     "execution_count": 79,
     "metadata": {},
     "output_type": "execute_result"
    }
   ],
   "source": [
    "# 여러 열에 대해, 행과 열을 동시에 참조하는 방법\n",
    "# 1. iloc을 통한 방법 (2d array)와 동일\n",
    "df3.iloc[1:4, 1:]"
   ]
  },
  {
   "cell_type": "code",
   "execution_count": 80,
   "id": "2215ff97-b287-43dd-9b13-da68e3deb77b",
   "metadata": {
    "tags": []
   },
   "outputs": [
    {
     "data": {
      "text/plain": [
       "'까치'"
      ]
     },
     "execution_count": 80,
     "metadata": {},
     "output_type": "execute_result"
    }
   ],
   "source": [
    "# 2. loc을 통한 방법 (2d array에서의 방법에 숫자 대신 레이블 사용)\n",
    "df3.loc['B', 'Name']"
   ]
  },
  {
   "cell_type": "code",
   "execution_count": 81,
   "id": "ec75af18-7b19-4aef-ab1e-1347966c9849",
   "metadata": {
    "tags": []
   },
   "outputs": [
    {
     "data": {
      "text/html": [
       "<div>\n",
       "<style scoped>\n",
       "    .dataframe tbody tr th:only-of-type {\n",
       "        vertical-align: middle;\n",
       "    }\n",
       "\n",
       "    .dataframe tbody tr th {\n",
       "        vertical-align: top;\n",
       "    }\n",
       "\n",
       "    .dataframe thead th {\n",
       "        text-align: right;\n",
       "    }\n",
       "</style>\n",
       "<table border=\"1\" class=\"dataframe\">\n",
       "  <thead>\n",
       "    <tr style=\"text-align: right;\">\n",
       "      <th></th>\n",
       "      <th>Name</th>\n",
       "      <th>Age</th>\n",
       "    </tr>\n",
       "  </thead>\n",
       "  <tbody>\n",
       "    <tr>\n",
       "      <th>B</th>\n",
       "      <td>까치</td>\n",
       "      <td>21</td>\n",
       "    </tr>\n",
       "    <tr>\n",
       "      <th>D</th>\n",
       "      <td>낙타</td>\n",
       "      <td>38</td>\n",
       "    </tr>\n",
       "    <tr>\n",
       "      <th>E</th>\n",
       "      <td>자전거</td>\n",
       "      <td>40</td>\n",
       "    </tr>\n",
       "  </tbody>\n",
       "</table>\n",
       "</div>"
      ],
      "text/plain": [
       "  Name  Age\n",
       "B   까치   21\n",
       "D   낙타   38\n",
       "E  자전거   40"
      ]
     },
     "execution_count": 81,
     "metadata": {},
     "output_type": "execute_result"
    }
   ],
   "source": [
    "# 대부분의 행과 열의 레이블 인덱스(특히 열)은 연속되지 않아 리스트 사용\n",
    "rownum = ['B', 'D', 'E']\n",
    "colnum = ['Name', 'Age']\n",
    "df3.loc[rownum, colnum]"
   ]
  },
  {
   "cell_type": "code",
   "execution_count": null,
   "id": "a658812b-262f-47e9-aafb-cf7b93f17d9a",
   "metadata": {},
   "outputs": [],
   "source": []
  },
  {
   "cell_type": "markdown",
   "id": "120e2fbb-a84f-4e8f-8f4a-e9a96303a76b",
   "metadata": {},
   "source": [
    "#### 데이터프레임의 통계 메소드\n",
    "1. **df.describe()** : df의 요약 통계량에 대한 정보\n",
    "   - 총 객체 수, 평균, 표준편차, 최솟값, 제1사분위수, 중앙값, 제3사분위수, 최댓값, 데이터타입\n",
    "2. **df.count()** : df의 컬럼별 총 객체 수\n",
    "3. **df.mean()** : df의 컬럼별 평균\n",
    "4. **df.var(ddof=1)** : df의 컬럼별 분산 (numpy.var()와 ddof의 default 값이 다름)\n",
    "5. **df.std(ddof=1)** : df의 컬럼별 표준편차 (numpy.var()와 ddof의 default 값이 다름)\n",
    "6. **df.min()** : df의 컬럼별 최솟값\n",
    "7. **df.max()** : df의 컬럼별 최댓값\n",
    "8. **df.median()** : df의 컬럼별 중앙값\n",
    "9. **df.quantile(q=0.5)** : df의 컬럼별 q * 100% 백분위수(default=0.5로, 50 백분위수)"
   ]
  },
  {
   "cell_type": "code",
   "execution_count": 83,
   "id": "75d2fbda-dd0b-401e-bb38-f7fd0caa5730",
   "metadata": {
    "tags": []
   },
   "outputs": [
    {
     "data": {
      "text/html": [
       "<div>\n",
       "<style scoped>\n",
       "    .dataframe tbody tr th:only-of-type {\n",
       "        vertical-align: middle;\n",
       "    }\n",
       "\n",
       "    .dataframe tbody tr th {\n",
       "        vertical-align: top;\n",
       "    }\n",
       "\n",
       "    .dataframe thead th {\n",
       "        text-align: right;\n",
       "    }\n",
       "</style>\n",
       "<table border=\"1\" class=\"dataframe\">\n",
       "  <thead>\n",
       "    <tr style=\"text-align: right;\">\n",
       "      <th></th>\n",
       "      <th>Age</th>\n",
       "    </tr>\n",
       "  </thead>\n",
       "  <tbody>\n",
       "    <tr>\n",
       "      <th>count</th>\n",
       "      <td>6.000000</td>\n",
       "    </tr>\n",
       "    <tr>\n",
       "      <th>mean</th>\n",
       "      <td>26.333333</td>\n",
       "    </tr>\n",
       "    <tr>\n",
       "      <th>std</th>\n",
       "      <td>9.973298</td>\n",
       "    </tr>\n",
       "    <tr>\n",
       "      <th>min</th>\n",
       "      <td>17.000000</td>\n",
       "    </tr>\n",
       "    <tr>\n",
       "      <th>25%</th>\n",
       "      <td>20.250000</td>\n",
       "    </tr>\n",
       "    <tr>\n",
       "      <th>50%</th>\n",
       "      <td>21.500000</td>\n",
       "    </tr>\n",
       "    <tr>\n",
       "      <th>75%</th>\n",
       "      <td>34.000000</td>\n",
       "    </tr>\n",
       "    <tr>\n",
       "      <th>max</th>\n",
       "      <td>40.000000</td>\n",
       "    </tr>\n",
       "  </tbody>\n",
       "</table>\n",
       "</div>"
      ],
      "text/plain": [
       "             Age\n",
       "count   6.000000\n",
       "mean   26.333333\n",
       "std     9.973298\n",
       "min    17.000000\n",
       "25%    20.250000\n",
       "50%    21.500000\n",
       "75%    34.000000\n",
       "max    40.000000"
      ]
     },
     "execution_count": 83,
     "metadata": {},
     "output_type": "execute_result"
    }
   ],
   "source": [
    "df3.describe()"
   ]
  },
  {
   "cell_type": "code",
   "execution_count": 84,
   "id": "f3330fa8-7236-430d-aa5b-5e6ad895d61e",
   "metadata": {
    "tags": []
   },
   "outputs": [
    {
     "data": {
      "text/plain": [
       "Name    6\n",
       "Sex     6\n",
       "Age     6\n",
       "dtype: int64"
      ]
     },
     "execution_count": 84,
     "metadata": {},
     "output_type": "execute_result"
    }
   ],
   "source": [
    "df3.count()"
   ]
  },
  {
   "cell_type": "code",
   "execution_count": 86,
   "id": "f4d3fa94-3dfe-44b7-855f-31beddeef678",
   "metadata": {
    "tags": []
   },
   "outputs": [
    {
     "data": {
      "text/plain": [
       "26.333333333333332"
      ]
     },
     "execution_count": 86,
     "metadata": {},
     "output_type": "execute_result"
    }
   ],
   "source": [
    "df3['Age'].mean()"
   ]
  },
  {
   "cell_type": "code",
   "execution_count": null,
   "id": "6302cbba-d693-4ae8-9fec-61302a80e037",
   "metadata": {},
   "outputs": [],
   "source": []
  },
  {
   "cell_type": "markdown",
   "id": "1e2a8d53-f8a8-4268-a32f-2517922673a8",
   "metadata": {},
   "source": [
    "### 2절: 데이터 입출력\n",
    "- csv 형식의 데이터 불러오기\n",
    "- ```pandas.read_csv(filepath, sep=',', ...)```\n",
    "\n",
    "<br>\n",
    "\n",
    "- .csv 파일로 저장하기\n",
    "- ```df.to_csv(path, index=True, ...)```"
   ]
  },
  {
   "cell_type": "code",
   "execution_count": null,
   "id": "e8edcea8-e29d-43b0-a523-87fb817deada",
   "metadata": {},
   "outputs": [],
   "source": []
  },
  {
   "cell_type": "markdown",
   "id": "a3db5558-8709-482c-bc25-0cbfbb0f70f5",
   "metadata": {},
   "source": [
    "### 3절: 데이터 정렬 및 순위\n",
    "- 특정 행 또는 열들을 기준으로 정렬하고자 할 경우 ```sort_values()```를 사용하면 됨\n",
    "- ```df.sort_values(by, axis=0, ascending=True, inplace=False, ...)```\n",
    "\n",
    "<br>\n",
    "\n",
    "#### 인자\n",
    "1. **by** : 정렬의 기준이 될 행/열로, 행/열 인덱스 또는 인덱스를 담은 리스트로 입력됨\n",
    "2. **axis** : 0(default)는 행, 1은 열 기준으로 함\n",
    "3. **ascending** : 오름차순 여부로 불값 또는 불값을 담은 리스트로 입력됨. True(default)는 오름차순, False는 내림차순으로 정렬\n",
    "4. **inplace** : 기존 df에 정렬한 df를 저장할지에 대한 여부. False(default)는 정렬한 df를 새로운 변수에 다시 할당해야 하고, True는 별도 할당 없이 기존의 df의 변경"
   ]
  },
  {
   "cell_type": "code",
   "execution_count": 87,
   "id": "dc1ace61-c782-4cb8-9c98-2f4253b6253c",
   "metadata": {
    "tags": []
   },
   "outputs": [
    {
     "data": {
      "text/html": [
       "<div>\n",
       "<style scoped>\n",
       "    .dataframe tbody tr th:only-of-type {\n",
       "        vertical-align: middle;\n",
       "    }\n",
       "\n",
       "    .dataframe tbody tr th {\n",
       "        vertical-align: top;\n",
       "    }\n",
       "\n",
       "    .dataframe thead th {\n",
       "        text-align: right;\n",
       "    }\n",
       "</style>\n",
       "<table border=\"1\" class=\"dataframe\">\n",
       "  <thead>\n",
       "    <tr style=\"text-align: right;\">\n",
       "      <th></th>\n",
       "      <th>Name</th>\n",
       "      <th>Sex</th>\n",
       "      <th>Age</th>\n",
       "    </tr>\n",
       "  </thead>\n",
       "  <tbody>\n",
       "    <tr>\n",
       "      <th>B</th>\n",
       "      <td>까치</td>\n",
       "      <td>Male</td>\n",
       "      <td>21</td>\n",
       "    </tr>\n",
       "    <tr>\n",
       "      <th>D</th>\n",
       "      <td>낙타</td>\n",
       "      <td>Female</td>\n",
       "      <td>38</td>\n",
       "    </tr>\n",
       "    <tr>\n",
       "      <th>C</th>\n",
       "      <td>무지개</td>\n",
       "      <td>Female</td>\n",
       "      <td>22</td>\n",
       "    </tr>\n",
       "    <tr>\n",
       "      <th>F</th>\n",
       "      <td>숀</td>\n",
       "      <td>Female</td>\n",
       "      <td>17</td>\n",
       "    </tr>\n",
       "    <tr>\n",
       "      <th>E</th>\n",
       "      <td>자전거</td>\n",
       "      <td>Male</td>\n",
       "      <td>40</td>\n",
       "    </tr>\n",
       "    <tr>\n",
       "      <th>A</th>\n",
       "      <td>호랑이</td>\n",
       "      <td>Female</td>\n",
       "      <td>20</td>\n",
       "    </tr>\n",
       "  </tbody>\n",
       "</table>\n",
       "</div>"
      ],
      "text/plain": [
       "  Name     Sex  Age\n",
       "B   까치    Male   21\n",
       "D   낙타  Female   38\n",
       "C  무지개  Female   22\n",
       "F    숀  Female   17\n",
       "E  자전거    Male   40\n",
       "A  호랑이  Female   20"
      ]
     },
     "execution_count": 87,
     "metadata": {},
     "output_type": "execute_result"
    }
   ],
   "source": [
    "# sort_values\n",
    "df3.sort_values('Name')"
   ]
  },
  {
   "cell_type": "code",
   "execution_count": 88,
   "id": "3c93b05f-7f19-4a09-a807-ead13d9cb250",
   "metadata": {
    "tags": []
   },
   "outputs": [
    {
     "data": {
      "text/html": [
       "<div>\n",
       "<style scoped>\n",
       "    .dataframe tbody tr th:only-of-type {\n",
       "        vertical-align: middle;\n",
       "    }\n",
       "\n",
       "    .dataframe tbody tr th {\n",
       "        vertical-align: top;\n",
       "    }\n",
       "\n",
       "    .dataframe thead th {\n",
       "        text-align: right;\n",
       "    }\n",
       "</style>\n",
       "<table border=\"1\" class=\"dataframe\">\n",
       "  <thead>\n",
       "    <tr style=\"text-align: right;\">\n",
       "      <th></th>\n",
       "      <th>Name</th>\n",
       "      <th>Sex</th>\n",
       "      <th>Age</th>\n",
       "    </tr>\n",
       "  </thead>\n",
       "  <tbody>\n",
       "    <tr>\n",
       "      <th>F</th>\n",
       "      <td>숀</td>\n",
       "      <td>Female</td>\n",
       "      <td>17</td>\n",
       "    </tr>\n",
       "    <tr>\n",
       "      <th>A</th>\n",
       "      <td>호랑이</td>\n",
       "      <td>Female</td>\n",
       "      <td>20</td>\n",
       "    </tr>\n",
       "    <tr>\n",
       "      <th>B</th>\n",
       "      <td>까치</td>\n",
       "      <td>Male</td>\n",
       "      <td>21</td>\n",
       "    </tr>\n",
       "    <tr>\n",
       "      <th>C</th>\n",
       "      <td>무지개</td>\n",
       "      <td>Female</td>\n",
       "      <td>22</td>\n",
       "    </tr>\n",
       "    <tr>\n",
       "      <th>D</th>\n",
       "      <td>낙타</td>\n",
       "      <td>Female</td>\n",
       "      <td>38</td>\n",
       "    </tr>\n",
       "    <tr>\n",
       "      <th>E</th>\n",
       "      <td>자전거</td>\n",
       "      <td>Male</td>\n",
       "      <td>40</td>\n",
       "    </tr>\n",
       "  </tbody>\n",
       "</table>\n",
       "</div>"
      ],
      "text/plain": [
       "  Name     Sex  Age\n",
       "F    숀  Female   17\n",
       "A  호랑이  Female   20\n",
       "B   까치    Male   21\n",
       "C  무지개  Female   22\n",
       "D   낙타  Female   38\n",
       "E  자전거    Male   40"
      ]
     },
     "execution_count": 88,
     "metadata": {},
     "output_type": "execute_result"
    }
   ],
   "source": [
    "# Age에 대해 오름차순으로 정렬되고, 동일한 Age에 대해 Name 내림차순 정렬\n",
    "df3.sort_values(['Age', 'Name'], ascending=[True, False])"
   ]
  },
  {
   "cell_type": "code",
   "execution_count": null,
   "id": "18995694-77cd-438e-9774-5b7f486d2441",
   "metadata": {},
   "outputs": [],
   "source": []
  },
  {
   "cell_type": "markdown",
   "id": "47ffc57b-4b3b-41f1-aa17-209b4f222372",
   "metadata": {},
   "source": [
    "- df에서 행/열 인덱스를 기준으로 정렬하고자 할 경우, ```sort_index()```를 사용하면 됨\n",
    "- ```df.sort_index(axis=0, level=None, ascending=True, inplace=False, ...)```\n",
    "\n",
    "<br>\n",
    "\n",
    "#### 인자\n",
    "1. **axis** : 0(default)는 행, 1은 열을 기준으로 함\n",
    "2. **level** : 정렬 수준으로, 행/열 인덱스, 위치 인덱스 번호, 또는 이들을 담은 리스트로 입력됨 (default는 None으로 행 인덱스에 정렬됨)\n",
    "3. **ascending** : 오름차순 여부로 불값 또는 불값을 담은 리스트로 입력됨. True(default)는 오름차순, False는 내림차순으로 정렬\n",
    "4. **inplace** : 기존 df에 정렬한 df를 저장할지에 대한 여부. False(default)는 정렬한 df를 새로운 변수에 다시 할당해야 하고, True는 별도 할당 없이 기존의 df의 변경"
   ]
  },
  {
   "cell_type": "code",
   "execution_count": 89,
   "id": "e522e8b2-7a69-4d52-9c33-f1853af08837",
   "metadata": {
    "tags": []
   },
   "outputs": [
    {
     "data": {
      "text/html": [
       "<div>\n",
       "<style scoped>\n",
       "    .dataframe tbody tr th:only-of-type {\n",
       "        vertical-align: middle;\n",
       "    }\n",
       "\n",
       "    .dataframe tbody tr th {\n",
       "        vertical-align: top;\n",
       "    }\n",
       "\n",
       "    .dataframe thead th {\n",
       "        text-align: right;\n",
       "    }\n",
       "</style>\n",
       "<table border=\"1\" class=\"dataframe\">\n",
       "  <thead>\n",
       "    <tr style=\"text-align: right;\">\n",
       "      <th></th>\n",
       "      <th>Name</th>\n",
       "      <th>Sex</th>\n",
       "      <th>Age</th>\n",
       "    </tr>\n",
       "  </thead>\n",
       "  <tbody>\n",
       "    <tr>\n",
       "      <th>A</th>\n",
       "      <td>호랑이</td>\n",
       "      <td>Female</td>\n",
       "      <td>20</td>\n",
       "    </tr>\n",
       "    <tr>\n",
       "      <th>B</th>\n",
       "      <td>까치</td>\n",
       "      <td>Male</td>\n",
       "      <td>21</td>\n",
       "    </tr>\n",
       "    <tr>\n",
       "      <th>C</th>\n",
       "      <td>무지개</td>\n",
       "      <td>Female</td>\n",
       "      <td>22</td>\n",
       "    </tr>\n",
       "    <tr>\n",
       "      <th>D</th>\n",
       "      <td>낙타</td>\n",
       "      <td>Female</td>\n",
       "      <td>38</td>\n",
       "    </tr>\n",
       "    <tr>\n",
       "      <th>E</th>\n",
       "      <td>자전거</td>\n",
       "      <td>Male</td>\n",
       "      <td>40</td>\n",
       "    </tr>\n",
       "    <tr>\n",
       "      <th>F</th>\n",
       "      <td>숀</td>\n",
       "      <td>Female</td>\n",
       "      <td>17</td>\n",
       "    </tr>\n",
       "  </tbody>\n",
       "</table>\n",
       "</div>"
      ],
      "text/plain": [
       "  Name     Sex  Age\n",
       "A  호랑이  Female   20\n",
       "B   까치    Male   21\n",
       "C  무지개  Female   22\n",
       "D   낙타  Female   38\n",
       "E  자전거    Male   40\n",
       "F    숀  Female   17"
      ]
     },
     "execution_count": 89,
     "metadata": {},
     "output_type": "execute_result"
    }
   ],
   "source": [
    "df3.sort_index()"
   ]
  },
  {
   "cell_type": "code",
   "execution_count": 91,
   "id": "2e09c1a5-18a7-43e0-b415-0e1ccd865678",
   "metadata": {
    "tags": []
   },
   "outputs": [
    {
     "data": {
      "text/html": [
       "<div>\n",
       "<style scoped>\n",
       "    .dataframe tbody tr th:only-of-type {\n",
       "        vertical-align: middle;\n",
       "    }\n",
       "\n",
       "    .dataframe tbody tr th {\n",
       "        vertical-align: top;\n",
       "    }\n",
       "\n",
       "    .dataframe thead th {\n",
       "        text-align: right;\n",
       "    }\n",
       "</style>\n",
       "<table border=\"1\" class=\"dataframe\">\n",
       "  <thead>\n",
       "    <tr style=\"text-align: right;\">\n",
       "      <th></th>\n",
       "      <th>Age</th>\n",
       "      <th>Name</th>\n",
       "      <th>Sex</th>\n",
       "    </tr>\n",
       "  </thead>\n",
       "  <tbody>\n",
       "    <tr>\n",
       "      <th>A</th>\n",
       "      <td>20</td>\n",
       "      <td>호랑이</td>\n",
       "      <td>Female</td>\n",
       "    </tr>\n",
       "    <tr>\n",
       "      <th>B</th>\n",
       "      <td>21</td>\n",
       "      <td>까치</td>\n",
       "      <td>Male</td>\n",
       "    </tr>\n",
       "    <tr>\n",
       "      <th>C</th>\n",
       "      <td>22</td>\n",
       "      <td>무지개</td>\n",
       "      <td>Female</td>\n",
       "    </tr>\n",
       "    <tr>\n",
       "      <th>D</th>\n",
       "      <td>38</td>\n",
       "      <td>낙타</td>\n",
       "      <td>Female</td>\n",
       "    </tr>\n",
       "    <tr>\n",
       "      <th>E</th>\n",
       "      <td>40</td>\n",
       "      <td>자전거</td>\n",
       "      <td>Male</td>\n",
       "    </tr>\n",
       "    <tr>\n",
       "      <th>F</th>\n",
       "      <td>17</td>\n",
       "      <td>숀</td>\n",
       "      <td>Female</td>\n",
       "    </tr>\n",
       "  </tbody>\n",
       "</table>\n",
       "</div>"
      ],
      "text/plain": [
       "   Age Name     Sex\n",
       "A   20  호랑이  Female\n",
       "B   21   까치    Male\n",
       "C   22  무지개  Female\n",
       "D   38   낙타  Female\n",
       "E   40  자전거    Male\n",
       "F   17    숀  Female"
      ]
     },
     "execution_count": 91,
     "metadata": {},
     "output_type": "execute_result"
    }
   ],
   "source": [
    "df3.sort_index(axis=1)"
   ]
  },
  {
   "cell_type": "code",
   "execution_count": null,
   "id": "1906d204-7f4b-4fb5-b998-2199ff3080f2",
   "metadata": {},
   "outputs": [],
   "source": []
  },
  {
   "cell_type": "markdown",
   "id": "14bdb59c-12a8-472b-83b6-39fccab61bb7",
   "metadata": {},
   "source": [
    "#### 데이터 순위\n",
    "- 데이터프레임에서 하나의 행이나 열을 기준으로 정렬하고자 할 경우 ```rank()```를 사용하면 됨\n",
    "- 주의할 점: df에서 대괄호[]를 통해 하나의 행/열 인덱스를 입력해야 한다는 것\n",
    "- ```df.rank(axis=0, method='average', ascending=True, ...)```\n",
    "\n",
    "<br>\n",
    "\n",
    "#### 인자\n",
    "1. **axis** : 0(default)는 행, 1은 열을 기준으로 함\n",
    "2. **method** : 동점처리 기준으로 'average(default)', 'min', 'max' 등의 종류가 있음\n",
    "   - 'average'는 평균 순위. 'min'은 부여된 순위 중 가장 낮은 순위, 'max'는 가장 높은 순위\n",
    "3. **ascending** : 오름차순을 반영하여 순위를 생성할지에 대한 여부. True(default)는 오름차순을 반영해 가장 작은 값부터, False는 내림차순을 반영해 가장 큰 값이 1위"
   ]
  },
  {
   "cell_type": "code",
   "execution_count": 98,
   "id": "c5776ff3-e679-4cef-b470-ec0ea22451d5",
   "metadata": {
    "tags": []
   },
   "outputs": [
    {
     "data": {
      "text/html": [
       "<div>\n",
       "<style scoped>\n",
       "    .dataframe tbody tr th:only-of-type {\n",
       "        vertical-align: middle;\n",
       "    }\n",
       "\n",
       "    .dataframe tbody tr th {\n",
       "        vertical-align: top;\n",
       "    }\n",
       "\n",
       "    .dataframe thead th {\n",
       "        text-align: right;\n",
       "    }\n",
       "</style>\n",
       "<table border=\"1\" class=\"dataframe\">\n",
       "  <thead>\n",
       "    <tr style=\"text-align: right;\">\n",
       "      <th></th>\n",
       "      <th>Score</th>\n",
       "      <th>Age</th>\n",
       "    </tr>\n",
       "  </thead>\n",
       "  <tbody>\n",
       "    <tr>\n",
       "      <th>0</th>\n",
       "      <td>100</td>\n",
       "      <td>20</td>\n",
       "    </tr>\n",
       "    <tr>\n",
       "      <th>1</th>\n",
       "      <td>95</td>\n",
       "      <td>35</td>\n",
       "    </tr>\n",
       "    <tr>\n",
       "      <th>2</th>\n",
       "      <td>60</td>\n",
       "      <td>31</td>\n",
       "    </tr>\n",
       "    <tr>\n",
       "      <th>3</th>\n",
       "      <td>20</td>\n",
       "      <td>53</td>\n",
       "    </tr>\n",
       "    <tr>\n",
       "      <th>4</th>\n",
       "      <td>33</td>\n",
       "      <td>14</td>\n",
       "    </tr>\n",
       "    <tr>\n",
       "      <th>5</th>\n",
       "      <td>59</td>\n",
       "      <td>29</td>\n",
       "    </tr>\n",
       "    <tr>\n",
       "      <th>6</th>\n",
       "      <td>60</td>\n",
       "      <td>33</td>\n",
       "    </tr>\n",
       "    <tr>\n",
       "      <th>7</th>\n",
       "      <td>70</td>\n",
       "      <td>50</td>\n",
       "    </tr>\n",
       "    <tr>\n",
       "      <th>8</th>\n",
       "      <td>42</td>\n",
       "      <td>50</td>\n",
       "    </tr>\n",
       "    <tr>\n",
       "      <th>9</th>\n",
       "      <td>88</td>\n",
       "      <td>10</td>\n",
       "    </tr>\n",
       "    <tr>\n",
       "      <th>10</th>\n",
       "      <td>93</td>\n",
       "      <td>77</td>\n",
       "    </tr>\n",
       "  </tbody>\n",
       "</table>\n",
       "</div>"
      ],
      "text/plain": [
       "    Score  Age\n",
       "0     100   20\n",
       "1      95   35\n",
       "2      60   31\n",
       "3      20   53\n",
       "4      33   14\n",
       "5      59   29\n",
       "6      60   33\n",
       "7      70   50\n",
       "8      42   50\n",
       "9      88   10\n",
       "10     93   77"
      ]
     },
     "execution_count": 98,
     "metadata": {},
     "output_type": "execute_result"
    }
   ],
   "source": [
    "obj = {'Score' : [100, 95, 60, 20, 33, 59, 60, 70, 42, 88, 93],\n",
    "       'Age'   : [20, 35, 31, 53, 14, 29, 33, 50, 50, 10, 77]}\n",
    "\n",
    "df4 = pd.DataFrame(obj)\n",
    "df4"
   ]
  },
  {
   "cell_type": "code",
   "execution_count": 100,
   "id": "637ec3af-ebd9-4085-9e5e-96402e829ae1",
   "metadata": {
    "tags": []
   },
   "outputs": [
    {
     "data": {
      "text/html": [
       "<div>\n",
       "<style scoped>\n",
       "    .dataframe tbody tr th:only-of-type {\n",
       "        vertical-align: middle;\n",
       "    }\n",
       "\n",
       "    .dataframe tbody tr th {\n",
       "        vertical-align: top;\n",
       "    }\n",
       "\n",
       "    .dataframe thead th {\n",
       "        text-align: right;\n",
       "    }\n",
       "</style>\n",
       "<table border=\"1\" class=\"dataframe\">\n",
       "  <thead>\n",
       "    <tr style=\"text-align: right;\">\n",
       "      <th></th>\n",
       "      <th>Score</th>\n",
       "      <th>Age</th>\n",
       "    </tr>\n",
       "  </thead>\n",
       "  <tbody>\n",
       "    <tr>\n",
       "      <th>0</th>\n",
       "      <td>100</td>\n",
       "      <td>20</td>\n",
       "    </tr>\n",
       "    <tr>\n",
       "      <th>1</th>\n",
       "      <td>95</td>\n",
       "      <td>35</td>\n",
       "    </tr>\n",
       "    <tr>\n",
       "      <th>10</th>\n",
       "      <td>93</td>\n",
       "      <td>77</td>\n",
       "    </tr>\n",
       "    <tr>\n",
       "      <th>9</th>\n",
       "      <td>88</td>\n",
       "      <td>10</td>\n",
       "    </tr>\n",
       "    <tr>\n",
       "      <th>7</th>\n",
       "      <td>70</td>\n",
       "      <td>50</td>\n",
       "    </tr>\n",
       "  </tbody>\n",
       "</table>\n",
       "</div>"
      ],
      "text/plain": [
       "    Score  Age\n",
       "0     100   20\n",
       "1      95   35\n",
       "10     93   77\n",
       "9      88   10\n",
       "7      70   50"
      ]
     },
     "execution_count": 100,
     "metadata": {},
     "output_type": "execute_result"
    }
   ],
   "source": [
    "df4.sort_values('Score', ascending=False, inplace=True)\n",
    "df4.head()"
   ]
  },
  {
   "cell_type": "code",
   "execution_count": 103,
   "id": "82c3cab4-7afe-448a-9f24-5bef1585b490",
   "metadata": {
    "tags": []
   },
   "outputs": [],
   "source": [
    "# rank 동점자 평균 순위\n",
    "df4['rank_avg1'] = df4['Score'].rank()"
   ]
  },
  {
   "cell_type": "code",
   "execution_count": 104,
   "id": "85fe835e-8d88-42a4-8b63-835f725952bc",
   "metadata": {
    "tags": []
   },
   "outputs": [],
   "source": [
    "# 동점자 평균 순위(가장 큰 값이 1위)\n",
    "df4['rank_avg2'] = df4['Score'].rank(ascending=False)"
   ]
  },
  {
   "cell_type": "code",
   "execution_count": 105,
   "id": "660d5085-eea9-40a4-87ca-64c93b16d722",
   "metadata": {
    "tags": []
   },
   "outputs": [],
   "source": [
    "# 동점자 가장 낮은 순위(가장 큰 값이 1위)\n",
    "df4['rank_min'] = df4['Score'].rank(method='min', ascending=False)"
   ]
  },
  {
   "cell_type": "code",
   "execution_count": 106,
   "id": "43bc1d0b-e93b-40d3-a861-6845ece09c43",
   "metadata": {
    "tags": []
   },
   "outputs": [],
   "source": [
    "# 동점자 가장 높은 순위(가장 큰 값이 1위)\n",
    "df4['rank_max'] = df4['Score'].rank(method='max', ascending=False)"
   ]
  },
  {
   "cell_type": "code",
   "execution_count": 107,
   "id": "942ffa2b-0ccd-46ed-8cfd-edc3f591b2e7",
   "metadata": {
    "tags": []
   },
   "outputs": [
    {
     "data": {
      "text/html": [
       "<div>\n",
       "<style scoped>\n",
       "    .dataframe tbody tr th:only-of-type {\n",
       "        vertical-align: middle;\n",
       "    }\n",
       "\n",
       "    .dataframe tbody tr th {\n",
       "        vertical-align: top;\n",
       "    }\n",
       "\n",
       "    .dataframe thead th {\n",
       "        text-align: right;\n",
       "    }\n",
       "</style>\n",
       "<table border=\"1\" class=\"dataframe\">\n",
       "  <thead>\n",
       "    <tr style=\"text-align: right;\">\n",
       "      <th></th>\n",
       "      <th>Score</th>\n",
       "      <th>Age</th>\n",
       "      <th>rank_avg1</th>\n",
       "      <th>rank_avg2</th>\n",
       "      <th>rank_min</th>\n",
       "      <th>rank_max</th>\n",
       "    </tr>\n",
       "  </thead>\n",
       "  <tbody>\n",
       "    <tr>\n",
       "      <th>0</th>\n",
       "      <td>100</td>\n",
       "      <td>20</td>\n",
       "      <td>11.0</td>\n",
       "      <td>1.0</td>\n",
       "      <td>1.0</td>\n",
       "      <td>1.0</td>\n",
       "    </tr>\n",
       "    <tr>\n",
       "      <th>1</th>\n",
       "      <td>95</td>\n",
       "      <td>35</td>\n",
       "      <td>10.0</td>\n",
       "      <td>2.0</td>\n",
       "      <td>2.0</td>\n",
       "      <td>2.0</td>\n",
       "    </tr>\n",
       "    <tr>\n",
       "      <th>10</th>\n",
       "      <td>93</td>\n",
       "      <td>77</td>\n",
       "      <td>9.0</td>\n",
       "      <td>3.0</td>\n",
       "      <td>3.0</td>\n",
       "      <td>3.0</td>\n",
       "    </tr>\n",
       "    <tr>\n",
       "      <th>9</th>\n",
       "      <td>88</td>\n",
       "      <td>10</td>\n",
       "      <td>8.0</td>\n",
       "      <td>4.0</td>\n",
       "      <td>4.0</td>\n",
       "      <td>4.0</td>\n",
       "    </tr>\n",
       "    <tr>\n",
       "      <th>7</th>\n",
       "      <td>70</td>\n",
       "      <td>50</td>\n",
       "      <td>7.0</td>\n",
       "      <td>5.0</td>\n",
       "      <td>5.0</td>\n",
       "      <td>5.0</td>\n",
       "    </tr>\n",
       "    <tr>\n",
       "      <th>2</th>\n",
       "      <td>60</td>\n",
       "      <td>31</td>\n",
       "      <td>5.5</td>\n",
       "      <td>6.5</td>\n",
       "      <td>6.0</td>\n",
       "      <td>7.0</td>\n",
       "    </tr>\n",
       "    <tr>\n",
       "      <th>6</th>\n",
       "      <td>60</td>\n",
       "      <td>33</td>\n",
       "      <td>5.5</td>\n",
       "      <td>6.5</td>\n",
       "      <td>6.0</td>\n",
       "      <td>7.0</td>\n",
       "    </tr>\n",
       "    <tr>\n",
       "      <th>5</th>\n",
       "      <td>59</td>\n",
       "      <td>29</td>\n",
       "      <td>4.0</td>\n",
       "      <td>8.0</td>\n",
       "      <td>8.0</td>\n",
       "      <td>8.0</td>\n",
       "    </tr>\n",
       "    <tr>\n",
       "      <th>8</th>\n",
       "      <td>42</td>\n",
       "      <td>50</td>\n",
       "      <td>3.0</td>\n",
       "      <td>9.0</td>\n",
       "      <td>9.0</td>\n",
       "      <td>9.0</td>\n",
       "    </tr>\n",
       "    <tr>\n",
       "      <th>4</th>\n",
       "      <td>33</td>\n",
       "      <td>14</td>\n",
       "      <td>2.0</td>\n",
       "      <td>10.0</td>\n",
       "      <td>10.0</td>\n",
       "      <td>10.0</td>\n",
       "    </tr>\n",
       "    <tr>\n",
       "      <th>3</th>\n",
       "      <td>20</td>\n",
       "      <td>53</td>\n",
       "      <td>1.0</td>\n",
       "      <td>11.0</td>\n",
       "      <td>11.0</td>\n",
       "      <td>11.0</td>\n",
       "    </tr>\n",
       "  </tbody>\n",
       "</table>\n",
       "</div>"
      ],
      "text/plain": [
       "    Score  Age  rank_avg1  rank_avg2  rank_min  rank_max\n",
       "0     100   20       11.0        1.0       1.0       1.0\n",
       "1      95   35       10.0        2.0       2.0       2.0\n",
       "10     93   77        9.0        3.0       3.0       3.0\n",
       "9      88   10        8.0        4.0       4.0       4.0\n",
       "7      70   50        7.0        5.0       5.0       5.0\n",
       "2      60   31        5.5        6.5       6.0       7.0\n",
       "6      60   33        5.5        6.5       6.0       7.0\n",
       "5      59   29        4.0        8.0       8.0       8.0\n",
       "8      42   50        3.0        9.0       9.0       9.0\n",
       "4      33   14        2.0       10.0      10.0      10.0\n",
       "3      20   53        1.0       11.0      11.0      11.0"
      ]
     },
     "execution_count": 107,
     "metadata": {},
     "output_type": "execute_result"
    }
   ],
   "source": [
    "df4"
   ]
  }
 ],
 "metadata": {
  "kernelspec": {
   "display_name": "Python 3 (ipykernel)",
   "language": "python",
   "name": "python3"
  },
  "language_info": {
   "codemirror_mode": {
    "name": "ipython",
    "version": 3
   },
   "file_extension": ".py",
   "mimetype": "text/x-python",
   "name": "python",
   "nbconvert_exporter": "python",
   "pygments_lexer": "ipython3",
   "version": "3.11.5"
  }
 },
 "nbformat": 4,
 "nbformat_minor": 5
}
