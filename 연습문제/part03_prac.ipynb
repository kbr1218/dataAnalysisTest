{
 "cells": [
  {
   "cell_type": "markdown",
   "id": "e815e836-d049-462b-a3b8-1f62f80e9ec7",
   "metadata": {},
   "source": [
    "# 연습문제 : 작업형 3\n",
    "## 01."
   ]
  },
  {
   "cell_type": "code",
   "execution_count": 1,
   "id": "6ab2b7aa-965b-4606-ab59-f315e5130474",
   "metadata": {
    "tags": []
   },
   "outputs": [],
   "source": [
    "# 귀무가설: (실험군 혈압 변화 - 대조군 혈압 변화)의 평균 = 0\n",
    "# 대립가설: (실험군 혈압 변화 - 대조군 혈압 변화)의 평균 != 0"
   ]
  },
  {
   "cell_type": "code",
   "execution_count": 3,
   "id": "c46c5c27-2d27-4586-b6d4-db58b06877d6",
   "metadata": {
    "tags": []
   },
   "outputs": [
    {
     "data": {
      "text/html": [
       "<div>\n",
       "<style scoped>\n",
       "    .dataframe tbody tr th:only-of-type {\n",
       "        vertical-align: middle;\n",
       "    }\n",
       "\n",
       "    .dataframe tbody tr th {\n",
       "        vertical-align: top;\n",
       "    }\n",
       "\n",
       "    .dataframe thead th {\n",
       "        text-align: right;\n",
       "    }\n",
       "</style>\n",
       "<table border=\"1\" class=\"dataframe\">\n",
       "  <thead>\n",
       "    <tr style=\"text-align: right;\">\n",
       "      <th></th>\n",
       "      <th>BP_change</th>\n",
       "      <th>Dose</th>\n",
       "      <th>Treatment</th>\n",
       "      <th>lbl_Animal</th>\n",
       "    </tr>\n",
       "  </thead>\n",
       "  <tbody>\n",
       "    <tr>\n",
       "      <th>0</th>\n",
       "      <td>0.5</td>\n",
       "      <td>6.25</td>\n",
       "      <td>Control</td>\n",
       "      <td>R1</td>\n",
       "    </tr>\n",
       "    <tr>\n",
       "      <th>1</th>\n",
       "      <td>4.5</td>\n",
       "      <td>12.50</td>\n",
       "      <td>Control</td>\n",
       "      <td>R1</td>\n",
       "    </tr>\n",
       "    <tr>\n",
       "      <th>2</th>\n",
       "      <td>10.0</td>\n",
       "      <td>25.00</td>\n",
       "      <td>Control</td>\n",
       "      <td>R1</td>\n",
       "    </tr>\n",
       "    <tr>\n",
       "      <th>3</th>\n",
       "      <td>26.0</td>\n",
       "      <td>50.00</td>\n",
       "      <td>Control</td>\n",
       "      <td>R1</td>\n",
       "    </tr>\n",
       "    <tr>\n",
       "      <th>4</th>\n",
       "      <td>37.0</td>\n",
       "      <td>100.00</td>\n",
       "      <td>Control</td>\n",
       "      <td>R1</td>\n",
       "    </tr>\n",
       "  </tbody>\n",
       "</table>\n",
       "</div>"
      ],
      "text/plain": [
       "   BP_change    Dose Treatment lbl_Animal\n",
       "0        0.5    6.25   Control         R1\n",
       "1        4.5   12.50   Control         R1\n",
       "2       10.0   25.00   Control         R1\n",
       "3       26.0   50.00   Control         R1\n",
       "4       37.0  100.00   Control         R1"
      ]
     },
     "execution_count": 3,
     "metadata": {},
     "output_type": "execute_result"
    }
   ],
   "source": [
    "# (a) (실험군 혈압 변화 - 대조군 혈압 변화)의 평균의 점추정량 구하기 (반올림하여 소수 둘째자리까지 계산)\n",
    "import pandas as pd\n",
    "df1 = pd.read_csv(\"../data/연습문제/Rabbit_Five.csv\", encoding = 'cp949')\n",
    "df1.head()"
   ]
  },
  {
   "cell_type": "code",
   "execution_count": 4,
   "id": "51685d1f-b4e1-4b5e-8611-597174664c53",
   "metadata": {
    "tags": []
   },
   "outputs": [
    {
     "data": {
      "text/plain": [
       "(60, 4)"
      ]
     },
     "execution_count": 4,
     "metadata": {},
     "output_type": "execute_result"
    }
   ],
   "source": [
    "df1.shape"
   ]
  },
  {
   "cell_type": "code",
   "execution_count": 6,
   "id": "f1b555ed-4b72-4057-a6fa-445ce770abf4",
   "metadata": {
    "tags": []
   },
   "outputs": [
    {
     "name": "stdout",
     "output_type": "stream",
     "text": [
      "<class 'pandas.core.frame.DataFrame'>\n",
      "RangeIndex: 60 entries, 0 to 59\n",
      "Data columns (total 4 columns):\n",
      " #   Column      Non-Null Count  Dtype  \n",
      "---  ------      --------------  -----  \n",
      " 0   BP_change   60 non-null     float64\n",
      " 1   Dose        60 non-null     float64\n",
      " 2   Treatment   60 non-null     object \n",
      " 3   lbl_Animal  60 non-null     object \n",
      "dtypes: float64(2), object(2)\n",
      "memory usage: 2.0+ KB\n"
     ]
    }
   ],
   "source": [
    "df1.info()"
   ]
  },
  {
   "cell_type": "code",
   "execution_count": 14,
   "id": "d3009396-8784-4bd6-bb06-8da25e7dfbf3",
   "metadata": {
    "tags": []
   },
   "outputs": [
    {
     "data": {
      "text/plain": [
       "array(['Control', 'MDL'], dtype=object)"
      ]
     },
     "execution_count": 14,
     "metadata": {},
     "output_type": "execute_result"
    }
   ],
   "source": [
    "df1['Treatment'].unique()"
   ]
  },
  {
   "cell_type": "code",
   "execution_count": 22,
   "id": "fd8e4977-9529-44aa-864b-9af6a85fb27f",
   "metadata": {
    "tags": []
   },
   "outputs": [
    {
     "data": {
      "text/html": [
       "<div>\n",
       "<style scoped>\n",
       "    .dataframe tbody tr th:only-of-type {\n",
       "        vertical-align: middle;\n",
       "    }\n",
       "\n",
       "    .dataframe tbody tr th {\n",
       "        vertical-align: top;\n",
       "    }\n",
       "\n",
       "    .dataframe thead th {\n",
       "        text-align: right;\n",
       "    }\n",
       "</style>\n",
       "<table border=\"1\" class=\"dataframe\">\n",
       "  <thead>\n",
       "    <tr style=\"text-align: right;\">\n",
       "      <th></th>\n",
       "      <th>BP_change</th>\n",
       "      <th>Dose</th>\n",
       "      <th>Treatment</th>\n",
       "      <th>lbl_Animal</th>\n",
       "    </tr>\n",
       "  </thead>\n",
       "  <tbody>\n",
       "    <tr>\n",
       "      <th>min</th>\n",
       "      <td>0.5</td>\n",
       "      <td>6.25</td>\n",
       "      <td>Control</td>\n",
       "      <td>R1</td>\n",
       "    </tr>\n",
       "    <tr>\n",
       "      <th>max</th>\n",
       "      <td>37.0</td>\n",
       "      <td>200.00</td>\n",
       "      <td>MDL</td>\n",
       "      <td>R5</td>\n",
       "    </tr>\n",
       "  </tbody>\n",
       "</table>\n",
       "</div>"
      ],
      "text/plain": [
       "     BP_change    Dose Treatment lbl_Animal\n",
       "min        0.5    6.25   Control         R1\n",
       "max       37.0  200.00       MDL         R5"
      ]
     },
     "execution_count": 22,
     "metadata": {},
     "output_type": "execute_result"
    }
   ],
   "source": [
    "df1.agg(['min', 'max'])"
   ]
  },
  {
   "cell_type": "code",
   "execution_count": 7,
   "id": "b4503b24-7519-41bc-9b82-42669622b832",
   "metadata": {
    "tags": []
   },
   "outputs": [],
   "source": [
    "# 필요한 패키지 함수 호출\n",
    "from scipy.stats import ttest_rel"
   ]
  },
  {
   "cell_type": "code",
   "execution_count": 27,
   "id": "388bc9d8-2781-4023-868c-989f9922988d",
   "metadata": {
    "tags": []
   },
   "outputs": [],
   "source": [
    "# 필요한 칼럼 각각 할당\n",
    "BP_change = df1['BP_change']\n",
    "Treatment = df1['Treatment']"
   ]
  },
  {
   "cell_type": "code",
   "execution_count": 28,
   "id": "3281727d-d233-4b19-9e14-c006e6caad72",
   "metadata": {
    "tags": []
   },
   "outputs": [],
   "source": [
    "# Treatment가 Control인 경우(대조군)와 MDL인 경우(실험군)의 BP_change 값 각각 할당\n",
    "BPC_Treat = BP_change[Treatment == \"MDL\"].reset_index(drop = True)\n",
    "BPC_Control = BP_change[Treatment == 'Control'].reset_index(drop = True)"
   ]
  },
  {
   "cell_type": "code",
   "execution_count": 32,
   "id": "f7964289-52dc-4e55-ace6-7dd94b1c809b",
   "metadata": {
    "tags": []
   },
   "outputs": [
    {
     "data": {
      "text/plain": [
       "-4.68"
      ]
     },
     "execution_count": 32,
     "metadata": {},
     "output_type": "execute_result"
    }
   ],
   "source": [
    "# (a) 점추정량 = mean(PC_Treat - PC_Control)\n",
    "diff_avg = (BPC_Treat - BPC_Control).mean()\n",
    "diff_avg = round(diff_avg, 2)\n",
    "diff_avg"
   ]
  },
  {
   "cell_type": "code",
   "execution_count": 33,
   "id": "a6e0f822-dd2b-4f38-9fe6-23c739947669",
   "metadata": {
    "tags": []
   },
   "outputs": [],
   "source": [
    "# 대응표본 t검정 수행\n",
    "a = ttest_rel(BPC_Treat, BPC_Control)"
   ]
  },
  {
   "cell_type": "code",
   "execution_count": 34,
   "id": "58e82543-54e0-4053-bc0f-4294f5f81993",
   "metadata": {
    "tags": []
   },
   "outputs": [
    {
     "data": {
      "text/plain": [
       "-3.67"
      ]
     },
     "execution_count": 34,
     "metadata": {},
     "output_type": "execute_result"
    }
   ],
   "source": [
    "# (b) 검정통계량\n",
    "stat = a.statistic\n",
    "stat = round(stat, 2)\n",
    "stat"
   ]
  },
  {
   "cell_type": "code",
   "execution_count": 37,
   "id": "a0aaaf81-42ac-491f-83f2-5e1e007a953a",
   "metadata": {
    "tags": []
   },
   "outputs": [
    {
     "data": {
      "text/plain": [
       "0.001"
      ]
     },
     "execution_count": 37,
     "metadata": {},
     "output_type": "execute_result"
    }
   ],
   "source": [
    "# (c) p-value 구하기\n",
    "pval = a.pvalue\n",
    "pval = round(pval, 3)\n",
    "pval"
   ]
  },
  {
   "cell_type": "markdown",
   "id": "1565e3ae-e35f-45e0-8577-b76012d7fc5b",
   "metadata": {
    "tags": []
   },
   "source": [
    "- (a) -4.68\n",
    "- (b) -3.67\n",
    "- (c) 0.001, 기각"
   ]
  },
  {
   "cell_type": "markdown",
   "id": "861e0cf6-c6fe-4938-8cf4-b043cfbce813",
   "metadata": {},
   "source": [
    "## 02."
   ]
  },
  {
   "cell_type": "code",
   "execution_count": 38,
   "id": "14eb3d07-e22d-490c-8fa0-723c62b12fda",
   "metadata": {
    "tags": []
   },
   "outputs": [],
   "source": [
    "# σ^2: 수동변속기(am = 1)인 자동차의 마력분산/자동변속기(am = 0)인 자동차의 마력분산\n",
    "# 귀무가설: σ^2 <= 1\n",
    "# 대립가설: σ^2 > 1"
   ]
  },
  {
   "cell_type": "code",
   "execution_count": 39,
   "id": "768c054f-2498-4b0f-affc-347b8a3b6a75",
   "metadata": {
    "tags": []
   },
   "outputs": [
    {
     "data": {
      "text/html": [
       "<div>\n",
       "<style scoped>\n",
       "    .dataframe tbody tr th:only-of-type {\n",
       "        vertical-align: middle;\n",
       "    }\n",
       "\n",
       "    .dataframe tbody tr th {\n",
       "        vertical-align: top;\n",
       "    }\n",
       "\n",
       "    .dataframe thead th {\n",
       "        text-align: right;\n",
       "    }\n",
       "</style>\n",
       "<table border=\"1\" class=\"dataframe\">\n",
       "  <thead>\n",
       "    <tr style=\"text-align: right;\">\n",
       "      <th></th>\n",
       "      <th>mpg</th>\n",
       "      <th>cyl</th>\n",
       "      <th>disp</th>\n",
       "      <th>hp</th>\n",
       "      <th>drat</th>\n",
       "      <th>wt</th>\n",
       "      <th>qsec</th>\n",
       "      <th>vs</th>\n",
       "      <th>am</th>\n",
       "      <th>gear</th>\n",
       "      <th>carb</th>\n",
       "    </tr>\n",
       "  </thead>\n",
       "  <tbody>\n",
       "    <tr>\n",
       "      <th>0</th>\n",
       "      <td>21.0</td>\n",
       "      <td>6</td>\n",
       "      <td>160.0</td>\n",
       "      <td>110</td>\n",
       "      <td>3.90</td>\n",
       "      <td>2.620</td>\n",
       "      <td>16.46</td>\n",
       "      <td>0</td>\n",
       "      <td>1</td>\n",
       "      <td>4</td>\n",
       "      <td>4</td>\n",
       "    </tr>\n",
       "    <tr>\n",
       "      <th>1</th>\n",
       "      <td>21.0</td>\n",
       "      <td>6</td>\n",
       "      <td>160.0</td>\n",
       "      <td>110</td>\n",
       "      <td>3.90</td>\n",
       "      <td>2.875</td>\n",
       "      <td>17.02</td>\n",
       "      <td>0</td>\n",
       "      <td>1</td>\n",
       "      <td>4</td>\n",
       "      <td>4</td>\n",
       "    </tr>\n",
       "    <tr>\n",
       "      <th>2</th>\n",
       "      <td>22.8</td>\n",
       "      <td>4</td>\n",
       "      <td>108.0</td>\n",
       "      <td>93</td>\n",
       "      <td>3.85</td>\n",
       "      <td>2.320</td>\n",
       "      <td>18.61</td>\n",
       "      <td>1</td>\n",
       "      <td>1</td>\n",
       "      <td>4</td>\n",
       "      <td>1</td>\n",
       "    </tr>\n",
       "    <tr>\n",
       "      <th>3</th>\n",
       "      <td>21.4</td>\n",
       "      <td>6</td>\n",
       "      <td>258.0</td>\n",
       "      <td>110</td>\n",
       "      <td>3.08</td>\n",
       "      <td>3.215</td>\n",
       "      <td>19.44</td>\n",
       "      <td>1</td>\n",
       "      <td>0</td>\n",
       "      <td>3</td>\n",
       "      <td>1</td>\n",
       "    </tr>\n",
       "    <tr>\n",
       "      <th>4</th>\n",
       "      <td>18.7</td>\n",
       "      <td>8</td>\n",
       "      <td>NaN</td>\n",
       "      <td>175</td>\n",
       "      <td>3.15</td>\n",
       "      <td>3.440</td>\n",
       "      <td>17.02</td>\n",
       "      <td>0</td>\n",
       "      <td>0</td>\n",
       "      <td>3</td>\n",
       "      <td>2</td>\n",
       "    </tr>\n",
       "  </tbody>\n",
       "</table>\n",
       "</div>"
      ],
      "text/plain": [
       "    mpg  cyl   disp   hp  drat     wt   qsec  vs  am  gear  carb\n",
       "0  21.0    6  160.0  110  3.90  2.620  16.46   0   1     4     4\n",
       "1  21.0    6  160.0  110  3.90  2.875  17.02   0   1     4     4\n",
       "2  22.8    4  108.0   93  3.85  2.320  18.61   1   1     4     1\n",
       "3  21.4    6  258.0  110  3.08  3.215  19.44   1   0     3     1\n",
       "4  18.7    8    NaN  175  3.15  3.440  17.02   0   0     3     2"
      ]
     },
     "execution_count": 39,
     "metadata": {},
     "output_type": "execute_result"
    }
   ],
   "source": [
    "import pandas as pd\n",
    "df2 = pd.read_csv('../data/연습문제/mtcars2.csv', encoding = 'cp949')\n",
    "df2.head()"
   ]
  },
  {
   "cell_type": "code",
   "execution_count": 40,
   "id": "73d63f37-de96-4f40-a486-a8e5ec2639db",
   "metadata": {
    "tags": []
   },
   "outputs": [
    {
     "data": {
      "text/plain": [
       "(32, 11)"
      ]
     },
     "execution_count": 40,
     "metadata": {},
     "output_type": "execute_result"
    }
   ],
   "source": [
    "df2.shape"
   ]
  },
  {
   "cell_type": "code",
   "execution_count": 41,
   "id": "62857821-99dc-4e8e-b110-f72aa304291f",
   "metadata": {
    "tags": []
   },
   "outputs": [
    {
     "name": "stdout",
     "output_type": "stream",
     "text": [
      "<class 'pandas.core.frame.DataFrame'>\n",
      "RangeIndex: 32 entries, 0 to 31\n",
      "Data columns (total 11 columns):\n",
      " #   Column  Non-Null Count  Dtype  \n",
      "---  ------  --------------  -----  \n",
      " 0   mpg     32 non-null     float64\n",
      " 1   cyl     32 non-null     int64  \n",
      " 2   disp    25 non-null     float64\n",
      " 3   hp      32 non-null     int64  \n",
      " 4   drat    32 non-null     float64\n",
      " 5   wt      32 non-null     float64\n",
      " 6   qsec    32 non-null     float64\n",
      " 7   vs      32 non-null     int64  \n",
      " 8   am      32 non-null     int64  \n",
      " 9   gear    32 non-null     int64  \n",
      " 10  carb    32 non-null     int64  \n",
      "dtypes: float64(5), int64(6)\n",
      "memory usage: 2.9 KB\n"
     ]
    }
   ],
   "source": [
    "df2.info()"
   ]
  },
  {
   "cell_type": "code",
   "execution_count": 52,
   "id": "938077dd-7e80-48d9-940b-ebd4af7dabc5",
   "metadata": {
    "tags": []
   },
   "outputs": [
    {
     "data": {
      "text/html": [
       "<div>\n",
       "<style scoped>\n",
       "    .dataframe tbody tr th:only-of-type {\n",
       "        vertical-align: middle;\n",
       "    }\n",
       "\n",
       "    .dataframe tbody tr th {\n",
       "        vertical-align: top;\n",
       "    }\n",
       "\n",
       "    .dataframe thead th {\n",
       "        text-align: right;\n",
       "    }\n",
       "</style>\n",
       "<table border=\"1\" class=\"dataframe\">\n",
       "  <thead>\n",
       "    <tr style=\"text-align: right;\">\n",
       "      <th></th>\n",
       "      <th>mpg</th>\n",
       "      <th>cyl</th>\n",
       "      <th>disp</th>\n",
       "      <th>hp</th>\n",
       "      <th>drat</th>\n",
       "      <th>wt</th>\n",
       "      <th>qsec</th>\n",
       "      <th>vs</th>\n",
       "      <th>am</th>\n",
       "      <th>gear</th>\n",
       "      <th>carb</th>\n",
       "    </tr>\n",
       "  </thead>\n",
       "  <tbody>\n",
       "    <tr>\n",
       "      <th>count</th>\n",
       "      <td>32.000000</td>\n",
       "      <td>32.000000</td>\n",
       "      <td>25.000000</td>\n",
       "      <td>32.000000</td>\n",
       "      <td>32.000000</td>\n",
       "      <td>32.000000</td>\n",
       "      <td>32.000000</td>\n",
       "      <td>32.000000</td>\n",
       "      <td>32.000000</td>\n",
       "      <td>32.000000</td>\n",
       "      <td>32.0000</td>\n",
       "    </tr>\n",
       "    <tr>\n",
       "      <th>mean</th>\n",
       "      <td>20.090625</td>\n",
       "      <td>6.187500</td>\n",
       "      <td>200.592000</td>\n",
       "      <td>146.687500</td>\n",
       "      <td>3.596563</td>\n",
       "      <td>3.217250</td>\n",
       "      <td>17.848750</td>\n",
       "      <td>0.437500</td>\n",
       "      <td>0.406250</td>\n",
       "      <td>3.687500</td>\n",
       "      <td>2.8125</td>\n",
       "    </tr>\n",
       "    <tr>\n",
       "      <th>std</th>\n",
       "      <td>6.026948</td>\n",
       "      <td>1.785922</td>\n",
       "      <td>109.739202</td>\n",
       "      <td>68.562868</td>\n",
       "      <td>0.534679</td>\n",
       "      <td>0.978457</td>\n",
       "      <td>1.786943</td>\n",
       "      <td>0.504016</td>\n",
       "      <td>0.498991</td>\n",
       "      <td>0.737804</td>\n",
       "      <td>1.6152</td>\n",
       "    </tr>\n",
       "    <tr>\n",
       "      <th>min</th>\n",
       "      <td>10.400000</td>\n",
       "      <td>4.000000</td>\n",
       "      <td>71.100000</td>\n",
       "      <td>52.000000</td>\n",
       "      <td>2.760000</td>\n",
       "      <td>1.513000</td>\n",
       "      <td>14.500000</td>\n",
       "      <td>0.000000</td>\n",
       "      <td>0.000000</td>\n",
       "      <td>3.000000</td>\n",
       "      <td>1.0000</td>\n",
       "    </tr>\n",
       "    <tr>\n",
       "      <th>25%</th>\n",
       "      <td>15.425000</td>\n",
       "      <td>4.000000</td>\n",
       "      <td>120.100000</td>\n",
       "      <td>96.500000</td>\n",
       "      <td>3.080000</td>\n",
       "      <td>2.581250</td>\n",
       "      <td>16.892500</td>\n",
       "      <td>0.000000</td>\n",
       "      <td>0.000000</td>\n",
       "      <td>3.000000</td>\n",
       "      <td>2.0000</td>\n",
       "    </tr>\n",
       "    <tr>\n",
       "      <th>50%</th>\n",
       "      <td>19.200000</td>\n",
       "      <td>6.000000</td>\n",
       "      <td>160.000000</td>\n",
       "      <td>123.000000</td>\n",
       "      <td>3.695000</td>\n",
       "      <td>3.325000</td>\n",
       "      <td>17.710000</td>\n",
       "      <td>0.000000</td>\n",
       "      <td>0.000000</td>\n",
       "      <td>4.000000</td>\n",
       "      <td>2.0000</td>\n",
       "    </tr>\n",
       "    <tr>\n",
       "      <th>75%</th>\n",
       "      <td>22.800000</td>\n",
       "      <td>8.000000</td>\n",
       "      <td>275.800000</td>\n",
       "      <td>180.000000</td>\n",
       "      <td>3.920000</td>\n",
       "      <td>3.610000</td>\n",
       "      <td>18.900000</td>\n",
       "      <td>1.000000</td>\n",
       "      <td>1.000000</td>\n",
       "      <td>4.000000</td>\n",
       "      <td>4.0000</td>\n",
       "    </tr>\n",
       "    <tr>\n",
       "      <th>max</th>\n",
       "      <td>33.900000</td>\n",
       "      <td>8.000000</td>\n",
       "      <td>440.000000</td>\n",
       "      <td>335.000000</td>\n",
       "      <td>4.930000</td>\n",
       "      <td>5.424000</td>\n",
       "      <td>22.900000</td>\n",
       "      <td>1.000000</td>\n",
       "      <td>1.000000</td>\n",
       "      <td>5.000000</td>\n",
       "      <td>8.0000</td>\n",
       "    </tr>\n",
       "  </tbody>\n",
       "</table>\n",
       "</div>"
      ],
      "text/plain": [
       "             mpg        cyl        disp          hp       drat         wt  \\\n",
       "count  32.000000  32.000000   25.000000   32.000000  32.000000  32.000000   \n",
       "mean   20.090625   6.187500  200.592000  146.687500   3.596563   3.217250   \n",
       "std     6.026948   1.785922  109.739202   68.562868   0.534679   0.978457   \n",
       "min    10.400000   4.000000   71.100000   52.000000   2.760000   1.513000   \n",
       "25%    15.425000   4.000000  120.100000   96.500000   3.080000   2.581250   \n",
       "50%    19.200000   6.000000  160.000000  123.000000   3.695000   3.325000   \n",
       "75%    22.800000   8.000000  275.800000  180.000000   3.920000   3.610000   \n",
       "max    33.900000   8.000000  440.000000  335.000000   4.930000   5.424000   \n",
       "\n",
       "            qsec         vs         am       gear     carb  \n",
       "count  32.000000  32.000000  32.000000  32.000000  32.0000  \n",
       "mean   17.848750   0.437500   0.406250   3.687500   2.8125  \n",
       "std     1.786943   0.504016   0.498991   0.737804   1.6152  \n",
       "min    14.500000   0.000000   0.000000   3.000000   1.0000  \n",
       "25%    16.892500   0.000000   0.000000   3.000000   2.0000  \n",
       "50%    17.710000   0.000000   0.000000   4.000000   2.0000  \n",
       "75%    18.900000   1.000000   1.000000   4.000000   4.0000  \n",
       "max    22.900000   1.000000   1.000000   5.000000   8.0000  "
      ]
     },
     "execution_count": 52,
     "metadata": {},
     "output_type": "execute_result"
    }
   ],
   "source": [
    "df2.describe()"
   ]
  },
  {
   "cell_type": "code",
   "execution_count": 53,
   "id": "86fed8d9-1cb0-48db-91eb-e6242142eef5",
   "metadata": {
    "tags": []
   },
   "outputs": [],
   "source": [
    "# 필요한 패키지\n",
    "from scipy.stats import f"
   ]
  },
  {
   "cell_type": "code",
   "execution_count": 54,
   "id": "f4eef2fe-0d67-4e7b-8197-0a7e8dca8ac7",
   "metadata": {
    "tags": []
   },
   "outputs": [],
   "source": [
    "# 필요한 컬럼 따로 변수에 저장\n",
    "am = df2['am']\n",
    "hp = df2['hp']"
   ]
  },
  {
   "cell_type": "code",
   "execution_count": 56,
   "id": "b1d72738-6949-4a85-bbbf-b81baba8ecf9",
   "metadata": {
    "tags": []
   },
   "outputs": [],
   "source": [
    "# 수동변속기(a = 1)인 자동차의 마력(hp), 자동변속기(am = 0)인 자동차의 마력(hp) 각각 할당\n",
    "hp_manual = hp[am == 1].reset_index(drop = True)\n",
    "hp_auto = hp[am == 0].reset_index(drop = True)"
   ]
  },
  {
   "cell_type": "code",
   "execution_count": 59,
   "id": "eec09ff5-cd0b-4761-9716-0a946df0fe99",
   "metadata": {
    "tags": []
   },
   "outputs": [
    {
     "data": {
      "text/plain": [
       "2.43"
      ]
     },
     "execution_count": 59,
     "metadata": {},
     "output_type": "execute_result"
    }
   ],
   "source": [
    "# (a) 수동 변속 표본분산/자동변속 표본분산\n",
    "var_ratio = hp_manual.var() / hp_auto.var()\n",
    "var_ratio = round(var_ratio, 2)\n",
    "var_ratio"
   ]
  },
  {
   "cell_type": "code",
   "execution_count": 60,
   "id": "1efc518b-4a90-4c5b-9534-6004fe241cd5",
   "metadata": {
    "tags": []
   },
   "outputs": [
    {
     "data": {
      "text/plain": [
       "2.43"
      ]
     },
     "execution_count": 60,
     "metadata": {},
     "output_type": "execute_result"
    }
   ],
   "source": [
    "# F-검정 수행\n",
    "# (b) 검정통계량 = (a)랑 같음\n",
    "stat = var_ratio\n",
    "stat"
   ]
  },
  {
   "cell_type": "code",
   "execution_count": 61,
   "id": "3065259a-547d-453e-8bd4-e1640600c4e4",
   "metadata": {
    "tags": []
   },
   "outputs": [
    {
     "data": {
      "text/plain": [
       "(12, 18)"
      ]
     },
     "execution_count": 61,
     "metadata": {},
     "output_type": "execute_result"
    }
   ],
   "source": [
    "# (c) 유의확률\n",
    "# 자유도\n",
    "dof1, dof2 = len(hp_manual) - 1, len(hp_auto) - 1\n",
    "dof1, dof2"
   ]
  },
  {
   "cell_type": "code",
   "execution_count": 66,
   "id": "95abff9f-5150-4b13-a9a2-6444ef830d29",
   "metadata": {
    "tags": []
   },
   "outputs": [
    {
     "data": {
      "text/plain": [
       "0.043"
      ]
     },
     "execution_count": 66,
     "metadata": {},
     "output_type": "execute_result"
    }
   ],
   "source": [
    "# F분포로 확률 계산\n",
    "pval = 1 - f.cdf(stat, dfn = dof1, dfd = dof2) # PR[F > stat]\n",
    "pval = round(pval, 3)\n",
    "pval"
   ]
  },
  {
   "cell_type": "markdown",
   "id": "c636cb7e-e58b-405f-8b24-0ebad6be5bd8",
   "metadata": {},
   "source": [
    "- (a) 2.43\n",
    "- (b) 2.43\n",
    "- (c) 0.043, 기각"
   ]
  },
  {
   "cell_type": "markdown",
   "id": "216b2e1d-3d6c-4231-a884-7a006c1cbdc8",
   "metadata": {},
   "source": [
    "## 03."
   ]
  },
  {
   "cell_type": "code",
   "execution_count": 67,
   "id": "42b578e9-dff9-4cca-a384-f4bff41fe0ca",
   "metadata": {
    "tags": []
   },
   "outputs": [],
   "source": [
    "# 귀무가설: Pi X Pj = Pij (고객군과 지역은 서로 독립이다)\n",
    "# 대립가설: Pi X Pj != Pij (고객군과 지역은 서로 종속이다)\n",
    "# 참고) Pij는 i번째 행의 j번째 열의 모비율"
   ]
  },
  {
   "cell_type": "code",
   "execution_count": 68,
   "id": "39cddda4-1d33-407a-874e-fc13f0622330",
   "metadata": {
    "tags": []
   },
   "outputs": [
    {
     "data": {
      "text/html": [
       "<div>\n",
       "<style scoped>\n",
       "    .dataframe tbody tr th:only-of-type {\n",
       "        vertical-align: middle;\n",
       "    }\n",
       "\n",
       "    .dataframe tbody tr th {\n",
       "        vertical-align: top;\n",
       "    }\n",
       "\n",
       "    .dataframe thead th {\n",
       "        text-align: right;\n",
       "    }\n",
       "</style>\n",
       "<table border=\"1\" class=\"dataframe\">\n",
       "  <thead>\n",
       "    <tr style=\"text-align: right;\">\n",
       "      <th></th>\n",
       "      <th>Customer_ID</th>\n",
       "      <th>ID</th>\n",
       "      <th>Name</th>\n",
       "      <th>Age</th>\n",
       "      <th>City</th>\n",
       "      <th>State</th>\n",
       "      <th>Region</th>\n",
       "      <th>Segment</th>\n",
       "    </tr>\n",
       "  </thead>\n",
       "  <tbody>\n",
       "    <tr>\n",
       "      <th>0</th>\n",
       "      <td>NaN</td>\n",
       "      <td>12520</td>\n",
       "      <td>Claire Gute</td>\n",
       "      <td>6*</td>\n",
       "      <td>Henderson</td>\n",
       "      <td>Kentucky</td>\n",
       "      <td>South</td>\n",
       "      <td>Consumer</td>\n",
       "    </tr>\n",
       "    <tr>\n",
       "      <th>1</th>\n",
       "      <td>NaN</td>\n",
       "      <td>13045</td>\n",
       "      <td>Darrin Van Huff</td>\n",
       "      <td>3*</td>\n",
       "      <td>Los Angeles</td>\n",
       "      <td>California</td>\n",
       "      <td>West</td>\n",
       "      <td>Corporate</td>\n",
       "    </tr>\n",
       "    <tr>\n",
       "      <th>2</th>\n",
       "      <td>NaN</td>\n",
       "      <td>20335</td>\n",
       "      <td>Sean O'Donnell</td>\n",
       "      <td>6*</td>\n",
       "      <td>Fort Lauderdale</td>\n",
       "      <td>Florida</td>\n",
       "      <td>South</td>\n",
       "      <td>Consumer</td>\n",
       "    </tr>\n",
       "    <tr>\n",
       "      <th>3</th>\n",
       "      <td>NaN</td>\n",
       "      <td>11710</td>\n",
       "      <td>Brosina Hoffman</td>\n",
       "      <td>2*</td>\n",
       "      <td>Los Angeles</td>\n",
       "      <td>California</td>\n",
       "      <td>West</td>\n",
       "      <td>Consumer</td>\n",
       "    </tr>\n",
       "    <tr>\n",
       "      <th>4</th>\n",
       "      <td>NaN</td>\n",
       "      <td>10480</td>\n",
       "      <td>Andrew Allen</td>\n",
       "      <td>5*</td>\n",
       "      <td>Concord</td>\n",
       "      <td>North Carolina</td>\n",
       "      <td>South</td>\n",
       "      <td>Consumer</td>\n",
       "    </tr>\n",
       "  </tbody>\n",
       "</table>\n",
       "</div>"
      ],
      "text/plain": [
       "   Customer_ID     ID             Name Age             City           State  \\\n",
       "0          NaN  12520      Claire Gute  6*        Henderson        Kentucky   \n",
       "1          NaN  13045  Darrin Van Huff  3*      Los Angeles      California   \n",
       "2          NaN  20335   Sean O'Donnell  6*  Fort Lauderdale         Florida   \n",
       "3          NaN  11710  Brosina Hoffman  2*      Los Angeles      California   \n",
       "4          NaN  10480     Andrew Allen  5*          Concord  North Carolina   \n",
       "\n",
       "  Region    Segment  \n",
       "0  South   Consumer  \n",
       "1   West  Corporate  \n",
       "2  South   Consumer  \n",
       "3   West   Consumer  \n",
       "4  South   Consumer  "
      ]
     },
     "execution_count": 68,
     "metadata": {},
     "output_type": "execute_result"
    }
   ],
   "source": [
    "import pandas as pd\n",
    "df3 = pd.read_csv('../data/연습문제/고객_등급리스트.csv', encoding = 'cp949')\n",
    "df3.head()"
   ]
  },
  {
   "cell_type": "code",
   "execution_count": 69,
   "id": "1bbc6b65-6be4-4960-b328-f2b8994af6c2",
   "metadata": {
    "tags": []
   },
   "outputs": [
    {
     "data": {
      "text/plain": [
       "(350, 8)"
      ]
     },
     "execution_count": 69,
     "metadata": {},
     "output_type": "execute_result"
    }
   ],
   "source": [
    "df3.shape"
   ]
  },
  {
   "cell_type": "code",
   "execution_count": 71,
   "id": "c323e202-fb32-4609-a665-3982dfd7525d",
   "metadata": {
    "tags": []
   },
   "outputs": [
    {
     "data": {
      "text/html": [
       "<div>\n",
       "<style scoped>\n",
       "    .dataframe tbody tr th:only-of-type {\n",
       "        vertical-align: middle;\n",
       "    }\n",
       "\n",
       "    .dataframe tbody tr th {\n",
       "        vertical-align: top;\n",
       "    }\n",
       "\n",
       "    .dataframe thead th {\n",
       "        text-align: right;\n",
       "    }\n",
       "</style>\n",
       "<table border=\"1\" class=\"dataframe\">\n",
       "  <thead>\n",
       "    <tr style=\"text-align: right;\">\n",
       "      <th></th>\n",
       "      <th>Customer_ID</th>\n",
       "      <th>ID</th>\n",
       "    </tr>\n",
       "  </thead>\n",
       "  <tbody>\n",
       "    <tr>\n",
       "      <th>count</th>\n",
       "      <td>0.0</td>\n",
       "      <td>350.000000</td>\n",
       "    </tr>\n",
       "    <tr>\n",
       "      <th>mean</th>\n",
       "      <td>NaN</td>\n",
       "      <td>15931.042857</td>\n",
       "    </tr>\n",
       "    <tr>\n",
       "      <th>std</th>\n",
       "      <td>NaN</td>\n",
       "      <td>3395.033493</td>\n",
       "    </tr>\n",
       "    <tr>\n",
       "      <th>min</th>\n",
       "      <td>NaN</td>\n",
       "      <td>10060.000000</td>\n",
       "    </tr>\n",
       "    <tr>\n",
       "      <th>25%</th>\n",
       "      <td>NaN</td>\n",
       "      <td>13067.500000</td>\n",
       "    </tr>\n",
       "    <tr>\n",
       "      <th>50%</th>\n",
       "      <td>NaN</td>\n",
       "      <td>15902.500000</td>\n",
       "    </tr>\n",
       "    <tr>\n",
       "      <th>75%</th>\n",
       "      <td>NaN</td>\n",
       "      <td>18906.250000</td>\n",
       "    </tr>\n",
       "    <tr>\n",
       "      <th>max</th>\n",
       "      <td>NaN</td>\n",
       "      <td>21925.000000</td>\n",
       "    </tr>\n",
       "  </tbody>\n",
       "</table>\n",
       "</div>"
      ],
      "text/plain": [
       "       Customer_ID            ID\n",
       "count          0.0    350.000000\n",
       "mean           NaN  15931.042857\n",
       "std            NaN   3395.033493\n",
       "min            NaN  10060.000000\n",
       "25%            NaN  13067.500000\n",
       "50%            NaN  15902.500000\n",
       "75%            NaN  18906.250000\n",
       "max            NaN  21925.000000"
      ]
     },
     "execution_count": 71,
     "metadata": {},
     "output_type": "execute_result"
    }
   ],
   "source": [
    "df3.describe()"
   ]
  },
  {
   "cell_type": "code",
   "execution_count": 74,
   "id": "38c88490-1fec-4638-9e37-a2e5ce461720",
   "metadata": {
    "tags": []
   },
   "outputs": [
    {
     "name": "stdout",
     "output_type": "stream",
     "text": [
      "<class 'pandas.core.frame.DataFrame'>\n",
      "RangeIndex: 350 entries, 0 to 349\n",
      "Data columns (total 8 columns):\n",
      " #   Column       Non-Null Count  Dtype  \n",
      "---  ------       --------------  -----  \n",
      " 0   Customer_ID  0 non-null      float64\n",
      " 1   ID           350 non-null    int64  \n",
      " 2   Name         350 non-null    object \n",
      " 3   Age          350 non-null    object \n",
      " 4   City         350 non-null    object \n",
      " 5   State        350 non-null    object \n",
      " 6   Region       350 non-null    object \n",
      " 7   Segment      350 non-null    object \n",
      "dtypes: float64(1), int64(1), object(6)\n",
      "memory usage: 22.0+ KB\n"
     ]
    }
   ],
   "source": [
    "df3.info()"
   ]
  },
  {
   "cell_type": "code",
   "execution_count": 75,
   "id": "7a781b64-938e-4b67-b2c6-4cf7aa69c816",
   "metadata": {
    "tags": []
   },
   "outputs": [],
   "source": [
    "# 필요한 패키지\n",
    "from scipy.stats import chi2_contingency\n",
    "import numpy as np"
   ]
  },
  {
   "cell_type": "code",
   "execution_count": 77,
   "id": "2b009d98-ea1b-4e2a-af60-49be7bd53cb0",
   "metadata": {
    "tags": []
   },
   "outputs": [
    {
     "data": {
      "text/html": [
       "<div>\n",
       "<style scoped>\n",
       "    .dataframe tbody tr th:only-of-type {\n",
       "        vertical-align: middle;\n",
       "    }\n",
       "\n",
       "    .dataframe tbody tr th {\n",
       "        vertical-align: top;\n",
       "    }\n",
       "\n",
       "    .dataframe thead th {\n",
       "        text-align: right;\n",
       "    }\n",
       "</style>\n",
       "<table border=\"1\" class=\"dataframe\">\n",
       "  <thead>\n",
       "    <tr style=\"text-align: right;\">\n",
       "      <th>Region</th>\n",
       "      <th>Central</th>\n",
       "      <th>East</th>\n",
       "      <th>South</th>\n",
       "      <th>West</th>\n",
       "    </tr>\n",
       "    <tr>\n",
       "      <th>Segment</th>\n",
       "      <th></th>\n",
       "      <th></th>\n",
       "      <th></th>\n",
       "      <th></th>\n",
       "    </tr>\n",
       "  </thead>\n",
       "  <tbody>\n",
       "    <tr>\n",
       "      <th>Consumer</th>\n",
       "      <td>41</td>\n",
       "      <td>53</td>\n",
       "      <td>27</td>\n",
       "      <td>65</td>\n",
       "    </tr>\n",
       "    <tr>\n",
       "      <th>Corporate</th>\n",
       "      <td>29</td>\n",
       "      <td>31</td>\n",
       "      <td>19</td>\n",
       "      <td>29</td>\n",
       "    </tr>\n",
       "    <tr>\n",
       "      <th>Home Office</th>\n",
       "      <td>18</td>\n",
       "      <td>22</td>\n",
       "      <td>5</td>\n",
       "      <td>11</td>\n",
       "    </tr>\n",
       "  </tbody>\n",
       "</table>\n",
       "</div>"
      ],
      "text/plain": [
       "Region       Central  East  South  West\n",
       "Segment                                \n",
       "Consumer          41    53     27    65\n",
       "Corporate         29    31     19    29\n",
       "Home Office       18    22      5    11"
      ]
     },
     "execution_count": 77,
     "metadata": {},
     "output_type": "execute_result"
    }
   ],
   "source": [
    "# 교차표 생성\n",
    "tb = pd.crosstab(df3['Segment'], df3['Region'])\n",
    "tb"
   ]
  },
  {
   "cell_type": "code",
   "execution_count": 79,
   "id": "a99f07d6-fe06-43a6-b5ff-824333f350ea",
   "metadata": {
    "tags": []
   },
   "outputs": [
    {
     "data": {
      "text/plain": [
       "(9.488312197551783,\n",
       " 0.1479205256846858,\n",
       " 6,\n",
       " array([[46.76571429, 56.33142857, 27.10285714, 55.8       ],\n",
       "        [27.15428571, 32.70857143, 15.73714286, 32.4       ],\n",
       "        [14.08      , 16.96      ,  8.16      , 16.8       ]]))"
      ]
     },
     "execution_count": 79,
     "metadata": {},
     "output_type": "execute_result"
    }
   ],
   "source": [
    "# 카이제곱 검정 수행\n",
    "# chi2_contingency의 결과는 카이제곱통계량, 유의확률, 자유도, 기대도수를 반환\n",
    "chi2, pval, dof, expected = chi2_contingency(tb)\n",
    "chi2, pval, dof, expected"
   ]
  },
  {
   "cell_type": "code",
   "execution_count": 85,
   "id": "fc45c997-8886-4313-82de-f6c3af76f618",
   "metadata": {
    "tags": []
   },
   "outputs": [
    {
     "data": {
      "text/plain": [
       "15.74"
      ]
     },
     "execution_count": 85,
     "metadata": {},
     "output_type": "execute_result"
    }
   ],
   "source": [
    "# (a) E_23 구하기 (Eij는 기대도수)(반올림하여 둘째짜리까지 계산)\n",
    "e23 = expected[1, 2]         # E_23은 두 번째 행의 세 번째 열 >> 파이썬에서는 [1, 2]로\n",
    "e23= round(e23, 2)\n",
    "e23"
   ]
  },
  {
   "cell_type": "code",
   "execution_count": 86,
   "id": "f71e1a7a-14d0-44db-8ffd-52da27652133",
   "metadata": {
    "tags": []
   },
   "outputs": [
    {
     "data": {
      "text/plain": [
       "9"
      ]
     },
     "execution_count": 86,
     "metadata": {},
     "output_type": "execute_result"
    }
   ],
   "source": [
    "# p-value (소수 셋째자리까지)\n",
    "chi2 = chi2.astype('int')      # 정수 변환\n",
    "chi2"
   ]
  },
  {
   "cell_type": "code",
   "execution_count": 87,
   "id": "3af2e1f3-f8c7-462a-9fc5-9fda94114340",
   "metadata": {
    "tags": []
   },
   "outputs": [
    {
     "data": {
      "text/plain": [
       "0.148"
      ]
     },
     "execution_count": 87,
     "metadata": {},
     "output_type": "execute_result"
    }
   ],
   "source": [
    "# p-vlaue\n",
    "pval = round(pval, 3)\n",
    "pval"
   ]
  },
  {
   "cell_type": "markdown",
   "id": "06e02d05-9efa-4db4-8af4-bf6e0a921df3",
   "metadata": {},
   "source": [
    "- (a) 15.74\n",
    "- (b) 9\n",
    "- (c) 0.148, 채택"
   ]
  },
  {
   "cell_type": "markdown",
   "id": "742272b6-3750-4e6b-a5ca-a89d10d5d01c",
   "metadata": {},
   "source": [
    "## 04."
   ]
  },
  {
   "cell_type": "code",
   "execution_count": 1,
   "id": "8d750c23-3f5a-4c06-8376-d572c97037d4",
   "metadata": {
    "tags": []
   },
   "outputs": [],
   "source": [
    "# 귀무가설: 주어진 데이터는 정규분포를 따른다\n",
    "# 대립가설: 주어진 데이터는 정규분포를 따르지 않는다"
   ]
  },
  {
   "cell_type": "code",
   "execution_count": 2,
   "id": "0e878c1d-7547-42a8-b358-d39e5f816068",
   "metadata": {
    "tags": []
   },
   "outputs": [],
   "source": [
    "import pandas as pd"
   ]
  },
  {
   "cell_type": "code",
   "execution_count": 11,
   "id": "8f19637d-6940-4a2b-97df-7dcc3f6558d4",
   "metadata": {
    "tags": []
   },
   "outputs": [
    {
     "data": {
      "text/html": [
       "<div>\n",
       "<style scoped>\n",
       "    .dataframe tbody tr th:only-of-type {\n",
       "        vertical-align: middle;\n",
       "    }\n",
       "\n",
       "    .dataframe tbody tr th {\n",
       "        vertical-align: top;\n",
       "    }\n",
       "\n",
       "    .dataframe thead th {\n",
       "        text-align: right;\n",
       "    }\n",
       "</style>\n",
       "<table border=\"1\" class=\"dataframe\">\n",
       "  <thead>\n",
       "    <tr style=\"text-align: right;\">\n",
       "      <th></th>\n",
       "      <th>Manufacturer</th>\n",
       "      <th>Model</th>\n",
       "      <th>Type</th>\n",
       "      <th>Min_Price</th>\n",
       "      <th>Price</th>\n",
       "      <th>Max_Price</th>\n",
       "      <th>MPG_city</th>\n",
       "      <th>MPG_highway</th>\n",
       "      <th>AirBags</th>\n",
       "      <th>DriveTrain</th>\n",
       "      <th>...</th>\n",
       "      <th>Length</th>\n",
       "      <th>Wheelbase</th>\n",
       "      <th>Width</th>\n",
       "      <th>Turn_circle</th>\n",
       "      <th>Rear_seat_room</th>\n",
       "      <th>Luggage_room</th>\n",
       "      <th>Weight</th>\n",
       "      <th>Origin</th>\n",
       "      <th>Unnamed: 26</th>\n",
       "      <th>Make</th>\n",
       "    </tr>\n",
       "  </thead>\n",
       "  <tbody>\n",
       "    <tr>\n",
       "      <th>0</th>\n",
       "      <td>Acura</td>\n",
       "      <td>Integra</td>\n",
       "      <td>Small</td>\n",
       "      <td>12.9</td>\n",
       "      <td>15.9</td>\n",
       "      <td>18.8</td>\n",
       "      <td>25</td>\n",
       "      <td>31</td>\n",
       "      <td>NaN</td>\n",
       "      <td>Front</td>\n",
       "      <td>...</td>\n",
       "      <td>177</td>\n",
       "      <td>102</td>\n",
       "      <td>68</td>\n",
       "      <td>37.0</td>\n",
       "      <td>26.5</td>\n",
       "      <td>11.0</td>\n",
       "      <td>2705</td>\n",
       "      <td>non-USA</td>\n",
       "      <td>0</td>\n",
       "      <td>Acura Integra</td>\n",
       "    </tr>\n",
       "    <tr>\n",
       "      <th>1</th>\n",
       "      <td>Acura</td>\n",
       "      <td>Legend</td>\n",
       "      <td>Midsize</td>\n",
       "      <td>29.2</td>\n",
       "      <td>33.9</td>\n",
       "      <td>38.7</td>\n",
       "      <td>18</td>\n",
       "      <td>25</td>\n",
       "      <td>Driver &amp; Passenger</td>\n",
       "      <td>Front</td>\n",
       "      <td>...</td>\n",
       "      <td>195</td>\n",
       "      <td>115</td>\n",
       "      <td>71</td>\n",
       "      <td>38.0</td>\n",
       "      <td>30.0</td>\n",
       "      <td>15.0</td>\n",
       "      <td>3560</td>\n",
       "      <td>non-USA</td>\n",
       "      <td>1</td>\n",
       "      <td>Acura Legend</td>\n",
       "    </tr>\n",
       "    <tr>\n",
       "      <th>2</th>\n",
       "      <td>Audi</td>\n",
       "      <td>90</td>\n",
       "      <td>Compact</td>\n",
       "      <td>25.9</td>\n",
       "      <td>29.1</td>\n",
       "      <td>32.3</td>\n",
       "      <td>20</td>\n",
       "      <td>26</td>\n",
       "      <td>Driver only</td>\n",
       "      <td>Front</td>\n",
       "      <td>...</td>\n",
       "      <td>180</td>\n",
       "      <td>102</td>\n",
       "      <td>67</td>\n",
       "      <td>37.0</td>\n",
       "      <td>28.0</td>\n",
       "      <td>14.0</td>\n",
       "      <td>3375</td>\n",
       "      <td>non-USA</td>\n",
       "      <td>2</td>\n",
       "      <td>Audi 90</td>\n",
       "    </tr>\n",
       "    <tr>\n",
       "      <th>3</th>\n",
       "      <td>Audi</td>\n",
       "      <td>100</td>\n",
       "      <td>Midsize</td>\n",
       "      <td>30.8</td>\n",
       "      <td>NaN</td>\n",
       "      <td>44.6</td>\n",
       "      <td>19</td>\n",
       "      <td>26</td>\n",
       "      <td>Driver &amp; Passenger</td>\n",
       "      <td>Front</td>\n",
       "      <td>...</td>\n",
       "      <td>193</td>\n",
       "      <td>106</td>\n",
       "      <td>70</td>\n",
       "      <td>NaN</td>\n",
       "      <td>31.0</td>\n",
       "      <td>17.0</td>\n",
       "      <td>3405</td>\n",
       "      <td>non-USA</td>\n",
       "      <td>3</td>\n",
       "      <td>Audi 100</td>\n",
       "    </tr>\n",
       "    <tr>\n",
       "      <th>4</th>\n",
       "      <td>BMW</td>\n",
       "      <td>535i</td>\n",
       "      <td>Midsize</td>\n",
       "      <td>23.7</td>\n",
       "      <td>NaN</td>\n",
       "      <td>36.2</td>\n",
       "      <td>22</td>\n",
       "      <td>30</td>\n",
       "      <td>Driver only</td>\n",
       "      <td>Rear</td>\n",
       "      <td>...</td>\n",
       "      <td>186</td>\n",
       "      <td>109</td>\n",
       "      <td>69</td>\n",
       "      <td>NaN</td>\n",
       "      <td>27.0</td>\n",
       "      <td>13.0</td>\n",
       "      <td>3640</td>\n",
       "      <td>non-USA</td>\n",
       "      <td>4</td>\n",
       "      <td>BMW 535i</td>\n",
       "    </tr>\n",
       "  </tbody>\n",
       "</table>\n",
       "<p>5 rows × 28 columns</p>\n",
       "</div>"
      ],
      "text/plain": [
       "  Manufacturer    Model     Type  Min_Price  Price  Max_Price  MPG_city  \\\n",
       "0        Acura  Integra    Small       12.9   15.9       18.8        25   \n",
       "1        Acura   Legend  Midsize       29.2   33.9       38.7        18   \n",
       "2         Audi       90  Compact       25.9   29.1       32.3        20   \n",
       "3         Audi      100  Midsize       30.8    NaN       44.6        19   \n",
       "4          BMW     535i  Midsize       23.7    NaN       36.2        22   \n",
       "\n",
       "   MPG_highway             AirBags DriveTrain  ... Length  Wheelbase  Width  \\\n",
       "0           31                 NaN      Front  ...    177        102     68   \n",
       "1           25  Driver & Passenger      Front  ...    195        115     71   \n",
       "2           26         Driver only      Front  ...    180        102     67   \n",
       "3           26  Driver & Passenger      Front  ...    193        106     70   \n",
       "4           30         Driver only       Rear  ...    186        109     69   \n",
       "\n",
       "   Turn_circle  Rear_seat_room Luggage_room  Weight   Origin  Unnamed: 26  \\\n",
       "0         37.0            26.5         11.0    2705  non-USA            0   \n",
       "1         38.0            30.0         15.0    3560  non-USA            1   \n",
       "2         37.0            28.0         14.0    3375  non-USA            2   \n",
       "3          NaN            31.0         17.0    3405  non-USA            3   \n",
       "4          NaN            27.0         13.0    3640  non-USA            4   \n",
       "\n",
       "            Make  \n",
       "0  Acura Integra  \n",
       "1   Acura Legend  \n",
       "2        Audi 90  \n",
       "3       Audi 100  \n",
       "4       BMW 535i  \n",
       "\n",
       "[5 rows x 28 columns]"
      ]
     },
     "execution_count": 11,
     "metadata": {},
     "output_type": "execute_result"
    }
   ],
   "source": [
    "df4 = pd.read_csv('../data/연습문제/Cars93.csv', encoding = 'cp949')\n",
    "df4.head()"
   ]
  },
  {
   "cell_type": "code",
   "execution_count": 5,
   "id": "4c59be0f-65cc-4219-93c2-6d0a7ee3e7b3",
   "metadata": {
    "tags": []
   },
   "outputs": [
    {
     "data": {
      "text/plain": [
       "(93, 28)"
      ]
     },
     "execution_count": 5,
     "metadata": {},
     "output_type": "execute_result"
    }
   ],
   "source": [
    "df4.shape"
   ]
  },
  {
   "cell_type": "code",
   "execution_count": 6,
   "id": "4919674b-ed0a-4fd2-8a21-671ad6adafda",
   "metadata": {
    "tags": []
   },
   "outputs": [
    {
     "data": {
      "text/html": [
       "<div>\n",
       "<style scoped>\n",
       "    .dataframe tbody tr th:only-of-type {\n",
       "        vertical-align: middle;\n",
       "    }\n",
       "\n",
       "    .dataframe tbody tr th {\n",
       "        vertical-align: top;\n",
       "    }\n",
       "\n",
       "    .dataframe thead th {\n",
       "        text-align: right;\n",
       "    }\n",
       "</style>\n",
       "<table border=\"1\" class=\"dataframe\">\n",
       "  <thead>\n",
       "    <tr style=\"text-align: right;\">\n",
       "      <th></th>\n",
       "      <th>Min_Price</th>\n",
       "      <th>Price</th>\n",
       "      <th>Max_Price</th>\n",
       "      <th>MPG_city</th>\n",
       "      <th>MPG_highway</th>\n",
       "      <th>EngineSize</th>\n",
       "      <th>Horsepower</th>\n",
       "      <th>RPM</th>\n",
       "      <th>Rev_per_mile</th>\n",
       "      <th>Fuel_tank_capacity</th>\n",
       "      <th>Passengers</th>\n",
       "      <th>Length</th>\n",
       "      <th>Wheelbase</th>\n",
       "      <th>Width</th>\n",
       "      <th>Turn_circle</th>\n",
       "      <th>Rear_seat_room</th>\n",
       "      <th>Luggage_room</th>\n",
       "      <th>Weight</th>\n",
       "      <th>Unnamed: 26</th>\n",
       "    </tr>\n",
       "  </thead>\n",
       "  <tbody>\n",
       "    <tr>\n",
       "      <th>count</th>\n",
       "      <td>93.000000</td>\n",
       "      <td>84.000000</td>\n",
       "      <td>93.000000</td>\n",
       "      <td>93.000000</td>\n",
       "      <td>93.000000</td>\n",
       "      <td>93.000000</td>\n",
       "      <td>93.000000</td>\n",
       "      <td>89.000000</td>\n",
       "      <td>93.000000</td>\n",
       "      <td>93.000000</td>\n",
       "      <td>93.000000</td>\n",
       "      <td>93.000000</td>\n",
       "      <td>93.000000</td>\n",
       "      <td>93.000000</td>\n",
       "      <td>80.00000</td>\n",
       "      <td>91.000000</td>\n",
       "      <td>82.000000</td>\n",
       "      <td>93.000000</td>\n",
       "      <td>93.000000</td>\n",
       "    </tr>\n",
       "    <tr>\n",
       "      <th>mean</th>\n",
       "      <td>17.125806</td>\n",
       "      <td>19.047619</td>\n",
       "      <td>21.898925</td>\n",
       "      <td>22.365591</td>\n",
       "      <td>29.086022</td>\n",
       "      <td>2.667742</td>\n",
       "      <td>143.827957</td>\n",
       "      <td>5277.528090</td>\n",
       "      <td>2341.408602</td>\n",
       "      <td>16.664516</td>\n",
       "      <td>5.086022</td>\n",
       "      <td>183.204301</td>\n",
       "      <td>103.989247</td>\n",
       "      <td>69.376344</td>\n",
       "      <td>39.10000</td>\n",
       "      <td>27.829670</td>\n",
       "      <td>13.890244</td>\n",
       "      <td>3081.505376</td>\n",
       "      <td>46.000000</td>\n",
       "    </tr>\n",
       "    <tr>\n",
       "      <th>std</th>\n",
       "      <td>8.746029</td>\n",
       "      <td>9.696608</td>\n",
       "      <td>11.030457</td>\n",
       "      <td>5.619812</td>\n",
       "      <td>5.331726</td>\n",
       "      <td>1.037363</td>\n",
       "      <td>52.374410</td>\n",
       "      <td>602.928989</td>\n",
       "      <td>598.459676</td>\n",
       "      <td>3.279370</td>\n",
       "      <td>1.038979</td>\n",
       "      <td>14.602382</td>\n",
       "      <td>7.389026</td>\n",
       "      <td>3.778986</td>\n",
       "      <td>3.29787</td>\n",
       "      <td>2.989072</td>\n",
       "      <td>2.997967</td>\n",
       "      <td>704.756104</td>\n",
       "      <td>26.990739</td>\n",
       "    </tr>\n",
       "    <tr>\n",
       "      <th>min</th>\n",
       "      <td>6.700000</td>\n",
       "      <td>7.400000</td>\n",
       "      <td>7.900000</td>\n",
       "      <td>15.000000</td>\n",
       "      <td>20.000000</td>\n",
       "      <td>1.000000</td>\n",
       "      <td>55.000000</td>\n",
       "      <td>3800.000000</td>\n",
       "      <td>825.000000</td>\n",
       "      <td>9.200000</td>\n",
       "      <td>2.000000</td>\n",
       "      <td>141.000000</td>\n",
       "      <td>85.000000</td>\n",
       "      <td>60.000000</td>\n",
       "      <td>32.00000</td>\n",
       "      <td>19.000000</td>\n",
       "      <td>6.000000</td>\n",
       "      <td>713.000000</td>\n",
       "      <td>0.000000</td>\n",
       "    </tr>\n",
       "    <tr>\n",
       "      <th>25%</th>\n",
       "      <td>10.800000</td>\n",
       "      <td>12.025000</td>\n",
       "      <td>14.700000</td>\n",
       "      <td>18.000000</td>\n",
       "      <td>26.000000</td>\n",
       "      <td>1.800000</td>\n",
       "      <td>103.000000</td>\n",
       "      <td>4800.000000</td>\n",
       "      <td>1980.000000</td>\n",
       "      <td>14.500000</td>\n",
       "      <td>4.000000</td>\n",
       "      <td>174.000000</td>\n",
       "      <td>98.000000</td>\n",
       "      <td>67.000000</td>\n",
       "      <td>37.00000</td>\n",
       "      <td>26.000000</td>\n",
       "      <td>12.000000</td>\n",
       "      <td>2620.000000</td>\n",
       "      <td>23.000000</td>\n",
       "    </tr>\n",
       "    <tr>\n",
       "      <th>50%</th>\n",
       "      <td>14.700000</td>\n",
       "      <td>16.550000</td>\n",
       "      <td>19.600000</td>\n",
       "      <td>21.000000</td>\n",
       "      <td>28.000000</td>\n",
       "      <td>2.400000</td>\n",
       "      <td>140.000000</td>\n",
       "      <td>5200.000000</td>\n",
       "      <td>2340.000000</td>\n",
       "      <td>16.400000</td>\n",
       "      <td>5.000000</td>\n",
       "      <td>183.000000</td>\n",
       "      <td>103.000000</td>\n",
       "      <td>69.000000</td>\n",
       "      <td>39.00000</td>\n",
       "      <td>27.500000</td>\n",
       "      <td>14.000000</td>\n",
       "      <td>3040.000000</td>\n",
       "      <td>46.000000</td>\n",
       "    </tr>\n",
       "    <tr>\n",
       "      <th>75%</th>\n",
       "      <td>20.300000</td>\n",
       "      <td>21.800000</td>\n",
       "      <td>25.300000</td>\n",
       "      <td>25.000000</td>\n",
       "      <td>31.000000</td>\n",
       "      <td>3.300000</td>\n",
       "      <td>170.000000</td>\n",
       "      <td>5750.000000</td>\n",
       "      <td>2595.000000</td>\n",
       "      <td>18.800000</td>\n",
       "      <td>6.000000</td>\n",
       "      <td>192.000000</td>\n",
       "      <td>110.000000</td>\n",
       "      <td>72.000000</td>\n",
       "      <td>42.00000</td>\n",
       "      <td>30.000000</td>\n",
       "      <td>15.000000</td>\n",
       "      <td>3560.000000</td>\n",
       "      <td>69.000000</td>\n",
       "    </tr>\n",
       "    <tr>\n",
       "      <th>max</th>\n",
       "      <td>45.400000</td>\n",
       "      <td>61.900000</td>\n",
       "      <td>80.000000</td>\n",
       "      <td>46.000000</td>\n",
       "      <td>50.000000</td>\n",
       "      <td>5.700000</td>\n",
       "      <td>300.000000</td>\n",
       "      <td>6500.000000</td>\n",
       "      <td>4305.000000</td>\n",
       "      <td>27.000000</td>\n",
       "      <td>8.000000</td>\n",
       "      <td>219.000000</td>\n",
       "      <td>124.000000</td>\n",
       "      <td>78.000000</td>\n",
       "      <td>45.00000</td>\n",
       "      <td>36.000000</td>\n",
       "      <td>22.000000</td>\n",
       "      <td>6022.000000</td>\n",
       "      <td>92.000000</td>\n",
       "    </tr>\n",
       "  </tbody>\n",
       "</table>\n",
       "</div>"
      ],
      "text/plain": [
       "       Min_Price      Price  Max_Price   MPG_city  MPG_highway  EngineSize  \\\n",
       "count  93.000000  84.000000  93.000000  93.000000    93.000000   93.000000   \n",
       "mean   17.125806  19.047619  21.898925  22.365591    29.086022    2.667742   \n",
       "std     8.746029   9.696608  11.030457   5.619812     5.331726    1.037363   \n",
       "min     6.700000   7.400000   7.900000  15.000000    20.000000    1.000000   \n",
       "25%    10.800000  12.025000  14.700000  18.000000    26.000000    1.800000   \n",
       "50%    14.700000  16.550000  19.600000  21.000000    28.000000    2.400000   \n",
       "75%    20.300000  21.800000  25.300000  25.000000    31.000000    3.300000   \n",
       "max    45.400000  61.900000  80.000000  46.000000    50.000000    5.700000   \n",
       "\n",
       "       Horsepower          RPM  Rev_per_mile  Fuel_tank_capacity  Passengers  \\\n",
       "count   93.000000    89.000000     93.000000           93.000000   93.000000   \n",
       "mean   143.827957  5277.528090   2341.408602           16.664516    5.086022   \n",
       "std     52.374410   602.928989    598.459676            3.279370    1.038979   \n",
       "min     55.000000  3800.000000    825.000000            9.200000    2.000000   \n",
       "25%    103.000000  4800.000000   1980.000000           14.500000    4.000000   \n",
       "50%    140.000000  5200.000000   2340.000000           16.400000    5.000000   \n",
       "75%    170.000000  5750.000000   2595.000000           18.800000    6.000000   \n",
       "max    300.000000  6500.000000   4305.000000           27.000000    8.000000   \n",
       "\n",
       "           Length   Wheelbase      Width  Turn_circle  Rear_seat_room  \\\n",
       "count   93.000000   93.000000  93.000000     80.00000       91.000000   \n",
       "mean   183.204301  103.989247  69.376344     39.10000       27.829670   \n",
       "std     14.602382    7.389026   3.778986      3.29787        2.989072   \n",
       "min    141.000000   85.000000  60.000000     32.00000       19.000000   \n",
       "25%    174.000000   98.000000  67.000000     37.00000       26.000000   \n",
       "50%    183.000000  103.000000  69.000000     39.00000       27.500000   \n",
       "75%    192.000000  110.000000  72.000000     42.00000       30.000000   \n",
       "max    219.000000  124.000000  78.000000     45.00000       36.000000   \n",
       "\n",
       "       Luggage_room       Weight  Unnamed: 26  \n",
       "count     82.000000    93.000000    93.000000  \n",
       "mean      13.890244  3081.505376    46.000000  \n",
       "std        2.997967   704.756104    26.990739  \n",
       "min        6.000000   713.000000     0.000000  \n",
       "25%       12.000000  2620.000000    23.000000  \n",
       "50%       14.000000  3040.000000    46.000000  \n",
       "75%       15.000000  3560.000000    69.000000  \n",
       "max       22.000000  6022.000000    92.000000  "
      ]
     },
     "execution_count": 6,
     "metadata": {},
     "output_type": "execute_result"
    }
   ],
   "source": [
    "df4.describe()"
   ]
  },
  {
   "cell_type": "code",
   "execution_count": 7,
   "id": "c4411a03-d514-4d90-907b-b0792bdd73ca",
   "metadata": {
    "tags": []
   },
   "outputs": [
    {
     "name": "stdout",
     "output_type": "stream",
     "text": [
      "<class 'pandas.core.frame.DataFrame'>\n",
      "RangeIndex: 93 entries, 0 to 92\n",
      "Data columns (total 28 columns):\n",
      " #   Column              Non-Null Count  Dtype  \n",
      "---  ------              --------------  -----  \n",
      " 0   Manufacturer        93 non-null     object \n",
      " 1   Model               93 non-null     object \n",
      " 2   Type                93 non-null     object \n",
      " 3   Min_Price           93 non-null     float64\n",
      " 4   Price               84 non-null     float64\n",
      " 5   Max_Price           93 non-null     float64\n",
      " 6   MPG_city            93 non-null     int64  \n",
      " 7   MPG_highway         93 non-null     int64  \n",
      " 8   AirBags             59 non-null     object \n",
      " 9   DriveTrain          93 non-null     object \n",
      " 10  Cylinders           93 non-null     object \n",
      " 11  EngineSize          93 non-null     float64\n",
      " 12  Horsepower          93 non-null     int64  \n",
      " 13  RPM                 89 non-null     float64\n",
      " 14  Rev_per_mile        93 non-null     int64  \n",
      " 15  Man_trans_avail     93 non-null     object \n",
      " 16  Fuel_tank_capacity  93 non-null     float64\n",
      " 17  Passengers          93 non-null     int64  \n",
      " 18  Length              93 non-null     int64  \n",
      " 19  Wheelbase           93 non-null     int64  \n",
      " 20  Width               93 non-null     int64  \n",
      " 21  Turn_circle         80 non-null     float64\n",
      " 22  Rear_seat_room      91 non-null     float64\n",
      " 23  Luggage_room        82 non-null     float64\n",
      " 24  Weight              93 non-null     int64  \n",
      " 25  Origin              93 non-null     object \n",
      " 26  Unnamed: 26         93 non-null     int64  \n",
      " 27  Make                93 non-null     object \n",
      "dtypes: float64(9), int64(10), object(9)\n",
      "memory usage: 20.5+ KB\n"
     ]
    }
   ],
   "source": [
    "df4.info()"
   ]
  },
  {
   "cell_type": "code",
   "execution_count": 8,
   "id": "31c6fe1d-5233-4b33-9468-bcf42bd5ebc7",
   "metadata": {
    "tags": []
   },
   "outputs": [],
   "source": [
    "from scipy.stats import shapiro"
   ]
  },
  {
   "cell_type": "code",
   "execution_count": 10,
   "id": "82724a3c-3712-42f2-b875-5ebb07435899",
   "metadata": {
    "tags": []
   },
   "outputs": [
    {
     "data": {
      "text/plain": [
       "0     15.9\n",
       "1     33.9\n",
       "2     29.1\n",
       "5     15.7\n",
       "6     20.8\n",
       "      ... \n",
       "88    19.7\n",
       "89    20.0\n",
       "90    23.3\n",
       "91    22.7\n",
       "92    26.7\n",
       "Name: Price, Length: 84, dtype: float64"
      ]
     },
     "execution_count": 10,
     "metadata": {},
     "output_type": "execute_result"
    }
   ],
   "source": [
    "# 필요한 컬럼(price)만 따로 저장하기\n",
    "price = df4['Price'].copy().dropna()\n",
    "price"
   ]
  },
  {
   "cell_type": "code",
   "execution_count": 12,
   "id": "aed1d5bd-2459-4771-94d1-447d15ac0261",
   "metadata": {
    "tags": []
   },
   "outputs": [
    {
     "data": {
      "text/plain": [
       "19.05"
      ]
     },
     "execution_count": 12,
     "metadata": {},
     "output_type": "execute_result"
    }
   ],
   "source": [
    "# (a) 가격(Price)의 표본평균 구하기 (반올림하여 소수 둘째 자리까지)\n",
    "# 표본평균\n",
    "avg = round(price.mean(), 2)\n",
    "avg"
   ]
  },
  {
   "cell_type": "code",
   "execution_count": 18,
   "id": "1c3f0ed5-e4a0-4159-81c6-de37f9464265",
   "metadata": {
    "tags": []
   },
   "outputs": [
    {
     "data": {
      "text/plain": [
       "0.85"
      ]
     },
     "execution_count": 18,
     "metadata": {},
     "output_type": "execute_result"
    }
   ],
   "source": [
    "# (b) 검정통계량 구하기 (반올림하여 소수 둘째 자리까지)\n",
    "# 샤피로 윌크 검정 수행\n",
    "stat, pval = shapiro(price)\n",
    "round(stat, 2)"
   ]
  },
  {
   "cell_type": "code",
   "execution_count": 19,
   "id": "1e99f54b-8ef8-42c1-9835-2fd58b46b8b5",
   "metadata": {
    "tags": []
   },
   "outputs": [
    {
     "data": {
      "text/plain": [
       "0.0"
      ]
     },
     "execution_count": 19,
     "metadata": {},
     "output_type": "execute_result"
    }
   ],
   "source": [
    "# p-value 값을 구하고 유의수준 0.1 하에서 채택/기각 중 하나 출력하기 (반올림하여 소수 넷째짜리까지 계산하되 0.0001보다 작을 경우 정수 0 출력)\n",
    "round(pval, 4)"
   ]
  },
  {
   "cell_type": "code",
   "execution_count": 20,
   "id": "f562d71f-1ed5-4c20-91bb-2fe9fab9068f",
   "metadata": {
    "tags": []
   },
   "outputs": [
    {
     "name": "stdout",
     "output_type": "stream",
     "text": [
      "기각\n"
     ]
    }
   ],
   "source": [
    "print('기각')"
   ]
  },
  {
   "cell_type": "markdown",
   "id": "51d9105f-bf03-477d-9737-587482208942",
   "metadata": {},
   "source": [
    "- (a) 19.05\n",
    "- (b) 0.85\n",
    "- (c) 0, 기각"
   ]
  },
  {
   "cell_type": "markdown",
   "id": "95cc1f54-6742-478f-a35a-5c8ddad48fc3",
   "metadata": {},
   "source": [
    "## 05."
   ]
  },
  {
   "cell_type": "code",
   "execution_count": 21,
   "id": "c11e2f49-205f-4e41-9fe7-240d45fcdf32",
   "metadata": {
    "tags": []
   },
   "outputs": [],
   "source": [
    "# ρ: 두 변수의 모상관계수\n",
    "# 귀무가설: ρ = 0\n",
    "# 대립가설: ρ != 0"
   ]
  },
  {
   "cell_type": "code",
   "execution_count": 26,
   "id": "4c8229a9-8f4a-4c3b-b392-a094cdc2841c",
   "metadata": {
    "tags": []
   },
   "outputs": [],
   "source": [
    "import pandas as pd\n",
    "import numpy as np"
   ]
  },
  {
   "cell_type": "code",
   "execution_count": 23,
   "id": "0ac38da0-a7ed-458f-a0dd-dbc03af80953",
   "metadata": {
    "tags": []
   },
   "outputs": [
    {
     "data": {
      "text/html": [
       "<div>\n",
       "<style scoped>\n",
       "    .dataframe tbody tr th:only-of-type {\n",
       "        vertical-align: middle;\n",
       "    }\n",
       "\n",
       "    .dataframe tbody tr th {\n",
       "        vertical-align: top;\n",
       "    }\n",
       "\n",
       "    .dataframe thead th {\n",
       "        text-align: right;\n",
       "    }\n",
       "</style>\n",
       "<table border=\"1\" class=\"dataframe\">\n",
       "  <thead>\n",
       "    <tr style=\"text-align: right;\">\n",
       "      <th></th>\n",
       "      <th>Manufacturer</th>\n",
       "      <th>Model</th>\n",
       "      <th>Type</th>\n",
       "      <th>Min_Price</th>\n",
       "      <th>Price</th>\n",
       "      <th>Max_Price</th>\n",
       "      <th>MPG_city</th>\n",
       "      <th>MPG_highway</th>\n",
       "      <th>AirBags</th>\n",
       "      <th>DriveTrain</th>\n",
       "      <th>...</th>\n",
       "      <th>Length</th>\n",
       "      <th>Wheelbase</th>\n",
       "      <th>Width</th>\n",
       "      <th>Turn_circle</th>\n",
       "      <th>Rear_seat_room</th>\n",
       "      <th>Luggage_room</th>\n",
       "      <th>Weight</th>\n",
       "      <th>Origin</th>\n",
       "      <th>Unnamed: 26</th>\n",
       "      <th>Make</th>\n",
       "    </tr>\n",
       "  </thead>\n",
       "  <tbody>\n",
       "    <tr>\n",
       "      <th>0</th>\n",
       "      <td>Acura</td>\n",
       "      <td>Integra</td>\n",
       "      <td>Small</td>\n",
       "      <td>12.9</td>\n",
       "      <td>15.9</td>\n",
       "      <td>18.8</td>\n",
       "      <td>25</td>\n",
       "      <td>31</td>\n",
       "      <td>NaN</td>\n",
       "      <td>Front</td>\n",
       "      <td>...</td>\n",
       "      <td>177</td>\n",
       "      <td>102</td>\n",
       "      <td>68</td>\n",
       "      <td>37.0</td>\n",
       "      <td>26.5</td>\n",
       "      <td>11.0</td>\n",
       "      <td>2705</td>\n",
       "      <td>non-USA</td>\n",
       "      <td>0</td>\n",
       "      <td>Acura Integra</td>\n",
       "    </tr>\n",
       "    <tr>\n",
       "      <th>1</th>\n",
       "      <td>Acura</td>\n",
       "      <td>Legend</td>\n",
       "      <td>Midsize</td>\n",
       "      <td>29.2</td>\n",
       "      <td>33.9</td>\n",
       "      <td>38.7</td>\n",
       "      <td>18</td>\n",
       "      <td>25</td>\n",
       "      <td>Driver &amp; Passenger</td>\n",
       "      <td>Front</td>\n",
       "      <td>...</td>\n",
       "      <td>195</td>\n",
       "      <td>115</td>\n",
       "      <td>71</td>\n",
       "      <td>38.0</td>\n",
       "      <td>30.0</td>\n",
       "      <td>15.0</td>\n",
       "      <td>3560</td>\n",
       "      <td>non-USA</td>\n",
       "      <td>1</td>\n",
       "      <td>Acura Legend</td>\n",
       "    </tr>\n",
       "    <tr>\n",
       "      <th>2</th>\n",
       "      <td>Audi</td>\n",
       "      <td>90</td>\n",
       "      <td>Compact</td>\n",
       "      <td>25.9</td>\n",
       "      <td>29.1</td>\n",
       "      <td>32.3</td>\n",
       "      <td>20</td>\n",
       "      <td>26</td>\n",
       "      <td>Driver only</td>\n",
       "      <td>Front</td>\n",
       "      <td>...</td>\n",
       "      <td>180</td>\n",
       "      <td>102</td>\n",
       "      <td>67</td>\n",
       "      <td>37.0</td>\n",
       "      <td>28.0</td>\n",
       "      <td>14.0</td>\n",
       "      <td>3375</td>\n",
       "      <td>non-USA</td>\n",
       "      <td>2</td>\n",
       "      <td>Audi 90</td>\n",
       "    </tr>\n",
       "    <tr>\n",
       "      <th>3</th>\n",
       "      <td>Audi</td>\n",
       "      <td>100</td>\n",
       "      <td>Midsize</td>\n",
       "      <td>30.8</td>\n",
       "      <td>NaN</td>\n",
       "      <td>44.6</td>\n",
       "      <td>19</td>\n",
       "      <td>26</td>\n",
       "      <td>Driver &amp; Passenger</td>\n",
       "      <td>Front</td>\n",
       "      <td>...</td>\n",
       "      <td>193</td>\n",
       "      <td>106</td>\n",
       "      <td>70</td>\n",
       "      <td>NaN</td>\n",
       "      <td>31.0</td>\n",
       "      <td>17.0</td>\n",
       "      <td>3405</td>\n",
       "      <td>non-USA</td>\n",
       "      <td>3</td>\n",
       "      <td>Audi 100</td>\n",
       "    </tr>\n",
       "    <tr>\n",
       "      <th>4</th>\n",
       "      <td>BMW</td>\n",
       "      <td>535i</td>\n",
       "      <td>Midsize</td>\n",
       "      <td>23.7</td>\n",
       "      <td>NaN</td>\n",
       "      <td>36.2</td>\n",
       "      <td>22</td>\n",
       "      <td>30</td>\n",
       "      <td>Driver only</td>\n",
       "      <td>Rear</td>\n",
       "      <td>...</td>\n",
       "      <td>186</td>\n",
       "      <td>109</td>\n",
       "      <td>69</td>\n",
       "      <td>NaN</td>\n",
       "      <td>27.0</td>\n",
       "      <td>13.0</td>\n",
       "      <td>3640</td>\n",
       "      <td>non-USA</td>\n",
       "      <td>4</td>\n",
       "      <td>BMW 535i</td>\n",
       "    </tr>\n",
       "  </tbody>\n",
       "</table>\n",
       "<p>5 rows × 28 columns</p>\n",
       "</div>"
      ],
      "text/plain": [
       "  Manufacturer    Model     Type  Min_Price  Price  Max_Price  MPG_city  \\\n",
       "0        Acura  Integra    Small       12.9   15.9       18.8        25   \n",
       "1        Acura   Legend  Midsize       29.2   33.9       38.7        18   \n",
       "2         Audi       90  Compact       25.9   29.1       32.3        20   \n",
       "3         Audi      100  Midsize       30.8    NaN       44.6        19   \n",
       "4          BMW     535i  Midsize       23.7    NaN       36.2        22   \n",
       "\n",
       "   MPG_highway             AirBags DriveTrain  ... Length  Wheelbase  Width  \\\n",
       "0           31                 NaN      Front  ...    177        102     68   \n",
       "1           25  Driver & Passenger      Front  ...    195        115     71   \n",
       "2           26         Driver only      Front  ...    180        102     67   \n",
       "3           26  Driver & Passenger      Front  ...    193        106     70   \n",
       "4           30         Driver only       Rear  ...    186        109     69   \n",
       "\n",
       "   Turn_circle  Rear_seat_room Luggage_room  Weight   Origin  Unnamed: 26  \\\n",
       "0         37.0            26.5         11.0    2705  non-USA            0   \n",
       "1         38.0            30.0         15.0    3560  non-USA            1   \n",
       "2         37.0            28.0         14.0    3375  non-USA            2   \n",
       "3          NaN            31.0         17.0    3405  non-USA            3   \n",
       "4          NaN            27.0         13.0    3640  non-USA            4   \n",
       "\n",
       "            Make  \n",
       "0  Acura Integra  \n",
       "1   Acura Legend  \n",
       "2        Audi 90  \n",
       "3       Audi 100  \n",
       "4       BMW 535i  \n",
       "\n",
       "[5 rows x 28 columns]"
      ]
     },
     "execution_count": 23,
     "metadata": {},
     "output_type": "execute_result"
    }
   ],
   "source": [
    "df5 = pd.read_csv('../data/연습문제/Cars93.csv', encoding = 'cp949')\n",
    "df5.head()"
   ]
  },
  {
   "cell_type": "code",
   "execution_count": 24,
   "id": "2d9ff667-10b1-4f6f-9a9e-0d2edb95c1b1",
   "metadata": {
    "tags": []
   },
   "outputs": [
    {
     "data": {
      "text/plain": [
       "(93, 28)"
      ]
     },
     "execution_count": 24,
     "metadata": {},
     "output_type": "execute_result"
    }
   ],
   "source": [
    "df5.shape"
   ]
  },
  {
   "cell_type": "code",
   "execution_count": 25,
   "id": "d90ac11e-f148-4921-b2d5-a3ad50ff9e2b",
   "metadata": {
    "tags": []
   },
   "outputs": [
    {
     "name": "stdout",
     "output_type": "stream",
     "text": [
      "<class 'pandas.core.frame.DataFrame'>\n",
      "RangeIndex: 93 entries, 0 to 92\n",
      "Data columns (total 28 columns):\n",
      " #   Column              Non-Null Count  Dtype  \n",
      "---  ------              --------------  -----  \n",
      " 0   Manufacturer        93 non-null     object \n",
      " 1   Model               93 non-null     object \n",
      " 2   Type                93 non-null     object \n",
      " 3   Min_Price           93 non-null     float64\n",
      " 4   Price               84 non-null     float64\n",
      " 5   Max_Price           93 non-null     float64\n",
      " 6   MPG_city            93 non-null     int64  \n",
      " 7   MPG_highway         93 non-null     int64  \n",
      " 8   AirBags             59 non-null     object \n",
      " 9   DriveTrain          93 non-null     object \n",
      " 10  Cylinders           93 non-null     object \n",
      " 11  EngineSize          93 non-null     float64\n",
      " 12  Horsepower          93 non-null     int64  \n",
      " 13  RPM                 89 non-null     float64\n",
      " 14  Rev_per_mile        93 non-null     int64  \n",
      " 15  Man_trans_avail     93 non-null     object \n",
      " 16  Fuel_tank_capacity  93 non-null     float64\n",
      " 17  Passengers          93 non-null     int64  \n",
      " 18  Length              93 non-null     int64  \n",
      " 19  Wheelbase           93 non-null     int64  \n",
      " 20  Width               93 non-null     int64  \n",
      " 21  Turn_circle         80 non-null     float64\n",
      " 22  Rear_seat_room      91 non-null     float64\n",
      " 23  Luggage_room        82 non-null     float64\n",
      " 24  Weight              93 non-null     int64  \n",
      " 25  Origin              93 non-null     object \n",
      " 26  Unnamed: 26         93 non-null     int64  \n",
      " 27  Make                93 non-null     object \n",
      "dtypes: float64(9), int64(10), object(9)\n",
      "memory usage: 20.5+ KB\n"
     ]
    }
   ],
   "source": [
    "df5.info()"
   ]
  },
  {
   "cell_type": "code",
   "execution_count": 37,
   "id": "be6d62bb-8f3d-40d0-9c90-e6b383c05e8a",
   "metadata": {
    "tags": []
   },
   "outputs": [],
   "source": [
    "# 상관분석에 필요한 칼럼 저장\n",
    "horsepower = df5['Horsepower']\n",
    "rpm = df5['Rev_per_mile']"
   ]
  },
  {
   "cell_type": "code",
   "execution_count": 38,
   "id": "4644d671-3c16-436c-be6b-bf6bcfa8c708",
   "metadata": {
    "tags": []
   },
   "outputs": [],
   "source": [
    "from scipy.stats import pearsonr"
   ]
  },
  {
   "cell_type": "code",
   "execution_count": 39,
   "id": "523fd2d2-64b3-4b61-81cb-d38b5aaddcdb",
   "metadata": {
    "tags": []
   },
   "outputs": [
    {
     "data": {
      "text/plain": [
       "(-0.5024048530387446, 2.877085007188926e-07)"
      ]
     },
     "execution_count": 39,
     "metadata": {},
     "output_type": "execute_result"
    }
   ],
   "source": [
    "# 상관계수 검정 수행\n",
    "rho, pval = pearsonr(horsepower, rpm)\n",
    "rho, pval"
   ]
  },
  {
   "cell_type": "code",
   "execution_count": 40,
   "id": "8aa25cce-81dc-404d-b0c7-21e43bf0f442",
   "metadata": {
    "tags": []
   },
   "outputs": [
    {
     "data": {
      "text/plain": [
       "-0.502"
      ]
     },
     "execution_count": 40,
     "metadata": {},
     "output_type": "execute_result"
    }
   ],
   "source": [
    "# (a) 표본상관계수\n",
    "round(rho, 3)"
   ]
  },
  {
   "cell_type": "code",
   "execution_count": 41,
   "id": "e21b8666-b39c-4489-bde0-df006332878e",
   "metadata": {
    "tags": []
   },
   "outputs": [
    {
     "data": {
      "text/plain": [
       "-5.54"
      ]
     },
     "execution_count": 41,
     "metadata": {},
     "output_type": "execute_result"
    }
   ],
   "source": [
    "# (b) 검정통계량\n",
    "stat = rho/np.sqrt( (1-rho**2) / (len(horsepower) - 2) )\n",
    "round(stat, 2)"
   ]
  },
  {
   "cell_type": "code",
   "execution_count": 43,
   "id": "df452a68-2388-4d5c-a8e9-a8560b112f20",
   "metadata": {
    "tags": []
   },
   "outputs": [
    {
     "data": {
      "text/plain": [
       "0"
      ]
     },
     "execution_count": 43,
     "metadata": {},
     "output_type": "execute_result"
    }
   ],
   "source": [
    "# p-value를 구하고 (소수 넷째 자리까지 구하고, 0.0001보다 작을 경우 정수 0을 출력), 유의수준 0.05 하에서 가설검정 결과를 채택/기각 중 하나 선택\n",
    "pval = int(pval)\n",
    "pval"
   ]
  },
  {
   "cell_type": "code",
   "execution_count": 44,
   "id": "d0a9c934-2e49-4fbd-9ef7-4cea916bae5e",
   "metadata": {
    "tags": []
   },
   "outputs": [
    {
     "name": "stdout",
     "output_type": "stream",
     "text": [
      "기각\n"
     ]
    }
   ],
   "source": [
    "print('기각')"
   ]
  },
  {
   "cell_type": "markdown",
   "id": "3beb957d-934e-4b96-b980-3f24d95dc9d4",
   "metadata": {},
   "source": [
    "- (a) -0.502\n",
    "- (b) -5.54\n",
    "- (c) 0, 기각"
   ]
  },
  {
   "cell_type": "markdown",
   "id": "2b14f7fd-c902-4622-8046-7a2b6c60d0d7",
   "metadata": {},
   "source": [
    "## 06."
   ]
  },
  {
   "cell_type": "code",
   "execution_count": 45,
   "id": "5874949b-5fc9-4916-8f43-5ebe530976b1",
   "metadata": {
    "tags": []
   },
   "outputs": [],
   "source": [
    "import pandas as pd"
   ]
  },
  {
   "cell_type": "code",
   "execution_count": 46,
   "id": "fa86bd99-7ac2-4572-b085-411a921496de",
   "metadata": {
    "tags": []
   },
   "outputs": [
    {
     "data": {
      "text/html": [
       "<div>\n",
       "<style scoped>\n",
       "    .dataframe tbody tr th:only-of-type {\n",
       "        vertical-align: middle;\n",
       "    }\n",
       "\n",
       "    .dataframe tbody tr th {\n",
       "        vertical-align: top;\n",
       "    }\n",
       "\n",
       "    .dataframe thead th {\n",
       "        text-align: right;\n",
       "    }\n",
       "</style>\n",
       "<table border=\"1\" class=\"dataframe\">\n",
       "  <thead>\n",
       "    <tr style=\"text-align: right;\">\n",
       "      <th></th>\n",
       "      <th>Murder</th>\n",
       "      <th>Assault</th>\n",
       "      <th>UrbanPop</th>\n",
       "      <th>Rape</th>\n",
       "    </tr>\n",
       "  </thead>\n",
       "  <tbody>\n",
       "    <tr>\n",
       "      <th>0</th>\n",
       "      <td>13.2</td>\n",
       "      <td>236</td>\n",
       "      <td>58</td>\n",
       "      <td>21.2</td>\n",
       "    </tr>\n",
       "    <tr>\n",
       "      <th>1</th>\n",
       "      <td>10.0</td>\n",
       "      <td>263</td>\n",
       "      <td>48</td>\n",
       "      <td>44.5</td>\n",
       "    </tr>\n",
       "    <tr>\n",
       "      <th>2</th>\n",
       "      <td>8.1</td>\n",
       "      <td>294</td>\n",
       "      <td>80</td>\n",
       "      <td>31.0</td>\n",
       "    </tr>\n",
       "    <tr>\n",
       "      <th>3</th>\n",
       "      <td>8.8</td>\n",
       "      <td>190</td>\n",
       "      <td>50</td>\n",
       "      <td>19.5</td>\n",
       "    </tr>\n",
       "    <tr>\n",
       "      <th>4</th>\n",
       "      <td>9.0</td>\n",
       "      <td>276</td>\n",
       "      <td>91</td>\n",
       "      <td>40.6</td>\n",
       "    </tr>\n",
       "  </tbody>\n",
       "</table>\n",
       "</div>"
      ],
      "text/plain": [
       "   Murder  Assault  UrbanPop  Rape\n",
       "0    13.2      236        58  21.2\n",
       "1    10.0      263        48  44.5\n",
       "2     8.1      294        80  31.0\n",
       "3     8.8      190        50  19.5\n",
       "4     9.0      276        91  40.6"
      ]
     },
     "execution_count": 46,
     "metadata": {},
     "output_type": "execute_result"
    }
   ],
   "source": [
    "df6 = pd.read_csv('../data/연습문제/USArrests.csv', encoding = 'cp949')\n",
    "df6.head()"
   ]
  },
  {
   "cell_type": "code",
   "execution_count": 47,
   "id": "3d50833d-4f3d-4e24-8079-d6a4a8a753b8",
   "metadata": {
    "tags": []
   },
   "outputs": [
    {
     "data": {
      "text/plain": [
       "(50, 4)"
      ]
     },
     "execution_count": 47,
     "metadata": {},
     "output_type": "execute_result"
    }
   ],
   "source": [
    "df6.shape"
   ]
  },
  {
   "cell_type": "code",
   "execution_count": 48,
   "id": "95ef57ed-1c17-4150-be5f-2f3786f63f9d",
   "metadata": {
    "tags": []
   },
   "outputs": [
    {
     "name": "stdout",
     "output_type": "stream",
     "text": [
      "<class 'pandas.core.frame.DataFrame'>\n",
      "RangeIndex: 50 entries, 0 to 49\n",
      "Data columns (total 4 columns):\n",
      " #   Column    Non-Null Count  Dtype  \n",
      "---  ------    --------------  -----  \n",
      " 0   Murder    50 non-null     float64\n",
      " 1   Assault   50 non-null     int64  \n",
      " 2   UrbanPop  50 non-null     int64  \n",
      " 3   Rape      50 non-null     float64\n",
      "dtypes: float64(2), int64(2)\n",
      "memory usage: 1.7 KB\n"
     ]
    }
   ],
   "source": [
    "df6.info()"
   ]
  },
  {
   "cell_type": "code",
   "execution_count": 50,
   "id": "1db56849-0dbb-43ea-a3b2-89f377cf341c",
   "metadata": {
    "tags": []
   },
   "outputs": [],
   "source": [
    "# (a) 첫번째 주성분에서 폭력범죄(Assalt)가 기여하는 가중치(반올림하여 소수 셋째자리까지 계산)\n",
    "from sklearn.decomposition import PCA"
   ]
  },
  {
   "cell_type": "code",
   "execution_count": 52,
   "id": "d69658c4-2da4-47fa-92ec-1885200a4176",
   "metadata": {
    "tags": []
   },
   "outputs": [
    {
     "data": {
      "text/plain": [
       "array([[ 6.48021637e+01,  1.14480074e+01, -2.49493284e+00,\n",
       "         2.40790093e+00],\n",
       "       [ 9.28274502e+01,  1.79829427e+01,  2.01265749e+01,\n",
       "        -4.09404703e+00],\n",
       "       [ 1.24068216e+02, -8.83040304e+00, -1.68744836e+00,\n",
       "        -4.35368520e+00],\n",
       "       [ 1.83400354e+01,  1.67039114e+01,  2.10189364e-01,\n",
       "        -5.20993604e-01],\n",
       "       [ 1.07422953e+02, -2.25200698e+01,  6.74587299e+00,\n",
       "        -2.81182590e+00],\n",
       "       [ 3.49759860e+01, -1.37195840e+01,  1.22793628e+01,\n",
       "        -1.72146370e+00],\n",
       "       [-6.08872819e+01, -1.29325302e+01, -8.42065719e+00,\n",
       "        -6.99902287e-01],\n",
       "       [ 6.67310254e+01, -1.35379780e+00, -1.12809573e+01,\n",
       "        -3.72798119e+00],\n",
       "       [ 1.65244370e+02, -6.27469007e+00, -2.99793315e+00,\n",
       "         1.24768071e+00],\n",
       "       [ 4.05351766e+01,  7.29023959e+00,  3.60952946e+00,\n",
       "         7.34367284e+00],\n",
       "       [-1.23536106e+02, -2.42912079e+01,  3.72444284e+00,\n",
       "         3.47284940e+00],\n",
       "       [-5.17970023e+01,  9.46919099e+00, -1.52006356e+00,\n",
       "        -3.34782833e+00],\n",
       "       [ 7.89920973e+01, -1.28970605e+01, -5.88326477e+00,\n",
       "         3.67640738e-01],\n",
       "       [-5.75509607e+01, -2.84626471e+00,  3.73816049e+00,\n",
       "         1.64943016e+00],\n",
       "       [-1.15586790e+02,  3.34213050e+00, -6.54029354e-01,\n",
       "        -8.69495984e-01],\n",
       "       [-5.57896941e+01, -3.15723392e+00,  3.84364163e-01,\n",
       "         6.52791690e-01],\n",
       "       [-6.23831806e+01,  1.06732715e+01,  2.23708903e+00,\n",
       "         3.87621641e+00],\n",
       "       [ 7.82776313e+01,  4.29491750e+00, -3.82786965e+00,\n",
       "         4.48355900e+00],\n",
       "       [-8.92610443e+01,  1.14878272e+01, -4.69240562e+00,\n",
       "        -2.11619948e+00],\n",
       "       [ 1.29330136e+02,  5.00703148e+00, -2.34717282e+00,\n",
       "        -1.92832425e+00],\n",
       "       [-2.12662826e+01, -1.94501790e+01, -7.50714835e+00,\n",
       "        -1.03481895e+00],\n",
       "       [ 8.54515267e+01, -5.90455670e+00,  6.46434210e+00,\n",
       "         4.99047890e-01],\n",
       "       [-9.89548155e+01, -5.20960058e+00,  6.57375986e-03,\n",
       "        -7.31895664e-01],\n",
       "       [ 8.68563577e+01,  2.74284196e+01, -5.00343624e+00,\n",
       "         3.87975769e+00],\n",
       "       [ 7.98628867e+00, -5.27564140e+00,  5.50057972e+00,\n",
       "         6.79405505e-01],\n",
       "       [-6.24836353e+01,  9.51050205e+00,  1.83835536e+00,\n",
       "         2.45942647e-01],\n",
       "       [-6.90965444e+01,  2.11195917e-01,  4.68020859e-01,\n",
       "        -6.56566427e-01],\n",
       "       [ 8.36135784e+01, -1.51021839e+01,  1.58886948e+01,\n",
       "         3.34196244e-01],\n",
       "       [-1.14777355e+02,  4.73455836e+00, -2.28238693e+00,\n",
       "        -9.35910563e-01],\n",
       "       [-1.08157251e+01, -2.31373389e+01, -6.31015739e+00,\n",
       "         1.61242729e+00],\n",
       "       [ 1.14868163e+02,  3.36453098e-01,  2.26126996e+00,\n",
       "        -1.38124776e+00],\n",
       "       [ 8.42942305e+01, -1.59239655e+01, -4.72125960e+00,\n",
       "         8.92019350e-01],\n",
       "       [ 1.64325514e+02,  3.10966153e+01, -1.16961635e+01,\n",
       "        -2.11119273e+00],\n",
       "       [-1.27495597e+02,  1.61350394e+01, -1.31182982e+00,\n",
       "        -2.30096392e+00],\n",
       "       [-5.00868217e+01, -1.22793244e+01,  1.65733077e+00,\n",
       "         2.02911567e+00],\n",
       "       [-1.96937229e+01, -3.37013102e+00, -4.53143295e-01,\n",
       "        -1.80345739e-01],\n",
       "       [-1.11502396e+01, -3.86606815e+00,  8.12998050e+00,\n",
       "        -2.91401089e+00],\n",
       "       [-6.46891419e+01, -8.91154655e+00, -3.20646858e+00,\n",
       "         1.87493531e+00],\n",
       "       [ 3.06397257e+00, -1.83739704e+01, -1.74700197e+01,\n",
       "        -2.30825968e+00],\n",
       "       [ 1.07281069e+02,  2.35361159e+01, -2.03279501e+00,\n",
       "         1.25174626e+00],\n",
       "       [-8.61067201e+01,  1.65978586e+01,  1.31437998e+00,\n",
       "        -1.25228739e+00],\n",
       "       [ 1.75062643e+01,  6.50657560e+00,  6.10012753e+00,\n",
       "         3.92285575e+00],\n",
       "       [ 3.12911217e+01, -1.29849566e+01, -3.93409218e-01,\n",
       "         4.24200405e+00],\n",
       "       [-4.99133974e+01, -1.76484577e+01,  1.78816852e+00,\n",
       "        -1.86770524e+00],\n",
       "       [-1.24714469e+02,  2.73135591e+01,  4.80277765e+00,\n",
       "        -2.00498568e+00],\n",
       "       [-1.48174482e+01,  1.75261502e+00,  1.04538813e+00,\n",
       "         1.17384083e+00],\n",
       "       [-2.50758390e+01, -9.96796691e+00,  4.78112764e+00,\n",
       "        -2.69108186e+00],\n",
       "       [-9.15446470e+01,  2.29528778e+01, -4.01983435e-01,\n",
       "         7.36878098e-01],\n",
       "       [-1.18176328e+02, -5.50757920e+00, -2.71132077e+00,\n",
       "         2.04972398e-01],\n",
       "       [-1.04345394e+01,  5.92445292e+00, -3.79444682e+00,\n",
       "        -5.17867428e-01]])"
      ]
     },
     "execution_count": 52,
     "metadata": {},
     "output_type": "execute_result"
    }
   ],
   "source": [
    "# PCA 수행\n",
    "pca = PCA(n_components = 4)     # 주성분 객체 생성\n",
    "pca.fit_transform(df6)"
   ]
  },
  {
   "cell_type": "code",
   "execution_count": 53,
   "id": "de0fcbae-130d-44bc-b498-1f919d7447f5",
   "metadata": {
    "tags": []
   },
   "outputs": [
    {
     "data": {
      "text/plain": [
       "0.995"
      ]
     },
     "execution_count": 53,
     "metadata": {},
     "output_type": "execute_result"
    }
   ],
   "source": [
    "# 첫 번째 주성분위 폭력범죄 기여 가중치\n",
    "# pca.components_.T에서 행은 기존 컬럼 (Merder, Assult, UrbanPop, Rape)\n",
    "weight = pca.components_.T[1, 0]\n",
    "weight = round(weight, 3)\n",
    "weight"
   ]
  },
  {
   "cell_type": "code",
   "execution_count": 54,
   "id": "684392bd-90b5-4a10-af69-3b3331433cde",
   "metadata": {
    "tags": []
   },
   "outputs": [
    {
     "data": {
      "text/plain": [
       "-127.496"
      ]
     },
     "execution_count": 54,
     "metadata": {},
     "output_type": "execute_result"
    }
   ],
   "source": [
    "# (b) 34번째 도시에 대한 제 1주성분의 주성분 점수 구하기 (반올림하여 소수 셋째자리까지 계산), 여기서 첫번째 도시는 가장 위에 위치한 레코드 의미\n",
    "score = pca.fit_transform(df6)[33, 0]\n",
    "score = round(score, 3)\n",
    "score"
   ]
  },
  {
   "cell_type": "code",
   "execution_count": 57,
   "id": "1abb01b2-aa50-475a-a213-9da652eed64e",
   "metadata": {
    "tags": []
   },
   "outputs": [
    {
     "data": {
      "text/plain": [
       "0    0.965534\n",
       "1    0.027817\n",
       "2    0.005800\n",
       "3    0.000849\n",
       "dtype: float64"
      ]
     },
     "execution_count": 57,
     "metadata": {},
     "output_type": "execute_result"
    }
   ],
   "source": [
    "# (c) 첫번째 주성분의 누적기여율을 구하고(반올림하여 소수 둘째자리까지 계산), 원래 차원에서 줄어드는 차원의 개수 구하기\n",
    "# 주성분별 설명되는 분산 비율을 시리즈로 저장\n",
    "var_ratio = pd.Series(pca.explained_variance_ratio_)\n",
    "var_ratio"
   ]
  },
  {
   "cell_type": "code",
   "execution_count": 59,
   "id": "aa49884b-ed77-4d0d-b9e1-3cf44e31649a",
   "metadata": {
    "tags": []
   },
   "outputs": [
    {
     "name": "stdout",
     "output_type": "stream",
     "text": [
      "첫번째 주성분의 누적 기여율:  0.97 줄어드는 차원의 개수:  3\n"
     ]
    }
   ],
   "source": [
    "result = round(var_ratio[0], 2)\n",
    "print(\"첫번째 주성분의 누적 기여율: \", result, \"줄어드는 차원의 개수: \", 3)"
   ]
  },
  {
   "cell_type": "markdown",
   "id": "8bf8b62f-9eec-4416-821c-d5c3ff4390a7",
   "metadata": {},
   "source": [
    "- (a) 0.996\n",
    "- (b) -127.496\n",
    "- (c) 0.97, 3"
   ]
  },
  {
   "cell_type": "markdown",
   "id": "474666d5-47ee-403d-903e-1e641a5b6060",
   "metadata": {},
   "source": [
    "## 07."
   ]
  },
  {
   "cell_type": "code",
   "execution_count": 61,
   "id": "8d325d5c-db01-4025-86cf-095501cd005f",
   "metadata": {
    "tags": []
   },
   "outputs": [],
   "source": [
    "import pandas as pd\n",
    "import statsmodels.api as sm"
   ]
  },
  {
   "cell_type": "code",
   "execution_count": 62,
   "id": "0d7849d2-2e14-4c0b-acfc-983ebc31eb79",
   "metadata": {
    "tags": []
   },
   "outputs": [
    {
     "data": {
      "text/html": [
       "<div>\n",
       "<style scoped>\n",
       "    .dataframe tbody tr th:only-of-type {\n",
       "        vertical-align: middle;\n",
       "    }\n",
       "\n",
       "    .dataframe tbody tr th {\n",
       "        vertical-align: top;\n",
       "    }\n",
       "\n",
       "    .dataframe thead th {\n",
       "        text-align: right;\n",
       "    }\n",
       "</style>\n",
       "<table border=\"1\" class=\"dataframe\">\n",
       "  <thead>\n",
       "    <tr style=\"text-align: right;\">\n",
       "      <th></th>\n",
       "      <th>Manufacturer</th>\n",
       "      <th>Model</th>\n",
       "      <th>Type</th>\n",
       "      <th>Min_Price</th>\n",
       "      <th>Price</th>\n",
       "      <th>Max_Price</th>\n",
       "      <th>MPG_city</th>\n",
       "      <th>MPG_highway</th>\n",
       "      <th>AirBags</th>\n",
       "      <th>DriveTrain</th>\n",
       "      <th>...</th>\n",
       "      <th>Length</th>\n",
       "      <th>Wheelbase</th>\n",
       "      <th>Width</th>\n",
       "      <th>Turn_circle</th>\n",
       "      <th>Rear_seat_room</th>\n",
       "      <th>Luggage_room</th>\n",
       "      <th>Weight</th>\n",
       "      <th>Origin</th>\n",
       "      <th>Unnamed: 26</th>\n",
       "      <th>Make</th>\n",
       "    </tr>\n",
       "  </thead>\n",
       "  <tbody>\n",
       "    <tr>\n",
       "      <th>0</th>\n",
       "      <td>Acura</td>\n",
       "      <td>Integra</td>\n",
       "      <td>Small</td>\n",
       "      <td>12.9</td>\n",
       "      <td>15.9</td>\n",
       "      <td>18.8</td>\n",
       "      <td>25</td>\n",
       "      <td>31</td>\n",
       "      <td>NaN</td>\n",
       "      <td>Front</td>\n",
       "      <td>...</td>\n",
       "      <td>177</td>\n",
       "      <td>102</td>\n",
       "      <td>68</td>\n",
       "      <td>37.0</td>\n",
       "      <td>26.5</td>\n",
       "      <td>11.0</td>\n",
       "      <td>2705</td>\n",
       "      <td>non-USA</td>\n",
       "      <td>0</td>\n",
       "      <td>Acura Integra</td>\n",
       "    </tr>\n",
       "    <tr>\n",
       "      <th>1</th>\n",
       "      <td>Acura</td>\n",
       "      <td>Legend</td>\n",
       "      <td>Midsize</td>\n",
       "      <td>29.2</td>\n",
       "      <td>33.9</td>\n",
       "      <td>38.7</td>\n",
       "      <td>18</td>\n",
       "      <td>25</td>\n",
       "      <td>Driver &amp; Passenger</td>\n",
       "      <td>Front</td>\n",
       "      <td>...</td>\n",
       "      <td>195</td>\n",
       "      <td>115</td>\n",
       "      <td>71</td>\n",
       "      <td>38.0</td>\n",
       "      <td>30.0</td>\n",
       "      <td>15.0</td>\n",
       "      <td>3560</td>\n",
       "      <td>non-USA</td>\n",
       "      <td>1</td>\n",
       "      <td>Acura Legend</td>\n",
       "    </tr>\n",
       "    <tr>\n",
       "      <th>2</th>\n",
       "      <td>Audi</td>\n",
       "      <td>90</td>\n",
       "      <td>Compact</td>\n",
       "      <td>25.9</td>\n",
       "      <td>29.1</td>\n",
       "      <td>32.3</td>\n",
       "      <td>20</td>\n",
       "      <td>26</td>\n",
       "      <td>Driver only</td>\n",
       "      <td>Front</td>\n",
       "      <td>...</td>\n",
       "      <td>180</td>\n",
       "      <td>102</td>\n",
       "      <td>67</td>\n",
       "      <td>37.0</td>\n",
       "      <td>28.0</td>\n",
       "      <td>14.0</td>\n",
       "      <td>3375</td>\n",
       "      <td>non-USA</td>\n",
       "      <td>2</td>\n",
       "      <td>Audi 90</td>\n",
       "    </tr>\n",
       "    <tr>\n",
       "      <th>3</th>\n",
       "      <td>Audi</td>\n",
       "      <td>100</td>\n",
       "      <td>Midsize</td>\n",
       "      <td>30.8</td>\n",
       "      <td>NaN</td>\n",
       "      <td>44.6</td>\n",
       "      <td>19</td>\n",
       "      <td>26</td>\n",
       "      <td>Driver &amp; Passenger</td>\n",
       "      <td>Front</td>\n",
       "      <td>...</td>\n",
       "      <td>193</td>\n",
       "      <td>106</td>\n",
       "      <td>70</td>\n",
       "      <td>NaN</td>\n",
       "      <td>31.0</td>\n",
       "      <td>17.0</td>\n",
       "      <td>3405</td>\n",
       "      <td>non-USA</td>\n",
       "      <td>3</td>\n",
       "      <td>Audi 100</td>\n",
       "    </tr>\n",
       "    <tr>\n",
       "      <th>4</th>\n",
       "      <td>BMW</td>\n",
       "      <td>535i</td>\n",
       "      <td>Midsize</td>\n",
       "      <td>23.7</td>\n",
       "      <td>NaN</td>\n",
       "      <td>36.2</td>\n",
       "      <td>22</td>\n",
       "      <td>30</td>\n",
       "      <td>Driver only</td>\n",
       "      <td>Rear</td>\n",
       "      <td>...</td>\n",
       "      <td>186</td>\n",
       "      <td>109</td>\n",
       "      <td>69</td>\n",
       "      <td>NaN</td>\n",
       "      <td>27.0</td>\n",
       "      <td>13.0</td>\n",
       "      <td>3640</td>\n",
       "      <td>non-USA</td>\n",
       "      <td>4</td>\n",
       "      <td>BMW 535i</td>\n",
       "    </tr>\n",
       "  </tbody>\n",
       "</table>\n",
       "<p>5 rows × 28 columns</p>\n",
       "</div>"
      ],
      "text/plain": [
       "  Manufacturer    Model     Type  Min_Price  Price  Max_Price  MPG_city  \\\n",
       "0        Acura  Integra    Small       12.9   15.9       18.8        25   \n",
       "1        Acura   Legend  Midsize       29.2   33.9       38.7        18   \n",
       "2         Audi       90  Compact       25.9   29.1       32.3        20   \n",
       "3         Audi      100  Midsize       30.8    NaN       44.6        19   \n",
       "4          BMW     535i  Midsize       23.7    NaN       36.2        22   \n",
       "\n",
       "   MPG_highway             AirBags DriveTrain  ... Length  Wheelbase  Width  \\\n",
       "0           31                 NaN      Front  ...    177        102     68   \n",
       "1           25  Driver & Passenger      Front  ...    195        115     71   \n",
       "2           26         Driver only      Front  ...    180        102     67   \n",
       "3           26  Driver & Passenger      Front  ...    193        106     70   \n",
       "4           30         Driver only       Rear  ...    186        109     69   \n",
       "\n",
       "   Turn_circle  Rear_seat_room Luggage_room  Weight   Origin  Unnamed: 26  \\\n",
       "0         37.0            26.5         11.0    2705  non-USA            0   \n",
       "1         38.0            30.0         15.0    3560  non-USA            1   \n",
       "2         37.0            28.0         14.0    3375  non-USA            2   \n",
       "3          NaN            31.0         17.0    3405  non-USA            3   \n",
       "4          NaN            27.0         13.0    3640  non-USA            4   \n",
       "\n",
       "            Make  \n",
       "0  Acura Integra  \n",
       "1   Acura Legend  \n",
       "2        Audi 90  \n",
       "3       Audi 100  \n",
       "4       BMW 535i  \n",
       "\n",
       "[5 rows x 28 columns]"
      ]
     },
     "execution_count": 62,
     "metadata": {},
     "output_type": "execute_result"
    }
   ],
   "source": [
    "df7 = pd.read_csv('../data/연습문제/Cars93.csv', encoding = 'cp949')\n",
    "df7.head()"
   ]
  },
  {
   "cell_type": "code",
   "execution_count": 63,
   "id": "d4b3a029-f2b1-469f-bc55-e329b0e2b56c",
   "metadata": {
    "tags": []
   },
   "outputs": [
    {
     "data": {
      "text/html": [
       "<div>\n",
       "<style scoped>\n",
       "    .dataframe tbody tr th:only-of-type {\n",
       "        vertical-align: middle;\n",
       "    }\n",
       "\n",
       "    .dataframe tbody tr th {\n",
       "        vertical-align: top;\n",
       "    }\n",
       "\n",
       "    .dataframe thead th {\n",
       "        text-align: right;\n",
       "    }\n",
       "</style>\n",
       "<table border=\"1\" class=\"dataframe\">\n",
       "  <thead>\n",
       "    <tr style=\"text-align: right;\">\n",
       "      <th></th>\n",
       "      <th>Price</th>\n",
       "      <th>Rev_per_mile</th>\n",
       "      <th>Weight</th>\n",
       "      <th>Length</th>\n",
       "      <th>EngineSize</th>\n",
       "    </tr>\n",
       "  </thead>\n",
       "  <tbody>\n",
       "    <tr>\n",
       "      <th>0</th>\n",
       "      <td>15.9</td>\n",
       "      <td>2890</td>\n",
       "      <td>2705</td>\n",
       "      <td>177</td>\n",
       "      <td>1.8</td>\n",
       "    </tr>\n",
       "    <tr>\n",
       "      <th>1</th>\n",
       "      <td>33.9</td>\n",
       "      <td>2335</td>\n",
       "      <td>3560</td>\n",
       "      <td>195</td>\n",
       "      <td>3.2</td>\n",
       "    </tr>\n",
       "    <tr>\n",
       "      <th>2</th>\n",
       "      <td>29.1</td>\n",
       "      <td>2280</td>\n",
       "      <td>3375</td>\n",
       "      <td>180</td>\n",
       "      <td>2.8</td>\n",
       "    </tr>\n",
       "    <tr>\n",
       "      <th>5</th>\n",
       "      <td>15.7</td>\n",
       "      <td>2565</td>\n",
       "      <td>2880</td>\n",
       "      <td>189</td>\n",
       "      <td>2.2</td>\n",
       "    </tr>\n",
       "    <tr>\n",
       "      <th>6</th>\n",
       "      <td>20.8</td>\n",
       "      <td>1570</td>\n",
       "      <td>3470</td>\n",
       "      <td>200</td>\n",
       "      <td>3.8</td>\n",
       "    </tr>\n",
       "  </tbody>\n",
       "</table>\n",
       "</div>"
      ],
      "text/plain": [
       "   Price  Rev_per_mile  Weight  Length  EngineSize\n",
       "0   15.9          2890    2705     177         1.8\n",
       "1   33.9          2335    3560     195         3.2\n",
       "2   29.1          2280    3375     180         2.8\n",
       "5   15.7          2565    2880     189         2.2\n",
       "6   20.8          1570    3470     200         3.8"
      ]
     },
     "execution_count": 63,
     "metadata": {},
     "output_type": "execute_result"
    }
   ],
   "source": [
    "# 회귀분석 수행\n",
    "cols = ['Price', 'Rev_per_mile', 'Weight', 'Length', 'EngineSize']\n",
    "df7_col = df7[cols].dropna()      # 결측치 제거\n",
    "df7_col.head()"
   ]
  },
  {
   "cell_type": "code",
   "execution_count": 64,
   "id": "87208eee-fb61-4f86-b470-6445980b03a2",
   "metadata": {
    "tags": []
   },
   "outputs": [],
   "source": [
    "# y, X에 할당\n",
    "y = df7_col['Price']    # 종속변수\n",
    "X = df7_col[ ['Rev_per_mile', 'Weight', 'Length', 'EngineSize'] ]\n",
    "X = sm.add_constant(X) # 절편합 적합을 위한 상수벡터 추가"
   ]
  },
  {
   "cell_type": "code",
   "execution_count": 65,
   "id": "60698f1e-3621-4f65-a2f2-275556aca2ef",
   "metadata": {
    "tags": []
   },
   "outputs": [],
   "source": [
    "# 모델 적합\n",
    "model = sm.OLS(y, X)   # OLS 객체 생성\n",
    "result = model.fit()   # 모형 적합"
   ]
  },
  {
   "cell_type": "code",
   "execution_count": 66,
   "id": "14d144bb-3a14-4779-9f23-ecd5a38a0844",
   "metadata": {
    "tags": []
   },
   "outputs": [
    {
     "data": {
      "text/html": [
       "<table class=\"simpletable\">\n",
       "<caption>OLS Regression Results</caption>\n",
       "<tr>\n",
       "  <th>Dep. Variable:</th>          <td>Price</td>      <th>  R-squared:         </th> <td>   0.396</td>\n",
       "</tr>\n",
       "<tr>\n",
       "  <th>Model:</th>                   <td>OLS</td>       <th>  Adj. R-squared:    </th> <td>   0.366</td>\n",
       "</tr>\n",
       "<tr>\n",
       "  <th>Method:</th>             <td>Least Squares</td>  <th>  F-statistic:       </th> <td>   12.96</td>\n",
       "</tr>\n",
       "<tr>\n",
       "  <th>Date:</th>             <td>Mon, 17 Jun 2024</td> <th>  Prob (F-statistic):</th> <td>3.69e-08</td>\n",
       "</tr>\n",
       "<tr>\n",
       "  <th>Time:</th>                 <td>03:15:07</td>     <th>  Log-Likelihood:    </th> <td> -288.33</td>\n",
       "</tr>\n",
       "<tr>\n",
       "  <th>No. Observations:</th>      <td>    84</td>      <th>  AIC:               </th> <td>   586.7</td>\n",
       "</tr>\n",
       "<tr>\n",
       "  <th>Df Residuals:</th>          <td>    79</td>      <th>  BIC:               </th> <td>   598.8</td>\n",
       "</tr>\n",
       "<tr>\n",
       "  <th>Df Model:</th>              <td>     4</td>      <th>                     </th>     <td> </td>   \n",
       "</tr>\n",
       "<tr>\n",
       "  <th>Covariance Type:</th>      <td>nonrobust</td>    <th>                     </th>     <td> </td>   \n",
       "</tr>\n",
       "</table>\n",
       "<table class=\"simpletable\">\n",
       "<tr>\n",
       "        <td></td>          <th>coef</th>     <th>std err</th>      <th>t</th>      <th>P>|t|</th>  <th>[0.025</th>    <th>0.975]</th>  \n",
       "</tr>\n",
       "<tr>\n",
       "  <th>const</th>        <td>   -2.6152</td> <td>   17.252</td> <td>   -0.152</td> <td> 0.880</td> <td>  -36.954</td> <td>   31.724</td>\n",
       "</tr>\n",
       "<tr>\n",
       "  <th>Rev_per_mile</th> <td>    0.0016</td> <td>    0.002</td> <td>    0.844</td> <td> 0.401</td> <td>   -0.002</td> <td>    0.005</td>\n",
       "</tr>\n",
       "<tr>\n",
       "  <th>Weight</th>       <td>    0.0023</td> <td>    0.002</td> <td>    1.427</td> <td> 0.158</td> <td>   -0.001</td> <td>    0.005</td>\n",
       "</tr>\n",
       "<tr>\n",
       "  <th>Length</th>       <td>   -0.0210</td> <td>    0.104</td> <td>   -0.203</td> <td> 0.840</td> <td>   -0.227</td> <td>    0.185</td>\n",
       "</tr>\n",
       "<tr>\n",
       "  <th>EngineSize</th>   <td>    5.7126</td> <td>    1.479</td> <td>    3.861</td> <td> 0.000</td> <td>    2.768</td> <td>    8.657</td>\n",
       "</tr>\n",
       "</table>\n",
       "<table class=\"simpletable\">\n",
       "<tr>\n",
       "  <th>Omnibus:</th>       <td>54.602</td> <th>  Durbin-Watson:     </th> <td>   1.203</td>\n",
       "</tr>\n",
       "<tr>\n",
       "  <th>Prob(Omnibus):</th> <td> 0.000</td> <th>  Jarque-Bera (JB):  </th> <td> 252.601</td>\n",
       "</tr>\n",
       "<tr>\n",
       "  <th>Skew:</th>          <td> 2.010</td> <th>  Prob(JB):          </th> <td>1.41e-55</td>\n",
       "</tr>\n",
       "<tr>\n",
       "  <th>Kurtosis:</th>      <td>10.485</td> <th>  Cond. No.          </th> <td>7.98e+04</td>\n",
       "</tr>\n",
       "</table><br/><br/>Notes:<br/>[1] Standard Errors assume that the covariance matrix of the errors is correctly specified.<br/>[2] The condition number is large, 7.98e+04. This might indicate that there are<br/>strong multicollinearity or other numerical problems."
      ],
      "text/latex": [
       "\\begin{center}\n",
       "\\begin{tabular}{lclc}\n",
       "\\toprule\n",
       "\\textbf{Dep. Variable:}    &      Price       & \\textbf{  R-squared:         } &     0.396   \\\\\n",
       "\\textbf{Model:}            &       OLS        & \\textbf{  Adj. R-squared:    } &     0.366   \\\\\n",
       "\\textbf{Method:}           &  Least Squares   & \\textbf{  F-statistic:       } &     12.96   \\\\\n",
       "\\textbf{Date:}             & Mon, 17 Jun 2024 & \\textbf{  Prob (F-statistic):} &  3.69e-08   \\\\\n",
       "\\textbf{Time:}             &     03:15:07     & \\textbf{  Log-Likelihood:    } &   -288.33   \\\\\n",
       "\\textbf{No. Observations:} &          84      & \\textbf{  AIC:               } &     586.7   \\\\\n",
       "\\textbf{Df Residuals:}     &          79      & \\textbf{  BIC:               } &     598.8   \\\\\n",
       "\\textbf{Df Model:}         &           4      & \\textbf{                     } &             \\\\\n",
       "\\textbf{Covariance Type:}  &    nonrobust     & \\textbf{                     } &             \\\\\n",
       "\\bottomrule\n",
       "\\end{tabular}\n",
       "\\begin{tabular}{lcccccc}\n",
       "                        & \\textbf{coef} & \\textbf{std err} & \\textbf{t} & \\textbf{P$> |$t$|$} & \\textbf{[0.025} & \\textbf{0.975]}  \\\\\n",
       "\\midrule\n",
       "\\textbf{const}          &      -2.6152  &       17.252     &    -0.152  &         0.880        &      -36.954    &       31.724     \\\\\n",
       "\\textbf{Rev\\_per\\_mile} &       0.0016  &        0.002     &     0.844  &         0.401        &       -0.002    &        0.005     \\\\\n",
       "\\textbf{Weight}         &       0.0023  &        0.002     &     1.427  &         0.158        &       -0.001    &        0.005     \\\\\n",
       "\\textbf{Length}         &      -0.0210  &        0.104     &    -0.203  &         0.840        &       -0.227    &        0.185     \\\\\n",
       "\\textbf{EngineSize}     &       5.7126  &        1.479     &     3.861  &         0.000        &        2.768    &        8.657     \\\\\n",
       "\\bottomrule\n",
       "\\end{tabular}\n",
       "\\begin{tabular}{lclc}\n",
       "\\textbf{Omnibus:}       & 54.602 & \\textbf{  Durbin-Watson:     } &    1.203  \\\\\n",
       "\\textbf{Prob(Omnibus):} &  0.000 & \\textbf{  Jarque-Bera (JB):  } &  252.601  \\\\\n",
       "\\textbf{Skew:}          &  2.010 & \\textbf{  Prob(JB):          } & 1.41e-55  \\\\\n",
       "\\textbf{Kurtosis:}      & 10.485 & \\textbf{  Cond. No.          } & 7.98e+04  \\\\\n",
       "\\bottomrule\n",
       "\\end{tabular}\n",
       "%\\caption{OLS Regression Results}\n",
       "\\end{center}\n",
       "\n",
       "Notes: \\newline\n",
       " [1] Standard Errors assume that the covariance matrix of the errors is correctly specified. \\newline\n",
       " [2] The condition number is large, 7.98e+04. This might indicate that there are \\newline\n",
       " strong multicollinearity or other numerical problems."
      ],
      "text/plain": [
       "<class 'statsmodels.iolib.summary.Summary'>\n",
       "\"\"\"\n",
       "                            OLS Regression Results                            \n",
       "==============================================================================\n",
       "Dep. Variable:                  Price   R-squared:                       0.396\n",
       "Model:                            OLS   Adj. R-squared:                  0.366\n",
       "Method:                 Least Squares   F-statistic:                     12.96\n",
       "Date:                Mon, 17 Jun 2024   Prob (F-statistic):           3.69e-08\n",
       "Time:                        03:15:07   Log-Likelihood:                -288.33\n",
       "No. Observations:                  84   AIC:                             586.7\n",
       "Df Residuals:                      79   BIC:                             598.8\n",
       "Df Model:                           4                                         \n",
       "Covariance Type:            nonrobust                                         \n",
       "================================================================================\n",
       "                   coef    std err          t      P>|t|      [0.025      0.975]\n",
       "--------------------------------------------------------------------------------\n",
       "const           -2.6152     17.252     -0.152      0.880     -36.954      31.724\n",
       "Rev_per_mile     0.0016      0.002      0.844      0.401      -0.002       0.005\n",
       "Weight           0.0023      0.002      1.427      0.158      -0.001       0.005\n",
       "Length          -0.0210      0.104     -0.203      0.840      -0.227       0.185\n",
       "EngineSize       5.7126      1.479      3.861      0.000       2.768       8.657\n",
       "==============================================================================\n",
       "Omnibus:                       54.602   Durbin-Watson:                   1.203\n",
       "Prob(Omnibus):                  0.000   Jarque-Bera (JB):              252.601\n",
       "Skew:                           2.010   Prob(JB):                     1.41e-55\n",
       "Kurtosis:                      10.485   Cond. No.                     7.98e+04\n",
       "==============================================================================\n",
       "\n",
       "Notes:\n",
       "[1] Standard Errors assume that the covariance matrix of the errors is correctly specified.\n",
       "[2] The condition number is large, 7.98e+04. This might indicate that there are\n",
       "strong multicollinearity or other numerical problems.\n",
       "\"\"\""
      ]
     },
     "execution_count": 66,
     "metadata": {},
     "output_type": "execute_result"
    }
   ],
   "source": [
    "# result.params로 회귀계수만 추출\n",
    "# result.tvalues로 t통계량만 추출\n",
    "result.summary()"
   ]
  },
  {
   "cell_type": "code",
   "execution_count": 89,
   "id": "9a742ed7-5316-4688-99a1-2abbd9161f4e",
   "metadata": {
    "tags": []
   },
   "outputs": [
    {
     "data": {
      "text/plain": [
       "0.396"
      ]
     },
     "execution_count": 89,
     "metadata": {},
     "output_type": "execute_result"
    }
   ],
   "source": [
    "# (a) 결정계수(R-squared) 구하기 (반올림하여 소수 셋째자리까지 계산)\n",
    "r_squared = 0.396 # summary에서 확인한 값\n",
    "\n",
    "rsq = result.rsquared # 더 자세한 값 확인용\n",
    "round(rsq, 3)"
   ]
  },
  {
   "cell_type": "code",
   "execution_count": 71,
   "id": "082f72e0-8b92-4fb0-8a80-4ca6b35562d4",
   "metadata": {
    "tags": []
   },
   "outputs": [
    {
     "data": {
      "text/plain": [
       "0.0023"
      ]
     },
     "execution_count": 71,
     "metadata": {},
     "output_type": "execute_result"
    }
   ],
   "source": [
    "# (b) 다른 변수가 고정되어 있다면 중량이 한 단위 증가했을 때.. ~ >> Weight의 추정 회귀계수 구하는 거\n",
    "b = 0.0023\n",
    "b"
   ]
  },
  {
   "cell_type": "code",
   "execution_count": 84,
   "id": "638cbf5b-e6e2-46b7-8e73-f84157ad47b7",
   "metadata": {
    "tags": []
   },
   "outputs": [
    {
     "name": "stdout",
     "output_type": "stream",
     "text": [
      ".summary() 함수 사용한 p-value:  0.158\n",
      ".pvalues 함수 사용한 p-value:  0.1576\n"
     ]
    }
   ],
   "source": [
    "# (c) Weight의 P>|t| 값은 0.158\n",
    "pval = 0.158\n",
    "print('.summary() 함수 사용한 p-value: ', pval)\n",
    "\n",
    "# 소수점 넷째자리까지 계산이라고 했으므로 result.pvalues 함수 사용해서 소수 넷째자리까지 출력\n",
    "pval_4 = result.pvalues['Weight']\n",
    "pval_4 = round(pval_4, 4)\n",
    "print('.pvalues 함수 사용한 p-value: ', pval_4)"
   ]
  },
  {
   "cell_type": "code",
   "execution_count": 85,
   "id": "36a903bb-492b-4383-9738-7fbdd5ef31e1",
   "metadata": {
    "tags": []
   },
   "outputs": [
    {
     "data": {
      "text/html": [
       "<div>\n",
       "<style scoped>\n",
       "    .dataframe tbody tr th:only-of-type {\n",
       "        vertical-align: middle;\n",
       "    }\n",
       "\n",
       "    .dataframe tbody tr th {\n",
       "        vertical-align: top;\n",
       "    }\n",
       "\n",
       "    .dataframe thead th {\n",
       "        text-align: right;\n",
       "    }\n",
       "</style>\n",
       "<table border=\"1\" class=\"dataframe\">\n",
       "  <thead>\n",
       "    <tr style=\"text-align: right;\">\n",
       "      <th></th>\n",
       "      <th>0</th>\n",
       "      <th>1</th>\n",
       "    </tr>\n",
       "  </thead>\n",
       "  <tbody>\n",
       "    <tr>\n",
       "      <th>const</th>\n",
       "      <td>-36.954452</td>\n",
       "      <td>31.723953</td>\n",
       "    </tr>\n",
       "    <tr>\n",
       "      <th>Rev_per_mile</th>\n",
       "      <td>-0.002173</td>\n",
       "      <td>0.005371</td>\n",
       "    </tr>\n",
       "    <tr>\n",
       "      <th>Weight</th>\n",
       "      <td>-0.000892</td>\n",
       "      <td>0.005406</td>\n",
       "    </tr>\n",
       "    <tr>\n",
       "      <th>Length</th>\n",
       "      <td>-0.227167</td>\n",
       "      <td>0.185163</td>\n",
       "    </tr>\n",
       "    <tr>\n",
       "      <th>EngineSize</th>\n",
       "      <td>2.767785</td>\n",
       "      <td>8.657369</td>\n",
       "    </tr>\n",
       "  </tbody>\n",
       "</table>\n",
       "</div>"
      ],
      "text/plain": [
       "                      0          1\n",
       "const        -36.954452  31.723953\n",
       "Rev_per_mile  -0.002173   0.005371\n",
       "Weight        -0.000892   0.005406\n",
       "Length        -0.227167   0.185163\n",
       "EngineSize     2.767785   8.657369"
      ]
     },
     "execution_count": 85,
     "metadata": {},
     "output_type": "execute_result"
    }
   ],
   "source": [
    "# (d) (b) 값에 대한 95% 신뢰구간 구하고 신뢰상한 값 출력 >> Weight의 회귀계수에 대한 95% 신뢰구간 구하기\n",
    "# result.conf_int(alpha = 0.05, cols = None) 함수로 상한값 확인\n",
    "result.conf_int(alpha = 0.05, cols = None)"
   ]
  },
  {
   "cell_type": "code",
   "execution_count": 86,
   "id": "ac3c4ca0-4507-48ef-acbe-857c2e601f6a",
   "metadata": {
    "tags": []
   },
   "outputs": [
    {
     "data": {
      "text/plain": [
       "0.005"
      ]
     },
     "execution_count": 86,
     "metadata": {},
     "output_type": "execute_result"
    }
   ],
   "source": [
    "upper = 0.005406\n",
    "upper = round(upper, 3)\n",
    "upper"
   ]
  },
  {
   "cell_type": "markdown",
   "id": "2666bc4b-f2be-400b-bc1d-55f69248c93e",
   "metadata": {},
   "source": [
    "- (a) 0.396\n",
    "- (b) 0.0023\n",
    "- (c) 0.1576\n",
    "- (d) 0.005"
   ]
  },
  {
   "cell_type": "markdown",
   "id": "152b8d8c-37c5-48e2-90cf-4c5535d34685",
   "metadata": {},
   "source": [
    "## 08."
   ]
  },
  {
   "cell_type": "code",
   "execution_count": 90,
   "id": "b775e90c-c926-4aa9-9a6e-b9bee563c492",
   "metadata": {
    "tags": []
   },
   "outputs": [],
   "source": [
    "import pandas as pd\n",
    "import statsmodels.api as sm\n",
    "import numpy as np"
   ]
  },
  {
   "cell_type": "code",
   "execution_count": 91,
   "id": "e2360a66-0646-4521-ba04-1120bd23dbdf",
   "metadata": {
    "tags": []
   },
   "outputs": [
    {
     "data": {
      "text/html": [
       "<div>\n",
       "<style scoped>\n",
       "    .dataframe tbody tr th:only-of-type {\n",
       "        vertical-align: middle;\n",
       "    }\n",
       "\n",
       "    .dataframe tbody tr th {\n",
       "        vertical-align: top;\n",
       "    }\n",
       "\n",
       "    .dataframe thead th {\n",
       "        text-align: right;\n",
       "    }\n",
       "</style>\n",
       "<table border=\"1\" class=\"dataframe\">\n",
       "  <thead>\n",
       "    <tr style=\"text-align: right;\">\n",
       "      <th></th>\n",
       "      <th>x1</th>\n",
       "      <th>x2</th>\n",
       "      <th>x3</th>\n",
       "      <th>y</th>\n",
       "    </tr>\n",
       "  </thead>\n",
       "  <tbody>\n",
       "    <tr>\n",
       "      <th>0</th>\n",
       "      <td>0.7759</td>\n",
       "      <td>M</td>\n",
       "      <td>0.9167</td>\n",
       "      <td>0</td>\n",
       "    </tr>\n",
       "    <tr>\n",
       "      <th>1</th>\n",
       "      <td>0.9397</td>\n",
       "      <td>M</td>\n",
       "      <td>0.1167</td>\n",
       "      <td>0</td>\n",
       "    </tr>\n",
       "    <tr>\n",
       "      <th>2</th>\n",
       "      <td>-0.2241</td>\n",
       "      <td>M</td>\n",
       "      <td>0.3000</td>\n",
       "      <td>0</td>\n",
       "    </tr>\n",
       "    <tr>\n",
       "      <th>3</th>\n",
       "      <td>0.7759</td>\n",
       "      <td>M</td>\n",
       "      <td>2.0333</td>\n",
       "      <td>0</td>\n",
       "    </tr>\n",
       "    <tr>\n",
       "      <th>4</th>\n",
       "      <td>0.7759</td>\n",
       "      <td>M</td>\n",
       "      <td>0.5000</td>\n",
       "      <td>0</td>\n",
       "    </tr>\n",
       "  </tbody>\n",
       "</table>\n",
       "</div>"
      ],
      "text/plain": [
       "       x1 x2      x3  y\n",
       "0  0.7759  M  0.9167  0\n",
       "1  0.9397  M  0.1167  0\n",
       "2 -0.2241  M  0.3000  0\n",
       "3  0.7759  M  2.0333  0\n",
       "4  0.7759  M  0.5000  0"
      ]
     },
     "execution_count": 91,
     "metadata": {},
     "output_type": "execute_result"
    }
   ],
   "source": [
    "df8 = pd.read_csv('../data/연습문제/job.csv')\n",
    "df8.head()"
   ]
  },
  {
   "cell_type": "code",
   "execution_count": 92,
   "id": "46896a67-79a2-4ba5-851b-7efa65b54ae0",
   "metadata": {
    "tags": []
   },
   "outputs": [
    {
     "data": {
      "text/plain": [
       "x1    0\n",
       "x2    0\n",
       "x3    0\n",
       "y     0\n",
       "dtype: int64"
      ]
     },
     "execution_count": 92,
     "metadata": {},
     "output_type": "execute_result"
    }
   ],
   "source": [
    "df8.isnull().sum()"
   ]
  },
  {
   "cell_type": "code",
   "execution_count": 93,
   "id": "547a47b4-2705-4a4c-bc91-4cf21fa502da",
   "metadata": {
    "tags": []
   },
   "outputs": [
    {
     "data": {
      "text/plain": [
       "array(['M', 'F'], dtype=object)"
      ]
     },
     "execution_count": 93,
     "metadata": {},
     "output_type": "execute_result"
    }
   ],
   "source": [
    "# x2 칼럼에서 M을 1로, F를 0으로 인코딩\n",
    "df8['x2'].unique()"
   ]
  },
  {
   "cell_type": "code",
   "execution_count": 94,
   "id": "359e9c93-58dd-4fb0-a7b4-ba3703a875d2",
   "metadata": {
    "tags": []
   },
   "outputs": [
    {
     "data": {
      "text/plain": [
       "array([1, 0], dtype=int64)"
      ]
     },
     "execution_count": 94,
     "metadata": {},
     "output_type": "execute_result"
    }
   ],
   "source": [
    "df8['x2'] = df8['x2'].map( {'M':1, 'F':0} )\n",
    "df8['x2'].unique()"
   ]
  },
  {
   "cell_type": "code",
   "execution_count": 95,
   "id": "9651347e-c737-416f-97ce-5c960c3c7f1e",
   "metadata": {
    "tags": []
   },
   "outputs": [],
   "source": [
    "# y, X에 각각 할당\n",
    "y = df8['y']\n",
    "X = df8[ ['x1', 'x2', 'x3'] ]\n",
    "X = sm.add_constant(X)"
   ]
  },
  {
   "cell_type": "code",
   "execution_count": 96,
   "id": "c6b6a77c-3849-49d7-864f-bd8ab5f6265a",
   "metadata": {
    "tags": []
   },
   "outputs": [],
   "source": [
    "# 모델 적합\n",
    "model = sm.GLM(y, X, family = sm.families.Binomial())\n",
    "result = model.fit()"
   ]
  },
  {
   "cell_type": "code",
   "execution_count": 97,
   "id": "f7fbee41-b121-4617-8e22-879dc4eede10",
   "metadata": {
    "tags": []
   },
   "outputs": [
    {
     "data": {
      "text/html": [
       "<table class=\"simpletable\">\n",
       "<caption>Generalized Linear Model Regression Results</caption>\n",
       "<tr>\n",
       "  <th>Dep. Variable:</th>           <td>y</td>        <th>  No. Observations:  </th>  <td>   105</td> \n",
       "</tr>\n",
       "<tr>\n",
       "  <th>Model:</th>                  <td>GLM</td>       <th>  Df Residuals:      </th>  <td>   101</td> \n",
       "</tr>\n",
       "<tr>\n",
       "  <th>Model Family:</th>        <td>Binomial</td>     <th>  Df Model:          </th>  <td>     3</td> \n",
       "</tr>\n",
       "<tr>\n",
       "  <th>Link Function:</th>         <td>Logit</td>      <th>  Scale:             </th> <td>  1.0000</td>\n",
       "</tr>\n",
       "<tr>\n",
       "  <th>Method:</th>                <td>IRLS</td>       <th>  Log-Likelihood:    </th> <td> -56.381</td>\n",
       "</tr>\n",
       "<tr>\n",
       "  <th>Date:</th>            <td>Mon, 17 Jun 2024</td> <th>  Deviance:          </th> <td>  112.76</td>\n",
       "</tr>\n",
       "<tr>\n",
       "  <th>Time:</th>                <td>03:43:53</td>     <th>  Pearson chi2:      </th>  <td>  106.</td> \n",
       "</tr>\n",
       "<tr>\n",
       "  <th>No. Iterations:</th>          <td>4</td>        <th>  Pseudo R-squ. (CS):</th>  <td>0.09941</td>\n",
       "</tr>\n",
       "<tr>\n",
       "  <th>Covariance Type:</th>     <td>nonrobust</td>    <th>                     </th>     <td> </td>   \n",
       "</tr>\n",
       "</table>\n",
       "<table class=\"simpletable\">\n",
       "<tr>\n",
       "    <td></td>       <th>coef</th>     <th>std err</th>      <th>z</th>      <th>P>|z|</th>  <th>[0.025</th>    <th>0.975]</th>  \n",
       "</tr>\n",
       "<tr>\n",
       "  <th>const</th> <td>   -0.8077</td> <td>    0.696</td> <td>   -1.160</td> <td> 0.246</td> <td>   -2.173</td> <td>    0.557</td>\n",
       "</tr>\n",
       "<tr>\n",
       "  <th>x1</th>    <td>   -0.6233</td> <td>    0.198</td> <td>   -3.149</td> <td> 0.002</td> <td>   -1.011</td> <td>   -0.235</td>\n",
       "</tr>\n",
       "<tr>\n",
       "  <th>x2</th>    <td>   -0.1575</td> <td>    0.684</td> <td>   -0.230</td> <td> 0.818</td> <td>   -1.498</td> <td>    1.183</td>\n",
       "</tr>\n",
       "<tr>\n",
       "  <th>x3</th>    <td>   -0.2153</td> <td>    0.309</td> <td>   -0.696</td> <td> 0.487</td> <td>   -0.822</td> <td>    0.391</td>\n",
       "</tr>\n",
       "</table>"
      ],
      "text/latex": [
       "\\begin{center}\n",
       "\\begin{tabular}{lclc}\n",
       "\\toprule\n",
       "\\textbf{Dep. Variable:}   &        y         & \\textbf{  No. Observations:  } &      105    \\\\\n",
       "\\textbf{Model:}           &       GLM        & \\textbf{  Df Residuals:      } &      101    \\\\\n",
       "\\textbf{Model Family:}    &     Binomial     & \\textbf{  Df Model:          } &        3    \\\\\n",
       "\\textbf{Link Function:}   &      Logit       & \\textbf{  Scale:             } &    1.0000   \\\\\n",
       "\\textbf{Method:}          &       IRLS       & \\textbf{  Log-Likelihood:    } &   -56.381   \\\\\n",
       "\\textbf{Date:}            & Mon, 17 Jun 2024 & \\textbf{  Deviance:          } &    112.76   \\\\\n",
       "\\textbf{Time:}            &     03:43:53     & \\textbf{  Pearson chi2:      } &     106.    \\\\\n",
       "\\textbf{No. Iterations:}  &        4         & \\textbf{  Pseudo R-squ. (CS):} &  0.09941    \\\\\n",
       "\\textbf{Covariance Type:} &    nonrobust     & \\textbf{                     } &             \\\\\n",
       "\\bottomrule\n",
       "\\end{tabular}\n",
       "\\begin{tabular}{lcccccc}\n",
       "               & \\textbf{coef} & \\textbf{std err} & \\textbf{z} & \\textbf{P$> |$z$|$} & \\textbf{[0.025} & \\textbf{0.975]}  \\\\\n",
       "\\midrule\n",
       "\\textbf{const} &      -0.8077  &        0.696     &    -1.160  &         0.246        &       -2.173    &        0.557     \\\\\n",
       "\\textbf{x1}    &      -0.6233  &        0.198     &    -3.149  &         0.002        &       -1.011    &       -0.235     \\\\\n",
       "\\textbf{x2}    &      -0.1575  &        0.684     &    -0.230  &         0.818        &       -1.498    &        1.183     \\\\\n",
       "\\textbf{x3}    &      -0.2153  &        0.309     &    -0.696  &         0.487        &       -0.822    &        0.391     \\\\\n",
       "\\bottomrule\n",
       "\\end{tabular}\n",
       "%\\caption{Generalized Linear Model Regression Results}\n",
       "\\end{center}"
      ],
      "text/plain": [
       "<class 'statsmodels.iolib.summary.Summary'>\n",
       "\"\"\"\n",
       "                 Generalized Linear Model Regression Results                  \n",
       "==============================================================================\n",
       "Dep. Variable:                      y   No. Observations:                  105\n",
       "Model:                            GLM   Df Residuals:                      101\n",
       "Model Family:                Binomial   Df Model:                            3\n",
       "Link Function:                  Logit   Scale:                          1.0000\n",
       "Method:                          IRLS   Log-Likelihood:                -56.381\n",
       "Date:                Mon, 17 Jun 2024   Deviance:                       112.76\n",
       "Time:                        03:43:53   Pearson chi2:                     106.\n",
       "No. Iterations:                     4   Pseudo R-squ. (CS):            0.09941\n",
       "Covariance Type:            nonrobust                                         \n",
       "==============================================================================\n",
       "                 coef    std err          z      P>|z|      [0.025      0.975]\n",
       "------------------------------------------------------------------------------\n",
       "const         -0.8077      0.696     -1.160      0.246      -2.173       0.557\n",
       "x1            -0.6233      0.198     -3.149      0.002      -1.011      -0.235\n",
       "x2            -0.1575      0.684     -0.230      0.818      -1.498       1.183\n",
       "x3            -0.2153      0.309     -0.696      0.487      -0.822       0.391\n",
       "==============================================================================\n",
       "\"\"\""
      ]
     },
     "execution_count": 97,
     "metadata": {},
     "output_type": "execute_result"
    }
   ],
   "source": [
    "# 결과 확인\n",
    "result.summary()"
   ]
  },
  {
   "cell_type": "code",
   "execution_count": 98,
   "id": "b5975929-3f40-468a-a825-ca779b96ae57",
   "metadata": {
    "tags": []
   },
   "outputs": [
    {
     "data": {
      "text/plain": [
       "-0.808"
      ]
     },
     "execution_count": 98,
     "metadata": {},
     "output_type": "execute_result"
    }
   ],
   "source": [
    "# (a) 절편항에 대한 회귀계수 추정량 (소수 셋째 자리까지)\n",
    "b0 = -0.8077   # summary() 함수의 const 값에서 확인\n",
    "round(b0, 3)"
   ]
  },
  {
   "cell_type": "code",
   "execution_count": 104,
   "id": "1bb7997d-0fe6-474b-b2d5-744ea3f545bb",
   "metadata": {
    "tags": []
   },
   "outputs": [
    {
     "data": {
      "text/plain": [
       "-0.808"
      ]
     },
     "execution_count": 104,
     "metadata": {},
     "output_type": "execute_result"
    }
   ],
   "source": [
    "# .params 함수로도 확인 가능\n",
    "result.params\n",
    "round(result.params['const'], 3)"
   ]
  },
  {
   "cell_type": "code",
   "execution_count": 107,
   "id": "71441ae6-470d-4726-8139-7338ba2f5cd3",
   "metadata": {
    "tags": []
   },
   "outputs": [
    {
     "data": {
      "text/plain": [
       "0.854"
      ]
     },
     "execution_count": 107,
     "metadata": {},
     "output_type": "execute_result"
    }
   ],
   "source": [
    "# 다른 변수가 고정되어 있을 때, 여성에 비해 남성의 취업 성공에 대한 오즈가 몇 배 감소하는지 출력 (소수 셋째 자리까지)\n",
    "# 오즈비 = 남성의_성공_오즈 / 여성의_성공_오즈 = exp(beta2)\n",
    "odds_ratio = round(np.exp(-0.1575), 3)         # summary() 함수의 x2 값\n",
    "odds_ratio"
   ]
  },
  {
   "cell_type": "code",
   "execution_count": 109,
   "id": "c46118ad-eb33-47b6-a124-d8fa194ebd27",
   "metadata": {
    "tags": []
   },
   "outputs": [
    {
     "data": {
      "text/plain": [
       "0.854"
      ]
     },
     "execution_count": 109,
     "metadata": {},
     "output_type": "execute_result"
    }
   ],
   "source": [
    "# .params 함수로도 확인 가능\n",
    "result.params\n",
    "round( np.exp(result.params['x2']), 3)"
   ]
  },
  {
   "cell_type": "code",
   "execution_count": 110,
   "id": "c4aa520b-a3dc-41d3-b137-41714b9bbcb9",
   "metadata": {
    "tags": []
   },
   "outputs": [
    {
     "data": {
      "text/plain": [
       "0.5344"
      ]
     },
     "execution_count": 110,
     "metadata": {},
     "output_type": "execute_result"
    }
   ],
   "source": [
    "# (c) 9번 학생의 성공(y)할 확률 계산 (소수 넷째 자리까지), 임계값이 0.7일 때 성공이면 1, 아니면 0 출력\n",
    "y_prob = round(result.predict(X)[8], 4)\n",
    "y_prob"
   ]
  },
  {
   "cell_type": "code",
   "execution_count": 111,
   "id": "bc8ba39b-0d89-4889-bb13-ad17c36ec6e0",
   "metadata": {
    "tags": []
   },
   "outputs": [
    {
     "name": "stdout",
     "output_type": "stream",
     "text": [
      "0\n"
     ]
    }
   ],
   "source": [
    "# 0.7 이하이므로 0 출력\n",
    "print(0)"
   ]
  },
  {
   "cell_type": "markdown",
   "id": "15736369-4b75-4265-a1c3-e0b04453c988",
   "metadata": {},
   "source": [
    "- (a) -0.808\n",
    "- (b)  0.854\n",
    "- (c) 0.5344, 0"
   ]
  },
  {
   "cell_type": "markdown",
   "id": "f8379b39-cb3d-427a-97e3-8b6baa118f31",
   "metadata": {},
   "source": [
    "## 09."
   ]
  },
  {
   "cell_type": "code",
   "execution_count": 1,
   "id": "c8e71253-cda7-4399-b349-a89033c762c5",
   "metadata": {
    "tags": []
   },
   "outputs": [],
   "source": [
    "# Bartlett 등분산 검정\n",
    "# 1: 스릴러, 2: 코미디, 3: 드라마, 4: 액션"
   ]
  },
  {
   "cell_type": "code",
   "execution_count": 2,
   "id": "fa260ab7-1303-41e0-b2d4-5cc1fcb15add",
   "metadata": {
    "tags": []
   },
   "outputs": [],
   "source": [
    "import pandas as pd\n",
    "import numpy as np\n",
    "from scipy.stats import bartlett"
   ]
  },
  {
   "cell_type": "code",
   "execution_count": 4,
   "id": "f8780491-6930-4ff3-811c-3f3f7743cab1",
   "metadata": {
    "tags": []
   },
   "outputs": [
    {
     "data": {
      "text/html": [
       "<div>\n",
       "<style scoped>\n",
       "    .dataframe tbody tr th:only-of-type {\n",
       "        vertical-align: middle;\n",
       "    }\n",
       "\n",
       "    .dataframe tbody tr th {\n",
       "        vertical-align: top;\n",
       "    }\n",
       "\n",
       "    .dataframe thead th {\n",
       "        text-align: right;\n",
       "    }\n",
       "</style>\n",
       "<table border=\"1\" class=\"dataframe\">\n",
       "  <thead>\n",
       "    <tr style=\"text-align: right;\">\n",
       "      <th></th>\n",
       "      <th>번호</th>\n",
       "      <th>홍보비</th>\n",
       "      <th>제작비</th>\n",
       "      <th>예산</th>\n",
       "      <th>영화길이_분</th>\n",
       "      <th>남자_주연_배우_순위</th>\n",
       "      <th>여_주연_배우_순위</th>\n",
       "      <th>디렉터_순위</th>\n",
       "      <th>프로듀서_순위</th>\n",
       "      <th>비평가_순위</th>\n",
       "      <th>트레일러_뷰수</th>\n",
       "      <th>3D_가능여부</th>\n",
       "      <th>트위터_해시태그_수</th>\n",
       "      <th>장르</th>\n",
       "      <th>배우_평균_나이</th>\n",
       "    </tr>\n",
       "  </thead>\n",
       "  <tbody>\n",
       "    <tr>\n",
       "      <th>0</th>\n",
       "      <td>2</td>\n",
       "      <td>20.1264</td>\n",
       "      <td>59.62</td>\n",
       "      <td>36524.125</td>\n",
       "      <td>138.7</td>\n",
       "      <td>7.825</td>\n",
       "      <td>8.095</td>\n",
       "      <td>7.910</td>\n",
       "      <td>7.995</td>\n",
       "      <td>7.94</td>\n",
       "      <td>527367</td>\n",
       "      <td>Y</td>\n",
       "      <td>223.840</td>\n",
       "      <td>Thriller</td>\n",
       "      <td>23</td>\n",
       "    </tr>\n",
       "    <tr>\n",
       "      <th>1</th>\n",
       "      <td>3</td>\n",
       "      <td>20.5462</td>\n",
       "      <td>69.14</td>\n",
       "      <td>35668.655</td>\n",
       "      <td>152.4</td>\n",
       "      <td>7.505</td>\n",
       "      <td>7.650</td>\n",
       "      <td>7.440</td>\n",
       "      <td>7.470</td>\n",
       "      <td>7.44</td>\n",
       "      <td>494055</td>\n",
       "      <td>N</td>\n",
       "      <td>243.456</td>\n",
       "      <td>Drama</td>\n",
       "      <td>42</td>\n",
       "    </tr>\n",
       "    <tr>\n",
       "      <th>2</th>\n",
       "      <td>4</td>\n",
       "      <td>20.5458</td>\n",
       "      <td>69.14</td>\n",
       "      <td>39912.675</td>\n",
       "      <td>134.6</td>\n",
       "      <td>7.485</td>\n",
       "      <td>7.570</td>\n",
       "      <td>7.495</td>\n",
       "      <td>7.515</td>\n",
       "      <td>7.44</td>\n",
       "      <td>547051</td>\n",
       "      <td>N</td>\n",
       "      <td>2022.400</td>\n",
       "      <td>Comedy</td>\n",
       "      <td>38</td>\n",
       "    </tr>\n",
       "    <tr>\n",
       "      <th>3</th>\n",
       "      <td>5</td>\n",
       "      <td>20.6474</td>\n",
       "      <td>59.36</td>\n",
       "      <td>38873.890</td>\n",
       "      <td>119.3</td>\n",
       "      <td>6.895</td>\n",
       "      <td>7.035</td>\n",
       "      <td>6.920</td>\n",
       "      <td>7.020</td>\n",
       "      <td>8.26</td>\n",
       "      <td>516279</td>\n",
       "      <td>Y</td>\n",
       "      <td>225.344</td>\n",
       "      <td>Drama</td>\n",
       "      <td>45</td>\n",
       "    </tr>\n",
       "    <tr>\n",
       "      <th>4</th>\n",
       "      <td>6</td>\n",
       "      <td>21.3810</td>\n",
       "      <td>59.36</td>\n",
       "      <td>39701.585</td>\n",
       "      <td>127.7</td>\n",
       "      <td>6.920</td>\n",
       "      <td>7.070</td>\n",
       "      <td>6.815</td>\n",
       "      <td>7.070</td>\n",
       "      <td>8.26</td>\n",
       "      <td>531448</td>\n",
       "      <td>N</td>\n",
       "      <td>225.792</td>\n",
       "      <td>Drama</td>\n",
       "      <td>55</td>\n",
       "    </tr>\n",
       "  </tbody>\n",
       "</table>\n",
       "</div>"
      ],
      "text/plain": [
       "   번호      홍보비    제작비         예산  영화길이_분  남자_주연_배우_순위  여_주연_배우_순위  디렉터_순위  \\\n",
       "0   2  20.1264  59.62  36524.125   138.7        7.825       8.095   7.910   \n",
       "1   3  20.5462  69.14  35668.655   152.4        7.505       7.650   7.440   \n",
       "2   4  20.5458  69.14  39912.675   134.6        7.485       7.570   7.495   \n",
       "3   5  20.6474  59.36  38873.890   119.3        6.895       7.035   6.920   \n",
       "4   6  21.3810  59.36  39701.585   127.7        6.920       7.070   6.815   \n",
       "\n",
       "   프로듀서_순위  비평가_순위  트레일러_뷰수 3D_가능여부  트위터_해시태그_수        장르  배우_평균_나이  \n",
       "0    7.995    7.94   527367       Y     223.840  Thriller        23  \n",
       "1    7.470    7.44   494055       N     243.456     Drama        42  \n",
       "2    7.515    7.44   547051       N    2022.400    Comedy        38  \n",
       "3    7.020    8.26   516279       Y     225.344     Drama        45  \n",
       "4    7.070    8.26   531448       N     225.792     Drama        55  "
      ]
     },
     "execution_count": 4,
     "metadata": {},
     "output_type": "execute_result"
    }
   ],
   "source": [
    "df9 = pd.read_csv('../data/연습문제/영화_순위리스트.csv', encoding = 'cp949')\n",
    "df9.head()"
   ]
  },
  {
   "cell_type": "code",
   "execution_count": 6,
   "id": "87337f4b-bdbb-4b4c-8b3c-c501291feace",
   "metadata": {
    "tags": []
   },
   "outputs": [
    {
     "data": {
      "text/plain": [
       "(506, 15)"
      ]
     },
     "execution_count": 6,
     "metadata": {},
     "output_type": "execute_result"
    }
   ],
   "source": [
    "df9.shape"
   ]
  },
  {
   "cell_type": "code",
   "execution_count": 7,
   "id": "64213077-eb1f-4405-bc5f-dd49f31ea100",
   "metadata": {
    "tags": []
   },
   "outputs": [
    {
     "name": "stdout",
     "output_type": "stream",
     "text": [
      "<class 'pandas.core.frame.DataFrame'>\n",
      "RangeIndex: 506 entries, 0 to 505\n",
      "Data columns (total 15 columns):\n",
      " #   Column       Non-Null Count  Dtype  \n",
      "---  ------       --------------  -----  \n",
      " 0   번호           506 non-null    int64  \n",
      " 1   홍보비          506 non-null    float64\n",
      " 2   제작비          506 non-null    float64\n",
      " 3   예산           506 non-null    float64\n",
      " 4   영화길이_분       506 non-null    float64\n",
      " 5   남자_주연_배우_순위  506 non-null    float64\n",
      " 6   여_주연_배우_순위   506 non-null    float64\n",
      " 7   디렉터_순위       506 non-null    float64\n",
      " 8   프로듀서_순위      506 non-null    float64\n",
      " 9   비평가_순위       506 non-null    float64\n",
      " 10  트레일러_뷰수      506 non-null    int64  \n",
      " 11  3D_가능여부      506 non-null    object \n",
      " 12  트위터_해시태그_수   506 non-null    float64\n",
      " 13  장르           506 non-null    object \n",
      " 14  배우_평균_나이     506 non-null    int64  \n",
      "dtypes: float64(10), int64(3), object(2)\n",
      "memory usage: 59.4+ KB\n"
     ]
    }
   ],
   "source": [
    "df9.info()"
   ]
  },
  {
   "cell_type": "code",
   "execution_count": 8,
   "id": "52d3f88f-20bd-4201-8ddf-801507f7ba5b",
   "metadata": {
    "tags": []
   },
   "outputs": [
    {
     "data": {
      "text/html": [
       "<div>\n",
       "<style scoped>\n",
       "    .dataframe tbody tr th:only-of-type {\n",
       "        vertical-align: middle;\n",
       "    }\n",
       "\n",
       "    .dataframe tbody tr th {\n",
       "        vertical-align: top;\n",
       "    }\n",
       "\n",
       "    .dataframe thead th {\n",
       "        text-align: right;\n",
       "    }\n",
       "</style>\n",
       "<table border=\"1\" class=\"dataframe\">\n",
       "  <thead>\n",
       "    <tr style=\"text-align: right;\">\n",
       "      <th></th>\n",
       "      <th>번호</th>\n",
       "      <th>홍보비</th>\n",
       "      <th>제작비</th>\n",
       "      <th>예산</th>\n",
       "      <th>영화길이_분</th>\n",
       "      <th>남자_주연_배우_순위</th>\n",
       "      <th>여_주연_배우_순위</th>\n",
       "      <th>디렉터_순위</th>\n",
       "      <th>프로듀서_순위</th>\n",
       "      <th>비평가_순위</th>\n",
       "      <th>트레일러_뷰수</th>\n",
       "      <th>트위터_해시태그_수</th>\n",
       "      <th>배우_평균_나이</th>\n",
       "    </tr>\n",
       "  </thead>\n",
       "  <tbody>\n",
       "    <tr>\n",
       "      <th>count</th>\n",
       "      <td>506.000000</td>\n",
       "      <td>506.000000</td>\n",
       "      <td>506.000000</td>\n",
       "      <td>506.000000</td>\n",
       "      <td>506.000000</td>\n",
       "      <td>506.000000</td>\n",
       "      <td>506.000000</td>\n",
       "      <td>506.000000</td>\n",
       "      <td>506.000000</td>\n",
       "      <td>506.000000</td>\n",
       "      <td>506.000000</td>\n",
       "      <td>506.000000</td>\n",
       "      <td>506.000000</td>\n",
       "    </tr>\n",
       "    <tr>\n",
       "      <th>mean</th>\n",
       "      <td>254.500000</td>\n",
       "      <td>92.270471</td>\n",
       "      <td>77.273557</td>\n",
       "      <td>34911.144022</td>\n",
       "      <td>142.074901</td>\n",
       "      <td>8.014002</td>\n",
       "      <td>8.185613</td>\n",
       "      <td>8.019664</td>\n",
       "      <td>8.190514</td>\n",
       "      <td>7.810870</td>\n",
       "      <td>449860.715415</td>\n",
       "      <td>260.832095</td>\n",
       "      <td>39.181818</td>\n",
       "    </tr>\n",
       "    <tr>\n",
       "      <th>std</th>\n",
       "      <td>146.213884</td>\n",
       "      <td>172.030902</td>\n",
       "      <td>13.720706</td>\n",
       "      <td>3903.038232</td>\n",
       "      <td>28.148861</td>\n",
       "      <td>1.054266</td>\n",
       "      <td>1.054290</td>\n",
       "      <td>1.059899</td>\n",
       "      <td>1.049601</td>\n",
       "      <td>0.659699</td>\n",
       "      <td>68917.763145</td>\n",
       "      <td>104.779133</td>\n",
       "      <td>12.513697</td>\n",
       "    </tr>\n",
       "    <tr>\n",
       "      <th>min</th>\n",
       "      <td>2.000000</td>\n",
       "      <td>20.126400</td>\n",
       "      <td>55.920000</td>\n",
       "      <td>19781.355000</td>\n",
       "      <td>76.400000</td>\n",
       "      <td>3.840000</td>\n",
       "      <td>4.035000</td>\n",
       "      <td>3.840000</td>\n",
       "      <td>4.030000</td>\n",
       "      <td>6.600000</td>\n",
       "      <td>212912.000000</td>\n",
       "      <td>201.152000</td>\n",
       "      <td>3.000000</td>\n",
       "    </tr>\n",
       "    <tr>\n",
       "      <th>25%</th>\n",
       "      <td>128.250000</td>\n",
       "      <td>21.640900</td>\n",
       "      <td>65.380000</td>\n",
       "      <td>32693.952500</td>\n",
       "      <td>118.525000</td>\n",
       "      <td>7.316250</td>\n",
       "      <td>7.503750</td>\n",
       "      <td>7.296250</td>\n",
       "      <td>7.507500</td>\n",
       "      <td>7.200000</td>\n",
       "      <td>409128.000000</td>\n",
       "      <td>223.796000</td>\n",
       "      <td>28.000000</td>\n",
       "    </tr>\n",
       "    <tr>\n",
       "      <th>50%</th>\n",
       "      <td>254.500000</td>\n",
       "      <td>25.130200</td>\n",
       "      <td>74.380000</td>\n",
       "      <td>34488.217500</td>\n",
       "      <td>151.000000</td>\n",
       "      <td>8.307500</td>\n",
       "      <td>8.495000</td>\n",
       "      <td>8.312500</td>\n",
       "      <td>8.465000</td>\n",
       "      <td>7.960000</td>\n",
       "      <td>462460.000000</td>\n",
       "      <td>254.400000</td>\n",
       "      <td>39.000000</td>\n",
       "    </tr>\n",
       "    <tr>\n",
       "      <th>75%</th>\n",
       "      <td>380.750000</td>\n",
       "      <td>93.541650</td>\n",
       "      <td>91.200000</td>\n",
       "      <td>36793.542500</td>\n",
       "      <td>167.575000</td>\n",
       "      <td>8.865000</td>\n",
       "      <td>9.030000</td>\n",
       "      <td>8.883750</td>\n",
       "      <td>9.030000</td>\n",
       "      <td>8.260000</td>\n",
       "      <td>500247.500000</td>\n",
       "      <td>283.416000</td>\n",
       "      <td>50.000000</td>\n",
       "    </tr>\n",
       "    <tr>\n",
       "      <th>max</th>\n",
       "      <td>507.000000</td>\n",
       "      <td>1799.524000</td>\n",
       "      <td>110.480000</td>\n",
       "      <td>48772.900000</td>\n",
       "      <td>173.500000</td>\n",
       "      <td>9.435000</td>\n",
       "      <td>9.540000</td>\n",
       "      <td>9.425000</td>\n",
       "      <td>9.635000</td>\n",
       "      <td>9.400000</td>\n",
       "      <td>567784.000000</td>\n",
       "      <td>2022.400000</td>\n",
       "      <td>60.000000</td>\n",
       "    </tr>\n",
       "  </tbody>\n",
       "</table>\n",
       "</div>"
      ],
      "text/plain": [
       "               번호          홍보비         제작비            예산      영화길이_분  \\\n",
       "count  506.000000   506.000000  506.000000    506.000000  506.000000   \n",
       "mean   254.500000    92.270471   77.273557  34911.144022  142.074901   \n",
       "std    146.213884   172.030902   13.720706   3903.038232   28.148861   \n",
       "min      2.000000    20.126400   55.920000  19781.355000   76.400000   \n",
       "25%    128.250000    21.640900   65.380000  32693.952500  118.525000   \n",
       "50%    254.500000    25.130200   74.380000  34488.217500  151.000000   \n",
       "75%    380.750000    93.541650   91.200000  36793.542500  167.575000   \n",
       "max    507.000000  1799.524000  110.480000  48772.900000  173.500000   \n",
       "\n",
       "       남자_주연_배우_순위  여_주연_배우_순위      디렉터_순위     프로듀서_순위      비평가_순위  \\\n",
       "count   506.000000  506.000000  506.000000  506.000000  506.000000   \n",
       "mean      8.014002    8.185613    8.019664    8.190514    7.810870   \n",
       "std       1.054266    1.054290    1.059899    1.049601    0.659699   \n",
       "min       3.840000    4.035000    3.840000    4.030000    6.600000   \n",
       "25%       7.316250    7.503750    7.296250    7.507500    7.200000   \n",
       "50%       8.307500    8.495000    8.312500    8.465000    7.960000   \n",
       "75%       8.865000    9.030000    8.883750    9.030000    8.260000   \n",
       "max       9.435000    9.540000    9.425000    9.635000    9.400000   \n",
       "\n",
       "             트레일러_뷰수   트위터_해시태그_수    배우_평균_나이  \n",
       "count     506.000000   506.000000  506.000000  \n",
       "mean   449860.715415   260.832095   39.181818  \n",
       "std     68917.763145   104.779133   12.513697  \n",
       "min    212912.000000   201.152000    3.000000  \n",
       "25%    409128.000000   223.796000   28.000000  \n",
       "50%    462460.000000   254.400000   39.000000  \n",
       "75%    500247.500000   283.416000   50.000000  \n",
       "max    567784.000000  2022.400000   60.000000  "
      ]
     },
     "execution_count": 8,
     "metadata": {},
     "output_type": "execute_result"
    }
   ],
   "source": [
    "df9.describe()"
   ]
  },
  {
   "cell_type": "code",
   "execution_count": 9,
   "id": "a3eca53a-e2d2-4c3a-9169-d1b2d6cce7a9",
   "metadata": {
    "tags": []
   },
   "outputs": [],
   "source": [
    "# 필요한 칼럼\n",
    "genre = df9['장르']\n",
    "budget = df9['예산']"
   ]
  },
  {
   "cell_type": "code",
   "execution_count": 11,
   "id": "4a5709c5-137b-4f24-8dd8-930afcbaa7f1",
   "metadata": {
    "tags": []
   },
   "outputs": [
    {
     "data": {
      "text/plain": [
       "array(['Thriller', 'Drama', 'Comedy', 'Action'], dtype=object)"
      ]
     },
     "execution_count": 11,
     "metadata": {},
     "output_type": "execute_result"
    }
   ],
   "source": [
    "# 장르별 예산 값 할당\n",
    "df9['장르'].unique()"
   ]
  },
  {
   "cell_type": "code",
   "execution_count": 13,
   "id": "4ce8583a-1449-4771-90c4-85c1f245b797",
   "metadata": {
    "tags": []
   },
   "outputs": [],
   "source": [
    "budget_thriller = budget[genre == 'Thriller']\n",
    "budget_drama = budget[genre == 'Drama']\n",
    "budget_comedy = budget[genre == 'Comedy']\n",
    "budget_action = budget[genre == 'Action']"
   ]
  },
  {
   "cell_type": "code",
   "execution_count": 17,
   "id": "233d7635-c1cd-458d-b96a-2b29601f782e",
   "metadata": {
    "tags": []
   },
   "outputs": [
    {
     "data": {
      "text/plain": [
       "[19227680.629636463,\n",
       " 16336651.644897908,\n",
       " 11179089.714121548,\n",
       " 12536888.164932422]"
      ]
     },
     "execution_count": 17,
     "metadata": {},
     "output_type": "execute_result"
    }
   ],
   "source": [
    "# (a) log(합동분산) >> log s^2_p 구하기 (소수 셋째자리까지) (여기서 log는 자연로그)\n",
    "var_i = [budget_thriller.var(), budget_drama.var(), budget_comedy.var(), budget_action.var()]\n",
    "var_i"
   ]
  },
  {
   "cell_type": "code",
   "execution_count": 18,
   "id": "f727fe5d-19e2-4d81-ac5b-b0f9455be1fe",
   "metadata": {
    "tags": []
   },
   "outputs": [
    {
     "data": {
      "text/plain": [
       "[183, 97, 155, 71]"
      ]
     },
     "execution_count": 18,
     "metadata": {},
     "output_type": "execute_result"
    }
   ],
   "source": [
    "# 집단별 관측치 수\n",
    "n_i= [len(budget_thriller), len(budget_drama), len(budget_comedy), len(budget_action)]\n",
    "n_i"
   ]
  },
  {
   "cell_type": "code",
   "execution_count": 22,
   "id": "eae918ef-7222-4a8b-9460-c0b433509c6a",
   "metadata": {
    "tags": []
   },
   "outputs": [
    {
     "data": {
      "text/plain": [
       "16.542"
      ]
     },
     "execution_count": 22,
     "metadata": {},
     "output_type": "execute_result"
    }
   ],
   "source": [
    "# log(합동분산) 계산\n",
    "N = sum(n_i)   # 전체 표본의 수\n",
    "k = 4          # 집단의 수\n",
    "n_i            # 집단의 관측치 수\n",
    "var_i          # 집단별 표본분산\n",
    "\n",
    "log_sp2 = np.log( sum(np.subtract(n_i, 1) * var_i) / (N - k) )\n",
    "log_sp2 = round(log_sp2, 3)\n",
    "log_sp2"
   ]
  },
  {
   "cell_type": "code",
   "execution_count": 23,
   "id": "84138de8-306d-466c-a93d-a34698077059",
   "metadata": {
    "tags": []
   },
   "outputs": [],
   "source": [
    "# (b) 검정통계량 구하기\n",
    "# Bartlett 테스트\n",
    "stat, pval = bartlett(budget_thriller, budget_drama, budget_comedy, budget_action)"
   ]
  },
  {
   "cell_type": "code",
   "execution_count": 24,
   "id": "c238d799-affb-4676-9c71-1d77f65a2549",
   "metadata": {
    "tags": []
   },
   "outputs": [
    {
     "data": {
      "text/plain": [
       "(13.44, 0.0038)"
      ]
     },
     "execution_count": 24,
     "metadata": {},
     "output_type": "execute_result"
    }
   ],
   "source": [
    "stat = round(stat, 2)\n",
    "pval = round(pval, 4)\n",
    "stat, pval"
   ]
  },
  {
   "cell_type": "markdown",
   "id": "d7d6779f-a09f-493a-bcb5-7594a3943b00",
   "metadata": {},
   "source": [
    "- (a) 16.542\n",
    "- (b) 13.44\n",
    "- (c) 0.0038, 기각"
   ]
  }
 ],
 "metadata": {
  "kernelspec": {
   "display_name": "Python 3 (ipykernel)",
   "language": "python",
   "name": "python3"
  },
  "language_info": {
   "codemirror_mode": {
    "name": "ipython",
    "version": 3
   },
   "file_extension": ".py",
   "mimetype": "text/x-python",
   "name": "python",
   "nbconvert_exporter": "python",
   "pygments_lexer": "ipython3",
   "version": "3.11.5"
  }
 },
 "nbformat": 4,
 "nbformat_minor": 5
}
