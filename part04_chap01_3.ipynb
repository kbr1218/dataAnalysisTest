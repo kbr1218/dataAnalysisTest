{
 "cells": [
  {
   "cell_type": "markdown",
   "id": "82345b18-fa13-4365-b85f-9881f0daceb4",
   "metadata": {},
   "source": [
    "## Part 04 머신러닝 - 1장 지도 학습 모형\n",
    "\n",
    "### 6절: K-최근접이웃\n",
    "- K-최근접이웃은 서브패키지 ```neighbors``` 내 클래스 ```KNeighborsClassifier()```, ```KNeighborsRegressor()``` 등을 통해 모형객체를 생성할 수 있음\n",
    "- KNeighborsClassifier는 이진분류와 다지분류, KNeighborsRegressor는 연속형 타겟변수에 사용됨\n",
    "\n",
    "<br>\n",
    "\n",
    "#### **1) KNeighborsClassifier**\n",
    "\n",
    "- 이진분류와 다지분류\n",
    "- ```sklearn.neighbors.KNeighborsClassifier(n_neighbors = 5, weights = 'uniform')```  \n",
    "   - **n_neighbors**: K(이웃의 수) (default = 5)\n",
    "   - **weights**: 가중치 함수(default = 'uniform')\n",
    "       - 'uniform': 균일가중치 (각 이웃의 모든 지점은 동일하게 가중치 부여)\n",
    "       - 'distance': 거리역수 (더 가까운 이웃이 멀리 있는 이웃보다 영향을 더 많이 줌)"
   ]
  },
  {
   "cell_type": "markdown",
   "id": "96e8d27e-24e1-4626-b1b0-953646d55d35",
   "metadata": {},
   "source": [
    "#### Q.\n",
    "사이킷런 패키지 내 breast_cancer 데이터를 호출한 후 학습 데이터와 평가 데이터로 분할하고 클래스 KNeighborsClassifier()를 통해 이진분류 모형객체를 생성하고 학습한 후 평가 데이터로 목푯값을 예측하고 성능을 측정하는 코드 작성하기 (단, 학습과 평가 데이터의 비율은 8:2로 하고, target의 비율을 반영하고 평가지표는 AUC 사용하기)"
   ]
  },
  {
   "cell_type": "code",
   "execution_count": 1,
   "id": "a9f93ccd-18d8-4ca1-a5b1-e264d7512558",
   "metadata": {
    "tags": []
   },
   "outputs": [],
   "source": [
    "# 클래스 함수 불러오기\n",
    "from sklearn.neighbors import KNeighborsClassifier\n",
    "from sklearn.model_selection import train_test_split"
   ]
  },
  {
   "cell_type": "code",
   "execution_count": 2,
   "id": "3076d04d-e76e-4b92-aa22-3836b496df17",
   "metadata": {
    "tags": []
   },
   "outputs": [],
   "source": [
    "# breast_cancer 데이터 가져오기\n",
    "from sklearn.datasets import load_breast_cancer\n",
    "breast_cancer = load_breast_cancer()\n",
    "data = breast_cancer.data\n",
    "target = breast_cancer.target"
   ]
  },
  {
   "cell_type": "code",
   "execution_count": 3,
   "id": "107c1b46-b214-4c65-a41d-74b24d689e70",
   "metadata": {
    "tags": []
   },
   "outputs": [],
   "source": [
    "# 데이터 분할\n",
    "X_train, X_test, y_train, y_test = train_test_split(data,\n",
    "                                                    target,\n",
    "                                                    test_size = 0.2,\n",
    "                                                    stratify = target,\n",
    "                                                    random_state = 2205)"
   ]
  },
  {
   "cell_type": "code",
   "execution_count": 4,
   "id": "b694bdf5-0b41-4e54-8b5a-9356179720ea",
   "metadata": {
    "tags": []
   },
   "outputs": [],
   "source": [
    "# 모형객체 생성\n",
    "knn_bin = KNeighborsClassifier(n_neighbors = 5, weights = 'distance')"
   ]
  },
  {
   "cell_type": "code",
   "execution_count": 5,
   "id": "b7a84141-a9cc-4707-9e0a-3dca485cf3c6",
   "metadata": {
    "tags": []
   },
   "outputs": [
    {
     "data": {
      "text/html": [
       "<style>#sk-container-id-1 {color: black;}#sk-container-id-1 pre{padding: 0;}#sk-container-id-1 div.sk-toggleable {background-color: white;}#sk-container-id-1 label.sk-toggleable__label {cursor: pointer;display: block;width: 100%;margin-bottom: 0;padding: 0.3em;box-sizing: border-box;text-align: center;}#sk-container-id-1 label.sk-toggleable__label-arrow:before {content: \"▸\";float: left;margin-right: 0.25em;color: #696969;}#sk-container-id-1 label.sk-toggleable__label-arrow:hover:before {color: black;}#sk-container-id-1 div.sk-estimator:hover label.sk-toggleable__label-arrow:before {color: black;}#sk-container-id-1 div.sk-toggleable__content {max-height: 0;max-width: 0;overflow: hidden;text-align: left;background-color: #f0f8ff;}#sk-container-id-1 div.sk-toggleable__content pre {margin: 0.2em;color: black;border-radius: 0.25em;background-color: #f0f8ff;}#sk-container-id-1 input.sk-toggleable__control:checked~div.sk-toggleable__content {max-height: 200px;max-width: 100%;overflow: auto;}#sk-container-id-1 input.sk-toggleable__control:checked~label.sk-toggleable__label-arrow:before {content: \"▾\";}#sk-container-id-1 div.sk-estimator input.sk-toggleable__control:checked~label.sk-toggleable__label {background-color: #d4ebff;}#sk-container-id-1 div.sk-label input.sk-toggleable__control:checked~label.sk-toggleable__label {background-color: #d4ebff;}#sk-container-id-1 input.sk-hidden--visually {border: 0;clip: rect(1px 1px 1px 1px);clip: rect(1px, 1px, 1px, 1px);height: 1px;margin: -1px;overflow: hidden;padding: 0;position: absolute;width: 1px;}#sk-container-id-1 div.sk-estimator {font-family: monospace;background-color: #f0f8ff;border: 1px dotted black;border-radius: 0.25em;box-sizing: border-box;margin-bottom: 0.5em;}#sk-container-id-1 div.sk-estimator:hover {background-color: #d4ebff;}#sk-container-id-1 div.sk-parallel-item::after {content: \"\";width: 100%;border-bottom: 1px solid gray;flex-grow: 1;}#sk-container-id-1 div.sk-label:hover label.sk-toggleable__label {background-color: #d4ebff;}#sk-container-id-1 div.sk-serial::before {content: \"\";position: absolute;border-left: 1px solid gray;box-sizing: border-box;top: 0;bottom: 0;left: 50%;z-index: 0;}#sk-container-id-1 div.sk-serial {display: flex;flex-direction: column;align-items: center;background-color: white;padding-right: 0.2em;padding-left: 0.2em;position: relative;}#sk-container-id-1 div.sk-item {position: relative;z-index: 1;}#sk-container-id-1 div.sk-parallel {display: flex;align-items: stretch;justify-content: center;background-color: white;position: relative;}#sk-container-id-1 div.sk-item::before, #sk-container-id-1 div.sk-parallel-item::before {content: \"\";position: absolute;border-left: 1px solid gray;box-sizing: border-box;top: 0;bottom: 0;left: 50%;z-index: -1;}#sk-container-id-1 div.sk-parallel-item {display: flex;flex-direction: column;z-index: 1;position: relative;background-color: white;}#sk-container-id-1 div.sk-parallel-item:first-child::after {align-self: flex-end;width: 50%;}#sk-container-id-1 div.sk-parallel-item:last-child::after {align-self: flex-start;width: 50%;}#sk-container-id-1 div.sk-parallel-item:only-child::after {width: 0;}#sk-container-id-1 div.sk-dashed-wrapped {border: 1px dashed gray;margin: 0 0.4em 0.5em 0.4em;box-sizing: border-box;padding-bottom: 0.4em;background-color: white;}#sk-container-id-1 div.sk-label label {font-family: monospace;font-weight: bold;display: inline-block;line-height: 1.2em;}#sk-container-id-1 div.sk-label-container {text-align: center;}#sk-container-id-1 div.sk-container {/* jupyter's `normalize.less` sets `[hidden] { display: none; }` but bootstrap.min.css set `[hidden] { display: none !important; }` so we also need the `!important` here to be able to override the default hidden behavior on the sphinx rendered scikit-learn.org. See: https://github.com/scikit-learn/scikit-learn/issues/21755 */display: inline-block !important;position: relative;}#sk-container-id-1 div.sk-text-repr-fallback {display: none;}</style><div id=\"sk-container-id-1\" class=\"sk-top-container\"><div class=\"sk-text-repr-fallback\"><pre>KNeighborsClassifier(weights=&#x27;distance&#x27;)</pre><b>In a Jupyter environment, please rerun this cell to show the HTML representation or trust the notebook. <br />On GitHub, the HTML representation is unable to render, please try loading this page with nbviewer.org.</b></div><div class=\"sk-container\" hidden><div class=\"sk-item\"><div class=\"sk-estimator sk-toggleable\"><input class=\"sk-toggleable__control sk-hidden--visually\" id=\"sk-estimator-id-1\" type=\"checkbox\" checked><label for=\"sk-estimator-id-1\" class=\"sk-toggleable__label sk-toggleable__label-arrow\">KNeighborsClassifier</label><div class=\"sk-toggleable__content\"><pre>KNeighborsClassifier(weights=&#x27;distance&#x27;)</pre></div></div></div></div></div>"
      ],
      "text/plain": [
       "KNeighborsClassifier(weights='distance')"
      ]
     },
     "execution_count": 5,
     "metadata": {},
     "output_type": "execute_result"
    }
   ],
   "source": [
    "# 모델학습\n",
    "model_knn_bin = knn_bin.fit(X_train, y_train)\n",
    "model_knn_bin"
   ]
  },
  {
   "cell_type": "code",
   "execution_count": 6,
   "id": "8c0121fc-d070-4a92-b45a-928af3278b95",
   "metadata": {
    "tags": []
   },
   "outputs": [],
   "source": [
    "# ROC\n",
    "from sklearn.metrics import roc_curve, auc\n",
    "y_score = model_knn_bin.predict_proba(X_test)[:, 1]"
   ]
  },
  {
   "cell_type": "code",
   "execution_count": 7,
   "id": "8a3e90fa-3912-4e85-ad18-b9eee9c5578e",
   "metadata": {
    "tags": []
   },
   "outputs": [
    {
     "name": "stdout",
     "output_type": "stream",
     "text": [
      "[0.         0.         0.         0.02380952 0.02380952 0.14285714\n",
      " 1.        ]\n",
      "[0.         0.80555556 0.97222222 0.97222222 1.         1.\n",
      " 1.        ]\n",
      "[       inf 1.         0.66003574 0.42169843 0.3666545  0.15513117\n",
      " 0.        ]\n"
     ]
    }
   ],
   "source": [
    "fpr, tpr, thresholds = roc_curve(y_test, y_score)\n",
    "print(fpr)\n",
    "print(tpr)\n",
    "print(thresholds)"
   ]
  },
  {
   "cell_type": "code",
   "execution_count": 8,
   "id": "6284f515-35be-4dc5-9142-af3825521a5d",
   "metadata": {
    "tags": []
   },
   "outputs": [
    {
     "data": {
      "text/plain": [
       "0.9993386243386244"
      ]
     },
     "execution_count": 8,
     "metadata": {},
     "output_type": "execute_result"
    }
   ],
   "source": [
    "# AUC\n",
    "AUC = auc(fpr, tpr)\n",
    "AUC"
   ]
  },
  {
   "cell_type": "markdown",
   "id": "e7abf597-ff32-4558-8592-b239a449935d",
   "metadata": {},
   "source": [
    "<br>\n",
    "\n",
    "#### Q.\n",
    "사이킷런 패키지 내 iris 데이터를 호출한 후 학습 데이터와 평가 데이터로 분할하고 클래스 KNeighborsClassifier()를 통해 다지분류 모형객체를 생성하고 학습한 후 평가 데이터로 목푯값을 예측하고 성능을 측정하는 코드 작성하기 (단, 학습과 평가 데이터의 비율은 8:2로 하고, target의 비율을 반영하고 평가지표는 macro f1-score를 사용하기)"
   ]
  },
  {
   "cell_type": "code",
   "execution_count": 9,
   "id": "cc8733c0-5443-4c06-b2eb-9f3795787263",
   "metadata": {
    "tags": []
   },
   "outputs": [],
   "source": [
    "# 클래스와 함수 불러오기\n",
    "from sklearn.neighbors import KNeighborsClassifier\n",
    "from sklearn.model_selection import train_test_split"
   ]
  },
  {
   "cell_type": "code",
   "execution_count": 10,
   "id": "4626b6fe-cfc1-4fc0-9f32-e90cb6b470c7",
   "metadata": {
    "tags": []
   },
   "outputs": [],
   "source": [
    "# iris 데이터셋 가져오기\n",
    "from sklearn.datasets import load_iris\n",
    "iris = load_iris()\n",
    "data = iris.data\n",
    "target = iris.target"
   ]
  },
  {
   "cell_type": "code",
   "execution_count": 11,
   "id": "9a23da95-8b69-46a5-ba0f-8cdcd86bd571",
   "metadata": {
    "tags": []
   },
   "outputs": [],
   "source": [
    "# 데이터 분할\n",
    "X_train, X_test, y_train, y_test = train_test_split(data,\n",
    "                                                    target,\n",
    "                                                    test_size = 0.2,\n",
    "                                                    stratify = target,\n",
    "                                                    random_state = 2205)"
   ]
  },
  {
   "cell_type": "code",
   "execution_count": 12,
   "id": "813e72c7-07ea-4ba4-8574-f7e6bca8fb9a",
   "metadata": {
    "tags": []
   },
   "outputs": [],
   "source": [
    "# 모형객체 생성\n",
    "knn_multi = KNeighborsClassifier(n_neighbors = 10, weights = 'distance')"
   ]
  },
  {
   "cell_type": "code",
   "execution_count": 13,
   "id": "49753409-7e47-41b4-bbfd-602b91dca05c",
   "metadata": {
    "tags": []
   },
   "outputs": [
    {
     "data": {
      "text/html": [
       "<style>#sk-container-id-2 {color: black;}#sk-container-id-2 pre{padding: 0;}#sk-container-id-2 div.sk-toggleable {background-color: white;}#sk-container-id-2 label.sk-toggleable__label {cursor: pointer;display: block;width: 100%;margin-bottom: 0;padding: 0.3em;box-sizing: border-box;text-align: center;}#sk-container-id-2 label.sk-toggleable__label-arrow:before {content: \"▸\";float: left;margin-right: 0.25em;color: #696969;}#sk-container-id-2 label.sk-toggleable__label-arrow:hover:before {color: black;}#sk-container-id-2 div.sk-estimator:hover label.sk-toggleable__label-arrow:before {color: black;}#sk-container-id-2 div.sk-toggleable__content {max-height: 0;max-width: 0;overflow: hidden;text-align: left;background-color: #f0f8ff;}#sk-container-id-2 div.sk-toggleable__content pre {margin: 0.2em;color: black;border-radius: 0.25em;background-color: #f0f8ff;}#sk-container-id-2 input.sk-toggleable__control:checked~div.sk-toggleable__content {max-height: 200px;max-width: 100%;overflow: auto;}#sk-container-id-2 input.sk-toggleable__control:checked~label.sk-toggleable__label-arrow:before {content: \"▾\";}#sk-container-id-2 div.sk-estimator input.sk-toggleable__control:checked~label.sk-toggleable__label {background-color: #d4ebff;}#sk-container-id-2 div.sk-label input.sk-toggleable__control:checked~label.sk-toggleable__label {background-color: #d4ebff;}#sk-container-id-2 input.sk-hidden--visually {border: 0;clip: rect(1px 1px 1px 1px);clip: rect(1px, 1px, 1px, 1px);height: 1px;margin: -1px;overflow: hidden;padding: 0;position: absolute;width: 1px;}#sk-container-id-2 div.sk-estimator {font-family: monospace;background-color: #f0f8ff;border: 1px dotted black;border-radius: 0.25em;box-sizing: border-box;margin-bottom: 0.5em;}#sk-container-id-2 div.sk-estimator:hover {background-color: #d4ebff;}#sk-container-id-2 div.sk-parallel-item::after {content: \"\";width: 100%;border-bottom: 1px solid gray;flex-grow: 1;}#sk-container-id-2 div.sk-label:hover label.sk-toggleable__label {background-color: #d4ebff;}#sk-container-id-2 div.sk-serial::before {content: \"\";position: absolute;border-left: 1px solid gray;box-sizing: border-box;top: 0;bottom: 0;left: 50%;z-index: 0;}#sk-container-id-2 div.sk-serial {display: flex;flex-direction: column;align-items: center;background-color: white;padding-right: 0.2em;padding-left: 0.2em;position: relative;}#sk-container-id-2 div.sk-item {position: relative;z-index: 1;}#sk-container-id-2 div.sk-parallel {display: flex;align-items: stretch;justify-content: center;background-color: white;position: relative;}#sk-container-id-2 div.sk-item::before, #sk-container-id-2 div.sk-parallel-item::before {content: \"\";position: absolute;border-left: 1px solid gray;box-sizing: border-box;top: 0;bottom: 0;left: 50%;z-index: -1;}#sk-container-id-2 div.sk-parallel-item {display: flex;flex-direction: column;z-index: 1;position: relative;background-color: white;}#sk-container-id-2 div.sk-parallel-item:first-child::after {align-self: flex-end;width: 50%;}#sk-container-id-2 div.sk-parallel-item:last-child::after {align-self: flex-start;width: 50%;}#sk-container-id-2 div.sk-parallel-item:only-child::after {width: 0;}#sk-container-id-2 div.sk-dashed-wrapped {border: 1px dashed gray;margin: 0 0.4em 0.5em 0.4em;box-sizing: border-box;padding-bottom: 0.4em;background-color: white;}#sk-container-id-2 div.sk-label label {font-family: monospace;font-weight: bold;display: inline-block;line-height: 1.2em;}#sk-container-id-2 div.sk-label-container {text-align: center;}#sk-container-id-2 div.sk-container {/* jupyter's `normalize.less` sets `[hidden] { display: none; }` but bootstrap.min.css set `[hidden] { display: none !important; }` so we also need the `!important` here to be able to override the default hidden behavior on the sphinx rendered scikit-learn.org. See: https://github.com/scikit-learn/scikit-learn/issues/21755 */display: inline-block !important;position: relative;}#sk-container-id-2 div.sk-text-repr-fallback {display: none;}</style><div id=\"sk-container-id-2\" class=\"sk-top-container\"><div class=\"sk-text-repr-fallback\"><pre>KNeighborsClassifier(n_neighbors=10, weights=&#x27;distance&#x27;)</pre><b>In a Jupyter environment, please rerun this cell to show the HTML representation or trust the notebook. <br />On GitHub, the HTML representation is unable to render, please try loading this page with nbviewer.org.</b></div><div class=\"sk-container\" hidden><div class=\"sk-item\"><div class=\"sk-estimator sk-toggleable\"><input class=\"sk-toggleable__control sk-hidden--visually\" id=\"sk-estimator-id-2\" type=\"checkbox\" checked><label for=\"sk-estimator-id-2\" class=\"sk-toggleable__label sk-toggleable__label-arrow\">KNeighborsClassifier</label><div class=\"sk-toggleable__content\"><pre>KNeighborsClassifier(n_neighbors=10, weights=&#x27;distance&#x27;)</pre></div></div></div></div></div>"
      ],
      "text/plain": [
       "KNeighborsClassifier(n_neighbors=10, weights='distance')"
      ]
     },
     "execution_count": 13,
     "metadata": {},
     "output_type": "execute_result"
    }
   ],
   "source": [
    "# 모델학습\n",
    "model_knn_multi = knn_multi.fit(X_train, y_train)\n",
    "model_knn_multi"
   ]
  },
  {
   "cell_type": "code",
   "execution_count": 16,
   "id": "a03510e4-700f-4451-930a-afbd8239a5fe",
   "metadata": {
    "tags": []
   },
   "outputs": [],
   "source": [
    "# macro f1-score\n",
    "from sklearn.metrics import f1_score\n",
    "y_pred = model_knn_multi.predict(X_test)"
   ]
  },
  {
   "cell_type": "code",
   "execution_count": 17,
   "id": "a5f5482a-84a2-4bda-adc5-b6275dc3f5a7",
   "metadata": {
    "tags": []
   },
   "outputs": [
    {
     "data": {
      "text/plain": [
       "1.0"
      ]
     },
     "execution_count": 17,
     "metadata": {},
     "output_type": "execute_result"
    }
   ],
   "source": [
    "macro_f1 = f1_score(y_test, y_pred, average='macro')\n",
    "macro_f1"
   ]
  },
  {
   "cell_type": "code",
   "execution_count": 18,
   "id": "294ab77c-5be4-4a6d-b714-fae9d39c3b04",
   "metadata": {
    "tags": []
   },
   "outputs": [],
   "source": [
    "# metrics.classification_report(y_true, y_pred) 함수 테스트해보기\n",
    "from sklearn.metrics import classification_report"
   ]
  },
  {
   "cell_type": "code",
   "execution_count": 19,
   "id": "ad8c2575-8ec4-4352-8589-0d0f85455b87",
   "metadata": {
    "tags": []
   },
   "outputs": [
    {
     "name": "stdout",
     "output_type": "stream",
     "text": [
      "              precision    recall  f1-score   support\n",
      "\n",
      "           0       1.00      1.00      1.00        10\n",
      "           1       1.00      1.00      1.00        10\n",
      "           2       1.00      1.00      1.00        10\n",
      "\n",
      "    accuracy                           1.00        30\n",
      "   macro avg       1.00      1.00      1.00        30\n",
      "weighted avg       1.00      1.00      1.00        30\n",
      "\n"
     ]
    }
   ],
   "source": [
    "report = classification_report(y_test, y_pred)\n",
    "print(report)"
   ]
  },
  {
   "cell_type": "markdown",
   "id": "b4882263-ab48-4840-94aa-7cd9087967bc",
   "metadata": {},
   "source": [
    "<br>\n",
    "\n",
    "#### **2) KNeighborsRegressor**\n",
    "\n",
    "- 이진분류와 다지분류\n",
    "- ```sklearn.neighbors.KNeighborsClassifier(n_neighbors = 5, weights = 'uniform')```  \n",
    "   - **n_neighbors**: K(이웃의 수) (default = 5)\n",
    "   - **weights**: 가중치 함수(default = 'uniform')\n",
    "       - 'uniform': 균일가중치 (각 이웃의 모든 지점은 동일하게 가중치 부여)\n",
    "       - 'distance': 거리역수 (더 가까운 이웃이 멀리 있는 이웃보다 영향을 더 많이 줌)"
   ]
  },
  {
   "cell_type": "markdown",
   "id": "09737ce8-ae44-458f-98b2-5202303898c6",
   "metadata": {},
   "source": [
    "#### Q.\n",
    "사이킷런 패키지 내 diabetes 데이터를 호출한 후 학습 데이터와 평가 데이터로 분할하고 클래스 KNeighborsRegressor()를 통해 연속형 예측 모형객체를 생성하고 학습한 후 평가 데이터로 목표값을 예측하고 성능을 측정하는 코드 작성하기 (단, 학습과 평가 데이터의 비율은 8:2로 하고 평가지표는 RMSE 사용하기)"
   ]
  },
  {
   "cell_type": "code",
   "execution_count": 20,
   "id": "ede1567d-7e0c-4d73-8926-c72d27b84760",
   "metadata": {
    "tags": []
   },
   "outputs": [],
   "source": [
    "# 클래스 함수 불러오기\n",
    "from sklearn.neighbors import KNeighborsRegressor\n",
    "from sklearn.model_selection import train_test_split"
   ]
  },
  {
   "cell_type": "code",
   "execution_count": 21,
   "id": "7b195686-1e04-4715-97be-f62144b8a392",
   "metadata": {
    "tags": []
   },
   "outputs": [],
   "source": [
    "# diabetes 데이터 가져오기\n",
    "from sklearn.datasets import load_diabetes\n",
    "diabetes = load_diabetes()\n",
    "data = diabetes.data\n",
    "target = diabetes.target"
   ]
  },
  {
   "cell_type": "code",
   "execution_count": 22,
   "id": "8a8e59b1-3803-4c3e-b18c-59f452a98894",
   "metadata": {
    "tags": []
   },
   "outputs": [],
   "source": [
    "# 데이터셋 분리\n",
    "X_train, X_test, y_train, y_test = train_test_split(data,\n",
    "                                                    target,\n",
    "                                                    test_size = 0.2,\n",
    "                                                    random_state = 2205)"
   ]
  },
  {
   "cell_type": "code",
   "execution_count": 25,
   "id": "9cd64e84-42af-4c1a-9c32-fa5ee5a8c2ca",
   "metadata": {
    "tags": []
   },
   "outputs": [],
   "source": [
    "# 모형객체 생성\n",
    "knn_conti = KNeighborsRegressor(n_neighbors = 5, weights = 'distance')"
   ]
  },
  {
   "cell_type": "code",
   "execution_count": 26,
   "id": "ff4c41e3-f324-44f9-b8ba-bdda3cbf4b67",
   "metadata": {
    "tags": []
   },
   "outputs": [
    {
     "data": {
      "text/html": [
       "<style>#sk-container-id-3 {color: black;}#sk-container-id-3 pre{padding: 0;}#sk-container-id-3 div.sk-toggleable {background-color: white;}#sk-container-id-3 label.sk-toggleable__label {cursor: pointer;display: block;width: 100%;margin-bottom: 0;padding: 0.3em;box-sizing: border-box;text-align: center;}#sk-container-id-3 label.sk-toggleable__label-arrow:before {content: \"▸\";float: left;margin-right: 0.25em;color: #696969;}#sk-container-id-3 label.sk-toggleable__label-arrow:hover:before {color: black;}#sk-container-id-3 div.sk-estimator:hover label.sk-toggleable__label-arrow:before {color: black;}#sk-container-id-3 div.sk-toggleable__content {max-height: 0;max-width: 0;overflow: hidden;text-align: left;background-color: #f0f8ff;}#sk-container-id-3 div.sk-toggleable__content pre {margin: 0.2em;color: black;border-radius: 0.25em;background-color: #f0f8ff;}#sk-container-id-3 input.sk-toggleable__control:checked~div.sk-toggleable__content {max-height: 200px;max-width: 100%;overflow: auto;}#sk-container-id-3 input.sk-toggleable__control:checked~label.sk-toggleable__label-arrow:before {content: \"▾\";}#sk-container-id-3 div.sk-estimator input.sk-toggleable__control:checked~label.sk-toggleable__label {background-color: #d4ebff;}#sk-container-id-3 div.sk-label input.sk-toggleable__control:checked~label.sk-toggleable__label {background-color: #d4ebff;}#sk-container-id-3 input.sk-hidden--visually {border: 0;clip: rect(1px 1px 1px 1px);clip: rect(1px, 1px, 1px, 1px);height: 1px;margin: -1px;overflow: hidden;padding: 0;position: absolute;width: 1px;}#sk-container-id-3 div.sk-estimator {font-family: monospace;background-color: #f0f8ff;border: 1px dotted black;border-radius: 0.25em;box-sizing: border-box;margin-bottom: 0.5em;}#sk-container-id-3 div.sk-estimator:hover {background-color: #d4ebff;}#sk-container-id-3 div.sk-parallel-item::after {content: \"\";width: 100%;border-bottom: 1px solid gray;flex-grow: 1;}#sk-container-id-3 div.sk-label:hover label.sk-toggleable__label {background-color: #d4ebff;}#sk-container-id-3 div.sk-serial::before {content: \"\";position: absolute;border-left: 1px solid gray;box-sizing: border-box;top: 0;bottom: 0;left: 50%;z-index: 0;}#sk-container-id-3 div.sk-serial {display: flex;flex-direction: column;align-items: center;background-color: white;padding-right: 0.2em;padding-left: 0.2em;position: relative;}#sk-container-id-3 div.sk-item {position: relative;z-index: 1;}#sk-container-id-3 div.sk-parallel {display: flex;align-items: stretch;justify-content: center;background-color: white;position: relative;}#sk-container-id-3 div.sk-item::before, #sk-container-id-3 div.sk-parallel-item::before {content: \"\";position: absolute;border-left: 1px solid gray;box-sizing: border-box;top: 0;bottom: 0;left: 50%;z-index: -1;}#sk-container-id-3 div.sk-parallel-item {display: flex;flex-direction: column;z-index: 1;position: relative;background-color: white;}#sk-container-id-3 div.sk-parallel-item:first-child::after {align-self: flex-end;width: 50%;}#sk-container-id-3 div.sk-parallel-item:last-child::after {align-self: flex-start;width: 50%;}#sk-container-id-3 div.sk-parallel-item:only-child::after {width: 0;}#sk-container-id-3 div.sk-dashed-wrapped {border: 1px dashed gray;margin: 0 0.4em 0.5em 0.4em;box-sizing: border-box;padding-bottom: 0.4em;background-color: white;}#sk-container-id-3 div.sk-label label {font-family: monospace;font-weight: bold;display: inline-block;line-height: 1.2em;}#sk-container-id-3 div.sk-label-container {text-align: center;}#sk-container-id-3 div.sk-container {/* jupyter's `normalize.less` sets `[hidden] { display: none; }` but bootstrap.min.css set `[hidden] { display: none !important; }` so we also need the `!important` here to be able to override the default hidden behavior on the sphinx rendered scikit-learn.org. See: https://github.com/scikit-learn/scikit-learn/issues/21755 */display: inline-block !important;position: relative;}#sk-container-id-3 div.sk-text-repr-fallback {display: none;}</style><div id=\"sk-container-id-3\" class=\"sk-top-container\"><div class=\"sk-text-repr-fallback\"><pre>KNeighborsRegressor(weights=&#x27;distance&#x27;)</pre><b>In a Jupyter environment, please rerun this cell to show the HTML representation or trust the notebook. <br />On GitHub, the HTML representation is unable to render, please try loading this page with nbviewer.org.</b></div><div class=\"sk-container\" hidden><div class=\"sk-item\"><div class=\"sk-estimator sk-toggleable\"><input class=\"sk-toggleable__control sk-hidden--visually\" id=\"sk-estimator-id-3\" type=\"checkbox\" checked><label for=\"sk-estimator-id-3\" class=\"sk-toggleable__label sk-toggleable__label-arrow\">KNeighborsRegressor</label><div class=\"sk-toggleable__content\"><pre>KNeighborsRegressor(weights=&#x27;distance&#x27;)</pre></div></div></div></div></div>"
      ],
      "text/plain": [
       "KNeighborsRegressor(weights='distance')"
      ]
     },
     "execution_count": 26,
     "metadata": {},
     "output_type": "execute_result"
    }
   ],
   "source": [
    "# 모델학습\n",
    "model_knn_conti = knn_conti.fit(X_train, y_train)\n",
    "model_knn_conti"
   ]
  },
  {
   "cell_type": "code",
   "execution_count": 27,
   "id": "91fb2add-b25d-467c-8f23-ece0ce3f2345",
   "metadata": {
    "tags": []
   },
   "outputs": [],
   "source": [
    "# RMSE\n",
    "from sklearn.metrics import mean_squared_error\n",
    "y_pred = model_knn_conti.predict(X_test)"
   ]
  },
  {
   "cell_type": "code",
   "execution_count": 29,
   "id": "abc65ea0-821d-4e02-adbd-b3868e00a1e8",
   "metadata": {
    "tags": []
   },
   "outputs": [
    {
     "data": {
      "text/plain": [
       "64.34103593204944"
      ]
     },
     "execution_count": 29,
     "metadata": {},
     "output_type": "execute_result"
    }
   ],
   "source": [
    "rmse = mean_squared_error(y_test, y_pred, squared=False)\n",
    "rmse"
   ]
  },
  {
   "cell_type": "code",
   "execution_count": 31,
   "id": "37adf95e-a873-4fc3-9f38-b78baca88f54",
   "metadata": {
    "tags": []
   },
   "outputs": [],
   "source": [
    "# +) MSE, MAE, MAPE도 계산해보기\n",
    "from sklearn.metrics import mean_absolute_error, mean_absolute_percentage_error"
   ]
  },
  {
   "cell_type": "code",
   "execution_count": 33,
   "id": "46a91f64-9f46-404f-af4b-93c59af8c772",
   "metadata": {
    "tags": []
   },
   "outputs": [
    {
     "data": {
      "text/plain": [
       "(4139.768904809277, 49.6256659421684, 0.41267715793622395)"
      ]
     },
     "execution_count": 33,
     "metadata": {},
     "output_type": "execute_result"
    }
   ],
   "source": [
    "mse = mean_squared_error(y_test, y_pred)\n",
    "mae = mean_absolute_error(y_test, y_pred)\n",
    "mape = mean_absolute_percentage_error(y_test, y_pred)\n",
    "\n",
    "mse, mae, mape"
   ]
  },
  {
   "cell_type": "markdown",
   "id": "45296fc5-b1ff-4763-97a2-ad5b9422e89f",
   "metadata": {},
   "source": [
    "<br><br><br>\n",
    "<hr>\n",
    "\n",
    "### 7절: 인공신경망\n",
    "- 인공신경망은 서브패키지 ```neural_network``` 내 클래스 ```MLPClassifier()```, ```MLPRegressor()``` 등을 통해 모형객체를 생성할 수 있음\n",
    "- MLPClassifier는 이진분류와 다지분류, MLPRegressor는 연속형 타겟변수에 사용됨\n",
    "\n",
    "<br>\n",
    "\n",
    "#### **1) MLPClassifier**\n",
    "\n",
    "- 이진분류와 다지분류\n",
    "- ```sklearn.neural_network.MLPClassifier(hidden_layer_sizes = (100, ), activation = 'relu', solver = 'adam', alpha = 0.0001, batch_size = 'auto', learning_rate_init = 0.001, max_iter = 200, ...)```  \n",
    "   - **hidden_layer_sizes** : 은닉층 크기로 튜플 (은닉층 수, 뉴런 수)의 형태로 입력 (default = (100, ))\n",
    "   - **activation** : 은닉층의 활성함수 (default = 'relu')\n",
    "      - 'identify' : f(x) = x\n",
    "      - 'logistic' : sigmoid, f(x) = 1/(1+exp(-x))\n",
    "      - 'tanh' : hyperbolic tangent, f(x) = tanh(x)\n",
    "      - 'relu' : ReLU, f(x) = max(0, x)\n",
    "   - **solver**: 가중치 최적화 방법으로 'lbfgs', 'sgd', 'adam'이 있음 (default = 'adam'\n",
    "   - **alpha**: L2 규제항에 곱하는 상수 (default = 0.0001)\n",
    "   - **batch_size**: 확률적 최적화를 위한 미니 배치 크기로, solver = 'lbgfs'일 땐 사용하지 않음 (default = 'auto'). 'auto'로 설정하면 min(200, 샘플 수)\n",
    "   - **learning_rate_init**: 학습율 초깃값 (default = 0.001)\n",
    "   - **max_iter**: 에폭 횟수(default = 200)"
   ]
  },
  {
   "cell_type": "markdown",
   "id": "2d185568-bace-48ef-969b-82ad84d018e7",
   "metadata": {},
   "source": [
    "#### Q.\n",
    "사이킷런 패키지 내 breast_cancer 데이터를 호출한 후 학습 데이터와 평가 데이터로 분할하고 클래스 MLPClassifier()를 통해 이진분류 모형객체를 생성하고 학습한 후 평가 데이터로 목표값을 예측하고 성능을 측정하는 코드 작성하기 (단, 학습과 평가 데이터의 비율은 8:2로 하고, target의 비율을 반영하고 평가지표는 AUC 사용하기)"
   ]
  },
  {
   "cell_type": "code",
   "execution_count": 34,
   "id": "1896cb9c-c6d7-438c-9576-b0661531558e",
   "metadata": {
    "tags": []
   },
   "outputs": [],
   "source": [
    "# 클래스, 함수 불러오기\n",
    "from sklearn.neural_network import MLPClassifier\n",
    "from sklearn.model_selection import train_test_split"
   ]
  },
  {
   "cell_type": "code",
   "execution_count": 35,
   "id": "d1e7cb2b-c353-4c7e-ac0f-23668f47023d",
   "metadata": {
    "tags": []
   },
   "outputs": [],
   "source": [
    "# breast_cancer 데이터 가져오기\n",
    "from sklearn.datasets import load_breast_cancer\n",
    "breast_cancer = load_breast_cancer()\n",
    "data = breast_cancer.data\n",
    "target = breast_cancer.target"
   ]
  },
  {
   "cell_type": "code",
   "execution_count": 36,
   "id": "0d58dd21-968b-4bd9-892e-d0987fa1ebdd",
   "metadata": {
    "tags": []
   },
   "outputs": [],
   "source": [
    "# 데이터 분할하기\n",
    "X_train, X_test, y_train, y_test = train_test_split(data,\n",
    "                                                    target,\n",
    "                                                    test_size = 0.2,\n",
    "                                                    stratify = target,\n",
    "                                                    random_state = 2205)"
   ]
  },
  {
   "cell_type": "code",
   "execution_count": 37,
   "id": "8d39bd6c-f9b3-46ba-9066-cb3640d00d45",
   "metadata": {
    "tags": []
   },
   "outputs": [],
   "source": [
    "# 모형객체 생성\n",
    "ann_bin = MLPClassifier(alpha = 0.5,\n",
    "                        max_iter = 500,\n",
    "                        random_state = 2022)"
   ]
  },
  {
   "cell_type": "code",
   "execution_count": 38,
   "id": "d7f90f07-e902-460a-8549-34c830b4e449",
   "metadata": {
    "tags": []
   },
   "outputs": [
    {
     "data": {
      "text/html": [
       "<style>#sk-container-id-4 {color: black;}#sk-container-id-4 pre{padding: 0;}#sk-container-id-4 div.sk-toggleable {background-color: white;}#sk-container-id-4 label.sk-toggleable__label {cursor: pointer;display: block;width: 100%;margin-bottom: 0;padding: 0.3em;box-sizing: border-box;text-align: center;}#sk-container-id-4 label.sk-toggleable__label-arrow:before {content: \"▸\";float: left;margin-right: 0.25em;color: #696969;}#sk-container-id-4 label.sk-toggleable__label-arrow:hover:before {color: black;}#sk-container-id-4 div.sk-estimator:hover label.sk-toggleable__label-arrow:before {color: black;}#sk-container-id-4 div.sk-toggleable__content {max-height: 0;max-width: 0;overflow: hidden;text-align: left;background-color: #f0f8ff;}#sk-container-id-4 div.sk-toggleable__content pre {margin: 0.2em;color: black;border-radius: 0.25em;background-color: #f0f8ff;}#sk-container-id-4 input.sk-toggleable__control:checked~div.sk-toggleable__content {max-height: 200px;max-width: 100%;overflow: auto;}#sk-container-id-4 input.sk-toggleable__control:checked~label.sk-toggleable__label-arrow:before {content: \"▾\";}#sk-container-id-4 div.sk-estimator input.sk-toggleable__control:checked~label.sk-toggleable__label {background-color: #d4ebff;}#sk-container-id-4 div.sk-label input.sk-toggleable__control:checked~label.sk-toggleable__label {background-color: #d4ebff;}#sk-container-id-4 input.sk-hidden--visually {border: 0;clip: rect(1px 1px 1px 1px);clip: rect(1px, 1px, 1px, 1px);height: 1px;margin: -1px;overflow: hidden;padding: 0;position: absolute;width: 1px;}#sk-container-id-4 div.sk-estimator {font-family: monospace;background-color: #f0f8ff;border: 1px dotted black;border-radius: 0.25em;box-sizing: border-box;margin-bottom: 0.5em;}#sk-container-id-4 div.sk-estimator:hover {background-color: #d4ebff;}#sk-container-id-4 div.sk-parallel-item::after {content: \"\";width: 100%;border-bottom: 1px solid gray;flex-grow: 1;}#sk-container-id-4 div.sk-label:hover label.sk-toggleable__label {background-color: #d4ebff;}#sk-container-id-4 div.sk-serial::before {content: \"\";position: absolute;border-left: 1px solid gray;box-sizing: border-box;top: 0;bottom: 0;left: 50%;z-index: 0;}#sk-container-id-4 div.sk-serial {display: flex;flex-direction: column;align-items: center;background-color: white;padding-right: 0.2em;padding-left: 0.2em;position: relative;}#sk-container-id-4 div.sk-item {position: relative;z-index: 1;}#sk-container-id-4 div.sk-parallel {display: flex;align-items: stretch;justify-content: center;background-color: white;position: relative;}#sk-container-id-4 div.sk-item::before, #sk-container-id-4 div.sk-parallel-item::before {content: \"\";position: absolute;border-left: 1px solid gray;box-sizing: border-box;top: 0;bottom: 0;left: 50%;z-index: -1;}#sk-container-id-4 div.sk-parallel-item {display: flex;flex-direction: column;z-index: 1;position: relative;background-color: white;}#sk-container-id-4 div.sk-parallel-item:first-child::after {align-self: flex-end;width: 50%;}#sk-container-id-4 div.sk-parallel-item:last-child::after {align-self: flex-start;width: 50%;}#sk-container-id-4 div.sk-parallel-item:only-child::after {width: 0;}#sk-container-id-4 div.sk-dashed-wrapped {border: 1px dashed gray;margin: 0 0.4em 0.5em 0.4em;box-sizing: border-box;padding-bottom: 0.4em;background-color: white;}#sk-container-id-4 div.sk-label label {font-family: monospace;font-weight: bold;display: inline-block;line-height: 1.2em;}#sk-container-id-4 div.sk-label-container {text-align: center;}#sk-container-id-4 div.sk-container {/* jupyter's `normalize.less` sets `[hidden] { display: none; }` but bootstrap.min.css set `[hidden] { display: none !important; }` so we also need the `!important` here to be able to override the default hidden behavior on the sphinx rendered scikit-learn.org. See: https://github.com/scikit-learn/scikit-learn/issues/21755 */display: inline-block !important;position: relative;}#sk-container-id-4 div.sk-text-repr-fallback {display: none;}</style><div id=\"sk-container-id-4\" class=\"sk-top-container\"><div class=\"sk-text-repr-fallback\"><pre>MLPClassifier(alpha=0.5, max_iter=500, random_state=2022)</pre><b>In a Jupyter environment, please rerun this cell to show the HTML representation or trust the notebook. <br />On GitHub, the HTML representation is unable to render, please try loading this page with nbviewer.org.</b></div><div class=\"sk-container\" hidden><div class=\"sk-item\"><div class=\"sk-estimator sk-toggleable\"><input class=\"sk-toggleable__control sk-hidden--visually\" id=\"sk-estimator-id-4\" type=\"checkbox\" checked><label for=\"sk-estimator-id-4\" class=\"sk-toggleable__label sk-toggleable__label-arrow\">MLPClassifier</label><div class=\"sk-toggleable__content\"><pre>MLPClassifier(alpha=0.5, max_iter=500, random_state=2022)</pre></div></div></div></div></div>"
      ],
      "text/plain": [
       "MLPClassifier(alpha=0.5, max_iter=500, random_state=2022)"
      ]
     },
     "execution_count": 38,
     "metadata": {},
     "output_type": "execute_result"
    }
   ],
   "source": [
    "# 모델학습\n",
    "model_ann_bin = ann_bin.fit(X_train, y_train)\n",
    "model_ann_bin"
   ]
  },
  {
   "cell_type": "code",
   "execution_count": 39,
   "id": "8b4c1d00-0601-448b-8fa2-dd6cf6806741",
   "metadata": {
    "tags": []
   },
   "outputs": [],
   "source": [
    "# ROC\n",
    "from sklearn.metrics import roc_curve, auc\n",
    "y_score = model_ann_bin.predict_proba(X_test)[:, 1]"
   ]
  },
  {
   "cell_type": "code",
   "execution_count": 41,
   "id": "b410c778-5fa8-4e11-96ae-71d61e2f032e",
   "metadata": {
    "tags": []
   },
   "outputs": [
    {
     "name": "stdout",
     "output_type": "stream",
     "text": [
      "[0.         0.         0.         0.02380952 0.02380952 1.        ]\n",
      "[0.         0.01388889 0.98611111 0.98611111 1.         1.        ]\n",
      "[           inf 9.93145438e-01 8.10591147e-01 5.90893041e-01\n",
      " 5.36734427e-01 1.79048852e-30]\n"
     ]
    }
   ],
   "source": [
    "fpr, tpr, thresholds = roc_curve(y_test, y_score)\n",
    "print(fpr)\n",
    "print(tpr)\n",
    "print(thresholds)"
   ]
  },
  {
   "cell_type": "code",
   "execution_count": 42,
   "id": "ca7ee0fc-35e4-4dd7-8ae9-96deb2f1f61f",
   "metadata": {
    "tags": []
   },
   "outputs": [
    {
     "data": {
      "text/plain": [
       "0.9996693121693121"
      ]
     },
     "execution_count": 42,
     "metadata": {},
     "output_type": "execute_result"
    }
   ],
   "source": [
    "# AUC\n",
    "AUC = auc(fpr, tpr)\n",
    "AUC"
   ]
  },
  {
   "cell_type": "markdown",
   "id": "52a736d6-efaf-43e6-9395-4124a474fc93",
   "metadata": {},
   "source": [
    "<br><br>\n",
    "\n",
    "#### Q.\n",
    "사이킷런 패키지 내 iris 데이터를 호출한 후 학습 데이터와 평가 데이터로 분할하고 클래스 MLPClassifier()를 통해 다지분류 모형객체를 생성하고 학습한 후 평가 데이터로 목표값을 예측하고 성능을 측정하는 코드 작성하기 (단, 학습과 평가 데이터의 비율은 8:2로 하고, target의 비율을 반영하고 평가지표는 macro f1-score 사용하기)"
   ]
  },
  {
   "cell_type": "code",
   "execution_count": 44,
   "id": "a37ba98f-4cce-4381-bdb7-6e22d03ac52a",
   "metadata": {
    "tags": []
   },
   "outputs": [],
   "source": [
    "# 클래스 함수 불러오기\n",
    "from sklearn.neural_network import MLPClassifier\n",
    "from sklearn.model_selection import train_test_split"
   ]
  },
  {
   "cell_type": "code",
   "execution_count": 45,
   "id": "03bc03f9-2f92-479e-aa1c-e1252bad2b3a",
   "metadata": {
    "tags": []
   },
   "outputs": [],
   "source": [
    "# iris 데이터 가져오기\n",
    "from sklearn.datasets import load_iris\n",
    "iris = load_iris()\n",
    "data = iris.data\n",
    "target = iris.target"
   ]
  },
  {
   "cell_type": "code",
   "execution_count": 46,
   "id": "5170154a-4cab-4182-b735-134d0f385450",
   "metadata": {
    "tags": []
   },
   "outputs": [],
   "source": [
    "# 데이터 분할하기\n",
    "X_train, X_test, y_train, y_test = train_test_split(data,\n",
    "                                                    target,\n",
    "                                                    test_size = 0.2,\n",
    "                                                    stratify = target,\n",
    "                                                    random_state = 2205)"
   ]
  },
  {
   "cell_type": "code",
   "execution_count": 47,
   "id": "aea681a9-8c11-4777-82f1-b6cd2fb9750a",
   "metadata": {
    "tags": []
   },
   "outputs": [],
   "source": [
    "# 모형객체 생성\n",
    "ann_multi = MLPClassifier(random_state = 2022, max_iter = 600)"
   ]
  },
  {
   "cell_type": "code",
   "execution_count": 48,
   "id": "c1e14624-75bd-4a26-8839-e45cff3f4539",
   "metadata": {
    "tags": []
   },
   "outputs": [
    {
     "data": {
      "text/html": [
       "<style>#sk-container-id-5 {color: black;}#sk-container-id-5 pre{padding: 0;}#sk-container-id-5 div.sk-toggleable {background-color: white;}#sk-container-id-5 label.sk-toggleable__label {cursor: pointer;display: block;width: 100%;margin-bottom: 0;padding: 0.3em;box-sizing: border-box;text-align: center;}#sk-container-id-5 label.sk-toggleable__label-arrow:before {content: \"▸\";float: left;margin-right: 0.25em;color: #696969;}#sk-container-id-5 label.sk-toggleable__label-arrow:hover:before {color: black;}#sk-container-id-5 div.sk-estimator:hover label.sk-toggleable__label-arrow:before {color: black;}#sk-container-id-5 div.sk-toggleable__content {max-height: 0;max-width: 0;overflow: hidden;text-align: left;background-color: #f0f8ff;}#sk-container-id-5 div.sk-toggleable__content pre {margin: 0.2em;color: black;border-radius: 0.25em;background-color: #f0f8ff;}#sk-container-id-5 input.sk-toggleable__control:checked~div.sk-toggleable__content {max-height: 200px;max-width: 100%;overflow: auto;}#sk-container-id-5 input.sk-toggleable__control:checked~label.sk-toggleable__label-arrow:before {content: \"▾\";}#sk-container-id-5 div.sk-estimator input.sk-toggleable__control:checked~label.sk-toggleable__label {background-color: #d4ebff;}#sk-container-id-5 div.sk-label input.sk-toggleable__control:checked~label.sk-toggleable__label {background-color: #d4ebff;}#sk-container-id-5 input.sk-hidden--visually {border: 0;clip: rect(1px 1px 1px 1px);clip: rect(1px, 1px, 1px, 1px);height: 1px;margin: -1px;overflow: hidden;padding: 0;position: absolute;width: 1px;}#sk-container-id-5 div.sk-estimator {font-family: monospace;background-color: #f0f8ff;border: 1px dotted black;border-radius: 0.25em;box-sizing: border-box;margin-bottom: 0.5em;}#sk-container-id-5 div.sk-estimator:hover {background-color: #d4ebff;}#sk-container-id-5 div.sk-parallel-item::after {content: \"\";width: 100%;border-bottom: 1px solid gray;flex-grow: 1;}#sk-container-id-5 div.sk-label:hover label.sk-toggleable__label {background-color: #d4ebff;}#sk-container-id-5 div.sk-serial::before {content: \"\";position: absolute;border-left: 1px solid gray;box-sizing: border-box;top: 0;bottom: 0;left: 50%;z-index: 0;}#sk-container-id-5 div.sk-serial {display: flex;flex-direction: column;align-items: center;background-color: white;padding-right: 0.2em;padding-left: 0.2em;position: relative;}#sk-container-id-5 div.sk-item {position: relative;z-index: 1;}#sk-container-id-5 div.sk-parallel {display: flex;align-items: stretch;justify-content: center;background-color: white;position: relative;}#sk-container-id-5 div.sk-item::before, #sk-container-id-5 div.sk-parallel-item::before {content: \"\";position: absolute;border-left: 1px solid gray;box-sizing: border-box;top: 0;bottom: 0;left: 50%;z-index: -1;}#sk-container-id-5 div.sk-parallel-item {display: flex;flex-direction: column;z-index: 1;position: relative;background-color: white;}#sk-container-id-5 div.sk-parallel-item:first-child::after {align-self: flex-end;width: 50%;}#sk-container-id-5 div.sk-parallel-item:last-child::after {align-self: flex-start;width: 50%;}#sk-container-id-5 div.sk-parallel-item:only-child::after {width: 0;}#sk-container-id-5 div.sk-dashed-wrapped {border: 1px dashed gray;margin: 0 0.4em 0.5em 0.4em;box-sizing: border-box;padding-bottom: 0.4em;background-color: white;}#sk-container-id-5 div.sk-label label {font-family: monospace;font-weight: bold;display: inline-block;line-height: 1.2em;}#sk-container-id-5 div.sk-label-container {text-align: center;}#sk-container-id-5 div.sk-container {/* jupyter's `normalize.less` sets `[hidden] { display: none; }` but bootstrap.min.css set `[hidden] { display: none !important; }` so we also need the `!important` here to be able to override the default hidden behavior on the sphinx rendered scikit-learn.org. See: https://github.com/scikit-learn/scikit-learn/issues/21755 */display: inline-block !important;position: relative;}#sk-container-id-5 div.sk-text-repr-fallback {display: none;}</style><div id=\"sk-container-id-5\" class=\"sk-top-container\"><div class=\"sk-text-repr-fallback\"><pre>MLPClassifier(max_iter=600, random_state=2022)</pre><b>In a Jupyter environment, please rerun this cell to show the HTML representation or trust the notebook. <br />On GitHub, the HTML representation is unable to render, please try loading this page with nbviewer.org.</b></div><div class=\"sk-container\" hidden><div class=\"sk-item\"><div class=\"sk-estimator sk-toggleable\"><input class=\"sk-toggleable__control sk-hidden--visually\" id=\"sk-estimator-id-5\" type=\"checkbox\" checked><label for=\"sk-estimator-id-5\" class=\"sk-toggleable__label sk-toggleable__label-arrow\">MLPClassifier</label><div class=\"sk-toggleable__content\"><pre>MLPClassifier(max_iter=600, random_state=2022)</pre></div></div></div></div></div>"
      ],
      "text/plain": [
       "MLPClassifier(max_iter=600, random_state=2022)"
      ]
     },
     "execution_count": 48,
     "metadata": {},
     "output_type": "execute_result"
    }
   ],
   "source": [
    "# 모델학습\n",
    "model_ann_multi = ann_multi.fit(X_train, y_train)\n",
    "model_ann_multi"
   ]
  },
  {
   "cell_type": "code",
   "execution_count": 49,
   "id": "7299eb84-cf6f-45b5-8da0-996021d855f6",
   "metadata": {
    "tags": []
   },
   "outputs": [],
   "source": [
    "# macro f1-score\n",
    "from sklearn.metrics import f1_score\n",
    "y_pred = model_ann_multi.predict(X_test)"
   ]
  },
  {
   "cell_type": "code",
   "execution_count": 50,
   "id": "21dfdc65-2983-48cc-9cb9-a2a1be6669f6",
   "metadata": {
    "tags": []
   },
   "outputs": [
    {
     "data": {
      "text/plain": [
       "1.0"
      ]
     },
     "execution_count": 50,
     "metadata": {},
     "output_type": "execute_result"
    }
   ],
   "source": [
    "macro_f1 = f1_score(y_test, y_pred, average = 'macro')\n",
    "macro_f1"
   ]
  },
  {
   "cell_type": "code",
   "execution_count": 51,
   "id": "1860644d-4a05-4848-9164-2b95031215c6",
   "metadata": {
    "tags": []
   },
   "outputs": [],
   "source": [
    "# metrics.classification_report(y_true, y_pred) 함수 테스트해보기\n",
    "from sklearn.metrics import classification_report"
   ]
  },
  {
   "cell_type": "code",
   "execution_count": 52,
   "id": "f42001d2-5d2f-4990-acb0-76d0e384487d",
   "metadata": {
    "tags": []
   },
   "outputs": [
    {
     "name": "stdout",
     "output_type": "stream",
     "text": [
      "              precision    recall  f1-score   support\n",
      "\n",
      "           0       1.00      1.00      1.00        10\n",
      "           1       1.00      1.00      1.00        10\n",
      "           2       1.00      1.00      1.00        10\n",
      "\n",
      "    accuracy                           1.00        30\n",
      "   macro avg       1.00      1.00      1.00        30\n",
      "weighted avg       1.00      1.00      1.00        30\n",
      "\n"
     ]
    }
   ],
   "source": [
    "report = classification_report(y_test, y_pred)\n",
    "print(report)"
   ]
  },
  {
   "cell_type": "markdown",
   "id": "9c2ee09c-04e1-4c9f-81ad-2d0844a54f09",
   "metadata": {},
   "source": [
    "<br><br>\n",
    "\n",
    "#### **2) MLPRegressor**\n",
    "\n",
    "- 연속형 타겟변수\n",
    "- ```sklearn.neural_network.MLPRegressor(hidden_layer_sizes = (100, ), activation = 'relu', solver = 'adam', alpha = 0.0001, batch_size = 'auto', learning_rate_init = 0.001, max_iter = 200, ...)```  \n",
    "   - **hidden_layer_sizes** : 은닉층 크기로 튜플 (은닉층 수, 뉴런 수)의 형태로 입력 (default = (100, ))\n",
    "   - **activation** : 은닉층의 활성함수 (default = 'relu')\n",
    "      - 'identify' : f(x) = x\n",
    "      - 'logistic' : sigmoid, f(x) = 1/(1+exp(-x))\n",
    "      - 'tanh' : hyperbolic tangent, f(x) = tanh(x)\n",
    "      - 'relu' : ReLU, f(x) = max(0, x)\n",
    "   - **solver**: 가중치 최적화 방법으로 'lbfgs', 'sgd', 'adam'이 있음 (default = 'adam')\n",
    "   - **alpha**: L2 규제항에 곱하는 상수 (default = 0.0001)\n",
    "   - **batch_size**: 확률적 최적화를 위한 미니 배치 크기로, solver = 'lbgfs'일 땐 사용하지 않음 (default = 'auto'). 'auto'로 설정하면 min(200, 샘플 수)\n",
    "   - **learning_rate_init**: 학습율 초깃값 (default = 0.001)\n",
    "   - **max_iter**: 에폭 횟수(default = 200)"
   ]
  },
  {
   "cell_type": "markdown",
   "id": "95e2ddf8-56cd-479f-86de-0bfb506781f1",
   "metadata": {},
   "source": [
    "#### Q.\n",
    "사이킷런 패키지 내 diabetes 데이터를 호출한 후 학습 데이터와 평가 데이터로 분할하고 클래스 MLPRegressor()를 통해 연속형 예측 모형객체를 생성하고 학습한 후 평가 데이터로 목표값을 예측하고 성능을 측정하는 코드 작성하기 (단, 학습과 평가 데이터의 비율은 8:2로 하고, 평가지표는 RMSE 사용하기)"
   ]
  },
  {
   "cell_type": "code",
   "execution_count": 53,
   "id": "a70b9e2c-109a-440b-86ba-e8aa3b49a5bf",
   "metadata": {
    "tags": []
   },
   "outputs": [],
   "source": [
    "# 클래스 함수 불러오기\n",
    "from sklearn.neural_network import MLPRegressor\n",
    "from sklearn.model_selection import train_test_split"
   ]
  },
  {
   "cell_type": "code",
   "execution_count": 54,
   "id": "9b30b7fe-5ef4-4315-97d6-c1e35cbeade5",
   "metadata": {
    "tags": []
   },
   "outputs": [],
   "source": [
    "# diabetes 데이터 가져오기\n",
    "from sklearn.datasets import load_diabetes\n",
    "diabetes = load_diabetes()\n",
    "data = diabetes.data\n",
    "target = diabetes.target"
   ]
  },
  {
   "cell_type": "code",
   "execution_count": 55,
   "id": "a8c95c98-f8f7-4e65-a8ed-9554e9cd3fe8",
   "metadata": {
    "tags": []
   },
   "outputs": [],
   "source": [
    "# 데이터 분할하기\n",
    "X_train, X_test, y_train, y_test = train_test_split(data, \n",
    "                                                    target,\n",
    "                                                    test_size = 0.2, \n",
    "                                                    random_state = 2205)"
   ]
  },
  {
   "cell_type": "code",
   "execution_count": 56,
   "id": "9181b738-d6af-4bc8-a7cf-47beda39bc42",
   "metadata": {
    "tags": []
   },
   "outputs": [],
   "source": [
    "# 모형객체\n",
    "ann_conti = MLPRegressor(alpha = 0.5,\n",
    "                         max_iter = 10000,\n",
    "                         random_state = 2022)"
   ]
  },
  {
   "cell_type": "code",
   "execution_count": 58,
   "id": "ff4e4e32-fd9a-4e63-a9a8-4782acbe24aa",
   "metadata": {
    "tags": []
   },
   "outputs": [
    {
     "data": {
      "text/html": [
       "<style>#sk-container-id-6 {color: black;}#sk-container-id-6 pre{padding: 0;}#sk-container-id-6 div.sk-toggleable {background-color: white;}#sk-container-id-6 label.sk-toggleable__label {cursor: pointer;display: block;width: 100%;margin-bottom: 0;padding: 0.3em;box-sizing: border-box;text-align: center;}#sk-container-id-6 label.sk-toggleable__label-arrow:before {content: \"▸\";float: left;margin-right: 0.25em;color: #696969;}#sk-container-id-6 label.sk-toggleable__label-arrow:hover:before {color: black;}#sk-container-id-6 div.sk-estimator:hover label.sk-toggleable__label-arrow:before {color: black;}#sk-container-id-6 div.sk-toggleable__content {max-height: 0;max-width: 0;overflow: hidden;text-align: left;background-color: #f0f8ff;}#sk-container-id-6 div.sk-toggleable__content pre {margin: 0.2em;color: black;border-radius: 0.25em;background-color: #f0f8ff;}#sk-container-id-6 input.sk-toggleable__control:checked~div.sk-toggleable__content {max-height: 200px;max-width: 100%;overflow: auto;}#sk-container-id-6 input.sk-toggleable__control:checked~label.sk-toggleable__label-arrow:before {content: \"▾\";}#sk-container-id-6 div.sk-estimator input.sk-toggleable__control:checked~label.sk-toggleable__label {background-color: #d4ebff;}#sk-container-id-6 div.sk-label input.sk-toggleable__control:checked~label.sk-toggleable__label {background-color: #d4ebff;}#sk-container-id-6 input.sk-hidden--visually {border: 0;clip: rect(1px 1px 1px 1px);clip: rect(1px, 1px, 1px, 1px);height: 1px;margin: -1px;overflow: hidden;padding: 0;position: absolute;width: 1px;}#sk-container-id-6 div.sk-estimator {font-family: monospace;background-color: #f0f8ff;border: 1px dotted black;border-radius: 0.25em;box-sizing: border-box;margin-bottom: 0.5em;}#sk-container-id-6 div.sk-estimator:hover {background-color: #d4ebff;}#sk-container-id-6 div.sk-parallel-item::after {content: \"\";width: 100%;border-bottom: 1px solid gray;flex-grow: 1;}#sk-container-id-6 div.sk-label:hover label.sk-toggleable__label {background-color: #d4ebff;}#sk-container-id-6 div.sk-serial::before {content: \"\";position: absolute;border-left: 1px solid gray;box-sizing: border-box;top: 0;bottom: 0;left: 50%;z-index: 0;}#sk-container-id-6 div.sk-serial {display: flex;flex-direction: column;align-items: center;background-color: white;padding-right: 0.2em;padding-left: 0.2em;position: relative;}#sk-container-id-6 div.sk-item {position: relative;z-index: 1;}#sk-container-id-6 div.sk-parallel {display: flex;align-items: stretch;justify-content: center;background-color: white;position: relative;}#sk-container-id-6 div.sk-item::before, #sk-container-id-6 div.sk-parallel-item::before {content: \"\";position: absolute;border-left: 1px solid gray;box-sizing: border-box;top: 0;bottom: 0;left: 50%;z-index: -1;}#sk-container-id-6 div.sk-parallel-item {display: flex;flex-direction: column;z-index: 1;position: relative;background-color: white;}#sk-container-id-6 div.sk-parallel-item:first-child::after {align-self: flex-end;width: 50%;}#sk-container-id-6 div.sk-parallel-item:last-child::after {align-self: flex-start;width: 50%;}#sk-container-id-6 div.sk-parallel-item:only-child::after {width: 0;}#sk-container-id-6 div.sk-dashed-wrapped {border: 1px dashed gray;margin: 0 0.4em 0.5em 0.4em;box-sizing: border-box;padding-bottom: 0.4em;background-color: white;}#sk-container-id-6 div.sk-label label {font-family: monospace;font-weight: bold;display: inline-block;line-height: 1.2em;}#sk-container-id-6 div.sk-label-container {text-align: center;}#sk-container-id-6 div.sk-container {/* jupyter's `normalize.less` sets `[hidden] { display: none; }` but bootstrap.min.css set `[hidden] { display: none !important; }` so we also need the `!important` here to be able to override the default hidden behavior on the sphinx rendered scikit-learn.org. See: https://github.com/scikit-learn/scikit-learn/issues/21755 */display: inline-block !important;position: relative;}#sk-container-id-6 div.sk-text-repr-fallback {display: none;}</style><div id=\"sk-container-id-6\" class=\"sk-top-container\"><div class=\"sk-text-repr-fallback\"><pre>MLPRegressor(alpha=0.5, max_iter=10000, random_state=2022)</pre><b>In a Jupyter environment, please rerun this cell to show the HTML representation or trust the notebook. <br />On GitHub, the HTML representation is unable to render, please try loading this page with nbviewer.org.</b></div><div class=\"sk-container\" hidden><div class=\"sk-item\"><div class=\"sk-estimator sk-toggleable\"><input class=\"sk-toggleable__control sk-hidden--visually\" id=\"sk-estimator-id-6\" type=\"checkbox\" checked><label for=\"sk-estimator-id-6\" class=\"sk-toggleable__label sk-toggleable__label-arrow\">MLPRegressor</label><div class=\"sk-toggleable__content\"><pre>MLPRegressor(alpha=0.5, max_iter=10000, random_state=2022)</pre></div></div></div></div></div>"
      ],
      "text/plain": [
       "MLPRegressor(alpha=0.5, max_iter=10000, random_state=2022)"
      ]
     },
     "execution_count": 58,
     "metadata": {},
     "output_type": "execute_result"
    }
   ],
   "source": [
    "# 모델학습\n",
    "model_ann_conti = ann_conti.fit(X_train, y_train)\n",
    "model_ann_conti"
   ]
  },
  {
   "cell_type": "code",
   "execution_count": 59,
   "id": "78cfad95-0340-4dee-bbd3-6e913648eafb",
   "metadata": {
    "tags": []
   },
   "outputs": [],
   "source": [
    "# RMSE (Root Mean Squared Error)\n",
    "from sklearn.metrics import mean_squared_error\n",
    "y_pred = model_ann_conti.predict(X_test)"
   ]
  },
  {
   "cell_type": "code",
   "execution_count": 60,
   "id": "cb38fe57-3f85-451f-9914-77af7a539a40",
   "metadata": {
    "tags": []
   },
   "outputs": [
    {
     "data": {
      "text/plain": [
       "60.21701130984497"
      ]
     },
     "execution_count": 60,
     "metadata": {},
     "output_type": "execute_result"
    }
   ],
   "source": [
    "rmse = mean_squared_error(y_test, y_pred, squared=False)\n",
    "rmse"
   ]
  },
  {
   "cell_type": "markdown",
   "id": "0c312542-c31e-4c78-83a1-ebef68791759",
   "metadata": {},
   "source": [
    "<br><br><br>\n",
    "<hr>\n",
    "\n",
    "### 8절: 의사결정나무\n",
    "- 의사결정나무는 서브패키지 ```tree``` 내 클래스 ```DecisionTreeClassifier()```, ```DecisionTreeRegressor()``` 등을 통해 모형객체를 생성할 수 있음\n",
    "- DecisionTreeClassifier는 이진분류와 다지분류, DecisionTreeRegressor는 연속형 타겟변수에 사용됨\n",
    "\n",
    "<br>\n",
    "\n",
    "#### **1) DecisionTreeClassifier**\n",
    "\n",
    "- 이진분류와 다지분류\n",
    "- ```sklearn.tree.DecisionTreeClassifier(criterion = 'gini', max_depth = None, min_samples_leaf = 1, ...)```  \n",
    "   - **criterion** : 분할의 기준이 되는 지표\n",
    "      - 'gini' (default)\n",
    "      - 'entropy'\n",
    "      - 'log_loss'\n",
    "   - **max_depth**: 트리의 최대 깊이 (default = None)\n",
    "   - **min_sample_leaf**: 리프 노드에 있어야 하는 최소 샘플 수 (default = 2)"
   ]
  },
  {
   "cell_type": "markdown",
   "id": "5f006c41-163e-4da4-91d6-d1f47a41f994",
   "metadata": {},
   "source": [
    "#### Q.\n",
    "사이킷런 패키지 내 breast_cancer 데이터를 호출한 후 학습 데이터와 평가 데이터로 분할하고 클래스 DecisionTreeClassifier()를 통해 이진분류 모형객체를 생성하고 학습한 후 평가 데이터로 목표값을 예측하고 성능을 측정하는 코드 작성하기 (단, 학습과 평가 데이터의 비율은 8:2로 하고, target 비율을 반영하고 평가지표는 AUC 사용하기)"
   ]
  },
  {
   "cell_type": "code",
   "execution_count": 61,
   "id": "bb3cb4da-82a4-4d23-989d-795933d40fb0",
   "metadata": {
    "tags": []
   },
   "outputs": [],
   "source": [
    "# 클래스 함수 불러오기\n",
    "from sklearn.tree import DecisionTreeClassifier\n",
    "from sklearn.model_selection import train_test_split"
   ]
  },
  {
   "cell_type": "code",
   "execution_count": 62,
   "id": "1ff68d1f-daf3-442a-9ec3-7cf236d9f032",
   "metadata": {
    "tags": []
   },
   "outputs": [],
   "source": [
    "# breast_cancer 데이터 가져오기\n",
    "from sklearn.datasets import load_breast_cancer\n",
    "breast_cancer = load_breast_cancer()\n",
    "data = breast_cancer.data\n",
    "target = breast_cancer.target"
   ]
  },
  {
   "cell_type": "code",
   "execution_count": 63,
   "id": "3513a149-e4b6-4d90-8105-658aa369e485",
   "metadata": {
    "tags": []
   },
   "outputs": [],
   "source": [
    "# 데이터 분할\n",
    "X_train, X_test, y_train, y_test = train_test_split(data,\n",
    "                                                    target,\n",
    "                                                    test_size = 0.2,\n",
    "                                                    stratify = target,\n",
    "                                                    random_state = 2205)"
   ]
  },
  {
   "cell_type": "code",
   "execution_count": 64,
   "id": "84685e99-f7c2-4e97-9326-832ac5f796e2",
   "metadata": {
    "tags": []
   },
   "outputs": [],
   "source": [
    "# 모형객체 생성\n",
    "dtr_bin = DecisionTreeClassifier(max_depth = 3,\n",
    "                                 min_samples_leaf = 10,\n",
    "                                 random_state = 2022)"
   ]
  },
  {
   "cell_type": "code",
   "execution_count": 65,
   "id": "62e8282a-e069-49a7-a1f4-8c07fe74a84c",
   "metadata": {
    "tags": []
   },
   "outputs": [
    {
     "data": {
      "text/html": [
       "<style>#sk-container-id-7 {color: black;}#sk-container-id-7 pre{padding: 0;}#sk-container-id-7 div.sk-toggleable {background-color: white;}#sk-container-id-7 label.sk-toggleable__label {cursor: pointer;display: block;width: 100%;margin-bottom: 0;padding: 0.3em;box-sizing: border-box;text-align: center;}#sk-container-id-7 label.sk-toggleable__label-arrow:before {content: \"▸\";float: left;margin-right: 0.25em;color: #696969;}#sk-container-id-7 label.sk-toggleable__label-arrow:hover:before {color: black;}#sk-container-id-7 div.sk-estimator:hover label.sk-toggleable__label-arrow:before {color: black;}#sk-container-id-7 div.sk-toggleable__content {max-height: 0;max-width: 0;overflow: hidden;text-align: left;background-color: #f0f8ff;}#sk-container-id-7 div.sk-toggleable__content pre {margin: 0.2em;color: black;border-radius: 0.25em;background-color: #f0f8ff;}#sk-container-id-7 input.sk-toggleable__control:checked~div.sk-toggleable__content {max-height: 200px;max-width: 100%;overflow: auto;}#sk-container-id-7 input.sk-toggleable__control:checked~label.sk-toggleable__label-arrow:before {content: \"▾\";}#sk-container-id-7 div.sk-estimator input.sk-toggleable__control:checked~label.sk-toggleable__label {background-color: #d4ebff;}#sk-container-id-7 div.sk-label input.sk-toggleable__control:checked~label.sk-toggleable__label {background-color: #d4ebff;}#sk-container-id-7 input.sk-hidden--visually {border: 0;clip: rect(1px 1px 1px 1px);clip: rect(1px, 1px, 1px, 1px);height: 1px;margin: -1px;overflow: hidden;padding: 0;position: absolute;width: 1px;}#sk-container-id-7 div.sk-estimator {font-family: monospace;background-color: #f0f8ff;border: 1px dotted black;border-radius: 0.25em;box-sizing: border-box;margin-bottom: 0.5em;}#sk-container-id-7 div.sk-estimator:hover {background-color: #d4ebff;}#sk-container-id-7 div.sk-parallel-item::after {content: \"\";width: 100%;border-bottom: 1px solid gray;flex-grow: 1;}#sk-container-id-7 div.sk-label:hover label.sk-toggleable__label {background-color: #d4ebff;}#sk-container-id-7 div.sk-serial::before {content: \"\";position: absolute;border-left: 1px solid gray;box-sizing: border-box;top: 0;bottom: 0;left: 50%;z-index: 0;}#sk-container-id-7 div.sk-serial {display: flex;flex-direction: column;align-items: center;background-color: white;padding-right: 0.2em;padding-left: 0.2em;position: relative;}#sk-container-id-7 div.sk-item {position: relative;z-index: 1;}#sk-container-id-7 div.sk-parallel {display: flex;align-items: stretch;justify-content: center;background-color: white;position: relative;}#sk-container-id-7 div.sk-item::before, #sk-container-id-7 div.sk-parallel-item::before {content: \"\";position: absolute;border-left: 1px solid gray;box-sizing: border-box;top: 0;bottom: 0;left: 50%;z-index: -1;}#sk-container-id-7 div.sk-parallel-item {display: flex;flex-direction: column;z-index: 1;position: relative;background-color: white;}#sk-container-id-7 div.sk-parallel-item:first-child::after {align-self: flex-end;width: 50%;}#sk-container-id-7 div.sk-parallel-item:last-child::after {align-self: flex-start;width: 50%;}#sk-container-id-7 div.sk-parallel-item:only-child::after {width: 0;}#sk-container-id-7 div.sk-dashed-wrapped {border: 1px dashed gray;margin: 0 0.4em 0.5em 0.4em;box-sizing: border-box;padding-bottom: 0.4em;background-color: white;}#sk-container-id-7 div.sk-label label {font-family: monospace;font-weight: bold;display: inline-block;line-height: 1.2em;}#sk-container-id-7 div.sk-label-container {text-align: center;}#sk-container-id-7 div.sk-container {/* jupyter's `normalize.less` sets `[hidden] { display: none; }` but bootstrap.min.css set `[hidden] { display: none !important; }` so we also need the `!important` here to be able to override the default hidden behavior on the sphinx rendered scikit-learn.org. See: https://github.com/scikit-learn/scikit-learn/issues/21755 */display: inline-block !important;position: relative;}#sk-container-id-7 div.sk-text-repr-fallback {display: none;}</style><div id=\"sk-container-id-7\" class=\"sk-top-container\"><div class=\"sk-text-repr-fallback\"><pre>DecisionTreeClassifier(max_depth=3, min_samples_leaf=10, random_state=2022)</pre><b>In a Jupyter environment, please rerun this cell to show the HTML representation or trust the notebook. <br />On GitHub, the HTML representation is unable to render, please try loading this page with nbviewer.org.</b></div><div class=\"sk-container\" hidden><div class=\"sk-item\"><div class=\"sk-estimator sk-toggleable\"><input class=\"sk-toggleable__control sk-hidden--visually\" id=\"sk-estimator-id-7\" type=\"checkbox\" checked><label for=\"sk-estimator-id-7\" class=\"sk-toggleable__label sk-toggleable__label-arrow\">DecisionTreeClassifier</label><div class=\"sk-toggleable__content\"><pre>DecisionTreeClassifier(max_depth=3, min_samples_leaf=10, random_state=2022)</pre></div></div></div></div></div>"
      ],
      "text/plain": [
       "DecisionTreeClassifier(max_depth=3, min_samples_leaf=10, random_state=2022)"
      ]
     },
     "execution_count": 65,
     "metadata": {},
     "output_type": "execute_result"
    }
   ],
   "source": [
    "# 모델학습\n",
    "model_dtr_bin = dtr_bin.fit(X_train, y_train)\n",
    "model_dtr_bin"
   ]
  },
  {
   "cell_type": "code",
   "execution_count": 66,
   "id": "1a2b2855-1f9b-466a-92a6-2ca7424a8b18",
   "metadata": {
    "tags": []
   },
   "outputs": [],
   "source": [
    "# ROC\n",
    "from sklearn.metrics import roc_curve, auc\n",
    "y_score = model_dtr_bin.predict_proba(X_test)[:, 1]"
   ]
  },
  {
   "cell_type": "code",
   "execution_count": 67,
   "id": "c0aaa22e-4881-4d22-a6a8-a6c0bf862eb6",
   "metadata": {
    "tags": []
   },
   "outputs": [
    {
     "name": "stdout",
     "output_type": "stream",
     "text": [
      "[0.         0.         0.         0.         0.02380952 0.21428571\n",
      " 1.        ]\n",
      "[0.         0.875      0.90277778 0.98611111 1.         1.\n",
      " 1.        ]\n",
      "[       inf 0.98148148 0.8        0.4        0.1        0.05555556\n",
      " 0.        ]\n"
     ]
    }
   ],
   "source": [
    "fpr, tpr, thresholds = roc_curve(y_test, y_score)\n",
    "print(fpr)\n",
    "print(tpr)\n",
    "print(thresholds)"
   ]
  },
  {
   "cell_type": "code",
   "execution_count": 68,
   "id": "dce2012c-30cd-47e0-abc5-da2335614f19",
   "metadata": {
    "tags": []
   },
   "outputs": [
    {
     "data": {
      "text/plain": [
       "0.999834656084656"
      ]
     },
     "execution_count": 68,
     "metadata": {},
     "output_type": "execute_result"
    }
   ],
   "source": [
    "# AUC\n",
    "AUC = auc(fpr, tpr)\n",
    "AUC"
   ]
  },
  {
   "cell_type": "markdown",
   "id": "a03f0041-a97f-4ce0-a423-8a4951fd486f",
   "metadata": {},
   "source": [
    "<br>\n",
    "\n",
    "#### Q.\n",
    "사이킷런 패키지 내 iris 데이터를 호출한 후 학습 데이터와 평가 데이터로 분할하고 클래스 DecisionTreeClassifier()를 통해 다지분류 모형객체를 생성하고 학습한 후 평가 데이터로 목표값을 예측하고 성능을 측정하는 코드 작성하기 (단, 학습과 평가 데이터의 비율은 8:2로 하고, target 비율을 반영하고 평가지표는 macro f1-score 사용하기)"
   ]
  },
  {
   "cell_type": "code",
   "execution_count": 69,
   "id": "c17985e5-2692-4ee5-9af0-3f7f191f795b",
   "metadata": {
    "tags": []
   },
   "outputs": [],
   "source": [
    "# 클래스 함수 불러오기\n",
    "from sklearn.tree import DecisionTreeClassifier\n",
    "from sklearn.model_selection import train_test_split"
   ]
  },
  {
   "cell_type": "code",
   "execution_count": 70,
   "id": "32219f40-ec1e-43e0-b8ec-70a3bfa6a0a2",
   "metadata": {
    "tags": []
   },
   "outputs": [],
   "source": [
    "# iris 데이터 가져오기\n",
    "from sklearn.datasets import load_iris\n",
    "iris = load_iris()\n",
    "data = iris.data\n",
    "target = iris.target"
   ]
  },
  {
   "cell_type": "code",
   "execution_count": 71,
   "id": "c6f7c012-5453-4068-b98e-4bbf45eae985",
   "metadata": {
    "tags": []
   },
   "outputs": [],
   "source": [
    "# 데이터 분할\n",
    "X_train, X_test, y_train, y_test = train_test_split(data,\n",
    "                                                    target,\n",
    "                                                    test_size = 0.2,\n",
    "                                                    stratify = target,\n",
    "                                                    random_state = 2205)"
   ]
  },
  {
   "cell_type": "code",
   "execution_count": 72,
   "id": "3bcb0205-bdc5-43a8-9767-7bbdf572db88",
   "metadata": {
    "tags": []
   },
   "outputs": [],
   "source": [
    "# 모형객체 생성\n",
    "dtr_multi = DecisionTreeClassifier(max_depth = 3,\n",
    "                                   min_samples_leaf = 10,\n",
    "                                   random_state = 2022)"
   ]
  },
  {
   "cell_type": "code",
   "execution_count": 73,
   "id": "3de6e1ff-9985-4c88-9570-c81a6734a17e",
   "metadata": {
    "tags": []
   },
   "outputs": [
    {
     "data": {
      "text/html": [
       "<style>#sk-container-id-8 {color: black;}#sk-container-id-8 pre{padding: 0;}#sk-container-id-8 div.sk-toggleable {background-color: white;}#sk-container-id-8 label.sk-toggleable__label {cursor: pointer;display: block;width: 100%;margin-bottom: 0;padding: 0.3em;box-sizing: border-box;text-align: center;}#sk-container-id-8 label.sk-toggleable__label-arrow:before {content: \"▸\";float: left;margin-right: 0.25em;color: #696969;}#sk-container-id-8 label.sk-toggleable__label-arrow:hover:before {color: black;}#sk-container-id-8 div.sk-estimator:hover label.sk-toggleable__label-arrow:before {color: black;}#sk-container-id-8 div.sk-toggleable__content {max-height: 0;max-width: 0;overflow: hidden;text-align: left;background-color: #f0f8ff;}#sk-container-id-8 div.sk-toggleable__content pre {margin: 0.2em;color: black;border-radius: 0.25em;background-color: #f0f8ff;}#sk-container-id-8 input.sk-toggleable__control:checked~div.sk-toggleable__content {max-height: 200px;max-width: 100%;overflow: auto;}#sk-container-id-8 input.sk-toggleable__control:checked~label.sk-toggleable__label-arrow:before {content: \"▾\";}#sk-container-id-8 div.sk-estimator input.sk-toggleable__control:checked~label.sk-toggleable__label {background-color: #d4ebff;}#sk-container-id-8 div.sk-label input.sk-toggleable__control:checked~label.sk-toggleable__label {background-color: #d4ebff;}#sk-container-id-8 input.sk-hidden--visually {border: 0;clip: rect(1px 1px 1px 1px);clip: rect(1px, 1px, 1px, 1px);height: 1px;margin: -1px;overflow: hidden;padding: 0;position: absolute;width: 1px;}#sk-container-id-8 div.sk-estimator {font-family: monospace;background-color: #f0f8ff;border: 1px dotted black;border-radius: 0.25em;box-sizing: border-box;margin-bottom: 0.5em;}#sk-container-id-8 div.sk-estimator:hover {background-color: #d4ebff;}#sk-container-id-8 div.sk-parallel-item::after {content: \"\";width: 100%;border-bottom: 1px solid gray;flex-grow: 1;}#sk-container-id-8 div.sk-label:hover label.sk-toggleable__label {background-color: #d4ebff;}#sk-container-id-8 div.sk-serial::before {content: \"\";position: absolute;border-left: 1px solid gray;box-sizing: border-box;top: 0;bottom: 0;left: 50%;z-index: 0;}#sk-container-id-8 div.sk-serial {display: flex;flex-direction: column;align-items: center;background-color: white;padding-right: 0.2em;padding-left: 0.2em;position: relative;}#sk-container-id-8 div.sk-item {position: relative;z-index: 1;}#sk-container-id-8 div.sk-parallel {display: flex;align-items: stretch;justify-content: center;background-color: white;position: relative;}#sk-container-id-8 div.sk-item::before, #sk-container-id-8 div.sk-parallel-item::before {content: \"\";position: absolute;border-left: 1px solid gray;box-sizing: border-box;top: 0;bottom: 0;left: 50%;z-index: -1;}#sk-container-id-8 div.sk-parallel-item {display: flex;flex-direction: column;z-index: 1;position: relative;background-color: white;}#sk-container-id-8 div.sk-parallel-item:first-child::after {align-self: flex-end;width: 50%;}#sk-container-id-8 div.sk-parallel-item:last-child::after {align-self: flex-start;width: 50%;}#sk-container-id-8 div.sk-parallel-item:only-child::after {width: 0;}#sk-container-id-8 div.sk-dashed-wrapped {border: 1px dashed gray;margin: 0 0.4em 0.5em 0.4em;box-sizing: border-box;padding-bottom: 0.4em;background-color: white;}#sk-container-id-8 div.sk-label label {font-family: monospace;font-weight: bold;display: inline-block;line-height: 1.2em;}#sk-container-id-8 div.sk-label-container {text-align: center;}#sk-container-id-8 div.sk-container {/* jupyter's `normalize.less` sets `[hidden] { display: none; }` but bootstrap.min.css set `[hidden] { display: none !important; }` so we also need the `!important` here to be able to override the default hidden behavior on the sphinx rendered scikit-learn.org. See: https://github.com/scikit-learn/scikit-learn/issues/21755 */display: inline-block !important;position: relative;}#sk-container-id-8 div.sk-text-repr-fallback {display: none;}</style><div id=\"sk-container-id-8\" class=\"sk-top-container\"><div class=\"sk-text-repr-fallback\"><pre>DecisionTreeClassifier(max_depth=3, min_samples_leaf=10, random_state=2022)</pre><b>In a Jupyter environment, please rerun this cell to show the HTML representation or trust the notebook. <br />On GitHub, the HTML representation is unable to render, please try loading this page with nbviewer.org.</b></div><div class=\"sk-container\" hidden><div class=\"sk-item\"><div class=\"sk-estimator sk-toggleable\"><input class=\"sk-toggleable__control sk-hidden--visually\" id=\"sk-estimator-id-8\" type=\"checkbox\" checked><label for=\"sk-estimator-id-8\" class=\"sk-toggleable__label sk-toggleable__label-arrow\">DecisionTreeClassifier</label><div class=\"sk-toggleable__content\"><pre>DecisionTreeClassifier(max_depth=3, min_samples_leaf=10, random_state=2022)</pre></div></div></div></div></div>"
      ],
      "text/plain": [
       "DecisionTreeClassifier(max_depth=3, min_samples_leaf=10, random_state=2022)"
      ]
     },
     "execution_count": 73,
     "metadata": {},
     "output_type": "execute_result"
    }
   ],
   "source": [
    "# 모델학습\n",
    "model_dtr_multi = dtr_multi.fit(X_train, y_train)\n",
    "model_dtr_multi"
   ]
  },
  {
   "cell_type": "code",
   "execution_count": 74,
   "id": "bd2d5428-0d7b-42da-9c4f-bf1f0ba0da71",
   "metadata": {
    "tags": []
   },
   "outputs": [],
   "source": [
    "# macro f1-score\n",
    "from sklearn.metrics import f1_score\n",
    "y_pred = model_dtr_multi.predict(X_test)"
   ]
  },
  {
   "cell_type": "code",
   "execution_count": 75,
   "id": "27dc9b15-2303-4f8a-8d7a-6d469b8cec39",
   "metadata": {
    "tags": []
   },
   "outputs": [
    {
     "data": {
      "text/plain": [
       "0.9665831244778613"
      ]
     },
     "execution_count": 75,
     "metadata": {},
     "output_type": "execute_result"
    }
   ],
   "source": [
    "# macro f1-score\n",
    "macro_f1 = f1_score(y_test, y_pred, average='macro')\n",
    "macro_f1"
   ]
  },
  {
   "cell_type": "code",
   "execution_count": 76,
   "id": "3c8c0c2e-e59d-4783-a589-c77705ad698f",
   "metadata": {
    "tags": []
   },
   "outputs": [],
   "source": [
    "# report 함수 사용해보기\n",
    "from sklearn.metrics import classification_report"
   ]
  },
  {
   "cell_type": "code",
   "execution_count": 78,
   "id": "85e95be0-a654-4955-a875-a0ba84727aec",
   "metadata": {
    "tags": []
   },
   "outputs": [
    {
     "name": "stdout",
     "output_type": "stream",
     "text": [
      "              precision    recall  f1-score   support\n",
      "\n",
      "           0       1.00      1.00      1.00        10\n",
      "           1       0.91      1.00      0.95        10\n",
      "           2       1.00      0.90      0.95        10\n",
      "\n",
      "    accuracy                           0.97        30\n",
      "   macro avg       0.97      0.97      0.97        30\n",
      "weighted avg       0.97      0.97      0.97        30\n",
      "\n"
     ]
    }
   ],
   "source": [
    "report = classification_report(y_test, y_pred)\n",
    "print(report)"
   ]
  },
  {
   "cell_type": "markdown",
   "id": "50978688-8ffd-4023-bf24-70a349a87ca5",
   "metadata": {},
   "source": [
    "<br><br>\n",
    "\n",
    "#### **2) DecisionTreeRegressor**\n",
    "\n",
    "- 연속형 타겟변수\n",
    "- ```sklearn.tree.DecisionTreeRegressor(criterion = 'squared_error', max_depth = None, min_samples_leaf = 1, ...)```  \n",
    "   - **criterion** : 분할의 기준이 되는 지표\n",
    "      - 'squared_error' : 분산 감소량과 같으며 L2 손실을 최소화하는 평균 제곱 오차 (default)\n",
    "      - 'absolute_error' : L1 손실을 최소화하는 평균 절대 오차\n",
    "   - **max_depth**: 트리의 최대 깊이 (default = None)\n",
    "   - **min_sample_leaf**: 리프 노드에 있어야 하는 최소 샘플 수 (default = 2)"
   ]
  },
  {
   "cell_type": "markdown",
   "id": "a98d261f-4e6d-4036-8cf9-cf66d505d808",
   "metadata": {},
   "source": [
    "<br>\n",
    "\n",
    "#### Q.\n",
    "사이킷런 패키지 내 dibetes 데이터를 호출한 후 학습 데이터와 평가 데이터로 분할하고 클래스 DecisionTreeRegressor()를 통해 연속형 예측 모형객체를 생성하고 학습한 후 평가 데이터로 목표값을 예측하고 성능을 측정하는 코드 작성하기 (단, 학습과 평가 데이터의 비율은 8:2로 하고, 평가지표는 RMSE 사용하기)"
   ]
  },
  {
   "cell_type": "code",
   "execution_count": 80,
   "id": "e0409220-8561-4c97-b95a-0bc60ee82d85",
   "metadata": {
    "tags": []
   },
   "outputs": [],
   "source": [
    "# 클래스와 함수 불러오기\n",
    "from sklearn.tree import DecisionTreeRegressor\n",
    "from sklearn.model_selection import train_test_split"
   ]
  },
  {
   "cell_type": "code",
   "execution_count": 81,
   "id": "b22fbddd-262e-471b-ae60-29927ccbc086",
   "metadata": {
    "tags": []
   },
   "outputs": [],
   "source": [
    "# diabetes 데이터 가져오기\n",
    "from sklearn.datasets import load_diabetes\n",
    "diabetes = load_diabetes()\n",
    "data = diabetes.data\n",
    "target = diabetes.target"
   ]
  },
  {
   "cell_type": "code",
   "execution_count": 82,
   "id": "3f7a2562-0bac-4715-924b-bed0666a5d7d",
   "metadata": {
    "tags": []
   },
   "outputs": [],
   "source": [
    "# 데이터 분할\n",
    "X_train, X_test, y_train, y_test = train_test_split(data, \n",
    "                                                    target,\n",
    "                                                    test_size = 0.2,\n",
    "                                                    random_state = 2205)"
   ]
  },
  {
   "cell_type": "code",
   "execution_count": 83,
   "id": "2b7313b8-4116-4ee7-8fba-a3eb6b2c3bb8",
   "metadata": {
    "tags": []
   },
   "outputs": [],
   "source": [
    "# 모형객체 생성\n",
    "dtr_conti = DecisionTreeRegressor(max_depth = 3,\n",
    "                                  min_samples_leaf = 10,\n",
    "                                  random_state = 2022)"
   ]
  },
  {
   "cell_type": "code",
   "execution_count": 84,
   "id": "65449dc8-716e-4e69-8d28-05f043020f88",
   "metadata": {
    "tags": []
   },
   "outputs": [
    {
     "data": {
      "text/html": [
       "<style>#sk-container-id-9 {color: black;}#sk-container-id-9 pre{padding: 0;}#sk-container-id-9 div.sk-toggleable {background-color: white;}#sk-container-id-9 label.sk-toggleable__label {cursor: pointer;display: block;width: 100%;margin-bottom: 0;padding: 0.3em;box-sizing: border-box;text-align: center;}#sk-container-id-9 label.sk-toggleable__label-arrow:before {content: \"▸\";float: left;margin-right: 0.25em;color: #696969;}#sk-container-id-9 label.sk-toggleable__label-arrow:hover:before {color: black;}#sk-container-id-9 div.sk-estimator:hover label.sk-toggleable__label-arrow:before {color: black;}#sk-container-id-9 div.sk-toggleable__content {max-height: 0;max-width: 0;overflow: hidden;text-align: left;background-color: #f0f8ff;}#sk-container-id-9 div.sk-toggleable__content pre {margin: 0.2em;color: black;border-radius: 0.25em;background-color: #f0f8ff;}#sk-container-id-9 input.sk-toggleable__control:checked~div.sk-toggleable__content {max-height: 200px;max-width: 100%;overflow: auto;}#sk-container-id-9 input.sk-toggleable__control:checked~label.sk-toggleable__label-arrow:before {content: \"▾\";}#sk-container-id-9 div.sk-estimator input.sk-toggleable__control:checked~label.sk-toggleable__label {background-color: #d4ebff;}#sk-container-id-9 div.sk-label input.sk-toggleable__control:checked~label.sk-toggleable__label {background-color: #d4ebff;}#sk-container-id-9 input.sk-hidden--visually {border: 0;clip: rect(1px 1px 1px 1px);clip: rect(1px, 1px, 1px, 1px);height: 1px;margin: -1px;overflow: hidden;padding: 0;position: absolute;width: 1px;}#sk-container-id-9 div.sk-estimator {font-family: monospace;background-color: #f0f8ff;border: 1px dotted black;border-radius: 0.25em;box-sizing: border-box;margin-bottom: 0.5em;}#sk-container-id-9 div.sk-estimator:hover {background-color: #d4ebff;}#sk-container-id-9 div.sk-parallel-item::after {content: \"\";width: 100%;border-bottom: 1px solid gray;flex-grow: 1;}#sk-container-id-9 div.sk-label:hover label.sk-toggleable__label {background-color: #d4ebff;}#sk-container-id-9 div.sk-serial::before {content: \"\";position: absolute;border-left: 1px solid gray;box-sizing: border-box;top: 0;bottom: 0;left: 50%;z-index: 0;}#sk-container-id-9 div.sk-serial {display: flex;flex-direction: column;align-items: center;background-color: white;padding-right: 0.2em;padding-left: 0.2em;position: relative;}#sk-container-id-9 div.sk-item {position: relative;z-index: 1;}#sk-container-id-9 div.sk-parallel {display: flex;align-items: stretch;justify-content: center;background-color: white;position: relative;}#sk-container-id-9 div.sk-item::before, #sk-container-id-9 div.sk-parallel-item::before {content: \"\";position: absolute;border-left: 1px solid gray;box-sizing: border-box;top: 0;bottom: 0;left: 50%;z-index: -1;}#sk-container-id-9 div.sk-parallel-item {display: flex;flex-direction: column;z-index: 1;position: relative;background-color: white;}#sk-container-id-9 div.sk-parallel-item:first-child::after {align-self: flex-end;width: 50%;}#sk-container-id-9 div.sk-parallel-item:last-child::after {align-self: flex-start;width: 50%;}#sk-container-id-9 div.sk-parallel-item:only-child::after {width: 0;}#sk-container-id-9 div.sk-dashed-wrapped {border: 1px dashed gray;margin: 0 0.4em 0.5em 0.4em;box-sizing: border-box;padding-bottom: 0.4em;background-color: white;}#sk-container-id-9 div.sk-label label {font-family: monospace;font-weight: bold;display: inline-block;line-height: 1.2em;}#sk-container-id-9 div.sk-label-container {text-align: center;}#sk-container-id-9 div.sk-container {/* jupyter's `normalize.less` sets `[hidden] { display: none; }` but bootstrap.min.css set `[hidden] { display: none !important; }` so we also need the `!important` here to be able to override the default hidden behavior on the sphinx rendered scikit-learn.org. See: https://github.com/scikit-learn/scikit-learn/issues/21755 */display: inline-block !important;position: relative;}#sk-container-id-9 div.sk-text-repr-fallback {display: none;}</style><div id=\"sk-container-id-9\" class=\"sk-top-container\"><div class=\"sk-text-repr-fallback\"><pre>DecisionTreeRegressor(max_depth=3, min_samples_leaf=10, random_state=2022)</pre><b>In a Jupyter environment, please rerun this cell to show the HTML representation or trust the notebook. <br />On GitHub, the HTML representation is unable to render, please try loading this page with nbviewer.org.</b></div><div class=\"sk-container\" hidden><div class=\"sk-item\"><div class=\"sk-estimator sk-toggleable\"><input class=\"sk-toggleable__control sk-hidden--visually\" id=\"sk-estimator-id-9\" type=\"checkbox\" checked><label for=\"sk-estimator-id-9\" class=\"sk-toggleable__label sk-toggleable__label-arrow\">DecisionTreeRegressor</label><div class=\"sk-toggleable__content\"><pre>DecisionTreeRegressor(max_depth=3, min_samples_leaf=10, random_state=2022)</pre></div></div></div></div></div>"
      ],
      "text/plain": [
       "DecisionTreeRegressor(max_depth=3, min_samples_leaf=10, random_state=2022)"
      ]
     },
     "execution_count": 84,
     "metadata": {},
     "output_type": "execute_result"
    }
   ],
   "source": [
    "# 모델학습\n",
    "model_dtr_conti = dtr_conti.fit(X_train, y_train)\n",
    "model_dtr_conti"
   ]
  },
  {
   "cell_type": "code",
   "execution_count": 87,
   "id": "4ce96582-badd-4309-83d0-e33ad9f85f2f",
   "metadata": {
    "tags": []
   },
   "outputs": [],
   "source": [
    "# RMSE\n",
    "from sklearn.metrics import mean_squared_error\n",
    "y_pred = model_dtr_conti.predict(X_test)"
   ]
  },
  {
   "cell_type": "code",
   "execution_count": 88,
   "id": "d8985d5b-5edf-4288-9f8f-f5993eae9e56",
   "metadata": {
    "tags": []
   },
   "outputs": [
    {
     "data": {
      "text/plain": [
       "68.43615007635243"
      ]
     },
     "execution_count": 88,
     "metadata": {},
     "output_type": "execute_result"
    }
   ],
   "source": [
    "# RMSE\n",
    "rmse = mean_squared_error(y_test, y_pred, squared = False)\n",
    "rmse"
   ]
  }
 ],
 "metadata": {
  "kernelspec": {
   "display_name": "Python 3 (ipykernel)",
   "language": "python",
   "name": "python3"
  },
  "language_info": {
   "codemirror_mode": {
    "name": "ipython",
    "version": 3
   },
   "file_extension": ".py",
   "mimetype": "text/x-python",
   "name": "python",
   "nbconvert_exporter": "python",
   "pygments_lexer": "ipython3",
   "version": "3.11.5"
  }
 },
 "nbformat": 4,
 "nbformat_minor": 5
}
