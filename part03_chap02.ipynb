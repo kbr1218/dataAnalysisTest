{
 "cells": [
  {
   "cell_type": "markdown",
   "id": "8af1139e-e4c4-44c3-873e-ab043a425b1f",
   "metadata": {},
   "source": [
    "## Part 03 통계분석 - 2장 통계 모형\n",
    "### 1절: 선형회귀모형\n",
    "\n",
    "#### **상관분석**\n",
    "- 파이썬에서 선형회귀분석을 하는 패키지는 세 개가 있음\n",
    "  - 1. staatsmodels의 서브패키지인 api 내의 ```OLS``` 함수를 사용하는 방법\n",
    "  - 2. Scipy의 서브패키지인 stats 내의 ```linregress``` 함수를 이용하는 방법\n",
    "  - 3. 사이킷런의 linear_model에서 ```LinearRegression``` 클래스를 이용하는 방법"
   ]
  },
  {
   "cell_type": "markdown",
   "id": "0acc59b9-7eb2-458d-b364-bb239058bdf0",
   "metadata": {},
   "source": [
    "#### 1. SciPy를 활용한 단순 선형 회귀분석\n",
    "- ```scipy.stats.linregression(x, y)```\n",
    "  - **x, y**: 1차원 데이터(리스트, 배열, 시리즈 등)"
   ]
  },
  {
   "cell_type": "markdown",
   "id": "f1444a97-500b-4564-9802-c48564a39081",
   "metadata": {},
   "source": [
    "#### Q.\n",
    "diabetes 데이터에서 'bmi' 컬럼을 독립변수로 설정하고, 'target' 변수를 종속변수로 설정하여 선형 회귀분석 실시"
   ]
  },
  {
   "cell_type": "code",
   "execution_count": 6,
   "id": "a43e2cd8-8c40-4d05-ac46-0cd705741593",
   "metadata": {
    "tags": []
   },
   "outputs": [
    {
     "data": {
      "text/html": [
       "<div>\n",
       "<style scoped>\n",
       "    .dataframe tbody tr th:only-of-type {\n",
       "        vertical-align: middle;\n",
       "    }\n",
       "\n",
       "    .dataframe tbody tr th {\n",
       "        vertical-align: top;\n",
       "    }\n",
       "\n",
       "    .dataframe thead th {\n",
       "        text-align: right;\n",
       "    }\n",
       "</style>\n",
       "<table border=\"1\" class=\"dataframe\">\n",
       "  <thead>\n",
       "    <tr style=\"text-align: right;\">\n",
       "      <th></th>\n",
       "      <th>age</th>\n",
       "      <th>sex</th>\n",
       "      <th>bmi</th>\n",
       "      <th>bp</th>\n",
       "      <th>s1</th>\n",
       "      <th>s2</th>\n",
       "      <th>s3</th>\n",
       "      <th>s4</th>\n",
       "      <th>s5</th>\n",
       "      <th>s6</th>\n",
       "    </tr>\n",
       "  </thead>\n",
       "  <tbody>\n",
       "    <tr>\n",
       "      <th>0</th>\n",
       "      <td>0.038076</td>\n",
       "      <td>0.050680</td>\n",
       "      <td>0.061696</td>\n",
       "      <td>0.021872</td>\n",
       "      <td>-0.044223</td>\n",
       "      <td>-0.034821</td>\n",
       "      <td>-0.043401</td>\n",
       "      <td>-0.002592</td>\n",
       "      <td>0.019907</td>\n",
       "      <td>-0.017646</td>\n",
       "    </tr>\n",
       "    <tr>\n",
       "      <th>1</th>\n",
       "      <td>-0.001882</td>\n",
       "      <td>-0.044642</td>\n",
       "      <td>-0.051474</td>\n",
       "      <td>-0.026328</td>\n",
       "      <td>-0.008449</td>\n",
       "      <td>-0.019163</td>\n",
       "      <td>0.074412</td>\n",
       "      <td>-0.039493</td>\n",
       "      <td>-0.068332</td>\n",
       "      <td>-0.092204</td>\n",
       "    </tr>\n",
       "    <tr>\n",
       "      <th>2</th>\n",
       "      <td>0.085299</td>\n",
       "      <td>0.050680</td>\n",
       "      <td>0.044451</td>\n",
       "      <td>-0.005670</td>\n",
       "      <td>-0.045599</td>\n",
       "      <td>-0.034194</td>\n",
       "      <td>-0.032356</td>\n",
       "      <td>-0.002592</td>\n",
       "      <td>0.002861</td>\n",
       "      <td>-0.025930</td>\n",
       "    </tr>\n",
       "    <tr>\n",
       "      <th>3</th>\n",
       "      <td>-0.089063</td>\n",
       "      <td>-0.044642</td>\n",
       "      <td>-0.011595</td>\n",
       "      <td>-0.036656</td>\n",
       "      <td>0.012191</td>\n",
       "      <td>0.024991</td>\n",
       "      <td>-0.036038</td>\n",
       "      <td>0.034309</td>\n",
       "      <td>0.022688</td>\n",
       "      <td>-0.009362</td>\n",
       "    </tr>\n",
       "    <tr>\n",
       "      <th>4</th>\n",
       "      <td>0.005383</td>\n",
       "      <td>-0.044642</td>\n",
       "      <td>-0.036385</td>\n",
       "      <td>0.021872</td>\n",
       "      <td>0.003935</td>\n",
       "      <td>0.015596</td>\n",
       "      <td>0.008142</td>\n",
       "      <td>-0.002592</td>\n",
       "      <td>-0.031988</td>\n",
       "      <td>-0.046641</td>\n",
       "    </tr>\n",
       "    <tr>\n",
       "      <th>...</th>\n",
       "      <td>...</td>\n",
       "      <td>...</td>\n",
       "      <td>...</td>\n",
       "      <td>...</td>\n",
       "      <td>...</td>\n",
       "      <td>...</td>\n",
       "      <td>...</td>\n",
       "      <td>...</td>\n",
       "      <td>...</td>\n",
       "      <td>...</td>\n",
       "    </tr>\n",
       "    <tr>\n",
       "      <th>437</th>\n",
       "      <td>0.041708</td>\n",
       "      <td>0.050680</td>\n",
       "      <td>0.019662</td>\n",
       "      <td>0.059744</td>\n",
       "      <td>-0.005697</td>\n",
       "      <td>-0.002566</td>\n",
       "      <td>-0.028674</td>\n",
       "      <td>-0.002592</td>\n",
       "      <td>0.031193</td>\n",
       "      <td>0.007207</td>\n",
       "    </tr>\n",
       "    <tr>\n",
       "      <th>438</th>\n",
       "      <td>-0.005515</td>\n",
       "      <td>0.050680</td>\n",
       "      <td>-0.015906</td>\n",
       "      <td>-0.067642</td>\n",
       "      <td>0.049341</td>\n",
       "      <td>0.079165</td>\n",
       "      <td>-0.028674</td>\n",
       "      <td>0.034309</td>\n",
       "      <td>-0.018114</td>\n",
       "      <td>0.044485</td>\n",
       "    </tr>\n",
       "    <tr>\n",
       "      <th>439</th>\n",
       "      <td>0.041708</td>\n",
       "      <td>0.050680</td>\n",
       "      <td>-0.015906</td>\n",
       "      <td>0.017293</td>\n",
       "      <td>-0.037344</td>\n",
       "      <td>-0.013840</td>\n",
       "      <td>-0.024993</td>\n",
       "      <td>-0.011080</td>\n",
       "      <td>-0.046883</td>\n",
       "      <td>0.015491</td>\n",
       "    </tr>\n",
       "    <tr>\n",
       "      <th>440</th>\n",
       "      <td>-0.045472</td>\n",
       "      <td>-0.044642</td>\n",
       "      <td>0.039062</td>\n",
       "      <td>0.001215</td>\n",
       "      <td>0.016318</td>\n",
       "      <td>0.015283</td>\n",
       "      <td>-0.028674</td>\n",
       "      <td>0.026560</td>\n",
       "      <td>0.044529</td>\n",
       "      <td>-0.025930</td>\n",
       "    </tr>\n",
       "    <tr>\n",
       "      <th>441</th>\n",
       "      <td>-0.045472</td>\n",
       "      <td>-0.044642</td>\n",
       "      <td>-0.073030</td>\n",
       "      <td>-0.081413</td>\n",
       "      <td>0.083740</td>\n",
       "      <td>0.027809</td>\n",
       "      <td>0.173816</td>\n",
       "      <td>-0.039493</td>\n",
       "      <td>-0.004222</td>\n",
       "      <td>0.003064</td>\n",
       "    </tr>\n",
       "  </tbody>\n",
       "</table>\n",
       "<p>442 rows × 10 columns</p>\n",
       "</div>"
      ],
      "text/plain": [
       "          age       sex       bmi        bp        s1        s2        s3  \\\n",
       "0    0.038076  0.050680  0.061696  0.021872 -0.044223 -0.034821 -0.043401   \n",
       "1   -0.001882 -0.044642 -0.051474 -0.026328 -0.008449 -0.019163  0.074412   \n",
       "2    0.085299  0.050680  0.044451 -0.005670 -0.045599 -0.034194 -0.032356   \n",
       "3   -0.089063 -0.044642 -0.011595 -0.036656  0.012191  0.024991 -0.036038   \n",
       "4    0.005383 -0.044642 -0.036385  0.021872  0.003935  0.015596  0.008142   \n",
       "..        ...       ...       ...       ...       ...       ...       ...   \n",
       "437  0.041708  0.050680  0.019662  0.059744 -0.005697 -0.002566 -0.028674   \n",
       "438 -0.005515  0.050680 -0.015906 -0.067642  0.049341  0.079165 -0.028674   \n",
       "439  0.041708  0.050680 -0.015906  0.017293 -0.037344 -0.013840 -0.024993   \n",
       "440 -0.045472 -0.044642  0.039062  0.001215  0.016318  0.015283 -0.028674   \n",
       "441 -0.045472 -0.044642 -0.073030 -0.081413  0.083740  0.027809  0.173816   \n",
       "\n",
       "           s4        s5        s6  \n",
       "0   -0.002592  0.019907 -0.017646  \n",
       "1   -0.039493 -0.068332 -0.092204  \n",
       "2   -0.002592  0.002861 -0.025930  \n",
       "3    0.034309  0.022688 -0.009362  \n",
       "4   -0.002592 -0.031988 -0.046641  \n",
       "..        ...       ...       ...  \n",
       "437 -0.002592  0.031193  0.007207  \n",
       "438  0.034309 -0.018114  0.044485  \n",
       "439 -0.011080 -0.046883  0.015491  \n",
       "440  0.026560  0.044529 -0.025930  \n",
       "441 -0.039493 -0.004222  0.003064  \n",
       "\n",
       "[442 rows x 10 columns]"
      ]
     },
     "execution_count": 6,
     "metadata": {},
     "output_type": "execute_result"
    }
   ],
   "source": [
    "# 패키지 불러오기\n",
    "import pandas as pd\n",
    "from sklearn.datasets import load_diabetes\n",
    "\n",
    "diabetes = load_diabetes()\n",
    "data = pd.DataFrame(diabetes.data, columns = diabetes.feature_names)\n",
    "data"
   ]
  },
  {
   "cell_type": "code",
   "execution_count": 7,
   "id": "1266485e-17e1-4e14-85a7-1a824dac83bf",
   "metadata": {
    "tags": []
   },
   "outputs": [
    {
     "data": {
      "text/plain": [
       "array([151.,  75., 141., 206., 135.,  97., 138.,  63., 110., 310., 101.,\n",
       "        69., 179., 185., 118., 171., 166., 144.,  97., 168.,  68.,  49.,\n",
       "        68., 245., 184., 202., 137.,  85., 131., 283., 129.,  59., 341.,\n",
       "        87.,  65., 102., 265., 276., 252.,  90., 100.,  55.,  61.,  92.,\n",
       "       259.,  53., 190., 142.,  75., 142., 155., 225.,  59., 104., 182.,\n",
       "       128.,  52.,  37., 170., 170.,  61., 144.,  52., 128.,  71., 163.,\n",
       "       150.,  97., 160., 178.,  48., 270., 202., 111.,  85.,  42., 170.,\n",
       "       200., 252., 113., 143.,  51.,  52., 210.,  65., 141.,  55., 134.,\n",
       "        42., 111.,  98., 164.,  48.,  96.,  90., 162., 150., 279.,  92.,\n",
       "        83., 128., 102., 302., 198.,  95.,  53., 134., 144., 232.,  81.,\n",
       "       104.,  59., 246., 297., 258., 229., 275., 281., 179., 200., 200.,\n",
       "       173., 180.,  84., 121., 161.,  99., 109., 115., 268., 274., 158.,\n",
       "       107.,  83., 103., 272.,  85., 280., 336., 281., 118., 317., 235.,\n",
       "        60., 174., 259., 178., 128.,  96., 126., 288.,  88., 292.,  71.,\n",
       "       197., 186.,  25.,  84.,  96., 195.,  53., 217., 172., 131., 214.,\n",
       "        59.,  70., 220., 268., 152.,  47.,  74., 295., 101., 151., 127.,\n",
       "       237., 225.,  81., 151., 107.,  64., 138., 185., 265., 101., 137.,\n",
       "       143., 141.,  79., 292., 178.,  91., 116.,  86., 122.,  72., 129.,\n",
       "       142.,  90., 158.,  39., 196., 222., 277.,  99., 196., 202., 155.,\n",
       "        77., 191.,  70.,  73.,  49.,  65., 263., 248., 296., 214., 185.,\n",
       "        78.,  93., 252., 150.,  77., 208.,  77., 108., 160.,  53., 220.,\n",
       "       154., 259.,  90., 246., 124.,  67.,  72., 257., 262., 275., 177.,\n",
       "        71.,  47., 187., 125.,  78.,  51., 258., 215., 303., 243.,  91.,\n",
       "       150., 310., 153., 346.,  63.,  89.,  50.,  39., 103., 308., 116.,\n",
       "       145.,  74.,  45., 115., 264.,  87., 202., 127., 182., 241.,  66.,\n",
       "        94., 283.,  64., 102., 200., 265.,  94., 230., 181., 156., 233.,\n",
       "        60., 219.,  80.,  68., 332., 248.,  84., 200.,  55.,  85.,  89.,\n",
       "        31., 129.,  83., 275.,  65., 198., 236., 253., 124.,  44., 172.,\n",
       "       114., 142., 109., 180., 144., 163., 147.,  97., 220., 190., 109.,\n",
       "       191., 122., 230., 242., 248., 249., 192., 131., 237.,  78., 135.,\n",
       "       244., 199., 270., 164.,  72.,  96., 306.,  91., 214.,  95., 216.,\n",
       "       263., 178., 113., 200., 139., 139.,  88., 148.,  88., 243.,  71.,\n",
       "        77., 109., 272.,  60.,  54., 221.,  90., 311., 281., 182., 321.,\n",
       "        58., 262., 206., 233., 242., 123., 167.,  63., 197.,  71., 168.,\n",
       "       140., 217., 121., 235., 245.,  40.,  52., 104., 132.,  88.,  69.,\n",
       "       219.,  72., 201., 110.,  51., 277.,  63., 118.,  69., 273., 258.,\n",
       "        43., 198., 242., 232., 175.,  93., 168., 275., 293., 281.,  72.,\n",
       "       140., 189., 181., 209., 136., 261., 113., 131., 174., 257.,  55.,\n",
       "        84.,  42., 146., 212., 233.,  91., 111., 152., 120.,  67., 310.,\n",
       "        94., 183.,  66., 173.,  72.,  49.,  64.,  48., 178., 104., 132.,\n",
       "       220.,  57.])"
      ]
     },
     "execution_count": 7,
     "metadata": {},
     "output_type": "execute_result"
    }
   ],
   "source": [
    "# target 컬럼 호출\n",
    "target = diabetes.target\n",
    "target"
   ]
  },
  {
   "cell_type": "code",
   "execution_count": 8,
   "id": "3f9201a5-bca0-41a6-8d22-6c14dfa0a8b6",
   "metadata": {
    "tags": []
   },
   "outputs": [],
   "source": [
    "# 단순 선형회귀모델 생성\n",
    "from scipy.stats import linregress"
   ]
  },
  {
   "cell_type": "code",
   "execution_count": 9,
   "id": "34cd1248-5d49-4675-a751-e38d60cc416a",
   "metadata": {
    "tags": []
   },
   "outputs": [
    {
     "data": {
      "text/plain": [
       "LinregressResult(slope=949.4352603840385, intercept=152.13348416289617, rvalue=0.5864501344746884, pvalue=3.466006445167547e-42, stderr=62.51512200285268, intercept_stderr=2.973541118790736)"
      ]
     },
     "execution_count": 9,
     "metadata": {},
     "output_type": "execute_result"
    }
   ],
   "source": [
    "model = linregress(x = data['bmi'], y = target)\n",
    "model"
   ]
  },
  {
   "cell_type": "markdown",
   "id": "a9e68582-b125-4bd7-883f-63ea990d44e4",
   "metadata": {},
   "source": [
    "전체 결과에서\n",
    "- **slope**: 독립변수에 대한 추정된 회귀계수\n",
    "- **intercept**: 상수항\n",
    "- **rvalue**: 모형의 설명력\n",
    "- **pvalue**: 기울기에 대한 통계적 유의성\n",
    "- **stderr & intercept_stderr**: 회귀계수들에 대한 표준오차"
   ]
  },
  {
   "cell_type": "code",
   "execution_count": 15,
   "id": "2d750a30-d7ef-44bc-99b6-f8c2edea4a10",
   "metadata": {
    "tags": []
   },
   "outputs": [
    {
     "data": {
      "text/plain": [
       "949.4352603840385"
      ]
     },
     "execution_count": 15,
     "metadata": {},
     "output_type": "execute_result"
    }
   ],
   "source": [
    "# 개별출력 가능\n",
    "model.slope    # beta 1"
   ]
  },
  {
   "cell_type": "code",
   "execution_count": 12,
   "id": "48728e1a-991b-4fa4-9e5a-72f6f8660381",
   "metadata": {
    "tags": []
   },
   "outputs": [
    {
     "data": {
      "text/plain": [
       "152.13348416289617"
      ]
     },
     "execution_count": 12,
     "metadata": {},
     "output_type": "execute_result"
    }
   ],
   "source": [
    "model.intercept    # beta 0"
   ]
  },
  {
   "cell_type": "markdown",
   "id": "697c8366-afdb-4de7-ad6d-9328603c51e0",
   "metadata": {},
   "source": [
    "- 위 회귀분석 결과 ```slope```와 ```intercept```를 기준으로 target과 bmi 사이에는 **[target = 152.13 + 949.44 * bmi]** 라는 회귀식 도출 가능"
   ]
  },
  {
   "cell_type": "code",
   "execution_count": 13,
   "id": "bcad3541-df6b-478a-bc8d-02e2b9586f73",
   "metadata": {
    "tags": []
   },
   "outputs": [
    {
     "data": {
      "text/plain": [
       "3.466006445167547e-42"
      ]
     },
     "execution_count": 13,
     "metadata": {},
     "output_type": "execute_result"
    }
   ],
   "source": [
    "# beta 1에 대한 통계적 유의성 (p-value)\n",
    "model.pvalue"
   ]
  },
  {
   "cell_type": "code",
   "execution_count": 14,
   "id": "038bf58f-3c17-4242-a9bb-dad9d22f987a",
   "metadata": {
    "tags": []
   },
   "outputs": [
    {
     "data": {
      "text/plain": [
       "0.5864501344746884"
      ]
     },
     "execution_count": 14,
     "metadata": {},
     "output_type": "execute_result"
    }
   ],
   "source": [
    "# 결정계수 (모형의 설명력)\n",
    "model.rvalue"
   ]
  },
  {
   "cell_type": "markdown",
   "id": "ddf2a91e-ee6a-4494-b0c3-ef9d3b1fdfa9",
   "metadata": {},
   "source": [
    "- 독립변수의 회귀계수에 대한 p-value가 매우 작기 때문에 통계적으로 유의하다고 판단할 수 있음\n",
    "- 이 검정에 사용되는 귀무가설은 **'회귀계수는 0이다.'** 이며 대립가설은 **'회귀계수는 0이 아니다.'** 이다\n",
    "- 해당 회귀모형이 현 데이터의 약 58.65%를 설명할 수 있다는 것 의미 (rvalue; 결정계수 결과)\n",
    "- 상수항에 대한 통계적 유의성이나 모형의 통계적 유의성 결과를 별도로 제공하지 않아 따로 산출해야하지만 **단순 선형회귀 분석에서 모델의 통계적 유의성의 결과는 독립변수의 회귀계수에 대한 유의성과 같고** 상수항의 유의성은 보통 고려되지 않음"
   ]
  },
  {
   "cell_type": "markdown",
   "id": "d18ed2bd-6b77-45a8-b6cc-4747517fead3",
   "metadata": {},
   "source": [
    "<br>\n",
    "<br>\n",
    "<hr>\n",
    "<br>\n",
    "\n",
    "#### 2. Statsmodels를 활용한 다중 선형 회귀분석\n",
    "\n",
    "**2-1. 회귀 모형 적합**\n",
    "- statsmodels를 활용해 다중 선형회귀 분석을 수행하는 방법은 회귀 모형객체를 생성한 후, 해당 객체의 메소드 ```fit()```를 이용해 적합하는 방식\n",
    "- 이 과정에서 **formula를 활용하는 방법**과 **X, y를 각각 입력하는 방법**으로 구분됨 (여기서는 후자만)\n",
    "- ```statsmodels.api```의 ```OLS``` 클래스를 통해 OLS 모형객체를 생성한 후, 해다 객체의 메소드 ```fit()```를 이용해 적합하고, 메소드 ```summary()```를 이용하면 회귀분석의 결과를 요약해서 볼 수 있음\n",
    "- 불러오기: ```import statsmodels.api as sm```\n",
    "- ```statsmodels.api.OLS(endog, exog, ...)```\n",
    "  - **endog** : 1차원 데이터 (반응변수, 종속변수)\n",
    "  - **exog** : n*k 배열 (n: 관측치의 수, k: 회귀계수의 수), 절편 미포함"
   ]
  },
  {
   "cell_type": "markdown",
   "id": "15b75733-ed74-41df-9f89-27b987a22d4b",
   "metadata": {},
   "source": [
    "#### Q. \n",
    "제공된 tips 데이터를 불러와 총액(total_bill)과 사람 수(size)를 독립변수로 하고, 팁(tip)을 종속변수로 하는 다중선형 회귀분석 수행하기"
   ]
  },
  {
   "cell_type": "code",
   "execution_count": 16,
   "id": "068c5cfe-c3d3-4569-9f0b-f25c6e53ae2f",
   "metadata": {
    "tags": []
   },
   "outputs": [
    {
     "data": {
      "text/html": [
       "<div>\n",
       "<style scoped>\n",
       "    .dataframe tbody tr th:only-of-type {\n",
       "        vertical-align: middle;\n",
       "    }\n",
       "\n",
       "    .dataframe tbody tr th {\n",
       "        vertical-align: top;\n",
       "    }\n",
       "\n",
       "    .dataframe thead th {\n",
       "        text-align: right;\n",
       "    }\n",
       "</style>\n",
       "<table border=\"1\" class=\"dataframe\">\n",
       "  <thead>\n",
       "    <tr style=\"text-align: right;\">\n",
       "      <th></th>\n",
       "      <th>total_bill</th>\n",
       "      <th>tip</th>\n",
       "      <th>sex</th>\n",
       "      <th>smoker</th>\n",
       "      <th>day</th>\n",
       "      <th>time</th>\n",
       "      <th>size</th>\n",
       "    </tr>\n",
       "  </thead>\n",
       "  <tbody>\n",
       "    <tr>\n",
       "      <th>0</th>\n",
       "      <td>16.99</td>\n",
       "      <td>1.01</td>\n",
       "      <td>Female</td>\n",
       "      <td>No</td>\n",
       "      <td>Sun</td>\n",
       "      <td>Dinner</td>\n",
       "      <td>2</td>\n",
       "    </tr>\n",
       "    <tr>\n",
       "      <th>1</th>\n",
       "      <td>10.34</td>\n",
       "      <td>1.66</td>\n",
       "      <td>Male</td>\n",
       "      <td>No</td>\n",
       "      <td>Sun</td>\n",
       "      <td>Dinner</td>\n",
       "      <td>3</td>\n",
       "    </tr>\n",
       "    <tr>\n",
       "      <th>2</th>\n",
       "      <td>21.01</td>\n",
       "      <td>3.50</td>\n",
       "      <td>Male</td>\n",
       "      <td>No</td>\n",
       "      <td>Sun</td>\n",
       "      <td>Dinner</td>\n",
       "      <td>3</td>\n",
       "    </tr>\n",
       "    <tr>\n",
       "      <th>3</th>\n",
       "      <td>23.68</td>\n",
       "      <td>3.31</td>\n",
       "      <td>Male</td>\n",
       "      <td>No</td>\n",
       "      <td>Sun</td>\n",
       "      <td>Dinner</td>\n",
       "      <td>2</td>\n",
       "    </tr>\n",
       "    <tr>\n",
       "      <th>4</th>\n",
       "      <td>24.59</td>\n",
       "      <td>3.61</td>\n",
       "      <td>Female</td>\n",
       "      <td>No</td>\n",
       "      <td>Sun</td>\n",
       "      <td>Dinner</td>\n",
       "      <td>4</td>\n",
       "    </tr>\n",
       "    <tr>\n",
       "      <th>...</th>\n",
       "      <td>...</td>\n",
       "      <td>...</td>\n",
       "      <td>...</td>\n",
       "      <td>...</td>\n",
       "      <td>...</td>\n",
       "      <td>...</td>\n",
       "      <td>...</td>\n",
       "    </tr>\n",
       "    <tr>\n",
       "      <th>239</th>\n",
       "      <td>29.03</td>\n",
       "      <td>5.92</td>\n",
       "      <td>Male</td>\n",
       "      <td>No</td>\n",
       "      <td>Sat</td>\n",
       "      <td>Dinner</td>\n",
       "      <td>3</td>\n",
       "    </tr>\n",
       "    <tr>\n",
       "      <th>240</th>\n",
       "      <td>27.18</td>\n",
       "      <td>2.00</td>\n",
       "      <td>Female</td>\n",
       "      <td>Yes</td>\n",
       "      <td>Sat</td>\n",
       "      <td>Dinner</td>\n",
       "      <td>2</td>\n",
       "    </tr>\n",
       "    <tr>\n",
       "      <th>241</th>\n",
       "      <td>22.67</td>\n",
       "      <td>2.00</td>\n",
       "      <td>Male</td>\n",
       "      <td>Yes</td>\n",
       "      <td>Sat</td>\n",
       "      <td>Dinner</td>\n",
       "      <td>2</td>\n",
       "    </tr>\n",
       "    <tr>\n",
       "      <th>242</th>\n",
       "      <td>17.82</td>\n",
       "      <td>1.75</td>\n",
       "      <td>Male</td>\n",
       "      <td>No</td>\n",
       "      <td>Sat</td>\n",
       "      <td>Dinner</td>\n",
       "      <td>2</td>\n",
       "    </tr>\n",
       "    <tr>\n",
       "      <th>243</th>\n",
       "      <td>18.78</td>\n",
       "      <td>3.00</td>\n",
       "      <td>Female</td>\n",
       "      <td>No</td>\n",
       "      <td>Thur</td>\n",
       "      <td>Dinner</td>\n",
       "      <td>2</td>\n",
       "    </tr>\n",
       "  </tbody>\n",
       "</table>\n",
       "<p>244 rows × 7 columns</p>\n",
       "</div>"
      ],
      "text/plain": [
       "     total_bill   tip     sex smoker   day    time  size\n",
       "0         16.99  1.01  Female     No   Sun  Dinner     2\n",
       "1         10.34  1.66    Male     No   Sun  Dinner     3\n",
       "2         21.01  3.50    Male     No   Sun  Dinner     3\n",
       "3         23.68  3.31    Male     No   Sun  Dinner     2\n",
       "4         24.59  3.61  Female     No   Sun  Dinner     4\n",
       "..          ...   ...     ...    ...   ...     ...   ...\n",
       "239       29.03  5.92    Male     No   Sat  Dinner     3\n",
       "240       27.18  2.00  Female    Yes   Sat  Dinner     2\n",
       "241       22.67  2.00    Male    Yes   Sat  Dinner     2\n",
       "242       17.82  1.75    Male     No   Sat  Dinner     2\n",
       "243       18.78  3.00  Female     No  Thur  Dinner     2\n",
       "\n",
       "[244 rows x 7 columns]"
      ]
     },
     "execution_count": 16,
     "metadata": {},
     "output_type": "execute_result"
    }
   ],
   "source": [
    "# 필요한 데이터 가져오기\n",
    "tips = pd.read_csv('data/예제/tips.csv')\n",
    "tips"
   ]
  },
  {
   "cell_type": "code",
   "execution_count": 17,
   "id": "eb21dc4e-3467-4e64-9a02-6fd6830b6552",
   "metadata": {
    "tags": []
   },
   "outputs": [],
   "source": [
    "import statsmodels.api as sm"
   ]
  },
  {
   "cell_type": "code",
   "execution_count": 18,
   "id": "531b2cee-2da2-400a-b4cc-31c46368ee56",
   "metadata": {
    "tags": []
   },
   "outputs": [],
   "source": [
    "# 독립변수(total_bill, size)와 종속변수 지정\n",
    "X = tips[ ['total_bill', 'size'] ]          # 독립변수 IV\n",
    "y = tips['tip']                             # 종속변수 DV"
   ]
  },
  {
   "cell_type": "code",
   "execution_count": 21,
   "id": "8853bb1e-44cd-4d8f-93f2-8551ed35e46b",
   "metadata": {
    "tags": []
   },
   "outputs": [],
   "source": [
    "# 상수항 추가\n",
    "X = sm.add_constant(X)"
   ]
  },
  {
   "cell_type": "code",
   "execution_count": 24,
   "id": "d81a7777-a1a2-423d-b3ff-12b41e800f0c",
   "metadata": {
    "tags": []
   },
   "outputs": [],
   "source": [
    "# 다중선형 회귀분석 수행\n",
    "# OLS 객체 생성 후 적합\n",
    "model = sm.OLS(y, X).fit()"
   ]
  },
  {
   "cell_type": "code",
   "execution_count": 26,
   "id": "8803f70c-94d9-4571-8328-557a2e6ff01f",
   "metadata": {
    "tags": []
   },
   "outputs": [
    {
     "name": "stdout",
     "output_type": "stream",
     "text": [
      "                            OLS Regression Results                            \n",
      "==============================================================================\n",
      "Dep. Variable:                    tip   R-squared:                       0.468\n",
      "Model:                            OLS   Adj. R-squared:                  0.463\n",
      "Method:                 Least Squares   F-statistic:                     105.9\n",
      "Date:                Sat, 08 Jun 2024   Prob (F-statistic):           9.67e-34\n",
      "Time:                        01:12:20   Log-Likelihood:                -347.99\n",
      "No. Observations:                 244   AIC:                             702.0\n",
      "Df Residuals:                     241   BIC:                             712.5\n",
      "Df Model:                           2                                         \n",
      "Covariance Type:            nonrobust                                         \n",
      "==============================================================================\n",
      "                 coef    std err          t      P>|t|      [0.025      0.975]\n",
      "------------------------------------------------------------------------------\n",
      "const          0.6689      0.194      3.455      0.001       0.288       1.050\n",
      "total_bill     0.0927      0.009     10.172      0.000       0.075       0.111\n",
      "size           0.1926      0.085      2.258      0.025       0.025       0.361\n",
      "==============================================================================\n",
      "Omnibus:                       24.753   Durbin-Watson:                   2.100\n",
      "Prob(Omnibus):                  0.000   Jarque-Bera (JB):               46.169\n",
      "Skew:                           0.545   Prob(JB):                     9.43e-11\n",
      "Kurtosis:                       4.831   Cond. No.                         67.6\n",
      "==============================================================================\n",
      "\n",
      "Notes:\n",
      "[1] Standard Errors assume that the covariance matrix of the errors is correctly specified.\n"
     ]
    }
   ],
   "source": [
    "print(model.summary())"
   ]
  },
  {
   "cell_type": "markdown",
   "id": "6217633b-eba5-4559-860a-f8e244eb6b2a",
   "metadata": {},
   "source": [
    "- ```summary()```의 결과를 통해 독립변수(total_bill, size)들이 종속변수(tip)에 미치는 영향과 각 변수의 통계적 유의성을 확인할 수 있음\n",
    "- const(절편), total_bill, size의 ```p-value```가 모두 0.05보다 작기 때문에 tip의 크기에 영향을 미치는 것을 확인할 수 있음 (```P>|t|```로 확인 가능)\n",
    "- ```F-Statistic```이 105.9로 크고 ```Prob(F-statistic)``` 값이 0에 가깝기 때문에 모델이 전반적으로 매우 유의미함 "
   ]
  },
  {
   "cell_type": "code",
   "execution_count": null,
   "id": "28860278-0114-483f-a2a1-744c2f2116e9",
   "metadata": {},
   "outputs": [],
   "source": []
  },
  {
   "cell_type": "markdown",
   "id": "b08a5576-f101-4a96-8958-019acd1991b7",
   "metadata": {},
   "source": [
    "**2-2. 반응 변수의 기댓값 추정**\n",
    "- 적합된 결과에 메소드 ```predict()```를 사용하면 반응변수의 기댓값에 대한 점추정 값을 계산할 수 있게됨\n",
    "- 이때 적합에 사용했던 독립변수들의 배열을 입력값으로 지정"
   ]
  },
  {
   "cell_type": "markdown",
   "id": "445aa03b-fa62-4ecc-b4a1-0f1bb1f15e56",
   "metadata": {},
   "source": [
    "#### Q.\n",
    "위에서 적합한 회귀모형을 활용하여, 5번째 관측치에 대한 tip의 기댓값 추정하기"
   ]
  },
  {
   "cell_type": "code",
   "execution_count": 31,
   "id": "68f8f0f1-ba77-4515-9561-911330f0c2b8",
   "metadata": {
    "tags": []
   },
   "outputs": [
    {
     "data": {
      "text/plain": [
       "const          1.00\n",
       "total_bill    24.59\n",
       "size           4.00\n",
       "Name: 4, dtype: float64"
      ]
     },
     "execution_count": 31,
     "metadata": {},
     "output_type": "execute_result"
    }
   ],
   "source": [
    "# 5번째 관측치 데이터 값 확인 (여기서 X는 const/total_bill/size를 가지고 있는 변수)\n",
    "X.iloc[4]"
   ]
  },
  {
   "cell_type": "code",
   "execution_count": 32,
   "id": "c633584e-d206-447c-88a4-cb2d4054e373",
   "metadata": {
    "tags": []
   },
   "outputs": [
    {
     "data": {
      "text/plain": [
       "None    3.719157\n",
       "dtype: float64"
      ]
     },
     "execution_count": 32,
     "metadata": {},
     "output_type": "execute_result"
    }
   ],
   "source": [
    "# 5번째 관측치에 대한 tip의 기댓값을 추정\n",
    "model.predict(X.iloc[4])"
   ]
  },
  {
   "cell_type": "markdown",
   "id": "0ce47abc-83ea-42ff-bfff-8365c1b36e4e",
   "metadata": {},
   "source": [
    "- 5번째 관측치에 대한 tip의 기댓값을 추정한 결과: 3.719로 추정됨"
   ]
  },
  {
   "cell_type": "code",
   "execution_count": null,
   "id": "442490cf-a115-4326-ba95-9a2e8059c233",
   "metadata": {},
   "outputs": [],
   "source": []
  },
  {
   "cell_type": "markdown",
   "id": "29c3674e-0d5c-4d39-accc-2c73928d4ba8",
   "metadata": {},
   "source": [
    "**2-3. 반응 변수의 기댓값 예측**\n",
    "- 예측 방법은 적합된 결과에 메소드 ```predict()```를 사용하는 것은 동일하나 적합에 사용햇던 독립변수가 아닌 **새로운 독립변수의 배열을 입력값을 지정하는 것**이 차이점\n",
    "- 추가) ```get_prediction()```에 새로운 데이터를 입력하게 되면, 구간까지도 계산이 가능하며, 계산된 값에 ```summary_frame()```을 활용하면 이 결과를 데이터프레임의 형태로 볼 수 있게 됨"
   ]
  },
  {
   "cell_type": "markdown",
   "id": "2ece7bdc-fd32-4175-ae59-b22d95096556",
   "metadata": {},
   "source": [
    "#### Q.\n",
    "위에서 적합한 회귀모형을 활용하여, total_bill이 24.59이고 size가 4인 경우의 tips의 기댓값 예측하기"
   ]
  },
  {
   "cell_type": "code",
   "execution_count": 33,
   "id": "c97136e3-7ba7-4269-9f89-402e3331da15",
   "metadata": {
    "tags": []
   },
   "outputs": [
    {
     "data": {
      "text/html": [
       "<div>\n",
       "<style scoped>\n",
       "    .dataframe tbody tr th:only-of-type {\n",
       "        vertical-align: middle;\n",
       "    }\n",
       "\n",
       "    .dataframe tbody tr th {\n",
       "        vertical-align: top;\n",
       "    }\n",
       "\n",
       "    .dataframe thead th {\n",
       "        text-align: right;\n",
       "    }\n",
       "</style>\n",
       "<table border=\"1\" class=\"dataframe\">\n",
       "  <thead>\n",
       "    <tr style=\"text-align: right;\">\n",
       "      <th></th>\n",
       "      <th>const</th>\n",
       "      <th>total_bill</th>\n",
       "      <th>size</th>\n",
       "    </tr>\n",
       "  </thead>\n",
       "  <tbody>\n",
       "    <tr>\n",
       "      <th>0</th>\n",
       "      <td>1</td>\n",
       "      <td>24.59</td>\n",
       "      <td>4</td>\n",
       "    </tr>\n",
       "  </tbody>\n",
       "</table>\n",
       "</div>"
      ],
      "text/plain": [
       "   const  total_bill  size\n",
       "0      1       24.59     4"
      ]
     },
     "execution_count": 33,
     "metadata": {},
     "output_type": "execute_result"
    }
   ],
   "source": [
    "# 새로운 독립변수의 배열을 입력값으로 지정\n",
    "new_data = pd.DataFrame( {'const': [1], 'total_bill': [24.59], 'size': [4]} )\n",
    "new_data"
   ]
  },
  {
   "cell_type": "code",
   "execution_count": 36,
   "id": "f90a5ac4-ec97-4585-a621-bab07c06ac3b",
   "metadata": {
    "tags": []
   },
   "outputs": [],
   "source": [
    "# 예측 기댓값 결과 얻기\n",
    "result = model.get_prediction(new_data)"
   ]
  },
  {
   "cell_type": "code",
   "execution_count": 38,
   "id": "5efa9769-5fad-4eaa-9bf0-23318dce03eb",
   "metadata": {
    "tags": []
   },
   "outputs": [
    {
     "data": {
      "text/html": [
       "<div>\n",
       "<style scoped>\n",
       "    .dataframe tbody tr th:only-of-type {\n",
       "        vertical-align: middle;\n",
       "    }\n",
       "\n",
       "    .dataframe tbody tr th {\n",
       "        vertical-align: top;\n",
       "    }\n",
       "\n",
       "    .dataframe thead th {\n",
       "        text-align: right;\n",
       "    }\n",
       "</style>\n",
       "<table border=\"1\" class=\"dataframe\">\n",
       "  <thead>\n",
       "    <tr style=\"text-align: right;\">\n",
       "      <th></th>\n",
       "      <th>mean</th>\n",
       "      <th>mean_se</th>\n",
       "      <th>mean_ci_lower</th>\n",
       "      <th>mean_ci_upper</th>\n",
       "      <th>obs_ci_lower</th>\n",
       "      <th>obs_ci_upper</th>\n",
       "    </tr>\n",
       "  </thead>\n",
       "  <tbody>\n",
       "    <tr>\n",
       "      <th>0</th>\n",
       "      <td>3.719157</td>\n",
       "      <td>0.12093</td>\n",
       "      <td>3.480943</td>\n",
       "      <td>3.957371</td>\n",
       "      <td>1.708534</td>\n",
       "      <td>5.729779</td>\n",
       "    </tr>\n",
       "  </tbody>\n",
       "</table>\n",
       "</div>"
      ],
      "text/plain": [
       "       mean  mean_se  mean_ci_lower  mean_ci_upper  obs_ci_lower  obs_ci_upper\n",
       "0  3.719157  0.12093       3.480943       3.957371      1.708534      5.729779"
      ]
     },
     "execution_count": 38,
     "metadata": {},
     "output_type": "execute_result"
    }
   ],
   "source": [
    "# 요약 프레임으로 결과 보기\n",
    "result.summary_frame()"
   ]
  },
  {
   "cell_type": "markdown",
   "id": "c2225b74-faf6-4c42-9b47-16300be25fbb",
   "metadata": {},
   "source": [
    "- ```predict()``` 함수 결과를 통해 time과 smoker, size에 기반한 tip값은 3.29로 예측되는 total_bill이 24.59이고, size가 4인 경우의 tips의 기댓값은 3.719로 예측되었으며, 95%에서 예측구간 [3.480, 3.957]을 가지는 것을 확인할 수 있음"
   ]
  },
  {
   "cell_type": "code",
   "execution_count": null,
   "id": "2921f759-4202-476f-b05a-a72893d77486",
   "metadata": {},
   "outputs": [],
   "source": []
  },
  {
   "cell_type": "code",
   "execution_count": null,
   "id": "6d7289a1-3def-4247-bc49-5290a6fbabe6",
   "metadata": {},
   "outputs": [],
   "source": []
  },
  {
   "cell_type": "markdown",
   "id": "73df396a-faf9-43d4-a6ed-15879e07cbeb",
   "metadata": {},
   "source": [
    "<br>\n",
    "<br>\n",
    "<hr>\n",
    "<br>\n",
    "\n",
    "### 2절: 로지스틱 회귀모형\n",
    "#### 1. Statsmodels를 활용한 로지스틱 회귀분석\n",
    "\n",
    "- statsmodels를 활용해 로지스틱 회귀분석 수행하는 방법은 **Logit 클래스**와 **GLM 클래스**를 활용하는 방법이 있음\n",
    "- GLM 클래스는 로지스틱 모형보다 더 다양한 경우를 다루는 일반화선형모형을 만드는 것이기 때문에 이를 활용할 경우 주의해야 할 점:\n",
    "   - ```family``` 옵션에 분포와 연결 함수를 지정할 수 있는데, 이 옵션을 알맞게 지정해야 한다는 점\n",
    "- 두 가지 망법은 GLM 클래스를 사용한 방법이 더 많은 통계 결과를 지원하므로 여기선 GLM 클래스 사용법만 다루기로..~\n",
    "- ```statsmodels.api```의 ```GLM``` 클래스를 통해 ```glm``` 모형객체를 생성한 후, 해당 객체의 메소드 ```fit()```를 이용해 적합하고, 메소드 ```summary()```를 이용하면 회귀분석의 결과를 요약해서 볼 수 있음\n",
    "- 불러오기: ```import statsmodels.api as sm```\n",
    "- ```statsmodels.api.GLM(endog, exog, family, ...)```\n",
    "  - **endog** : 1차원 데이터 (반응변수, 종속변수)\n",
    "  - **exog** : n*k 배열 (n: 관측치의 수, k: 회귀계수의 수), 절편 미포함\n",
    "  - **family** : 분포와 연결함수 설정 (여기서는 로지스틱 회귀모형이므로 sm.families.Binomial()을 입력)"
   ]
  },
  {
   "cell_type": "markdown",
   "id": "bfb2d62c-611f-435a-a8d6-61e60cd6e0fe",
   "metadata": {},
   "source": [
    "#### Q.\n",
    "제공된 survived 데이터를 불러와 객실등급(pclass)을 독립변수로 하고, 생존여부(survived)를 종속변수로 하는 로지스틱 회귀분석 수행하기 (객실등급은 A등급인 경우 1, B등급인 경우 0으로 인코딩 되어있음)"
   ]
  },
  {
   "cell_type": "code",
   "execution_count": 39,
   "id": "d76dbc05-2624-4b96-93f2-88bbe4265263",
   "metadata": {
    "tags": []
   },
   "outputs": [
    {
     "data": {
      "text/html": [
       "<div>\n",
       "<style scoped>\n",
       "    .dataframe tbody tr th:only-of-type {\n",
       "        vertical-align: middle;\n",
       "    }\n",
       "\n",
       "    .dataframe tbody tr th {\n",
       "        vertical-align: top;\n",
       "    }\n",
       "\n",
       "    .dataframe thead th {\n",
       "        text-align: right;\n",
       "    }\n",
       "</style>\n",
       "<table border=\"1\" class=\"dataframe\">\n",
       "  <thead>\n",
       "    <tr style=\"text-align: right;\">\n",
       "      <th></th>\n",
       "      <th>survived</th>\n",
       "      <th>pclass</th>\n",
       "      <th>sex</th>\n",
       "      <th>age</th>\n",
       "    </tr>\n",
       "  </thead>\n",
       "  <tbody>\n",
       "    <tr>\n",
       "      <th>0</th>\n",
       "      <td>0</td>\n",
       "      <td>0</td>\n",
       "      <td>1</td>\n",
       "      <td>22.0</td>\n",
       "    </tr>\n",
       "    <tr>\n",
       "      <th>1</th>\n",
       "      <td>1</td>\n",
       "      <td>1</td>\n",
       "      <td>0</td>\n",
       "      <td>38.0</td>\n",
       "    </tr>\n",
       "    <tr>\n",
       "      <th>2</th>\n",
       "      <td>1</td>\n",
       "      <td>0</td>\n",
       "      <td>0</td>\n",
       "      <td>26.0</td>\n",
       "    </tr>\n",
       "    <tr>\n",
       "      <th>3</th>\n",
       "      <td>1</td>\n",
       "      <td>1</td>\n",
       "      <td>0</td>\n",
       "      <td>35.0</td>\n",
       "    </tr>\n",
       "    <tr>\n",
       "      <th>4</th>\n",
       "      <td>0</td>\n",
       "      <td>0</td>\n",
       "      <td>1</td>\n",
       "      <td>35.0</td>\n",
       "    </tr>\n",
       "    <tr>\n",
       "      <th>...</th>\n",
       "      <td>...</td>\n",
       "      <td>...</td>\n",
       "      <td>...</td>\n",
       "      <td>...</td>\n",
       "    </tr>\n",
       "    <tr>\n",
       "      <th>536</th>\n",
       "      <td>0</td>\n",
       "      <td>0</td>\n",
       "      <td>1</td>\n",
       "      <td>25.0</td>\n",
       "    </tr>\n",
       "    <tr>\n",
       "      <th>537</th>\n",
       "      <td>0</td>\n",
       "      <td>0</td>\n",
       "      <td>0</td>\n",
       "      <td>39.0</td>\n",
       "    </tr>\n",
       "    <tr>\n",
       "      <th>538</th>\n",
       "      <td>1</td>\n",
       "      <td>1</td>\n",
       "      <td>0</td>\n",
       "      <td>19.0</td>\n",
       "    </tr>\n",
       "    <tr>\n",
       "      <th>539</th>\n",
       "      <td>1</td>\n",
       "      <td>1</td>\n",
       "      <td>1</td>\n",
       "      <td>26.0</td>\n",
       "    </tr>\n",
       "    <tr>\n",
       "      <th>540</th>\n",
       "      <td>0</td>\n",
       "      <td>0</td>\n",
       "      <td>1</td>\n",
       "      <td>32.0</td>\n",
       "    </tr>\n",
       "  </tbody>\n",
       "</table>\n",
       "<p>541 rows × 4 columns</p>\n",
       "</div>"
      ],
      "text/plain": [
       "     survived  pclass  sex   age\n",
       "0           0       0    1  22.0\n",
       "1           1       1    0  38.0\n",
       "2           1       0    0  26.0\n",
       "3           1       1    0  35.0\n",
       "4           0       0    1  35.0\n",
       "..        ...     ...  ...   ...\n",
       "536         0       0    1  25.0\n",
       "537         0       0    0  39.0\n",
       "538         1       1    0  19.0\n",
       "539         1       1    1  26.0\n",
       "540         0       0    1  32.0\n",
       "\n",
       "[541 rows x 4 columns]"
      ]
     },
     "execution_count": 39,
     "metadata": {},
     "output_type": "execute_result"
    }
   ],
   "source": [
    "# 필요한 데이터 불러오기\n",
    "survived = pd.read_csv('data/예제/survived.csv')\n",
    "survived"
   ]
  },
  {
   "cell_type": "code",
   "execution_count": 43,
   "id": "629215a9-89ae-49a9-8907-e911f288a6f2",
   "metadata": {
    "tags": []
   },
   "outputs": [],
   "source": [
    "# 독립변수와 종속변수 지정\n",
    "X = survived['pclass']\n",
    "y = survived['survived']"
   ]
  },
  {
   "cell_type": "code",
   "execution_count": 44,
   "id": "323880cd-8ed1-4278-a400-8a3fa8178b01",
   "metadata": {
    "tags": []
   },
   "outputs": [],
   "source": [
    "# 상수항 추가\n",
    "X = sm.add_constant(X)"
   ]
  },
  {
   "cell_type": "code",
   "execution_count": 45,
   "id": "6e4e2c04-be07-4421-915a-68f692e5999b",
   "metadata": {
    "tags": []
   },
   "outputs": [],
   "source": [
    "# 로지스틱 회귀분석\n",
    "import statsmodels.api as sm"
   ]
  },
  {
   "cell_type": "code",
   "execution_count": 47,
   "id": "afdf7058-7884-4cd9-9135-e31d836f09ab",
   "metadata": {
    "tags": []
   },
   "outputs": [
    {
     "name": "stdout",
     "output_type": "stream",
     "text": [
      "                 Generalized Linear Model Regression Results                  \n",
      "==============================================================================\n",
      "Dep. Variable:               survived   No. Observations:                  541\n",
      "Model:                            GLM   Df Residuals:                      539\n",
      "Model Family:                Binomial   Df Model:                            1\n",
      "Link Function:                  Logit   Scale:                          1.0000\n",
      "Method:                          IRLS   Log-Likelihood:                -315.13\n",
      "Date:                Sat, 08 Jun 2024   Deviance:                       630.26\n",
      "Time:                        03:21:17   Pearson chi2:                     541.\n",
      "No. Iterations:                     4   Pseudo R-squ. (CS):             0.1527\n",
      "Covariance Type:            nonrobust                                         \n",
      "==============================================================================\n",
      "                 coef    std err          z      P>|z|      [0.025      0.975]\n",
      "------------------------------------------------------------------------------\n",
      "const         -1.1558      0.124     -9.293      0.000      -1.400      -0.912\n",
      "pclass         1.8009      0.198      9.086      0.000       1.412       2.189\n",
      "==============================================================================\n"
     ]
    }
   ],
   "source": [
    "# GLM 객체 생성 후 적합\n",
    "model = sm.GLM(y, X, family = sm.families.Binomial()).fit()\n",
    "print(model.summary())"
   ]
  },
  {
   "cell_type": "code",
   "execution_count": 53,
   "id": "70e71673-4548-4ce8-8247-4bb7def6aa15",
   "metadata": {
    "tags": []
   },
   "outputs": [
    {
     "data": {
      "text/plain": [
       "6.055094597973338"
      ]
     },
     "execution_count": 53,
     "metadata": {},
     "output_type": "execute_result"
    }
   ],
   "source": [
    "np.exp(1.8009)"
   ]
  },
  {
   "cell_type": "markdown",
   "id": "ae3f0386-5b12-49cb-87ad-16a7f9b239be",
   "metadata": {},
   "source": [
    "- ```summary()``` 함수의 결과를 통해 독립변수(pclass)가 종속변수(survived)에 미치는 영향과 각 변수의 통계적 유의성을 확인할 수 있음\n",
    "- const(절편), pclass의 p-value(여기서는 P>|z|)가 모두 0에 가깝기 때문에 통계적으로 유의미하며\n",
    "- 객실등급이 A등급인 경우의 생존의 **오즈**가 B등급인 경우에 비해 exp(1.8009)=6.055배 높은 것이 확인되었음"
   ]
  },
  {
   "cell_type": "code",
   "execution_count": 49,
   "id": "42b5d9d7-ca54-41fb-902b-e2a69a9a398a",
   "metadata": {
    "tags": []
   },
   "outputs": [],
   "source": [
    "import numpy as np"
   ]
  },
  {
   "cell_type": "code",
   "execution_count": 50,
   "id": "df775199-3b7f-4861-85a0-467a7dfe037f",
   "metadata": {
    "tags": []
   },
   "outputs": [
    {
     "name": "stdout",
     "output_type": "stream",
     "text": [
      "A등급 추정 생존 확률:  0.2394312844887346\n",
      "B등급 추정 생존 확률:  0.6559054109099537\n"
     ]
    }
   ],
   "source": [
    "# A 등급의 추정 생존확률\n",
    "Prob_A = np.exp(-1.1558 + 0 * 1.8009) / (1 + np.exp(-1.1558 + 0 * 1.8009))\n",
    "\n",
    "# B 등급의 추정 생존확률\n",
    "Prob_B = np.exp(-1.1558 + 1 * 1.8009) / (1 + np.exp(-1.1558 + 1 * 1.8009))\n",
    "\n",
    "print(\"A등급 추정 생존 확률: \", Prob_A)\n",
    "print(\"B등급 추정 생존 확률: \", Prob_B)"
   ]
  },
  {
   "cell_type": "markdown",
   "id": "8b7df2e1-dd49-4c02-b47c-79fc8bce49ec",
   "metadata": {},
   "source": [
    "- 등급별 추정 생존 확률은 각 **0.239, 0.656**로 B등급의 생존 확률이 더 높음"
   ]
  },
  {
   "cell_type": "code",
   "execution_count": 54,
   "id": "d19200be-5725-4721-b32d-a6fa047cb07c",
   "metadata": {
    "tags": []
   },
   "outputs": [
    {
     "data": {
      "text/plain": [
       "630.2646521014273"
      ]
     },
     "execution_count": 54,
     "metadata": {},
     "output_type": "execute_result"
    }
   ],
   "source": [
    "## 모형 적합도 검정\n",
    "# 적합 모형의 이탈도\n",
    "dev = model.deviance\n",
    "dev"
   ]
  },
  {
   "cell_type": "code",
   "execution_count": 55,
   "id": "5705fbbc-9793-4abd-9888-f9d43d67ba88",
   "metadata": {
    "tags": []
   },
   "outputs": [
    {
     "data": {
      "text/plain": [
       "719.8918959915944"
      ]
     },
     "execution_count": 55,
     "metadata": {},
     "output_type": "execute_result"
    }
   ],
   "source": [
    "# 영모형의 이탈도\n",
    "dev0 = model.null_deviance\n",
    "dev0"
   ]
  },
  {
   "cell_type": "code",
   "execution_count": 56,
   "id": "d59dc2ab-8b78-461e-9427-9103975f0183",
   "metadata": {
    "tags": []
   },
   "outputs": [
    {
     "name": "stdout",
     "output_type": "stream",
     "text": [
      "89.62724389016716 1\n"
     ]
    }
   ],
   "source": [
    "# 카이제곱 통계량과 자유도\n",
    "stat = dev0 - dev\n",
    "df = 2 - 1           # 자유도 = 적합모형의 회귀계수 수 - 영모형의 회귀계수 수\n",
    "print(stat, df)"
   ]
  },
  {
   "cell_type": "code",
   "execution_count": 58,
   "id": "f8d17b72-f7b3-4a18-929d-cfdfe4e76aa7",
   "metadata": {
    "tags": []
   },
   "outputs": [
    {
     "data": {
      "text/plain": [
       "0.0"
      ]
     },
     "execution_count": 58,
     "metadata": {},
     "output_type": "execute_result"
    }
   ],
   "source": [
    "from scipy.stats import chi2\n",
    "pval = 1 - chi2.cdf(stat, df)   # 유의확률\n",
    "pval                            # -> 0.0 모형이 잘 적합하고 있음"
   ]
  },
  {
   "cell_type": "markdown",
   "id": "208eeb72-3174-4142-b59d-591ea8176d08",
   "metadata": {},
   "source": [
    "- 영모형(절편만 있는 모형)의 이탈도(```.null_deviance```로 출력)는 719.89이고\n",
    "- 적합모형의 이탈도(결과의 Deviance 또는 ```.deviance```로 출력)는 630.26인 것 확인 가능\n",
    "- 이 차이를 계산하면 89.62가 됨\n",
    "\n",
    "- 이는 자유도가 1(= 적합모형의 회귀계수의 수 - 영모형의 회귀계수의 수 = 2-1)인 카이제곱 분포 하의 모형적합성 검정을 위한 검정 통계량이 됨\n",
    "- 이에 대한 유의확률은 0.000으로 계산되므로 **모형이 데이터를 잘 적합하고 있음**을 알 수 있음"
   ]
  },
  {
   "cell_type": "code",
   "execution_count": null,
   "id": "ffed5bf6-4d41-4f61-80ed-5fcda056391d",
   "metadata": {},
   "outputs": [],
   "source": []
  }
 ],
 "metadata": {
  "kernelspec": {
   "display_name": "Python 3 (ipykernel)",
   "language": "python",
   "name": "python3"
  },
  "language_info": {
   "codemirror_mode": {
    "name": "ipython",
    "version": 3
   },
   "file_extension": ".py",
   "mimetype": "text/x-python",
   "name": "python",
   "nbconvert_exporter": "python",
   "pygments_lexer": "ipython3",
   "version": "3.11.5"
  }
 },
 "nbformat": 4,
 "nbformat_minor": 5
}
