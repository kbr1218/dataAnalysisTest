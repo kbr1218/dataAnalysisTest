{
 "cells": [
  {
   "cell_type": "markdown",
   "id": "45843aa7-49fe-4d0b-891c-7b14e1ade061",
   "metadata": {},
   "source": [
    "## Part 04 머신러닝 - 1장 지도 학습 모형\n",
    "\n",
    "- 사이킷런 패키지에서 사용할 수 있는 지도학습 모형 종류\n",
    "- ```sklearn.서브패키지명.클래스명``` 으로 모형 객체를 생성한 후, 모형 객체의 메소드 ```fit()```를 통해 모델을 학습하고, ```predict()``` 또는 ```predict_proba()``` 메소드 등을 통해 결과를 예측\n",
    "- 불러오기: ```from sklearn.서브패키지 improt 클래스```\n",
    "- 지도학습 모형은 예측할 값의 형태에 따라 분류(이진/다지), 회귀로 구분할 수 있으며, 이진분류는 이진형(0 또는 1) 데이터, 다지분류는 이산형 데이터, 회귀는 연속형 데이터인 경우를 말함\n",
    "\n",
    "<br>\n",
    "\n",
    "| 모             형 | 서브패키지            | 클래스 (이진분류 모델)     | 클래스 (다지분류 모델) | 클래스 (회귀모델)             |\n",
    "|-------------------|----------------------|--------------------------|----------------------|-------------------------------|\n",
    "| 선형모델          | linear_model          | LogisticRegression      | -                    | LinearRegression              |\n",
    "| 서포트백터머신     | svm                   | SVC                     | LinearSVC           | SVR 또는 LinearSVR             |\n",
    "| 나이브베이즈       | navie_bayes           | BernoulliNB             | MultinomialNB       | GaussianNB                    |\n",
    "| k-최근접이웃       | neighbors             | KNeighborsClassifier    | -                   | KNeighborsRegressor           |\n",
    "| 인공신경망         | neural_network        | MLPClassifier           | -                   | MLPRegressor                  |\n",
    "| 의사결정나무       | tree                  | DecisionTreeClassifier  | -                  | DecisionTreeRegressor         |\n",
    "| 배깅              | ensemble              | BaggingClassifier       | -                   | BaggingRegressor              |\n",
    "| 랜덤포레스트       | ensemble              | RandomForestClassifier  | -                   | RandomForestRegressor         |\n",
    "| AdaBoost          | ensemble              | AdaBoostClassifier      | -                   | AdaBoostRegressor             |\n",
    "| GradientBoosting  | ensemble              | GradientBoostingClassifier  | -               | GradientBoostingRegressor     |\n"
   ]
  },
  {
   "cell_type": "markdown",
   "id": "58ae74f2-7f4c-49fe-8b92-dc745678eb6f",
   "metadata": {},
   "source": [
    "### 1절: 데이터 분할\n",
    "\n",
    "- 파이썬에서 데이터를 분할하는 방법\n",
    "\n",
    "#### **1) 홀드아웃**\n",
    "- 파이썬에서 홀드아웃을 수행하는 방법은 사이킷런의 ```model_selection``` 서브패키지 내 함수 ```train_test_split()```로 사용할 수 있음\n",
    "- ```sklearn.model_selection.train_test_split(arrays, test_size = 0.25, shuffle = True, stratify = None)```  \n",
    "   - **arrays**: 분할할 데이터를 입력 (리스트, 배열, 데이터프레임 등)\n",
    "   - **test_size**: 분할시 평가 데이터의 비율로 실수형 0.0 ~ 1.0 사이의 값을 입력함 (default = 0.25)\n",
    "   - **shuffle**: 분할하기 전 데이터를 섞을 지에 대한 여부 (default = True)\n",
    "   - **stratify**: 층화추출 (여러 층으로 분할한 후 각 층별로 데이터를 랜덤 추출)하는 것으로 목표 레이블 비율에 맞게 데이터를 분할하고자 할 경우 사용 (default = None)\n",
    "\n",
    "<br>\n",
    "<div align='center'>\n",
    "<img src=\"https://img1.daumcdn.net/thumb/R1280x0/?scode=mtistory2&fname=https%3A%2F%2Fblog.kakaocdn.net%2Fdn%2Fc93Fnm%2FbtqCLcJFFfv%2FeAa9sdTrNXyRgy8EOJVwRK%2Fimg.png\" alt=\"hold-out1\" width=\"400\">\n",
    "<br>\n",
    "<br>\n",
    "<img src=\"https://img1.daumcdn.net/thumb/R1280x0/?scode=mtistory2&fname=https%3A%2F%2Fblog.kakaocdn.net%2Fdn%2FR3OZR%2FbtqCLMql9Xi%2FFxunJuaRdrWmhJZipT0De0%2Fimg.png\" alt=\"hold-out2\" width=\"400\">\n",
    "</div>"
   ]
  },
  {
   "cell_type": "markdown",
   "id": "b251edbb-09b3-4974-955e-6265d915bc22",
   "metadata": {},
   "source": [
    "#### Q.\n",
    "사이킷런 패키지 내 breast_cancer 데이터를 호출한 후 학습 데이터와 평가 데이터로 분할하기. (단, 분할 시 breast_cancer 내의 data에 대하여 셔플을 진행하고 학습, 평가 데이터는 각각 X_train, y_train에 할당하고 target에 대해서는 X_test, y_test에 할당하고 학습 데이터와 평가 데이터의 비율은 7:3으로 가정)"
   ]
  },
  {
   "cell_type": "code",
   "execution_count": 1,
   "id": "b165bd57-f39b-4a1d-a2b3-43f6bb244d1b",
   "metadata": {
    "tags": []
   },
   "outputs": [],
   "source": [
    "# 데이터셋 불러오기\n",
    "from sklearn.datasets import load_breast_cancer\n",
    "breast_cancer = load_breast_cancer()\n",
    "data = breast_cancer.data\n",
    "target = breast_cancer.target"
   ]
  },
  {
   "cell_type": "code",
   "execution_count": 2,
   "id": "5dbd10a4-f100-4ab1-a791-8e025df69051",
   "metadata": {
    "tags": []
   },
   "outputs": [],
   "source": [
    "# train_test_split 함수 호출\n",
    "from sklearn.model_selection import train_test_split"
   ]
  },
  {
   "cell_type": "code",
   "execution_count": 9,
   "id": "776b3b91-b478-4a32-a29a-c79e273499bf",
   "metadata": {},
   "outputs": [
    {
     "name": "stdout",
     "output_type": "stream",
     "text": [
      "(398, 30) (171, 30) (398,) (171,)\n"
     ]
    }
   ],
   "source": [
    "# arrays에 data와 target을 둘 다 넣을 경우, X와 y에 대해 train과 test가 분할된 데이터셋들을 반환함\n",
    "# cf) data만 입력하면 X에 대한 train, test를 분할해서 반환\n",
    "# random_state를 특정 숫자로 입력할 경우 계속해서 동일한 데이터셋으로 분할\n",
    "X_train, X_test, y_train, y_test = train_test_split(data,                   # 분할할 데이터\n",
    "                                                    target,                 # 레이블 또는 타겟 변수\n",
    "                                                    test_size = 0.3,        # 모델이 예측할 출력 값 (실수형 0.0 ~ 1.0), 여기서는 7:3 \n",
    "                                                    random_state = 2022)\n",
    "\n",
    "print(X_train.shape, X_test.shape, y_train.shape, y_test.shape)"
   ]
  },
  {
   "cell_type": "code",
   "execution_count": 10,
   "id": "3f31733e-55d5-45f2-beed-3e387d117f5c",
   "metadata": {
    "tags": []
   },
   "outputs": [
    {
     "name": "stdout",
     "output_type": "stream",
     "text": [
      "(398, 30) (171, 30) (398,) (171,)\n"
     ]
    }
   ],
   "source": [
    "# stratify = target은 원래의 target 컬럼의 0과 1 비율을 반영하여 데이터 분할\n",
    "X_train, X_test, y_train, y_test = train_test_split(data,\n",
    "                                                    target,\n",
    "                                                    test_size = 0.3,   # 7:3\n",
    "                                                    random_state = 2022,\n",
    "                                                    stratify = target)\n",
    "\n",
    "print(X_train.shape, X_test.shape, y_train.shape, y_test.shape)"
   ]
  },
  {
   "cell_type": "code",
   "execution_count": null,
   "id": "027bee12-61d4-4635-9be5-fd8261b18e2b",
   "metadata": {},
   "outputs": [],
   "source": []
  },
  {
   "cell_type": "markdown",
   "id": "6c61a6f0-47ff-4b9a-bbec-7e58b8f8ff4a",
   "metadata": {},
   "source": [
    "#### **2) K-fold**\n",
    "- 파이썬에서 K-fold를 수행하는 방법은 사이킷런의 ```model_selection``` 서브패키지 내 클래스 ```KFold()```를 사용해 객체를 생성한 후 메소드 ```split()```을 통해 학습 데이터와 평가 데이터를 분할하기 위한 인덱스 번호를 생성하는 방법으로 진행됨\n",
    "- ```sklearn.model_selection.KFold(n_splits = 5, shuffle = False, ...)```  \n",
    "   - **n_splits**: fold의 수(k를 말함) (default = 5)\n",
    "   - **shuffle**: 분할하기 전 데이터를 섞을 지에 대한 여부 (default = False)\n",
    "\n",
    "<br>\n",
    "<div align='center'>\n",
    "<img src=\"https://www.baeldung.com/wp-content/uploads/sites/4/2022/02/kfold.png\" alt=\"kfold\" width=\"800\">\n",
    "</div>"
   ]
  },
  {
   "cell_type": "markdown",
   "id": "58d83d03-40cd-422d-a08d-b880af5f058e",
   "metadata": {},
   "source": [
    "#### Q.\n",
    "길이가 10인 임의의 넘파이 배열을 생성한 후, 클래스 KFold()를 통해 k = 5인 k-fold 시행 시 데이터셋이 어떻게 분할되는지 확인하기"
   ]
  },
  {
   "cell_type": "code",
   "execution_count": 12,
   "id": "bc7fcfcf-5dd3-49f0-a258-a91035f38a89",
   "metadata": {
    "tags": []
   },
   "outputs": [],
   "source": [
    "# 넘파이 배열 생성\n",
    "import numpy as np"
   ]
  },
  {
   "cell_type": "code",
   "execution_count": 14,
   "id": "07c9fe28-8eb2-4571-8e74-4fd026f34742",
   "metadata": {
    "tags": []
   },
   "outputs": [
    {
     "data": {
      "text/plain": [
       "array([0, 1, 2, 3, 4, 5, 6, 7, 8, 9])"
      ]
     },
     "execution_count": 14,
     "metadata": {},
     "output_type": "execute_result"
    }
   ],
   "source": [
    "X = np.arange(10)\n",
    "X"
   ]
  },
  {
   "cell_type": "code",
   "execution_count": 15,
   "id": "db13120b-1b6f-4293-895c-c49e97037462",
   "metadata": {
    "tags": []
   },
   "outputs": [],
   "source": [
    "# KFold 클래스 호출\n",
    "from sklearn.model_selection import KFold"
   ]
  },
  {
   "cell_type": "code",
   "execution_count": 16,
   "id": "033c3e9c-d8c3-45a2-88a0-c468450799e7",
   "metadata": {
    "tags": []
   },
   "outputs": [
    {
     "data": {
      "text/plain": [
       "KFold(n_splits=5, random_state=None, shuffle=False)"
      ]
     },
     "execution_count": 16,
     "metadata": {},
     "output_type": "execute_result"
    }
   ],
   "source": [
    "kfold = KFold(n_splits = 5)     # k =5 \n",
    "kfold"
   ]
  },
  {
   "cell_type": "code",
   "execution_count": 17,
   "id": "b5e9a509-a783-432e-8e68-7c44669f3af7",
   "metadata": {
    "tags": []
   },
   "outputs": [
    {
     "name": "stdout",
     "output_type": "stream",
     "text": [
      "학습:  [2 3 4 5 6 7 8 9] 평가:  [0 1]\n",
      "학습:  [0 1 4 5 6 7 8 9] 평가:  [2 3]\n",
      "학습:  [0 1 2 3 6 7 8 9] 평가:  [4 5]\n",
      "학습:  [0 1 2 3 4 5 8 9] 평가:  [6 7]\n",
      "학습:  [0 1 2 3 4 5 6 7] 평가:  [8 9]\n"
     ]
    }
   ],
   "source": [
    "# 메소드 .split은 학습, 평가 데이터의 인덱스를 생성함\n",
    "for train_idx, test_idx in kfold.split(X) :\n",
    "    print(\"학습: \", train_idx, \"평가: \", test_idx)   # 인덱스 번호"
   ]
  },
  {
   "cell_type": "markdown",
   "id": "579d324a-570c-400c-bd60-457c45628f75",
   "metadata": {},
   "source": [
    "- 홀드아웃에서와 같이 **라벨의 비율에 맞게** K-fold를 수행하고자 할 경우, 사이킷런의 ```model_selection``` 서브패키지 내 클래스 ```StratifiedKFold()```를 사용해 객체를 생성하고 메소드 ```split()```을 통해 학습 데이터와 평가 데이터를 분할하기 위한 인덱스 번호를 생성하면 됨\n",
    "- ```sklearn.model_selection.StratifiedKFold(n_splits = 5, shuffle = False, ...)```\n",
    "   - **n_splits**: fold의 수(k를 말함) (default = 5)\n",
    "   - **shuffle**: 분할하기 전 데이터를 섞을 지에 대한 여부 (default = False)"
   ]
  },
  {
   "cell_type": "markdown",
   "id": "95a019d9-50dc-4270-bac1-a41f1449515b",
   "metadata": {},
   "source": [
    "#### Q.\n",
    "길이가 15인 임의의 넘파이 배열 X와 0, 1, 2의 비율이 각각 2:1:2인 리스트 y를 생성한 후, 클래스 StratifiedKFold()를 통하여 y의 비율을 반영하여 k = 3인 k-fold 시행 시 데이터셋이 어떻게 분할되는지 확인하기"
   ]
  },
  {
   "cell_type": "code",
   "execution_count": 18,
   "id": "6970d79f-e73e-41a0-ab31-ff4382490216",
   "metadata": {
    "tags": []
   },
   "outputs": [],
   "source": [
    "import numpy as np"
   ]
  },
  {
   "cell_type": "code",
   "execution_count": 19,
   "id": "dbc98fef-a4c3-4e6a-899a-c7073496d8f9",
   "metadata": {
    "tags": []
   },
   "outputs": [
    {
     "data": {
      "text/plain": [
       "array([ 0,  1,  2,  3,  4,  5,  6,  7,  8,  9, 10, 11, 12, 13, 14])"
      ]
     },
     "execution_count": 19,
     "metadata": {},
     "output_type": "execute_result"
    }
   ],
   "source": [
    "X = np.arange(15)   # 넘파이 배열 생성\n",
    "X"
   ]
  },
  {
   "cell_type": "code",
   "execution_count": 20,
   "id": "e169613c-cb51-400f-8b1c-cb5f8a931955",
   "metadata": {
    "tags": []
   },
   "outputs": [
    {
     "data": {
      "text/plain": [
       "[0, 0, 0, 0, 0, 0, 1, 1, 1, 2, 2, 2, 2, 2, 2]"
      ]
     },
     "execution_count": 20,
     "metadata": {},
     "output_type": "execute_result"
    }
   ],
   "source": [
    "y = [0] * 6 + [1] * 3 + [2] * 6    # 리스트 생성, [0, 0, 0, 0, 0, 0, 1, 1, 1, 2, 2, 2, 2, 2, 2]와 같음\n",
    "y"
   ]
  },
  {
   "cell_type": "code",
   "execution_count": 22,
   "id": "080982bd-d3ea-4b68-8b34-ba790d5c7919",
   "metadata": {
    "tags": []
   },
   "outputs": [
    {
     "data": {
      "text/plain": [
       "StratifiedKFold(n_splits=3, random_state=None, shuffle=False)"
      ]
     },
     "execution_count": 22,
     "metadata": {},
     "output_type": "execute_result"
    }
   ],
   "source": [
    "# StratifiedKFold 클래스 호출\n",
    "from sklearn.model_selection import StratifiedKFold\n",
    "kfold = StratifiedKFold(n_splits = 3)\n",
    "kfold"
   ]
  },
  {
   "cell_type": "code",
   "execution_count": 23,
   "id": "d8c790fc-f692-4152-8698-3b7a157e4ce4",
   "metadata": {
    "tags": []
   },
   "outputs": [
    {
     "name": "stdout",
     "output_type": "stream",
     "text": [
      "학습:  [ 2  3  4  5  7  8 11 12 13 14] 평가:  [ 0  1  6  9 10]\n",
      "학습:  [ 0  1  4  5  6  8  9 10 13 14] 평가:  [ 2  3  7 11 12]\n",
      "학습:  [ 0  1  2  3  6  7  9 10 11 12] 평가:  [ 4  5  8 13 14]\n"
     ]
    }
   ],
   "source": [
    "# 메소드 .split은 학습, 평가 데이터의 인덱스를 생성해줌\n",
    "# 동시에 y의 0, 1, 2 비율도 함께 고려\n",
    "for train_idx, test_idx in kfold.split(X, y):\n",
    "    print(\"학습: \", train_idx, \"평가: \", test_idx)   # 인덱스 번호"
   ]
  },
  {
   "cell_type": "markdown",
   "id": "2f4c49bd-fede-4834-9609-379ab186f72d",
   "metadata": {},
   "source": [
    "<br><br><br>\n",
    "<hr>\n",
    "\n",
    "### 2절: 성과분석\n",
    "\n",
    "- 지도학습 모형의 성능을 평가하는 성과분석 방법\n",
    "- 사이킷런의 서브패키지 metrics 내의 여러 함수들을 통해 성과분석을 수행할 수 있음 (이진분류, 다지분류, 회귀에 따라 성과분석에 사용되는 측도가 상이함)\n",
    "\n",
    "<br>\n",
    "\n",
    "#### **1) 분류지표**\n",
    "\n",
    "#### **1-1) 혼동 행렬을 이용한 평가 지표**\n",
    "- 혼동행렬(Confusion Matrix)은 사이킷런의 서브패키지 ```metrics``` 내 함수 ```confusion_matrix()```를 통해 구할 수 있음\n",
    "- ```sklearn.metrics.confusion_matrix(y_true, y_pred, labels=None, ...)```  \n",
    "   - **y_true**: 실제값\n",
    "   - **y_pred**: 모형객체에서 반환된 예측값\n",
    "   - **labels**: 인덱싱할 레이블 목록으로, default는 None으로 한 번 이상 나타나는 값의 정렬된 순서가 반환됨"
   ]
  },
  {
   "cell_type": "markdown",
   "id": "bf8b6a7f-1a5d-4a1c-8a57-f8e7b83839c8",
   "metadata": {},
   "source": [
    "#### Q.\n",
    "임의의 리스트 y_true와 y_pred를 생성한 후, 함수 confusion_matrix()를 통하여 이진분류와 다지분류인 경우 혼동행렬을 구하는 코드 작성하기"
   ]
  },
  {
   "cell_type": "code",
   "execution_count": 24,
   "id": "6d8d335d-2a72-41a8-9980-201c36479cde",
   "metadata": {
    "tags": []
   },
   "outputs": [],
   "source": [
    "# 함수 호출\n",
    "from sklearn.metrics import confusion_matrix"
   ]
  },
  {
   "cell_type": "code",
   "execution_count": 25,
   "id": "20ac99f6-b363-4701-9d56-b7dcd133bdd3",
   "metadata": {
    "tags": []
   },
   "outputs": [
    {
     "data": {
      "text/plain": [
       "array([[2, 1],\n",
       "       [0, 3]], dtype=int64)"
      ]
     },
     "execution_count": 25,
     "metadata": {},
     "output_type": "execute_result"
    }
   ],
   "source": [
    "# 이진분류\n",
    "y_true = [0, 0, 0, 1, 1, 1]\n",
    "y_pred = [0, 1, 0, 1, 1, 1]\n",
    "\n",
    "confusion_matrix(y_true, y_pred)"
   ]
  },
  {
   "cell_type": "code",
   "execution_count": 26,
   "id": "4f27f59d-0dc8-4865-8200-e5125f3f4a8b",
   "metadata": {
    "tags": []
   },
   "outputs": [
    {
     "data": {
      "text/plain": [
       "array([[2, 1],\n",
       "       [0, 3]], dtype=int64)"
      ]
     },
     "execution_count": 26,
     "metadata": {},
     "output_type": "execute_result"
    }
   ],
   "source": [
    "# 이진분류 (레이블로 되어있는 경우)\n",
    "y_true = ['A', 'A', 'A', 'B', 'B', 'B']\n",
    "y_pred = ['A', 'B', 'A', 'B', 'B', 'B']\n",
    "\n",
    "confusion_matrix(y_true, y_pred, labels=['A', 'B'])   # 레이블 구분"
   ]
  },
  {
   "cell_type": "code",
   "execution_count": 27,
   "id": "8cb122b9-d219-4b6c-aae7-88a2aae77269",
   "metadata": {
    "tags": []
   },
   "outputs": [
    {
     "data": {
      "text/plain": [
       "array([[1, 2, 0],\n",
       "       [1, 1, 0],\n",
       "       [1, 1, 2]], dtype=int64)"
      ]
     },
     "execution_count": 27,
     "metadata": {},
     "output_type": "execute_result"
    }
   ],
   "source": [
    "# 다지분류 (레이블: 0, 1, 2)\n",
    "y_true = [0, 0, 0, 1, 1, 2, 2, 2, 2]\n",
    "y_pred = [0, 1, 1, 1, 0, 0, 1, 2, 2]\n",
    "\n",
    "confusion_matrix(y_true, y_pred)"
   ]
  },
  {
   "cell_type": "markdown",
   "id": "da31de7d-f3a5-42c0-9f2a-1c9e69c92399",
   "metadata": {},
   "source": [
    "- 혼동행렬을 이용한 평가지표는 지표별로 사이킷런의 서브패키지에 metrics 내 함수를 제공함\n",
    "- 제공하는 대표적인 평가지표들:\n",
    "   - **정확도(Accuracy)** : ```metrics.accuracy_score(y_true, y_pred, ...)```\n",
    "   - **재현율(Recall)** : ```metrics.recall_score(y_true, y_pred, ...)```\n",
    "   - **정밀도(Precision)** : ```metrics.precision_score(y_true, y_pred, ...)```\n",
    "   - **F1-Score** : ```metrics.f1_score(y_true, y_pred, ...)```"
   ]
  },
  {
   "cell_type": "markdown",
   "id": "143a68e0-c5ac-40c4-8889-17c87502afcb",
   "metadata": {},
   "source": [
    "#### Q.\n",
    "임의의 리스트 y_true와 y_pred를 생성한 후, 이진분류에 대하여 Accuracy, Recall, Precision, F1-score를 구하는 코드 작성하기"
   ]
  },
  {
   "cell_type": "code",
   "execution_count": 28,
   "id": "db6f96a1-34c0-49b7-80ba-1717c5785083",
   "metadata": {
    "tags": []
   },
   "outputs": [],
   "source": [
    "# 함수 호출\n",
    "from sklearn.metrics import accuracy_score, recall_score, precision_score, f1_score"
   ]
  },
  {
   "cell_type": "code",
   "execution_count": 29,
   "id": "53af7b8d-5792-45d2-b01e-b21d03ff4326",
   "metadata": {
    "tags": []
   },
   "outputs": [],
   "source": [
    "# 이진분류\n",
    "y_true = [0, 0, 0, 1, 1, 1]\n",
    "y_pred = [0, 1, 0, 1, 1, 1]"
   ]
  },
  {
   "cell_type": "code",
   "execution_count": 30,
   "id": "ea4f9725-87f3-4409-8735-326681fb7cf3",
   "metadata": {
    "tags": []
   },
   "outputs": [
    {
     "data": {
      "text/plain": [
       "0.8333333333333334"
      ]
     },
     "execution_count": 30,
     "metadata": {},
     "output_type": "execute_result"
    }
   ],
   "source": [
    "# 정확도 (Accuracy)\n",
    "acc = accuracy_score(y_true, y_pred)\n",
    "acc"
   ]
  },
  {
   "cell_type": "code",
   "execution_count": 31,
   "id": "bd8a7873-53cf-4835-98e8-d44a6a98c132",
   "metadata": {
    "tags": []
   },
   "outputs": [
    {
     "data": {
      "text/plain": [
       "1.0"
      ]
     },
     "execution_count": 31,
     "metadata": {},
     "output_type": "execute_result"
    }
   ],
   "source": [
    "# 재현율 (Recall)\n",
    "recall = recall_score(y_true, y_pred)\n",
    "recall"
   ]
  },
  {
   "cell_type": "code",
   "execution_count": 32,
   "id": "f51affae-bce9-4ee3-a480-fcdf9972d20e",
   "metadata": {
    "tags": []
   },
   "outputs": [
    {
     "data": {
      "text/plain": [
       "0.75"
      ]
     },
     "execution_count": 32,
     "metadata": {},
     "output_type": "execute_result"
    }
   ],
   "source": [
    "# 정밀도 (precision)\n",
    "pre = precision_score(y_true, y_pred)\n",
    "pre"
   ]
  },
  {
   "cell_type": "code",
   "execution_count": 33,
   "id": "d99f2b8e-e7c3-4ffe-ad8c-f93e66811a40",
   "metadata": {
    "tags": []
   },
   "outputs": [
    {
     "data": {
      "text/plain": [
       "0.8571428571428571"
      ]
     },
     "execution_count": 33,
     "metadata": {},
     "output_type": "execute_result"
    }
   ],
   "source": [
    "# f-1 score\n",
    "f1 = f1_score(y_true, y_pred)\n",
    "f1"
   ]
  },
  {
   "cell_type": "markdown",
   "id": "3e1201a5-284e-4ca3-94dd-7b406c2dd90b",
   "metadata": {},
   "source": [
    "- 함수 **```metrics.classification_report(y_true, y_pre, ...)```** 는 분류(이진/다지)의 대표적인 평가 지표를 표의 형태로 제공함"
   ]
  },
  {
   "cell_type": "code",
   "execution_count": 35,
   "id": "9e037cb7-31a9-4099-ad25-1551338b192e",
   "metadata": {
    "tags": []
   },
   "outputs": [],
   "source": [
    "from sklearn.metrics import classification_report"
   ]
  },
  {
   "cell_type": "code",
   "execution_count": 38,
   "id": "d33f2b08-98c7-4a9c-89c5-655fa9a88760",
   "metadata": {
    "tags": []
   },
   "outputs": [
    {
     "name": "stdout",
     "output_type": "stream",
     "text": [
      "              precision    recall  f1-score   support\n",
      "\n",
      "           0       1.00      0.67      0.80         3\n",
      "           1       0.75      1.00      0.86         3\n",
      "\n",
      "    accuracy                           0.83         6\n",
      "   macro avg       0.88      0.83      0.83         6\n",
      "weighted avg       0.88      0.83      0.83         6\n",
      "\n"
     ]
    }
   ],
   "source": [
    "report = classification_report(y_true, y_pred)\n",
    "print(report)"
   ]
  },
  {
   "cell_type": "markdown",
   "id": "6de5fa13-ad45-4b5f-aa90-71ddac78f5c3",
   "metadata": {},
   "source": [
    "<br>\n",
    "<br>\n",
    "<br>\n",
    "\n",
    "#### **1-2) AUC**\n",
    "- AUC는 사이킷런의 서브패키지 ```metrics``` 내 함수 ```roc_auc_score()```를 통해 FPR(거짓긍정률)과 TPR(참긍정률)을 반환받아 함수 ```auc()```의 인자에 입력하여 구함  \n",
    "\n",
    "<br>\n",
    "\n",
    "- ```roc_auc_score()``` 함수 사용법\n",
    "   - ```sklearn.metrics.roc_auc_score(y_true, y_score, ...)```\n",
    "      - **y_true**: 실제값\n",
    "      - **y_pred**: 모형객체에서 반환된 목표 점수(target scores), 예측 확률이 입력됨\n",
    "\n",
    "<br>\n",
    "\n",
    "- ```auc()``` 함수 사용법\n",
    "   - ```sklearn.metrics.auc(x, y)```\n",
    "      - **x**: x좌표 (FPR이 입력됨)\n",
    "      - **y**: y좌표 (TPR이 입력됨)"
   ]
  },
  {
   "cell_type": "markdown",
   "id": "88065ad8-022c-4d07-9547-b6bc5a640ea0",
   "metadata": {},
   "source": [
    "#### Q.\n",
    "임의의 리스트 y_true와 y_score를 생성한 후, 이진분류에 대하여 AUC를 구하는 코드 작성하기"
   ]
  },
  {
   "cell_type": "code",
   "execution_count": 45,
   "id": "23ac6722-1e1f-4f17-a1c9-b22c1ebf9936",
   "metadata": {
    "tags": []
   },
   "outputs": [],
   "source": [
    "# 함수 호출\n",
    "from sklearn.metrics import roc_curve, auc"
   ]
  },
  {
   "cell_type": "code",
   "execution_count": 46,
   "id": "5761ff09-c34a-45ee-b91a-f4bfdd476196",
   "metadata": {
    "tags": []
   },
   "outputs": [],
   "source": [
    "# 이진 분류\n",
    "y_true = [0, 0, 0, 1, 1, 1]\n",
    "y_score = [0.1, 0.75, 0.35, 0.92, 0.81, 0.68]"
   ]
  },
  {
   "cell_type": "code",
   "execution_count": 49,
   "id": "646ab6ae-b07f-430f-b60c-502d8b763743",
   "metadata": {
    "tags": []
   },
   "outputs": [
    {
     "name": "stdout",
     "output_type": "stream",
     "text": [
      "FPR:  [0.         0.         0.         0.33333333 0.33333333 1.        ]\n",
      "TPR:  [0.         0.33333333 0.66666667 0.66666667 1.         1.        ]\n",
      "thresholds:  [ inf 0.92 0.81 0.75 0.68 0.1 ]\n"
     ]
    }
   ],
   "source": [
    "# ROC\n",
    "# 함수 roc_curve()는 FPR, TPR, thresholds 세 가지를 반환함\n",
    "fpr, tpr, thresholds = roc_curve(y_true, y_score)\n",
    "print(\"FPR: \", fpr)\n",
    "print(\"TPR: \", tpr)\n",
    "print(\"thresholds: \", thresholds)"
   ]
  },
  {
   "cell_type": "code",
   "execution_count": 50,
   "id": "58426133-e77f-4630-9e6d-71247209220c",
   "metadata": {
    "tags": []
   },
   "outputs": [
    {
     "data": {
      "text/plain": [
       "0.888888888888889"
      ]
     },
     "execution_count": 50,
     "metadata": {},
     "output_type": "execute_result"
    }
   ],
   "source": [
    "# AUC\n",
    "AUC = auc(fpr, tpr)  # roc_curve에서 반환된 fpr > x축, tpr > y축\n",
    "AUC"
   ]
  },
  {
   "cell_type": "markdown",
   "id": "d96db52e-84a8-489d-b59c-fa34ca8421c7",
   "metadata": {},
   "source": [
    "<br><br><br>\n",
    "\n",
    "#### **2) 예측지표**\n",
    "- 목푯값이 연속형인 모델의 대표적인 평가지표\n",
    "   - **MSE** : ```metrics.mean_squared_error(y_true, y_pred, ...)```\n",
    "      - 예측 값과 실제 값 간의 차이의 제곱의 평균\n",
    "      - 값이 클수록 모델의 예측이 실제 값과 많이 다르다는 것 의미\n",
    "   - **MAE** : ```metrics.mean_absolute_error(y_true, y_pred, ...)```\n",
    "      - 예측 값과 실제 값 간의 절대 차이의 평균\n",
    "      - 값이 클수록 모델의 예측이 실제값과 많이 다르다는 것 의미\n",
    "      - MSE보다 해석하기 쉬움\n",
    "   - **MAPE** : ```metrics.mean_absolute_percentage_error(y_true, y_pred, ...)```\n",
    "      - 예측 값과 실제 값 간의 절대 오차의 백분율 평균\n",
    "      - 값이 클수록 모델의 예측이 실제 값과 많이 다르다는 것 의미"
   ]
  },
  {
   "cell_type": "markdown",
   "id": "2ea62a1d-f1eb-4887-a8d0-1f02b7a8f013",
   "metadata": {},
   "source": [
    "#### Q.\n",
    "임의의 리스트 y_true와 y_pred를 생성한 후, 목푯값이 연속형인 모델의 평가지표 MSE, MAE, MAPE를 구하는 코드 작성하기"
   ]
  },
  {
   "cell_type": "code",
   "execution_count": 59,
   "id": "d3fd6c3b-a693-4c68-84ea-a7c54c8ae2f0",
   "metadata": {
    "tags": []
   },
   "outputs": [],
   "source": [
    "# 함수 호출\n",
    "from sklearn.metrics import mean_squared_error, mean_absolute_error, mean_absolute_percentage_error"
   ]
  },
  {
   "cell_type": "code",
   "execution_count": 60,
   "id": "13d44936-48a6-4590-9f90-2aac5a2b4765",
   "metadata": {
    "tags": []
   },
   "outputs": [],
   "source": [
    "# 연속형 데이터 만들기\n",
    "# 균일분포 (0, 1)에서 임의의 난수 생성\n",
    "import numpy as np\n",
    "np.random.seed(123)   # 난수 고정"
   ]
  },
  {
   "cell_type": "code",
   "execution_count": 61,
   "id": "63148db3-43ce-4ccf-914a-ec9b890e010b",
   "metadata": {
    "tags": []
   },
   "outputs": [
    {
     "data": {
      "text/plain": [
       "array([0.69646919, 0.28613933, 0.22685145, 0.55131477, 0.71946897])"
      ]
     },
     "execution_count": 61,
     "metadata": {},
     "output_type": "execute_result"
    }
   ],
   "source": [
    "y_true = np.random.random_sample(5)   # 균일분포 (0, 1)에서 5개 랜덤 추출\n",
    "y_true"
   ]
  },
  {
   "cell_type": "code",
   "execution_count": 62,
   "id": "1d4bc46e-4f71-4c58-874f-7afd545afc16",
   "metadata": {
    "tags": []
   },
   "outputs": [
    {
     "data": {
      "text/plain": [
       "array([0.42310646, 0.9807642 , 0.68482974, 0.4809319 , 0.39211752])"
      ]
     },
     "execution_count": 62,
     "metadata": {},
     "output_type": "execute_result"
    }
   ],
   "source": [
    "y_pred = np.random.random_sample(5)   # 균일분포 (0, 1)에서 5개 랜덤 추출\n",
    "y_pred"
   ]
  },
  {
   "cell_type": "code",
   "execution_count": 64,
   "id": "6319354d-3366-4f40-97ff-63ddcb6c5b0c",
   "metadata": {
    "tags": []
   },
   "outputs": [
    {
     "data": {
      "text/plain": [
       "0.17581754220802784"
      ]
     },
     "execution_count": 64,
     "metadata": {},
     "output_type": "execute_result"
    }
   ],
   "source": [
    "# MSE\n",
    "mse = mean_squared_error(y_true, y_pred)\n",
    "mse"
   ]
  },
  {
   "cell_type": "code",
   "execution_count": 65,
   "id": "59970463-e32a-4704-890f-955e04d6c404",
   "metadata": {
    "tags": []
   },
   "outputs": [
    {
     "data": {
      "text/plain": [
       "0.36474003862364796"
      ]
     },
     "execution_count": 65,
     "metadata": {},
     "output_type": "execute_result"
    }
   ],
   "source": [
    "# MAE >> 예측 값이 실제 값에서 평균적으로 약 0.364만큼 벗어났다는 것을 의미함\n",
    "mae = mean_absolute_error(y_true, y_pred)\n",
    "mae"
   ]
  },
  {
   "cell_type": "code",
   "execution_count": 66,
   "id": "d57e6a0d-b309-4693-aa75-4b58338d51c8",
   "metadata": {
    "tags": []
   },
   "outputs": [
    {
     "data": {
      "text/plain": [
       "1.0843148337483364"
      ]
     },
     "execution_count": 66,
     "metadata": {},
     "output_type": "execute_result"
    }
   ],
   "source": [
    "# MAPE >> 모델의 예측값이 실제 값에서 평균적으로 86% 벗어났다는 것 의미\n",
    "mape = mean_absolute_percentage_error(y_true, y_pred)\n",
    "mape"
   ]
  },
  {
   "cell_type": "code",
   "execution_count": null,
   "id": "a67a5218-3e27-4b4f-a503-7b8717b1e9b0",
   "metadata": {},
   "outputs": [],
   "source": []
  }
 ],
 "metadata": {
  "kernelspec": {
   "display_name": "Python 3 (ipykernel)",
   "language": "python",
   "name": "python3"
  },
  "language_info": {
   "codemirror_mode": {
    "name": "ipython",
    "version": 3
   },
   "file_extension": ".py",
   "mimetype": "text/x-python",
   "name": "python",
   "nbconvert_exporter": "python",
   "pygments_lexer": "ipython3",
   "version": "3.11.5"
  }
 },
 "nbformat": 4,
 "nbformat_minor": 5
}
