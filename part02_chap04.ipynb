{
 "cells": [
  {
   "cell_type": "markdown",
   "id": "cae23575-223b-4e5d-afb2-b6eef4752eca",
   "metadata": {},
   "source": [
    "## Part 02 데이터 핸들링 - 4장 데이터 결합 및 요약\n",
    "### 1절: 데이터 결합\n",
    "\n",
    "#### 데이터 붙이기\n",
    "- 판다스에서 제공하는 ```concat()``` 함수는 데이터프레임을 붙이는 역할을 수행\n",
    "- 단순히 행이나 열을 물리적으로 잇는 함수\n",
    "- ```pandas.concat(objs, axis=0, ...)```\n",
    "\n",
    "<br>\n",
    "\n",
    "#### 인자\n",
    "- **objs** : 시리즈니 데이터프레임을 담은 시퀀스\n",
    "- **axis** : 연결할 축으로 0은 행(default), 1은 열을 기준으로 연결"
   ]
  },
  {
   "cell_type": "code",
   "execution_count": 3,
   "id": "970df3f1-235b-40f8-8814-14ccaca4d7bb",
   "metadata": {
    "tags": []
   },
   "outputs": [],
   "source": [
    "import pandas as pd"
   ]
  },
  {
   "cell_type": "code",
   "execution_count": 5,
   "id": "92924fec-ee79-4b6b-93ec-0c35c171045b",
   "metadata": {
    "tags": []
   },
   "outputs": [
    {
     "data": {
      "text/html": [
       "<div>\n",
       "<style scoped>\n",
       "    .dataframe tbody tr th:only-of-type {\n",
       "        vertical-align: middle;\n",
       "    }\n",
       "\n",
       "    .dataframe tbody tr th {\n",
       "        vertical-align: top;\n",
       "    }\n",
       "\n",
       "    .dataframe thead th {\n",
       "        text-align: right;\n",
       "    }\n",
       "</style>\n",
       "<table border=\"1\" class=\"dataframe\">\n",
       "  <thead>\n",
       "    <tr style=\"text-align: right;\">\n",
       "      <th></th>\n",
       "      <th>student_id</th>\n",
       "      <th>score</th>\n",
       "    </tr>\n",
       "  </thead>\n",
       "  <tbody>\n",
       "    <tr>\n",
       "      <th>0</th>\n",
       "      <td>s1</td>\n",
       "      <td>55</td>\n",
       "    </tr>\n",
       "    <tr>\n",
       "      <th>1</th>\n",
       "      <td>s2</td>\n",
       "      <td>90</td>\n",
       "    </tr>\n",
       "    <tr>\n",
       "      <th>2</th>\n",
       "      <td>s3</td>\n",
       "      <td>85</td>\n",
       "    </tr>\n",
       "    <tr>\n",
       "      <th>3</th>\n",
       "      <td>s4</td>\n",
       "      <td>71</td>\n",
       "    </tr>\n",
       "    <tr>\n",
       "      <th>4</th>\n",
       "      <td>s5</td>\n",
       "      <td>63</td>\n",
       "    </tr>\n",
       "    <tr>\n",
       "      <th>5</th>\n",
       "      <td>s6</td>\n",
       "      <td>99</td>\n",
       "    </tr>\n",
       "  </tbody>\n",
       "</table>\n",
       "</div>"
      ],
      "text/plain": [
       "  student_id  score\n",
       "0         s1     55\n",
       "1         s2     90\n",
       "2         s3     85\n",
       "3         s4     71\n",
       "4         s5     63\n",
       "5         s6     99"
      ]
     },
     "execution_count": 5,
     "metadata": {},
     "output_type": "execute_result"
    }
   ],
   "source": [
    "# 데이터프레임 1 생성\n",
    "obj1 = {'student_id' : ['s1', 's2', 's3', 's4', 's5', 's6'],\n",
    "        'score' : [55, 90, 85, 71, 63, 99] }\n",
    "df1 = pd.DataFrame(obj1)\n",
    "df1"
   ]
  },
  {
   "cell_type": "code",
   "execution_count": 7,
   "id": "190d0d43-e75d-4ed9-9bc7-f0090cf9a53c",
   "metadata": {
    "tags": []
   },
   "outputs": [
    {
     "data": {
      "text/html": [
       "<div>\n",
       "<style scoped>\n",
       "    .dataframe tbody tr th:only-of-type {\n",
       "        vertical-align: middle;\n",
       "    }\n",
       "\n",
       "    .dataframe tbody tr th {\n",
       "        vertical-align: top;\n",
       "    }\n",
       "\n",
       "    .dataframe thead th {\n",
       "        text-align: right;\n",
       "    }\n",
       "</style>\n",
       "<table border=\"1\" class=\"dataframe\">\n",
       "  <thead>\n",
       "    <tr style=\"text-align: right;\">\n",
       "      <th></th>\n",
       "      <th>student_id</th>\n",
       "      <th>score</th>\n",
       "    </tr>\n",
       "  </thead>\n",
       "  <tbody>\n",
       "    <tr>\n",
       "      <th>0</th>\n",
       "      <td>t1</td>\n",
       "      <td>65</td>\n",
       "    </tr>\n",
       "    <tr>\n",
       "      <th>1</th>\n",
       "      <td>t2</td>\n",
       "      <td>99</td>\n",
       "    </tr>\n",
       "    <tr>\n",
       "      <th>2</th>\n",
       "      <td>t3</td>\n",
       "      <td>87</td>\n",
       "    </tr>\n",
       "    <tr>\n",
       "      <th>3</th>\n",
       "      <td>t4</td>\n",
       "      <td>75</td>\n",
       "    </tr>\n",
       "    <tr>\n",
       "      <th>4</th>\n",
       "      <td>t5</td>\n",
       "      <td>57</td>\n",
       "    </tr>\n",
       "    <tr>\n",
       "      <th>5</th>\n",
       "      <td>t6</td>\n",
       "      <td>88</td>\n",
       "    </tr>\n",
       "  </tbody>\n",
       "</table>\n",
       "</div>"
      ],
      "text/plain": [
       "  student_id  score\n",
       "0         t1     65\n",
       "1         t2     99\n",
       "2         t3     87\n",
       "3         t4     75\n",
       "4         t5     57\n",
       "5         t6     88"
      ]
     },
     "execution_count": 7,
     "metadata": {},
     "output_type": "execute_result"
    }
   ],
   "source": [
    "# 데이터프레임 2 생성\n",
    "obj2 = {'student_id' : ['t1', 't2', 't3', 't4', 't5', 't6'],\n",
    "        'score' : [65, 99, 87, 75, 57, 88] }\n",
    "df2 = pd.DataFrame(obj2)\n",
    "df2"
   ]
  },
  {
   "cell_type": "code",
   "execution_count": 8,
   "id": "38195961-e024-45d3-9a67-8ef6e998fbee",
   "metadata": {
    "tags": []
   },
   "outputs": [
    {
     "data": {
      "text/html": [
       "<div>\n",
       "<style scoped>\n",
       "    .dataframe tbody tr th:only-of-type {\n",
       "        vertical-align: middle;\n",
       "    }\n",
       "\n",
       "    .dataframe tbody tr th {\n",
       "        vertical-align: top;\n",
       "    }\n",
       "\n",
       "    .dataframe thead th {\n",
       "        text-align: right;\n",
       "    }\n",
       "</style>\n",
       "<table border=\"1\" class=\"dataframe\">\n",
       "  <thead>\n",
       "    <tr style=\"text-align: right;\">\n",
       "      <th></th>\n",
       "      <th>student_id</th>\n",
       "      <th>score</th>\n",
       "    </tr>\n",
       "  </thead>\n",
       "  <tbody>\n",
       "    <tr>\n",
       "      <th>0</th>\n",
       "      <td>s1</td>\n",
       "      <td>55</td>\n",
       "    </tr>\n",
       "    <tr>\n",
       "      <th>1</th>\n",
       "      <td>s2</td>\n",
       "      <td>90</td>\n",
       "    </tr>\n",
       "    <tr>\n",
       "      <th>2</th>\n",
       "      <td>s3</td>\n",
       "      <td>85</td>\n",
       "    </tr>\n",
       "    <tr>\n",
       "      <th>3</th>\n",
       "      <td>s4</td>\n",
       "      <td>71</td>\n",
       "    </tr>\n",
       "    <tr>\n",
       "      <th>4</th>\n",
       "      <td>s5</td>\n",
       "      <td>63</td>\n",
       "    </tr>\n",
       "    <tr>\n",
       "      <th>5</th>\n",
       "      <td>s6</td>\n",
       "      <td>99</td>\n",
       "    </tr>\n",
       "    <tr>\n",
       "      <th>0</th>\n",
       "      <td>t1</td>\n",
       "      <td>65</td>\n",
       "    </tr>\n",
       "    <tr>\n",
       "      <th>1</th>\n",
       "      <td>t2</td>\n",
       "      <td>99</td>\n",
       "    </tr>\n",
       "    <tr>\n",
       "      <th>2</th>\n",
       "      <td>t3</td>\n",
       "      <td>87</td>\n",
       "    </tr>\n",
       "    <tr>\n",
       "      <th>3</th>\n",
       "      <td>t4</td>\n",
       "      <td>75</td>\n",
       "    </tr>\n",
       "    <tr>\n",
       "      <th>4</th>\n",
       "      <td>t5</td>\n",
       "      <td>57</td>\n",
       "    </tr>\n",
       "    <tr>\n",
       "      <th>5</th>\n",
       "      <td>t6</td>\n",
       "      <td>88</td>\n",
       "    </tr>\n",
       "  </tbody>\n",
       "</table>\n",
       "</div>"
      ],
      "text/plain": [
       "  student_id  score\n",
       "0         s1     55\n",
       "1         s2     90\n",
       "2         s3     85\n",
       "3         s4     71\n",
       "4         s5     63\n",
       "5         s6     99\n",
       "0         t1     65\n",
       "1         t2     99\n",
       "2         t3     87\n",
       "3         t4     75\n",
       "4         t5     57\n",
       "5         t6     88"
      ]
     },
     "execution_count": 8,
     "metadata": {},
     "output_type": "execute_result"
    }
   ],
   "source": [
    "# 두 개의 데이터프레임을 행을 기준으로 붙임\n",
    "pd.concat([df1, df2])"
   ]
  },
  {
   "cell_type": "code",
   "execution_count": 9,
   "id": "798eed90-cb1c-4579-b738-4d6ba9e4f86e",
   "metadata": {
    "tags": []
   },
   "outputs": [
    {
     "data": {
      "text/html": [
       "<div>\n",
       "<style scoped>\n",
       "    .dataframe tbody tr th:only-of-type {\n",
       "        vertical-align: middle;\n",
       "    }\n",
       "\n",
       "    .dataframe tbody tr th {\n",
       "        vertical-align: top;\n",
       "    }\n",
       "\n",
       "    .dataframe thead th {\n",
       "        text-align: right;\n",
       "    }\n",
       "</style>\n",
       "<table border=\"1\" class=\"dataframe\">\n",
       "  <thead>\n",
       "    <tr style=\"text-align: right;\">\n",
       "      <th></th>\n",
       "      <th>student_id</th>\n",
       "      <th>score</th>\n",
       "      <th>student_id</th>\n",
       "      <th>score</th>\n",
       "    </tr>\n",
       "  </thead>\n",
       "  <tbody>\n",
       "    <tr>\n",
       "      <th>0</th>\n",
       "      <td>s1</td>\n",
       "      <td>55</td>\n",
       "      <td>t1</td>\n",
       "      <td>65</td>\n",
       "    </tr>\n",
       "    <tr>\n",
       "      <th>1</th>\n",
       "      <td>s2</td>\n",
       "      <td>90</td>\n",
       "      <td>t2</td>\n",
       "      <td>99</td>\n",
       "    </tr>\n",
       "    <tr>\n",
       "      <th>2</th>\n",
       "      <td>s3</td>\n",
       "      <td>85</td>\n",
       "      <td>t3</td>\n",
       "      <td>87</td>\n",
       "    </tr>\n",
       "    <tr>\n",
       "      <th>3</th>\n",
       "      <td>s4</td>\n",
       "      <td>71</td>\n",
       "      <td>t4</td>\n",
       "      <td>75</td>\n",
       "    </tr>\n",
       "    <tr>\n",
       "      <th>4</th>\n",
       "      <td>s5</td>\n",
       "      <td>63</td>\n",
       "      <td>t5</td>\n",
       "      <td>57</td>\n",
       "    </tr>\n",
       "    <tr>\n",
       "      <th>5</th>\n",
       "      <td>s6</td>\n",
       "      <td>99</td>\n",
       "      <td>t6</td>\n",
       "      <td>88</td>\n",
       "    </tr>\n",
       "  </tbody>\n",
       "</table>\n",
       "</div>"
      ],
      "text/plain": [
       "  student_id  score student_id  score\n",
       "0         s1     55         t1     65\n",
       "1         s2     90         t2     99\n",
       "2         s3     85         t3     87\n",
       "3         s4     71         t4     75\n",
       "4         s5     63         t5     57\n",
       "5         s6     99         t6     88"
      ]
     },
     "execution_count": 9,
     "metadata": {},
     "output_type": "execute_result"
    }
   ],
   "source": [
    "# 두 개의 데이터프레임을 열을 기준으로 붙임\n",
    "pd.concat([df1, df2], axis=1)"
   ]
  },
  {
   "cell_type": "code",
   "execution_count": null,
   "id": "10a984ad-d2b6-41ae-b344-2922fd57af97",
   "metadata": {},
   "outputs": [],
   "source": []
  },
  {
   "cell_type": "markdown",
   "id": "3a4ee4d4-0930-43f1-bb52-e694a28ef85e",
   "metadata": {},
   "source": [
    "#### 데이터 병합\n",
    "- 두 데이터프레임의 고유한 키를 기준으로 병합하는 것\n",
    "- 데이터프레임의 ```merge()``` 메소드를 사용\n",
    "- ```df.merge(right, how='inner', on=None, ...)```\n",
    "\n",
    "<br>\n",
    "\n",
    "#### 인자\n",
    "- **right** : 병합할 데이터 프레임\n",
    "- **how** : 병합할 유형으로 'left', 'right', 'outer', 'inner' 등이 있으며 default는 'inner'\n",
    "- **on** : 병합을 위한 고유한 키로, 컬럼명을 의미함. 동일한 컬럼명이 두 데이터프레임에 모두 존재해야 함"
   ]
  },
  {
   "cell_type": "code",
   "execution_count": 11,
   "id": "d80710d4-295c-4620-98e9-7a3f1aecead6",
   "metadata": {
    "tags": []
   },
   "outputs": [
    {
     "data": {
      "text/html": [
       "<div>\n",
       "<style scoped>\n",
       "    .dataframe tbody tr th:only-of-type {\n",
       "        vertical-align: middle;\n",
       "    }\n",
       "\n",
       "    .dataframe tbody tr th {\n",
       "        vertical-align: top;\n",
       "    }\n",
       "\n",
       "    .dataframe thead th {\n",
       "        text-align: right;\n",
       "    }\n",
       "</style>\n",
       "<table border=\"1\" class=\"dataframe\">\n",
       "  <thead>\n",
       "    <tr style=\"text-align: right;\">\n",
       "      <th></th>\n",
       "      <th>student_id</th>\n",
       "      <th>stat_score</th>\n",
       "    </tr>\n",
       "  </thead>\n",
       "  <tbody>\n",
       "    <tr>\n",
       "      <th>0</th>\n",
       "      <td>s3</td>\n",
       "      <td>85</td>\n",
       "    </tr>\n",
       "    <tr>\n",
       "      <th>1</th>\n",
       "      <td>s4</td>\n",
       "      <td>71</td>\n",
       "    </tr>\n",
       "    <tr>\n",
       "      <th>2</th>\n",
       "      <td>s5</td>\n",
       "      <td>63</td>\n",
       "    </tr>\n",
       "    <tr>\n",
       "      <th>3</th>\n",
       "      <td>s6</td>\n",
       "      <td>99</td>\n",
       "    </tr>\n",
       "  </tbody>\n",
       "</table>\n",
       "</div>"
      ],
      "text/plain": [
       "  student_id  stat_score\n",
       "0         s3          85\n",
       "1         s4          71\n",
       "2         s5          63\n",
       "3         s6          99"
      ]
     },
     "execution_count": 11,
     "metadata": {},
     "output_type": "execute_result"
    }
   ],
   "source": [
    "# 데이터프레임 1 생성\n",
    "obj1 = {'student_id' : ['s3', 's4', 's5', 's6'],\n",
    "        'stat_score' : [85, 71, 63, 99] }\n",
    "df1 = pd.DataFrame(obj1)\n",
    "df1"
   ]
  },
  {
   "cell_type": "code",
   "execution_count": 12,
   "id": "fef6aba0-561f-45c8-8afd-ec73d10445b0",
   "metadata": {
    "tags": []
   },
   "outputs": [
    {
     "data": {
      "text/html": [
       "<div>\n",
       "<style scoped>\n",
       "    .dataframe tbody tr th:only-of-type {\n",
       "        vertical-align: middle;\n",
       "    }\n",
       "\n",
       "    .dataframe tbody tr th {\n",
       "        vertical-align: top;\n",
       "    }\n",
       "\n",
       "    .dataframe thead th {\n",
       "        text-align: right;\n",
       "    }\n",
       "</style>\n",
       "<table border=\"1\" class=\"dataframe\">\n",
       "  <thead>\n",
       "    <tr style=\"text-align: right;\">\n",
       "      <th></th>\n",
       "      <th>student_id</th>\n",
       "      <th>math_score</th>\n",
       "    </tr>\n",
       "  </thead>\n",
       "  <tbody>\n",
       "    <tr>\n",
       "      <th>0</th>\n",
       "      <td>s1</td>\n",
       "      <td>65</td>\n",
       "    </tr>\n",
       "    <tr>\n",
       "      <th>1</th>\n",
       "      <td>s2</td>\n",
       "      <td>99</td>\n",
       "    </tr>\n",
       "    <tr>\n",
       "      <th>2</th>\n",
       "      <td>s3</td>\n",
       "      <td>87</td>\n",
       "    </tr>\n",
       "    <tr>\n",
       "      <th>3</th>\n",
       "      <td>s4</td>\n",
       "      <td>75</td>\n",
       "    </tr>\n",
       "  </tbody>\n",
       "</table>\n",
       "</div>"
      ],
      "text/plain": [
       "  student_id  math_score\n",
       "0         s1          65\n",
       "1         s2          99\n",
       "2         s3          87\n",
       "3         s4          75"
      ]
     },
     "execution_count": 12,
     "metadata": {},
     "output_type": "execute_result"
    }
   ],
   "source": [
    "# 데이터프레임 2 생성\n",
    "obj2 = {'student_id' : ['s1', 's2', 's3', 's4'],\n",
    "        'math_score' : [65, 99, 87, 75] }\n",
    "df2 = pd.DataFrame(obj2)\n",
    "df2"
   ]
  },
  {
   "cell_type": "code",
   "execution_count": 13,
   "id": "10858d75-8f1d-42c0-9d4f-74665af7bb3d",
   "metadata": {
    "tags": []
   },
   "outputs": [
    {
     "data": {
      "text/html": [
       "<div>\n",
       "<style scoped>\n",
       "    .dataframe tbody tr th:only-of-type {\n",
       "        vertical-align: middle;\n",
       "    }\n",
       "\n",
       "    .dataframe tbody tr th {\n",
       "        vertical-align: top;\n",
       "    }\n",
       "\n",
       "    .dataframe thead th {\n",
       "        text-align: right;\n",
       "    }\n",
       "</style>\n",
       "<table border=\"1\" class=\"dataframe\">\n",
       "  <thead>\n",
       "    <tr style=\"text-align: right;\">\n",
       "      <th></th>\n",
       "      <th>student_id</th>\n",
       "      <th>stat_score</th>\n",
       "      <th>math_score</th>\n",
       "    </tr>\n",
       "  </thead>\n",
       "  <tbody>\n",
       "    <tr>\n",
       "      <th>0</th>\n",
       "      <td>s3</td>\n",
       "      <td>85</td>\n",
       "      <td>87</td>\n",
       "    </tr>\n",
       "    <tr>\n",
       "      <th>1</th>\n",
       "      <td>s4</td>\n",
       "      <td>71</td>\n",
       "      <td>75</td>\n",
       "    </tr>\n",
       "  </tbody>\n",
       "</table>\n",
       "</div>"
      ],
      "text/plain": [
       "  student_id  stat_score  math_score\n",
       "0         s3          85          87\n",
       "1         s4          71          75"
      ]
     },
     "execution_count": 13,
     "metadata": {},
     "output_type": "execute_result"
    }
   ],
   "source": [
    "# merge\n",
    "# 1) 병합 유형 : inner(default)\n",
    "# 두 데이터프레임의 공통 학생들의 점수만 합쳐짐\n",
    "df1.merge(df2, on='student_id')"
   ]
  },
  {
   "cell_type": "code",
   "execution_count": 14,
   "id": "0d47a9ca-95a2-4cd7-98b8-20b7a7c76d7a",
   "metadata": {
    "tags": []
   },
   "outputs": [
    {
     "data": {
      "text/html": [
       "<div>\n",
       "<style scoped>\n",
       "    .dataframe tbody tr th:only-of-type {\n",
       "        vertical-align: middle;\n",
       "    }\n",
       "\n",
       "    .dataframe tbody tr th {\n",
       "        vertical-align: top;\n",
       "    }\n",
       "\n",
       "    .dataframe thead th {\n",
       "        text-align: right;\n",
       "    }\n",
       "</style>\n",
       "<table border=\"1\" class=\"dataframe\">\n",
       "  <thead>\n",
       "    <tr style=\"text-align: right;\">\n",
       "      <th></th>\n",
       "      <th>student_id</th>\n",
       "      <th>stat_score</th>\n",
       "      <th>math_score</th>\n",
       "    </tr>\n",
       "  </thead>\n",
       "  <tbody>\n",
       "    <tr>\n",
       "      <th>0</th>\n",
       "      <td>s3</td>\n",
       "      <td>85.0</td>\n",
       "      <td>87.0</td>\n",
       "    </tr>\n",
       "    <tr>\n",
       "      <th>1</th>\n",
       "      <td>s4</td>\n",
       "      <td>71.0</td>\n",
       "      <td>75.0</td>\n",
       "    </tr>\n",
       "    <tr>\n",
       "      <th>2</th>\n",
       "      <td>s5</td>\n",
       "      <td>63.0</td>\n",
       "      <td>NaN</td>\n",
       "    </tr>\n",
       "    <tr>\n",
       "      <th>3</th>\n",
       "      <td>s6</td>\n",
       "      <td>99.0</td>\n",
       "      <td>NaN</td>\n",
       "    </tr>\n",
       "    <tr>\n",
       "      <th>4</th>\n",
       "      <td>s1</td>\n",
       "      <td>NaN</td>\n",
       "      <td>65.0</td>\n",
       "    </tr>\n",
       "    <tr>\n",
       "      <th>5</th>\n",
       "      <td>s2</td>\n",
       "      <td>NaN</td>\n",
       "      <td>99.0</td>\n",
       "    </tr>\n",
       "  </tbody>\n",
       "</table>\n",
       "</div>"
      ],
      "text/plain": [
       "  student_id  stat_score  math_score\n",
       "0         s3        85.0        87.0\n",
       "1         s4        71.0        75.0\n",
       "2         s5        63.0         NaN\n",
       "3         s6        99.0         NaN\n",
       "4         s1         NaN        65.0\n",
       "5         s2         NaN        99.0"
      ]
     },
     "execution_count": 14,
     "metadata": {},
     "output_type": "execute_result"
    }
   ],
   "source": [
    "# 2) 병합 유형 : outer\n",
    "# 두 데이터프레임의 모든 학생들의 점수가 합쳐짐\n",
    "df1.merge(df2, on='student_id', how='outer')"
   ]
  },
  {
   "cell_type": "code",
   "execution_count": 15,
   "id": "61ddbcd1-41ee-4945-98ac-151c4d3e63f0",
   "metadata": {
    "tags": []
   },
   "outputs": [
    {
     "data": {
      "text/html": [
       "<div>\n",
       "<style scoped>\n",
       "    .dataframe tbody tr th:only-of-type {\n",
       "        vertical-align: middle;\n",
       "    }\n",
       "\n",
       "    .dataframe tbody tr th {\n",
       "        vertical-align: top;\n",
       "    }\n",
       "\n",
       "    .dataframe thead th {\n",
       "        text-align: right;\n",
       "    }\n",
       "</style>\n",
       "<table border=\"1\" class=\"dataframe\">\n",
       "  <thead>\n",
       "    <tr style=\"text-align: right;\">\n",
       "      <th></th>\n",
       "      <th>student_id</th>\n",
       "      <th>stat_score</th>\n",
       "      <th>math_score</th>\n",
       "    </tr>\n",
       "  </thead>\n",
       "  <tbody>\n",
       "    <tr>\n",
       "      <th>0</th>\n",
       "      <td>s3</td>\n",
       "      <td>85</td>\n",
       "      <td>87.0</td>\n",
       "    </tr>\n",
       "    <tr>\n",
       "      <th>1</th>\n",
       "      <td>s4</td>\n",
       "      <td>71</td>\n",
       "      <td>75.0</td>\n",
       "    </tr>\n",
       "    <tr>\n",
       "      <th>2</th>\n",
       "      <td>s5</td>\n",
       "      <td>63</td>\n",
       "      <td>NaN</td>\n",
       "    </tr>\n",
       "    <tr>\n",
       "      <th>3</th>\n",
       "      <td>s6</td>\n",
       "      <td>99</td>\n",
       "      <td>NaN</td>\n",
       "    </tr>\n",
       "  </tbody>\n",
       "</table>\n",
       "</div>"
      ],
      "text/plain": [
       "  student_id  stat_score  math_score\n",
       "0         s3          85        87.0\n",
       "1         s4          71        75.0\n",
       "2         s5          63         NaN\n",
       "3         s6          99         NaN"
      ]
     },
     "execution_count": 15,
     "metadata": {},
     "output_type": "execute_result"
    }
   ],
   "source": [
    "# 3) 병합 유형 : left\n",
    "# 왼쪽 데이터프레임(df1)에 있는 학생들의 점수들만 반환 (점수가 없는 과목은 NaN 반환)\n",
    "df1.merge(df2, on='student_id', how='left')"
   ]
  },
  {
   "cell_type": "code",
   "execution_count": 16,
   "id": "90f5a352-f838-4f1b-85f4-b1e14f570927",
   "metadata": {
    "tags": []
   },
   "outputs": [
    {
     "data": {
      "text/html": [
       "<div>\n",
       "<style scoped>\n",
       "    .dataframe tbody tr th:only-of-type {\n",
       "        vertical-align: middle;\n",
       "    }\n",
       "\n",
       "    .dataframe tbody tr th {\n",
       "        vertical-align: top;\n",
       "    }\n",
       "\n",
       "    .dataframe thead th {\n",
       "        text-align: right;\n",
       "    }\n",
       "</style>\n",
       "<table border=\"1\" class=\"dataframe\">\n",
       "  <thead>\n",
       "    <tr style=\"text-align: right;\">\n",
       "      <th></th>\n",
       "      <th>student_id</th>\n",
       "      <th>stat_score</th>\n",
       "      <th>math_score</th>\n",
       "    </tr>\n",
       "  </thead>\n",
       "  <tbody>\n",
       "    <tr>\n",
       "      <th>0</th>\n",
       "      <td>s1</td>\n",
       "      <td>NaN</td>\n",
       "      <td>65</td>\n",
       "    </tr>\n",
       "    <tr>\n",
       "      <th>1</th>\n",
       "      <td>s2</td>\n",
       "      <td>NaN</td>\n",
       "      <td>99</td>\n",
       "    </tr>\n",
       "    <tr>\n",
       "      <th>2</th>\n",
       "      <td>s3</td>\n",
       "      <td>85.0</td>\n",
       "      <td>87</td>\n",
       "    </tr>\n",
       "    <tr>\n",
       "      <th>3</th>\n",
       "      <td>s4</td>\n",
       "      <td>71.0</td>\n",
       "      <td>75</td>\n",
       "    </tr>\n",
       "  </tbody>\n",
       "</table>\n",
       "</div>"
      ],
      "text/plain": [
       "  student_id  stat_score  math_score\n",
       "0         s1         NaN          65\n",
       "1         s2         NaN          99\n",
       "2         s3        85.0          87\n",
       "3         s4        71.0          75"
      ]
     },
     "execution_count": 16,
     "metadata": {},
     "output_type": "execute_result"
    }
   ],
   "source": [
    "# 4) 병합 유형 : right\n",
    "# 오른쪽 데이터프레임(df2)에 있는 학생들의 점수들만 반환 (점수가 없는 과목은 NaN 반환)\n",
    "df1.merge(df2, on='student_id', how='right')"
   ]
  },
  {
   "cell_type": "code",
   "execution_count": null,
   "id": "679c635d-51fd-4596-b5df-e614e5f490ea",
   "metadata": {},
   "outputs": [],
   "source": []
  },
  {
   "cell_type": "markdown",
   "id": "d343a864-bf50-4122-a948-c341572d2601",
   "metadata": {},
   "source": [
    "### 2절: 데이터 요약\n",
    "#### 그룹별 통계 요약\n",
    "- 특정 컬럼(카테고리형)에 따라 숫자형 값을 하나로 묶어 통계 또는 집계 결과를 얻는 것을 말함\n",
    "- 데이터프레임의 ```groupby()``` 메소드를 통해 데이터프레임을 특정 기준으로 그룹화한 데이터프레임을 생성\n",
    "- ```df.groupby(by, as_index=True, ...)```\n",
    "\n",
    "<br>\n",
    "\n",
    "#### 인자\n",
    "- **by** : 그룹할 기준으로, 컬럼명 또는 컬럼명을 담은 리스트 등이 입력됨\n",
    "- **as_index** : 그룹할 기준을 행 인덱스로 사용할 지에 대한 여부로, True(default)는 행 인덱스로 그룹 기준으로 사용하고 False는 행 인딕스로 행 위치 인덱스 번호를 사용"
   ]
  },
  {
   "cell_type": "code",
   "execution_count": 29,
   "id": "7da6d8c5-5fbc-4c2e-9c83-a3fc930e237e",
   "metadata": {
    "tags": []
   },
   "outputs": [
    {
     "data": {
      "text/html": [
       "<div>\n",
       "<style scoped>\n",
       "    .dataframe tbody tr th:only-of-type {\n",
       "        vertical-align: middle;\n",
       "    }\n",
       "\n",
       "    .dataframe tbody tr th {\n",
       "        vertical-align: top;\n",
       "    }\n",
       "\n",
       "    .dataframe thead th {\n",
       "        text-align: right;\n",
       "    }\n",
       "</style>\n",
       "<table border=\"1\" class=\"dataframe\">\n",
       "  <thead>\n",
       "    <tr style=\"text-align: right;\">\n",
       "      <th></th>\n",
       "      <th>student_id</th>\n",
       "      <th>stat_score</th>\n",
       "      <th>math_score</th>\n",
       "      <th>sex</th>\n",
       "      <th>pre_level</th>\n",
       "    </tr>\n",
       "  </thead>\n",
       "  <tbody>\n",
       "    <tr>\n",
       "      <th>0</th>\n",
       "      <td>s1</td>\n",
       "      <td>85</td>\n",
       "      <td>88</td>\n",
       "      <td>Female</td>\n",
       "      <td>B</td>\n",
       "    </tr>\n",
       "    <tr>\n",
       "      <th>1</th>\n",
       "      <td>s2</td>\n",
       "      <td>71</td>\n",
       "      <td>49</td>\n",
       "      <td>Male</td>\n",
       "      <td>A</td>\n",
       "    </tr>\n",
       "    <tr>\n",
       "      <th>2</th>\n",
       "      <td>s3</td>\n",
       "      <td>63</td>\n",
       "      <td>76</td>\n",
       "      <td>Male</td>\n",
       "      <td>B</td>\n",
       "    </tr>\n",
       "    <tr>\n",
       "      <th>3</th>\n",
       "      <td>s4</td>\n",
       "      <td>99</td>\n",
       "      <td>22</td>\n",
       "      <td>Female</td>\n",
       "      <td>B</td>\n",
       "    </tr>\n",
       "    <tr>\n",
       "      <th>4</th>\n",
       "      <td>s5</td>\n",
       "      <td>40</td>\n",
       "      <td>13</td>\n",
       "      <td>Male</td>\n",
       "      <td>C</td>\n",
       "    </tr>\n",
       "    <tr>\n",
       "      <th>5</th>\n",
       "      <td>s6</td>\n",
       "      <td>18</td>\n",
       "      <td>80</td>\n",
       "      <td>Female</td>\n",
       "      <td>A</td>\n",
       "    </tr>\n",
       "  </tbody>\n",
       "</table>\n",
       "</div>"
      ],
      "text/plain": [
       "  student_id  stat_score  math_score     sex pre_level\n",
       "0         s1          85          88  Female         B\n",
       "1         s2          71          49    Male         A\n",
       "2         s3          63          76    Male         B\n",
       "3         s4          99          22  Female         B\n",
       "4         s5          40          13    Male         C\n",
       "5         s6          18          80  Female         A"
      ]
     },
     "execution_count": 29,
     "metadata": {},
     "output_type": "execute_result"
    }
   ],
   "source": [
    "# 데이터프레임 생성\n",
    "obj3 = {'student_id' : ['s1', 's2', 's3', 's4', 's5', 's6'],\n",
    "        'stat_score' : [85, 71, 63, 99, 40, 18],\n",
    "        'math_score' : [88, 49, 76, 22, 13, 80],\n",
    "        'sex' : ['Female', 'Male', 'Male', 'Female', 'Male', 'Female'],\n",
    "        'pre_level' : ['B', 'A', 'B', 'B', 'C', 'A'] }\n",
    "df3 = pd.DataFrame(obj3)\n",
    "df3"
   ]
  },
  {
   "cell_type": "code",
   "execution_count": 31,
   "id": "0d63330a-9fcb-4cef-a50b-bf29c1bc4e27",
   "metadata": {
    "tags": []
   },
   "outputs": [
    {
     "data": {
      "text/html": [
       "<div>\n",
       "<style scoped>\n",
       "    .dataframe tbody tr th:only-of-type {\n",
       "        vertical-align: middle;\n",
       "    }\n",
       "\n",
       "    .dataframe tbody tr th {\n",
       "        vertical-align: top;\n",
       "    }\n",
       "\n",
       "    .dataframe thead th {\n",
       "        text-align: right;\n",
       "    }\n",
       "</style>\n",
       "<table border=\"1\" class=\"dataframe\">\n",
       "  <thead>\n",
       "    <tr style=\"text-align: right;\">\n",
       "      <th></th>\n",
       "      <th>stat_score</th>\n",
       "      <th>math_score</th>\n",
       "    </tr>\n",
       "    <tr>\n",
       "      <th>sex</th>\n",
       "      <th></th>\n",
       "      <th></th>\n",
       "    </tr>\n",
       "  </thead>\n",
       "  <tbody>\n",
       "    <tr>\n",
       "      <th>Female</th>\n",
       "      <td>67.333333</td>\n",
       "      <td>63.333333</td>\n",
       "    </tr>\n",
       "    <tr>\n",
       "      <th>Male</th>\n",
       "      <td>58.000000</td>\n",
       "      <td>46.000000</td>\n",
       "    </tr>\n",
       "  </tbody>\n",
       "</table>\n",
       "</div>"
      ],
      "text/plain": [
       "        stat_score  math_score\n",
       "sex                           \n",
       "Female   67.333333   63.333333\n",
       "Male     58.000000   46.000000"
      ]
     },
     "execution_count": 31,
     "metadata": {},
     "output_type": "execute_result"
    }
   ],
   "source": [
    "# 그룹화한 후 데이터프레임 메소드 .mean()을 통해 그룹화 평균 계산\n",
    "idx=['stat_score', 'math_score', 'sex']\n",
    "df3[idx].groupby('sex').mean()"
   ]
  },
  {
   "cell_type": "code",
   "execution_count": 34,
   "id": "dad7e874-7e78-4542-b0ae-bf6324da560d",
   "metadata": {
    "tags": []
   },
   "outputs": [
    {
     "data": {
      "text/html": [
       "<div>\n",
       "<style scoped>\n",
       "    .dataframe tbody tr th:only-of-type {\n",
       "        vertical-align: middle;\n",
       "    }\n",
       "\n",
       "    .dataframe tbody tr th {\n",
       "        vertical-align: top;\n",
       "    }\n",
       "\n",
       "    .dataframe thead th {\n",
       "        text-align: right;\n",
       "    }\n",
       "</style>\n",
       "<table border=\"1\" class=\"dataframe\">\n",
       "  <thead>\n",
       "    <tr style=\"text-align: right;\">\n",
       "      <th></th>\n",
       "      <th>sex</th>\n",
       "      <th>stat_score</th>\n",
       "      <th>math_score</th>\n",
       "    </tr>\n",
       "  </thead>\n",
       "  <tbody>\n",
       "    <tr>\n",
       "      <th>0</th>\n",
       "      <td>Female</td>\n",
       "      <td>67.333333</td>\n",
       "      <td>63.333333</td>\n",
       "    </tr>\n",
       "    <tr>\n",
       "      <th>1</th>\n",
       "      <td>Male</td>\n",
       "      <td>58.000000</td>\n",
       "      <td>46.000000</td>\n",
       "    </tr>\n",
       "  </tbody>\n",
       "</table>\n",
       "</div>"
      ],
      "text/plain": [
       "      sex  stat_score  math_score\n",
       "0  Female   67.333333   63.333333\n",
       "1    Male   58.000000   46.000000"
      ]
     },
     "execution_count": 34,
     "metadata": {},
     "output_type": "execute_result"
    }
   ],
   "source": [
    "# 옵션 as_index=False\n",
    "# 행 인덱스로 행 위치 인덱스번호를 사용\n",
    "df3[idx].groupby('sex', as_index=False).mean()"
   ]
  },
  {
   "cell_type": "code",
   "execution_count": 38,
   "id": "42d9662c-aeea-4b6b-8a09-c9fd937b16f8",
   "metadata": {
    "tags": []
   },
   "outputs": [
    {
     "data": {
      "text/html": [
       "<div>\n",
       "<style scoped>\n",
       "    .dataframe tbody tr th:only-of-type {\n",
       "        vertical-align: middle;\n",
       "    }\n",
       "\n",
       "    .dataframe tbody tr th {\n",
       "        vertical-align: top;\n",
       "    }\n",
       "\n",
       "    .dataframe thead th {\n",
       "        text-align: right;\n",
       "    }\n",
       "</style>\n",
       "<table border=\"1\" class=\"dataframe\">\n",
       "  <thead>\n",
       "    <tr style=\"text-align: right;\">\n",
       "      <th></th>\n",
       "      <th>sex</th>\n",
       "      <th>pre_level</th>\n",
       "      <th>stat_score</th>\n",
       "      <th>math_score</th>\n",
       "    </tr>\n",
       "  </thead>\n",
       "  <tbody>\n",
       "    <tr>\n",
       "      <th>0</th>\n",
       "      <td>Female</td>\n",
       "      <td>A</td>\n",
       "      <td>18.0</td>\n",
       "      <td>80.0</td>\n",
       "    </tr>\n",
       "    <tr>\n",
       "      <th>1</th>\n",
       "      <td>Female</td>\n",
       "      <td>B</td>\n",
       "      <td>92.0</td>\n",
       "      <td>55.0</td>\n",
       "    </tr>\n",
       "    <tr>\n",
       "      <th>2</th>\n",
       "      <td>Male</td>\n",
       "      <td>A</td>\n",
       "      <td>71.0</td>\n",
       "      <td>49.0</td>\n",
       "    </tr>\n",
       "    <tr>\n",
       "      <th>3</th>\n",
       "      <td>Male</td>\n",
       "      <td>B</td>\n",
       "      <td>63.0</td>\n",
       "      <td>76.0</td>\n",
       "    </tr>\n",
       "    <tr>\n",
       "      <th>4</th>\n",
       "      <td>Male</td>\n",
       "      <td>C</td>\n",
       "      <td>40.0</td>\n",
       "      <td>13.0</td>\n",
       "    </tr>\n",
       "  </tbody>\n",
       "</table>\n",
       "</div>"
      ],
      "text/plain": [
       "      sex pre_level  stat_score  math_score\n",
       "0  Female         A        18.0        80.0\n",
       "1  Female         B        92.0        55.0\n",
       "2    Male         A        71.0        49.0\n",
       "3    Male         B        63.0        76.0\n",
       "4    Male         C        40.0        13.0"
      ]
     },
     "execution_count": 38,
     "metadata": {},
     "output_type": "execute_result"
    }
   ],
   "source": [
    "# 여러 열을 기준으로 그룹화하는 방법은 컬럼명을 담은 리스트 사용\n",
    "idx=['stat_score', 'math_score', 'sex', 'pre_level']\n",
    "df3[idx].groupby(['sex', 'pre_level'], as_index=False).mean()"
   ]
  },
  {
   "cell_type": "code",
   "execution_count": 39,
   "id": "cd41dd56-e727-49e6-84c8-131ff491c169",
   "metadata": {
    "tags": []
   },
   "outputs": [
    {
     "data": {
      "text/html": [
       "<div>\n",
       "<style scoped>\n",
       "    .dataframe tbody tr th:only-of-type {\n",
       "        vertical-align: middle;\n",
       "    }\n",
       "\n",
       "    .dataframe tbody tr th {\n",
       "        vertical-align: top;\n",
       "    }\n",
       "\n",
       "    .dataframe thead tr th {\n",
       "        text-align: left;\n",
       "    }\n",
       "</style>\n",
       "<table border=\"1\" class=\"dataframe\">\n",
       "  <thead>\n",
       "    <tr>\n",
       "      <th></th>\n",
       "      <th>sex</th>\n",
       "      <th colspan=\"8\" halign=\"left\">stat_score</th>\n",
       "      <th colspan=\"8\" halign=\"left\">math_score</th>\n",
       "    </tr>\n",
       "    <tr>\n",
       "      <th></th>\n",
       "      <th></th>\n",
       "      <th>count</th>\n",
       "      <th>mean</th>\n",
       "      <th>std</th>\n",
       "      <th>min</th>\n",
       "      <th>25%</th>\n",
       "      <th>50%</th>\n",
       "      <th>75%</th>\n",
       "      <th>max</th>\n",
       "      <th>count</th>\n",
       "      <th>mean</th>\n",
       "      <th>std</th>\n",
       "      <th>min</th>\n",
       "      <th>25%</th>\n",
       "      <th>50%</th>\n",
       "      <th>75%</th>\n",
       "      <th>max</th>\n",
       "    </tr>\n",
       "  </thead>\n",
       "  <tbody>\n",
       "    <tr>\n",
       "      <th>0</th>\n",
       "      <td>Female</td>\n",
       "      <td>3.0</td>\n",
       "      <td>67.333333</td>\n",
       "      <td>43.293572</td>\n",
       "      <td>18.0</td>\n",
       "      <td>51.5</td>\n",
       "      <td>85.0</td>\n",
       "      <td>92.0</td>\n",
       "      <td>99.0</td>\n",
       "      <td>3.0</td>\n",
       "      <td>63.333333</td>\n",
       "      <td>36.018514</td>\n",
       "      <td>22.0</td>\n",
       "      <td>51.0</td>\n",
       "      <td>80.0</td>\n",
       "      <td>84.0</td>\n",
       "      <td>88.0</td>\n",
       "    </tr>\n",
       "    <tr>\n",
       "      <th>1</th>\n",
       "      <td>Male</td>\n",
       "      <td>3.0</td>\n",
       "      <td>58.000000</td>\n",
       "      <td>16.093477</td>\n",
       "      <td>40.0</td>\n",
       "      <td>51.5</td>\n",
       "      <td>63.0</td>\n",
       "      <td>67.0</td>\n",
       "      <td>71.0</td>\n",
       "      <td>3.0</td>\n",
       "      <td>46.000000</td>\n",
       "      <td>31.606961</td>\n",
       "      <td>13.0</td>\n",
       "      <td>31.0</td>\n",
       "      <td>49.0</td>\n",
       "      <td>62.5</td>\n",
       "      <td>76.0</td>\n",
       "    </tr>\n",
       "  </tbody>\n",
       "</table>\n",
       "</div>"
      ],
      "text/plain": [
       "      sex stat_score                                                      \\\n",
       "               count       mean        std   min   25%   50%   75%   max   \n",
       "0  Female        3.0  67.333333  43.293572  18.0  51.5  85.0  92.0  99.0   \n",
       "1    Male        3.0  58.000000  16.093477  40.0  51.5  63.0  67.0  71.0   \n",
       "\n",
       "  math_score                                                      \n",
       "       count       mean        std   min   25%   50%   75%   max  \n",
       "0        3.0  63.333333  36.018514  22.0  51.0  80.0  84.0  88.0  \n",
       "1        3.0  46.000000  31.606961  13.0  31.0  49.0  62.5  76.0  "
      ]
     },
     "execution_count": 39,
     "metadata": {},
     "output_type": "execute_result"
    }
   ],
   "source": [
    "# describe() 메소드는 여러 종류의 특정한 통계량을 제공\n",
    "df3.groupby('sex', as_index=False).describe()"
   ]
  },
  {
   "cell_type": "markdown",
   "id": "b19d4c87-71b0-45c4-9ecd-1e3d52c66f83",
   "metadata": {},
   "source": [
    "- 통계 요약시 사용될 통계 메소드는 한 종류의 통계량이나 ```describe()``` 메소드는 여러 종류의 특정한 통계량들만 제공\n",
    "- 동시에 원하는 여러 통게량만을 구하거나, 컬럼별로 상이한 통계량들만을 사용하고 싶을 경우 집계 메소드 ```agg()```을 사용하면 됨\n",
    "- ```df.agg(func)```\n",
    "\n",
    "<br>\n",
    "\n",
    "#### 인사\n",
    "- **func** : 데이터를 집계할 때 사용할 함수로, 함수명, 함수명을 담은 리스트, 딕셔너리(인덱스와 함수명을 담은 리스트를 포함) 등이 입력됨. 단 함수명 입력시 내장함수가 아닐 경우 ```.numpy.함수명```의 형태로 입력이 필요함"
   ]
  },
  {
   "cell_type": "code",
   "execution_count": 40,
   "id": "02ff2f8e-b7c2-431e-830f-e80fc4f0c40b",
   "metadata": {
    "tags": []
   },
   "outputs": [],
   "source": [
    "import numpy as np"
   ]
  },
  {
   "cell_type": "code",
   "execution_count": 43,
   "id": "072c1103-7452-42e0-a6b9-bb4b5aa224ab",
   "metadata": {
    "tags": []
   },
   "outputs": [
    {
     "data": {
      "text/html": [
       "<div>\n",
       "<style scoped>\n",
       "    .dataframe tbody tr th:only-of-type {\n",
       "        vertical-align: middle;\n",
       "    }\n",
       "\n",
       "    .dataframe tbody tr th {\n",
       "        vertical-align: top;\n",
       "    }\n",
       "\n",
       "    .dataframe thead tr th {\n",
       "        text-align: left;\n",
       "    }\n",
       "\n",
       "    .dataframe thead tr:last-of-type th {\n",
       "        text-align: right;\n",
       "    }\n",
       "</style>\n",
       "<table border=\"1\" class=\"dataframe\">\n",
       "  <thead>\n",
       "    <tr>\n",
       "      <th></th>\n",
       "      <th colspan=\"2\" halign=\"left\">stat_score</th>\n",
       "      <th colspan=\"2\" halign=\"left\">math_score</th>\n",
       "    </tr>\n",
       "    <tr>\n",
       "      <th></th>\n",
       "      <th>mean</th>\n",
       "      <th>sum</th>\n",
       "      <th>mean</th>\n",
       "      <th>sum</th>\n",
       "    </tr>\n",
       "    <tr>\n",
       "      <th>sex</th>\n",
       "      <th></th>\n",
       "      <th></th>\n",
       "      <th></th>\n",
       "      <th></th>\n",
       "    </tr>\n",
       "  </thead>\n",
       "  <tbody>\n",
       "    <tr>\n",
       "      <th>Female</th>\n",
       "      <td>67.333333</td>\n",
       "      <td>202</td>\n",
       "      <td>63.333333</td>\n",
       "      <td>190</td>\n",
       "    </tr>\n",
       "    <tr>\n",
       "      <th>Male</th>\n",
       "      <td>58.000000</td>\n",
       "      <td>174</td>\n",
       "      <td>46.000000</td>\n",
       "      <td>138</td>\n",
       "    </tr>\n",
       "  </tbody>\n",
       "</table>\n",
       "</div>"
      ],
      "text/plain": [
       "       stat_score      math_score     \n",
       "             mean  sum       mean  sum\n",
       "sex                                   \n",
       "Female  67.333333  202  63.333333  190\n",
       "Male    58.000000  174  46.000000  138"
      ]
     },
     "execution_count": 43,
     "metadata": {},
     "output_type": "execute_result"
    }
   ],
   "source": [
    "# .agg (동시에 원하는 여러 통계량 도출)\n",
    "idx=['stat_score', 'math_score', 'sex']\n",
    "df3[idx].groupby('sex').agg( [np.mean, sum] )"
   ]
  },
  {
   "cell_type": "code",
   "execution_count": 44,
   "id": "f49f91b9-ccd5-4662-9dac-1a761dcc6bc2",
   "metadata": {
    "tags": []
   },
   "outputs": [
    {
     "data": {
      "text/html": [
       "<div>\n",
       "<style scoped>\n",
       "    .dataframe tbody tr th:only-of-type {\n",
       "        vertical-align: middle;\n",
       "    }\n",
       "\n",
       "    .dataframe tbody tr th {\n",
       "        vertical-align: top;\n",
       "    }\n",
       "\n",
       "    .dataframe thead th {\n",
       "        text-align: right;\n",
       "    }\n",
       "</style>\n",
       "<table border=\"1\" class=\"dataframe\">\n",
       "  <thead>\n",
       "    <tr style=\"text-align: right;\">\n",
       "      <th></th>\n",
       "      <th>sex</th>\n",
       "      <th>stat_score</th>\n",
       "      <th>math_score</th>\n",
       "    </tr>\n",
       "  </thead>\n",
       "  <tbody>\n",
       "    <tr>\n",
       "      <th>0</th>\n",
       "      <td>Female</td>\n",
       "      <td>67.333333</td>\n",
       "      <td>190</td>\n",
       "    </tr>\n",
       "    <tr>\n",
       "      <th>1</th>\n",
       "      <td>Male</td>\n",
       "      <td>58.000000</td>\n",
       "      <td>138</td>\n",
       "    </tr>\n",
       "  </tbody>\n",
       "</table>\n",
       "</div>"
      ],
      "text/plain": [
       "      sex  stat_score  math_score\n",
       "0  Female   67.333333         190\n",
       "1    Male   58.000000         138"
      ]
     },
     "execution_count": 44,
     "metadata": {},
     "output_type": "execute_result"
    }
   ],
   "source": [
    "# 컬럼별로 상이한 통계량\n",
    "df3[idx].groupby('sex', as_index=False).agg( {'stat_score':np.mean, 'math_score':sum} )"
   ]
  },
  {
   "cell_type": "code",
   "execution_count": 45,
   "id": "1ca02a33-2b74-4675-8716-85dd8b274d31",
   "metadata": {
    "tags": []
   },
   "outputs": [
    {
     "data": {
      "text/html": [
       "<div>\n",
       "<style scoped>\n",
       "    .dataframe tbody tr th:only-of-type {\n",
       "        vertical-align: middle;\n",
       "    }\n",
       "\n",
       "    .dataframe tbody tr th {\n",
       "        vertical-align: top;\n",
       "    }\n",
       "\n",
       "    .dataframe thead tr th {\n",
       "        text-align: left;\n",
       "    }\n",
       "</style>\n",
       "<table border=\"1\" class=\"dataframe\">\n",
       "  <thead>\n",
       "    <tr>\n",
       "      <th></th>\n",
       "      <th>sex</th>\n",
       "      <th colspan=\"2\" halign=\"left\">stat_score</th>\n",
       "      <th colspan=\"2\" halign=\"left\">math_score</th>\n",
       "    </tr>\n",
       "    <tr>\n",
       "      <th></th>\n",
       "      <th></th>\n",
       "      <th>mean</th>\n",
       "      <th>median</th>\n",
       "      <th>sum</th>\n",
       "      <th>max</th>\n",
       "    </tr>\n",
       "  </thead>\n",
       "  <tbody>\n",
       "    <tr>\n",
       "      <th>0</th>\n",
       "      <td>Female</td>\n",
       "      <td>67.333333</td>\n",
       "      <td>85.0</td>\n",
       "      <td>190</td>\n",
       "      <td>88</td>\n",
       "    </tr>\n",
       "    <tr>\n",
       "      <th>1</th>\n",
       "      <td>Male</td>\n",
       "      <td>58.000000</td>\n",
       "      <td>63.0</td>\n",
       "      <td>138</td>\n",
       "      <td>76</td>\n",
       "    </tr>\n",
       "  </tbody>\n",
       "</table>\n",
       "</div>"
      ],
      "text/plain": [
       "      sex stat_score        math_score    \n",
       "                mean median        sum max\n",
       "0  Female  67.333333   85.0        190  88\n",
       "1    Male  58.000000   63.0        138  76"
      ]
     },
     "execution_count": 45,
     "metadata": {},
     "output_type": "execute_result"
    }
   ],
   "source": [
    "df3[idx].groupby('sex', as_index=False).agg( {'stat_score': [np.mean, np.median],\n",
    "                                              'math_score': [sum, max]} )"
   ]
  },
  {
   "cell_type": "code",
   "execution_count": null,
   "id": "9ce74d03-d731-40e7-a79b-495db0a1b2fe",
   "metadata": {},
   "outputs": [],
   "source": []
  },
  {
   "cell_type": "markdown",
   "id": "2299d2af-833e-41c3-be9f-21979f3beeb2",
   "metadata": {},
   "source": [
    "#### 데이터에 함수 적용하기\n",
    "- 전체 데이터에 대해 행 혹은 열별로 한 번에 함수를 적용할 수 있는 판다스의 함수\n",
    "- 시리즈의 요소, 데이터프레임의 행, 열 요소마다 연산을 수행할 수 있으므로 빠르고 쉽게 데이터 요약을 수행하여 원하는 정보를 확인할 수 있음\n",
    "\n",
    "<br>\n",
    "\n",
    "#### 시리즈에 함수 적용하기\n",
    "- 시리즈에 각 요소에 동일한 함수를 적용하고 싶을 경우, 시리즈의 메소드인 ```map()```을 이용하면 됨\n",
    "- ```map()```은 원래 라벨 인코딩에만 사용하는 것이 아니라 딕셔너리로 정의한 내용을 통해 시리즈의 요소를 변경하는 것이 주요 기능"
   ]
  },
  {
   "cell_type": "code",
   "execution_count": 46,
   "id": "fbd2ae3d-fbb3-42f1-bec5-6c40ae78dfef",
   "metadata": {
    "tags": []
   },
   "outputs": [
    {
     "data": {
      "text/html": [
       "<div>\n",
       "<style scoped>\n",
       "    .dataframe tbody tr th:only-of-type {\n",
       "        vertical-align: middle;\n",
       "    }\n",
       "\n",
       "    .dataframe tbody tr th {\n",
       "        vertical-align: top;\n",
       "    }\n",
       "\n",
       "    .dataframe thead th {\n",
       "        text-align: right;\n",
       "    }\n",
       "</style>\n",
       "<table border=\"1\" class=\"dataframe\">\n",
       "  <thead>\n",
       "    <tr style=\"text-align: right;\">\n",
       "      <th></th>\n",
       "      <th>student_id</th>\n",
       "      <th>stat_score</th>\n",
       "      <th>math_score</th>\n",
       "      <th>sex</th>\n",
       "      <th>pre_level</th>\n",
       "    </tr>\n",
       "  </thead>\n",
       "  <tbody>\n",
       "    <tr>\n",
       "      <th>0</th>\n",
       "      <td>s1</td>\n",
       "      <td>85</td>\n",
       "      <td>88</td>\n",
       "      <td>Female</td>\n",
       "      <td>B</td>\n",
       "    </tr>\n",
       "    <tr>\n",
       "      <th>1</th>\n",
       "      <td>s2</td>\n",
       "      <td>71</td>\n",
       "      <td>49</td>\n",
       "      <td>Male</td>\n",
       "      <td>A</td>\n",
       "    </tr>\n",
       "    <tr>\n",
       "      <th>2</th>\n",
       "      <td>s3</td>\n",
       "      <td>63</td>\n",
       "      <td>76</td>\n",
       "      <td>Male</td>\n",
       "      <td>B</td>\n",
       "    </tr>\n",
       "    <tr>\n",
       "      <th>3</th>\n",
       "      <td>s4</td>\n",
       "      <td>99</td>\n",
       "      <td>22</td>\n",
       "      <td>Female</td>\n",
       "      <td>B</td>\n",
       "    </tr>\n",
       "    <tr>\n",
       "      <th>4</th>\n",
       "      <td>s5</td>\n",
       "      <td>40</td>\n",
       "      <td>13</td>\n",
       "      <td>Male</td>\n",
       "      <td>C</td>\n",
       "    </tr>\n",
       "    <tr>\n",
       "      <th>5</th>\n",
       "      <td>s6</td>\n",
       "      <td>18</td>\n",
       "      <td>80</td>\n",
       "      <td>Female</td>\n",
       "      <td>A</td>\n",
       "    </tr>\n",
       "  </tbody>\n",
       "</table>\n",
       "</div>"
      ],
      "text/plain": [
       "  student_id  stat_score  math_score     sex pre_level\n",
       "0         s1          85          88  Female         B\n",
       "1         s2          71          49    Male         A\n",
       "2         s3          63          76    Male         B\n",
       "3         s4          99          22  Female         B\n",
       "4         s5          40          13    Male         C\n",
       "5         s6          18          80  Female         A"
      ]
     },
     "execution_count": 46,
     "metadata": {},
     "output_type": "execute_result"
    }
   ],
   "source": [
    "# 데이터프레임 생성\n",
    "df3"
   ]
  },
  {
   "cell_type": "code",
   "execution_count": 48,
   "id": "daee696e-504d-4e9a-ba5d-2539085e91f3",
   "metadata": {
    "tags": []
   },
   "outputs": [
    {
     "data": {
      "text/plain": [
       "0    1\n",
       "1    0\n",
       "2    1\n",
       "3    1\n",
       "4    2\n",
       "5    0\n",
       "Name: pre_level, dtype: int64"
      ]
     },
     "execution_count": 48,
     "metadata": {},
     "output_type": "execute_result"
    }
   ],
   "source": [
    "# pre_level 컬럼 라벨 인코딩\n",
    "df3['pre_level'].map( {'A':0, 'B':1, 'C':2} )"
   ]
  },
  {
   "cell_type": "code",
   "execution_count": 49,
   "id": "bc54b88a-5741-46cc-af94-1d50114e3a0b",
   "metadata": {
    "tags": []
   },
   "outputs": [
    {
     "data": {
      "text/plain": [
       "0    여자\n",
       "1    남자\n",
       "2    남자\n",
       "3    여자\n",
       "4    남자\n",
       "5    여자\n",
       "Name: sex, dtype: object"
      ]
     },
     "execution_count": 49,
     "metadata": {},
     "output_type": "execute_result"
    }
   ],
   "source": [
    "# sex 칼럼 요소를 한글로 변경\n",
    "df3['sex'].map( {'Female': '여자', 'Male':'남자'} )"
   ]
  },
  {
   "cell_type": "markdown",
   "id": "7c7f6279-4fec-4405-b2df-20ae0c97b42f",
   "metadata": {},
   "source": [
    "- ```map()```은 사용자 정의 함수를 통해 메소드로 지원하지 않는 함수에 대해서 각 요소에 동일한 함수를 적용할 수 있음\n",
    "- ```map()```은 시리즈만을 위한 메소드로 데이터프레임에는 사용이 되지 않음"
   ]
  },
  {
   "cell_type": "code",
   "execution_count": 51,
   "id": "de9c1a9e-8f6e-4d6d-ac69-5308728408b4",
   "metadata": {
    "tags": []
   },
   "outputs": [],
   "source": [
    "# 시리즈에 사용자 정의 함수\n",
    "def f(x):\n",
    "    return x ** 2 + x*2 - 5000"
   ]
  },
  {
   "cell_type": "code",
   "execution_count": 52,
   "id": "60fd1b32-ee57-4dca-9777-5c4955dd54bf",
   "metadata": {
    "tags": []
   },
   "outputs": [
    {
     "data": {
      "text/plain": [
       "0    2395\n",
       "1     183\n",
       "2    -905\n",
       "3    4999\n",
       "4   -3320\n",
       "5   -4640\n",
       "Name: stat_score, dtype: int64"
      ]
     },
     "execution_count": 52,
     "metadata": {},
     "output_type": "execute_result"
    }
   ],
   "source": [
    "df3['stat_score'].map(f)"
   ]
  },
  {
   "cell_type": "code",
   "execution_count": null,
   "id": "73fcf329-08a8-4ccb-b521-e4acef4f09cd",
   "metadata": {},
   "outputs": [],
   "source": []
  },
  {
   "cell_type": "markdown",
   "id": "93aa1309-afcf-4d4f-8a96-803693f53502",
   "metadata": {},
   "source": [
    "#### 데이터프레임에 함수 적용하기\n",
    "- 데이터프레임에 각 열/행에 함수 일괄 적용하기 위해서는 데이터프레임의 메소드인 ```apply()```를 사용하면 됨\n",
    "- ```df.apply(func, axis=0)```\n",
    "\n",
    "<br>\n",
    "\n",
    "#### 인자\n",
    "- **func** : 열/행에 적용할 함수\n",
    "- **axis** : 0은 행(default)에, 1은 열에 함수 적용"
   ]
  },
  {
   "cell_type": "code",
   "execution_count": 53,
   "id": "a7b609f5-3366-47ee-a7cc-c4e070899ec3",
   "metadata": {
    "tags": []
   },
   "outputs": [
    {
     "data": {
      "text/plain": [
       "stat_score    376\n",
       "math_score    328\n",
       "dtype: int64"
      ]
     },
     "execution_count": 53,
     "metadata": {},
     "output_type": "execute_result"
    }
   ],
   "source": [
    "# apply\n",
    "df3[ ['stat_score', 'math_score'] ].apply(np.sum)"
   ]
  },
  {
   "cell_type": "code",
   "execution_count": 54,
   "id": "87abbd90-2613-4f3e-8859-d7b989f808a6",
   "metadata": {
    "tags": []
   },
   "outputs": [
    {
     "data": {
      "text/plain": [
       "stat_score    376\n",
       "math_score    328\n",
       "dtype: int64"
      ]
     },
     "execution_count": 54,
     "metadata": {},
     "output_type": "execute_result"
    }
   ],
   "source": [
    "# apply 메소드 없이도 가능\n",
    "df3[ ['stat_score', 'math_score'] ].sum()"
   ]
  },
  {
   "cell_type": "code",
   "execution_count": 55,
   "id": "4a733249-e270-4f7e-be36-cddff9c58bf6",
   "metadata": {
    "tags": []
   },
   "outputs": [
    {
     "data": {
      "text/plain": [
       "0    173\n",
       "1    120\n",
       "2    139\n",
       "3    121\n",
       "4     53\n",
       "5     98\n",
       "dtype: int64"
      ]
     },
     "execution_count": 55,
     "metadata": {},
     "output_type": "execute_result"
    }
   ],
   "source": [
    "df3[ ['stat_score', 'math_score'] ].sum(axis=1)"
   ]
  },
  {
   "cell_type": "markdown",
   "id": "8b89b2bc-b257-4c05-a289-9384f26987d2",
   "metadata": {},
   "source": [
    "- ```apply()``` 메소드의 ```func``` 인자는 위와 같이 넘파이 함수를 사용할 수 있으며, 이는 데이터프레임의 메소드로 바로 사용 가능\n",
    "- 따라서 ```apply()```는 ```func``` 인자에 사용자 정의 함수를 통해 메소드로 지원하지 않는 함수에 대해서 행/열 요소마다 연산을 수행할 함수를 적용하는데 사용\n",
    "- 그러나 ```map()```과 비교하여 ```apply()```의 사용자 정의 함수를 만드는 것은 단순하지 않음"
   ]
  },
  {
   "cell_type": "code",
   "execution_count": null,
   "id": "3f6102d6-c072-4a05-8d13-49a2d09cb305",
   "metadata": {},
   "outputs": [],
   "source": []
  },
  {
   "cell_type": "code",
   "execution_count": null,
   "id": "d184cc06-d1b4-4fdd-9e63-b74e7eb6bea7",
   "metadata": {},
   "outputs": [],
   "source": []
  },
  {
   "cell_type": "code",
   "execution_count": null,
   "id": "796ee798-e03e-4167-a554-0688e1c4a4ed",
   "metadata": {},
   "outputs": [],
   "source": []
  },
  {
   "cell_type": "markdown",
   "id": "abf99ffd-469f-420e-be76-eb36f03fcb0c",
   "metadata": {},
   "source": [
    "## Part 02 데이터 핸들링 - 5장 결측치와 이상치\n",
    "### 1절: 결측치\n",
    "\n",
    "#### 결측치 인식\n",
    "- 판다스는 시리즈와 데이터프레임에서 메소드 ```isnull()```과 ```isna()```를 제공함\n",
    "- 이는 데이터 내의 결측값(NaN)의 여부를 판단하는 함수로 이를 통해 결측치(Missing Value)를 인식할 수 있음\n",
    "- 결과는 데이터에서 결측인 값은 True, 아닌 요소는 False를 반환하고, 이를 메소드 ```sum()```을 통해 단순히 합하면 숫자 1과 0으로 인식해 결측치의 개수를 쉽게 파악할 수 있음"
   ]
  },
  {
   "cell_type": "code",
   "execution_count": 56,
   "id": "3b12a437-887d-4bd5-ab36-c6c3da112882",
   "metadata": {
    "tags": []
   },
   "outputs": [
    {
     "data": {
      "text/html": [
       "<div>\n",
       "<style scoped>\n",
       "    .dataframe tbody tr th:only-of-type {\n",
       "        vertical-align: middle;\n",
       "    }\n",
       "\n",
       "    .dataframe tbody tr th {\n",
       "        vertical-align: top;\n",
       "    }\n",
       "\n",
       "    .dataframe thead th {\n",
       "        text-align: right;\n",
       "    }\n",
       "</style>\n",
       "<table border=\"1\" class=\"dataframe\">\n",
       "  <thead>\n",
       "    <tr style=\"text-align: right;\">\n",
       "      <th></th>\n",
       "      <th>student_id</th>\n",
       "      <th>stat_score</th>\n",
       "      <th>math_score</th>\n",
       "      <th>sex</th>\n",
       "      <th>pre_level</th>\n",
       "    </tr>\n",
       "  </thead>\n",
       "  <tbody>\n",
       "    <tr>\n",
       "      <th>0</th>\n",
       "      <td>s1</td>\n",
       "      <td>NaN</td>\n",
       "      <td>88.0</td>\n",
       "      <td>Female</td>\n",
       "      <td>None</td>\n",
       "    </tr>\n",
       "    <tr>\n",
       "      <th>1</th>\n",
       "      <td>s2</td>\n",
       "      <td>71.0</td>\n",
       "      <td>NaN</td>\n",
       "      <td>Male</td>\n",
       "      <td>A</td>\n",
       "    </tr>\n",
       "    <tr>\n",
       "      <th>2</th>\n",
       "      <td>s3</td>\n",
       "      <td>63.0</td>\n",
       "      <td>76.0</td>\n",
       "      <td>Male</td>\n",
       "      <td>B</td>\n",
       "    </tr>\n",
       "    <tr>\n",
       "      <th>3</th>\n",
       "      <td>s4</td>\n",
       "      <td>99.0</td>\n",
       "      <td>NaN</td>\n",
       "      <td>Female</td>\n",
       "      <td>B</td>\n",
       "    </tr>\n",
       "    <tr>\n",
       "      <th>4</th>\n",
       "      <td>s5</td>\n",
       "      <td>40.0</td>\n",
       "      <td>NaN</td>\n",
       "      <td>None</td>\n",
       "      <td>C</td>\n",
       "    </tr>\n",
       "    <tr>\n",
       "      <th>5</th>\n",
       "      <td>s6</td>\n",
       "      <td>18.0</td>\n",
       "      <td>80.0</td>\n",
       "      <td>Female</td>\n",
       "      <td>None</td>\n",
       "    </tr>\n",
       "  </tbody>\n",
       "</table>\n",
       "</div>"
      ],
      "text/plain": [
       "  student_id  stat_score  math_score     sex pre_level\n",
       "0         s1         NaN        88.0  Female      None\n",
       "1         s2        71.0         NaN    Male         A\n",
       "2         s3        63.0        76.0    Male         B\n",
       "3         s4        99.0         NaN  Female         B\n",
       "4         s5        40.0         NaN    None         C\n",
       "5         s6        18.0        80.0  Female      None"
      ]
     },
     "execution_count": 56,
     "metadata": {},
     "output_type": "execute_result"
    }
   ],
   "source": [
    "# 결측치가 포함되도록 df 생성\n",
    "obj4 = {'student_id' : ['s1', 's2', 's3', 's4', 's5', 's6'],\n",
    "        'stat_score' : [None, 71, 63, 99, 40, 18],\n",
    "        'math_score' : [88, None, 76, None, None, 80],\n",
    "        'sex' : ['Female', 'Male', 'Male', 'Female', None, 'Female'],\n",
    "        'pre_level' : [None, 'A', 'B', 'B', 'C', None] }\n",
    "df4 = pd.DataFrame(obj4)\n",
    "df4"
   ]
  },
  {
   "cell_type": "code",
   "execution_count": 57,
   "id": "539108b6-4263-4ba0-ad2a-ad63ea1406db",
   "metadata": {
    "tags": []
   },
   "outputs": [
    {
     "data": {
      "text/html": [
       "<div>\n",
       "<style scoped>\n",
       "    .dataframe tbody tr th:only-of-type {\n",
       "        vertical-align: middle;\n",
       "    }\n",
       "\n",
       "    .dataframe tbody tr th {\n",
       "        vertical-align: top;\n",
       "    }\n",
       "\n",
       "    .dataframe thead th {\n",
       "        text-align: right;\n",
       "    }\n",
       "</style>\n",
       "<table border=\"1\" class=\"dataframe\">\n",
       "  <thead>\n",
       "    <tr style=\"text-align: right;\">\n",
       "      <th></th>\n",
       "      <th>student_id</th>\n",
       "      <th>stat_score</th>\n",
       "      <th>math_score</th>\n",
       "      <th>sex</th>\n",
       "      <th>pre_level</th>\n",
       "    </tr>\n",
       "  </thead>\n",
       "  <tbody>\n",
       "    <tr>\n",
       "      <th>0</th>\n",
       "      <td>False</td>\n",
       "      <td>True</td>\n",
       "      <td>False</td>\n",
       "      <td>False</td>\n",
       "      <td>True</td>\n",
       "    </tr>\n",
       "    <tr>\n",
       "      <th>1</th>\n",
       "      <td>False</td>\n",
       "      <td>False</td>\n",
       "      <td>True</td>\n",
       "      <td>False</td>\n",
       "      <td>False</td>\n",
       "    </tr>\n",
       "    <tr>\n",
       "      <th>2</th>\n",
       "      <td>False</td>\n",
       "      <td>False</td>\n",
       "      <td>False</td>\n",
       "      <td>False</td>\n",
       "      <td>False</td>\n",
       "    </tr>\n",
       "    <tr>\n",
       "      <th>3</th>\n",
       "      <td>False</td>\n",
       "      <td>False</td>\n",
       "      <td>True</td>\n",
       "      <td>False</td>\n",
       "      <td>False</td>\n",
       "    </tr>\n",
       "    <tr>\n",
       "      <th>4</th>\n",
       "      <td>False</td>\n",
       "      <td>False</td>\n",
       "      <td>True</td>\n",
       "      <td>True</td>\n",
       "      <td>False</td>\n",
       "    </tr>\n",
       "    <tr>\n",
       "      <th>5</th>\n",
       "      <td>False</td>\n",
       "      <td>False</td>\n",
       "      <td>False</td>\n",
       "      <td>False</td>\n",
       "      <td>True</td>\n",
       "    </tr>\n",
       "  </tbody>\n",
       "</table>\n",
       "</div>"
      ],
      "text/plain": [
       "   student_id  stat_score  math_score    sex  pre_level\n",
       "0       False        True       False  False       True\n",
       "1       False       False        True  False      False\n",
       "2       False       False       False  False      False\n",
       "3       False       False        True  False      False\n",
       "4       False       False        True   True      False\n",
       "5       False       False       False  False       True"
      ]
     },
     "execution_count": 57,
     "metadata": {},
     "output_type": "execute_result"
    }
   ],
   "source": [
    "# isnull() 결측치 여부 확인\n",
    "df4.isnull()"
   ]
  },
  {
   "cell_type": "code",
   "execution_count": 58,
   "id": "3294a197-4ad7-44cd-9acb-3bf69633251a",
   "metadata": {
    "tags": []
   },
   "outputs": [
    {
     "data": {
      "text/html": [
       "<div>\n",
       "<style scoped>\n",
       "    .dataframe tbody tr th:only-of-type {\n",
       "        vertical-align: middle;\n",
       "    }\n",
       "\n",
       "    .dataframe tbody tr th {\n",
       "        vertical-align: top;\n",
       "    }\n",
       "\n",
       "    .dataframe thead th {\n",
       "        text-align: right;\n",
       "    }\n",
       "</style>\n",
       "<table border=\"1\" class=\"dataframe\">\n",
       "  <thead>\n",
       "    <tr style=\"text-align: right;\">\n",
       "      <th></th>\n",
       "      <th>student_id</th>\n",
       "      <th>stat_score</th>\n",
       "      <th>math_score</th>\n",
       "      <th>sex</th>\n",
       "      <th>pre_level</th>\n",
       "    </tr>\n",
       "  </thead>\n",
       "  <tbody>\n",
       "    <tr>\n",
       "      <th>0</th>\n",
       "      <td>False</td>\n",
       "      <td>True</td>\n",
       "      <td>False</td>\n",
       "      <td>False</td>\n",
       "      <td>True</td>\n",
       "    </tr>\n",
       "    <tr>\n",
       "      <th>1</th>\n",
       "      <td>False</td>\n",
       "      <td>False</td>\n",
       "      <td>True</td>\n",
       "      <td>False</td>\n",
       "      <td>False</td>\n",
       "    </tr>\n",
       "    <tr>\n",
       "      <th>2</th>\n",
       "      <td>False</td>\n",
       "      <td>False</td>\n",
       "      <td>False</td>\n",
       "      <td>False</td>\n",
       "      <td>False</td>\n",
       "    </tr>\n",
       "    <tr>\n",
       "      <th>3</th>\n",
       "      <td>False</td>\n",
       "      <td>False</td>\n",
       "      <td>True</td>\n",
       "      <td>False</td>\n",
       "      <td>False</td>\n",
       "    </tr>\n",
       "    <tr>\n",
       "      <th>4</th>\n",
       "      <td>False</td>\n",
       "      <td>False</td>\n",
       "      <td>True</td>\n",
       "      <td>True</td>\n",
       "      <td>False</td>\n",
       "    </tr>\n",
       "    <tr>\n",
       "      <th>5</th>\n",
       "      <td>False</td>\n",
       "      <td>False</td>\n",
       "      <td>False</td>\n",
       "      <td>False</td>\n",
       "      <td>True</td>\n",
       "    </tr>\n",
       "  </tbody>\n",
       "</table>\n",
       "</div>"
      ],
      "text/plain": [
       "   student_id  stat_score  math_score    sex  pre_level\n",
       "0       False        True       False  False       True\n",
       "1       False       False        True  False      False\n",
       "2       False       False       False  False      False\n",
       "3       False       False        True  False      False\n",
       "4       False       False        True   True      False\n",
       "5       False       False       False  False       True"
      ]
     },
     "execution_count": 58,
     "metadata": {},
     "output_type": "execute_result"
    }
   ],
   "source": [
    "# isna() 결측치 여부 확인\n",
    "df4.isna()"
   ]
  },
  {
   "cell_type": "code",
   "execution_count": 59,
   "id": "7969ab8e-3b95-4893-ba2d-de5f1be58d95",
   "metadata": {
    "tags": []
   },
   "outputs": [
    {
     "data": {
      "text/plain": [
       "student_id    0\n",
       "stat_score    1\n",
       "math_score    3\n",
       "sex           1\n",
       "pre_level     2\n",
       "dtype: int64"
      ]
     },
     "execution_count": 59,
     "metadata": {},
     "output_type": "execute_result"
    }
   ],
   "source": [
    "# 컬럼별 결측치 개수\n",
    "df4.isnull().sum()"
   ]
  },
  {
   "cell_type": "code",
   "execution_count": 60,
   "id": "4d471ea6-bfa2-452e-8bf6-be54377a675e",
   "metadata": {
    "tags": []
   },
   "outputs": [
    {
     "data": {
      "text/plain": [
       "0    2\n",
       "1    1\n",
       "2    0\n",
       "3    1\n",
       "4    2\n",
       "5    1\n",
       "dtype: int64"
      ]
     },
     "execution_count": 60,
     "metadata": {},
     "output_type": "execute_result"
    }
   ],
   "source": [
    "# 행별 결측치 개수\n",
    "df4.isnull().sum(axis=1)"
   ]
  },
  {
   "cell_type": "code",
   "execution_count": null,
   "id": "330279a4-d88c-4397-9683-1fbcceb8892d",
   "metadata": {},
   "outputs": [],
   "source": []
  },
  {
   "cell_type": "markdown",
   "id": "bf396fe6-aada-4644-9550-2bf4e19a7959",
   "metadata": {},
   "source": [
    "#### 결측치 처리\n",
    "- 데이터에 결측치가 존재할 때 결측치를 처리하기 위한 방법 중 하나는 **단순 대치법(Single Imputation)**\n",
    "\n",
    "<br>\n",
    "\n",
    "#### 분류\n",
    "- **completes analysis** : 결측값이 존재하는 행을 삭제\n",
    "- **평균 대치법** : 관측 또는 실험을 통해 얻어진 데이터의 평균으로 결측치를 대치\n",
    "   - 비조건부 평균 대치법: 관측 데이터의 평균값으로 대치\n",
    "   - 조건부 평균 대치법: 회귀분석을 활용한 대치법\n",
    "- **단순확률 대치법** : 평균 대치법에서 추정량 표준 오차의 과소 추정 문제를 보완하고자 고안된 방법\n",
    "   - Hot-deck 방법\n",
    "   - nearest neighbor 방법 등\n",
    "   \n",
    "<br>\n",
    "\n",
    "#### 가. 결측치 제거\n",
    "- 데이터에서 특정 행의 모든 컬럼 중 결측치가 하나라도 존재하는 경우, 해당 행을 제거한 후 데이터 분석을 진행하고자 할 때 결측치 제거를 수행함\n",
    "- 데이터프레임의 ```dropna()``` 메소드를 통해 간단히 제거가 가능함"
   ]
  },
  {
   "cell_type": "code",
   "execution_count": 64,
   "id": "96e6852f-0d0f-4c49-a0ec-550d807b207e",
   "metadata": {
    "tags": []
   },
   "outputs": [
    {
     "data": {
      "text/html": [
       "<div>\n",
       "<style scoped>\n",
       "    .dataframe tbody tr th:only-of-type {\n",
       "        vertical-align: middle;\n",
       "    }\n",
       "\n",
       "    .dataframe tbody tr th {\n",
       "        vertical-align: top;\n",
       "    }\n",
       "\n",
       "    .dataframe thead th {\n",
       "        text-align: right;\n",
       "    }\n",
       "</style>\n",
       "<table border=\"1\" class=\"dataframe\">\n",
       "  <thead>\n",
       "    <tr style=\"text-align: right;\">\n",
       "      <th></th>\n",
       "      <th>student_id</th>\n",
       "      <th>stat_score</th>\n",
       "      <th>math_score</th>\n",
       "      <th>sex</th>\n",
       "      <th>pre_level</th>\n",
       "    </tr>\n",
       "  </thead>\n",
       "  <tbody>\n",
       "    <tr>\n",
       "      <th>0</th>\n",
       "      <td>s1</td>\n",
       "      <td>NaN</td>\n",
       "      <td>88.0</td>\n",
       "      <td>Female</td>\n",
       "      <td>None</td>\n",
       "    </tr>\n",
       "    <tr>\n",
       "      <th>1</th>\n",
       "      <td>s2</td>\n",
       "      <td>71.0</td>\n",
       "      <td>NaN</td>\n",
       "      <td>Male</td>\n",
       "      <td>A</td>\n",
       "    </tr>\n",
       "    <tr>\n",
       "      <th>2</th>\n",
       "      <td>s3</td>\n",
       "      <td>63.0</td>\n",
       "      <td>76.0</td>\n",
       "      <td>Male</td>\n",
       "      <td>B</td>\n",
       "    </tr>\n",
       "    <tr>\n",
       "      <th>3</th>\n",
       "      <td>s4</td>\n",
       "      <td>99.0</td>\n",
       "      <td>NaN</td>\n",
       "      <td>Female</td>\n",
       "      <td>B</td>\n",
       "    </tr>\n",
       "    <tr>\n",
       "      <th>4</th>\n",
       "      <td>s5</td>\n",
       "      <td>40.0</td>\n",
       "      <td>NaN</td>\n",
       "      <td>None</td>\n",
       "      <td>C</td>\n",
       "    </tr>\n",
       "    <tr>\n",
       "      <th>5</th>\n",
       "      <td>s6</td>\n",
       "      <td>18.0</td>\n",
       "      <td>80.0</td>\n",
       "      <td>Female</td>\n",
       "      <td>None</td>\n",
       "    </tr>\n",
       "  </tbody>\n",
       "</table>\n",
       "</div>"
      ],
      "text/plain": [
       "  student_id  stat_score  math_score     sex pre_level\n",
       "0         s1         NaN        88.0  Female      None\n",
       "1         s2        71.0         NaN    Male         A\n",
       "2         s3        63.0        76.0    Male         B\n",
       "3         s4        99.0         NaN  Female         B\n",
       "4         s5        40.0         NaN    None         C\n",
       "5         s6        18.0        80.0  Female      None"
      ]
     },
     "execution_count": 64,
     "metadata": {},
     "output_type": "execute_result"
    }
   ],
   "source": [
    "df4"
   ]
  },
  {
   "cell_type": "code",
   "execution_count": 61,
   "id": "1f245315-c753-4824-b4f5-50c23f78b4cf",
   "metadata": {
    "tags": []
   },
   "outputs": [
    {
     "data": {
      "text/html": [
       "<div>\n",
       "<style scoped>\n",
       "    .dataframe tbody tr th:only-of-type {\n",
       "        vertical-align: middle;\n",
       "    }\n",
       "\n",
       "    .dataframe tbody tr th {\n",
       "        vertical-align: top;\n",
       "    }\n",
       "\n",
       "    .dataframe thead th {\n",
       "        text-align: right;\n",
       "    }\n",
       "</style>\n",
       "<table border=\"1\" class=\"dataframe\">\n",
       "  <thead>\n",
       "    <tr style=\"text-align: right;\">\n",
       "      <th></th>\n",
       "      <th>student_id</th>\n",
       "      <th>stat_score</th>\n",
       "      <th>math_score</th>\n",
       "      <th>sex</th>\n",
       "      <th>pre_level</th>\n",
       "    </tr>\n",
       "  </thead>\n",
       "  <tbody>\n",
       "    <tr>\n",
       "      <th>2</th>\n",
       "      <td>s3</td>\n",
       "      <td>63.0</td>\n",
       "      <td>76.0</td>\n",
       "      <td>Male</td>\n",
       "      <td>B</td>\n",
       "    </tr>\n",
       "  </tbody>\n",
       "</table>\n",
       "</div>"
      ],
      "text/plain": [
       "  student_id  stat_score  math_score   sex pre_level\n",
       "2         s3        63.0        76.0  Male         B"
      ]
     },
     "execution_count": 61,
     "metadata": {},
     "output_type": "execute_result"
    }
   ],
   "source": [
    "# dropna\n",
    "# 결측치가 있는 행을 모두 제거\n",
    "df4.dropna()"
   ]
  },
  {
   "cell_type": "code",
   "execution_count": 62,
   "id": "7eb0e49d-22d9-4591-b5f4-fc144dc7fb28",
   "metadata": {
    "tags": []
   },
   "outputs": [
    {
     "data": {
      "text/html": [
       "<div>\n",
       "<style scoped>\n",
       "    .dataframe tbody tr th:only-of-type {\n",
       "        vertical-align: middle;\n",
       "    }\n",
       "\n",
       "    .dataframe tbody tr th {\n",
       "        vertical-align: top;\n",
       "    }\n",
       "\n",
       "    .dataframe thead th {\n",
       "        text-align: right;\n",
       "    }\n",
       "</style>\n",
       "<table border=\"1\" class=\"dataframe\">\n",
       "  <thead>\n",
       "    <tr style=\"text-align: right;\">\n",
       "      <th></th>\n",
       "      <th>student_id</th>\n",
       "    </tr>\n",
       "  </thead>\n",
       "  <tbody>\n",
       "    <tr>\n",
       "      <th>0</th>\n",
       "      <td>s1</td>\n",
       "    </tr>\n",
       "    <tr>\n",
       "      <th>1</th>\n",
       "      <td>s2</td>\n",
       "    </tr>\n",
       "    <tr>\n",
       "      <th>2</th>\n",
       "      <td>s3</td>\n",
       "    </tr>\n",
       "    <tr>\n",
       "      <th>3</th>\n",
       "      <td>s4</td>\n",
       "    </tr>\n",
       "    <tr>\n",
       "      <th>4</th>\n",
       "      <td>s5</td>\n",
       "    </tr>\n",
       "    <tr>\n",
       "      <th>5</th>\n",
       "      <td>s6</td>\n",
       "    </tr>\n",
       "  </tbody>\n",
       "</table>\n",
       "</div>"
      ],
      "text/plain": [
       "  student_id\n",
       "0         s1\n",
       "1         s2\n",
       "2         s3\n",
       "3         s4\n",
       "4         s5\n",
       "5         s6"
      ]
     },
     "execution_count": 62,
     "metadata": {},
     "output_type": "execute_result"
    }
   ],
   "source": [
    "# 열도 가능\n",
    "df4.dropna(axis=1)"
   ]
  },
  {
   "cell_type": "markdown",
   "id": "d3143e2e-2ff0-42b1-873d-36ecea7402bd",
   "metadata": {},
   "source": [
    "- ```dropna()``` 메소드는 시리즈에서도 가능하기 때문에 하나 이상의 특정 행/열에 대해서만 결측치가 있는 경우, 모든 행/열을 제거하는 것도 가능"
   ]
  },
  {
   "cell_type": "code",
   "execution_count": 63,
   "id": "6304b565-bf90-4ee3-b5e8-af733a69138d",
   "metadata": {
    "tags": []
   },
   "outputs": [
    {
     "data": {
      "text/plain": [
       "1    71.0\n",
       "2    63.0\n",
       "3    99.0\n",
       "4    40.0\n",
       "5    18.0\n",
       "Name: stat_score, dtype: float64"
      ]
     },
     "execution_count": 63,
     "metadata": {},
     "output_type": "execute_result"
    }
   ],
   "source": [
    "# stat_score 컬럼(시리즈)에서 결측인 요소 제거\n",
    "df4['stat_score'].dropna()"
   ]
  },
  {
   "cell_type": "code",
   "execution_count": 65,
   "id": "2671111f-d997-4081-9cb5-ea3f869412af",
   "metadata": {
    "tags": []
   },
   "outputs": [
    {
     "data": {
      "text/html": [
       "<div>\n",
       "<style scoped>\n",
       "    .dataframe tbody tr th:only-of-type {\n",
       "        vertical-align: middle;\n",
       "    }\n",
       "\n",
       "    .dataframe tbody tr th {\n",
       "        vertical-align: top;\n",
       "    }\n",
       "\n",
       "    .dataframe thead th {\n",
       "        text-align: right;\n",
       "    }\n",
       "</style>\n",
       "<table border=\"1\" class=\"dataframe\">\n",
       "  <thead>\n",
       "    <tr style=\"text-align: right;\">\n",
       "      <th></th>\n",
       "      <th>stat_score</th>\n",
       "      <th>math_score</th>\n",
       "    </tr>\n",
       "  </thead>\n",
       "  <tbody>\n",
       "    <tr>\n",
       "      <th>2</th>\n",
       "      <td>63.0</td>\n",
       "      <td>76.0</td>\n",
       "    </tr>\n",
       "    <tr>\n",
       "      <th>5</th>\n",
       "      <td>18.0</td>\n",
       "      <td>80.0</td>\n",
       "    </tr>\n",
       "  </tbody>\n",
       "</table>\n",
       "</div>"
      ],
      "text/plain": [
       "   stat_score  math_score\n",
       "2        63.0        76.0\n",
       "5        18.0        80.0"
      ]
     },
     "execution_count": 65,
     "metadata": {},
     "output_type": "execute_result"
    }
   ],
   "source": [
    "# 'stat_score'와 'math_score' 컬럼 중 결측치가 있는 모든 행 제거\n",
    "df4[['stat_score', 'math_score']].dropna()"
   ]
  },
  {
   "cell_type": "code",
   "execution_count": null,
   "id": "a970fbc9-997f-463b-a0dd-5e24e8fdefd9",
   "metadata": {},
   "outputs": [],
   "source": []
  },
  {
   "cell_type": "markdown",
   "id": "bce5282c-50e1-40b2-b6be-07caa6e7b30f",
   "metadata": {},
   "source": [
    "#### 나. 평균 대치법\n",
    "- 결측치가 존재할 경우, 해당 변수 값들의 평균으로 빈값을 대치\n",
    "- 데이터프레임의 ```fillna()``` 메소드를 통해 쉽게 적용할 수 있음\n",
    "- ```fillna()``` 메소드는 본래 fillna(value)의 형태로 value에 원하는 숫자/시리즈/데이터프레임 등을 입력하여 결측값을 대치할 수 있음\n",
    "- 따라서 value에 통계 메소드 ```mean()```의 결과인 시리즈를 통해 행/열별로 결측값을 대치할 수 있음"
   ]
  },
  {
   "cell_type": "code",
   "execution_count": 67,
   "id": "b88aadd0-c8b6-4562-a2c3-5ec04238dba1",
   "metadata": {
    "tags": []
   },
   "outputs": [
    {
     "data": {
      "text/html": [
       "<div>\n",
       "<style scoped>\n",
       "    .dataframe tbody tr th:only-of-type {\n",
       "        vertical-align: middle;\n",
       "    }\n",
       "\n",
       "    .dataframe tbody tr th {\n",
       "        vertical-align: top;\n",
       "    }\n",
       "\n",
       "    .dataframe thead th {\n",
       "        text-align: right;\n",
       "    }\n",
       "</style>\n",
       "<table border=\"1\" class=\"dataframe\">\n",
       "  <thead>\n",
       "    <tr style=\"text-align: right;\">\n",
       "      <th></th>\n",
       "      <th>stat_score</th>\n",
       "      <th>math_score</th>\n",
       "    </tr>\n",
       "  </thead>\n",
       "  <tbody>\n",
       "    <tr>\n",
       "      <th>0</th>\n",
       "      <td>NaN</td>\n",
       "      <td>88.0</td>\n",
       "    </tr>\n",
       "    <tr>\n",
       "      <th>1</th>\n",
       "      <td>71.0</td>\n",
       "      <td>NaN</td>\n",
       "    </tr>\n",
       "    <tr>\n",
       "      <th>2</th>\n",
       "      <td>63.0</td>\n",
       "      <td>76.0</td>\n",
       "    </tr>\n",
       "    <tr>\n",
       "      <th>3</th>\n",
       "      <td>99.0</td>\n",
       "      <td>NaN</td>\n",
       "    </tr>\n",
       "    <tr>\n",
       "      <th>4</th>\n",
       "      <td>40.0</td>\n",
       "      <td>NaN</td>\n",
       "    </tr>\n",
       "    <tr>\n",
       "      <th>5</th>\n",
       "      <td>18.0</td>\n",
       "      <td>80.0</td>\n",
       "    </tr>\n",
       "  </tbody>\n",
       "</table>\n",
       "</div>"
      ],
      "text/plain": [
       "   stat_score  math_score\n",
       "0         NaN        88.0\n",
       "1        71.0         NaN\n",
       "2        63.0        76.0\n",
       "3        99.0         NaN\n",
       "4        40.0         NaN\n",
       "5        18.0        80.0"
      ]
     },
     "execution_count": 67,
     "metadata": {},
     "output_type": "execute_result"
    }
   ],
   "source": [
    "# 숫자형 컬럼만 추출\n",
    "df5 = df4[['stat_score', 'math_score']].copy()\n",
    "df5"
   ]
  },
  {
   "cell_type": "code",
   "execution_count": 68,
   "id": "d999c5c4-f01b-4987-a224-3edc7a740b3e",
   "metadata": {
    "tags": []
   },
   "outputs": [
    {
     "data": {
      "text/html": [
       "<div>\n",
       "<style scoped>\n",
       "    .dataframe tbody tr th:only-of-type {\n",
       "        vertical-align: middle;\n",
       "    }\n",
       "\n",
       "    .dataframe tbody tr th {\n",
       "        vertical-align: top;\n",
       "    }\n",
       "\n",
       "    .dataframe thead th {\n",
       "        text-align: right;\n",
       "    }\n",
       "</style>\n",
       "<table border=\"1\" class=\"dataframe\">\n",
       "  <thead>\n",
       "    <tr style=\"text-align: right;\">\n",
       "      <th></th>\n",
       "      <th>stat_score</th>\n",
       "      <th>math_score</th>\n",
       "    </tr>\n",
       "  </thead>\n",
       "  <tbody>\n",
       "    <tr>\n",
       "      <th>0</th>\n",
       "      <td>0.0</td>\n",
       "      <td>88.0</td>\n",
       "    </tr>\n",
       "    <tr>\n",
       "      <th>1</th>\n",
       "      <td>71.0</td>\n",
       "      <td>0.0</td>\n",
       "    </tr>\n",
       "    <tr>\n",
       "      <th>2</th>\n",
       "      <td>63.0</td>\n",
       "      <td>76.0</td>\n",
       "    </tr>\n",
       "    <tr>\n",
       "      <th>3</th>\n",
       "      <td>99.0</td>\n",
       "      <td>0.0</td>\n",
       "    </tr>\n",
       "    <tr>\n",
       "      <th>4</th>\n",
       "      <td>40.0</td>\n",
       "      <td>0.0</td>\n",
       "    </tr>\n",
       "    <tr>\n",
       "      <th>5</th>\n",
       "      <td>18.0</td>\n",
       "      <td>80.0</td>\n",
       "    </tr>\n",
       "  </tbody>\n",
       "</table>\n",
       "</div>"
      ],
      "text/plain": [
       "   stat_score  math_score\n",
       "0         0.0        88.0\n",
       "1        71.0         0.0\n",
       "2        63.0        76.0\n",
       "3        99.0         0.0\n",
       "4        40.0         0.0\n",
       "5        18.0        80.0"
      ]
     },
     "execution_count": 68,
     "metadata": {},
     "output_type": "execute_result"
    }
   ],
   "source": [
    "# fillna : 결측치를 모두 0으로 대치\n",
    "df5.fillna(0)"
   ]
  },
  {
   "cell_type": "code",
   "execution_count": 70,
   "id": "b015b14a-20cd-41c6-afb9-6008b515003a",
   "metadata": {
    "tags": []
   },
   "outputs": [
    {
     "data": {
      "text/html": [
       "<div>\n",
       "<style scoped>\n",
       "    .dataframe tbody tr th:only-of-type {\n",
       "        vertical-align: middle;\n",
       "    }\n",
       "\n",
       "    .dataframe tbody tr th {\n",
       "        vertical-align: top;\n",
       "    }\n",
       "\n",
       "    .dataframe thead th {\n",
       "        text-align: right;\n",
       "    }\n",
       "</style>\n",
       "<table border=\"1\" class=\"dataframe\">\n",
       "  <thead>\n",
       "    <tr style=\"text-align: right;\">\n",
       "      <th></th>\n",
       "      <th>stat_score</th>\n",
       "      <th>math_score</th>\n",
       "    </tr>\n",
       "  </thead>\n",
       "  <tbody>\n",
       "    <tr>\n",
       "      <th>0</th>\n",
       "      <td>58.2</td>\n",
       "      <td>88.000000</td>\n",
       "    </tr>\n",
       "    <tr>\n",
       "      <th>1</th>\n",
       "      <td>71.0</td>\n",
       "      <td>81.333333</td>\n",
       "    </tr>\n",
       "    <tr>\n",
       "      <th>2</th>\n",
       "      <td>63.0</td>\n",
       "      <td>76.000000</td>\n",
       "    </tr>\n",
       "    <tr>\n",
       "      <th>3</th>\n",
       "      <td>99.0</td>\n",
       "      <td>81.333333</td>\n",
       "    </tr>\n",
       "    <tr>\n",
       "      <th>4</th>\n",
       "      <td>40.0</td>\n",
       "      <td>81.333333</td>\n",
       "    </tr>\n",
       "    <tr>\n",
       "      <th>5</th>\n",
       "      <td>18.0</td>\n",
       "      <td>80.000000</td>\n",
       "    </tr>\n",
       "  </tbody>\n",
       "</table>\n",
       "</div>"
      ],
      "text/plain": [
       "   stat_score  math_score\n",
       "0        58.2   88.000000\n",
       "1        71.0   81.333333\n",
       "2        63.0   76.000000\n",
       "3        99.0   81.333333\n",
       "4        40.0   81.333333\n",
       "5        18.0   80.000000"
      ]
     },
     "execution_count": 70,
     "metadata": {},
     "output_type": "execute_result"
    }
   ],
   "source": [
    "# 평균 대치 : 컬럼별 평균으로 대치\n",
    "df5.fillna(df5.mean())"
   ]
  },
  {
   "cell_type": "code",
   "execution_count": null,
   "id": "9ae55cab-d289-4092-b464-0ea4bcaffde3",
   "metadata": {},
   "outputs": [],
   "source": []
  },
  {
   "cell_type": "markdown",
   "id": "69b7f6bd-7bf7-4435-a154-0bc001200ba9",
   "metadata": {},
   "source": [
    "### 2절: 이상치 (Outlier)\n",
    "#### 이상치란\n",
    "- 관측된 데이터의 범위에서 많이 벗어나있는 아주 작거나 아주 큰 값으로서 정상 범위 밖에 있는 값을 뜻함\n",
    "- 이상치는 잘못 입력된 값일 수도 있으나 실제로 존재하는 값을 수도 있으며, 전체 데이터 분포에 큰 영향을 미침\n",
    "- 이상치가 존재할 경우 분석 결과가 특정한 쪽으로 치우치거나 왜곡될 수 있음\n",
    "- 따라서 데이터에서 이상치를 인식한 후, 이를 제외하고 분석을 할 지 혹은 포함하여 조정하여 분석을 할지 판단한 후 분석해야 함\n",
    "- 일반적으로 이상치는 **사분위수**, **정규분포** 등을 활용해 판별\n",
    "\n",
    "<br>\n",
    "\n",
    "#### 이상치 인식과 제거\n",
    "#### 가. 사분위수를 이용한 이상치 판별\n",
    "- 사분위수는 일반적으로 **상자(수염) 그림(Box Plot)**을 통해서 시각화\n",
    "- 상자 그림이란 데이터의 분포를 보여주며 숫자형 데이터의 제1사분위수, 제2사분위수(중위수), 제3사분위수, 사분위 범위(IQR), 이상치(Outlier)를 시각화한 그림\n",
    "\n",
    "<br>\n",
    "\n",
    "![상자그림](https://builtin.com/sites/www.builtin.com/files/styles/ckeditor_optimize/public/inline-images/1_boxplots.jpg)\n",
    "- 상자의 시작 선은 제1사분위수(25%), 상자 중간선은 제2분위수(50%), 상자 끝 선은 제3사분위수(75%)를 나타냄\n",
    "- 따라서 상자의 길이는 전체 데이터의 50%에 해당하는 사분위 범위(IQR = Q3 - Q1)를 시각적으로 나타냄\n",
    "- 상자 밖으로 이어져 있는 선은 수염(whisker)이라고 하며, 수염의 시작 선(lower whisker)은 $Q1 - 1.5 * IQR$ 보다 큰 값 중에서 가장 작은 수이며, 수염의 마지막 선(upper whisker)은 $Q3 + 1.5 * IQR$ 보다 작은 값 중에서 가장 큰 수를 각각 의미함\n",
    "- 수염의 각 양옆에 분포된 점들은 이상치(outlier)이며, **upper whisker보다 크거나 lower whisker보다 작은 값**들이 이에 해당\n",
    "- 숫자들 중 특정 값이 ** $[중앙값-1.5 * IQR ~ 중앙값 + 1.5 * IQR]$ 범위에서 벗어나 있는 경우 이상치로 간주\n",
    "\n",
    "<br>\n",
    "\n",
    "#### 나. 이상치 제거\n",
    "- 사분위수를 이용하여 한 컬럼에 대해 이상치를 판별하고 판별된 이상치가 있는 행을 제거"
   ]
  },
  {
   "cell_type": "code",
   "execution_count": 76,
   "id": "fc5276b5-0a11-480d-a3e5-dd2e52b21a47",
   "metadata": {
    "tags": []
   },
   "outputs": [],
   "source": [
    "# 데이터프레임 생성\n",
    "idx = ['sex', 'pre_level']\n",
    "df6 = df3.drop(columns=idx, axis=1)"
   ]
  },
  {
   "cell_type": "code",
   "execution_count": 77,
   "id": "eb5a4e43-49c3-4c5f-8669-7accb50af8c5",
   "metadata": {
    "tags": []
   },
   "outputs": [
    {
     "data": {
      "text/html": [
       "<div>\n",
       "<style scoped>\n",
       "    .dataframe tbody tr th:only-of-type {\n",
       "        vertical-align: middle;\n",
       "    }\n",
       "\n",
       "    .dataframe tbody tr th {\n",
       "        vertical-align: top;\n",
       "    }\n",
       "\n",
       "    .dataframe thead th {\n",
       "        text-align: right;\n",
       "    }\n",
       "</style>\n",
       "<table border=\"1\" class=\"dataframe\">\n",
       "  <thead>\n",
       "    <tr style=\"text-align: right;\">\n",
       "      <th></th>\n",
       "      <th>student_id</th>\n",
       "      <th>stat_score</th>\n",
       "      <th>math_score</th>\n",
       "    </tr>\n",
       "  </thead>\n",
       "  <tbody>\n",
       "    <tr>\n",
       "      <th>0</th>\n",
       "      <td>s1</td>\n",
       "      <td>85</td>\n",
       "      <td>88</td>\n",
       "    </tr>\n",
       "    <tr>\n",
       "      <th>1</th>\n",
       "      <td>s2</td>\n",
       "      <td>71</td>\n",
       "      <td>49</td>\n",
       "    </tr>\n",
       "    <tr>\n",
       "      <th>2</th>\n",
       "      <td>s3</td>\n",
       "      <td>63</td>\n",
       "      <td>76</td>\n",
       "    </tr>\n",
       "    <tr>\n",
       "      <th>3</th>\n",
       "      <td>s4</td>\n",
       "      <td>99</td>\n",
       "      <td>22</td>\n",
       "    </tr>\n",
       "    <tr>\n",
       "      <th>4</th>\n",
       "      <td>s5</td>\n",
       "      <td>40</td>\n",
       "      <td>13</td>\n",
       "    </tr>\n",
       "    <tr>\n",
       "      <th>5</th>\n",
       "      <td>s6</td>\n",
       "      <td>18</td>\n",
       "      <td>80</td>\n",
       "    </tr>\n",
       "  </tbody>\n",
       "</table>\n",
       "</div>"
      ],
      "text/plain": [
       "  student_id  stat_score  math_score\n",
       "0         s1          85          88\n",
       "1         s2          71          49\n",
       "2         s3          63          76\n",
       "3         s4          99          22\n",
       "4         s5          40          13\n",
       "5         s6          18          80"
      ]
     },
     "execution_count": 77,
     "metadata": {},
     "output_type": "execute_result"
    }
   ],
   "source": [
    "df6"
   ]
  },
  {
   "cell_type": "code",
   "execution_count": 79,
   "id": "8e5fc53e-6ce8-4b15-b6ca-7b54dbd9142e",
   "metadata": {
    "tags": []
   },
   "outputs": [],
   "source": [
    "# 'stat_score' 컬럼에 대해 이상치를 판별하고 제거\n",
    "q1 = df6['stat_score'].quantile(0.25)    # 제1사분위수\n",
    "q3 = df6['stat_score'].quantile(0.75)    # 제3사분위수\n",
    "iqr = q3-q1                              # IQR\n",
    "lower = q1 - 1.5 * iqr                   # lower whisker\n",
    "upper = q3 + 1.5 * iqr                   # upper whisker"
   ]
  },
  {
   "cell_type": "code",
   "execution_count": 81,
   "id": "2c9ff23a-9f23-4af2-a3ad-5d5b673f295c",
   "metadata": {
    "tags": []
   },
   "outputs": [
    {
     "data": {
      "text/html": [
       "<div>\n",
       "<style scoped>\n",
       "    .dataframe tbody tr th:only-of-type {\n",
       "        vertical-align: middle;\n",
       "    }\n",
       "\n",
       "    .dataframe tbody tr th {\n",
       "        vertical-align: top;\n",
       "    }\n",
       "\n",
       "    .dataframe thead th {\n",
       "        text-align: right;\n",
       "    }\n",
       "</style>\n",
       "<table border=\"1\" class=\"dataframe\">\n",
       "  <thead>\n",
       "    <tr style=\"text-align: right;\">\n",
       "      <th></th>\n",
       "      <th>student_id</th>\n",
       "      <th>stat_score</th>\n",
       "      <th>math_score</th>\n",
       "    </tr>\n",
       "  </thead>\n",
       "  <tbody>\n",
       "  </tbody>\n",
       "</table>\n",
       "</div>"
      ],
      "text/plain": [
       "Empty DataFrame\n",
       "Columns: [student_id, stat_score, math_score]\n",
       "Index: []"
      ]
     },
     "execution_count": 81,
     "metadata": {},
     "output_type": "execute_result"
    }
   ],
   "source": [
    "# 이상치 판별\n",
    "# upper whisker보다 크거나 lower whisker보다 작은 값들\n",
    "df6[( df6['stat_score'] < lower) | (df6['stat_score'] > upper) ]"
   ]
  },
  {
   "cell_type": "code",
   "execution_count": 83,
   "id": "930b652e-760b-4cf7-a349-9d804d6e0a72",
   "metadata": {
    "tags": []
   },
   "outputs": [
    {
     "data": {
      "text/html": [
       "<div>\n",
       "<style scoped>\n",
       "    .dataframe tbody tr th:only-of-type {\n",
       "        vertical-align: middle;\n",
       "    }\n",
       "\n",
       "    .dataframe tbody tr th {\n",
       "        vertical-align: top;\n",
       "    }\n",
       "\n",
       "    .dataframe thead th {\n",
       "        text-align: right;\n",
       "    }\n",
       "</style>\n",
       "<table border=\"1\" class=\"dataframe\">\n",
       "  <thead>\n",
       "    <tr style=\"text-align: right;\">\n",
       "      <th></th>\n",
       "      <th>student_id</th>\n",
       "      <th>stat_score</th>\n",
       "      <th>math_score</th>\n",
       "    </tr>\n",
       "  </thead>\n",
       "  <tbody>\n",
       "    <tr>\n",
       "      <th>0</th>\n",
       "      <td>s1</td>\n",
       "      <td>85</td>\n",
       "      <td>88</td>\n",
       "    </tr>\n",
       "    <tr>\n",
       "      <th>1</th>\n",
       "      <td>s2</td>\n",
       "      <td>71</td>\n",
       "      <td>49</td>\n",
       "    </tr>\n",
       "    <tr>\n",
       "      <th>2</th>\n",
       "      <td>s3</td>\n",
       "      <td>63</td>\n",
       "      <td>76</td>\n",
       "    </tr>\n",
       "    <tr>\n",
       "      <th>3</th>\n",
       "      <td>s4</td>\n",
       "      <td>99</td>\n",
       "      <td>22</td>\n",
       "    </tr>\n",
       "    <tr>\n",
       "      <th>4</th>\n",
       "      <td>s5</td>\n",
       "      <td>40</td>\n",
       "      <td>13</td>\n",
       "    </tr>\n",
       "    <tr>\n",
       "      <th>5</th>\n",
       "      <td>s6</td>\n",
       "      <td>18</td>\n",
       "      <td>80</td>\n",
       "    </tr>\n",
       "  </tbody>\n",
       "</table>\n",
       "</div>"
      ],
      "text/plain": [
       "  student_id  stat_score  math_score\n",
       "0         s1          85          88\n",
       "1         s2          71          49\n",
       "2         s3          63          76\n",
       "3         s4          99          22\n",
       "4         s5          40          13\n",
       "5         s6          18          80"
      ]
     },
     "execution_count": 83,
     "metadata": {},
     "output_type": "execute_result"
    }
   ],
   "source": [
    "# 이상치 제거\n",
    "df6[ (df6['stat_score'] > lower) & (df6['stat_score'] < upper) ]"
   ]
  },
  {
   "cell_type": "code",
   "execution_count": null,
   "id": "e2c261d1-b3d0-4e3f-96d1-c674df12f0f2",
   "metadata": {},
   "outputs": [],
   "source": []
  },
  {
   "cell_type": "code",
   "execution_count": null,
   "id": "a57db109-8820-4f99-9dd6-798505b5932b",
   "metadata": {},
   "outputs": [],
   "source": []
  },
  {
   "cell_type": "code",
   "execution_count": null,
   "id": "aa218fa8-1997-4adf-b50a-83c73f5dd3e7",
   "metadata": {},
   "outputs": [],
   "source": []
  },
  {
   "cell_type": "markdown",
   "id": "67bc7338-ffb4-45e7-8bcf-bf39de109e6e",
   "metadata": {},
   "source": [
    "## Part 02 데이터 핸들링 - 6장 텍스트와 날짜시간 데이터\n",
    "### 1절: 텍스트 데이터 다루기\n",
    "\n",
    "#### 문자열 데이터 전처리\n",
    "- 단순한 문자열의 경우 인덱싱이나 슬라이싱을 통해 쉽게 문자열을 다룰 수 있지만, **데이터프레임의 값에 들어가있는 문자열**은 시리즈의 **```str```** 메소드를 사용하여 문자열을 처라할 수 있음\n",
    "- ```str```을 사용하면 인덱싱과 슬라이싱이 가능해지므로 간단한 위치기반의 추출은 **시리즈객체.str[]** 와 같은 형태를 통해 처리할 수 있음\n",
    "- 이외의 문자열 처리는 ```str``` 의 여러 하위 메소드를 사용해야 함\n",
    "- ```시리즈.str.하위메소드``` 와 같은 형태\n",
    "\n",
    "<br>\n",
    "\n",
    "- **startswith(pat)** : pat(문자열)로 시작한다면 True, 아니면 False 반환\n",
    "- **endswith(pat)** : pat(문자열)로 끝난다면 True, 아니면 False 반환\n",
    "- **contains(pat)** : pat(문자열 또는 정규식)이 포함되면 True, 아니면 False 반환\n",
    "- **split(pat=None)** : pat을 기준으로 문자열을 분할, pat의 default 값은 None으로 공배긍ㄹ 기준으로 분할됨\n",
    "- **find(sub, start=0, end=None)** : sub가 있는 위치를 start에서부터 end까지에서 찾아 위치값을 반환 (sub가 없을 경우 -1 반환)\n",
    "- **rfind(sub, start=0, end=None)** : sub가 있는 위치를 start에서부터 end까지에서 찾아 위치값을 반환 (sub가 없을 경우 -1 반환)\n",
    "- **findall(pat)** : 모든 pat(문자열 또는 정규식) 항목을 반환\n",
    "- **replace(pat, repl)** : pat를 repl로 대치\n",
    "- **strip(to_strip=None)** : 선행 및 후행 문자 제거, to_strip의 default 값은 None으로 공백 제거\n",
    "- **Istrip(to_strip=None)** : 선행 문자를 제거, to_strip의 default 값은 None으로 공백 제거\n",
    "- **rstrip(to_strip=None)** : 후행 문자를 제거, to_strip의 default 값은 None으로 공백 제거\n",
    "- **lower()** : 모두 소문자로 변경\n",
    "- **upper()** : 모두 대문자로 변경\n",
    "- **swapcase()** : 소문자는 대문자로, 대문자는 소문자로 변경"
   ]
  },
  {
   "cell_type": "code",
   "execution_count": 84,
   "id": "4186734b-7a6f-4a4e-9e13-fc2d5885aeb8",
   "metadata": {
    "tags": []
   },
   "outputs": [],
   "source": [
    "import pandas as pd"
   ]
  },
  {
   "cell_type": "code",
   "execution_count": 86,
   "id": "c2fbb763-4e4c-47b4-bce7-1ccf32ff3efe",
   "metadata": {
    "tags": []
   },
   "outputs": [
    {
     "data": {
      "text/html": [
       "<div>\n",
       "<style scoped>\n",
       "    .dataframe tbody tr th:only-of-type {\n",
       "        vertical-align: middle;\n",
       "    }\n",
       "\n",
       "    .dataframe tbody tr th {\n",
       "        vertical-align: top;\n",
       "    }\n",
       "\n",
       "    .dataframe thead th {\n",
       "        text-align: right;\n",
       "    }\n",
       "</style>\n",
       "<table border=\"1\" class=\"dataframe\">\n",
       "  <thead>\n",
       "    <tr style=\"text-align: right;\">\n",
       "      <th></th>\n",
       "      <th>대학이름</th>\n",
       "      <th>주소</th>\n",
       "    </tr>\n",
       "  </thead>\n",
       "  <tbody>\n",
       "    <tr>\n",
       "      <th>0</th>\n",
       "      <td>서울대학교</td>\n",
       "      <td>서울특별시 관악구 관악로 1</td>\n",
       "    </tr>\n",
       "    <tr>\n",
       "      <th>1</th>\n",
       "      <td>KAIST</td>\n",
       "      <td>대전광역시 유성구 대학로 291</td>\n",
       "    </tr>\n",
       "    <tr>\n",
       "      <th>2</th>\n",
       "      <td>성균관대학교</td>\n",
       "      <td>서울특별시 종로구 성균관로 25-2</td>\n",
       "    </tr>\n",
       "    <tr>\n",
       "      <th>3</th>\n",
       "      <td>연세대학교</td>\n",
       "      <td>서울특별시 서대문구 연세로 50</td>\n",
       "    </tr>\n",
       "    <tr>\n",
       "      <th>4</th>\n",
       "      <td>UNIST</td>\n",
       "      <td>울산광역시 울주군 언양읍 유니스트길 50</td>\n",
       "    </tr>\n",
       "    <tr>\n",
       "      <th>5</th>\n",
       "      <td>포항공과대학교</td>\n",
       "      <td>경상북도 포항시 남구 청암로 77</td>\n",
       "    </tr>\n",
       "    <tr>\n",
       "      <th>6</th>\n",
       "      <td>고려대학교</td>\n",
       "      <td>서울특별시 성북구 안암로 145</td>\n",
       "    </tr>\n",
       "    <tr>\n",
       "      <th>7</th>\n",
       "      <td>경희대학교</td>\n",
       "      <td>서울특별시 동대문구 경희대로 26</td>\n",
       "    </tr>\n",
       "    <tr>\n",
       "      <th>8</th>\n",
       "      <td>세종대학교</td>\n",
       "      <td>서울특별시 광진구 능동로 209</td>\n",
       "    </tr>\n",
       "    <tr>\n",
       "      <th>9</th>\n",
       "      <td>한양대학교</td>\n",
       "      <td>서울특별시 성동구 왕십리로 222</td>\n",
       "    </tr>\n",
       "    <tr>\n",
       "      <th>10</th>\n",
       "      <td>GIST</td>\n",
       "      <td>광주광역시 북구 첨단과기로 123</td>\n",
       "    </tr>\n",
       "    <tr>\n",
       "      <th>11</th>\n",
       "      <td>아주대학교</td>\n",
       "      <td>경기도 수원시 영통구 월드컵로 206</td>\n",
       "    </tr>\n",
       "    <tr>\n",
       "      <th>12</th>\n",
       "      <td>중앙대학교</td>\n",
       "      <td>서울특별시 동작구 흑석로 84</td>\n",
       "    </tr>\n",
       "    <tr>\n",
       "      <th>13</th>\n",
       "      <td>이화여자대학교</td>\n",
       "      <td>서울특별시 서대문구 이화여대길 52</td>\n",
       "    </tr>\n",
       "    <tr>\n",
       "      <th>14</th>\n",
       "      <td>건국대학교</td>\n",
       "      <td>서울특별시 광진구 능동로 120</td>\n",
       "    </tr>\n",
       "    <tr>\n",
       "      <th>15</th>\n",
       "      <td>경북대학교</td>\n",
       "      <td>대구광역시 북구 대학로 80</td>\n",
       "    </tr>\n",
       "    <tr>\n",
       "      <th>16</th>\n",
       "      <td>울산대학교</td>\n",
       "      <td>울산광역시 남구 대학로 93</td>\n",
       "    </tr>\n",
       "    <tr>\n",
       "      <th>17</th>\n",
       "      <td>부산대학교</td>\n",
       "      <td>부산광역시 금정구 부산대학로63번길 2</td>\n",
       "    </tr>\n",
       "    <tr>\n",
       "      <th>18</th>\n",
       "      <td>영남대학교</td>\n",
       "      <td>경상북도 경산시 대학로 280</td>\n",
       "    </tr>\n",
       "    <tr>\n",
       "      <th>19</th>\n",
       "      <td>가톨릭대학교</td>\n",
       "      <td>서울특별시 종로구 창경궁로 296-12</td>\n",
       "    </tr>\n",
       "  </tbody>\n",
       "</table>\n",
       "</div>"
      ],
      "text/plain": [
       "       대학이름                      주소\n",
       "0     서울대학교         서울특별시 관악구 관악로 1\n",
       "1     KAIST       대전광역시 유성구 대학로 291\n",
       "2    성균관대학교     서울특별시 종로구 성균관로 25-2\n",
       "3     연세대학교       서울특별시 서대문구 연세로 50\n",
       "4     UNIST  울산광역시 울주군 언양읍 유니스트길 50\n",
       "5   포항공과대학교      경상북도 포항시 남구 청암로 77\n",
       "6     고려대학교       서울특별시 성북구 안암로 145\n",
       "7     경희대학교      서울특별시 동대문구 경희대로 26\n",
       "8     세종대학교       서울특별시 광진구 능동로 209\n",
       "9     한양대학교      서울특별시 성동구 왕십리로 222\n",
       "10     GIST      광주광역시 북구 첨단과기로 123\n",
       "11    아주대학교    경기도 수원시 영통구 월드컵로 206\n",
       "12    중앙대학교        서울특별시 동작구 흑석로 84\n",
       "13  이화여자대학교     서울특별시 서대문구 이화여대길 52\n",
       "14    건국대학교       서울특별시 광진구 능동로 120\n",
       "15    경북대학교         대구광역시 북구 대학로 80\n",
       "16    울산대학교         울산광역시 남구 대학로 93\n",
       "17    부산대학교   부산광역시 금정구 부산대학로63번길 2\n",
       "18    영남대학교        경상북도 경산시 대학로 280\n",
       "19   가톨릭대학교   서울특별시 종로구 창경궁로 296-12"
      ]
     },
     "execution_count": 86,
     "metadata": {},
     "output_type": "execute_result"
    }
   ],
   "source": [
    "# 데이터프레임 불러오기\n",
    "# 인코딩 옵션(encoding='CP949')를 사용해 한글이 깨지는 것 방지\n",
    "df1 = pd.read_csv('data/예제/University_text_after.csv', encoding='CP949')\n",
    "df1"
   ]
  },
  {
   "cell_type": "code",
   "execution_count": 87,
   "id": "4efae6c4-11b5-40a2-a4fa-07ea607b48c8",
   "metadata": {
    "tags": []
   },
   "outputs": [
    {
     "data": {
      "text/plain": [
       "0     서울특별시\n",
       "1     대전광역시\n",
       "2     서울특별시\n",
       "3     서울특별시\n",
       "4     울산광역시\n",
       "5     경상북도 \n",
       "6     서울특별시\n",
       "7     서울특별시\n",
       "8     서울특별시\n",
       "9     서울특별시\n",
       "10    광주광역시\n",
       "11    경기도 수\n",
       "12    서울특별시\n",
       "13    서울특별시\n",
       "14    서울특별시\n",
       "15    대구광역시\n",
       "16    울산광역시\n",
       "17    부산광역시\n",
       "18    경상북도 \n",
       "19    서울특별시\n",
       "Name: 주소, dtype: object"
      ]
     },
     "execution_count": 87,
     "metadata": {},
     "output_type": "execute_result"
    }
   ],
   "source": [
    "# 시리즈.str[]\n",
    "# 단순하게 인덱싱과 슬라이싱\n",
    "df1['주소'].str[0:5]"
   ]
  },
  {
   "cell_type": "code",
   "execution_count": 89,
   "id": "d7ccf3aa-a448-40cb-972e-d17e514ba5d6",
   "metadata": {
    "tags": []
   },
   "outputs": [
    {
     "data": {
      "text/plain": [
       "0      True\n",
       "1     False\n",
       "2      True\n",
       "3      True\n",
       "4     False\n",
       "5     False\n",
       "6      True\n",
       "7      True\n",
       "8      True\n",
       "9      True\n",
       "10    False\n",
       "11    False\n",
       "12     True\n",
       "13     True\n",
       "14     True\n",
       "15    False\n",
       "16    False\n",
       "17    False\n",
       "18    False\n",
       "19     True\n",
       "Name: 주소, dtype: bool"
      ]
     },
     "execution_count": 89,
     "metadata": {},
     "output_type": "execute_result"
    }
   ],
   "source": [
    "# str.startswith(pat)\n",
    "# pat(문자열)로 시작하면 True, 아니면 False\n",
    "df1['주소'].str.startswith(\"서울\")"
   ]
  },
  {
   "cell_type": "code",
   "execution_count": 90,
   "id": "5c177cb9-649c-440e-a3f6-12c48d19653e",
   "metadata": {
    "tags": []
   },
   "outputs": [
    {
     "data": {
      "text/html": [
       "<div>\n",
       "<style scoped>\n",
       "    .dataframe tbody tr th:only-of-type {\n",
       "        vertical-align: middle;\n",
       "    }\n",
       "\n",
       "    .dataframe tbody tr th {\n",
       "        vertical-align: top;\n",
       "    }\n",
       "\n",
       "    .dataframe thead th {\n",
       "        text-align: right;\n",
       "    }\n",
       "</style>\n",
       "<table border=\"1\" class=\"dataframe\">\n",
       "  <thead>\n",
       "    <tr style=\"text-align: right;\">\n",
       "      <th></th>\n",
       "      <th>대학이름</th>\n",
       "      <th>주소</th>\n",
       "    </tr>\n",
       "  </thead>\n",
       "  <tbody>\n",
       "    <tr>\n",
       "      <th>0</th>\n",
       "      <td>서울대학교</td>\n",
       "      <td>서울특별시 관악구 관악로 1</td>\n",
       "    </tr>\n",
       "    <tr>\n",
       "      <th>2</th>\n",
       "      <td>성균관대학교</td>\n",
       "      <td>서울특별시 종로구 성균관로 25-2</td>\n",
       "    </tr>\n",
       "    <tr>\n",
       "      <th>3</th>\n",
       "      <td>연세대학교</td>\n",
       "      <td>서울특별시 서대문구 연세로 50</td>\n",
       "    </tr>\n",
       "    <tr>\n",
       "      <th>6</th>\n",
       "      <td>고려대학교</td>\n",
       "      <td>서울특별시 성북구 안암로 145</td>\n",
       "    </tr>\n",
       "    <tr>\n",
       "      <th>7</th>\n",
       "      <td>경희대학교</td>\n",
       "      <td>서울특별시 동대문구 경희대로 26</td>\n",
       "    </tr>\n",
       "    <tr>\n",
       "      <th>8</th>\n",
       "      <td>세종대학교</td>\n",
       "      <td>서울특별시 광진구 능동로 209</td>\n",
       "    </tr>\n",
       "    <tr>\n",
       "      <th>9</th>\n",
       "      <td>한양대학교</td>\n",
       "      <td>서울특별시 성동구 왕십리로 222</td>\n",
       "    </tr>\n",
       "    <tr>\n",
       "      <th>12</th>\n",
       "      <td>중앙대학교</td>\n",
       "      <td>서울특별시 동작구 흑석로 84</td>\n",
       "    </tr>\n",
       "    <tr>\n",
       "      <th>13</th>\n",
       "      <td>이화여자대학교</td>\n",
       "      <td>서울특별시 서대문구 이화여대길 52</td>\n",
       "    </tr>\n",
       "    <tr>\n",
       "      <th>14</th>\n",
       "      <td>건국대학교</td>\n",
       "      <td>서울특별시 광진구 능동로 120</td>\n",
       "    </tr>\n",
       "    <tr>\n",
       "      <th>19</th>\n",
       "      <td>가톨릭대학교</td>\n",
       "      <td>서울특별시 종로구 창경궁로 296-12</td>\n",
       "    </tr>\n",
       "  </tbody>\n",
       "</table>\n",
       "</div>"
      ],
      "text/plain": [
       "       대학이름                     주소\n",
       "0     서울대학교        서울특별시 관악구 관악로 1\n",
       "2    성균관대학교    서울특별시 종로구 성균관로 25-2\n",
       "3     연세대학교      서울특별시 서대문구 연세로 50\n",
       "6     고려대학교      서울특별시 성북구 안암로 145\n",
       "7     경희대학교     서울특별시 동대문구 경희대로 26\n",
       "8     세종대학교      서울특별시 광진구 능동로 209\n",
       "9     한양대학교     서울특별시 성동구 왕십리로 222\n",
       "12    중앙대학교       서울특별시 동작구 흑석로 84\n",
       "13  이화여자대학교    서울특별시 서대문구 이화여대길 52\n",
       "14    건국대학교      서울특별시 광진구 능동로 120\n",
       "19   가톨릭대학교  서울특별시 종로구 창경궁로 296-12"
      ]
     },
     "execution_count": 90,
     "metadata": {},
     "output_type": "execute_result"
    }
   ],
   "source": [
    "# 주소가 '서울'로 시작하는 데이터셋 추출\n",
    "df1[df1['주소'].str.startswith(\"서울\")]"
   ]
  },
  {
   "cell_type": "code",
   "execution_count": 92,
   "id": "84bfa6fc-8b39-42d4-ba10-62d5abf1be11",
   "metadata": {
    "tags": []
   },
   "outputs": [
    {
     "data": {
      "text/html": [
       "<div>\n",
       "<style scoped>\n",
       "    .dataframe tbody tr th:only-of-type {\n",
       "        vertical-align: middle;\n",
       "    }\n",
       "\n",
       "    .dataframe tbody tr th {\n",
       "        vertical-align: top;\n",
       "    }\n",
       "\n",
       "    .dataframe thead th {\n",
       "        text-align: right;\n",
       "    }\n",
       "</style>\n",
       "<table border=\"1\" class=\"dataframe\">\n",
       "  <thead>\n",
       "    <tr style=\"text-align: right;\">\n",
       "      <th></th>\n",
       "      <th>대학이름</th>\n",
       "      <th>주소</th>\n",
       "    </tr>\n",
       "  </thead>\n",
       "  <tbody>\n",
       "    <tr>\n",
       "      <th>1</th>\n",
       "      <td>KAIST</td>\n",
       "      <td>대전광역시 유성구 대학로 291</td>\n",
       "    </tr>\n",
       "    <tr>\n",
       "      <th>4</th>\n",
       "      <td>UNIST</td>\n",
       "      <td>울산광역시 울주군 언양읍 유니스트길 50</td>\n",
       "    </tr>\n",
       "    <tr>\n",
       "      <th>5</th>\n",
       "      <td>포항공과대학교</td>\n",
       "      <td>경상북도 포항시 남구 청암로 77</td>\n",
       "    </tr>\n",
       "    <tr>\n",
       "      <th>10</th>\n",
       "      <td>GIST</td>\n",
       "      <td>광주광역시 북구 첨단과기로 123</td>\n",
       "    </tr>\n",
       "    <tr>\n",
       "      <th>11</th>\n",
       "      <td>아주대학교</td>\n",
       "      <td>경기도 수원시 영통구 월드컵로 206</td>\n",
       "    </tr>\n",
       "    <tr>\n",
       "      <th>15</th>\n",
       "      <td>경북대학교</td>\n",
       "      <td>대구광역시 북구 대학로 80</td>\n",
       "    </tr>\n",
       "    <tr>\n",
       "      <th>16</th>\n",
       "      <td>울산대학교</td>\n",
       "      <td>울산광역시 남구 대학로 93</td>\n",
       "    </tr>\n",
       "    <tr>\n",
       "      <th>17</th>\n",
       "      <td>부산대학교</td>\n",
       "      <td>부산광역시 금정구 부산대학로63번길 2</td>\n",
       "    </tr>\n",
       "    <tr>\n",
       "      <th>18</th>\n",
       "      <td>영남대학교</td>\n",
       "      <td>경상북도 경산시 대학로 280</td>\n",
       "    </tr>\n",
       "  </tbody>\n",
       "</table>\n",
       "</div>"
      ],
      "text/plain": [
       "       대학이름                      주소\n",
       "1     KAIST       대전광역시 유성구 대학로 291\n",
       "4     UNIST  울산광역시 울주군 언양읍 유니스트길 50\n",
       "5   포항공과대학교      경상북도 포항시 남구 청암로 77\n",
       "10     GIST      광주광역시 북구 첨단과기로 123\n",
       "11    아주대학교    경기도 수원시 영통구 월드컵로 206\n",
       "15    경북대학교         대구광역시 북구 대학로 80\n",
       "16    울산대학교         울산광역시 남구 대학로 93\n",
       "17    부산대학교   부산광역시 금정구 부산대학로63번길 2\n",
       "18    영남대학교        경상북도 경산시 대학로 280"
      ]
     },
     "execution_count": 92,
     "metadata": {},
     "output_type": "execute_result"
    }
   ],
   "source": [
    "# 주소가 '서울'로 시작하지 않는 데이터셋 추출\n",
    "df1[~df1['주소'].str.startswith(\"서울\")]"
   ]
  },
  {
   "cell_type": "code",
   "execution_count": 93,
   "id": "2323243a-4d70-43b4-93a0-3c538b1d0dec",
   "metadata": {
    "tags": []
   },
   "outputs": [
    {
     "data": {
      "text/plain": [
       "0      True\n",
       "1     False\n",
       "2      True\n",
       "3      True\n",
       "4     False\n",
       "5      True\n",
       "6      True\n",
       "7      True\n",
       "8      True\n",
       "9      True\n",
       "10    False\n",
       "11     True\n",
       "12     True\n",
       "13     True\n",
       "14     True\n",
       "15     True\n",
       "16     True\n",
       "17     True\n",
       "18     True\n",
       "19     True\n",
       "Name: 대학이름, dtype: bool"
      ]
     },
     "execution_count": 93,
     "metadata": {},
     "output_type": "execute_result"
    }
   ],
   "source": [
    "# str.endswith(pat)\n",
    "# pat(문자열)로 끝난다면 True, 아니면 False\n",
    "df1['대학이름'].str.endswith(\"대학교\")"
   ]
  },
  {
   "cell_type": "code",
   "execution_count": 94,
   "id": "bf17b200-a6be-411b-92da-19626c148814",
   "metadata": {
    "tags": []
   },
   "outputs": [
    {
     "data": {
      "text/html": [
       "<div>\n",
       "<style scoped>\n",
       "    .dataframe tbody tr th:only-of-type {\n",
       "        vertical-align: middle;\n",
       "    }\n",
       "\n",
       "    .dataframe tbody tr th {\n",
       "        vertical-align: top;\n",
       "    }\n",
       "\n",
       "    .dataframe thead th {\n",
       "        text-align: right;\n",
       "    }\n",
       "</style>\n",
       "<table border=\"1\" class=\"dataframe\">\n",
       "  <thead>\n",
       "    <tr style=\"text-align: right;\">\n",
       "      <th></th>\n",
       "      <th>대학이름</th>\n",
       "      <th>주소</th>\n",
       "    </tr>\n",
       "  </thead>\n",
       "  <tbody>\n",
       "    <tr>\n",
       "      <th>0</th>\n",
       "      <td>서울대학교</td>\n",
       "      <td>서울특별시 관악구 관악로 1</td>\n",
       "    </tr>\n",
       "    <tr>\n",
       "      <th>2</th>\n",
       "      <td>성균관대학교</td>\n",
       "      <td>서울특별시 종로구 성균관로 25-2</td>\n",
       "    </tr>\n",
       "    <tr>\n",
       "      <th>3</th>\n",
       "      <td>연세대학교</td>\n",
       "      <td>서울특별시 서대문구 연세로 50</td>\n",
       "    </tr>\n",
       "    <tr>\n",
       "      <th>5</th>\n",
       "      <td>포항공과대학교</td>\n",
       "      <td>경상북도 포항시 남구 청암로 77</td>\n",
       "    </tr>\n",
       "    <tr>\n",
       "      <th>6</th>\n",
       "      <td>고려대학교</td>\n",
       "      <td>서울특별시 성북구 안암로 145</td>\n",
       "    </tr>\n",
       "    <tr>\n",
       "      <th>7</th>\n",
       "      <td>경희대학교</td>\n",
       "      <td>서울특별시 동대문구 경희대로 26</td>\n",
       "    </tr>\n",
       "    <tr>\n",
       "      <th>8</th>\n",
       "      <td>세종대학교</td>\n",
       "      <td>서울특별시 광진구 능동로 209</td>\n",
       "    </tr>\n",
       "    <tr>\n",
       "      <th>9</th>\n",
       "      <td>한양대학교</td>\n",
       "      <td>서울특별시 성동구 왕십리로 222</td>\n",
       "    </tr>\n",
       "    <tr>\n",
       "      <th>11</th>\n",
       "      <td>아주대학교</td>\n",
       "      <td>경기도 수원시 영통구 월드컵로 206</td>\n",
       "    </tr>\n",
       "    <tr>\n",
       "      <th>12</th>\n",
       "      <td>중앙대학교</td>\n",
       "      <td>서울특별시 동작구 흑석로 84</td>\n",
       "    </tr>\n",
       "    <tr>\n",
       "      <th>13</th>\n",
       "      <td>이화여자대학교</td>\n",
       "      <td>서울특별시 서대문구 이화여대길 52</td>\n",
       "    </tr>\n",
       "    <tr>\n",
       "      <th>14</th>\n",
       "      <td>건국대학교</td>\n",
       "      <td>서울특별시 광진구 능동로 120</td>\n",
       "    </tr>\n",
       "    <tr>\n",
       "      <th>15</th>\n",
       "      <td>경북대학교</td>\n",
       "      <td>대구광역시 북구 대학로 80</td>\n",
       "    </tr>\n",
       "    <tr>\n",
       "      <th>16</th>\n",
       "      <td>울산대학교</td>\n",
       "      <td>울산광역시 남구 대학로 93</td>\n",
       "    </tr>\n",
       "    <tr>\n",
       "      <th>17</th>\n",
       "      <td>부산대학교</td>\n",
       "      <td>부산광역시 금정구 부산대학로63번길 2</td>\n",
       "    </tr>\n",
       "    <tr>\n",
       "      <th>18</th>\n",
       "      <td>영남대학교</td>\n",
       "      <td>경상북도 경산시 대학로 280</td>\n",
       "    </tr>\n",
       "    <tr>\n",
       "      <th>19</th>\n",
       "      <td>가톨릭대학교</td>\n",
       "      <td>서울특별시 종로구 창경궁로 296-12</td>\n",
       "    </tr>\n",
       "  </tbody>\n",
       "</table>\n",
       "</div>"
      ],
      "text/plain": [
       "       대학이름                     주소\n",
       "0     서울대학교        서울특별시 관악구 관악로 1\n",
       "2    성균관대학교    서울특별시 종로구 성균관로 25-2\n",
       "3     연세대학교      서울특별시 서대문구 연세로 50\n",
       "5   포항공과대학교     경상북도 포항시 남구 청암로 77\n",
       "6     고려대학교      서울특별시 성북구 안암로 145\n",
       "7     경희대학교     서울특별시 동대문구 경희대로 26\n",
       "8     세종대학교      서울특별시 광진구 능동로 209\n",
       "9     한양대학교     서울특별시 성동구 왕십리로 222\n",
       "11    아주대학교   경기도 수원시 영통구 월드컵로 206\n",
       "12    중앙대학교       서울특별시 동작구 흑석로 84\n",
       "13  이화여자대학교    서울특별시 서대문구 이화여대길 52\n",
       "14    건국대학교      서울특별시 광진구 능동로 120\n",
       "15    경북대학교        대구광역시 북구 대학로 80\n",
       "16    울산대학교        울산광역시 남구 대학로 93\n",
       "17    부산대학교  부산광역시 금정구 부산대학로63번길 2\n",
       "18    영남대학교       경상북도 경산시 대학로 280\n",
       "19   가톨릭대학교  서울특별시 종로구 창경궁로 296-12"
      ]
     },
     "execution_count": 94,
     "metadata": {},
     "output_type": "execute_result"
    }
   ],
   "source": [
    "# 대학 이름이 '대학교'로 끝나는 데이터셋 추출\n",
    "df1[df1['대학이름'].str.endswith('대학교')]"
   ]
  },
  {
   "cell_type": "code",
   "execution_count": 95,
   "id": "8504547a-5811-4e5c-847e-e8f089380590",
   "metadata": {
    "tags": []
   },
   "outputs": [
    {
     "data": {
      "text/html": [
       "<div>\n",
       "<style scoped>\n",
       "    .dataframe tbody tr th:only-of-type {\n",
       "        vertical-align: middle;\n",
       "    }\n",
       "\n",
       "    .dataframe tbody tr th {\n",
       "        vertical-align: top;\n",
       "    }\n",
       "\n",
       "    .dataframe thead th {\n",
       "        text-align: right;\n",
       "    }\n",
       "</style>\n",
       "<table border=\"1\" class=\"dataframe\">\n",
       "  <thead>\n",
       "    <tr style=\"text-align: right;\">\n",
       "      <th></th>\n",
       "      <th>대학이름</th>\n",
       "      <th>주소</th>\n",
       "    </tr>\n",
       "  </thead>\n",
       "  <tbody>\n",
       "    <tr>\n",
       "      <th>1</th>\n",
       "      <td>KAIST</td>\n",
       "      <td>대전광역시 유성구 대학로 291</td>\n",
       "    </tr>\n",
       "    <tr>\n",
       "      <th>4</th>\n",
       "      <td>UNIST</td>\n",
       "      <td>울산광역시 울주군 언양읍 유니스트길 50</td>\n",
       "    </tr>\n",
       "    <tr>\n",
       "      <th>10</th>\n",
       "      <td>GIST</td>\n",
       "      <td>광주광역시 북구 첨단과기로 123</td>\n",
       "    </tr>\n",
       "  </tbody>\n",
       "</table>\n",
       "</div>"
      ],
      "text/plain": [
       "     대학이름                      주소\n",
       "1   KAIST       대전광역시 유성구 대학로 291\n",
       "4   UNIST  울산광역시 울주군 언양읍 유니스트길 50\n",
       "10   GIST      광주광역시 북구 첨단과기로 123"
      ]
     },
     "execution_count": 95,
     "metadata": {},
     "output_type": "execute_result"
    }
   ],
   "source": [
    "# 대학 이름이 '대학교'로 끝나지 않는 데이터셋 추출\n",
    "df1[~df1['대학이름'].str.endswith('대학교')]"
   ]
  },
  {
   "cell_type": "code",
   "execution_count": 96,
   "id": "29ff31a2-e77e-4294-aa7f-227c39b39abc",
   "metadata": {
    "tags": []
   },
   "outputs": [
    {
     "data": {
      "text/plain": [
       "0     False\n",
       "1      True\n",
       "2     False\n",
       "3     False\n",
       "4      True\n",
       "5     False\n",
       "6     False\n",
       "7     False\n",
       "8     False\n",
       "9     False\n",
       "10     True\n",
       "11    False\n",
       "12    False\n",
       "13    False\n",
       "14    False\n",
       "15     True\n",
       "16     True\n",
       "17     True\n",
       "18    False\n",
       "19    False\n",
       "Name: 주소, dtype: bool"
      ]
     },
     "execution_count": 96,
     "metadata": {},
     "output_type": "execute_result"
    }
   ],
   "source": [
    "# str.contains(pat)\n",
    "# pat(문자열 또는 정규식)이 포함되면 True, 아니면 False\n",
    "df1['주소'].str.contains('광역시')"
   ]
  },
  {
   "cell_type": "code",
   "execution_count": 97,
   "id": "b28f36ba-1e31-4398-8723-108b88ec697c",
   "metadata": {
    "tags": []
   },
   "outputs": [
    {
     "data": {
      "text/html": [
       "<div>\n",
       "<style scoped>\n",
       "    .dataframe tbody tr th:only-of-type {\n",
       "        vertical-align: middle;\n",
       "    }\n",
       "\n",
       "    .dataframe tbody tr th {\n",
       "        vertical-align: top;\n",
       "    }\n",
       "\n",
       "    .dataframe thead th {\n",
       "        text-align: right;\n",
       "    }\n",
       "</style>\n",
       "<table border=\"1\" class=\"dataframe\">\n",
       "  <thead>\n",
       "    <tr style=\"text-align: right;\">\n",
       "      <th></th>\n",
       "      <th>대학이름</th>\n",
       "      <th>주소</th>\n",
       "    </tr>\n",
       "  </thead>\n",
       "  <tbody>\n",
       "    <tr>\n",
       "      <th>1</th>\n",
       "      <td>KAIST</td>\n",
       "      <td>대전광역시 유성구 대학로 291</td>\n",
       "    </tr>\n",
       "    <tr>\n",
       "      <th>4</th>\n",
       "      <td>UNIST</td>\n",
       "      <td>울산광역시 울주군 언양읍 유니스트길 50</td>\n",
       "    </tr>\n",
       "    <tr>\n",
       "      <th>10</th>\n",
       "      <td>GIST</td>\n",
       "      <td>광주광역시 북구 첨단과기로 123</td>\n",
       "    </tr>\n",
       "    <tr>\n",
       "      <th>15</th>\n",
       "      <td>경북대학교</td>\n",
       "      <td>대구광역시 북구 대학로 80</td>\n",
       "    </tr>\n",
       "    <tr>\n",
       "      <th>16</th>\n",
       "      <td>울산대학교</td>\n",
       "      <td>울산광역시 남구 대학로 93</td>\n",
       "    </tr>\n",
       "    <tr>\n",
       "      <th>17</th>\n",
       "      <td>부산대학교</td>\n",
       "      <td>부산광역시 금정구 부산대학로63번길 2</td>\n",
       "    </tr>\n",
       "  </tbody>\n",
       "</table>\n",
       "</div>"
      ],
      "text/plain": [
       "     대학이름                      주소\n",
       "1   KAIST       대전광역시 유성구 대학로 291\n",
       "4   UNIST  울산광역시 울주군 언양읍 유니스트길 50\n",
       "10   GIST      광주광역시 북구 첨단과기로 123\n",
       "15  경북대학교         대구광역시 북구 대학로 80\n",
       "16  울산대학교         울산광역시 남구 대학로 93\n",
       "17  부산대학교   부산광역시 금정구 부산대학로63번길 2"
      ]
     },
     "execution_count": 97,
     "metadata": {},
     "output_type": "execute_result"
    }
   ],
   "source": [
    "# 주소에 '광역시'를 포함하는 데이터셋 추출\n",
    "df1[df1['주소'].str.contains('광역시')]"
   ]
  },
  {
   "cell_type": "code",
   "execution_count": 98,
   "id": "49bb3d9e-047b-4f5c-9884-7c9b1bf8ad6a",
   "metadata": {
    "tags": []
   },
   "outputs": [
    {
     "data": {
      "text/plain": [
       "0             [서울특별시, 관악구, 관악로, 1]\n",
       "1           [대전광역시, 유성구, 대학로, 291]\n",
       "2         [서울특별시, 종로구, 성균관로, 25-2]\n",
       "3           [서울특별시, 서대문구, 연세로, 50]\n",
       "4     [울산광역시, 울주군, 언양읍, 유니스트길, 50]\n",
       "5         [경상북도, 포항시, 남구, 청암로, 77]\n",
       "6           [서울특별시, 성북구, 안암로, 145]\n",
       "7          [서울특별시, 동대문구, 경희대로, 26]\n",
       "8           [서울특별시, 광진구, 능동로, 209]\n",
       "9          [서울특별시, 성동구, 왕십리로, 222]\n",
       "10         [광주광역시, 북구, 첨단과기로, 123]\n",
       "11      [경기도, 수원시, 영통구, 월드컵로, 206]\n",
       "12           [서울특별시, 동작구, 흑석로, 84]\n",
       "13        [서울특별시, 서대문구, 이화여대길, 52]\n",
       "14          [서울특별시, 광진구, 능동로, 120]\n",
       "15            [대구광역시, 북구, 대학로, 80]\n",
       "16            [울산광역시, 남구, 대학로, 93]\n",
       "17      [부산광역시, 금정구, 부산대학로63번길, 2]\n",
       "18           [경상북도, 경산시, 대학로, 280]\n",
       "19      [서울특별시, 종로구, 창경궁로, 296-12]\n",
       "Name: 주소, dtype: object"
      ]
     },
     "execution_count": 98,
     "metadata": {},
     "output_type": "execute_result"
    }
   ],
   "source": [
    "# str.split(pat=None)\n",
    "# pat을 기준으로 문자열을 분할\n",
    "df1['주소'].str.split()           # 공백을 기준으로 분리"
   ]
  },
  {
   "cell_type": "code",
   "execution_count": 99,
   "id": "03cb365d-f7c5-4d5f-8641-5198028f43bd",
   "metadata": {
    "tags": []
   },
   "outputs": [
    {
     "data": {
      "text/plain": [
       "0      8\n",
       "1      8\n",
       "2      8\n",
       "3      9\n",
       "4     -1\n",
       "5     10\n",
       "6      8\n",
       "7      9\n",
       "8      8\n",
       "9      8\n",
       "10     7\n",
       "11    10\n",
       "12     8\n",
       "13     9\n",
       "14     8\n",
       "15     1\n",
       "16     7\n",
       "17     8\n",
       "18    -1\n",
       "19     8\n",
       "Name: 주소, dtype: int64"
      ]
     },
     "execution_count": 99,
     "metadata": {},
     "output_type": "execute_result"
    }
   ],
   "source": [
    "# str.find(sub, start=0, end=None)\n",
    "# sub가 있는 위치를 start에서부터 end까지에서 찾아 위치값을 반환\n",
    "df1['주소'].str.find('구')"
   ]
  },
  {
   "cell_type": "code",
   "execution_count": 100,
   "id": "8a3af83f-6c7b-4237-a624-63d53e447a6a",
   "metadata": {
    "tags": []
   },
   "outputs": [
    {
     "data": {
      "text/plain": [
       "0     13\n",
       "1     13\n",
       "2     14\n",
       "3     14\n",
       "4     19\n",
       "5     15\n",
       "6     13\n",
       "7     15\n",
       "8     13\n",
       "9     14\n",
       "10    14\n",
       "11    16\n",
       "12    13\n",
       "13    16\n",
       "14    13\n",
       "15    12\n",
       "16    12\n",
       "17    19\n",
       "18    12\n",
       "19    14\n",
       "Name: 주소, dtype: int64"
      ]
     },
     "execution_count": 100,
     "metadata": {},
     "output_type": "execute_result"
    }
   ],
   "source": [
    "# str.rfind(sub, start=0, end=None)\n",
    "# sub가 있는 위치를 start에서부터 end까지에서 찾아 가장 높은 위치값을 반환\n",
    "df1['주소'].str.rfind(sub=' ')   # 가장 뒤에 있는 공백 위치"
   ]
  },
  {
   "cell_type": "code",
   "execution_count": 101,
   "id": "6e596aad-3d47-459f-a81c-3ef549281e6b",
   "metadata": {
    "tags": []
   },
   "outputs": [
    {
     "data": {
      "text/plain": [
       "0        [관악구]\n",
       "1        [유성구]\n",
       "2        [종로구]\n",
       "3       [서대문구]\n",
       "4           []\n",
       "5         [남구]\n",
       "6        [성북구]\n",
       "7       [동대문구]\n",
       "8        [광진구]\n",
       "9        [성동구]\n",
       "10        [북구]\n",
       "11       [영통구]\n",
       "12       [동작구]\n",
       "13      [서대문구]\n",
       "14       [광진구]\n",
       "15    [대구, 북구]\n",
       "16        [남구]\n",
       "17       [금정구]\n",
       "18          []\n",
       "19       [종로구]\n",
       "Name: 주소, dtype: object"
      ]
     },
     "execution_count": 101,
     "metadata": {},
     "output_type": "execute_result"
    }
   ],
   "source": [
    "# str.findall(pat)\n",
    "# 모든 pat(문자열 또는 정규식) 항목 반환\n",
    "df1['주소'].str.findall('\\w+구')      # 구로 끝나는 단어들을 모두 반환"
   ]
  },
  {
   "cell_type": "code",
   "execution_count": 103,
   "id": "66736cc9-aef0-451c-a86c-4c81a1837756",
   "metadata": {
    "tags": []
   },
   "outputs": [
    {
     "data": {
      "text/plain": [
       "0            서울특별시_관악구_관악로_1\n",
       "1          대전광역시_유성구_대학로_291\n",
       "2        서울특별시_종로구_성균관로_25-2\n",
       "3          서울특별시_서대문구_연세로_50\n",
       "4     울산광역시_울주군_언양읍_유니스트길_50\n",
       "5         경상북도_포항시_남구_청암로_77\n",
       "6          서울특별시_성북구_안암로_145\n",
       "7         서울특별시_동대문구_경희대로_26\n",
       "8          서울특별시_광진구_능동로_209\n",
       "9         서울특별시_성동구_왕십리로_222\n",
       "10        광주광역시_북구_첨단과기로_123\n",
       "11      경기도_수원시_영통구_월드컵로_206\n",
       "12          서울특별시_동작구_흑석로_84\n",
       "13       서울특별시_서대문구_이화여대길_52\n",
       "14         서울특별시_광진구_능동로_120\n",
       "15           대구광역시_북구_대학로_80\n",
       "16           울산광역시_남구_대학로_93\n",
       "17     부산광역시_금정구_부산대학로63번길_2\n",
       "18          경상북도_경산시_대학로_280\n",
       "19     서울특별시_종로구_창경궁로_296-12\n",
       "Name: 주소, dtype: object"
      ]
     },
     "execution_count": 103,
     "metadata": {},
     "output_type": "execute_result"
    }
   ],
   "source": [
    "# str.replace(pat.repl)\n",
    "# pat을 repl로 대치\n",
    "df1['주소'].str.replace(\" \", \"_\")  # 공백을 _로 대치"
   ]
  },
  {
   "cell_type": "code",
   "execution_count": null,
   "id": "5d3cd2bd-2bba-4093-bd18-e8f0f1c66f86",
   "metadata": {},
   "outputs": [],
   "source": []
  },
  {
   "cell_type": "code",
   "execution_count": 105,
   "id": "8c49a8d4-46a5-4aa2-a873-669b8ad45e7e",
   "metadata": {
    "tags": []
   },
   "outputs": [
    {
     "data": {
      "text/html": [
       "<div>\n",
       "<style scoped>\n",
       "    .dataframe tbody tr th:only-of-type {\n",
       "        vertical-align: middle;\n",
       "    }\n",
       "\n",
       "    .dataframe tbody tr th {\n",
       "        vertical-align: top;\n",
       "    }\n",
       "\n",
       "    .dataframe thead th {\n",
       "        text-align: right;\n",
       "    }\n",
       "</style>\n",
       "<table border=\"1\" class=\"dataframe\">\n",
       "  <thead>\n",
       "    <tr style=\"text-align: right;\">\n",
       "      <th></th>\n",
       "      <th>대학이름</th>\n",
       "      <th>주소</th>\n",
       "    </tr>\n",
       "  </thead>\n",
       "  <tbody>\n",
       "    <tr>\n",
       "      <th>0</th>\n",
       "      <td>서울대학교</td>\n",
       "      <td>/!서울특별시 관악구 관악로 1</td>\n",
       "    </tr>\n",
       "    <tr>\n",
       "      <th>1</th>\n",
       "      <td>KAIST</td>\n",
       "      <td>대전광역시 유성구 대학로 291 ##</td>\n",
       "    </tr>\n",
       "    <tr>\n",
       "      <th>2</th>\n",
       "      <td>성균관대학교</td>\n",
       "      <td>서울특별시 종로구 성균관로 25-2</td>\n",
       "    </tr>\n",
       "    <tr>\n",
       "      <th>3</th>\n",
       "      <td>연세대학교</td>\n",
       "      <td>서울특별시 서대문구 연세로 50</td>\n",
       "    </tr>\n",
       "    <tr>\n",
       "      <th>4</th>\n",
       "      <td>UNIST</td>\n",
       "      <td>## 울산광역시 울주군 언양읍 유니스트길 50 %</td>\n",
       "    </tr>\n",
       "    <tr>\n",
       "      <th>5</th>\n",
       "      <td>포항공과대학교</td>\n",
       "      <td>경상북도 포항시 남구 청암로 77</td>\n",
       "    </tr>\n",
       "    <tr>\n",
       "      <th>6</th>\n",
       "      <td>고려대학교</td>\n",
       "      <td>서울특별시 성북구 안암로 145</td>\n",
       "    </tr>\n",
       "    <tr>\n",
       "      <th>7</th>\n",
       "      <td>경희대학교</td>\n",
       "      <td>서울특별시 동대문구 경희대로 26</td>\n",
       "    </tr>\n",
       "    <tr>\n",
       "      <th>8</th>\n",
       "      <td>세종대학교</td>\n",
       "      <td>^!서울특별시 광진구 능동로 209</td>\n",
       "    </tr>\n",
       "    <tr>\n",
       "      <th>9</th>\n",
       "      <td>한양대학교</td>\n",
       "      <td>서울특별시 성동구 왕십리로 222</td>\n",
       "    </tr>\n",
       "    <tr>\n",
       "      <th>10</th>\n",
       "      <td>GIST</td>\n",
       "      <td>광주광역시 북구 첨단과기로 123</td>\n",
       "    </tr>\n",
       "    <tr>\n",
       "      <th>11</th>\n",
       "      <td>아주대학교</td>\n",
       "      <td>경기도 수원시 영통구 월드컵로 206</td>\n",
       "    </tr>\n",
       "    <tr>\n",
       "      <th>12</th>\n",
       "      <td>중앙대학교</td>\n",
       "      <td>서울특별시 동작구 흑석로 84</td>\n",
       "    </tr>\n",
       "    <tr>\n",
       "      <th>13</th>\n",
       "      <td>이화여자대학교</td>\n",
       "      <td>__________서울특별시 서대문구 이화여대길 52</td>\n",
       "    </tr>\n",
       "    <tr>\n",
       "      <th>14</th>\n",
       "      <td>건국대학교</td>\n",
       "      <td>서울특별시 광진구 능동로 120</td>\n",
       "    </tr>\n",
       "    <tr>\n",
       "      <th>15</th>\n",
       "      <td>경북대학교</td>\n",
       "      <td>대구광역시 북구 대학로 80</td>\n",
       "    </tr>\n",
       "    <tr>\n",
       "      <th>16</th>\n",
       "      <td>울산대학교</td>\n",
       "      <td>울산광역시 남구 대학로 93___</td>\n",
       "    </tr>\n",
       "    <tr>\n",
       "      <th>17</th>\n",
       "      <td>부산대학교</td>\n",
       "      <td>부산광역시 금정구 부산대학로63번길 2</td>\n",
       "    </tr>\n",
       "    <tr>\n",
       "      <th>18</th>\n",
       "      <td>영남대학교</td>\n",
       "      <td>경상북도 경산시 대학로 280</td>\n",
       "    </tr>\n",
       "    <tr>\n",
       "      <th>19</th>\n",
       "      <td>가톨릭대학교</td>\n",
       "      <td>서울특별시 종로구 창경궁로 296-12</td>\n",
       "    </tr>\n",
       "  </tbody>\n",
       "</table>\n",
       "</div>"
      ],
      "text/plain": [
       "       대학이름                                  주소\n",
       "0     서울대학교                   /!서울특별시 관악구 관악로 1\n",
       "1     KAIST                대전광역시 유성구 대학로 291 ##\n",
       "2    성균관대학교                 서울특별시 종로구 성균관로 25-2\n",
       "3     연세대학교                   서울특별시 서대문구 연세로 50\n",
       "4     UNIST         ## 울산광역시 울주군 언양읍 유니스트길 50 %\n",
       "5   포항공과대학교                  경상북도 포항시 남구 청암로 77\n",
       "6     고려대학교                   서울특별시 성북구 안암로 145\n",
       "7     경희대학교                  서울특별시 동대문구 경희대로 26\n",
       "8     세종대학교                 ^!서울특별시 광진구 능동로 209\n",
       "9     한양대학교                  서울특별시 성동구 왕십리로 222\n",
       "10     GIST                  광주광역시 북구 첨단과기로 123\n",
       "11    아주대학교                경기도 수원시 영통구 월드컵로 206\n",
       "12    중앙대학교      서울특별시 동작구 흑석로 84              \n",
       "13  이화여자대학교       __________서울특별시 서대문구 이화여대길 52\n",
       "14    건국대학교                   서울특별시 광진구 능동로 120\n",
       "15    경북대학교          대구광역시 북구 대학로 80           \n",
       "16    울산대학교                  울산광역시 남구 대학로 93___\n",
       "17    부산대학교               부산광역시 금정구 부산대학로63번길 2\n",
       "18    영남대학교                    경상북도 경산시 대학로 280\n",
       "19   가톨릭대학교               서울특별시 종로구 창경궁로 296-12"
      ]
     },
     "execution_count": 105,
     "metadata": {},
     "output_type": "execute_result"
    }
   ],
   "source": [
    "# 데이터프레임 불러오기\n",
    "df2 = pd.read_csv('data/예제/University_text_before.csv', encoding='CP949')\n",
    "df2"
   ]
  },
  {
   "cell_type": "code",
   "execution_count": 107,
   "id": "b2ea6abb-342b-4485-a67a-f4b2738f6b30",
   "metadata": {
    "tags": []
   },
   "outputs": [
    {
     "data": {
      "text/plain": [
       "0            서울특별시 관악구 관악로 1\n",
       "1          대전광역시 유성구 대학로 291\n",
       "2        서울특별시 종로구 성균관로 25-2\n",
       "3          서울특별시 서대문구 연세로 50\n",
       "4     울산광역시 울주군 언양읍 유니스트길 50\n",
       "5         경상북도 포항시 남구 청암로 77\n",
       "6          서울특별시 성북구 안암로 145\n",
       "7         서울특별시 동대문구 경희대로 26\n",
       "8          서울특별시 광진구 능동로 209\n",
       "9         서울특별시 성동구 왕십리로 222\n",
       "10        광주광역시 북구 첨단과기로 123\n",
       "11      경기도 수원시 영통구 월드컵로 206\n",
       "12          서울특별시 동작구 흑석로 84\n",
       "13       서울특별시 서대문구 이화여대길 52\n",
       "14         서울특별시 광진구 능동로 120\n",
       "15           대구광역시 북구 대학로 80\n",
       "16           울산광역시 남구 대학로 93\n",
       "17     부산광역시 금정구 부산대학로63번길 2\n",
       "18          경상북도 경산시 대학로 280\n",
       "19     서울특별시 종로구 창경궁로 296-12\n",
       "Name: 주소, dtype: object"
      ]
     },
     "execution_count": 107,
     "metadata": {},
     "output_type": "execute_result"
    }
   ],
   "source": [
    "# str.strip(to_strip=None)\n",
    "# 선행 및 후행 문자 제거\n",
    "df2['주소'].str.strip(to_strip='_^!#? /%')"
   ]
  },
  {
   "cell_type": "code",
   "execution_count": 108,
   "id": "1f7bb98c-eb1a-4b38-8b09-b8e01b04e287",
   "metadata": {
    "tags": []
   },
   "outputs": [
    {
     "data": {
      "text/plain": [
       "0                    서울특별시 관악구 관악로 1\n",
       "1               대전광역시 유성구 대학로 291 ##\n",
       "2                서울특별시 종로구 성균관로 25-2\n",
       "3                  서울특별시 서대문구 연세로 50\n",
       "4           울산광역시 울주군 언양읍 유니스트길 50 %\n",
       "5                 경상북도 포항시 남구 청암로 77\n",
       "6                  서울특별시 성북구 안암로 145\n",
       "7                 서울특별시 동대문구 경희대로 26\n",
       "8                  서울특별시 광진구 능동로 209\n",
       "9                 서울특별시 성동구 왕십리로 222\n",
       "10                광주광역시 북구 첨단과기로 123\n",
       "11              경기도 수원시 영통구 월드컵로 206\n",
       "12    서울특별시 동작구 흑석로 84              \n",
       "13               서울특별시 서대문구 이화여대길 52\n",
       "14                 서울특별시 광진구 능동로 120\n",
       "15        대구광역시 북구 대학로 80           \n",
       "16                울산광역시 남구 대학로 93___\n",
       "17             부산광역시 금정구 부산대학로63번길 2\n",
       "18                  경상북도 경산시 대학로 280\n",
       "19             서울특별시 종로구 창경궁로 296-12\n",
       "Name: 주소, dtype: object"
      ]
     },
     "execution_count": 108,
     "metadata": {},
     "output_type": "execute_result"
    }
   ],
   "source": [
    "# str.lstrip(to_strip=None)\n",
    "# 선행 문자 제거\n",
    "df2['주소'].str.lstrip(to_strip='_^!#? /%')"
   ]
  },
  {
   "cell_type": "code",
   "execution_count": 109,
   "id": "16c6cd41-6750-4f5d-9dc7-c8bf5a68ae9d",
   "metadata": {
    "tags": []
   },
   "outputs": [
    {
     "data": {
      "text/plain": [
       "0                      /!서울특별시 관악구 관악로 1\n",
       "1                      대전광역시 유성구 대학로 291\n",
       "2                    서울특별시 종로구 성균관로 25-2\n",
       "3                      서울특별시 서대문구 연세로 50\n",
       "4              ## 울산광역시 울주군 언양읍 유니스트길 50\n",
       "5                     경상북도 포항시 남구 청암로 77\n",
       "6                      서울특별시 성북구 안암로 145\n",
       "7                     서울특별시 동대문구 경희대로 26\n",
       "8                    ^!서울특별시 광진구 능동로 209\n",
       "9                     서울특별시 성동구 왕십리로 222\n",
       "10                    광주광역시 북구 첨단과기로 123\n",
       "11                  경기도 수원시 영통구 월드컵로 206\n",
       "12                      서울특별시 동작구 흑석로 84\n",
       "13         __________서울특별시 서대문구 이화여대길 52\n",
       "14                     서울특별시 광진구 능동로 120\n",
       "15                       대구광역시 북구 대학로 80\n",
       "16                       울산광역시 남구 대학로 93\n",
       "17                 부산광역시 금정구 부산대학로63번길 2\n",
       "18                      경상북도 경산시 대학로 280\n",
       "19                 서울특별시 종로구 창경궁로 296-12\n",
       "Name: 주소, dtype: object"
      ]
     },
     "execution_count": 109,
     "metadata": {},
     "output_type": "execute_result"
    }
   ],
   "source": [
    "# str.rstrip(to_strip=None)\n",
    "# 후행 문자 제거\n",
    "df2['주소'].str.rstrip(to_strip ='_^!#? /%')"
   ]
  },
  {
   "cell_type": "code",
   "execution_count": 110,
   "id": "b01f89d2-dff7-47dd-83c9-356930ddff76",
   "metadata": {
    "tags": []
   },
   "outputs": [],
   "source": [
    "# 대소문자 변경\n",
    "# .str.lower() : 모두 소문자로 변경\n",
    "# .str.upper() : 모두 대문자로 변경\n",
    "# .str.swapcase() : 소문자는 대문자로, 대문자는 소문자로 변경"
   ]
  },
  {
   "cell_type": "code",
   "execution_count": null,
   "id": "95b09ce6-cb41-43dc-bfac-3d887c1d6e8a",
   "metadata": {},
   "outputs": [],
   "source": []
  },
  {
   "cell_type": "markdown",
   "id": "67c43bb1-e6d6-490e-9df4-4a5c549d20de",
   "metadata": {},
   "source": [
    "### 2절 : 날짜시간 데이터 다루기\n",
    "#### 데이터 타입\n",
    "- 날짜 데이터는 파이썬(pandas 포함)에서 datetime형을 가짐\n",
    "- datetime 형은 날짜와 시간에 대한 문자열로, 데이터에서 문자형인 object형으로 인식되는 경우가 많으므로 변환이 필요함\n",
    "- datetime형으로 변환하는 방법은 Pandas에서 제공하는 ```to_datetime()``` 등이 있음\n",
    "- 함수 ```to_datetime()```은 날짜를 나타내는 문자열을 정해진 format을 바탕으로 datetime 형으로 변환하는 역할을 수행함\n",
    "- ```pandas.to_datetime(arg, format=None, ...)```\n",
    "\n",
    "<br>\n",
    "\n",
    "#### 인자\n",
    "- **arg** : 날짜와 시간에 대한 문자열\n",
    "- **format** : arg의 형태가 어떤 포맷으로 구성되었는지 구문 분석, default 값은 None으로 자동으로 생성 (e.g. '06/29/2022'의 형태는 format='%d/%m/%Y으로 구문 분석"
   ]
  },
  {
   "cell_type": "code",
   "execution_count": 111,
   "id": "4b53f4e5-9190-4b7d-b79e-ef0d6c7bab24",
   "metadata": {
    "tags": []
   },
   "outputs": [
    {
     "data": {
      "text/html": [
       "<div>\n",
       "<style scoped>\n",
       "    .dataframe tbody tr th:only-of-type {\n",
       "        vertical-align: middle;\n",
       "    }\n",
       "\n",
       "    .dataframe tbody tr th {\n",
       "        vertical-align: top;\n",
       "    }\n",
       "\n",
       "    .dataframe thead th {\n",
       "        text-align: right;\n",
       "    }\n",
       "</style>\n",
       "<table border=\"1\" class=\"dataframe\">\n",
       "  <thead>\n",
       "    <tr style=\"text-align: right;\">\n",
       "      <th></th>\n",
       "      <th>대학이름</th>\n",
       "      <th>창립일</th>\n",
       "    </tr>\n",
       "  </thead>\n",
       "  <tbody>\n",
       "    <tr>\n",
       "      <th>0</th>\n",
       "      <td>서울대학교</td>\n",
       "      <td>1946-10-15</td>\n",
       "    </tr>\n",
       "    <tr>\n",
       "      <th>1</th>\n",
       "      <td>KAIST</td>\n",
       "      <td>1971-02-16</td>\n",
       "    </tr>\n",
       "    <tr>\n",
       "      <th>2</th>\n",
       "      <td>UNIST</td>\n",
       "      <td>2007-09-03</td>\n",
       "    </tr>\n",
       "    <tr>\n",
       "      <th>3</th>\n",
       "      <td>포항공과대학교</td>\n",
       "      <td>1986-12-03</td>\n",
       "    </tr>\n",
       "    <tr>\n",
       "      <th>4</th>\n",
       "      <td>고려대학교</td>\n",
       "      <td>1905-05-05</td>\n",
       "    </tr>\n",
       "    <tr>\n",
       "      <th>5</th>\n",
       "      <td>GIST</td>\n",
       "      <td>1993-11-17</td>\n",
       "    </tr>\n",
       "    <tr>\n",
       "      <th>6</th>\n",
       "      <td>건국대학교</td>\n",
       "      <td>1946-05-15</td>\n",
       "    </tr>\n",
       "    <tr>\n",
       "      <th>7</th>\n",
       "      <td>울산대학교</td>\n",
       "      <td>1969-12-24</td>\n",
       "    </tr>\n",
       "    <tr>\n",
       "      <th>8</th>\n",
       "      <td>부산대학교</td>\n",
       "      <td>1946-05-15</td>\n",
       "    </tr>\n",
       "  </tbody>\n",
       "</table>\n",
       "</div>"
      ],
      "text/plain": [
       "      대학이름         창립일\n",
       "0    서울대학교  1946-10-15\n",
       "1    KAIST  1971-02-16\n",
       "2    UNIST  2007-09-03\n",
       "3  포항공과대학교  1986-12-03\n",
       "4    고려대학교  1905-05-05\n",
       "5     GIST  1993-11-17\n",
       "6    건국대학교  1946-05-15\n",
       "7    울산대학교  1969-12-24\n",
       "8    부산대학교  1946-05-15"
      ]
     },
     "execution_count": 111,
     "metadata": {},
     "output_type": "execute_result"
    }
   ],
   "source": [
    "# 데이터프레임 불러오기\n",
    "df3 = pd.read_csv('data/예제/University_date.csv', encoding='CP949')\n",
    "df3"
   ]
  },
  {
   "cell_type": "code",
   "execution_count": 112,
   "id": "3c4dfbbd-b998-4821-b8c8-0f6915fadeec",
   "metadata": {
    "tags": []
   },
   "outputs": [
    {
     "data": {
      "text/plain": [
       "0    1946-10-15\n",
       "1    1971-02-16\n",
       "2    2007-09-03\n",
       "3    1986-12-03\n",
       "4    1905-05-05\n",
       "5    1993-11-17\n",
       "6    1946-05-15\n",
       "7    1969-12-24\n",
       "8    1946-05-15\n",
       "Name: 창립일, dtype: object"
      ]
     },
     "execution_count": 112,
     "metadata": {},
     "output_type": "execute_result"
    }
   ],
   "source": [
    "# 날짜 형태인 문자열\n",
    "df3['창립일']"
   ]
  },
  {
   "cell_type": "code",
   "execution_count": 113,
   "id": "15b80441-8f2d-4cc1-9ef0-abd1d8334ecd",
   "metadata": {
    "tags": []
   },
   "outputs": [
    {
     "data": {
      "text/plain": [
       "0   1946-10-15\n",
       "1   1971-02-16\n",
       "2   2007-09-03\n",
       "3   1986-12-03\n",
       "4   1905-05-05\n",
       "5   1993-11-17\n",
       "6   1946-05-15\n",
       "7   1969-12-24\n",
       "8   1946-05-15\n",
       "Name: 창립일, dtype: datetime64[ns]"
      ]
     },
     "execution_count": 113,
     "metadata": {},
     "output_type": "execute_result"
    }
   ],
   "source": [
    "# pandas.to_datetime()\n",
    "# 문자열 -> datetime형\n",
    "pd.to_datetime(df3['창립일'])"
   ]
  },
  {
   "cell_type": "code",
   "execution_count": 114,
   "id": "a06b5850-9f84-4bca-96f8-554eba18b3e4",
   "metadata": {
    "tags": []
   },
   "outputs": [
    {
     "data": {
      "text/plain": [
       "0   1946-10-15\n",
       "1   1971-02-16\n",
       "2   2007-09-03\n",
       "3   1986-12-03\n",
       "4   1905-05-05\n",
       "5   1993-11-17\n",
       "6   1946-05-15\n",
       "7   1969-12-24\n",
       "8   1946-05-15\n",
       "Name: 창립일, dtype: datetime64[ns]"
      ]
     },
     "execution_count": 114,
     "metadata": {},
     "output_type": "execute_result"
    }
   ],
   "source": [
    "# 문자열 -> datetime형\n",
    "pd.to_datetime(df3['창립일'], format='%Y-%m-%d')"
   ]
  },
  {
   "cell_type": "code",
   "execution_count": 120,
   "id": "a68d5319-7168-40df-b911-fe4b3009011e",
   "metadata": {
    "tags": []
   },
   "outputs": [
    {
     "data": {
      "text/plain": [
       "대학이름            object\n",
       "창립일     datetime64[ns]\n",
       "dtype: object"
      ]
     },
     "execution_count": 120,
     "metadata": {},
     "output_type": "execute_result"
    }
   ],
   "source": [
    "# 기존 창립일 열을 datetime형으로 변환\n",
    "df3['창립일'] = pd.to_datetime(df3['창립일'])\n",
    "df3.dtypes"
   ]
  },
  {
   "cell_type": "markdown",
   "id": "a4b54ab7-dd03-4b4c-a8ac-544339fcf4ee",
   "metadata": {},
   "source": [
    "- datetime형을 특정 주기(연, 월, 일, ...)을 가지는 시계열(날짜 시퀀스)을 생성하기를 원할 경우 다음과 같은 판다스 함수 **date_range()를 이용하면 쉽게 생성 가능**함\n",
    "- 생성된 시계열은 DateTimeIndex 객체가 되기 때문에 확인을 원할 경우 다른 데이터형으로 변환해야 함\n",
    "\n",
    "<br>\n",
    "\n",
    "- ```pandas.date_range(start, end=None, periods=None, freq='D', ...)```\n",
    "\n",
    "<br>\n",
    "\n",
    "#### 인자\n",
    "- **start** : 시계열의 처음 날짜와 시간\n",
    "- **end** : 시계열의 마지막 날짜와 시간\n",
    "- **periods** : 생성할 주기의 수\n",
    "- **freq** : 주기를 생성할 기준(단위). default -= 'D'로 일(day)의 단위로 생성"
   ]
  },
  {
   "cell_type": "code",
   "execution_count": 121,
   "id": "39bafed0-f5d7-4e09-b5d0-ed978a465f10",
   "metadata": {
    "tags": []
   },
   "outputs": [
    {
     "data": {
      "text/plain": [
       "DatetimeIndex(['2000-01-01', '2000-01-02', '2000-01-03', '2000-01-04',\n",
       "               '2000-01-05', '2000-01-06', '2000-01-07', '2000-01-08',\n",
       "               '2000-01-09', '2000-01-10'],\n",
       "              dtype='datetime64[ns]', freq='D')"
      ]
     },
     "execution_count": 121,
     "metadata": {},
     "output_type": "execute_result"
    }
   ],
   "source": [
    "# 시계열 생성\n",
    "# 2000년 1월 1일부터 2000년 1월 10일까지 1일 단위로 생성\n",
    "pd.date_range(\"2000-01-01\", \"2000-01-10\")"
   ]
  },
  {
   "cell_type": "code",
   "execution_count": 123,
   "id": "72304297-9f40-4167-b353-672e9fe6961b",
   "metadata": {
    "tags": []
   },
   "outputs": [
    {
     "data": {
      "text/plain": [
       "DatetimeIndex(['2000-01-01', '2000-01-02', '2000-01-03'], dtype='datetime64[ns]', freq='D')"
      ]
     },
     "execution_count": 123,
     "metadata": {},
     "output_type": "execute_result"
    }
   ],
   "source": [
    "# 2000년 1월 1일부터 1일씩 증가 (3번 반복)\n",
    "pd.date_range(\"2000-01-01\", periods = 3)        # default는 day"
   ]
  },
  {
   "cell_type": "code",
   "execution_count": 124,
   "id": "8833f01f-c4bd-403a-b343-09681206c2a9",
   "metadata": {
    "tags": []
   },
   "outputs": [
    {
     "data": {
      "text/plain": [
       "DatetimeIndex(['2000-01-31', '2000-02-29', '2000-03-31', '2000-04-30',\n",
       "               '2000-05-31'],\n",
       "              dtype='datetime64[ns]', freq='M')"
      ]
     },
     "execution_count": 124,
     "metadata": {},
     "output_type": "execute_result"
    }
   ],
   "source": [
    "# 2000년 1월부터 1달씩 증가 (5번 반복)\n",
    "# 각 달의 마지막 날짜가 반환됨\n",
    "pd.date_range(\"2000-01-01\", periods=5, freq='m')"
   ]
  },
  {
   "cell_type": "markdown",
   "id": "4a17bda6-a747-4323-81f2-582c005a5665",
   "metadata": {},
   "source": [
    "#### datetime형의 지원 시간 단위\n",
    "- datetime형은 입력 데이터 기반으로 자동으로 적용되는 단위에도 많은 시간 단위를 지원함\n",
    "- 일반적으로 많이 사용되는 연/월/주/일/시간/분/초의 코드는 반드시 숙지해야 함\n",
    "- 참고) timedelta형도 동일한 단위를 지원하며, timedelta형은 datetime형 간의 차이를 의미하는 단위\n",
    "\n",
    "<br>\n",
    "\n",
    "1. **Y** : 연 (year)\n",
    "2. **M** : 월 (month)\n",
    "3. **W** : 주 (week)\n",
    "4. **D** : 일 (day)\n",
    "5. **h** : 시간 (hour)\n",
    "6. **m** : 분 (minute)\n",
    "7. **s** : 초 (second)\n",
    "8. **ms** : 밀리초 (milli second)\n",
    "9. **us/μs** : 마이크로초 (micro second)\n",
    "10. **ns** : 나노 초 (nano second)\n",
    "11. **ps** : 피코 초 (pico second)\n",
    "12. **fs** : 펨토 초 (femto second)\n",
    "13. **as** : 아토 초 (atto second)"
   ]
  },
  {
   "cell_type": "markdown",
   "id": "7c41ee07-6d62-456b-a526-f6797ff2f38f",
   "metadata": {},
   "source": [
    "#### 데이터 전처리\n",
    "- datetime형인 시리즈의 **메소드 dt**를 사용하여 여러가지 **날짜와 시간에 대한 정보를 확인**할 수 있음\n",
    "- 메소드 dt 또한 여러 하위 메소드를 가짐\n",
    "- ```시리즈.dt.하위메소드```\n",
    "\n",
    "<br>\n",
    "\n",
    "1. **date** : 날짜정보 (연월일) (e.g. '2022-02-02')\n",
    "2. **year** : 연도 (e.g. 2022)\n",
    "3. **month** : 월 (e.g. 5)\n",
    "4. **month_name()** : 월이름 (e.g. 'June')\n",
    "5. **day** : 일 (day)\n",
    "6. **weekday** : 요일번호 (월요일:0 ~ 일요일:6) (e.g. 2)\n",
    "7. **day_name()** : 요일이름 (e.g. 'Wednesday')\n",
    "8. **quarter** : 분기 (e.g. 2)\n",
    "9. **weekofyear** : 연도기준 주 (e.g. 22)     -> 더이상 사용되지 않는 함수 **dt.isocalendar().week** 로 변경\n",
    "10. **dayofyear** : 연도기준 일 (e.g. 323)\n",
    "11. **daysinmonth** : 해당 월의 총 일수 (e.g. 30)\n",
    "12. **time** : 시간정보(시분초) (e.g. 14:24:30)\n",
    "13. **hour** : 시 (e.g. 13)\n",
    "14. **minute** : 분 (e.g. 55)\n",
    "15. **second** : 초 (e.g. 30)"
   ]
  },
  {
   "cell_type": "code",
   "execution_count": 126,
   "id": "b52a2f9d-8027-4465-9600-55f238240726",
   "metadata": {
    "tags": []
   },
   "outputs": [
    {
     "data": {
      "text/plain": [
       "대학이름            object\n",
       "창립일     datetime64[ns]\n",
       "dtype: object"
      ]
     },
     "execution_count": 126,
     "metadata": {},
     "output_type": "execute_result"
    }
   ],
   "source": [
    "# 데이터프레임을 불러와 기존의 창립일 열을 datetime형으로 변환\n",
    "df3['창립일'] = pd.to_datetime(df3['창립일'])\n",
    "df3.dtypes"
   ]
  },
  {
   "cell_type": "code",
   "execution_count": 127,
   "id": "cdff02ba-d97c-4d41-b783-0fa11f6bad8a",
   "metadata": {
    "tags": []
   },
   "outputs": [
    {
     "data": {
      "text/plain": [
       "0    1946-10-15\n",
       "1    1971-02-16\n",
       "2    2007-09-03\n",
       "3    1986-12-03\n",
       "4    1905-05-05\n",
       "5    1993-11-17\n",
       "6    1946-05-15\n",
       "7    1969-12-24\n",
       "8    1946-05-15\n",
       "Name: 창립일, dtype: object"
      ]
     },
     "execution_count": 127,
     "metadata": {},
     "output_type": "execute_result"
    }
   ],
   "source": [
    "# 메소드 dt의 하위 메소드를 통한 날짜와 시간에 대한 정보 확인\n",
    "# dt.date : 날짜정보 (연월일)\n",
    "df3['창립일'].dt.date"
   ]
  },
  {
   "cell_type": "code",
   "execution_count": 128,
   "id": "c0d5767d-d062-4d42-baac-b3303cdcd8fe",
   "metadata": {
    "tags": []
   },
   "outputs": [
    {
     "data": {
      "text/plain": [
       "0    1946\n",
       "1    1971\n",
       "2    2007\n",
       "3    1986\n",
       "4    1905\n",
       "5    1993\n",
       "6    1946\n",
       "7    1969\n",
       "8    1946\n",
       "Name: 창립일, dtype: int32"
      ]
     },
     "execution_count": 128,
     "metadata": {},
     "output_type": "execute_result"
    }
   ],
   "source": [
    "# dt.year (연도)\n",
    "df3['창립일'].dt.year"
   ]
  },
  {
   "cell_type": "code",
   "execution_count": 129,
   "id": "c72b8a4c-89ff-44cc-b0c6-820ed3149ac1",
   "metadata": {
    "tags": []
   },
   "outputs": [
    {
     "data": {
      "text/plain": [
       "0    10\n",
       "1     2\n",
       "2     9\n",
       "3    12\n",
       "4     5\n",
       "5    11\n",
       "6     5\n",
       "7    12\n",
       "8     5\n",
       "Name: 창립일, dtype: int32"
      ]
     },
     "execution_count": 129,
     "metadata": {},
     "output_type": "execute_result"
    }
   ],
   "source": [
    "# dt.month (월)\n",
    "df3['창립일'].dt.month"
   ]
  },
  {
   "cell_type": "code",
   "execution_count": 131,
   "id": "a8d0aeda-1cdc-4c72-b1ff-855c532b439b",
   "metadata": {
    "tags": []
   },
   "outputs": [
    {
     "data": {
      "text/plain": [
       "0      October\n",
       "1     February\n",
       "2    September\n",
       "3     December\n",
       "4          May\n",
       "5     November\n",
       "6          May\n",
       "7     December\n",
       "8          May\n",
       "Name: 창립일, dtype: object"
      ]
     },
     "execution_count": 131,
     "metadata": {},
     "output_type": "execute_result"
    }
   ],
   "source": [
    "# dt.month_name (월이름)\n",
    "df3['창립일'].dt.month_name()"
   ]
  },
  {
   "cell_type": "code",
   "execution_count": 133,
   "id": "0dfab208-07fe-471b-a83e-2b33c9dd1e73",
   "metadata": {
    "tags": []
   },
   "outputs": [
    {
     "data": {
      "text/plain": [
       "0    15\n",
       "1    16\n",
       "2     3\n",
       "3     3\n",
       "4     5\n",
       "5    17\n",
       "6    15\n",
       "7    24\n",
       "8    15\n",
       "Name: 창립일, dtype: int32"
      ]
     },
     "execution_count": 133,
     "metadata": {},
     "output_type": "execute_result"
    }
   ],
   "source": [
    "# dt.day (일)\n",
    "df3['창립일'].dt.day"
   ]
  },
  {
   "cell_type": "code",
   "execution_count": 134,
   "id": "485d7a7e-45f7-45ac-b617-c4f11e555b0f",
   "metadata": {
    "tags": []
   },
   "outputs": [
    {
     "data": {
      "text/plain": [
       "0    1\n",
       "1    1\n",
       "2    0\n",
       "3    2\n",
       "4    4\n",
       "5    2\n",
       "6    2\n",
       "7    2\n",
       "8    2\n",
       "Name: 창립일, dtype: int32"
      ]
     },
     "execution_count": 134,
     "metadata": {},
     "output_type": "execute_result"
    }
   ],
   "source": [
    "# dt.weekday (요일번호)\n",
    "df3['창립일'].dt.weekday"
   ]
  },
  {
   "cell_type": "code",
   "execution_count": 135,
   "id": "b5363491-830b-4092-b329-19fffa8ff883",
   "metadata": {
    "tags": []
   },
   "outputs": [
    {
     "data": {
      "text/plain": [
       "0      Tuesday\n",
       "1      Tuesday\n",
       "2       Monday\n",
       "3    Wednesday\n",
       "4       Friday\n",
       "5    Wednesday\n",
       "6    Wednesday\n",
       "7    Wednesday\n",
       "8    Wednesday\n",
       "Name: 창립일, dtype: object"
      ]
     },
     "execution_count": 135,
     "metadata": {},
     "output_type": "execute_result"
    }
   ],
   "source": [
    "# dt.day_name() (요일 이름)\n",
    "df3['창립일'].dt.day_name()"
   ]
  },
  {
   "cell_type": "code",
   "execution_count": 137,
   "id": "98bf99ef-689b-4abd-b0a5-1847ba366324",
   "metadata": {
    "tags": []
   },
   "outputs": [
    {
     "data": {
      "text/plain": [
       "0    4\n",
       "1    1\n",
       "2    3\n",
       "3    4\n",
       "4    2\n",
       "5    4\n",
       "6    2\n",
       "7    4\n",
       "8    2\n",
       "Name: 창립일, dtype: int32"
      ]
     },
     "execution_count": 137,
     "metadata": {},
     "output_type": "execute_result"
    }
   ],
   "source": [
    "# dt.quarter (분기)\n",
    "df3['창립일'].dt.quarter"
   ]
  },
  {
   "cell_type": "code",
   "execution_count": 141,
   "id": "7ad41fb4-db11-478d-b558-edfee072eba0",
   "metadata": {
    "tags": []
   },
   "outputs": [
    {
     "ename": "AttributeError",
     "evalue": "'DatetimeProperties' object has no attribute 'weekofyear'",
     "output_type": "error",
     "traceback": [
      "\u001b[1;31m---------------------------------------------------------------------------\u001b[0m",
      "\u001b[1;31mAttributeError\u001b[0m                            Traceback (most recent call last)",
      "Cell \u001b[1;32mIn[141], line 2\u001b[0m\n\u001b[0;32m      1\u001b[0m \u001b[38;5;66;03m# weekofyear (연도기준 주)\u001b[39;00m\n\u001b[1;32m----> 2\u001b[0m df3[\u001b[38;5;124m'\u001b[39m\u001b[38;5;124m창립일\u001b[39m\u001b[38;5;124m'\u001b[39m]\u001b[38;5;241m.\u001b[39mdt\u001b[38;5;241m.\u001b[39mweekofyear()\n",
      "\u001b[1;31mAttributeError\u001b[0m: 'DatetimeProperties' object has no attribute 'weekofyear'"
     ]
    }
   ],
   "source": [
    "# weekofyear (연도기준 주)\n",
    "df3['창립일'].dt.weekofyear()          #  이 함수는 더이상 사용되지 않음"
   ]
  },
  {
   "cell_type": "code",
   "execution_count": 142,
   "id": "9503c592-3891-479d-935e-fb751920c03b",
   "metadata": {
    "tags": []
   },
   "outputs": [
    {
     "data": {
      "text/plain": [
       "0    42\n",
       "1     7\n",
       "2    36\n",
       "3    49\n",
       "4    18\n",
       "5    46\n",
       "6    20\n",
       "7    52\n",
       "8    20\n",
       "Name: week, dtype: UInt32"
      ]
     },
     "execution_count": 142,
     "metadata": {},
     "output_type": "execute_result"
    }
   ],
   "source": [
    "# weekofyear (연도기준 주)\n",
    "df3['창립일'].dt.isocalendar().week"
   ]
  },
  {
   "cell_type": "code",
   "execution_count": 143,
   "id": "15ffca2c-e1d7-4789-9ca4-6bb5411f45f4",
   "metadata": {
    "tags": []
   },
   "outputs": [
    {
     "data": {
      "text/plain": [
       "0    288\n",
       "1     47\n",
       "2    246\n",
       "3    337\n",
       "4    125\n",
       "5    321\n",
       "6    135\n",
       "7    358\n",
       "8    135\n",
       "Name: 창립일, dtype: int32"
      ]
     },
     "execution_count": 143,
     "metadata": {},
     "output_type": "execute_result"
    }
   ],
   "source": [
    "# dayofyear (연도기준 일)\n",
    "df3['창립일'].dt.dayofyear"
   ]
  },
  {
   "cell_type": "code",
   "execution_count": 144,
   "id": "2dbf12d5-a8f6-4674-b1a7-490c7d25cf1f",
   "metadata": {
    "tags": []
   },
   "outputs": [
    {
     "data": {
      "text/plain": [
       "0    31\n",
       "1    28\n",
       "2    30\n",
       "3    31\n",
       "4    31\n",
       "5    30\n",
       "6    31\n",
       "7    31\n",
       "8    31\n",
       "Name: 창립일, dtype: int32"
      ]
     },
     "execution_count": 144,
     "metadata": {},
     "output_type": "execute_result"
    }
   ],
   "source": [
    "# daysinmonth (해당 월의 총 일수)\n",
    "df3['창립일'].dt.daysinmonth"
   ]
  },
  {
   "cell_type": "code",
   "execution_count": 145,
   "id": "7c5d3546-386c-4cc4-b45c-659dfe93ca41",
   "metadata": {
    "tags": []
   },
   "outputs": [
    {
     "data": {
      "text/plain": [
       "0   2022-06-01 16:00:30\n",
       "1   2022-06-01 16:00:31\n",
       "2   2022-06-01 16:00:32\n",
       "3   2022-06-01 16:00:33\n",
       "4   2022-06-01 16:00:34\n",
       "dtype: datetime64[ns]"
      ]
     },
     "execution_count": 145,
     "metadata": {},
     "output_type": "execute_result"
    }
   ],
   "source": [
    "# 2022-06-01 16:00:30부터 1초씩 증가(10번 반복)하는 시계열 생성\n",
    "sr = pd.Series(pd.date_range(\"2022-06-01 16:00:30\", periods=5, freq='s'))\n",
    "sr"
   ]
  },
  {
   "cell_type": "code",
   "execution_count": 146,
   "id": "0afb8ac4-b479-46ea-9bd3-2c443646694d",
   "metadata": {
    "tags": []
   },
   "outputs": [
    {
     "data": {
      "text/plain": [
       "0    16:00:30\n",
       "1    16:00:31\n",
       "2    16:00:32\n",
       "3    16:00:33\n",
       "4    16:00:34\n",
       "dtype: object"
      ]
     },
     "execution_count": 146,
     "metadata": {},
     "output_type": "execute_result"
    }
   ],
   "source": [
    "# dt.time (시간정보(시분초))\n",
    "sr.dt.time"
   ]
  },
  {
   "cell_type": "code",
   "execution_count": 148,
   "id": "53991b69-ee10-4a80-a780-94902a717e56",
   "metadata": {
    "tags": []
   },
   "outputs": [
    {
     "data": {
      "text/plain": [
       "0    16\n",
       "1    16\n",
       "2    16\n",
       "3    16\n",
       "4    16\n",
       "dtype: int32"
      ]
     },
     "execution_count": 148,
     "metadata": {},
     "output_type": "execute_result"
    }
   ],
   "source": [
    "# dt.hour (시)\n",
    "sr.dt.hour"
   ]
  },
  {
   "cell_type": "code",
   "execution_count": 149,
   "id": "0c412cf8-0e37-465f-9c5c-84898f6a9dda",
   "metadata": {
    "tags": []
   },
   "outputs": [
    {
     "data": {
      "text/plain": [
       "0    0\n",
       "1    0\n",
       "2    0\n",
       "3    0\n",
       "4    0\n",
       "dtype: int32"
      ]
     },
     "execution_count": 149,
     "metadata": {},
     "output_type": "execute_result"
    }
   ],
   "source": [
    "# dt.minute (분)\n",
    "sr.dt.minute"
   ]
  },
  {
   "cell_type": "code",
   "execution_count": 151,
   "id": "44fc4700-0cb1-462f-96f9-756d2f859825",
   "metadata": {
    "tags": []
   },
   "outputs": [
    {
     "data": {
      "text/plain": [
       "0    30\n",
       "1    31\n",
       "2    32\n",
       "3    33\n",
       "4    34\n",
       "dtype: int32"
      ]
     },
     "execution_count": 151,
     "metadata": {},
     "output_type": "execute_result"
    }
   ],
   "source": [
    "# dt.second (초)\n",
    "sr.dt.second"
   ]
  },
  {
   "cell_type": "code",
   "execution_count": null,
   "id": "ab523034-ce93-42af-8511-d6472ac09886",
   "metadata": {},
   "outputs": [],
   "source": []
  }
 ],
 "metadata": {
  "kernelspec": {
   "display_name": "Python 3 (ipykernel)",
   "language": "python",
   "name": "python3"
  },
  "language_info": {
   "codemirror_mode": {
    "name": "ipython",
    "version": 3
   },
   "file_extension": ".py",
   "mimetype": "text/x-python",
   "name": "python",
   "nbconvert_exporter": "python",
   "pygments_lexer": "ipython3",
   "version": "3.11.5"
  }
 },
 "nbformat": 4,
 "nbformat_minor": 5
}
