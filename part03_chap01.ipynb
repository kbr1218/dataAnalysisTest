{
 "cells": [
  {
   "cell_type": "markdown",
   "id": "fd98de9b-2b20-403c-8372-ae3591156f83",
   "metadata": {},
   "source": [
    "## Part 03 통계분석 - 1장 가설 검정\n",
    "### 1절: 상관분석\n",
    "\n",
    "#### 상관분석\n",
    "- 파이썬에서 두 데이터 간 상관관계를 산출하고 피어슨 상관계수(Pearson Correlation Coefficient)에 대한 가설 검정을 수행하기 위해서는 사이파이(SciPy) 패키지의 stats 서브패키지를 호출한 후 stats에서 제공하는 ```pearsonr``` 함수 사용\n",
    "- 상관계수에 대한 귀무가설: **두 변수 간의 상관계수는 0 (즉, 상관관계가 없음)**\n",
    "- 피어슨 상관계수를 구하는 함수는 결괏값으로 **피어슨 상관계수와 p-value**를 반환함\n",
    "- 참고) 상관분석을 진행하는 데이터가 **정규분포를 따르지 않을 경우나 순위 데이터일 경우**: 비모수적인 방법인 **스피어만 상관계수 검정**과 **켄달의 타우 검정**을 사용해야 함\n",
    "\n",
    "<br>\n",
    "\n",
    "- ```scipy.stats.pearsonr(x, y)```\n",
    "\n",
    "<br>\n",
    "\n",
    "#### 인자\n",
    "- **x** : 1차원 데이터 (리스트, 배열, 시리즈 등)\n",
    "- **y** : 1차원 데이터 (리스트, 배열, 시리즈 등)"
   ]
  },
  {
   "cell_type": "markdown",
   "id": "085e10b6-5ade-4b82-8a47-cc79cb2a06b1",
   "metadata": {},
   "source": [
    "#### Q.\n",
    "사이킷런 패키지로부터 내장 데이터 diabetes를 데이터프레임 형태로 호출하고, ```age```와 ```bmi``` 두 개의 컬럼에 대하여 두 데이터가 상관관계가 있는지 피어슨 상관계수를 이용해 분석 (정규성을 만족한다고 가정함)"
   ]
  },
  {
   "cell_type": "code",
   "execution_count": 2,
   "id": "85e7fdfc-9d15-4875-ac6c-52a9374b1ea8",
   "metadata": {
    "tags": []
   },
   "outputs": [],
   "source": [
    "# 패키지 불러오기\n",
    "import pandas as pd\n",
    "from sklearn.datasets import load_diabetes"
   ]
  },
  {
   "cell_type": "code",
   "execution_count": 3,
   "id": "ba6b7a0a-3307-4a0e-a274-bbd5eb756991",
   "metadata": {
    "tags": []
   },
   "outputs": [
    {
     "data": {
      "text/plain": [
       "{'data': array([[ 0.03807591,  0.05068012,  0.06169621, ..., -0.00259226,\n",
       "          0.01990749, -0.01764613],\n",
       "        [-0.00188202, -0.04464164, -0.05147406, ..., -0.03949338,\n",
       "         -0.06833155, -0.09220405],\n",
       "        [ 0.08529891,  0.05068012,  0.04445121, ..., -0.00259226,\n",
       "          0.00286131, -0.02593034],\n",
       "        ...,\n",
       "        [ 0.04170844,  0.05068012, -0.01590626, ..., -0.01107952,\n",
       "         -0.04688253,  0.01549073],\n",
       "        [-0.04547248, -0.04464164,  0.03906215, ...,  0.02655962,\n",
       "          0.04452873, -0.02593034],\n",
       "        [-0.04547248, -0.04464164, -0.0730303 , ..., -0.03949338,\n",
       "         -0.00422151,  0.00306441]]),\n",
       " 'target': array([151.,  75., 141., 206., 135.,  97., 138.,  63., 110., 310., 101.,\n",
       "         69., 179., 185., 118., 171., 166., 144.,  97., 168.,  68.,  49.,\n",
       "         68., 245., 184., 202., 137.,  85., 131., 283., 129.,  59., 341.,\n",
       "         87.,  65., 102., 265., 276., 252.,  90., 100.,  55.,  61.,  92.,\n",
       "        259.,  53., 190., 142.,  75., 142., 155., 225.,  59., 104., 182.,\n",
       "        128.,  52.,  37., 170., 170.,  61., 144.,  52., 128.,  71., 163.,\n",
       "        150.,  97., 160., 178.,  48., 270., 202., 111.,  85.,  42., 170.,\n",
       "        200., 252., 113., 143.,  51.,  52., 210.,  65., 141.,  55., 134.,\n",
       "         42., 111.,  98., 164.,  48.,  96.,  90., 162., 150., 279.,  92.,\n",
       "         83., 128., 102., 302., 198.,  95.,  53., 134., 144., 232.,  81.,\n",
       "        104.,  59., 246., 297., 258., 229., 275., 281., 179., 200., 200.,\n",
       "        173., 180.,  84., 121., 161.,  99., 109., 115., 268., 274., 158.,\n",
       "        107.,  83., 103., 272.,  85., 280., 336., 281., 118., 317., 235.,\n",
       "         60., 174., 259., 178., 128.,  96., 126., 288.,  88., 292.,  71.,\n",
       "        197., 186.,  25.,  84.,  96., 195.,  53., 217., 172., 131., 214.,\n",
       "         59.,  70., 220., 268., 152.,  47.,  74., 295., 101., 151., 127.,\n",
       "        237., 225.,  81., 151., 107.,  64., 138., 185., 265., 101., 137.,\n",
       "        143., 141.,  79., 292., 178.,  91., 116.,  86., 122.,  72., 129.,\n",
       "        142.,  90., 158.,  39., 196., 222., 277.,  99., 196., 202., 155.,\n",
       "         77., 191.,  70.,  73.,  49.,  65., 263., 248., 296., 214., 185.,\n",
       "         78.,  93., 252., 150.,  77., 208.,  77., 108., 160.,  53., 220.,\n",
       "        154., 259.,  90., 246., 124.,  67.,  72., 257., 262., 275., 177.,\n",
       "         71.,  47., 187., 125.,  78.,  51., 258., 215., 303., 243.,  91.,\n",
       "        150., 310., 153., 346.,  63.,  89.,  50.,  39., 103., 308., 116.,\n",
       "        145.,  74.,  45., 115., 264.,  87., 202., 127., 182., 241.,  66.,\n",
       "         94., 283.,  64., 102., 200., 265.,  94., 230., 181., 156., 233.,\n",
       "         60., 219.,  80.,  68., 332., 248.,  84., 200.,  55.,  85.,  89.,\n",
       "         31., 129.,  83., 275.,  65., 198., 236., 253., 124.,  44., 172.,\n",
       "        114., 142., 109., 180., 144., 163., 147.,  97., 220., 190., 109.,\n",
       "        191., 122., 230., 242., 248., 249., 192., 131., 237.,  78., 135.,\n",
       "        244., 199., 270., 164.,  72.,  96., 306.,  91., 214.,  95., 216.,\n",
       "        263., 178., 113., 200., 139., 139.,  88., 148.,  88., 243.,  71.,\n",
       "         77., 109., 272.,  60.,  54., 221.,  90., 311., 281., 182., 321.,\n",
       "         58., 262., 206., 233., 242., 123., 167.,  63., 197.,  71., 168.,\n",
       "        140., 217., 121., 235., 245.,  40.,  52., 104., 132.,  88.,  69.,\n",
       "        219.,  72., 201., 110.,  51., 277.,  63., 118.,  69., 273., 258.,\n",
       "         43., 198., 242., 232., 175.,  93., 168., 275., 293., 281.,  72.,\n",
       "        140., 189., 181., 209., 136., 261., 113., 131., 174., 257.,  55.,\n",
       "         84.,  42., 146., 212., 233.,  91., 111., 152., 120.,  67., 310.,\n",
       "         94., 183.,  66., 173.,  72.,  49.,  64.,  48., 178., 104., 132.,\n",
       "        220.,  57.]),\n",
       " 'frame': None,\n",
       " 'DESCR': '.. _diabetes_dataset:\\n\\nDiabetes dataset\\n----------------\\n\\nTen baseline variables, age, sex, body mass index, average blood\\npressure, and six blood serum measurements were obtained for each of n =\\n442 diabetes patients, as well as the response of interest, a\\nquantitative measure of disease progression one year after baseline.\\n\\n**Data Set Characteristics:**\\n\\n  :Number of Instances: 442\\n\\n  :Number of Attributes: First 10 columns are numeric predictive values\\n\\n  :Target: Column 11 is a quantitative measure of disease progression one year after baseline\\n\\n  :Attribute Information:\\n      - age     age in years\\n      - sex\\n      - bmi     body mass index\\n      - bp      average blood pressure\\n      - s1      tc, total serum cholesterol\\n      - s2      ldl, low-density lipoproteins\\n      - s3      hdl, high-density lipoproteins\\n      - s4      tch, total cholesterol / HDL\\n      - s5      ltg, possibly log of serum triglycerides level\\n      - s6      glu, blood sugar level\\n\\nNote: Each of these 10 feature variables have been mean centered and scaled by the standard deviation times the square root of `n_samples` (i.e. the sum of squares of each column totals 1).\\n\\nSource URL:\\nhttps://www4.stat.ncsu.edu/~boos/var.select/diabetes.html\\n\\nFor more information see:\\nBradley Efron, Trevor Hastie, Iain Johnstone and Robert Tibshirani (2004) \"Least Angle Regression,\" Annals of Statistics (with discussion), 407-499.\\n(https://web.stanford.edu/~hastie/Papers/LARS/LeastAngle_2002.pdf)\\n',\n",
       " 'feature_names': ['age',\n",
       "  'sex',\n",
       "  'bmi',\n",
       "  'bp',\n",
       "  's1',\n",
       "  's2',\n",
       "  's3',\n",
       "  's4',\n",
       "  's5',\n",
       "  's6'],\n",
       " 'data_filename': 'diabetes_data_raw.csv.gz',\n",
       " 'target_filename': 'diabetes_target.csv.gz',\n",
       " 'data_module': 'sklearn.datasets.data'}"
      ]
     },
     "execution_count": 3,
     "metadata": {},
     "output_type": "execute_result"
    }
   ],
   "source": [
    "diabetes = load_diabetes()\n",
    "diabetes"
   ]
  },
  {
   "cell_type": "code",
   "execution_count": 4,
   "id": "4c7e1d47-3f5c-47d7-8d01-939e56bb27d0",
   "metadata": {
    "tags": []
   },
   "outputs": [
    {
     "data": {
      "text/html": [
       "<div>\n",
       "<style scoped>\n",
       "    .dataframe tbody tr th:only-of-type {\n",
       "        vertical-align: middle;\n",
       "    }\n",
       "\n",
       "    .dataframe tbody tr th {\n",
       "        vertical-align: top;\n",
       "    }\n",
       "\n",
       "    .dataframe thead th {\n",
       "        text-align: right;\n",
       "    }\n",
       "</style>\n",
       "<table border=\"1\" class=\"dataframe\">\n",
       "  <thead>\n",
       "    <tr style=\"text-align: right;\">\n",
       "      <th></th>\n",
       "      <th>age</th>\n",
       "      <th>sex</th>\n",
       "      <th>bmi</th>\n",
       "      <th>bp</th>\n",
       "      <th>s1</th>\n",
       "      <th>s2</th>\n",
       "      <th>s3</th>\n",
       "      <th>s4</th>\n",
       "      <th>s5</th>\n",
       "      <th>s6</th>\n",
       "    </tr>\n",
       "  </thead>\n",
       "  <tbody>\n",
       "    <tr>\n",
       "      <th>0</th>\n",
       "      <td>0.038076</td>\n",
       "      <td>0.050680</td>\n",
       "      <td>0.061696</td>\n",
       "      <td>0.021872</td>\n",
       "      <td>-0.044223</td>\n",
       "      <td>-0.034821</td>\n",
       "      <td>-0.043401</td>\n",
       "      <td>-0.002592</td>\n",
       "      <td>0.019907</td>\n",
       "      <td>-0.017646</td>\n",
       "    </tr>\n",
       "    <tr>\n",
       "      <th>1</th>\n",
       "      <td>-0.001882</td>\n",
       "      <td>-0.044642</td>\n",
       "      <td>-0.051474</td>\n",
       "      <td>-0.026328</td>\n",
       "      <td>-0.008449</td>\n",
       "      <td>-0.019163</td>\n",
       "      <td>0.074412</td>\n",
       "      <td>-0.039493</td>\n",
       "      <td>-0.068332</td>\n",
       "      <td>-0.092204</td>\n",
       "    </tr>\n",
       "    <tr>\n",
       "      <th>2</th>\n",
       "      <td>0.085299</td>\n",
       "      <td>0.050680</td>\n",
       "      <td>0.044451</td>\n",
       "      <td>-0.005670</td>\n",
       "      <td>-0.045599</td>\n",
       "      <td>-0.034194</td>\n",
       "      <td>-0.032356</td>\n",
       "      <td>-0.002592</td>\n",
       "      <td>0.002861</td>\n",
       "      <td>-0.025930</td>\n",
       "    </tr>\n",
       "    <tr>\n",
       "      <th>3</th>\n",
       "      <td>-0.089063</td>\n",
       "      <td>-0.044642</td>\n",
       "      <td>-0.011595</td>\n",
       "      <td>-0.036656</td>\n",
       "      <td>0.012191</td>\n",
       "      <td>0.024991</td>\n",
       "      <td>-0.036038</td>\n",
       "      <td>0.034309</td>\n",
       "      <td>0.022688</td>\n",
       "      <td>-0.009362</td>\n",
       "    </tr>\n",
       "    <tr>\n",
       "      <th>4</th>\n",
       "      <td>0.005383</td>\n",
       "      <td>-0.044642</td>\n",
       "      <td>-0.036385</td>\n",
       "      <td>0.021872</td>\n",
       "      <td>0.003935</td>\n",
       "      <td>0.015596</td>\n",
       "      <td>0.008142</td>\n",
       "      <td>-0.002592</td>\n",
       "      <td>-0.031988</td>\n",
       "      <td>-0.046641</td>\n",
       "    </tr>\n",
       "    <tr>\n",
       "      <th>...</th>\n",
       "      <td>...</td>\n",
       "      <td>...</td>\n",
       "      <td>...</td>\n",
       "      <td>...</td>\n",
       "      <td>...</td>\n",
       "      <td>...</td>\n",
       "      <td>...</td>\n",
       "      <td>...</td>\n",
       "      <td>...</td>\n",
       "      <td>...</td>\n",
       "    </tr>\n",
       "    <tr>\n",
       "      <th>437</th>\n",
       "      <td>0.041708</td>\n",
       "      <td>0.050680</td>\n",
       "      <td>0.019662</td>\n",
       "      <td>0.059744</td>\n",
       "      <td>-0.005697</td>\n",
       "      <td>-0.002566</td>\n",
       "      <td>-0.028674</td>\n",
       "      <td>-0.002592</td>\n",
       "      <td>0.031193</td>\n",
       "      <td>0.007207</td>\n",
       "    </tr>\n",
       "    <tr>\n",
       "      <th>438</th>\n",
       "      <td>-0.005515</td>\n",
       "      <td>0.050680</td>\n",
       "      <td>-0.015906</td>\n",
       "      <td>-0.067642</td>\n",
       "      <td>0.049341</td>\n",
       "      <td>0.079165</td>\n",
       "      <td>-0.028674</td>\n",
       "      <td>0.034309</td>\n",
       "      <td>-0.018114</td>\n",
       "      <td>0.044485</td>\n",
       "    </tr>\n",
       "    <tr>\n",
       "      <th>439</th>\n",
       "      <td>0.041708</td>\n",
       "      <td>0.050680</td>\n",
       "      <td>-0.015906</td>\n",
       "      <td>0.017293</td>\n",
       "      <td>-0.037344</td>\n",
       "      <td>-0.013840</td>\n",
       "      <td>-0.024993</td>\n",
       "      <td>-0.011080</td>\n",
       "      <td>-0.046883</td>\n",
       "      <td>0.015491</td>\n",
       "    </tr>\n",
       "    <tr>\n",
       "      <th>440</th>\n",
       "      <td>-0.045472</td>\n",
       "      <td>-0.044642</td>\n",
       "      <td>0.039062</td>\n",
       "      <td>0.001215</td>\n",
       "      <td>0.016318</td>\n",
       "      <td>0.015283</td>\n",
       "      <td>-0.028674</td>\n",
       "      <td>0.026560</td>\n",
       "      <td>0.044529</td>\n",
       "      <td>-0.025930</td>\n",
       "    </tr>\n",
       "    <tr>\n",
       "      <th>441</th>\n",
       "      <td>-0.045472</td>\n",
       "      <td>-0.044642</td>\n",
       "      <td>-0.073030</td>\n",
       "      <td>-0.081413</td>\n",
       "      <td>0.083740</td>\n",
       "      <td>0.027809</td>\n",
       "      <td>0.173816</td>\n",
       "      <td>-0.039493</td>\n",
       "      <td>-0.004222</td>\n",
       "      <td>0.003064</td>\n",
       "    </tr>\n",
       "  </tbody>\n",
       "</table>\n",
       "<p>442 rows × 10 columns</p>\n",
       "</div>"
      ],
      "text/plain": [
       "          age       sex       bmi        bp        s1        s2        s3  \\\n",
       "0    0.038076  0.050680  0.061696  0.021872 -0.044223 -0.034821 -0.043401   \n",
       "1   -0.001882 -0.044642 -0.051474 -0.026328 -0.008449 -0.019163  0.074412   \n",
       "2    0.085299  0.050680  0.044451 -0.005670 -0.045599 -0.034194 -0.032356   \n",
       "3   -0.089063 -0.044642 -0.011595 -0.036656  0.012191  0.024991 -0.036038   \n",
       "4    0.005383 -0.044642 -0.036385  0.021872  0.003935  0.015596  0.008142   \n",
       "..        ...       ...       ...       ...       ...       ...       ...   \n",
       "437  0.041708  0.050680  0.019662  0.059744 -0.005697 -0.002566 -0.028674   \n",
       "438 -0.005515  0.050680 -0.015906 -0.067642  0.049341  0.079165 -0.028674   \n",
       "439  0.041708  0.050680 -0.015906  0.017293 -0.037344 -0.013840 -0.024993   \n",
       "440 -0.045472 -0.044642  0.039062  0.001215  0.016318  0.015283 -0.028674   \n",
       "441 -0.045472 -0.044642 -0.073030 -0.081413  0.083740  0.027809  0.173816   \n",
       "\n",
       "           s4        s5        s6  \n",
       "0   -0.002592  0.019907 -0.017646  \n",
       "1   -0.039493 -0.068332 -0.092204  \n",
       "2   -0.002592  0.002861 -0.025930  \n",
       "3    0.034309  0.022688 -0.009362  \n",
       "4   -0.002592 -0.031988 -0.046641  \n",
       "..        ...       ...       ...  \n",
       "437 -0.002592  0.031193  0.007207  \n",
       "438  0.034309 -0.018114  0.044485  \n",
       "439 -0.011080 -0.046883  0.015491  \n",
       "440  0.026560  0.044529 -0.025930  \n",
       "441 -0.039493 -0.004222  0.003064  \n",
       "\n",
       "[442 rows x 10 columns]"
      ]
     },
     "execution_count": 4,
     "metadata": {},
     "output_type": "execute_result"
    }
   ],
   "source": [
    "data = pd.DataFrame(diabetes.data, columns = diabetes.feature_names)\n",
    "data"
   ]
  },
  {
   "cell_type": "code",
   "execution_count": 5,
   "id": "49b3811c-648a-43a2-be41-c76d5bb40c49",
   "metadata": {
    "tags": []
   },
   "outputs": [
    {
     "name": "stdout",
     "output_type": "stream",
     "text": [
      "<class 'pandas.core.frame.DataFrame'>\n",
      "RangeIndex: 442 entries, 0 to 441\n",
      "Data columns (total 10 columns):\n",
      " #   Column  Non-Null Count  Dtype  \n",
      "---  ------  --------------  -----  \n",
      " 0   age     442 non-null    float64\n",
      " 1   sex     442 non-null    float64\n",
      " 2   bmi     442 non-null    float64\n",
      " 3   bp      442 non-null    float64\n",
      " 4   s1      442 non-null    float64\n",
      " 5   s2      442 non-null    float64\n",
      " 6   s3      442 non-null    float64\n",
      " 7   s4      442 non-null    float64\n",
      " 8   s5      442 non-null    float64\n",
      " 9   s6      442 non-null    float64\n",
      "dtypes: float64(10)\n",
      "memory usage: 34.7 KB\n"
     ]
    }
   ],
   "source": [
    "data.info()"
   ]
  },
  {
   "cell_type": "code",
   "execution_count": 6,
   "id": "83c39325-7ff2-4a67-8c75-a71de31af1ce",
   "metadata": {
    "tags": []
   },
   "outputs": [],
   "source": [
    "# scipy.stats.pearsonr\n",
    "from scipy.stats import pearsonr"
   ]
  },
  {
   "cell_type": "code",
   "execution_count": 8,
   "id": "16ae4829-ccdb-43b3-b0ae-c978d331010d",
   "metadata": {
    "tags": []
   },
   "outputs": [
    {
     "data": {
      "text/plain": [
       "PearsonRResult(statistic=0.1850846661465555, pvalue=9.076791865417418e-05)"
      ]
     },
     "execution_count": 8,
     "metadata": {},
     "output_type": "execute_result"
    }
   ],
   "source": [
    "pearsonr(x = data['age'], y = data['bmi'])"
   ]
  },
  {
   "cell_type": "markdown",
   "id": "69d3cb96-01c9-4de6-b530-79bcb91fc303",
   "metadata": {},
   "source": [
    "```pearsonr()``` 함수의 결과는 ```(상관계수, p-value)```의 형태로 제공됨  \n",
    "(0.1850846661465555, 9.076791865417418e-05)\n",
    "- 상관계수: 0.185 -> 두 칼럼은 서로 상관관계가 적음  \n",
    "- p-value: 매우 작으므로 유의수준 5%에서 귀무가설을 기각하기 때문에 상관계수는 작지만 유의하다는 것을 확인할 수 있음\n",
    "\n",
    "<br>\n",
    "\n",
    "단순 상관계수의 산출은 ```df.corr()```로도 가능함"
   ]
  },
  {
   "cell_type": "code",
   "execution_count": 9,
   "id": "b13578f1-3b47-4548-9982-2a87b85b9525",
   "metadata": {
    "tags": []
   },
   "outputs": [
    {
     "data": {
      "text/html": [
       "<div>\n",
       "<style scoped>\n",
       "    .dataframe tbody tr th:only-of-type {\n",
       "        vertical-align: middle;\n",
       "    }\n",
       "\n",
       "    .dataframe tbody tr th {\n",
       "        vertical-align: top;\n",
       "    }\n",
       "\n",
       "    .dataframe thead th {\n",
       "        text-align: right;\n",
       "    }\n",
       "</style>\n",
       "<table border=\"1\" class=\"dataframe\">\n",
       "  <thead>\n",
       "    <tr style=\"text-align: right;\">\n",
       "      <th></th>\n",
       "      <th>age</th>\n",
       "      <th>bmi</th>\n",
       "    </tr>\n",
       "  </thead>\n",
       "  <tbody>\n",
       "    <tr>\n",
       "      <th>age</th>\n",
       "      <td>1.000000</td>\n",
       "      <td>0.185085</td>\n",
       "    </tr>\n",
       "    <tr>\n",
       "      <th>bmi</th>\n",
       "      <td>0.185085</td>\n",
       "      <td>1.000000</td>\n",
       "    </tr>\n",
       "  </tbody>\n",
       "</table>\n",
       "</div>"
      ],
      "text/plain": [
       "          age       bmi\n",
       "age  1.000000  0.185085\n",
       "bmi  0.185085  1.000000"
      ]
     },
     "execution_count": 9,
     "metadata": {},
     "output_type": "execute_result"
    }
   ],
   "source": [
    "# 단순 상관계수 산출\n",
    "data[ ['age', 'bmi'] ].corr()"
   ]
  },
  {
   "cell_type": "code",
   "execution_count": null,
   "id": "89db2957-96f3-4b3b-aa11-6ec5e4d993d5",
   "metadata": {},
   "outputs": [],
   "source": []
  },
  {
   "cell_type": "code",
   "execution_count": null,
   "id": "2d7620c7-94af-48a2-bc77-4fb0a6a2a5e1",
   "metadata": {},
   "outputs": [],
   "source": []
  },
  {
   "cell_type": "markdown",
   "id": "0710be1c-01a9-4d6b-a1cc-d5b37859194c",
   "metadata": {},
   "source": [
    "### 2절: 정규성 검정\n",
    "- 파이썬에서는 Scipy 패키지의 stats 서브패키지 내의 다양한 함수를 통해 정규성 검정을 수행할 수 있음\n",
    "- 여기서는 **샤피로-윌크 검정(Shapiro-Wilk test)** 만\n",
    "- 샤피로-윌크 검정은 ```shapiro()``` 함수를 통해 수행 가능\n",
    "- ```scipy.stats.shapiro(x)```\n",
    "\n",
    "<br>\n",
    "\n",
    "#### 인자\n",
    "- **x** : 1차원 데이터 (리스트, 배열, 시리즈 등)"
   ]
  },
  {
   "cell_type": "markdown",
   "id": "9ab5815b-f8c2-4dfe-9e4f-76ed6cd2b179",
   "metadata": {},
   "source": [
    "#### Q.\n",
    "임의의 균일 표본을 생성한 후, 생성된 표본의 정규성 여부 확인을 위한 샤피로-윌크 검정 수행"
   ]
  },
  {
   "cell_type": "code",
   "execution_count": 10,
   "id": "3fde27f3-221b-425d-9d2d-97e5bdee8066",
   "metadata": {
    "tags": []
   },
   "outputs": [],
   "source": [
    "# 패키지 불러오기\n",
    "import numpy as np"
   ]
  },
  {
   "cell_type": "code",
   "execution_count": 12,
   "id": "3f41f96f-d403-45ca-b6f6-5598c6a32332",
   "metadata": {
    "tags": []
   },
   "outputs": [
    {
     "data": {
      "text/plain": [
       "array([0.58801452, 0.69910875, 0.18815196, 0.04380856, 0.20501895,\n",
       "       0.10606287, 0.72724014, 0.67940052, 0.4738457 , 0.44829582])"
      ]
     },
     "execution_count": 12,
     "metadata": {},
     "output_type": "execute_result"
    }
   ],
   "source": [
    "# 균일표본 생성\n",
    "# 참고) np.random.random(size) : 균일 분포로부터 size개의 len을 가지는 난수 생성\n",
    "np.random.seed(2024)      # 결과의 일관성을 위해 시드값 설정\n",
    "x = np.random.random(10)\n",
    "x"
   ]
  },
  {
   "cell_type": "code",
   "execution_count": 14,
   "id": "a4ac4fb7-c326-4614-9138-e5325e18ed59",
   "metadata": {
    "tags": []
   },
   "outputs": [],
   "source": [
    "# 샤피로-윌크 검정\n",
    "from scipy.stats import shapiro"
   ]
  },
  {
   "cell_type": "code",
   "execution_count": 15,
   "id": "ebab3491-a4f5-4e50-b6bf-12764970d901",
   "metadata": {
    "tags": []
   },
   "outputs": [
    {
     "data": {
      "text/plain": [
       "ShapiroResult(statistic=0.8969663381576538, pvalue=0.20285381376743317)"
      ]
     },
     "execution_count": 15,
     "metadata": {},
     "output_type": "execute_result"
    }
   ],
   "source": [
    "shapiro(x)"
   ]
  },
  {
   "cell_type": "markdown",
   "id": "0d65bc00-e966-4fd3-b3d9-a0d98d81643b",
   "metadata": {},
   "source": [
    "```shapiro()``` 함수의 결과는 (통계량, p-value) 형태로 제공됨  \n",
    "(statistic=0.8969663381576538, pvalue=0.20285381376743317)\n",
    "- p-value가 매우 크므로 귀무가설을 기각하지 못하기 때문에 정규성 만족\n",
    "\n",
    "<br>\n",
    "\n",
    "이 외에 stats 서브패키지에서 정규성 검정을 바로 수행할 수 있는 함수는 kstest, anderson, jarque_bera 등이 있음"
   ]
  },
  {
   "cell_type": "code",
   "execution_count": null,
   "id": "33344a5f-fa04-4294-9bc2-5437c6f94136",
   "metadata": {},
   "outputs": [],
   "source": []
  },
  {
   "cell_type": "code",
   "execution_count": null,
   "id": "c344e587-3256-422f-9bc9-086e033eb798",
   "metadata": {},
   "outputs": [],
   "source": []
  },
  {
   "cell_type": "markdown",
   "id": "c32b4d8a-f294-499d-9405-5f69320ac833",
   "metadata": {},
   "source": [
    "### 3절: 모평균과 모분산 검정\n",
    "#### 모평균 검정\n",
    "- 모평균 검정은 크기 표본의 수에 따라 단일표본, 이표본으로 구분됨\n",
    "- 세 가지 검정(단일표본 t-검정, 대응표본 t-검정, 독립표본 t-검정)이 있음\n",
    "\n",
    "<br>\n",
    "\n",
    "#### **1) 단일표본 t-검정**\n",
    "- 파이썬에서 **하나의 표본에 대한 t-검정**을 수행하기 위해서 SciPy 패키지의 stats 서브패키지를 호출한 후 stats에서 제공하는 ```ttest_1samp``` 함수 사용\n",
    "- ```scipy.stats.ttest_1samp(a, popmean, alternative = 'two-sided', ...)```\n",
    "\n",
    "<br>\n",
    "\n",
    "#### 인자\n",
    "- **a** : 1차원 데이터 (리스트, 배열, 시리즈 등)\n",
    "- **popmean** : 귀무가설에서 설정된 값\n",
    "- **alternative** : 대립가설 정의\n",
    "   - 'two-sided' : popmean과 다름 (default)\n",
    "   - 'less' : popmean보다 작음\n",
    "   - 'greater' : popmean보다 큼"
   ]
  },
  {
   "cell_type": "markdown",
   "id": "40404c8c-330b-4126-939d-bccc20c58095",
   "metadata": {},
   "source": [
    "#### Q.\n",
    "몸무게 데이터를 임의로 생성해보고 **모집단의 평균이 70**이라고 할 수 있는 지 **단일표본 t-검정**을 수행하기 (정규성 만족 가정)"
   ]
  },
  {
   "cell_type": "code",
   "execution_count": 16,
   "id": "cd36178e-351a-4e3c-bcc5-bdb7cdff9e96",
   "metadata": {
    "tags": []
   },
   "outputs": [],
   "source": [
    "# 필요한 패키지 호출\n",
    "import numpy as np"
   ]
  },
  {
   "cell_type": "code",
   "execution_count": 22,
   "id": "965d4bfe-a270-49e4-9fcb-2ba96bd130ac",
   "metadata": {
    "tags": []
   },
   "outputs": [],
   "source": [
    "# 몸무게 데이터 임의 생성\n",
    "kg = np.array( [75.5, 83.9, 75.7, 56.2, 73.4, 67.7, 79.0, 50.7, 58.4, 74.1, 65.1, 77.8, 48.1, 46.3] )"
   ]
  },
  {
   "cell_type": "code",
   "execution_count": 23,
   "id": "a22704ca-8dd3-4870-87b9-d9ca591f224f",
   "metadata": {
    "tags": []
   },
   "outputs": [
    {
     "data": {
      "text/plain": [
       "66.56428571428572"
      ]
     },
     "execution_count": 23,
     "metadata": {},
     "output_type": "execute_result"
    }
   ],
   "source": [
    "# 표본 평균\n",
    "np.mean(kg)"
   ]
  },
  {
   "cell_type": "code",
   "execution_count": 24,
   "id": "d08c7246-30b9-4a61-8955-659035fb1cd5",
   "metadata": {
    "tags": []
   },
   "outputs": [],
   "source": [
    "# 단일표본 t-검정\n",
    "from scipy.stats import ttest_1samp"
   ]
  },
  {
   "cell_type": "code",
   "execution_count": 25,
   "id": "b58e165e-c488-40e3-bdc3-12ed6b3089a0",
   "metadata": {
    "tags": []
   },
   "outputs": [
    {
     "data": {
      "text/plain": [
       "TtestResult(statistic=-1.0289933120202257, pvalue=0.3222484823978743, df=13)"
      ]
     },
     "execution_count": 25,
     "metadata": {},
     "output_type": "execute_result"
    }
   ],
   "source": [
    "ttest_1samp(kg, 70)"
   ]
  },
  {
   "cell_type": "markdown",
   "id": "1f9fb95a-e9e4-41b1-9c42-b9e7e71380c9",
   "metadata": {},
   "source": [
    "ttest_1samp의 결과는 (t통계량값, p-value) 형태로 제공됨  \n",
    "(statistic=-1.0289933120202257, pvalue=0.3222484823978743, df=13)  \n",
    "- p-value가 0.322이므로 유의수준 5%에서 귀무가설 기각하지 못하므로 모집단의 평균은 70과 같다고 할 수 있음"
   ]
  },
  {
   "cell_type": "code",
   "execution_count": null,
   "id": "28546974-7fc2-45a8-8a77-461ff5a46be5",
   "metadata": {},
   "outputs": [],
   "source": []
  },
  {
   "cell_type": "code",
   "execution_count": null,
   "id": "263fb380-11d9-4a40-906d-9326c88d6206",
   "metadata": {},
   "outputs": [],
   "source": []
  },
  {
   "cell_type": "markdown",
   "id": "ce43191b-59e8-4d1e-9da9-6d4585605625",
   "metadata": {},
   "source": [
    "#### **2) 대응표본 t-검정**\n",
    "- 파이썬에서 대응표본에 대한 t-검정을 수행하기 위해서 Scipy 패키지의 stats 서브패키지를 호출한 후 stats에서 제공하는 ```ttest_rel``` 함수를 사용함\n",
    "- ```scipy.stats.ttest_rel(a, b, alternative = 'two-sided', ...)```\n",
    "\n",
    "<br>\n",
    "\n",
    "#### 인자\n",
    "- **a, b** : 1차원 데이터 (리스트, 배열, 시리즈 등)\n",
    "- **alternative** : 대립가설 정의\n",
    "   - 'two-sided' : 두 표본의 평균(a-b)의 차이가 0이 아님 (default)\n",
    "   - 'less' : 두 표본의 평균(a-b) 차이가 0보다 작음\n",
    "   - 'greater' : 두 표본의 평균(a-b)의 차이가 0보다 큼"
   ]
  },
  {
   "cell_type": "markdown",
   "id": "d3ac023c-6997-4cd9-b043-20dfe9ce7b30",
   "metadata": {},
   "source": [
    "#### Q.\n",
    "남녀 몸무게 데이터를 임의로 생성하고, *두 데이터가 서로 짝지어져 있다고 가정*하고, 두 데이터에 대한 모평균이 서로 다르다고 할 수 있는지 **대응표본 t-검정** 수행 (정규성 만족 가정)"
   ]
  },
  {
   "cell_type": "code",
   "execution_count": 26,
   "id": "5f76e403-72c1-4e81-9a63-d3d1dea618c2",
   "metadata": {
    "tags": []
   },
   "outputs": [],
   "source": [
    "import pandas as pd"
   ]
  },
  {
   "cell_type": "code",
   "execution_count": 27,
   "id": "49acaa0c-5c9d-41e4-8294-5b38c0f6eb7e",
   "metadata": {
    "tags": []
   },
   "outputs": [],
   "source": [
    "# 남녀 몸무게 데이터 임의 생성\n",
    "female = np.array( [50.7, 58.4, 74.1, 65.1, 77.8, 48.1, 46.3] )\n",
    "male = np.array( [75.5, 83.9, 75.7, 56.2, 73.4, 67.7, 79.0] )"
   ]
  },
  {
   "cell_type": "code",
   "execution_count": 29,
   "id": "5bd7671d-b430-4301-b0ea-f9f26214e2d5",
   "metadata": {
    "tags": []
   },
   "outputs": [
    {
     "data": {
      "text/plain": [
       "array([-24.8, -25.5,  -1.6,   8.9,   4.4, -19.6, -32.7])"
      ]
     },
     "execution_count": 29,
     "metadata": {},
     "output_type": "execute_result"
    }
   ],
   "source": [
    "# 두 데이터 차이를 diff에 저장\n",
    "diff = female - male\n",
    "diff"
   ]
  },
  {
   "cell_type": "code",
   "execution_count": 30,
   "id": "1453f42a-31cd-46d4-a491-5231efb3d547",
   "metadata": {
    "tags": []
   },
   "outputs": [
    {
     "data": {
      "text/plain": [
       "-12.985714285714291"
      ]
     },
     "execution_count": 30,
     "metadata": {},
     "output_type": "execute_result"
    }
   ],
   "source": [
    "# 두 데이터 차이의 평균\n",
    "np.mean(diff)"
   ]
  },
  {
   "cell_type": "code",
   "execution_count": 31,
   "id": "3705c23d-5df0-442a-821d-e0bc3f837bdc",
   "metadata": {
    "tags": []
   },
   "outputs": [],
   "source": [
    "# 대응표본 t-검정\n",
    "from scipy.stats import ttest_rel"
   ]
  },
  {
   "cell_type": "code",
   "execution_count": 32,
   "id": "f23b6fca-0744-47d7-b3fe-93b8bac80916",
   "metadata": {
    "tags": []
   },
   "outputs": [
    {
     "data": {
      "text/plain": [
       "TtestResult(statistic=-2.078446933064972, pvalue=0.08291274205610201, df=6)"
      ]
     },
     "execution_count": 32,
     "metadata": {},
     "output_type": "execute_result"
    }
   ],
   "source": [
    "ttest_rel(female, male)"
   ]
  },
  {
   "cell_type": "markdown",
   "id": "53be9fbd-dffd-4149-94f8-d6beaa163d23",
   "metadata": {},
   "source": [
    "```ttest_rel``` 함수의 결과는 (t통계량, p-value) 형태로 제공됨  \n",
    "(statistic=-2.078446933064972, pvalue=0.08291274205610201, df=6)  \n",
    "- p-value가 0.083이므로 유의수준 5%에서 귀무가설을 기각하지 못해 모평균이 서로 다르다고 할 수 있음"
   ]
  },
  {
   "cell_type": "code",
   "execution_count": null,
   "id": "03bb9c41-be98-4cf2-addc-56cedb7d31d4",
   "metadata": {},
   "outputs": [],
   "source": []
  },
  {
   "cell_type": "code",
   "execution_count": null,
   "id": "ca9bff1a-32be-4757-8eb6-e480439154b1",
   "metadata": {},
   "outputs": [],
   "source": []
  },
  {
   "cell_type": "markdown",
   "id": "bad6c8dc-1f41-4c53-a285-73624979f767",
   "metadata": {},
   "source": [
    "#### **3) 독립표본 t-검정** \n",
    "- 파이썬에서 독립표본에 대한 t-검정을 수행하기 위해서 Scipy 패키지의 stats 서브패키지를 호출한 후 stats에서 제공하는 ```ttest_ind``` 함수를 사용함\n",
    "- ```scipy.stats.ttest_ind(a, b, equal_var=True, alternative = 'two-sided', ...)```\n",
    "\n",
    "<br>\n",
    "\n",
    "#### 인자\n",
    "- **a, b** : 1차원 데이터 (리스트, 배열, 시리즈 등)\n",
    "- **equal_var** : 등분산인지 여부 (등분산이면 True, 이분산이면 False) (default = True)\n",
    "- **alternative** : 대립가설 정의\n",
    "   - 'two-sided' : 두 표본의 평균(a-b)의 차이가 0이 아님 (default)\n",
    "   - 'less' : 두 표본의 평균(a-b) 차이가 0보다 작음\n",
    "   - 'greater' : 두 표본의 평균(a-b)의 차이가 0보다 큼"
   ]
  },
  {
   "cell_type": "markdown",
   "id": "dade6930-7df6-45b2-a7fe-ec0d3cb9f48b",
   "metadata": {},
   "source": [
    "#### Q.\n",
    "위의 남녀 몸무게 데이터를 활용해 *두 데이터가 독립이라고 가정하고* 두 데이터에 대한 모평균이 서로 다르다고 할 수 있는지 **독립표본 t-검정** 수행 (정규성, 등분산성 가정 만족)"
   ]
  },
  {
   "cell_type": "code",
   "execution_count": 33,
   "id": "b31217f3-ff2e-47d8-a4d4-09726c971c51",
   "metadata": {
    "tags": []
   },
   "outputs": [
    {
     "data": {
      "text/plain": [
       "(array([50.7, 58.4, 74.1, 65.1, 77.8, 48.1, 46.3]),\n",
       " array([75.5, 83.9, 75.7, 56.2, 73.4, 67.7, 79. ]))"
      ]
     },
     "execution_count": 33,
     "metadata": {},
     "output_type": "execute_result"
    }
   ],
   "source": [
    "# 데이터 확인\n",
    "female, male"
   ]
  },
  {
   "cell_type": "code",
   "execution_count": 34,
   "id": "7604ba8f-362c-4b73-8896-85fdeaba9032",
   "metadata": {
    "tags": []
   },
   "outputs": [],
   "source": [
    "# 독립표본 t-검정\n",
    "from scipy.stats import ttest_ind"
   ]
  },
  {
   "cell_type": "code",
   "execution_count": 35,
   "id": "7803a66e-d01b-40d5-b898-6af7f54866b2",
   "metadata": {
    "tags": []
   },
   "outputs": [
    {
     "data": {
      "text/plain": [
       "TtestResult(statistic=-2.2186641577772956, pvalue=0.046550122110569664, df=12.0)"
      ]
     },
     "execution_count": 35,
     "metadata": {},
     "output_type": "execute_result"
    }
   ],
   "source": [
    "ttest_ind(female, male)"
   ]
  },
  {
   "cell_type": "markdown",
   "id": "320a3a90-9fd0-4a2f-a210-ffdbf02c44a7",
   "metadata": {},
   "source": [
    "```ttest_ind``` 함수의 결과는 (t통계량, p-value) 형태로 제공됨  \n",
    "(statistic=-2.2186641577772956, pvalue=0.046550122110569664, df=12.0)  \n",
    "- p-value가 0.046이므로 유의수준 5%에서 귀무가설을 기각하기 때문에 모평균은 서로 다르다고 할 수 있음"
   ]
  },
  {
   "cell_type": "code",
   "execution_count": null,
   "id": "6ae436da-aa6a-412d-a2e3-f3303624c743",
   "metadata": {},
   "outputs": [],
   "source": []
  },
  {
   "cell_type": "code",
   "execution_count": null,
   "id": "600fb1fa-1620-4d91-879b-05952169d77f",
   "metadata": {},
   "outputs": [],
   "source": []
  },
  {
   "cell_type": "markdown",
   "id": "cdf23873-e7a6-4cfb-bbbd-489ccac41f90",
   "metadata": {},
   "source": [
    "#### 모분산 검정\n",
    "- 단일표본에 대한 모분산 검정, 이표본에 대한 분산비 검정, 이표본 이상에 대한 Bartlett 검정, Levene 검정\n",
    "\n",
    "<br>\n",
    "\n",
    "#### **1) 단일표본 검정**\n",
    "- Scipy 패키지는 하나의 표본에 대한 모분산 검정을 바로 수행하는 함수를 지원하지 않음\n",
    "- 따라서 Scipy 패키지의 stats 서브패키지를 호출한 후 stats에서 제공하는 ```chi1``` 클래스를 통해 카이제곱분포(chi2) 객체를 생성한 후, 해당 객체의 메소드 ```cdf()```를 이용해 유의확률(p-value)를 구함\n",
    "\n",
    "<br>\n",
    "\n",
    "**클래스 사용법** \n",
    "- ```scipy.stats.chi2(df, ...)```\n",
    "- **df** : 자유도(degree of freedom)\n",
    "\n",
    "<br>\n",
    "\n",
    "**메소드 사용법**\n",
    "- ```카이제곱분포객체.cdf(x, ...)\n",
    "- **x** : 관측값(여기서는 검정 통계량 입력)"
   ]
  },
  {
   "cell_type": "markdown",
   "id": "3f9a5bb7-3c54-4a41-b6c4-c6e41b04a310",
   "metadata": {},
   "source": [
    "#### Q. \n",
    "임의의 점수 데이터를 임의로 생성하고, 모분산이 1,100보다 작다고 할 수 있는 주장의 입증을 위한 가설검정 수행 (정규성 만족 가정)"
   ]
  },
  {
   "cell_type": "code",
   "execution_count": null,
   "id": "910b8003-01be-490d-be18-4de16436262c",
   "metadata": {},
   "outputs": [],
   "source": []
  }
 ],
 "metadata": {
  "kernelspec": {
   "display_name": "Python 3 (ipykernel)",
   "language": "python",
   "name": "python3"
  },
  "language_info": {
   "codemirror_mode": {
    "name": "ipython",
    "version": 3
   },
   "file_extension": ".py",
   "mimetype": "text/x-python",
   "name": "python",
   "nbconvert_exporter": "python",
   "pygments_lexer": "ipython3",
   "version": "3.11.5"
  }
 },
 "nbformat": 4,
 "nbformat_minor": 5
}
