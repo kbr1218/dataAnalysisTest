{
 "cells": [
  {
   "cell_type": "markdown",
   "id": "bdeb0ffb-c344-4938-991e-bdd39483a7a9",
   "metadata": {},
   "source": [
    "## Part 01 파이썬 기초- 1장 파이썬 기초\n",
    "### 2절: 파이썬 기초 중의 기초"
   ]
  },
  {
   "cell_type": "markdown",
   "id": "6ae76395-7345-4223-9aef-cea145d33a39",
   "metadata": {},
   "source": [
    "#### 변수 (Variable)"
   ]
  },
  {
   "cell_type": "code",
   "execution_count": 1,
   "id": "9c720649-8afa-494c-b1f2-9030a4ffb3ec",
   "metadata": {
    "tags": []
   },
   "outputs": [
    {
     "data": {
      "text/plain": [
       "('Jane', 1)"
      ]
     },
     "execution_count": 1,
     "metadata": {},
     "output_type": "execute_result"
    }
   ],
   "source": [
    "name = 'Jane'\n",
    "number = 1\n",
    "\n",
    "name, number"
   ]
  },
  {
   "cell_type": "markdown",
   "id": "27e41ac9-f28d-499e-ad7a-c2704096d932",
   "metadata": {},
   "source": [
    "#### 기초 연산자 1 - 산술 연산자 (Arithmetic operator)"
   ]
  },
  {
   "cell_type": "code",
   "execution_count": 3,
   "id": "bfd1c234-6701-4881-9d1b-32b46968ae0b",
   "metadata": {
    "tags": []
   },
   "outputs": [
    {
     "data": {
      "text/plain": [
       "10"
      ]
     },
     "execution_count": 3,
     "metadata": {},
     "output_type": "execute_result"
    }
   ],
   "source": [
    "7 + 3   # 더하기"
   ]
  },
  {
   "cell_type": "code",
   "execution_count": 4,
   "id": "68035ed1-1071-45df-b2a8-f1c1f5c77a40",
   "metadata": {
    "tags": []
   },
   "outputs": [
    {
     "data": {
      "text/plain": [
       "4"
      ]
     },
     "execution_count": 4,
     "metadata": {},
     "output_type": "execute_result"
    }
   ],
   "source": [
    "7 - 3   # 빼기"
   ]
  },
  {
   "cell_type": "code",
   "execution_count": 5,
   "id": "b02a5efc-efd7-4ee2-9cd1-8f93f2745997",
   "metadata": {
    "tags": []
   },
   "outputs": [
    {
     "data": {
      "text/plain": [
       "21"
      ]
     },
     "execution_count": 5,
     "metadata": {},
     "output_type": "execute_result"
    }
   ],
   "source": [
    "7 * 3   # 곱하기"
   ]
  },
  {
   "cell_type": "code",
   "execution_count": 6,
   "id": "4e7ad6fe-5326-4fa3-b133-3a4072c9c4e5",
   "metadata": {
    "tags": []
   },
   "outputs": [
    {
     "data": {
      "text/plain": [
       "2.3333333333333335"
      ]
     },
     "execution_count": 6,
     "metadata": {},
     "output_type": "execute_result"
    }
   ],
   "source": [
    "7 / 3   # 나누기"
   ]
  },
  {
   "cell_type": "code",
   "execution_count": 8,
   "id": "3e96167f-c59b-4120-969c-c96534e629f3",
   "metadata": {
    "tags": []
   },
   "outputs": [
    {
     "data": {
      "text/plain": [
       "1"
      ]
     },
     "execution_count": 8,
     "metadata": {},
     "output_type": "execute_result"
    }
   ],
   "source": [
    "7 % 3   # 나머지"
   ]
  },
  {
   "cell_type": "code",
   "execution_count": 9,
   "id": "17d594ca-9e3c-4450-817b-acdb84d94d96",
   "metadata": {
    "tags": []
   },
   "outputs": [
    {
     "data": {
      "text/plain": [
       "2"
      ]
     },
     "execution_count": 9,
     "metadata": {},
     "output_type": "execute_result"
    }
   ],
   "source": [
    "7 // 3  # 몫"
   ]
  },
  {
   "cell_type": "code",
   "execution_count": 10,
   "id": "b298a889-353c-42cc-9230-1d567e56ac67",
   "metadata": {
    "tags": []
   },
   "outputs": [
    {
     "data": {
      "text/plain": [
       "343"
      ]
     },
     "execution_count": 10,
     "metadata": {},
     "output_type": "execute_result"
    }
   ],
   "source": [
    "7 ** 3  # 제곱"
   ]
  },
  {
   "cell_type": "code",
   "execution_count": null,
   "id": "18722d4c-c7eb-49c5-b22a-f3f256814143",
   "metadata": {},
   "outputs": [],
   "source": []
  },
  {
   "cell_type": "markdown",
   "id": "c16219a7-a4b7-41f0-a74e-e5b755e3ce58",
   "metadata": {},
   "source": [
    "#### 기초 연산자2 - 할당 연산자 (Assignment operator)"
   ]
  },
  {
   "cell_type": "code",
   "execution_count": 12,
   "id": "d95b99c2-f7fd-4846-aa83-210b930cf743",
   "metadata": {
    "tags": []
   },
   "outputs": [
    {
     "data": {
      "text/plain": [
       "7"
      ]
     },
     "execution_count": 12,
     "metadata": {},
     "output_type": "execute_result"
    }
   ],
   "source": [
    "a = 7   # a에 7 할당\n",
    "a"
   ]
  },
  {
   "cell_type": "code",
   "execution_count": 17,
   "id": "c8b7bc9e-abc6-45ff-a8bf-e6759a73a858",
   "metadata": {
    "tags": []
   },
   "outputs": [
    {
     "data": {
      "text/plain": [
       "10"
      ]
     },
     "execution_count": 17,
     "metadata": {},
     "output_type": "execute_result"
    }
   ],
   "source": [
    "a = 7\n",
    "a += 3  # a에 할당된 7에 3을 더한 값 재할당 (a = a + 3)\n",
    "a"
   ]
  },
  {
   "cell_type": "code",
   "execution_count": 15,
   "id": "efa44572-8e78-4708-a3bf-762a40a23d6b",
   "metadata": {
    "tags": []
   },
   "outputs": [
    {
     "data": {
      "text/plain": [
       "4"
      ]
     },
     "execution_count": 15,
     "metadata": {},
     "output_type": "execute_result"
    }
   ],
   "source": [
    "a = 7\n",
    "a -= 3  # a에 할당된 7에 3을 뺀 값을 재할당 (a = a - 3)\n",
    "a"
   ]
  },
  {
   "cell_type": "code",
   "execution_count": 16,
   "id": "bd08069d-6ced-468e-8d44-4e3750353e99",
   "metadata": {
    "tags": []
   },
   "outputs": [
    {
     "data": {
      "text/plain": [
       "21"
      ]
     },
     "execution_count": 16,
     "metadata": {},
     "output_type": "execute_result"
    }
   ],
   "source": [
    "a = 7\n",
    "a *= 3  # a에 할당된 7에 3을 곱한 값을 재할당 (a = a * 3)\n",
    "a"
   ]
  },
  {
   "cell_type": "code",
   "execution_count": 18,
   "id": "fe5bdf2f-dd6f-4311-89ee-86e2cfa331d7",
   "metadata": {
    "tags": []
   },
   "outputs": [
    {
     "data": {
      "text/plain": [
       "2.3333333333333335"
      ]
     },
     "execution_count": 18,
     "metadata": {},
     "output_type": "execute_result"
    }
   ],
   "source": [
    "a = 7\n",
    "a /= 3  # a에 할당된 7에 3을 나눈 값을 재할당 (a = a / 3)\n",
    "a"
   ]
  },
  {
   "cell_type": "code",
   "execution_count": 21,
   "id": "12331482-7c26-4199-bfda-a965fb0d1e8f",
   "metadata": {
    "tags": []
   },
   "outputs": [
    {
     "data": {
      "text/plain": [
       "2"
      ]
     },
     "execution_count": 21,
     "metadata": {},
     "output_type": "execute_result"
    }
   ],
   "source": [
    "a = 7\n",
    "a //= 3  # a에 할당된 7에 3으로 나눈 값의 몫을 재할당 (a = // 3)\n",
    "a"
   ]
  },
  {
   "cell_type": "code",
   "execution_count": 22,
   "id": "45196bf4-c995-4b45-bc43-4f0864f9fa25",
   "metadata": {
    "tags": []
   },
   "outputs": [
    {
     "data": {
      "text/plain": [
       "1"
      ]
     },
     "execution_count": 22,
     "metadata": {},
     "output_type": "execute_result"
    }
   ],
   "source": [
    "a = 7\n",
    "a %= 3  #a에 할당된 7에 3으로 나눈 값의 나머지를 재할당 (a = a % 3)\n",
    "a"
   ]
  },
  {
   "cell_type": "code",
   "execution_count": 23,
   "id": "e9c96c18-274b-4e3d-8efa-9db43c0825f2",
   "metadata": {
    "tags": []
   },
   "outputs": [
    {
     "data": {
      "text/plain": [
       "343"
      ]
     },
     "execution_count": 23,
     "metadata": {},
     "output_type": "execute_result"
    }
   ],
   "source": [
    "a = 7\n",
    "a **= 3  # a에 할당된 7에 3을 제곱한 값을 재할당 (a = a ** 3)\n",
    "a"
   ]
  },
  {
   "cell_type": "code",
   "execution_count": null,
   "id": "6a194d1f-6264-4f5d-b8df-912d176558f6",
   "metadata": {},
   "outputs": [],
   "source": []
  },
  {
   "cell_type": "markdown",
   "id": "73794926-1ce9-4238-b591-5870846f9220",
   "metadata": {},
   "source": [
    "#### 기초 연산자3 - 비교 연산자 (Comparision operator)"
   ]
  },
  {
   "cell_type": "code",
   "execution_count": 24,
   "id": "21f7590f-3976-4604-a87a-64fd732a2de7",
   "metadata": {
    "tags": []
   },
   "outputs": [
    {
     "data": {
      "text/plain": [
       "False"
      ]
     },
     "execution_count": 24,
     "metadata": {},
     "output_type": "execute_result"
    }
   ],
   "source": [
    "a = 7; b = 3\n",
    "a == b"
   ]
  },
  {
   "cell_type": "code",
   "execution_count": 25,
   "id": "42f19b64-584e-4b15-84cb-7c0040f3eb5d",
   "metadata": {
    "tags": []
   },
   "outputs": [
    {
     "data": {
      "text/plain": [
       "True"
      ]
     },
     "execution_count": 25,
     "metadata": {},
     "output_type": "execute_result"
    }
   ],
   "source": [
    "a != b"
   ]
  },
  {
   "cell_type": "code",
   "execution_count": 26,
   "id": "3fbc91df-66ed-42d9-aca3-5b8ef2f08735",
   "metadata": {
    "tags": []
   },
   "outputs": [
    {
     "data": {
      "text/plain": [
       "True"
      ]
     },
     "execution_count": 26,
     "metadata": {},
     "output_type": "execute_result"
    }
   ],
   "source": [
    "a > b"
   ]
  },
  {
   "cell_type": "code",
   "execution_count": 27,
   "id": "99fb3164-7e78-4cc2-89e2-89d811de5905",
   "metadata": {
    "tags": []
   },
   "outputs": [
    {
     "data": {
      "text/plain": [
       "False"
      ]
     },
     "execution_count": 27,
     "metadata": {},
     "output_type": "execute_result"
    }
   ],
   "source": [
    "a < b"
   ]
  },
  {
   "cell_type": "code",
   "execution_count": 28,
   "id": "d1721581-934a-4097-825f-206d2e5ac267",
   "metadata": {
    "tags": []
   },
   "outputs": [
    {
     "data": {
      "text/plain": [
       "True"
      ]
     },
     "execution_count": 28,
     "metadata": {},
     "output_type": "execute_result"
    }
   ],
   "source": [
    "a >= b"
   ]
  },
  {
   "cell_type": "code",
   "execution_count": 29,
   "id": "ffd078ae-7f10-426a-94e3-cc8d48bdfc9f",
   "metadata": {
    "tags": []
   },
   "outputs": [
    {
     "data": {
      "text/plain": [
       "False"
      ]
     },
     "execution_count": 29,
     "metadata": {},
     "output_type": "execute_result"
    }
   ],
   "source": [
    "a <= b"
   ]
  },
  {
   "cell_type": "code",
   "execution_count": null,
   "id": "93eb450f-76e1-44b6-ae54-3d0b7d9f7da9",
   "metadata": {},
   "outputs": [],
   "source": []
  },
  {
   "cell_type": "markdown",
   "id": "10b0ac78-1397-49d1-8041-171c6a52a342",
   "metadata": {},
   "source": [
    "#### 기초 연산자4 - 논리 연산자 (Logical operator)"
   ]
  },
  {
   "cell_type": "code",
   "execution_count": 31,
   "id": "f0a909b1-561f-4bdf-adc0-2805f9169c12",
   "metadata": {
    "tags": []
   },
   "outputs": [
    {
     "data": {
      "text/plain": [
       "False"
      ]
     },
     "execution_count": 31,
     "metadata": {},
     "output_type": "execute_result"
    }
   ],
   "source": [
    "a = 7; b = 3; c = 5; d = 1\n",
    "\n",
    "(a > b) and (c < d)  # True and False"
   ]
  },
  {
   "cell_type": "code",
   "execution_count": 32,
   "id": "0d8ad904-7e01-4015-8713-a5920cf2b7cc",
   "metadata": {
    "tags": []
   },
   "outputs": [
    {
     "data": {
      "text/plain": [
       "True"
      ]
     },
     "execution_count": 32,
     "metadata": {},
     "output_type": "execute_result"
    }
   ],
   "source": [
    "(a > b) or (c < d) # True or False"
   ]
  },
  {
   "cell_type": "code",
   "execution_count": 33,
   "id": "f5184192-3111-4d75-8c5a-9f66b88ab7c6",
   "metadata": {
    "tags": []
   },
   "outputs": [
    {
     "data": {
      "text/plain": [
       "False"
      ]
     },
     "execution_count": 33,
     "metadata": {},
     "output_type": "execute_result"
    }
   ],
   "source": [
    "not(a > b) # not(True)"
   ]
  },
  {
   "cell_type": "code",
   "execution_count": 37,
   "id": "25eb611d-614c-43cc-aeb3-7569d7b8593f",
   "metadata": {
    "tags": []
   },
   "outputs": [
    {
     "data": {
      "text/plain": [
       "True"
      ]
     },
     "execution_count": 37,
     "metadata": {},
     "output_type": "execute_result"
    }
   ],
   "source": [
    "not(c < d) # not(False)"
   ]
  },
  {
   "cell_type": "code",
   "execution_count": null,
   "id": "73d813be-91b7-4b61-9548-52e3b5118382",
   "metadata": {},
   "outputs": [],
   "source": []
  },
  {
   "cell_type": "markdown",
   "id": "f50c804f-e605-4d65-bdd6-194a34f2cbcf",
   "metadata": {},
   "source": [
    "#### 기초 연산자5 - 기타 연산자\n",
    "- 추가적으로 항등 연산자(Identity operator), 멤버 연산자 (Membership operator) 그리고 비트 연산자 (Bitwise operator)가 있음"
   ]
  },
  {
   "cell_type": "markdown",
   "id": "35bea7ae-5d0d-42ec-9d06-bc3956d74efb",
   "metadata": {},
   "source": [
    "#### 연산자 우선순위\n",
    "1. ** (산술 연산자)\n",
    "2. +, -, ~ (단항 연산자(부호))\n",
    "3. *, /, //, % (산술 연산자)\n",
    "4. +, - (산술 연산자)\n",
    "5. 비트 연산자, 멤버 연산자, 항등 연산자\n",
    "6. <, <=, >, >=, !=, == (비교 연산자)\n",
    "7. not (논리 연산자)\n",
    "8. and (논리 연산자)\n",
    "9. or (논리 연산자)\n",
    "10. = (대입 연산자)\n",
    "11. +=, -=, *=, /=, ... (대입 연산자)"
   ]
  },
  {
   "cell_type": "code",
   "execution_count": null,
   "id": "6a803951-a6b6-45e1-9873-abfb20c0144b",
   "metadata": {},
   "outputs": [],
   "source": []
  },
  {
   "cell_type": "markdown",
   "id": "b5821e1c-f964-44cc-b9f7-7646cc04f26f",
   "metadata": {},
   "source": [
    "### 3절: 데이터 타입"
   ]
  },
  {
   "cell_type": "markdown",
   "id": "1b37aadd-8c35-4f94-8e57-955cd9c7a028",
   "metadata": {},
   "source": [
    "#### 숫자형 (Number)\n",
    "- 숫자형은 일반적인 숫자 형태로 이루어진 데이터 타입으로 정수(Integer), 실수(Float)를 의미\n",
    "- 8진수와 16진수도 표현 가능하나, 본 수험서에는 이를 생략함\n",
    "- 내장함수 int()와 float()를 통해 각각 정수, 실수로 데이터 타입을 변환할 수 있음"
   ]
  },
  {
   "cell_type": "code",
   "execution_count": 36,
   "id": "f5e47d03-68f3-479a-9761-a218df8fc82c",
   "metadata": {
    "tags": []
   },
   "outputs": [
    {
     "name": "stdout",
     "output_type": "stream",
     "text": [
      "1\n",
      "2.7\n"
     ]
    }
   ],
   "source": [
    "a = 1     # 정수\n",
    "b = 2.7   # 실수\n",
    "print(a)\n",
    "print(b)"
   ]
  },
  {
   "cell_type": "code",
   "execution_count": null,
   "id": "c6f1b314-a60a-4a0b-b951-fd6db4fbc095",
   "metadata": {},
   "outputs": [],
   "source": []
  },
  {
   "cell_type": "markdown",
   "id": "518b8799-fa18-4f31-a8b2-7d2524b632a4",
   "metadata": {},
   "source": [
    "#### 시퀀스형 (Sequence)\n",
    "- 여러 객체를 저장하는 데이터 타입으로 일반적으로 각 객체는 순서를 지닌(연속적으로 이어진) 형태로 구성되어 있음\n",
    "- 시퀀스 객체에 저장되어 있는 각 객체들은 요소(element; 원소)라고 불리며 시퀀스 객체는 0개 이상의 요소를 저장할 수 있음\n",
    "- 이 순서를 **위치 인덱스 번호**라고 하며, 시퀀스형에서 인덱스 번호는 왼쪽에서부터 오른쪽으로 부여되며, 시작은 0번 (역순 번호는 오른쪽에서부터 -1번으로 시작)\n",
    "- 시퀀스형에 속하는 객체는 **문자열(string), 리스트(list), 튜플(tuple), range**가 있으며 모두 반복가능(iterable)한 객체라는 특징이 있음\n",
    "- 특히 문자열, 튜플, range는 불변한(immutable) 객체(읽기 전용)으로 저장된 요소를 변경할 수 없음"
   ]
  },
  {
   "cell_type": "markdown",
   "id": "91b08e8e-41c4-4810-899f-0292e79d65f4",
   "metadata": {},
   "source": [
    "#### 문자열 (String)\n",
    "- 문자 혹은 단어 등으로 구성된 문자들의 집합을 의미\n",
    "- 큰 따옴표(\"\"), 작은 따옴표(''), 큰 따옴표 연속 3개(\"\"\"), 작은 따옴표 연속 3개(''')를 둘러싸는 방법으로 입력 가능\n",
    "- 따옴표 연속 3개를 둘러싸는 방법은 줄바꿈(/n)까지 허용\n",
    "- 문자열 내 따옴표가 포함될 경우 상이한 따옴표를 둘러싸는 방법으로 입력 가능\n",
    "- 내장함수 str()를 통해 빈 문자의 생성과 문자열로 데이터 타입을 변환할 수 있음"
   ]
  },
  {
   "cell_type": "code",
   "execution_count": 44,
   "id": "b2b92134-3bd9-4f59-ac32-157803811810",
   "metadata": {
    "tags": []
   },
   "outputs": [
    {
     "name": "stdout",
     "output_type": "stream",
     "text": [
      "BigData, A.I Technology Expert Group\n",
      "BigData, A.I Technology Expert Group\n",
      "BigData, A.I Technology Expert Group\n",
      "BigData, A.I Technology Expert Group\n",
      "BigData,\n",
      "A.I Technology Expert Group\n",
      "BigData, \n",
      "A.I Technology Expert Group\n"
     ]
    }
   ],
   "source": [
    "string1 = \"BigData, A.I Technology Expert Group\"        # 큰 따옴표로 둘러싸기\n",
    "string2 = 'BigData, A.I Technology Expert Group'        # 작은 따옴표로 둘러싸기\n",
    "string3 = \"\"\"BigData, A.I Technology Expert Group\"\"\"    # 큰 따옴표 3개로 둘러싸기\n",
    "string4 = '''BigData, A.I Technology Expert Group'''    # 작은 따옴표 3개로 둘러싸기\n",
    "string5 = '''BigData,\n",
    "A.I Technology Expert Group'''                          # 작은 따옴표 연속 3개는 줄바꿈 허용 - 엔터\n",
    "string6 = \"\"\"BigData, \\nA.I Technology Expert Group\"\"\"  # 큰 따옴표 연속 3개는 줄바꿈 허용 - \\n 사용\n",
    "\n",
    "print(string1)\n",
    "print(string2)\n",
    "print(string3)\n",
    "print(string4)\n",
    "print(string5)\n",
    "print(string6)"
   ]
  },
  {
   "cell_type": "code",
   "execution_count": null,
   "id": "89039601-3514-44ff-a981-f75321580ea8",
   "metadata": {},
   "outputs": [],
   "source": []
  },
  {
   "cell_type": "markdown",
   "id": "20480a85-f000-4cfe-8ca5-f8ed658da201",
   "metadata": {},
   "source": [
    "#### 리스트 (List)\n",
    "- **대괄호 []** 를 사용해 저장할 수 있으며 저장되는 요소는 서로 다른 데이터 타입도 가능할 뿐만 아니라 어떠한 객체(데이터 타입)도 포함\n",
    "- 내장함수 list()를 통해 빈 리스트의 생성(대괄호로 가능)과 리스트로 데이터 타입을 변환할 수 있음"
   ]
  },
  {
   "cell_type": "code",
   "execution_count": 45,
   "id": "02f6b695-4b89-4ed3-a5d7-51f1c6a3f93c",
   "metadata": {
    "tags": []
   },
   "outputs": [
    {
     "name": "stdout",
     "output_type": "stream",
     "text": [
      "[1, 2, 3, 4]\n",
      "['D', 'a', 'T', 'a']\n",
      "[1, 2, 'D', 'a']\n",
      "[]\n",
      "[]\n"
     ]
    }
   ],
   "source": [
    "list1 = [1, 2, 3, 4]         # 숫자일 경우\n",
    "list2 = ['D', 'a', 'T', 'a'] # 문자일 경우\n",
    "list3 = [1, 2, 'D', 'a']     # 숫자 + 문자\n",
    "list4 = []                   # 빈 리스트\n",
    "list5 = list()               # list() 함수로 빈 리스트 생성\n",
    "\n",
    "print(list1)\n",
    "print(list2)\n",
    "print(list3)\n",
    "print(list4)\n",
    "print(list5)"
   ]
  },
  {
   "cell_type": "code",
   "execution_count": null,
   "id": "ac117973-25a9-4889-b0eb-d505726a81b0",
   "metadata": {},
   "outputs": [],
   "source": []
  },
  {
   "cell_type": "markdown",
   "id": "15aa0ffb-66b3-4d92-8be8-111be9562d7a",
   "metadata": {},
   "source": [
    "#### 튜플 (Tuple)\n",
    "- 리스트와 유사한 데이터 타입이며 **소괄호 ()** 로 감싸는 방법을 통해 저장 가능\n",
    "- 값의 생성/삭제 등이 불가능함\n",
    "- 튜플 역시 저장되는 요소는 서로 다른 데이터 타입도 가능하고 어떠한 객체(데이터 타입)도 포함될 수 있음\n",
    "- 내장함수 tuple()을 통해 빈 튜플 생성(소괄호로도 가능)과 튜플로 데이터 타입을 변환할 수 있음"
   ]
  },
  {
   "cell_type": "code",
   "execution_count": 46,
   "id": "da0a848e-39c1-4bbe-9595-793305076dc8",
   "metadata": {
    "tags": []
   },
   "outputs": [
    {
     "name": "stdout",
     "output_type": "stream",
     "text": [
      "(1, 2, 3, 4)\n",
      "('D', 'a', 'T', 'a')\n",
      "(1, 2, 'D', 'a')\n",
      "()\n",
      "()\n"
     ]
    }
   ],
   "source": [
    "tuple1 = (1, 2, 3, 4)         # 숫자일 경우\n",
    "tuple2 = ('D', 'a', 'T', 'a') # 문자일 경우\n",
    "tuple3 = (1, 2, 'D', 'a')     # 숫자 + 문자\n",
    "tuple4 = ()                   # 빈 튜플\n",
    "tuple5 = tuple()              # tuple()로 빈 튜플 생성\n",
    "\n",
    "print(tuple1)\n",
    "print(tuple2)\n",
    "print(tuple3)\n",
    "print(tuple4)\n",
    "print(tuple5)"
   ]
  },
  {
   "cell_type": "code",
   "execution_count": 47,
   "id": "ba5e71e1-0283-46c6-b857-ec9f6d04c8ba",
   "metadata": {
    "tags": []
   },
   "outputs": [
    {
     "name": "stdout",
     "output_type": "stream",
     "text": [
      "[[1, 2, 3, 4], ('D', 'a', 'T', 'a')]\n",
      "((1, 2, 3, 4), ['D', 'a', 'T', 'a'])\n"
     ]
    }
   ],
   "source": [
    "# 리스트 안 리스트, 리스트 안 튜플, 튜플 안 리스트, 튜플 안 튜플\n",
    "list6 = [list1, tuple2]\n",
    "tuple6 = (tuple1, list2)\n",
    "\n",
    "print(list6)\n",
    "print(tuple6)"
   ]
  },
  {
   "cell_type": "code",
   "execution_count": null,
   "id": "10398833-363a-4cd6-82f8-0ab4d96e1737",
   "metadata": {},
   "outputs": [],
   "source": []
  },
  {
   "cell_type": "markdown",
   "id": "168b188e-082e-426d-89d9-ec9ff3b56fa2",
   "metadata": {},
   "source": [
    "#### range\n",
    "- 정수를 일정한 규칙의 배열로 나열해 생성하는 숫자열 객체\n",
    "- 리스트와 유사하지만, 수열의 형태를 요소로 가지는 리스트를 생성하는 것과 range로 생성하는 것은 다른 데이터 타입을 가짐\n",
    "- 내장함수 range()를 통해 생성 가능하고 범위를 정하면 요소가 자동으로 생성되는 편리함을 가지고 있어 주로 반복문에 많이 사용됨\n",
    "- **range(start, end, step)** : start 숫자에서 step 간격으로 증가하여 end 전(end를 포함하지 않는) 숫자까지 숫자열 생성\n",
    "- start를 생략할 경우 0부터 시작\n",
    "- step을 생략할 경우 간격을 1로 생성, step이 음수인 경우 감소하는 형태로 생성할 수 있음\n",
    "- range(0)은 빈 range 의미"
   ]
  },
  {
   "cell_type": "code",
   "execution_count": 51,
   "id": "aa1bf36a-89dd-4554-a2fc-7bd966889aa5",
   "metadata": {
    "tags": []
   },
   "outputs": [
    {
     "name": "stdout",
     "output_type": "stream",
     "text": [
      "range(0, 1)\n",
      "[0, 1, 2, 3, 4, 5, 6, 7, 8, 9]\n"
     ]
    }
   ],
   "source": [
    "range1 = range(0, 1)\n",
    "range2 = range(10)\n",
    "range3 = range(10, 0, -1)\n",
    "range4 = range(0)\n",
    "range5 = range(10, -1)\n",
    "\n",
    "# range형은 print() 문을 사용해도 구성요소를 확인할 수 없음\n",
    "print(range1)\n",
    "\n",
    "# 리스트형으로 변환하여 출력\n",
    "print(list(range2))"
   ]
  },
  {
   "cell_type": "code",
   "execution_count": null,
   "id": "ac3e6cc8-f1c8-4d15-8371-d091a98d9ac7",
   "metadata": {},
   "outputs": [],
   "source": []
  },
  {
   "cell_type": "markdown",
   "id": "a1493a8b-c223-496a-86eb-f7dddb652e23",
   "metadata": {},
   "source": [
    "시퀀스형 연산에는 인덱싱(Indexing), 슬라이싱(slicing), 연결(Concatenation), 반복(Repetition), 길이 정보 등이 있음  \n",
    "\n",
    "#### 시퀀스형 연산 1 - 인덱싱\n",
    "- 인덱싱이란 인덱스 번호를 통해 하나의 객체를 참조하는 것 의미\n",
    "- 즉, [k]는 k번째 위치의 값 하나를 참조하는 것"
   ]
  },
  {
   "cell_type": "code",
   "execution_count": 52,
   "id": "a3b76c73-b123-4ec6-b9b5-a19f9dfc5503",
   "metadata": {
    "tags": []
   },
   "outputs": [],
   "source": [
    "st = \"Hello World!\"\n",
    "li = [0, 1, 2, 3, 4, 5]\n",
    "tu = (0, 1, 2, 3, 4, 5)\n",
    "ran = range(0, 10)"
   ]
  },
  {
   "cell_type": "code",
   "execution_count": 53,
   "id": "1b040b49-4e26-4853-a691-855ca8472479",
   "metadata": {
    "tags": []
   },
   "outputs": [
    {
     "name": "stdout",
     "output_type": "stream",
     "text": [
      "H ! d W\n",
      "0 3 5\n",
      "0 4 4\n",
      "0 3 6\n"
     ]
    }
   ],
   "source": [
    "# 문자열 인덱싱\n",
    "print(st[0], st[-1], st[10], st[-6])\n",
    "\n",
    "# 리스트 인덱싱\n",
    "print(li[0], li[3], li[-1])\n",
    "\n",
    "# 튜플 인덱싱\n",
    "print(tu[0], tu[4], tu[-2])\n",
    "\n",
    "# range 인덱싱\n",
    "print(ran[0], ran[3], ran[-4])"
   ]
  },
  {
   "cell_type": "code",
   "execution_count": 55,
   "id": "3630880a-03b2-4041-ba96-36cc88c3039f",
   "metadata": {
    "tags": []
   },
   "outputs": [
    {
     "name": "stdout",
     "output_type": "stream",
     "text": [
      "[0, 1, 2, 3, 4, 100]\n",
      "[0, 1, 2, 3, 4, 100]\n"
     ]
    }
   ],
   "source": [
    "# 인덱싱을 통한 리스트의 특정 객체 수정\n",
    "print(li)\n",
    "li[5] = 100\n",
    "print(li)\n",
    "\n",
    "# 문자열, 튜플, range는 불변한 객체 타입이므로 인덱스를 통하여 수정하는 것 불가능"
   ]
  },
  {
   "cell_type": "code",
   "execution_count": null,
   "id": "fe838df5-540b-4709-b669-cd229a45af23",
   "metadata": {},
   "outputs": [],
   "source": []
  },
  {
   "cell_type": "markdown",
   "id": "e1e55443-7777-4ef3-ae0f-537d8be3a311",
   "metadata": {
    "tags": []
   },
   "source": [
    "#### 시퀀스형 연산2 - 슬라이싱\n",
    "- 데이터의 일부를 잘라내는 것\n",
    "- [k1:k2]는 k1에서 k2 사이의 구간 내의 객체를 추출하며, k1과 k2는 생략 가능하다 (생략할 경우 가장 처음과 끝의 인덱스가 됨)"
   ]
  },
  {
   "cell_type": "code",
   "execution_count": 58,
   "id": "918ac31a-3cec-4256-a416-1b5c828d86fe",
   "metadata": {
    "tags": []
   },
   "outputs": [
    {
     "name": "stdout",
     "output_type": "stream",
     "text": [
      "Hello W\n",
      "Hello World!\n",
      "[2, 3]\n",
      "[0, 1, 2, 3, 4, 100]\n",
      "(1, 2)\n",
      "(0, 1, 2, 3, 4, 5)\n",
      "range(3, 5)\n",
      "range(0, 10)\n"
     ]
    }
   ],
   "source": [
    "# 문자열 슬라이싱\n",
    "print(st[0:7])\n",
    "print(st[:])\n",
    "\n",
    "# 리스트 슬라이싱\n",
    "print(li[2:4])\n",
    "print(li[:])\n",
    "\n",
    "# 튜플 슬라이싱\n",
    "print(tu[1:3])\n",
    "print(tu[:])\n",
    "\n",
    "# range 슬라이싱\n",
    "print(ran[3:5])\n",
    "print(ran[:])"
   ]
  },
  {
   "cell_type": "code",
   "execution_count": null,
   "id": "5ee70cf0-377c-4bff-996f-bba149d92658",
   "metadata": {},
   "outputs": [],
   "source": []
  },
  {
   "cell_type": "markdown",
   "id": "8e34a713-1d27-4f9c-bceb-6863646c953b",
   "metadata": {},
   "source": [
    "#### 시퀀스형 연산3 - 연결\n",
    "- 여러 개의 시퀀스형을 연결하는 것\n",
    "- **+** 연산자를 이용하면 연결 가능 (range 제외)"
   ]
  },
  {
   "cell_type": "code",
   "execution_count": 59,
   "id": "98ae1d94-1977-4333-9d2c-201bcea47043",
   "metadata": {
    "tags": []
   },
   "outputs": [
    {
     "data": {
      "text/plain": [
       "'DataEdu'"
      ]
     },
     "execution_count": 59,
     "metadata": {},
     "output_type": "execute_result"
    }
   ],
   "source": [
    "# 문자열 연결\n",
    "'Data' + 'Edu'"
   ]
  },
  {
   "cell_type": "code",
   "execution_count": 60,
   "id": "51c57815-ec93-4421-a37d-ea2a40e40328",
   "metadata": {
    "tags": []
   },
   "outputs": [
    {
     "data": {
      "text/plain": [
       "[1, 2, 3, 4, 5, 6]"
      ]
     },
     "execution_count": 60,
     "metadata": {},
     "output_type": "execute_result"
    }
   ],
   "source": [
    "# 리스트 연결\n",
    "[1, 2, 3] + [4, 5, 6]"
   ]
  },
  {
   "cell_type": "code",
   "execution_count": 61,
   "id": "20fa3df2-4e57-466a-b0f0-4212e8f96028",
   "metadata": {
    "tags": []
   },
   "outputs": [
    {
     "data": {
      "text/plain": [
       "(5, 4, 3, 2, 1, 0)"
      ]
     },
     "execution_count": 61,
     "metadata": {},
     "output_type": "execute_result"
    }
   ],
   "source": [
    "# 튜플 연결\n",
    "(5, 4, 3) + (2, 1, 0)"
   ]
  },
  {
   "cell_type": "code",
   "execution_count": null,
   "id": "d5a07dbf-0b8e-41d5-b628-536da829dc6d",
   "metadata": {},
   "outputs": [],
   "source": []
  },
  {
   "cell_type": "markdown",
   "id": "23324fea-e895-4dc4-a05b-a9bfbf7ee3e3",
   "metadata": {},
   "source": [
    "#### 시퀀스형 연산4 - 반복\n",
    "- 시퀀스형을 원하는 횟수만큼 반복하는 것\n",
    "- **\\*** 연산자를 이용하면 반복이 가능 (range 제외)\n",
    "- 0을 곱하면 빈 리스트가 됨"
   ]
  },
  {
   "cell_type": "code",
   "execution_count": 62,
   "id": "092da574-265b-4c74-9719-17f699766bcf",
   "metadata": {
    "tags": []
   },
   "outputs": [
    {
     "data": {
      "text/plain": [
       "'DataDataDataData'"
      ]
     },
     "execution_count": 62,
     "metadata": {},
     "output_type": "execute_result"
    }
   ],
   "source": [
    "# 문자열 반복\n",
    "'Data' * 4"
   ]
  },
  {
   "cell_type": "code",
   "execution_count": 63,
   "id": "2287f27d-d604-4404-837c-d59cc2f255cd",
   "metadata": {
    "tags": []
   },
   "outputs": [
    {
     "data": {
      "text/plain": [
       "[3, 4, 5, 3, 4, 5]"
      ]
     },
     "execution_count": 63,
     "metadata": {},
     "output_type": "execute_result"
    }
   ],
   "source": [
    "# 리스트 반복\n",
    "[3, 4, 5] * 2"
   ]
  },
  {
   "cell_type": "code",
   "execution_count": 64,
   "id": "285b91b2-2fca-421b-ba50-5a1f07ec6674",
   "metadata": {
    "tags": []
   },
   "outputs": [
    {
     "data": {
      "text/plain": [
       "(1, 2, 1, 2, 1, 2, 1, 2)"
      ]
     },
     "execution_count": 64,
     "metadata": {},
     "output_type": "execute_result"
    }
   ],
   "source": [
    "# 튜플 반복\n",
    "(1, 2) * 4"
   ]
  },
  {
   "cell_type": "code",
   "execution_count": null,
   "id": "a1636757-ff57-4a9a-a72d-cbd40dd41e67",
   "metadata": {},
   "outputs": [],
   "source": []
  },
  {
   "cell_type": "markdown",
   "id": "11d95fa3-ec5c-42f0-a6e4-7988c5dc9281",
   "metadata": {},
   "source": [
    "#### 시퀀스형 연산5 - 길이 정보\n",
    "- 내장함수 **len()** 함수를 통해 시퀀스형의 길이 정보 확인이 가능함"
   ]
  },
  {
   "cell_type": "code",
   "execution_count": 65,
   "id": "70a7e090-7bb0-41a0-b8de-a5fdf7f0ad4f",
   "metadata": {
    "tags": []
   },
   "outputs": [
    {
     "name": "stdout",
     "output_type": "stream",
     "text": [
      "12\n",
      "6\n",
      "6\n",
      "10\n"
     ]
    }
   ],
   "source": [
    "# 문자열 길이 정보\n",
    "print(len(st))\n",
    "\n",
    "# 리스트 길이 정보\n",
    "print(len(li))\n",
    "\n",
    "# 튜플 길이 정보\n",
    "print(len(tu))\n",
    "\n",
    "# range 길이 정보\n",
    "print(len(ran))"
   ]
  },
  {
   "cell_type": "code",
   "execution_count": null,
   "id": "72426a4b-9235-44a8-8acf-6d6ca4043495",
   "metadata": {},
   "outputs": [],
   "source": []
  },
  {
   "cell_type": "markdown",
   "id": "c3d1db38-dac5-433f-ae2f-a63a46ddb0da",
   "metadata": {},
   "source": [
    "#### 시퀀스형 주요 내장함수와 메소드\n",
    "1. **sum(시퀀스객체)** : 시퀀스객체(문자열 제외) 요소의 합을 반환\n",
    "2. **max(시퀀스객체)** : 시퀀스객체의 요소 중 가장 큰 요소 반환\n",
    "3. **min(시퀀스객체)** : 시퀀스객체의 요소 중 가장 작은 요소 반환\n",
    "4. **sorted(시퀀스객체)** : 시퀀스객체 정렬 후 리스트로 반환\n",
    "5. **reversed(시퀀스객체)** : 시퀀스객체의 요소 순서를 역순으로 반환"
   ]
  },
  {
   "cell_type": "code",
   "execution_count": 68,
   "id": "6390a95e-a627-438d-920c-d127b6886af0",
   "metadata": {
    "tags": []
   },
   "outputs": [
    {
     "name": "stdout",
     "output_type": "stream",
     "text": [
      "110 15 45\n",
      "r 100 5 9\n",
      "  0 0 0\n",
      "[' ', '!', 'H', 'W', 'd', 'e', 'l', 'l', 'l', 'o', 'o', 'r'] [0, 1, 2, 3, 4, 100] [0, 1, 2, 3, 4, 5] [0, 1, 2, 3, 4, 5, 6, 7, 8, 9]\n",
      "['!', 'd', 'l', 'r', 'o', 'W', ' ', 'o', 'l', 'l', 'e', 'H'] [100, 4, 3, 2, 1, 0] [5, 4, 3, 2, 1, 0] [9, 8, 7, 6, 5, 4, 3, 2, 1, 0]\n"
     ]
    }
   ],
   "source": [
    "# sum\n",
    "print(sum(li), sum(tu), sum(ran))\n",
    "\n",
    "# max\n",
    "print(max(st), max(li), max(tu), max(ran))\n",
    "\n",
    "# min\n",
    "print(min(st), min(li), min(tu), min(ran))\n",
    "\n",
    "# sorted\n",
    "print(sorted(st), sorted(li), sorted(tu), sorted(ran))\n",
    "\n",
    "# reversed\n",
    "print(list(reversed(st)), list(reversed(li)), list(reversed(tu)), list(reversed(ran)))"
   ]
  },
  {
   "cell_type": "code",
   "execution_count": null,
   "id": "7675c1d6-18a1-4873-97db-28ed8b2507d4",
   "metadata": {},
   "outputs": [],
   "source": []
  },
  {
   "cell_type": "markdown",
   "id": "69bd03ca-b1c9-4eff-8004-714d55e4f34d",
   "metadata": {},
   "source": [
    "1. **시퀀스객체.index(요소)** : 시퀀스객체 내 해당 요소의 위치 인덱스 번호\n",
    "2. **시퀀스객체.count(요소)** : 시퀀스객체 내 해당 요소의 빈도"
   ]
  },
  {
   "cell_type": "code",
   "execution_count": 72,
   "id": "c78da0d3-c1e1-47e6-bd32-552d14c0939c",
   "metadata": {
    "tags": []
   },
   "outputs": [
    {
     "name": "stdout",
     "output_type": "stream",
     "text": [
      "10\n",
      "3\n",
      "4\n",
      "4\n"
     ]
    }
   ],
   "source": [
    "# index\n",
    "print(st.index('d'))\n",
    "print(li.index(3))\n",
    "print(tu.index(4))\n",
    "print(ran.index(4))"
   ]
  },
  {
   "cell_type": "code",
   "execution_count": 73,
   "id": "6c8bbcb6-e0f9-4985-aba0-7395219529dd",
   "metadata": {
    "tags": []
   },
   "outputs": [
    {
     "name": "stdout",
     "output_type": "stream",
     "text": [
      "1\n",
      "1\n",
      "1\n",
      "1\n"
     ]
    }
   ],
   "source": [
    "# count\n",
    "print(st.count('e'))\n",
    "print(li.count(3))\n",
    "print(tu.count(4))\n",
    "print(ran.count(4))"
   ]
  },
  {
   "cell_type": "code",
   "execution_count": null,
   "id": "aeea8e3a-d7b3-4bc8-800f-bb33d199968b",
   "metadata": {},
   "outputs": [],
   "source": []
  },
  {
   "cell_type": "markdown",
   "id": "5a264ec4-c724-4de1-986c-cabe4c2d13d0",
   "metadata": {},
   "source": [
    "#### 리스트객체에서만 사용되는 주요 메소드 (다른 시퀀스형에는 사용 불가)\n",
    "\n",
    "1. **리스트.append(요소)** : 리스트의 맨 뒤에 요소 추가\n",
    "2. **리스트.insert(인덱스, 요소)** : 리스트의 특정 인덱스에 요소 추가\n",
    "3. **리스트.remove(요소)** : 리스트에서 처음으로 나오는 요소 제거\n",
    "4. **리스트.pop()** : 리스트의 마지막 요소 삭제 후 마지막 요소 반환 \n",
    "5. **리스트.sort(reverse=False)** : 리스트의 요소를 오름차순으로 정렬 (reverse=False는 오름차순(default), reverse=True는 내림차순)\n",
    "6. **리스트.reverse()** : 리스트의 요소 순서를 역순으로 대치\n",
    "7. **리스트.copy()** : 리스트 객체 복사  \n",
    "\n",
    "내장함수 **del**\n",
    "- 리스트 객체의 특정 요소를 삭제할 수 있는 함수\n",
    "- 다른 시퀀스형인 문자열/튜플/range는 불변 객체이므로 삭제할 수 없음"
   ]
  },
  {
   "cell_type": "code",
   "execution_count": 86,
   "id": "4e016ae9-8f4b-4030-9065-10b9b04f71ac",
   "metadata": {
    "tags": []
   },
   "outputs": [],
   "source": [
    "li2 = [4, -1, 5, 6, 1, 3]"
   ]
  },
  {
   "cell_type": "code",
   "execution_count": 87,
   "id": "752e3e9e-54f3-43bb-999a-6d256305c228",
   "metadata": {
    "tags": []
   },
   "outputs": [
    {
     "name": "stdout",
     "output_type": "stream",
     "text": [
      "[4, -1, 5, 6, 1, 3, 6]\n",
      "[9, 4, -1, 5, 6, 1, 3, 6]\n",
      "[9, 4, -1, 6, 1, 3, 6]\n",
      "6\n",
      "[9, 6, 4, 3, 1, -1]\n",
      "[-1, 1, 3, 4, 6, 9]\n"
     ]
    }
   ],
   "source": [
    "# append\n",
    "li2.append(6)\n",
    "print(li2)\n",
    "\n",
    "# insert\n",
    "li2.insert(0, 9)\n",
    "print(li2)\n",
    "\n",
    "# remove\n",
    "li2.remove(5)\n",
    "print(li2)\n",
    "\n",
    "# pop\n",
    "result1 = li2.pop()\n",
    "print(result1)\n",
    "\n",
    "# sort\n",
    "result2 = li2\n",
    "result2.sort(reverse=True)  # 내림차순\n",
    "print(result2)\n",
    "\n",
    "# reverse\n",
    "result3 = li2\n",
    "result3.reverse()\n",
    "print(result3)"
   ]
  },
  {
   "cell_type": "code",
   "execution_count": 88,
   "id": "eac841b9-88e0-4785-9d8c-8ecfa0d8b21f",
   "metadata": {
    "tags": []
   },
   "outputs": [
    {
     "name": "stdout",
     "output_type": "stream",
     "text": [
      "[5, 6, 1, 4]\n",
      "[5, 6, 4]\n"
     ]
    }
   ],
   "source": [
    "li3 = [5, 6, 1, 4]\n",
    "print(li3)\n",
    "\n",
    "del li3[2]\n",
    "print(li3)"
   ]
  },
  {
   "cell_type": "code",
   "execution_count": null,
   "id": "82d5348a-e344-44d1-923d-49376f3a1adf",
   "metadata": {},
   "outputs": [],
   "source": []
  },
  {
   "cell_type": "markdown",
   "id": "6db4e146-ff7a-421a-9fbb-b7195abb1fc8",
   "metadata": {},
   "source": [
    "리스트 객체는 가변형 객체이므로 할당 연산자 등으로 **단순히 변수에 할당할 경우 다른 변수에서 요소를 수정하면 원래의 리스트 객체도 수정**되기 때문에 이를 방지하기 위해 메소드 **copy()** 를 사용해야 함"
   ]
  },
  {
   "cell_type": "code",
   "execution_count": 91,
   "id": "262e93fd-5467-4748-be9b-bf3c69f369c6",
   "metadata": {
    "tags": []
   },
   "outputs": [
    {
     "name": "stdout",
     "output_type": "stream",
     "text": [
      "[4, 5, 2, 4]\n",
      "[4, 5, 2, 4]\n",
      "[100, 5, 2, 4]\n"
     ]
    }
   ],
   "source": [
    "li4 = [4, 5, 2, 4]\n",
    "\n",
    "li4_cp = li4.copy()\n",
    "print(li4_cp)\n",
    "\n",
    "li4_cp[0] = 100\n",
    "print(li4)\n",
    "print(li4_cp)"
   ]
  },
  {
   "cell_type": "code",
   "execution_count": null,
   "id": "ae4c9608-aa5e-4ad2-a71b-96a26f61d36c",
   "metadata": {},
   "outputs": [],
   "source": []
  },
  {
   "cell_type": "markdown",
   "id": "f64998ed-3e68-41a6-9f2d-641088c2f94f",
   "metadata": {},
   "source": [
    "#### 딕셔너리 (Dictionary)\n",
    "- 하나의 변수에 이름과 순서가 있는 여러 개의 자료를 동시에 저장하기 위한 데이터 타입\n",
    "- 키(key)와 값(value)의 쌍으로 구성되어 있으며(해시 구조 형태), 딕셔너리는 iterable한 객체\n",
    "- {key:value}의 방법으로 저장 가능하며 dict() 함수를 통해 빈 딕셔너리 생성(중괄호 {}도 가능)과 딕셔너리로 데이터 타입을 변환할 수 있음\n",
    "- dict() 함수의 인자를 이용하여 dict(key=value)의 형태로 딕셔너리를 행성하는 것도 가능\n",
    "<br>\n",
    "- 키는 불변한 객체 타입만 허용되어 리스트 등은 키가 될 수 없음\n",
    "- 키는 중복될 수 없기 때문에 동일한 키를 추가할 경우 기존의 키 값 대신 새로운 값이 덮어쓰기 됨"
   ]
  },
  {
   "cell_type": "code",
   "execution_count": 94,
   "id": "ebbe37ed-5028-4312-9c5f-3072d9493276",
   "metadata": {
    "tags": []
   },
   "outputs": [
    {
     "name": "stdout",
     "output_type": "stream",
     "text": [
      "{'A': 1, 'B': 2, 'C': 3}\n",
      "{4: 'D', 5: 'E', 6: 'F'}\n",
      "{'G': (1, 2), 'H': 8, 'I': 9}\n"
     ]
    }
   ],
   "source": [
    "dic1 = {'A':1, 'B':2, 'C':3}\n",
    "print(dic1)\n",
    "\n",
    "dic2 = {4:'D', 5:'E', 6:'F'}\n",
    "print(dic2)\n",
    "\n",
    "dic3 = dict(G=(1, 2), H=8, I=9)\n",
    "print(dic3)"
   ]
  },
  {
   "cell_type": "code",
   "execution_count": 95,
   "id": "95c28536-ad60-4e2c-8482-7981fb3926db",
   "metadata": {
    "tags": []
   },
   "outputs": [
    {
     "name": "stdout",
     "output_type": "stream",
     "text": [
      "{'A': 1, 'B': 2, 'C': 3, 'Z': 99}\n",
      "{'G': (1, 2), 'H': 100, 'I': 9}\n"
     ]
    }
   ],
   "source": [
    "# 딕셔너리에 키와 값 추가\n",
    "dic1['Z'] = 99\n",
    "print(dic1)\n",
    "\n",
    "# 동일한 키&다른 값을 추가할 경우 값만 교체됨\n",
    "dic3['H']=100\n",
    "print(dic3)"
   ]
  },
  {
   "cell_type": "code",
   "execution_count": 96,
   "id": "2c80a5ac-a0f9-45fc-81dd-be6196624bf2",
   "metadata": {
    "tags": []
   },
   "outputs": [
    {
     "name": "stdout",
     "output_type": "stream",
     "text": [
      "100\n"
     ]
    }
   ],
   "source": [
    "# 키로 값 조회 가능\n",
    "print(dic3['H'])"
   ]
  },
  {
   "cell_type": "code",
   "execution_count": null,
   "id": "0a4e661d-c533-4d87-a1c5-a443fc7cee03",
   "metadata": {},
   "outputs": [],
   "source": []
  },
  {
   "cell_type": "markdown",
   "id": "fc86f4c7-fdb1-446a-91e2-8d7757faff03",
   "metadata": {},
   "source": [
    "#### 딕셔너리의 내장함수\n",
    "- **del 딕셔너리[key]** : 딕셔너리에서 특정 키와 쌍인 값을 삭제"
   ]
  },
  {
   "cell_type": "code",
   "execution_count": 97,
   "id": "bc01a7c5-0469-465e-b80e-c59dbc8ef2b6",
   "metadata": {
    "tags": []
   },
   "outputs": [
    {
     "name": "stdout",
     "output_type": "stream",
     "text": [
      "{'B': 2, 'C': 3, 'Z': 99}\n"
     ]
    }
   ],
   "source": [
    "# del\n",
    "del dic1['A']\n",
    "print(dic1)"
   ]
  },
  {
   "cell_type": "code",
   "execution_count": null,
   "id": "54066f30-ab47-4c5c-8fb6-2254a67b90a5",
   "metadata": {},
   "outputs": [],
   "source": []
  },
  {
   "cell_type": "markdown",
   "id": "0edf524e-a67d-4442-9fbb-2f01c01a65e1",
   "metadata": {},
   "source": [
    "#### 딕셔너리 타입의 주요 메소드\n",
    "1. **딕셔너리.keys()** : 딕셔너리의 키로 구성된 리스트를 반환\n",
    "2. **딕셔너리.values()** : 딕셔너리의 값으로 구성된 리스트를 반환\n",
    "3. **딕셔너리.items()** : 딕셔너리의 키-값 쌍으로 구성된 리스트를 반환\n",
    "4. **딕셔너리.update({key:value})** : 딕셔너리에 키-값 쌍으로 수정하거나 추가 (동일한 키가 있는 경우 수정, 없으면 추가)"
   ]
  },
  {
   "cell_type": "code",
   "execution_count": 98,
   "id": "3ba438cb-f925-4265-b7da-9bf5b9d474a8",
   "metadata": {
    "tags": []
   },
   "outputs": [
    {
     "data": {
      "text/plain": [
       "dict_keys(['A', 'B', 'C'])"
      ]
     },
     "execution_count": 98,
     "metadata": {},
     "output_type": "execute_result"
    }
   ],
   "source": [
    "dic4 = {'A':1, 'B':2, 'C':3}\n",
    "dic4.keys()"
   ]
  },
  {
   "cell_type": "code",
   "execution_count": 99,
   "id": "fa8b9d41-9e85-4c0e-8026-4519ab8fbb96",
   "metadata": {
    "tags": []
   },
   "outputs": [
    {
     "data": {
      "text/plain": [
       "dict_values([1, 2, 3])"
      ]
     },
     "execution_count": 99,
     "metadata": {},
     "output_type": "execute_result"
    }
   ],
   "source": [
    "dic4.values()"
   ]
  },
  {
   "cell_type": "code",
   "execution_count": 100,
   "id": "f845ae83-4ad7-4777-a103-a116407e056f",
   "metadata": {
    "tags": []
   },
   "outputs": [
    {
     "data": {
      "text/plain": [
       "dict_items([('A', 1), ('B', 2), ('C', 3)])"
      ]
     },
     "execution_count": 100,
     "metadata": {},
     "output_type": "execute_result"
    }
   ],
   "source": [
    "dic4.items()"
   ]
  },
  {
   "cell_type": "code",
   "execution_count": 101,
   "id": "ee9ec7fd-e594-436b-8a9f-1dbd8656753e",
   "metadata": {
    "tags": []
   },
   "outputs": [
    {
     "data": {
      "text/plain": [
       "{'A': 1, 'B': 2, 'C': 3, 'D': 99}"
      ]
     },
     "execution_count": 101,
     "metadata": {},
     "output_type": "execute_result"
    }
   ],
   "source": [
    "dic4.update( {'D':99} )\n",
    "dic4"
   ]
  },
  {
   "cell_type": "code",
   "execution_count": null,
   "id": "a273eba9-196a-4003-a516-d5702fe5ea64",
   "metadata": {},
   "outputs": [],
   "source": []
  },
  {
   "cell_type": "markdown",
   "id": "b48ddadd-fbaf-406b-abce-4c2eccd839e5",
   "metadata": {},
   "source": [
    "#### 집합 (set)\n",
    "- 리스트와 같은 시퀀스형과 달리 순서가 없고 중복을 허용하지 않으며 불변한 객체 타입이므로 인덱싱이 불가하며 집합형 또한 iterable한 객체\n",
    "- 중괄호({})로 저장 가능\n",
    "- set() 함수를 통해 빈 집합(공집합) 생성과 집합으로 데이터 타입을 변환할 수 있음\n",
    "- 집합혀에서 가능한 연산은 교집합/합집합/차집합과 같은 집합 연산"
   ]
  },
  {
   "cell_type": "code",
   "execution_count": 102,
   "id": "936930fd-0675-4185-8d47-c801585e21bc",
   "metadata": {
    "tags": []
   },
   "outputs": [
    {
     "name": "stdout",
     "output_type": "stream",
     "text": [
      "{1, 2, 3, 4}\n",
      "{'A', 'D', 'T'}\n",
      "{}\n",
      "set()\n"
     ]
    }
   ],
   "source": [
    "set1 = {1, 2, 3, 4}\n",
    "set2 = {'D', 'A', 'T'}\n",
    "set3 = {}\n",
    "set4 = set()\n",
    "\n",
    "print(set1)\n",
    "print(set2)\n",
    "print(set3)\n",
    "print(set4)"
   ]
  },
  {
   "cell_type": "code",
   "execution_count": null,
   "id": "8b4c5ead-3ccc-4d9b-8231-9c49aafd7430",
   "metadata": {},
   "outputs": [],
   "source": []
  },
  {
   "cell_type": "markdown",
   "id": "d1a297d4-6488-42b6-9e08-c777e81060b1",
   "metadata": {},
   "source": [
    "#### 집합 타입의 메소드\n",
    "1. 집합.add(원소) : 집합에서 하나의 원소를 추가\n",
    "2. 집합.update(원소) : 집합에서 여러 개의 원소를 추가\n",
    "3. 집합1.union(집합2) : 집합1과 집합2의 합집합, 기호 | 로도 가능\n",
    "4. 집합1.intersection(집합2) : 집합1과 집합2의 교집합, 기호 & 로도 가능\n",
    "5. 집합1.difference(집합2) : 집합1과 집합2의 차집합, 기호 - 로도 가능"
   ]
  },
  {
   "cell_type": "code",
   "execution_count": 104,
   "id": "36781dc5-aac6-4a17-aca6-479aa69c00b9",
   "metadata": {
    "tags": []
   },
   "outputs": [
    {
     "name": "stdout",
     "output_type": "stream",
     "text": [
      "{2, 4, 5, 7, 8, 12}\n",
      "{10, 11, 4, 5}\n",
      "{2, 4, 5, 7, 8, 10, 11, 12}\n",
      "{4, 5}\n",
      "{8, 2, 12, 7}\n"
     ]
    }
   ],
   "source": [
    "set5 = {2, 4, 5, 7, 8}\n",
    "set6 = {4, 5}\n",
    "\n",
    "# add\n",
    "set5.add(12)\n",
    "print(set5)\n",
    "\n",
    "# update\n",
    "set6.update({10, 11})\n",
    "print(set6)\n",
    "\n",
    "# union\n",
    "print(set5.union(set6))\n",
    "\n",
    "# intersection\n",
    "print(set5.intersection(set6))\n",
    "\n",
    "# difference\n",
    "print(set5.difference(set6))"
   ]
  },
  {
   "cell_type": "code",
   "execution_count": null,
   "id": "f1f21a2e-f49b-4510-aa26-8ad52d80eb16",
   "metadata": {},
   "outputs": [],
   "source": []
  },
  {
   "cell_type": "markdown",
   "id": "ee247163-64f7-40ee-b80c-655012fc4bc5",
   "metadata": {},
   "source": [
    "#### 부울형 (Boolean)\n",
    "- 참과 거짓을 나타내는 데이터 타입으로 파이썬에서는 True와 False로 나타남\n",
    "- 논리 연산자나 비교 연산자의 결과 값에 대한 데이터 타입으로 사용됨\n",
    "- bool() 함수를 통해 모든 데이터 타입을 부울형으로 변환 가능\n",
    "- 숫자형은 0인 경우 False, 0이 아닌 경우 True\n",
    "- 문자열은 문자가 없는 경우 False, 1개 이상의 문자가 있으면 True 반환\n",
    "- 리스트/튜플/딕셔너리는 값이 없는 경우 False, 1개 이상의 값이 있으면 True 반환"
   ]
  },
  {
   "cell_type": "code",
   "execution_count": 105,
   "id": "53277636-c859-4992-a4c9-693f8f590fe3",
   "metadata": {
    "tags": []
   },
   "outputs": [
    {
     "name": "stdout",
     "output_type": "stream",
     "text": [
      "True False False\n",
      "True False\n",
      "True False\n",
      "True False\n",
      "True False\n",
      "True False\n"
     ]
    }
   ],
   "source": [
    "a = True\n",
    "b = False\n",
    "\n",
    "print(bool(1), bool(0), bool())\n",
    "print(bool('a'), bool(''))\n",
    "print(bool(['a', 'b']), bool([]))\n",
    "print(bool(('a', 'b')), bool(()))\n",
    "print(bool({'a':1}), bool({}))\n",
    "print(bool({1, 2}), bool(set()))"
   ]
  },
  {
   "cell_type": "code",
   "execution_count": null,
   "id": "69eac6f0-b6df-4e6b-8337-3fd625249ec1",
   "metadata": {},
   "outputs": [],
   "source": []
  },
  {
   "cell_type": "markdown",
   "id": "e21ee0a2-96d9-42b5-ba8b-279b975affcb",
   "metadata": {},
   "source": [
    "#### 데이터 타입 확인 (type())\n",
    "- type() 함수를 이용하면 데이터 타입 확인 가능"
   ]
  },
  {
   "cell_type": "code",
   "execution_count": 107,
   "id": "5cdf71d1-2bed-4d68-8d00-0be9c2635f95",
   "metadata": {
    "tags": []
   },
   "outputs": [
    {
     "name": "stdout",
     "output_type": "stream",
     "text": [
      "<class 'str'>\n",
      "<class 'list'>\n",
      "<class 'tuple'>\n",
      "<class 'range'>\n",
      "<class 'dict'>\n",
      "<class 'set'>\n",
      "<class 'bool'>\n"
     ]
    }
   ],
   "source": [
    "print(type(st))\n",
    "print(type(li))\n",
    "print(type(tu))\n",
    "print(type(ran))\n",
    "print(type(dic1))\n",
    "print(type(set1))\n",
    "print(type(a))"
   ]
  },
  {
   "cell_type": "code",
   "execution_count": null,
   "id": "9e05bb4f-83f7-4230-b263-7e2e4e759f0a",
   "metadata": {},
   "outputs": [],
   "source": []
  },
  {
   "cell_type": "markdown",
   "id": "d7094317-3a5d-4e3d-b9c5-c583d42d7fd9",
   "metadata": {},
   "source": [
    "### 4절: 사용자 정의 함수"
   ]
  },
  {
   "cell_type": "code",
   "execution_count": 108,
   "id": "121c07ce-6903-4ab5-8f7c-f75db073549f",
   "metadata": {
    "tags": []
   },
   "outputs": [
    {
     "data": {
      "text/plain": [
       "9"
      ]
     },
     "execution_count": 108,
     "metadata": {},
     "output_type": "execute_result"
    }
   ],
   "source": [
    "# 사용자 정의 함수 예시\n",
    "def fun1(num) :\n",
    "    return (num**2)\n",
    "\n",
    "fun1(3)"
   ]
  },
  {
   "cell_type": "code",
   "execution_count": 109,
   "id": "1954756b-c5fd-412f-8798-a9f90bafe058",
   "metadata": {
    "tags": []
   },
   "outputs": [
    {
     "name": "stdout",
     "output_type": "stream",
     "text": [
      "합계:  20\n"
     ]
    }
   ],
   "source": [
    "def fun2(*args) :\n",
    "    x = sum(*args)\n",
    "    print(\"합계: \", x)\n",
    "    \n",
    "fun2([2, 3, 4, 5, 6])"
   ]
  },
  {
   "cell_type": "code",
   "execution_count": 110,
   "id": "a55da143-b7b4-4223-ad0b-2d4ead0e58ba",
   "metadata": {
    "tags": []
   },
   "outputs": [
    {
     "name": "stdout",
     "output_type": "stream",
     "text": [
      "4\n",
      "5\n",
      "4 + 5 = 9\n"
     ]
    }
   ],
   "source": [
    "def fun3(x, y) :\n",
    "    print(x)\n",
    "    print(y)\n",
    "    def fun4(*fun3) : \n",
    "        sum = x + y\n",
    "        print(x, \"+\", y, \"=\", sum)\n",
    "    fun4(x, y)\n",
    "\n",
    "fun3(4, 5)"
   ]
  },
  {
   "cell_type": "code",
   "execution_count": null,
   "id": "97ad725d-e6f8-46d9-b2fb-5773784ba734",
   "metadata": {},
   "outputs": [],
   "source": []
  },
  {
   "cell_type": "markdown",
   "id": "74ac4fef-91e7-4a9b-8a99-0162120efd2d",
   "metadata": {},
   "source": [
    "### 5절 제어문\n",
    "#### 조건문"
   ]
  },
  {
   "cell_type": "code",
   "execution_count": 111,
   "id": "f5432fe6-3185-4fff-828f-88baf2b350a8",
   "metadata": {
    "tags": []
   },
   "outputs": [
    {
     "name": "stdout",
     "output_type": "stream",
     "text": [
      "X는 홀수\n"
     ]
    }
   ],
   "source": [
    "x = 9\n",
    "if x % 2 == 0 :\n",
    "    print(\"X는 짝수\")\n",
    "elif x % 2 == 1 :\n",
    "    print(\"X는 홀수\")\n",
    "else:\n",
    "    (\"정수를 입력해주세요\")"
   ]
  },
  {
   "cell_type": "code",
   "execution_count": null,
   "id": "f7c6592f-8194-409f-9480-bfe89af5a84f",
   "metadata": {},
   "outputs": [],
   "source": []
  },
  {
   "cell_type": "markdown",
   "id": "d0ed7308-282a-4d0f-9fed-a2213aab36c8",
   "metadata": {},
   "source": [
    "#### 반복문"
   ]
  },
  {
   "cell_type": "code",
   "execution_count": 113,
   "id": "b6433adf-442b-4e54-8a45-8a042739c291",
   "metadata": {
    "tags": []
   },
   "outputs": [
    {
     "name": "stdout",
     "output_type": "stream",
     "text": [
      "The year is  2020\n",
      "The year is  2021\n",
      "The year is  2022\n",
      "The year is  2023\n",
      "The year is  2024\n"
     ]
    }
   ],
   "source": [
    "for year in range(2020, 2025) :\n",
    "    print(\"The year is \", year)"
   ]
  },
  {
   "cell_type": "code",
   "execution_count": null,
   "id": "73d3584c-7a33-412b-af27-766b84e00e21",
   "metadata": {},
   "outputs": [],
   "source": []
  },
  {
   "cell_type": "markdown",
   "id": "17319b1c-6c83-41ce-bb68-354ded1ff912",
   "metadata": {},
   "source": [
    "#### while"
   ]
  },
  {
   "cell_type": "code",
   "execution_count": 114,
   "id": "ad4d4ea9-7cfb-4a1f-a4ea-35a4172661bb",
   "metadata": {
    "tags": []
   },
   "outputs": [
    {
     "name": "stdout",
     "output_type": "stream",
     "text": [
      "The year is  2020\n",
      "The year is  2021\n",
      "The year is  2022\n",
      "The year is  2023\n",
      "The year is  2024\n",
      "The year is  2025\n"
     ]
    }
   ],
   "source": [
    "year = 2020\n",
    "while year <= 2025 : \n",
    "    print(\"The year is \", year)\n",
    "    year = year + 1"
   ]
  },
  {
   "cell_type": "code",
   "execution_count": null,
   "id": "4ae621b8-43bf-4146-85db-ebfadc1c847e",
   "metadata": {},
   "outputs": [],
   "source": []
  }
 ],
 "metadata": {
  "kernelspec": {
   "display_name": "Python 3 (ipykernel)",
   "language": "python",
   "name": "python3"
  },
  "language_info": {
   "codemirror_mode": {
    "name": "ipython",
    "version": 3
   },
   "file_extension": ".py",
   "mimetype": "text/x-python",
   "name": "python",
   "nbconvert_exporter": "python",
   "pygments_lexer": "ipython3",
   "version": "3.11.5"
  }
 },
 "nbformat": 4,
 "nbformat_minor": 5
}
