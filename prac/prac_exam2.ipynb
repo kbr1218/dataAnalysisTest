{
 "cells": [
  {
   "cell_type": "markdown",
   "id": "3b6e8198-bc75-446e-a324-e0a52b4150f5",
   "metadata": {
    "tags": []
   },
   "source": [
    "## 모의고사 2회\n",
    "\n",
    "### 작업형 제 1유형"
   ]
  },
  {
   "cell_type": "markdown",
   "id": "0bc39207-b14b-472e-aa95-9f99e926e1c5",
   "metadata": {},
   "source": [
    "#### 01."
   ]
  },
  {
   "cell_type": "code",
   "execution_count": 28,
   "id": "ac36e4b7-f0da-44ea-9a41-f362ad69ca9f",
   "metadata": {
    "tags": []
   },
   "outputs": [
    {
     "name": "stdout",
     "output_type": "stream",
     "text": [
      "33\n"
     ]
    }
   ],
   "source": [
    "import pandas as pd\n",
    "import numpy as np\n",
    "\n",
    "pd.set_option('display.max_columns', None)\n",
    "pd.set_option('display.max_rows', None)\n",
    "\n",
    "### 00. 데이터 가져오기\n",
    "df1 = pd.read_csv('../data/모의고사/02회/USArrests.csv', encoding = 'cp949')\n",
    "# print(df1.head())\n",
    "\n",
    "### 01. 필요한 칼럼만 저장\n",
    "df1 = df1[ ['Murder', 'Assault', 'UrbanPop'] ].copy()\n",
    "# print(df1.shape)                     # (50, 3)\n",
    "# print(df1.describe())\n",
    "# print(df1.head())\n",
    "\n",
    "### 02. UrbanPop 컬럼이 60 이상인 레코드만 남기기\n",
    "urban60 = df1[ df1['UrbanPop'] >= 60 ]\n",
    "# print(urban60.shape)                 # (33, 3)\n",
    "# print(urban60.describe())            # describe()의 min값으로 60이상인 값만 남겨졌는지 확인\n",
    "\n",
    "### 03. Assault / (Murder + Assault) >= 0.05\n",
    "over005 = urban60[ ( urban60['Assault'] / (urban60['Murder']+urban60['Assault']) ) >= 0.05 ]\n",
    "# print(over005.shape)                   # (33, 3)\n",
    "\n",
    "# 그냥 계산 먼저\n",
    "cal = urban60['Assault'] / (urban60['Murder']+urban60['Assault'])\n",
    "result1 = len(cal >= 0.05)\n",
    "print(result1)"
   ]
  },
  {
   "cell_type": "markdown",
   "id": "ad491398-12b9-4cd3-a248-43328bf2b6a9",
   "metadata": {},
   "source": [
    "#### 02."
   ]
  },
  {
   "cell_type": "code",
   "execution_count": 98,
   "id": "7ffb8b3f-83a6-46af-9c23-4b966b248c29",
   "metadata": {
    "tags": []
   },
   "outputs": [
    {
     "name": "stdout",
     "output_type": "stream",
     "text": [
      "-0.453\n"
     ]
    }
   ],
   "source": [
    "import pandas as pd\n",
    "import numpy as np\n",
    "\n",
    "pd.set_option('display.max_columns', None)\n",
    "pd.set_option('display.max_rows', None)\n",
    "\n",
    "### 00. 데이터 가져오기\n",
    "df2 = pd.read_csv('../data/모의고사/02회/swiss.csv', encoding = 'cp949')\n",
    "# print(df2.shape)\n",
    "# print(df2.head())\n",
    "\n",
    "### 01. 필요한 칼럼만 저장\n",
    "df2 = df2['Fertility']\n",
    "# print(df2.head())\n",
    "\n",
    "### 02. 내림차순으로 정렬\n",
    "descend = df2.sort_values(ascending=False, ignore_index = True)\n",
    "# print(descend)\n",
    "# print(descend.shape)\n",
    "idx = np.arange(1, 48)\n",
    "\n",
    "# 홀수\n",
    "odd = (idx % 2 == 1)\n",
    "# 짝수\n",
    "even = (idx % 2 == 0)\n",
    "\n",
    "### 03. 홀수번째 레코드 평균 - 짝수번째 레코드 평균\n",
    "diff = descend[odd].mean() - descend[even].mean()\n",
    "result2 = round(diff, 3)\n",
    "print(result2)"
   ]
  },
  {
   "cell_type": "markdown",
   "id": "182018e8-e082-4408-afba-2e4090ad7658",
   "metadata": {},
   "source": [
    "#### 03. "
   ]
  },
  {
   "cell_type": "code",
   "execution_count": 99,
   "id": "aa523881-603e-40a0-903f-84dd1b1b6c5b",
   "metadata": {
    "tags": []
   },
   "outputs": [
    {
     "name": "stdout",
     "output_type": "stream",
     "text": [
      "24\n"
     ]
    }
   ],
   "source": [
    "import pandas as pd\n",
    "import numpy as np\n",
    "\n",
    "pd.set_option('display.max_columns', None)\n",
    "pd.set_option('display.max_rows', None)\n",
    "\n",
    "### 00. 데이터 가져오기\n",
    "df3 = pd.read_csv('../data/모의고사/02회/CO2.csv', encoding = 'cp949')\n",
    "# print(df3.head())\n",
    "# print(df3.shape)      # (84, 4)\n",
    "\n",
    "### 01. 필요한 컬럼만 저장\n",
    "df3 = df3[ ['Type', 'conc'] ]\n",
    "\n",
    "### 02. Type의 Value_counts 확인\n",
    "# print(df3['Type'].value_counts())\n",
    "\n",
    "### 03. Mississi/ppi, Mis/sissippi에서 '/' 문자 삭제\n",
    "df3['Type'] = df3['Type'].str.replace('/', '')\n",
    "# print(df3['Type'].value_counts())\n",
    "\n",
    "### 04. conc 칼럼을 str로 변경\n",
    "df3['conc'] = df3['conc'].astype('str')\n",
    "# print(df3.info())\n",
    "\n",
    "### 05. 조건에 맞는 레코드만 가져오기\n",
    "filtered_df3 = df3[ (df3['Type'] == 'Mississippi') & ( (df3['conc'].str[-1] == '5') | (df3['conc'].str[-3] == '5') ) ]\n",
    "\n",
    "### 06. 개수 구하기\n",
    "result3 = len(filtered_df3)\n",
    "print(result3)"
   ]
  },
  {
   "cell_type": "markdown",
   "id": "e055b9d7-107e-42bb-8ce5-de3482dd8bad",
   "metadata": {},
   "source": [
    "### 작업형 제 1유형\n",
    "#### 01."
   ]
  },
  {
   "cell_type": "code",
   "execution_count": 160,
   "id": "a10822bf-d337-4a54-818e-3fc1f439924f",
   "metadata": {
    "tags": []
   },
   "outputs": [
    {
     "name": "stdout",
     "output_type": "stream",
     "text": [
      "\n",
      "----------------------------------------------데이터 형식/기초통계량 확인\n",
      "\n",
      "----------------------------------------------컬럼 삭제\n",
      "\n",
      "----------------------------------------------결측치 확인\n",
      "\n",
      "----------------------------------------------유일값 확인\n",
      "\n",
      "----------------------------------------------Occupation/Marital_Status을 object로 바꾸기\n",
      "\n",
      "----------------------------------------------데이터 분할\n",
      "\n",
      "----------------------------------------------원핫인코딩\n",
      "\n",
      "----------------------------------------------모델학습\n",
      "\n",
      "----------------------------------------------MAE 평가지표로 확인\n",
      "4200.459931569776\n",
      "0.8249453357921529\n"
     ]
    }
   ],
   "source": [
    "import pandas as pd\n",
    "import numpy as np\n",
    "import warnings\n",
    "\n",
    "pd.set_option('display.max_rows', None)\n",
    "pd.set_option('display.max_columns', None)\n",
    "\n",
    "warnings.filterwarnings(action = 'ignore')\n",
    "\n",
    "### 00. 데이터 가져오기\n",
    "X_train = pd.read_csv('../data/모의고사/02회/BlackFriday_X_train.csv', encoding = 'cp949')   # 구매자 주요 속성 (학습용)\n",
    "X_test = pd.read_csv('../data/모의고사/02회/BlackFriday_X_test.csv', encoding = 'cp949')     # 구매자 주요 속성 (평가용)\n",
    "y_train = pd.read_csv('../data/모의고사/02회/BlackFriday_y_train.csv', encoding = 'cp949')   # 구매자의 구매금액 데이터 (학습용)\n",
    "\n",
    "### 01. 데이터 형식 및 기초통계량 확인\n",
    "print(\"\\n----------------------------------------------데이터 형식/기초통계량 확인\")\n",
    "# print(\"\\nX_train의 shape: \", X_train.shape)       # (3900, 11)\n",
    "# print(\"\\n\", X_train.info())\n",
    "# print(\"\\nX_train의 head: \\n\", X_train.head())\n",
    "\n",
    "# print(\"\\nX_test의 shape: \", X_test.shape)        # (2600, 11)\n",
    "# print(\"\\n\", X_test.info())\n",
    "# print(\"\\nX_test의 head: \\n\", X_test.head())\n",
    "\n",
    "# print(\"\\ny_train의 shape: \", y_train.shape)      # (3900, 2)\n",
    "# print(\"\\n\", y_train.info())\n",
    "# print(\"\\ny_train의 head: \\n\", y_train.head())\n",
    "\n",
    "# X_test의 User_ID는 따로 저장, Product_ID는 삭제, Gender/Age/City_Category/Marital_Status는 인코딩, Occupation은 object로 변경\n",
    "# 도시에 체류하는 년수는 나중에 생각\n",
    "\n",
    "### 02. User_ID는 따로 저장 후 컬럼 삭제\n",
    "print(\"\\n----------------------------------------------컬럼 삭제\")\n",
    "User_ID = X_test['User_ID'].copy()\n",
    "y_train = y_train.drop(columns = 'User_ID', axis = 1)\n",
    "\n",
    "### 03. User_ID, Product_ID, Product_Category_1, Product_Category_2, Product_Category_3 칼럼 삭제\n",
    "col_del = ['User_ID', 'Product_ID', 'Product_Category_1', 'Product_Category_2', 'Product_Category_3']\n",
    "X_train = X_train.drop(columns = col_del, axis = 1)\n",
    "X_test = X_test.drop(columns = col_del, axis = 1)\n",
    "\n",
    "# 추가 삭제\n",
    "# X_train = X_train.drop(columns = 'Stay_In_Current_City_Years', axis = 1)\n",
    "# X_test = X_test.drop(columns = 'Stay_In_Current_City_Years', axis = 1)\n",
    "\n",
    "# 삭제 후 shape 확인\n",
    "# print(\"\\nX_train의 shape: \", X_train.shape)       # (3900, 6)\n",
    "# print(\"\\n\", X_train.info())\n",
    "\n",
    "### 03. 결측치 확인\n",
    "print(\"\\n----------------------------------------------결측치 확인\")\n",
    "# print(\"\\nX_train의 결측치: \\n\", X_train.isnull().sum())\n",
    "# print(\"\\nX_test의 결측치: \\n\", X_test.isnull().sum())\n",
    "# print(\"\\ny_train의 결측치: \\n\", y_train.isnull().sum())  # 일단 없다고 뜸\n",
    "\n",
    "### 04. 각 칼럼의 유일값 확인\n",
    "print(\"\\n----------------------------------------------유일값 확인\")\n",
    "# print(\"\\nGender의 유일값: \\n\", X_train['Gender'].value_counts())                # M 2930, F 970\n",
    "# print(\"\\nAge의 유일값: \\n\", X_train['Age'].value_counts())                      # 26-35 1606, 36-45 750, 18-25 721, 46-50 318, 51-55 254, 55+ 164, 0-17 87\n",
    "\n",
    "# print(\"\\nOccupation의 유일값: \\n\", X_train['Occupation'].value_counts())                                      # 21개의 카테고리\n",
    "# print(len(X_train['Occupation'].value_counts()))\n",
    "\n",
    "# print(\"\\nCity_Category의 유일값: \\n\", X_train['City_Category'].value_counts())                                # B 1661, C 1150, A 1089\n",
    "# print(\"\\nStay_In_Current_City_Years의 유일값: \\n\", X_train['Stay_In_Current_City_Years'].value_counts())      # 1 1398, 2 736, 3 640, 4+ 597, 0 529\n",
    "# print(\"\\nMarital_Status의 유일값: \\n\", X_train['Marital_Status'].value_counts())                              # 0    2262, 1    1638\n",
    "\n",
    "# 라벨을 숫자로 변경\n",
    "X_train['Gender'] = X_train['Gender'].map( {'M':0, 'F':1})\n",
    "X_test['Gender'] = X_test['Gender'].map( {'M':0, 'F':1})\n",
    "\n",
    "X_train['Age'] = X_train['Age'].map( {'0-17':0, '18-25':1, '26-35':2, '36-45':3, '46-50':4, '51-55':5, '55+':6})\n",
    "X_test['Age'] = X_test['Age'].map( {'0-17':0, '18-25':1, '26-35':2, '36-45':3, '46-50':4, '51-55':5, '55+':6})\n",
    "\n",
    "\n",
    "X_train['City_Category'] = X_train['City_Category'].map( {'A':0, 'B':1, 'C':2})\n",
    "X_test['City_Category'] = X_test['City_Category'].map( {'A':0, 'B':1, 'C':2})\n",
    "\n",
    "X_train['Stay_In_Current_City_Years'] = X_train['Stay_In_Current_City_Years'].map( {'0':0, '1':1, '2':2, '3':3, '4+':4})\n",
    "X_test['Stay_In_Current_City_Years'] = X_test['Stay_In_Current_City_Years'].map( {'0':0, '1':1, '2':2, '3':3, '4+':4})\n",
    "\n",
    "\n",
    "### 05. dtype 변경\n",
    "print(\"\\n----------------------------------------------Occupation/Marital_Status을 object로 바꾸기\")\n",
    "X_train[['Occupation', 'Marital_Status']] = X_train[['Occupation', 'Marital_Status']].astype('str')\n",
    "X_test[['Occupation', 'Marital_Status']] = X_test[['Occupation', 'Marital_Status']].astype('str')\n",
    "# print(\"\\n\", X_train.info())\n",
    "\n",
    "### 06. 데이터 분할\n",
    "print(\"\\n----------------------------------------------데이터 분할\")\n",
    "from sklearn.model_selection import train_test_split\n",
    "X_TRAIN, X_VAL, y_TRAIN, y_VAL = train_test_split(X_train,\n",
    "                                                  y_train,\n",
    "                                                  random_state = 1234,\n",
    "                                                  test_size = 0.3)\n",
    "\n",
    "# print(\"\\nX_TRAIN의 shape: \", X_TRAIN.shape)       # (2730, 6)\n",
    "# print(\"\\nX_VAL의 shape: \", X_VAL.shape)           # (1170, 6)\n",
    "# print(\"\\ny_TRAIN의 shape: \", y_TRAIN.shape)       # (2730, 2)\n",
    "# print(\"\\ny_VAL의 shape: \", y_VAL.shape)           # (1170, 2)\n",
    "\n",
    "\n",
    "### 07. 원핫인코딩\n",
    "print(\"\\n----------------------------------------------원핫인코딩\")\n",
    "from sklearn.preprocessing import OneHotEncoder\n",
    "# 다 명목형이므로 object df를 따로 나눌 필요 없음\n",
    "encoder = OneHotEncoder(handle_unknown='ignore', sparse=False).fit(X_TRAIN)\n",
    "\n",
    "X_TRAIN_oh = encoder.transform(X_TRAIN)\n",
    "X_VAL_oh = encoder.transform(X_VAL)\n",
    "X_test_oh = encoder.transform(X_test)\n",
    "\n",
    "# 연속형 변수가 없으므로 스케일링 생략\n",
    "\n",
    "\n",
    "### 08. 입력 데이터셋 준비\n",
    "y_TRAIN = y_TRAIN.values.ravel()\n",
    "y_VAL = y_VAL.values.ravel()\n",
    "\n",
    "\n",
    "### 09.모델학습 (랜덤포레스트)\n",
    "print(\"\\n----------------------------------------------모델학습\")\n",
    "from sklearn.ensemble import RandomForestRegressor\n",
    "rf = RandomForestRegressor(n_estimators = 500,\n",
    "                           max_depth = 3,\n",
    "                           min_samples_leaf = 10,\n",
    "                           max_features = 50,\n",
    "                           random_state = 1234)\n",
    "model_rf = rf.fit(X_TRAIN, y_TRAIN)\n",
    "\n",
    "\n",
    "### 10. VALIDATION으로 평가\n",
    "print(\"\\n----------------------------------------------MAE 평가지표로 확인\")\n",
    "from sklearn.metrics import mean_absolute_error\n",
    "y_score = model_rf.predict(X_VAL)\n",
    "\n",
    "mae = mean_absolute_error(y_VAL, y_score)\n",
    "print(mae)  # 4200.459931569776\n",
    "\n",
    "# MAE로는 잘 모르니 MAPE로도 확인\n",
    "from sklearn.metrics import mean_absolute_percentage_error\n",
    "mape = mean_absolute_percentage_error(y_VAL, y_score)\n",
    "print(mape) # >> 0.8249453357921529 \n",
    "\n",
    "# 에러가 높은 거 같아서 Stay_In_Current_City_Years 칼럼 없애고 다시 테스트 해보겠음\n",
    "# print(X_train.head())\n",
    "# MAE: 4201.337911616484\n",
    "# MAPE: 0.8251486098892523\n",
    "# >> 별로 달라진 거 없어서 걍 냅두기\n",
    "\n",
    "### 11. 데이터 저장\n",
    "obj = {'Purchase': y_score}\n",
    "result = pd.DataFrame(obj)\n",
    "result.to_csv('모의고사02회_2유형_결과.csv', index=False)"
   ]
  },
  {
   "cell_type": "markdown",
   "id": "3e0a2f6d-4620-4ee7-9ae7-3e28a7edbe3d",
   "metadata": {
    "tags": []
   },
   "source": [
    "### 작업형 제 3유형\n",
    "#### 01."
   ]
  },
  {
   "cell_type": "code",
   "execution_count": 185,
   "id": "3c0f0a29-a907-4c11-9db2-045164b958e6",
   "metadata": {
    "tags": []
   },
   "outputs": [
    {
     "name": "stdout",
     "output_type": "stream",
     "text": [
      "87\n",
      "10\n",
      "0.0404\n",
      "기각\n"
     ]
    }
   ],
   "source": [
    "import pandas as pd\n",
    "import numpy as np\n",
    "\n",
    "## 00. 데이터 가져오기\n",
    "df1 = pd.read_csv('../data/모의고사/02회/survey.csv', encoding='cp949')\n",
    "# print(df1.shape)         # (1000, 5)\n",
    "# print(df1.head())\n",
    "# print(df1.info())\n",
    "\n",
    "## 01. 필요한 컬럼만 저장\n",
    "df1 = df1[ ['성별', '1번문항'] ]\n",
    "# print(df1.shape)         # (1000, 2)\n",
    "\n",
    "# print(df1['1번문항'].value_counts())\n",
    "# 매우 잘 알고 있다. 435, 잘 알고 있다. 341, 보통이다. 174, 잘 모르고 있다. 46, 매우 잘 모르고 있다. 4\n",
    "# print(df1)\n",
    "\n",
    "### 02. 교차표 생성\n",
    "tb = pd.crosstab(df1['성별'], df1['1번문항'])\n",
    "# print(tb)\n",
    "\n",
    "from scipy.stats import chi2_contingency\n",
    "\n",
    "chi, pvalue, dof, expected = chi2_contingency(tb)\n",
    "# print(chi2_contingency(tb))\n",
    "\n",
    "### (a) 남자가 보통이다 라고 응답할 기대도수 \n",
    "result1_1 = expected[0, 2].astype('int')\n",
    "print(result1_1)\n",
    "\n",
    "### (b) 검정통계량 구하기\n",
    "result1_2 = int(chi)\n",
    "print(result1_2)\n",
    "\n",
    "### (c) p-value(소수 넷째자리까지)를 구하고 유의수준 0.05 하에서 채택/기각 중 하나 출력\n",
    "result1_3 = round(pvalue, 4)\n",
    "print(result1_3)\n",
    "print('기각')"
   ]
  },
  {
   "cell_type": "markdown",
   "id": "23df27cf-e691-4107-8885-9526a919de7a",
   "metadata": {},
   "source": [
    "#### 02."
   ]
  },
  {
   "cell_type": "code",
   "execution_count": 207,
   "id": "873addfa-ad6a-4f00-a16c-7887a379b7b7",
   "metadata": {
    "tags": []
   },
   "outputs": [
    {
     "name": "stdout",
     "output_type": "stream",
     "text": [
      "2.63\n",
      "2.29\n",
      "0.253\n",
      "채택\n"
     ]
    }
   ],
   "source": [
    "import pandas as pd\n",
    "import numpy as np\n",
    "\n",
    "### 00. 데이터 가져오기\n",
    "df2 = pd.read_csv('../data/모의고사/02회/Cars93.csv', encoding = 'cp949')\n",
    "# print(df2.shape)\n",
    "# print(df2.info())\n",
    "# print(df2.head())\n",
    "\n",
    "### 01. 필요한 칼럼만 저장\n",
    "df2 = df2[ ['Origin', 'Max_Price'] ]\n",
    "# print(df2.shape)\n",
    "# print(df2.info())\n",
    "# print(df2.head())\n",
    "\n",
    "### 02. \n",
    "# print(df2['Origin'].value_counts())\n",
    "\n",
    "# 미국 본토가 아닌 회사\n",
    "# 그 전에 PRice만 따로 저장\n",
    "nonUS_price = nonUS['Max_Price'].reset_index(drop = True)\n",
    "US_price = US['Max_Price'].reset_index(drop = True)\n",
    "\n",
    "\n",
    "### (a) nonUS의 Max_Price 평균에서 US인 경우의 평균 빼기 (소수 둘째자리까지)\n",
    "nonUS_mean = nonUS_price.mean()\n",
    "US_mean = US_price.mean()\n",
    "\n",
    "diff = nonUS_mean - US_mean\n",
    "result1 = round(diff, 2)\n",
    "print(result1)\n",
    "\n",
    "\n",
    "### (b) (a)에 대한 표준오차 (소수 둘째자리까지)\n",
    "# t-검정 (모분산 동일X)\n",
    "from scipy.stats import ttest_ind\n",
    "\n",
    "ttest = ttest_ind(nonUS_price, US_price, equal_var = True, alternative='two-sided')\n",
    "# print(ttest)  # statistic=1.1504227111494065, pvalue=0.2529839599596289, df=91.0\n",
    "\n",
    "# (b) 검정통계량 = 점추정량/표준오차 >> 표준오차 = 점추정량/검정통계량\n",
    "standardError = result1 / ttest[0]\n",
    "result2 = round(standardError, 2)\n",
    "print(result2)\n",
    "\n",
    "# (c) p-value(소수 넷째자리까지), 가설검정 결과\n",
    "pvalue = ttest[1]\n",
    "result3 = round(pvalue, 4)\n",
    "print(result3)\n",
    "print('채택')"
   ]
  }
 ],
 "metadata": {
  "kernelspec": {
   "display_name": "Python 3 (ipykernel)",
   "language": "python",
   "name": "python3"
  },
  "language_info": {
   "codemirror_mode": {
    "name": "ipython",
    "version": 3
   },
   "file_extension": ".py",
   "mimetype": "text/x-python",
   "name": "python",
   "nbconvert_exporter": "python",
   "pygments_lexer": "ipython3",
   "version": "3.11.5"
  }
 },
 "nbformat": 4,
 "nbformat_minor": 5
}
