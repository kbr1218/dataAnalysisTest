{
 "cells": [
  {
   "cell_type": "markdown",
   "id": "fd98de9b-2b20-403c-8372-ae3591156f83",
   "metadata": {},
   "source": [
    "## Part 03 통계분석 - 1장 가설 검정\n",
    "### 1절: 상관분석\n",
    "\n",
    "#### **상관분석**\n",
    "- 파이썬에서 두 데이터 간 상관관계를 산출하고 피어슨 상관계수(Pearson Correlation Coefficient)에 대한 가설 검정을 수행하기 위해서는 사이파이(SciPy) 패키지의 stats 서브패키지를 호출한 후 stats에서 제공하는 ```pearsonr``` 함수 사용\n",
    "- 상관계수에 대한 귀무가설: **두 변수 간의 상관계수는 0 (즉, 상관관계가 없음)**\n",
    "- 피어슨 상관계수를 구하는 함수는 결괏값으로 **피어슨 상관계수와 p-value**를 반환함\n",
    "- 참고) 상관분석을 진행하는 데이터가 **정규분포를 따르지 않을 경우나 순위 데이터일 경우**: 비모수적인 방법인 **스피어만 상관계수 검정**과 **켄달의 타우 검정**을 사용해야 함\n",
    "\n",
    "- ```scipy.stats.pearsonr(x, y)```\n",
    "    - **x** : 1차원 데이터 (리스트, 배열, 시리즈 등)\n",
    "    - **y** : 1차원 데이터 (리스트, 배열, 시리즈 등)"
   ]
  },
  {
   "cell_type": "markdown",
   "id": "085e10b6-5ade-4b82-8a47-cc79cb2a06b1",
   "metadata": {},
   "source": [
    "#### Q.\n",
    "사이킷런 패키지로부터 내장 데이터 diabetes를 데이터프레임 형태로 호출하고, ```age```와 ```bmi``` 두 개의 컬럼에 대하여 두 데이터가 상관관계가 있는지 피어슨 상관계수를 이용해 분석 (정규성을 만족한다고 가정함)"
   ]
  },
  {
   "cell_type": "code",
   "execution_count": 1,
   "id": "85e7fdfc-9d15-4875-ac6c-52a9374b1ea8",
   "metadata": {
    "tags": []
   },
   "outputs": [],
   "source": [
    "# 패키지 불러오기\n",
    "import pandas as pd\n",
    "from sklearn.datasets import load_diabetes"
   ]
  },
  {
   "cell_type": "code",
   "execution_count": 2,
   "id": "ba6b7a0a-3307-4a0e-a274-bbd5eb756991",
   "metadata": {
    "tags": []
   },
   "outputs": [
    {
     "data": {
      "text/plain": [
       "{'data': array([[ 0.03807591,  0.05068012,  0.06169621, ..., -0.00259226,\n",
       "          0.01990749, -0.01764613],\n",
       "        [-0.00188202, -0.04464164, -0.05147406, ..., -0.03949338,\n",
       "         -0.06833155, -0.09220405],\n",
       "        [ 0.08529891,  0.05068012,  0.04445121, ..., -0.00259226,\n",
       "          0.00286131, -0.02593034],\n",
       "        ...,\n",
       "        [ 0.04170844,  0.05068012, -0.01590626, ..., -0.01107952,\n",
       "         -0.04688253,  0.01549073],\n",
       "        [-0.04547248, -0.04464164,  0.03906215, ...,  0.02655962,\n",
       "          0.04452873, -0.02593034],\n",
       "        [-0.04547248, -0.04464164, -0.0730303 , ..., -0.03949338,\n",
       "         -0.00422151,  0.00306441]]),\n",
       " 'target': array([151.,  75., 141., 206., 135.,  97., 138.,  63., 110., 310., 101.,\n",
       "         69., 179., 185., 118., 171., 166., 144.,  97., 168.,  68.,  49.,\n",
       "         68., 245., 184., 202., 137.,  85., 131., 283., 129.,  59., 341.,\n",
       "         87.,  65., 102., 265., 276., 252.,  90., 100.,  55.,  61.,  92.,\n",
       "        259.,  53., 190., 142.,  75., 142., 155., 225.,  59., 104., 182.,\n",
       "        128.,  52.,  37., 170., 170.,  61., 144.,  52., 128.,  71., 163.,\n",
       "        150.,  97., 160., 178.,  48., 270., 202., 111.,  85.,  42., 170.,\n",
       "        200., 252., 113., 143.,  51.,  52., 210.,  65., 141.,  55., 134.,\n",
       "         42., 111.,  98., 164.,  48.,  96.,  90., 162., 150., 279.,  92.,\n",
       "         83., 128., 102., 302., 198.,  95.,  53., 134., 144., 232.,  81.,\n",
       "        104.,  59., 246., 297., 258., 229., 275., 281., 179., 200., 200.,\n",
       "        173., 180.,  84., 121., 161.,  99., 109., 115., 268., 274., 158.,\n",
       "        107.,  83., 103., 272.,  85., 280., 336., 281., 118., 317., 235.,\n",
       "         60., 174., 259., 178., 128.,  96., 126., 288.,  88., 292.,  71.,\n",
       "        197., 186.,  25.,  84.,  96., 195.,  53., 217., 172., 131., 214.,\n",
       "         59.,  70., 220., 268., 152.,  47.,  74., 295., 101., 151., 127.,\n",
       "        237., 225.,  81., 151., 107.,  64., 138., 185., 265., 101., 137.,\n",
       "        143., 141.,  79., 292., 178.,  91., 116.,  86., 122.,  72., 129.,\n",
       "        142.,  90., 158.,  39., 196., 222., 277.,  99., 196., 202., 155.,\n",
       "         77., 191.,  70.,  73.,  49.,  65., 263., 248., 296., 214., 185.,\n",
       "         78.,  93., 252., 150.,  77., 208.,  77., 108., 160.,  53., 220.,\n",
       "        154., 259.,  90., 246., 124.,  67.,  72., 257., 262., 275., 177.,\n",
       "         71.,  47., 187., 125.,  78.,  51., 258., 215., 303., 243.,  91.,\n",
       "        150., 310., 153., 346.,  63.,  89.,  50.,  39., 103., 308., 116.,\n",
       "        145.,  74.,  45., 115., 264.,  87., 202., 127., 182., 241.,  66.,\n",
       "         94., 283.,  64., 102., 200., 265.,  94., 230., 181., 156., 233.,\n",
       "         60., 219.,  80.,  68., 332., 248.,  84., 200.,  55.,  85.,  89.,\n",
       "         31., 129.,  83., 275.,  65., 198., 236., 253., 124.,  44., 172.,\n",
       "        114., 142., 109., 180., 144., 163., 147.,  97., 220., 190., 109.,\n",
       "        191., 122., 230., 242., 248., 249., 192., 131., 237.,  78., 135.,\n",
       "        244., 199., 270., 164.,  72.,  96., 306.,  91., 214.,  95., 216.,\n",
       "        263., 178., 113., 200., 139., 139.,  88., 148.,  88., 243.,  71.,\n",
       "         77., 109., 272.,  60.,  54., 221.,  90., 311., 281., 182., 321.,\n",
       "         58., 262., 206., 233., 242., 123., 167.,  63., 197.,  71., 168.,\n",
       "        140., 217., 121., 235., 245.,  40.,  52., 104., 132.,  88.,  69.,\n",
       "        219.,  72., 201., 110.,  51., 277.,  63., 118.,  69., 273., 258.,\n",
       "         43., 198., 242., 232., 175.,  93., 168., 275., 293., 281.,  72.,\n",
       "        140., 189., 181., 209., 136., 261., 113., 131., 174., 257.,  55.,\n",
       "         84.,  42., 146., 212., 233.,  91., 111., 152., 120.,  67., 310.,\n",
       "         94., 183.,  66., 173.,  72.,  49.,  64.,  48., 178., 104., 132.,\n",
       "        220.,  57.]),\n",
       " 'frame': None,\n",
       " 'DESCR': '.. _diabetes_dataset:\\n\\nDiabetes dataset\\n----------------\\n\\nTen baseline variables, age, sex, body mass index, average blood\\npressure, and six blood serum measurements were obtained for each of n =\\n442 diabetes patients, as well as the response of interest, a\\nquantitative measure of disease progression one year after baseline.\\n\\n**Data Set Characteristics:**\\n\\n  :Number of Instances: 442\\n\\n  :Number of Attributes: First 10 columns are numeric predictive values\\n\\n  :Target: Column 11 is a quantitative measure of disease progression one year after baseline\\n\\n  :Attribute Information:\\n      - age     age in years\\n      - sex\\n      - bmi     body mass index\\n      - bp      average blood pressure\\n      - s1      tc, total serum cholesterol\\n      - s2      ldl, low-density lipoproteins\\n      - s3      hdl, high-density lipoproteins\\n      - s4      tch, total cholesterol / HDL\\n      - s5      ltg, possibly log of serum triglycerides level\\n      - s6      glu, blood sugar level\\n\\nNote: Each of these 10 feature variables have been mean centered and scaled by the standard deviation times the square root of `n_samples` (i.e. the sum of squares of each column totals 1).\\n\\nSource URL:\\nhttps://www4.stat.ncsu.edu/~boos/var.select/diabetes.html\\n\\nFor more information see:\\nBradley Efron, Trevor Hastie, Iain Johnstone and Robert Tibshirani (2004) \"Least Angle Regression,\" Annals of Statistics (with discussion), 407-499.\\n(https://web.stanford.edu/~hastie/Papers/LARS/LeastAngle_2002.pdf)\\n',\n",
       " 'feature_names': ['age',\n",
       "  'sex',\n",
       "  'bmi',\n",
       "  'bp',\n",
       "  's1',\n",
       "  's2',\n",
       "  's3',\n",
       "  's4',\n",
       "  's5',\n",
       "  's6'],\n",
       " 'data_filename': 'diabetes_data_raw.csv.gz',\n",
       " 'target_filename': 'diabetes_target.csv.gz',\n",
       " 'data_module': 'sklearn.datasets.data'}"
      ]
     },
     "execution_count": 2,
     "metadata": {},
     "output_type": "execute_result"
    }
   ],
   "source": [
    "diabetes = load_diabetes()\n",
    "diabetes"
   ]
  },
  {
   "cell_type": "code",
   "execution_count": 3,
   "id": "4c7e1d47-3f5c-47d7-8d01-939e56bb27d0",
   "metadata": {
    "tags": []
   },
   "outputs": [
    {
     "data": {
      "text/html": [
       "<div>\n",
       "<style scoped>\n",
       "    .dataframe tbody tr th:only-of-type {\n",
       "        vertical-align: middle;\n",
       "    }\n",
       "\n",
       "    .dataframe tbody tr th {\n",
       "        vertical-align: top;\n",
       "    }\n",
       "\n",
       "    .dataframe thead th {\n",
       "        text-align: right;\n",
       "    }\n",
       "</style>\n",
       "<table border=\"1\" class=\"dataframe\">\n",
       "  <thead>\n",
       "    <tr style=\"text-align: right;\">\n",
       "      <th></th>\n",
       "      <th>age</th>\n",
       "      <th>sex</th>\n",
       "      <th>bmi</th>\n",
       "      <th>bp</th>\n",
       "      <th>s1</th>\n",
       "      <th>s2</th>\n",
       "      <th>s3</th>\n",
       "      <th>s4</th>\n",
       "      <th>s5</th>\n",
       "      <th>s6</th>\n",
       "    </tr>\n",
       "  </thead>\n",
       "  <tbody>\n",
       "    <tr>\n",
       "      <th>0</th>\n",
       "      <td>0.038076</td>\n",
       "      <td>0.050680</td>\n",
       "      <td>0.061696</td>\n",
       "      <td>0.021872</td>\n",
       "      <td>-0.044223</td>\n",
       "      <td>-0.034821</td>\n",
       "      <td>-0.043401</td>\n",
       "      <td>-0.002592</td>\n",
       "      <td>0.019907</td>\n",
       "      <td>-0.017646</td>\n",
       "    </tr>\n",
       "    <tr>\n",
       "      <th>1</th>\n",
       "      <td>-0.001882</td>\n",
       "      <td>-0.044642</td>\n",
       "      <td>-0.051474</td>\n",
       "      <td>-0.026328</td>\n",
       "      <td>-0.008449</td>\n",
       "      <td>-0.019163</td>\n",
       "      <td>0.074412</td>\n",
       "      <td>-0.039493</td>\n",
       "      <td>-0.068332</td>\n",
       "      <td>-0.092204</td>\n",
       "    </tr>\n",
       "    <tr>\n",
       "      <th>2</th>\n",
       "      <td>0.085299</td>\n",
       "      <td>0.050680</td>\n",
       "      <td>0.044451</td>\n",
       "      <td>-0.005670</td>\n",
       "      <td>-0.045599</td>\n",
       "      <td>-0.034194</td>\n",
       "      <td>-0.032356</td>\n",
       "      <td>-0.002592</td>\n",
       "      <td>0.002861</td>\n",
       "      <td>-0.025930</td>\n",
       "    </tr>\n",
       "    <tr>\n",
       "      <th>3</th>\n",
       "      <td>-0.089063</td>\n",
       "      <td>-0.044642</td>\n",
       "      <td>-0.011595</td>\n",
       "      <td>-0.036656</td>\n",
       "      <td>0.012191</td>\n",
       "      <td>0.024991</td>\n",
       "      <td>-0.036038</td>\n",
       "      <td>0.034309</td>\n",
       "      <td>0.022688</td>\n",
       "      <td>-0.009362</td>\n",
       "    </tr>\n",
       "    <tr>\n",
       "      <th>4</th>\n",
       "      <td>0.005383</td>\n",
       "      <td>-0.044642</td>\n",
       "      <td>-0.036385</td>\n",
       "      <td>0.021872</td>\n",
       "      <td>0.003935</td>\n",
       "      <td>0.015596</td>\n",
       "      <td>0.008142</td>\n",
       "      <td>-0.002592</td>\n",
       "      <td>-0.031988</td>\n",
       "      <td>-0.046641</td>\n",
       "    </tr>\n",
       "    <tr>\n",
       "      <th>...</th>\n",
       "      <td>...</td>\n",
       "      <td>...</td>\n",
       "      <td>...</td>\n",
       "      <td>...</td>\n",
       "      <td>...</td>\n",
       "      <td>...</td>\n",
       "      <td>...</td>\n",
       "      <td>...</td>\n",
       "      <td>...</td>\n",
       "      <td>...</td>\n",
       "    </tr>\n",
       "    <tr>\n",
       "      <th>437</th>\n",
       "      <td>0.041708</td>\n",
       "      <td>0.050680</td>\n",
       "      <td>0.019662</td>\n",
       "      <td>0.059744</td>\n",
       "      <td>-0.005697</td>\n",
       "      <td>-0.002566</td>\n",
       "      <td>-0.028674</td>\n",
       "      <td>-0.002592</td>\n",
       "      <td>0.031193</td>\n",
       "      <td>0.007207</td>\n",
       "    </tr>\n",
       "    <tr>\n",
       "      <th>438</th>\n",
       "      <td>-0.005515</td>\n",
       "      <td>0.050680</td>\n",
       "      <td>-0.015906</td>\n",
       "      <td>-0.067642</td>\n",
       "      <td>0.049341</td>\n",
       "      <td>0.079165</td>\n",
       "      <td>-0.028674</td>\n",
       "      <td>0.034309</td>\n",
       "      <td>-0.018114</td>\n",
       "      <td>0.044485</td>\n",
       "    </tr>\n",
       "    <tr>\n",
       "      <th>439</th>\n",
       "      <td>0.041708</td>\n",
       "      <td>0.050680</td>\n",
       "      <td>-0.015906</td>\n",
       "      <td>0.017293</td>\n",
       "      <td>-0.037344</td>\n",
       "      <td>-0.013840</td>\n",
       "      <td>-0.024993</td>\n",
       "      <td>-0.011080</td>\n",
       "      <td>-0.046883</td>\n",
       "      <td>0.015491</td>\n",
       "    </tr>\n",
       "    <tr>\n",
       "      <th>440</th>\n",
       "      <td>-0.045472</td>\n",
       "      <td>-0.044642</td>\n",
       "      <td>0.039062</td>\n",
       "      <td>0.001215</td>\n",
       "      <td>0.016318</td>\n",
       "      <td>0.015283</td>\n",
       "      <td>-0.028674</td>\n",
       "      <td>0.026560</td>\n",
       "      <td>0.044529</td>\n",
       "      <td>-0.025930</td>\n",
       "    </tr>\n",
       "    <tr>\n",
       "      <th>441</th>\n",
       "      <td>-0.045472</td>\n",
       "      <td>-0.044642</td>\n",
       "      <td>-0.073030</td>\n",
       "      <td>-0.081413</td>\n",
       "      <td>0.083740</td>\n",
       "      <td>0.027809</td>\n",
       "      <td>0.173816</td>\n",
       "      <td>-0.039493</td>\n",
       "      <td>-0.004222</td>\n",
       "      <td>0.003064</td>\n",
       "    </tr>\n",
       "  </tbody>\n",
       "</table>\n",
       "<p>442 rows × 10 columns</p>\n",
       "</div>"
      ],
      "text/plain": [
       "          age       sex       bmi        bp        s1        s2        s3  \\\n",
       "0    0.038076  0.050680  0.061696  0.021872 -0.044223 -0.034821 -0.043401   \n",
       "1   -0.001882 -0.044642 -0.051474 -0.026328 -0.008449 -0.019163  0.074412   \n",
       "2    0.085299  0.050680  0.044451 -0.005670 -0.045599 -0.034194 -0.032356   \n",
       "3   -0.089063 -0.044642 -0.011595 -0.036656  0.012191  0.024991 -0.036038   \n",
       "4    0.005383 -0.044642 -0.036385  0.021872  0.003935  0.015596  0.008142   \n",
       "..        ...       ...       ...       ...       ...       ...       ...   \n",
       "437  0.041708  0.050680  0.019662  0.059744 -0.005697 -0.002566 -0.028674   \n",
       "438 -0.005515  0.050680 -0.015906 -0.067642  0.049341  0.079165 -0.028674   \n",
       "439  0.041708  0.050680 -0.015906  0.017293 -0.037344 -0.013840 -0.024993   \n",
       "440 -0.045472 -0.044642  0.039062  0.001215  0.016318  0.015283 -0.028674   \n",
       "441 -0.045472 -0.044642 -0.073030 -0.081413  0.083740  0.027809  0.173816   \n",
       "\n",
       "           s4        s5        s6  \n",
       "0   -0.002592  0.019907 -0.017646  \n",
       "1   -0.039493 -0.068332 -0.092204  \n",
       "2   -0.002592  0.002861 -0.025930  \n",
       "3    0.034309  0.022688 -0.009362  \n",
       "4   -0.002592 -0.031988 -0.046641  \n",
       "..        ...       ...       ...  \n",
       "437 -0.002592  0.031193  0.007207  \n",
       "438  0.034309 -0.018114  0.044485  \n",
       "439 -0.011080 -0.046883  0.015491  \n",
       "440  0.026560  0.044529 -0.025930  \n",
       "441 -0.039493 -0.004222  0.003064  \n",
       "\n",
       "[442 rows x 10 columns]"
      ]
     },
     "execution_count": 3,
     "metadata": {},
     "output_type": "execute_result"
    }
   ],
   "source": [
    "data = pd.DataFrame(diabetes.data, columns = diabetes.feature_names)\n",
    "data"
   ]
  },
  {
   "cell_type": "code",
   "execution_count": 4,
   "id": "49b3811c-648a-43a2-be41-c76d5bb40c49",
   "metadata": {
    "tags": []
   },
   "outputs": [
    {
     "name": "stdout",
     "output_type": "stream",
     "text": [
      "<class 'pandas.core.frame.DataFrame'>\n",
      "RangeIndex: 442 entries, 0 to 441\n",
      "Data columns (total 10 columns):\n",
      " #   Column  Non-Null Count  Dtype  \n",
      "---  ------  --------------  -----  \n",
      " 0   age     442 non-null    float64\n",
      " 1   sex     442 non-null    float64\n",
      " 2   bmi     442 non-null    float64\n",
      " 3   bp      442 non-null    float64\n",
      " 4   s1      442 non-null    float64\n",
      " 5   s2      442 non-null    float64\n",
      " 6   s3      442 non-null    float64\n",
      " 7   s4      442 non-null    float64\n",
      " 8   s5      442 non-null    float64\n",
      " 9   s6      442 non-null    float64\n",
      "dtypes: float64(10)\n",
      "memory usage: 34.7 KB\n"
     ]
    }
   ],
   "source": [
    "data.info()"
   ]
  },
  {
   "cell_type": "code",
   "execution_count": 5,
   "id": "83c39325-7ff2-4a67-8c75-a71de31af1ce",
   "metadata": {
    "tags": []
   },
   "outputs": [],
   "source": [
    "# scipy.stats.pearsonr\n",
    "from scipy.stats import pearsonr"
   ]
  },
  {
   "cell_type": "code",
   "execution_count": 6,
   "id": "16ae4829-ccdb-43b3-b0ae-c978d331010d",
   "metadata": {
    "tags": []
   },
   "outputs": [
    {
     "data": {
      "text/plain": [
       "PearsonRResult(statistic=0.1850846661465555, pvalue=9.076791865417418e-05)"
      ]
     },
     "execution_count": 6,
     "metadata": {},
     "output_type": "execute_result"
    }
   ],
   "source": [
    "pearsonr(x = data['age'], y = data['bmi'])"
   ]
  },
  {
   "cell_type": "markdown",
   "id": "69d3cb96-01c9-4de6-b530-79bcb91fc303",
   "metadata": {},
   "source": [
    "- ```pearsonr()``` 함수의 결과는 ```(상관계수, p-value)```의 형태로 제공됨  \n",
    "- (0.1850846661465555, 9.076791865417418e-05)\n",
    "- 상관계수: 0.185 -> 두 칼럼은 서로 상관관계가 적음  \n",
    "- p-value: 매우 작으므로 유의수준 5%에서 귀무가설을 기각하기 때문에 상관계수는 작지만 유의하다는 것을 확인할 수 있음\n",
    "\n",
    "<br>\n",
    "\n",
    "단순 상관계수의 산출은 ```df.corr()```로도 가능함"
   ]
  },
  {
   "cell_type": "code",
   "execution_count": 7,
   "id": "b13578f1-3b47-4548-9982-2a87b85b9525",
   "metadata": {
    "tags": []
   },
   "outputs": [
    {
     "data": {
      "text/html": [
       "<div>\n",
       "<style scoped>\n",
       "    .dataframe tbody tr th:only-of-type {\n",
       "        vertical-align: middle;\n",
       "    }\n",
       "\n",
       "    .dataframe tbody tr th {\n",
       "        vertical-align: top;\n",
       "    }\n",
       "\n",
       "    .dataframe thead th {\n",
       "        text-align: right;\n",
       "    }\n",
       "</style>\n",
       "<table border=\"1\" class=\"dataframe\">\n",
       "  <thead>\n",
       "    <tr style=\"text-align: right;\">\n",
       "      <th></th>\n",
       "      <th>age</th>\n",
       "      <th>bmi</th>\n",
       "    </tr>\n",
       "  </thead>\n",
       "  <tbody>\n",
       "    <tr>\n",
       "      <th>age</th>\n",
       "      <td>1.000000</td>\n",
       "      <td>0.185085</td>\n",
       "    </tr>\n",
       "    <tr>\n",
       "      <th>bmi</th>\n",
       "      <td>0.185085</td>\n",
       "      <td>1.000000</td>\n",
       "    </tr>\n",
       "  </tbody>\n",
       "</table>\n",
       "</div>"
      ],
      "text/plain": [
       "          age       bmi\n",
       "age  1.000000  0.185085\n",
       "bmi  0.185085  1.000000"
      ]
     },
     "execution_count": 7,
     "metadata": {},
     "output_type": "execute_result"
    }
   ],
   "source": [
    "# 단순 상관계수 산출\n",
    "data[ ['age', 'bmi'] ].corr()"
   ]
  },
  {
   "cell_type": "code",
   "execution_count": null,
   "id": "89db2957-96f3-4b3b-aa11-6ec5e4d993d5",
   "metadata": {},
   "outputs": [],
   "source": []
  },
  {
   "cell_type": "code",
   "execution_count": null,
   "id": "2d7620c7-94af-48a2-bc77-4fb0a6a2a5e1",
   "metadata": {},
   "outputs": [],
   "source": []
  },
  {
   "cell_type": "markdown",
   "id": "0710be1c-01a9-4d6b-a1cc-d5b37859194c",
   "metadata": {},
   "source": [
    "### 2절: 정규성 검정\n",
    "- 파이썬에서는 Scipy 패키지의 stats 서브패키지 내의 다양한 함수를 통해 정규성 검정을 수행할 수 있음\n",
    "- 여기서는 **샤피로-윌크 검정(Shapiro-Wilk test)** 만\n",
    "- 샤피로-윌크 검정은 ```shapiro()``` 함수를 통해 수행 가능\n",
    "- ```scipy.stats.shapiro(x)```\n",
    "   - **x** : 1차원 데이터 (리스트, 배열, 시리즈 등)"
   ]
  },
  {
   "cell_type": "markdown",
   "id": "9ab5815b-f8c2-4dfe-9e4f-76ed6cd2b179",
   "metadata": {},
   "source": [
    "#### Q.\n",
    "임의의 균일 표본을 생성한 후, 생성된 표본의 정규성 여부 확인을 위한 샤피로-윌크 검정 수행"
   ]
  },
  {
   "cell_type": "code",
   "execution_count": 8,
   "id": "3fde27f3-221b-425d-9d2d-97e5bdee8066",
   "metadata": {
    "tags": []
   },
   "outputs": [],
   "source": [
    "# 패키지 불러오기\n",
    "import numpy as np"
   ]
  },
  {
   "cell_type": "code",
   "execution_count": 9,
   "id": "3f41f96f-d403-45ca-b6f6-5598c6a32332",
   "metadata": {
    "tags": []
   },
   "outputs": [
    {
     "data": {
      "text/plain": [
       "array([0.58801452, 0.69910875, 0.18815196, 0.04380856, 0.20501895,\n",
       "       0.10606287, 0.72724014, 0.67940052, 0.4738457 , 0.44829582])"
      ]
     },
     "execution_count": 9,
     "metadata": {},
     "output_type": "execute_result"
    }
   ],
   "source": [
    "# 균일표본 생성\n",
    "# 참고) np.random.random(size) : 균일 분포로부터 size개의 len을 가지는 난수 생성\n",
    "np.random.seed(2024)      # 결과의 일관성을 위해 시드값 설정\n",
    "x = np.random.random(10)\n",
    "x"
   ]
  },
  {
   "cell_type": "code",
   "execution_count": 10,
   "id": "a4ac4fb7-c326-4614-9138-e5325e18ed59",
   "metadata": {
    "tags": []
   },
   "outputs": [],
   "source": [
    "# 샤피로-윌크 검정\n",
    "from scipy.stats import shapiro"
   ]
  },
  {
   "cell_type": "code",
   "execution_count": 11,
   "id": "ebab3491-a4f5-4e50-b6bf-12764970d901",
   "metadata": {
    "tags": []
   },
   "outputs": [
    {
     "data": {
      "text/plain": [
       "ShapiroResult(statistic=0.8969663381576538, pvalue=0.20285381376743317)"
      ]
     },
     "execution_count": 11,
     "metadata": {},
     "output_type": "execute_result"
    }
   ],
   "source": [
    "shapiro(x)"
   ]
  },
  {
   "cell_type": "markdown",
   "id": "0d65bc00-e966-4fd3-b3d9-a0d98d81643b",
   "metadata": {},
   "source": [
    "- ```shapiro()``` 함수의 결과는 (통계량, p-value) 형태로 제공됨  \n",
    "- (statistic=0.8969663381576538, pvalue=0.20285381376743317)\n",
    "- p-value가 매우 크므로 귀무가설을 기각하지 못하기 때문에 정규성 만족\n",
    "\n",
    "이 외에 stats 서브패키지에서 정규성 검정을 바로 수행할 수 있는 함수는 kstest, anderson, jarque_bera 등이 있음"
   ]
  },
  {
   "cell_type": "code",
   "execution_count": null,
   "id": "33344a5f-fa04-4294-9bc2-5437c6f94136",
   "metadata": {},
   "outputs": [],
   "source": []
  },
  {
   "cell_type": "code",
   "execution_count": null,
   "id": "c344e587-3256-422f-9bc9-086e033eb798",
   "metadata": {},
   "outputs": [],
   "source": []
  },
  {
   "cell_type": "markdown",
   "id": "c32b4d8a-f294-499d-9405-5f69320ac833",
   "metadata": {},
   "source": [
    "### 3절: 모평균과 모분산 검정\n",
    "#### 모평균 검정\n",
    "- 모평균 검정은 크기 표본의 수에 따라 단일표본, 이표본으로 구분됨\n",
    "- 세 가지 검정(단일표본 t-검정, 대응표본 t-검정, 독립표본 t-검정)이 있음\n",
    "\n",
    "<br>\n",
    "\n",
    "#### **1) 단일표본 t-검정**\n",
    "- 파이썬에서 **하나의 표본에 대한 t-검정**을 수행하기 위해서 SciPy 패키지의 stats 서브패키지를 호출한 후 stats에서 제공하는 ```ttest_1samp``` 함수 사용\n",
    "- ```scipy.stats.ttest_1samp(a, popmean, alternative = 'two-sided', ...)```\n",
    "  - **a** : 1차원 데이터 (리스트, 배열, 시리즈 등)\n",
    "  - **popmean** : 귀무가설에서 설정된 값\n",
    "  - **alternative** : 대립가설 정의\n",
    "    - 'two-sided' : popmean과 다름 (default)\n",
    "    - 'less' : popmean보다 작음\n",
    "    - 'greater' : popmean보다 큼"
   ]
  },
  {
   "cell_type": "markdown",
   "id": "40404c8c-330b-4126-939d-bccc20c58095",
   "metadata": {},
   "source": [
    "#### Q.\n",
    "몸무게 데이터를 임의로 생성해보고 **모집단의 평균이 70**이라고 할 수 있는 지 **단일표본 t-검정**을 수행하기 (정규성 만족 가정)"
   ]
  },
  {
   "cell_type": "code",
   "execution_count": 12,
   "id": "cd36178e-351a-4e3c-bcc5-bdb7cdff9e96",
   "metadata": {
    "tags": []
   },
   "outputs": [],
   "source": [
    "# 필요한 패키지 호출\n",
    "import numpy as np"
   ]
  },
  {
   "cell_type": "code",
   "execution_count": 13,
   "id": "965d4bfe-a270-49e4-9fcb-2ba96bd130ac",
   "metadata": {
    "tags": []
   },
   "outputs": [],
   "source": [
    "# 몸무게 데이터 임의 생성\n",
    "kg = np.array( [75.5, 83.9, 75.7, 56.2, 73.4, 67.7, 79.0, 50.7, 58.4, 74.1, 65.1, 77.8, 48.1, 46.3] )"
   ]
  },
  {
   "cell_type": "code",
   "execution_count": 14,
   "id": "a22704ca-8dd3-4870-87b9-d9ca591f224f",
   "metadata": {
    "tags": []
   },
   "outputs": [
    {
     "data": {
      "text/plain": [
       "66.56428571428572"
      ]
     },
     "execution_count": 14,
     "metadata": {},
     "output_type": "execute_result"
    }
   ],
   "source": [
    "# 표본 평균\n",
    "np.mean(kg)"
   ]
  },
  {
   "cell_type": "code",
   "execution_count": 15,
   "id": "d08c7246-30b9-4a61-8955-659035fb1cd5",
   "metadata": {
    "tags": []
   },
   "outputs": [],
   "source": [
    "# 단일표본 t-검정\n",
    "from scipy.stats import ttest_1samp"
   ]
  },
  {
   "cell_type": "code",
   "execution_count": 16,
   "id": "b58e165e-c488-40e3-bdc3-12ed6b3089a0",
   "metadata": {
    "tags": []
   },
   "outputs": [
    {
     "data": {
      "text/plain": [
       "TtestResult(statistic=-1.0289933120202257, pvalue=0.3222484823978743, df=13)"
      ]
     },
     "execution_count": 16,
     "metadata": {},
     "output_type": "execute_result"
    }
   ],
   "source": [
    "ttest_1samp(kg, 70)"
   ]
  },
  {
   "cell_type": "markdown",
   "id": "1f9fb95a-e9e4-41b1-9c42-b9e7e71380c9",
   "metadata": {},
   "source": [
    "- ttest_1samp의 결과는 (t통계량값, p-value) 형태로 제공됨  \n",
    "- (statistic=-1.0289933120202257, pvalue=0.3222484823978743, df=13)  \n",
    "- p-value가 0.322이므로 유의수준 5%에서 귀무가설 기각하지 못하므로 모집단의 평균은 70과 같다고 할 수 있음"
   ]
  },
  {
   "cell_type": "code",
   "execution_count": null,
   "id": "28546974-7fc2-45a8-8a77-461ff5a46be5",
   "metadata": {},
   "outputs": [],
   "source": []
  },
  {
   "cell_type": "code",
   "execution_count": null,
   "id": "263fb380-11d9-4a40-906d-9326c88d6206",
   "metadata": {},
   "outputs": [],
   "source": []
  },
  {
   "cell_type": "markdown",
   "id": "ce43191b-59e8-4d1e-9da9-6d4585605625",
   "metadata": {},
   "source": [
    "#### **2) 대응표본 t-검정**\n",
    "- 파이썬에서 대응표본에 대한 t-검정을 수행하기 위해서 Scipy 패키지의 stats 서브패키지를 호출한 후 stats에서 제공하는 ```ttest_rel``` 함수를 사용함\n",
    "- ```scipy.stats.ttest_rel(a, b, alternative = 'two-sided', ...)```\n",
    "  - **a, b** : 1차원 데이터 (리스트, 배열, 시리즈 등)\n",
    "  - **alternative** : 대립가설 정의\n",
    "    - 'two-sided' : 두 표본의 평균(a-b)의 차이가 0이 아님 (default)\n",
    "    - 'less' : 두 표본의 평균(a-b) 차이가 0보다 작음\n",
    "    - 'greater' : 두 표본의 평균(a-b)의 차이가 0보다 큼"
   ]
  },
  {
   "cell_type": "markdown",
   "id": "d3ac023c-6997-4cd9-b043-20dfe9ce7b30",
   "metadata": {},
   "source": [
    "#### Q.\n",
    "남녀 몸무게 데이터를 임의로 생성하고, *두 데이터가 서로 짝지어져 있다고 가정*하고, 두 데이터에 대한 모평균이 서로 다르다고 할 수 있는지 **대응표본 t-검정** 수행 (정규성 만족 가정)"
   ]
  },
  {
   "cell_type": "code",
   "execution_count": 17,
   "id": "5f76e403-72c1-4e81-9a63-d3d1dea618c2",
   "metadata": {
    "tags": []
   },
   "outputs": [],
   "source": [
    "import pandas as pd"
   ]
  },
  {
   "cell_type": "code",
   "execution_count": 18,
   "id": "49acaa0c-5c9d-41e4-8294-5b38c0f6eb7e",
   "metadata": {
    "tags": []
   },
   "outputs": [],
   "source": [
    "# 남녀 몸무게 데이터 임의 생성\n",
    "female = np.array( [50.7, 58.4, 74.1, 65.1, 77.8, 48.1, 46.3] )\n",
    "male = np.array( [75.5, 83.9, 75.7, 56.2, 73.4, 67.7, 79.0] )"
   ]
  },
  {
   "cell_type": "code",
   "execution_count": 19,
   "id": "5bd7671d-b430-4301-b0ea-f9f26214e2d5",
   "metadata": {
    "tags": []
   },
   "outputs": [
    {
     "data": {
      "text/plain": [
       "array([-24.8, -25.5,  -1.6,   8.9,   4.4, -19.6, -32.7])"
      ]
     },
     "execution_count": 19,
     "metadata": {},
     "output_type": "execute_result"
    }
   ],
   "source": [
    "# 두 데이터 차이를 diff에 저장\n",
    "diff = female - male\n",
    "diff"
   ]
  },
  {
   "cell_type": "code",
   "execution_count": 20,
   "id": "1453f42a-31cd-46d4-a491-5231efb3d547",
   "metadata": {
    "tags": []
   },
   "outputs": [
    {
     "data": {
      "text/plain": [
       "-12.985714285714291"
      ]
     },
     "execution_count": 20,
     "metadata": {},
     "output_type": "execute_result"
    }
   ],
   "source": [
    "# 두 데이터 차이의 평균\n",
    "np.mean(diff)"
   ]
  },
  {
   "cell_type": "code",
   "execution_count": 21,
   "id": "3705c23d-5df0-442a-821d-e0bc3f837bdc",
   "metadata": {
    "tags": []
   },
   "outputs": [],
   "source": [
    "# 대응표본 t-검정\n",
    "from scipy.stats import ttest_rel"
   ]
  },
  {
   "cell_type": "code",
   "execution_count": 22,
   "id": "f23b6fca-0744-47d7-b3fe-93b8bac80916",
   "metadata": {
    "tags": []
   },
   "outputs": [
    {
     "data": {
      "text/plain": [
       "TtestResult(statistic=-2.078446933064972, pvalue=0.08291274205610201, df=6)"
      ]
     },
     "execution_count": 22,
     "metadata": {},
     "output_type": "execute_result"
    }
   ],
   "source": [
    "ttest_rel(female, male)"
   ]
  },
  {
   "cell_type": "markdown",
   "id": "53be9fbd-dffd-4149-94f8-d6beaa163d23",
   "metadata": {},
   "source": [
    "- ```ttest_rel``` 함수의 결과는 (t통계량, p-value) 형태로 제공됨  \n",
    "- (statistic=-2.078446933064972, pvalue=0.08291274205610201, df=6)  \n",
    "- p-value가 0.083이므로 유의수준 5%에서 귀무가설을 기각하지 못해 모평균이 서로 다르다고 할 수 있음"
   ]
  },
  {
   "cell_type": "code",
   "execution_count": null,
   "id": "03bb9c41-be98-4cf2-addc-56cedb7d31d4",
   "metadata": {},
   "outputs": [],
   "source": []
  },
  {
   "cell_type": "code",
   "execution_count": null,
   "id": "ca9bff1a-32be-4757-8eb6-e480439154b1",
   "metadata": {},
   "outputs": [],
   "source": []
  },
  {
   "cell_type": "markdown",
   "id": "bad6c8dc-1f41-4c53-a285-73624979f767",
   "metadata": {},
   "source": [
    "#### **3) 독립표본 t-검정** \n",
    "- 파이썬에서 독립표본에 대한 t-검정을 수행하기 위해서 Scipy 패키지의 stats 서브패키지를 호출한 후 stats에서 제공하는 ```ttest_ind``` 함수를 사용함\n",
    "- ```scipy.stats.ttest_ind(a, b, equal_var=True, alternative = 'two-sided', ...)```\n",
    "  - **a, b** : 1차원 데이터 (리스트, 배열, 시리즈 등)\n",
    "  - **equal_var** : 등분산인지 여부 (등분산이면 True, 이분산이면 False) (default = True)\n",
    "  - **alternative** : 대립가설 정의\n",
    "    - 'two-sided' : 두 표본의 평균(a-b)의 차이가 0이 아님 (default)\n",
    "    - 'less' : 두 표본의 평균(a-b) 차이가 0보다 작음\n",
    "    - 'greater' : 두 표본의 평균(a-b)의 차이가 0보다 큼"
   ]
  },
  {
   "cell_type": "markdown",
   "id": "dade6930-7df6-45b2-a7fe-ec0d3cb9f48b",
   "metadata": {},
   "source": [
    "#### Q.\n",
    "위의 남녀 몸무게 데이터를 활용해 *두 데이터가 독립이라고 가정하고* 두 데이터에 대한 모평균이 서로 다르다고 할 수 있는지 **독립표본 t-검정** 수행 (정규성, 등분산성 가정 만족)"
   ]
  },
  {
   "cell_type": "code",
   "execution_count": 23,
   "id": "b31217f3-ff2e-47d8-a4d4-09726c971c51",
   "metadata": {
    "tags": []
   },
   "outputs": [
    {
     "data": {
      "text/plain": [
       "(array([50.7, 58.4, 74.1, 65.1, 77.8, 48.1, 46.3]),\n",
       " array([75.5, 83.9, 75.7, 56.2, 73.4, 67.7, 79. ]))"
      ]
     },
     "execution_count": 23,
     "metadata": {},
     "output_type": "execute_result"
    }
   ],
   "source": [
    "# 데이터 확인\n",
    "female, male"
   ]
  },
  {
   "cell_type": "code",
   "execution_count": 24,
   "id": "7604ba8f-362c-4b73-8896-85fdeaba9032",
   "metadata": {
    "tags": []
   },
   "outputs": [],
   "source": [
    "# 독립표본 t-검정\n",
    "from scipy.stats import ttest_ind"
   ]
  },
  {
   "cell_type": "code",
   "execution_count": 25,
   "id": "7803a66e-d01b-40d5-b898-6af7f54866b2",
   "metadata": {
    "tags": []
   },
   "outputs": [
    {
     "data": {
      "text/plain": [
       "TtestResult(statistic=-2.2186641577772956, pvalue=0.046550122110569664, df=12.0)"
      ]
     },
     "execution_count": 25,
     "metadata": {},
     "output_type": "execute_result"
    }
   ],
   "source": [
    "ttest_ind(female, male)"
   ]
  },
  {
   "cell_type": "markdown",
   "id": "320a3a90-9fd0-4a2f-a210-ffdbf02c44a7",
   "metadata": {},
   "source": [
    "- ```ttest_ind``` 함수의 결과는 (t통계량, p-value) 형태로 제공됨  \n",
    "- (statistic=-2.2186641577772956, pvalue=0.046550122110569664, df=12.0)  \n",
    "- p-value가 0.046이므로 유의수준 5%에서 귀무가설을 기각하기 때문에 모평균은 서로 다르다고 할 수 있음"
   ]
  },
  {
   "cell_type": "code",
   "execution_count": null,
   "id": "6ae436da-aa6a-412d-a2e3-f3303624c743",
   "metadata": {},
   "outputs": [],
   "source": []
  },
  {
   "cell_type": "code",
   "execution_count": null,
   "id": "600fb1fa-1620-4d91-879b-05952169d77f",
   "metadata": {},
   "outputs": [],
   "source": []
  },
  {
   "cell_type": "markdown",
   "id": "cdf23873-e7a6-4cfb-bbbd-489ccac41f90",
   "metadata": {},
   "source": [
    "#### **모분산 검정**\n",
    "- 단일표본에 대한 모분산 검정, 이표본에 대한 분산비 검정, 이표본 이상에 대한 Bartlett 검정, Levene 검정\n",
    "\n",
    "<br>\n",
    "\n",
    "#### **1) 단일표본 검정**\n",
    "- Scipy 패키지는 하나의 표본에 대한 모분산 검정을 바로 수행하는 함수를 지원하지 않음\n",
    "- 따라서 Scipy 패키지의 stats 서브패키지를 호출한 후 stats에서 제공하는 ```chi1``` 클래스를 통해 카이제곱분포(chi2) 객체를 생성한 후, 해당 객체의 메소드 ```cdf()```를 이용해 유의확률(p-value)를 구함\n",
    "\n",
    "\n",
    "**클래스 사용법** \n",
    "- ```scipy.stats.chi2(df, ...)```\n",
    "  - **df** : 자유도(degree of freedom)\n",
    "\n",
    "**메소드 사용법**\n",
    "- ```카이제곱분포객체.cdf(x, ...)```\n",
    "  - **x** : 관측값(여기서는 검정 통계량 입력)"
   ]
  },
  {
   "cell_type": "markdown",
   "id": "3f9a5bb7-3c54-4a41-b6c4-c6e41b04a310",
   "metadata": {},
   "source": [
    "#### Q. \n",
    "임의의 점수 데이터를 임의로 생성하고, 모분산이 1,100보다 작다고 할 수 있는 주장의 입증을 위한 가설검정 수행 (정규성 만족 가정)"
   ]
  },
  {
   "cell_type": "code",
   "execution_count": 26,
   "id": "910b8003-01be-490d-be18-4de16436262c",
   "metadata": {},
   "outputs": [],
   "source": [
    "# 임의의 점수 데이터 생성\n",
    "score = np.array( [80.5, 60.2, 70, 87, 45, 91, 85] )"
   ]
  },
  {
   "cell_type": "code",
   "execution_count": 27,
   "id": "0a746d23-88ab-41fe-968e-582885f3cd4f",
   "metadata": {
    "tags": []
   },
   "outputs": [],
   "source": [
    "# 검정통계량 = (n-1) * 표본분산/귀무가설에서 설정한 모분산\n",
    "var0 = 1100  # 귀무가설에서 설정한 모분산"
   ]
  },
  {
   "cell_type": "code",
   "execution_count": 28,
   "id": "8596c27f-9a10-4807-b26a-eeac315cda85",
   "metadata": {
    "tags": []
   },
   "outputs": [
    {
     "data": {
      "text/plain": [
       "278.1033333333333"
      ]
     },
     "execution_count": 28,
     "metadata": {},
     "output_type": "execute_result"
    }
   ],
   "source": [
    "# 표본 분산\n",
    "var = np.var(score, ddof=1)\n",
    "var"
   ]
  },
  {
   "cell_type": "code",
   "execution_count": 29,
   "id": "c8dc2c4a-aa17-4f76-86f9-5e44bbc0ceb5",
   "metadata": {
    "tags": []
   },
   "outputs": [
    {
     "data": {
      "text/plain": [
       "1.5169272727272727"
      ]
     },
     "execution_count": 29,
     "metadata": {},
     "output_type": "execute_result"
    }
   ],
   "source": [
    "# 검정 통계량\n",
    "stat = (len(score)-1) * var/var0\n",
    "stat"
   ]
  },
  {
   "cell_type": "code",
   "execution_count": 30,
   "id": "30c56308-216a-4cf1-a911-aee868dd351b",
   "metadata": {
    "tags": []
   },
   "outputs": [],
   "source": [
    "# 카이분포를 통해 직접 유의확률 계산\n",
    "# 좌측검정이므로 Pr[chisq2(자유도) < 검정통계량]으로 계산\n",
    "from scipy.stats import chi2"
   ]
  },
  {
   "cell_type": "code",
   "execution_count": 31,
   "id": "b4067743-839e-48ad-b556-1c8fb1309e03",
   "metadata": {
    "tags": []
   },
   "outputs": [
    {
     "data": {
      "text/plain": [
       "0.041637780038918736"
      ]
     },
     "execution_count": 31,
     "metadata": {},
     "output_type": "execute_result"
    }
   ],
   "source": [
    "chi2.cdf(stat, len(score)-1)"
   ]
  },
  {
   "cell_type": "code",
   "execution_count": 32,
   "id": "bb5d0d32-2892-40d4-ba99-147c170c5f68",
   "metadata": {
    "tags": []
   },
   "outputs": [
    {
     "data": {
      "text/plain": [
       "0.08327556007783747"
      ]
     },
     "execution_count": 32,
     "metadata": {},
     "output_type": "execute_result"
    }
   ],
   "source": [
    "# 양측검정일 경우, (2*죄측검정의_유의확률) 또는 (2*우측검정의_유의확률)로 계산\n",
    "# 여기서는 표본분산 < 모분산이므로 좌측검정의 유의확률에서 2배를 곱하기\n",
    "2 * chi2.cdf(stat, len(score)-1)"
   ]
  },
  {
   "cell_type": "markdown",
   "id": "7ee4ec3f-986b-45a4-bc46-728421b820de",
   "metadata": {},
   "source": [
    "유의수준 5%에서 모분산이 1100보다 작다고 할 수는 있지만 통계적으로 다르다고 하기는 어려움"
   ]
  },
  {
   "cell_type": "code",
   "execution_count": null,
   "id": "4af7d391-2a6d-41d1-aede-924f3e4575fc",
   "metadata": {},
   "outputs": [],
   "source": []
  },
  {
   "cell_type": "code",
   "execution_count": null,
   "id": "8338705f-ff23-48fc-9e23-1b1c5e9bc38b",
   "metadata": {},
   "outputs": [],
   "source": []
  },
  {
   "cell_type": "markdown",
   "id": "57befa5f-6379-4a0c-9717-e18afb8f0692",
   "metadata": {},
   "source": [
    "#### **2) 분산비 검정**\n",
    "- 분산비 검정은 일반적으로 통계학에서 이표본에 대한 등분산 검정을 의미하지만, SciPy 패키지는 이를 바로 수행하는 함수를 지원하지 않음\n",
    "- 따라서 Scipy 패키지의 stats 서브패키지를 호출한 후 stats에서 제공하는 ```f``` 클래스를 통해 F분포(f) 객체를 생성한 후, 해당 객체의 메소드 ```cdf()```를 이용해 유의확률(p-value)를 구함\n",
    "\n",
    "**클래스 사용법** \n",
    "- ```scipy.stats.f(dfn, dfd, ...)```\n",
    "  - **dfn** : 자유도1 (일반적으로 분모에 대한 자유도)\n",
    "  - **dfd** : 자유도2 (일반적으로 분자에 대한 자유도)\n",
    "\n",
    "**메소드 사용법**\n",
    "- ```F분포객체.cdf(x, ...)```\n",
    "  - **x** : 관측값(여기서는 검정 통계량 입력)"
   ]
  },
  {
   "cell_type": "markdown",
   "id": "ae6ceb64-218f-424d-a4bc-28376a6daece",
   "metadata": {},
   "source": [
    "#### Q.\n",
    "두 집단(a, b)에 대한 점수 데이터 임의로 생성하고 a 집단의 모분산이 b 집단의 모분산보다 작다고 할 수 있는지를 검정하기 (가설은 a모분산 < b모분산으로 가정, 정규성 만족 가정)"
   ]
  },
  {
   "cell_type": "code",
   "execution_count": 33,
   "id": "1e6009f7-f8c7-402b-aedd-9f43d35d52dc",
   "metadata": {
    "tags": []
   },
   "outputs": [],
   "source": [
    "# 두 집단 a, b에 대한 점수 데이터 임의 생성\n",
    "a = np.array( [70, 80, 75, 65, 100, 98] )\n",
    "b = np.array( [20, 100, 50, 94, 28, 80, 95, 30] )"
   ]
  },
  {
   "cell_type": "code",
   "execution_count": 34,
   "id": "fab7f45f-4b9b-428a-bf3f-db06c56c0ce0",
   "metadata": {
    "tags": []
   },
   "outputs": [
    {
     "data": {
      "text/plain": [
       "(212.66666666666669, 1138.4107142857142)"
      ]
     },
     "execution_count": 34,
     "metadata": {},
     "output_type": "execute_result"
    }
   ],
   "source": [
    "# 표본 분산 계산\n",
    "var_a = np.var(a, ddof=1)\n",
    "var_b = np.var(b, ddof=1)\n",
    "var_a, var_b"
   ]
  },
  {
   "cell_type": "code",
   "execution_count": 35,
   "id": "07191661-b124-4b02-a0d2-9f90b3b5e742",
   "metadata": {
    "tags": []
   },
   "outputs": [
    {
     "data": {
      "text/plain": [
       "0.18681014154026346"
      ]
     },
     "execution_count": 35,
     "metadata": {},
     "output_type": "execute_result"
    }
   ],
   "source": [
    "# 검정통계량 = 집단a의 분산 / 집단b의 분산 (가설: a모분산 < b모분산)\n",
    "stat = var_a/var_b\n",
    "stat"
   ]
  },
  {
   "cell_type": "code",
   "execution_count": 36,
   "id": "91d6b514-35d2-486a-888a-860a40fce2a8",
   "metadata": {
    "tags": []
   },
   "outputs": [
    {
     "data": {
      "text/plain": [
       "(5, 7)"
      ]
     },
     "execution_count": 36,
     "metadata": {},
     "output_type": "execute_result"
    }
   ],
   "source": [
    "# 자유도 계산\n",
    "df1 = len(a) - 1\n",
    "df2 = len(b) - 1\n",
    "df1, df2"
   ]
  },
  {
   "cell_type": "code",
   "execution_count": 37,
   "id": "db533d59-e55c-4582-9911-e207b245ed0d",
   "metadata": {
    "tags": []
   },
   "outputs": [],
   "source": [
    "# F분포를 통해 직접 유의확률 계산\n",
    "# 좌측 검정이므로 Pr[F(자유도1, 자유도2) < 검정통계량]으로 계산\n",
    "# 가설: a모분산 < b모분산   =>   a모분산 / b모분산 < 1 이므로 좌측검정\n",
    "from scipy.stats import f"
   ]
  },
  {
   "cell_type": "code",
   "execution_count": 38,
   "id": "070c1451-6c21-4148-b0e5-110c4210bd7b",
   "metadata": {
    "tags": []
   },
   "outputs": [
    {
     "data": {
      "text/plain": [
       "0.04153943037562959"
      ]
     },
     "execution_count": 38,
     "metadata": {},
     "output_type": "execute_result"
    }
   ],
   "source": [
    "pval = f.cdf(stat, df1, df2)\n",
    "pval"
   ]
  },
  {
   "cell_type": "markdown",
   "id": "ed2a4fd6-209a-4115-906b-c3f6518d5b5e",
   "metadata": {},
   "source": [
    "검정결과 p-value가 0.0415이므로 유의수준 5%에서 귀무가설을 기각하기 때문에 a집단의 모분산이 b집단의 모분산보다 작다고 할 수 있음"
   ]
  },
  {
   "cell_type": "code",
   "execution_count": 39,
   "id": "444e2e23-789e-4fbd-bfa5-19fe1eb47ee7",
   "metadata": {
    "tags": []
   },
   "outputs": [
    {
     "data": {
      "text/plain": [
       "0.9584605696243704"
      ]
     },
     "execution_count": 39,
     "metadata": {},
     "output_type": "execute_result"
    }
   ],
   "source": [
    "# 참고) 우측 검정일 경우, Pr[F(자유도1, 자유도2) > 검정통계량]으로 계산\n",
    "1 - f.cdf(stat, df1, df2)"
   ]
  },
  {
   "cell_type": "code",
   "execution_count": 40,
   "id": "b8be21f9-d46e-4821-aa61-6fc9da707dd4",
   "metadata": {
    "tags": []
   },
   "outputs": [
    {
     "data": {
      "text/plain": [
       "0.08307886075125917"
      ]
     },
     "execution_count": 40,
     "metadata": {},
     "output_type": "execute_result"
    }
   ],
   "source": [
    "# 참고) 양측 검정일 경우, 현재 검정통계량이 1보다 작으므로\n",
    "# Pr[F(자유도1, 자유도2) < 검정통계량] + Pr[F(자유도2, 자유도1) > 1/검정통계량]으로 계산\n",
    "f.cdf(stat, df1, df2) + (1 - f.cdf(1/stat, df2, df1))"
   ]
  },
  {
   "cell_type": "markdown",
   "id": "3ce59416-3220-4cd0-a774-1091dd66cf72",
   "metadata": {},
   "source": [
    "- 유의수준 5%에서 a집단의 모분산이 b집단의 모분산보다 작다고 할 수 있지만 통계적으로 다르다고 하기 어려움  \n",
    "- 참고) 검정통계량이 1보다 큰 경우 Pr[F(자유도1, 자유도2) > 검정통계량] + Pr[F(자유도2, 자유도1) < 1/검정통계량]"
   ]
  },
  {
   "cell_type": "code",
   "execution_count": null,
   "id": "fae61012-1222-4c80-addd-e0aa74900da0",
   "metadata": {},
   "outputs": [],
   "source": []
  },
  {
   "cell_type": "code",
   "execution_count": null,
   "id": "0f82a523-d92b-49a2-be8e-8d307cace486",
   "metadata": {},
   "outputs": [],
   "source": []
  },
  {
   "cell_type": "markdown",
   "id": "5ddeca80-aaa6-454e-9bda-0561d2127f84",
   "metadata": {},
   "source": [
    "#### **3) Bartlett 검정**\n",
    "- Bartlett 검정은 이표본 이상에 대한 등분산 검정 방법 중 하나로 정규성을 충족하는 데이터에 유용하게 사용됨\n",
    "- 파이썬에서 Bartlett 검정을 수행하기 위해서는 Scipy 패키지의 stats 서브패키지를 호출한 후 stats에서 제공하는 ```bartlett``` 함수를 사용함\n",
    "\n",
    "**메소드 사용법**\n",
    "- ```scipy.stats.bartlett(a, b, c, ...)```\n",
    "  - **a, b, c** : 1차원 데이터(리스트, 배열, 시리즈 등)"
   ]
  },
  {
   "cell_type": "markdown",
   "id": "ca4f6234-58c2-4d3c-92e2-6895086d6cd2",
   "metadata": {},
   "source": [
    "#### Q.\n",
    "임의로 세 그룹의 점수 데이터를 생성한 후, 생성된 표본들 가느이 등분산성 확인을 위한 Bartlett 검정 수행 (정규성 만족 가정)"
   ]
  },
  {
   "cell_type": "code",
   "execution_count": 41,
   "id": "67d59a28-f01c-4d34-91f5-242e390c4202",
   "metadata": {
    "tags": []
   },
   "outputs": [],
   "source": [
    "# 두 집단(a, b)에 대한 점수 데이터 임의 생성\n",
    "# 임의로 세 그룹의 점수 데이터 생성\n",
    "a = np.array( [70, 80, 75, 65, 100, 98] )\n",
    "b = np.array( [20, 100, 50, 94, 28, 80] )\n",
    "c = np.array( [90, 97, 95, 94, 99, 100] )"
   ]
  },
  {
   "cell_type": "code",
   "execution_count": 42,
   "id": "a2a07393-41a5-4768-959d-ff4ee13c1df9",
   "metadata": {
    "tags": []
   },
   "outputs": [],
   "source": [
    "# Bartlett 검정 수행\n",
    "from scipy.stats import bartlett"
   ]
  },
  {
   "cell_type": "code",
   "execution_count": 43,
   "id": "18b220d7-d7cd-4c00-9c23-178b1dcb83d2",
   "metadata": {
    "tags": []
   },
   "outputs": [
    {
     "data": {
      "text/plain": [
       "BartlettResult(statistic=15.6702722148674, pvalue=0.00039558846873743075)"
      ]
     },
     "execution_count": 43,
     "metadata": {},
     "output_type": "execute_result"
    }
   ],
   "source": [
    "bartlett(a, b, c)"
   ]
  },
  {
   "cell_type": "markdown",
   "id": "53a3d946-9b9d-4fc5-a5dc-e94f33abf514",
   "metadata": {},
   "source": [
    "- ```bartlett()``` 함수의 결과는 (검정통계량, p-value) 형태로 제공됨  \n",
    "- (statistic=15.6702722148674, pvalue=0.00039558846873743075)\n",
    "- p-value가 매우 작으므로 유의수준 5%에서 귀무가설을 기각하기 떄문에 그룹 간의 분산에 유의미한 차이가 있다고 할 수 있음"
   ]
  },
  {
   "cell_type": "code",
   "execution_count": null,
   "id": "e90e1869-7e83-45ca-9098-6af93a518418",
   "metadata": {},
   "outputs": [],
   "source": []
  },
  {
   "cell_type": "code",
   "execution_count": null,
   "id": "f0d57cb6-a042-42f0-af5b-6a41b882b915",
   "metadata": {},
   "outputs": [],
   "source": []
  },
  {
   "cell_type": "markdown",
   "id": "06d88095-9eec-4368-897c-5f62b26f514e",
   "metadata": {},
   "source": [
    "#### **4) Levene 검정**\n",
    "- Levene 검정은 이표본 이상에 대한 등분산 검정 방법 중 하나로 정규성을 충족하지 않는 데이터에 유용하게 사용됨\n",
    "- 파이썬에서 Levene 검정을 수행하기 위해서는 Scipy 패키지의 stats 서브패키지를 호출한 후 stats에서 제공하는 ```levene``` 함수를 사용함\n",
    "\n",
    "**메소드 사용법**\n",
    "- ```scipy.stats.levene(a, b, c, ...)```\n",
    "  - **a, b, c** : 1차원 데이터(리스트, 배열, 시리즈 등)"
   ]
  },
  {
   "cell_type": "markdown",
   "id": "fb5762e9-7205-4eb9-8092-afed671163f0",
   "metadata": {},
   "source": [
    "#### Q. 정규성을 충족하지 않는다고 가정한 후 Levene 검정을 수행"
   ]
  },
  {
   "cell_type": "code",
   "execution_count": 44,
   "id": "63d794c4-d77f-43ac-aee4-59d787dd4894",
   "metadata": {
    "tags": []
   },
   "outputs": [
    {
     "data": {
      "text/plain": [
       "(array([ 70,  80,  75,  65, 100,  98]),\n",
       " array([ 20, 100,  50,  94,  28,  80]),\n",
       " array([ 90,  97,  95,  94,  99, 100]))"
      ]
     },
     "execution_count": 44,
     "metadata": {},
     "output_type": "execute_result"
    }
   ],
   "source": [
    "# 위에서 만든 데이터 사용\n",
    "a, b, c"
   ]
  },
  {
   "cell_type": "code",
   "execution_count": 45,
   "id": "d713c34f-d749-4f8f-96d5-90684b42b614",
   "metadata": {
    "tags": []
   },
   "outputs": [
    {
     "data": {
      "text/plain": [
       "LeveneResult(statistic=14.365736704446384, pvalue=0.00032713621045500125)"
      ]
     },
     "execution_count": 45,
     "metadata": {},
     "output_type": "execute_result"
    }
   ],
   "source": [
    "from scipy.stats import levene\n",
    "levene(a, b, c)"
   ]
  },
  {
   "cell_type": "markdown",
   "id": "cd344cab-23c2-4585-9452-49d60f3e918f",
   "metadata": {},
   "source": [
    "- ```levene()``` 함수의 결과는 (검정통계량, p-value) 형태로 제공됨  \n",
    "- (statistic=14.365736704446384, pvalue=0.00032713621045500125)\n",
    "- p-value가 매우 작으므로 유의수준 5%에서 귀무가설을 기각하기 떄문에 그룹 간의 분산에 유의미한 차이가 있다고 할 수 있음"
   ]
  },
  {
   "cell_type": "code",
   "execution_count": null,
   "id": "39ce49c8-9d81-470d-acff-619ac3605bdd",
   "metadata": {},
   "outputs": [],
   "source": []
  },
  {
   "cell_type": "code",
   "execution_count": null,
   "id": "f63e1c20-9a73-46e7-b0c1-004fcad8fdfc",
   "metadata": {},
   "outputs": [],
   "source": []
  },
  {
   "cell_type": "markdown",
   "id": "284f76a6-f5c0-4f40-81f9-34953af14b41",
   "metadata": {},
   "source": [
    "#### 분산분석(ANOVA)\n",
    "- 분산분석 두 집단 이상의 모평균을 검증하기 위한 방법으로, 실험 설계와 반응변수나 요인의 수에 따라 다양하게 구분될 수 있음\n",
    "- 여기서는 **일원배치 분산분석**과 반복이 없는 **이원배치 분산분석**만 \n",
    "\n",
    "<br>\n",
    "\n",
    "#### **1) 일원배치 분산분석**\n",
    "- 일원배치 분산분석은 파이썬에서 Scipy 패키지나 statsmodels 패키지를 통해 수행할 수 있음\n",
    "- 사후검정이나 이원배치분산분석이 Scipy에서 지원하지 않아 여기선 statsmodels 패키지에서 활용한 방법만 다룰거임\n",
    "- 일반적으로 ```statsmodels``` 패키지의 ```formula.api``` 서브패키지를 불러와 ```ols``` 클래스를 통해 ```ols``` 모형객체를 생성한 후, 해당 객체의 메소드 ```fit()```을 이용해 적합함\n",
    "- 다음으로 ```statsmodels.stats.anova```(statsmodels 패키지의 stats 서브패키지 내 anova) 모듈에서 ```anova_lm()``` 함수를 불러와 분산분석표를 출력\n",
    "\n",
    "**클래스 사용법** \n",
    "- ```statsmodels.formula.api.ols(formula, data)```\n",
    "  - **formula** : 모형에 대한 식으로 여기서는 '반응변수 ~ C(그룹)'\n",
    "  - **data** : 데이터프레임\n",
    "\n",
    "**메소드 사용법**\n",
    "- ```statsmodels.stats.anova(args, ...)```\n",
    "  - **args** : 적합된 모형"
   ]
  },
  {
   "cell_type": "markdown",
   "id": "c89fdbb6-da4a-478d-ad11-da8b99847519",
   "metadata": {},
   "source": [
    "#### Q.\n",
    "A ~ C 세 개 학교에서 각 1,000명씩 층화 추출한 데이터를 활용해 세 학교 간 기말고사 성적의 평균이 서로 차이가 있는지 검정하고자 함 (성별, 학년의 비율은 세 학교가 동일하고, 정규성, 등분산성 등 만족 가정)"
   ]
  },
  {
   "cell_type": "code",
   "execution_count": 46,
   "id": "e7a393fe-e040-4645-bf1e-fe944a31bd62",
   "metadata": {
    "tags": []
   },
   "outputs": [],
   "source": [
    "# 데이터 호출 후 데이터프레임으로 변환\n",
    "import pandas as pd\n",
    "from statsmodels.formula.api import ols\n",
    "from statsmodels.stats.anova import anova_lm"
   ]
  },
  {
   "cell_type": "code",
   "execution_count": 98,
   "id": "a8a7c7e2-9dd4-4d08-a0a4-262fc3c4a173",
   "metadata": {
    "tags": []
   },
   "outputs": [
    {
     "data": {
      "text/html": [
       "<div>\n",
       "<style scoped>\n",
       "    .dataframe tbody tr th:only-of-type {\n",
       "        vertical-align: middle;\n",
       "    }\n",
       "\n",
       "    .dataframe tbody tr th {\n",
       "        vertical-align: top;\n",
       "    }\n",
       "\n",
       "    .dataframe thead th {\n",
       "        text-align: right;\n",
       "    }\n",
       "</style>\n",
       "<table border=\"1\" class=\"dataframe\">\n",
       "  <thead>\n",
       "    <tr style=\"text-align: right;\">\n",
       "      <th></th>\n",
       "      <th>id</th>\n",
       "      <th>School</th>\n",
       "      <th>Sex</th>\n",
       "      <th>Grade</th>\n",
       "      <th>Final</th>\n",
       "    </tr>\n",
       "  </thead>\n",
       "  <tbody>\n",
       "    <tr>\n",
       "      <th>0</th>\n",
       "      <td>1</td>\n",
       "      <td>A</td>\n",
       "      <td>M</td>\n",
       "      <td>1</td>\n",
       "      <td>44.4</td>\n",
       "    </tr>\n",
       "    <tr>\n",
       "      <th>1</th>\n",
       "      <td>2</td>\n",
       "      <td>A</td>\n",
       "      <td>M</td>\n",
       "      <td>2</td>\n",
       "      <td>47.7</td>\n",
       "    </tr>\n",
       "    <tr>\n",
       "      <th>2</th>\n",
       "      <td>3</td>\n",
       "      <td>A</td>\n",
       "      <td>M</td>\n",
       "      <td>3</td>\n",
       "      <td>65.6</td>\n",
       "    </tr>\n",
       "    <tr>\n",
       "      <th>3</th>\n",
       "      <td>4</td>\n",
       "      <td>A</td>\n",
       "      <td>F</td>\n",
       "      <td>1</td>\n",
       "      <td>50.7</td>\n",
       "    </tr>\n",
       "    <tr>\n",
       "      <th>4</th>\n",
       "      <td>5</td>\n",
       "      <td>A</td>\n",
       "      <td>F</td>\n",
       "      <td>2</td>\n",
       "      <td>51.3</td>\n",
       "    </tr>\n",
       "    <tr>\n",
       "      <th>...</th>\n",
       "      <td>...</td>\n",
       "      <td>...</td>\n",
       "      <td>...</td>\n",
       "      <td>...</td>\n",
       "      <td>...</td>\n",
       "    </tr>\n",
       "    <tr>\n",
       "      <th>2995</th>\n",
       "      <td>2996</td>\n",
       "      <td>C</td>\n",
       "      <td>M</td>\n",
       "      <td>2</td>\n",
       "      <td>84.1</td>\n",
       "    </tr>\n",
       "    <tr>\n",
       "      <th>2996</th>\n",
       "      <td>2997</td>\n",
       "      <td>C</td>\n",
       "      <td>M</td>\n",
       "      <td>3</td>\n",
       "      <td>81.6</td>\n",
       "    </tr>\n",
       "    <tr>\n",
       "      <th>2997</th>\n",
       "      <td>2998</td>\n",
       "      <td>C</td>\n",
       "      <td>F</td>\n",
       "      <td>1</td>\n",
       "      <td>83.2</td>\n",
       "    </tr>\n",
       "    <tr>\n",
       "      <th>2998</th>\n",
       "      <td>2999</td>\n",
       "      <td>C</td>\n",
       "      <td>F</td>\n",
       "      <td>2</td>\n",
       "      <td>92.8</td>\n",
       "    </tr>\n",
       "    <tr>\n",
       "      <th>2999</th>\n",
       "      <td>3000</td>\n",
       "      <td>C</td>\n",
       "      <td>F</td>\n",
       "      <td>3</td>\n",
       "      <td>100.0</td>\n",
       "    </tr>\n",
       "  </tbody>\n",
       "</table>\n",
       "<p>3000 rows × 5 columns</p>\n",
       "</div>"
      ],
      "text/plain": [
       "        id School Sex  Grade  Final\n",
       "0        1      A   M      1   44.4\n",
       "1        2      A   M      2   47.7\n",
       "2        3      A   M      3   65.6\n",
       "3        4      A   F      1   50.7\n",
       "4        5      A   F      2   51.3\n",
       "...    ...    ...  ..    ...    ...\n",
       "2995  2996      C   M      2   84.1\n",
       "2996  2997      C   M      3   81.6\n",
       "2997  2998      C   F      1   83.2\n",
       "2998  2999      C   F      2   92.8\n",
       "2999  3000      C   F      3  100.0\n",
       "\n",
       "[3000 rows x 5 columns]"
      ]
     },
     "execution_count": 98,
     "metadata": {},
     "output_type": "execute_result"
    }
   ],
   "source": [
    "df = pd.read_csv('data/예제/school_score.csv')\n",
    "df"
   ]
  },
  {
   "cell_type": "code",
   "execution_count": 48,
   "id": "4486d6b3-a0c4-49e2-acfa-e3b18013f300",
   "metadata": {
    "tags": []
   },
   "outputs": [],
   "source": [
    "# one way ols 모형객체 생성\n",
    "one_way = ols('Final ~ C(School)', data=df).fit()"
   ]
  },
  {
   "cell_type": "code",
   "execution_count": 49,
   "id": "5866020f-bf1d-4b25-92a3-13e57a6a3998",
   "metadata": {
    "tags": []
   },
   "outputs": [
    {
     "data": {
      "text/html": [
       "<div>\n",
       "<style scoped>\n",
       "    .dataframe tbody tr th:only-of-type {\n",
       "        vertical-align: middle;\n",
       "    }\n",
       "\n",
       "    .dataframe tbody tr th {\n",
       "        vertical-align: top;\n",
       "    }\n",
       "\n",
       "    .dataframe thead th {\n",
       "        text-align: right;\n",
       "    }\n",
       "</style>\n",
       "<table border=\"1\" class=\"dataframe\">\n",
       "  <thead>\n",
       "    <tr style=\"text-align: right;\">\n",
       "      <th></th>\n",
       "      <th>df</th>\n",
       "      <th>sum_sq</th>\n",
       "      <th>mean_sq</th>\n",
       "      <th>F</th>\n",
       "      <th>PR(&gt;F)</th>\n",
       "    </tr>\n",
       "  </thead>\n",
       "  <tbody>\n",
       "    <tr>\n",
       "      <th>C(School)</th>\n",
       "      <td>2.0</td>\n",
       "      <td>996939.237147</td>\n",
       "      <td>498469.618573</td>\n",
       "      <td>5722.221007</td>\n",
       "      <td>0.0</td>\n",
       "    </tr>\n",
       "    <tr>\n",
       "      <th>Residual</th>\n",
       "      <td>2997.0</td>\n",
       "      <td>261072.308290</td>\n",
       "      <td>87.111214</td>\n",
       "      <td>NaN</td>\n",
       "      <td>NaN</td>\n",
       "    </tr>\n",
       "  </tbody>\n",
       "</table>\n",
       "</div>"
      ],
      "text/plain": [
       "               df         sum_sq        mean_sq            F  PR(>F)\n",
       "C(School)     2.0  996939.237147  498469.618573  5722.221007     0.0\n",
       "Residual   2997.0  261072.308290      87.111214          NaN     NaN"
      ]
     },
     "execution_count": 49,
     "metadata": {},
     "output_type": "execute_result"
    }
   ],
   "source": [
    "# anova_lm 함수를 사용해 분산분석\n",
    "result = anova_lm(one_way)\n",
    "result"
   ]
  },
  {
   "cell_type": "markdown",
   "id": "d7be6033-1a38-461e-bf61-84174fa1f031",
   "metadata": {},
   "source": [
    "- ```anova_lm()``` 함수의 결과를 통해 ```df(자유도)```, ```sum_sq(합계제곱)```, ```mean_sq(평균 제곱)```, ```F```, ```Pr(>F)``` 값을 알 수 있음  \n",
    "- C(School)의 Pr(> F)값이 매우 작으므로 유의수준 5%에서 귀무가설을 기각하기 때문에 세 학교 간 기말고사 성적의 평균이 차이가 있다고 할 수 있음  \n",
    "- 세 학교 간에 차이는 분산분석을 통해 확인할 수 있지만, 세 학교가 모두 다른지, A, B 학교는 비슷하고, C만 다르다고 할 수 있는지는 확인할 수 없음  \n",
    "- 이를 위해 사후검정을 수행해야 함"
   ]
  },
  {
   "cell_type": "code",
   "execution_count": null,
   "id": "35b6e9b0-05a8-4edc-868a-5275fc605e95",
   "metadata": {},
   "outputs": [],
   "source": []
  },
  {
   "cell_type": "code",
   "execution_count": null,
   "id": "c7d25e0a-e9b9-4d4a-ab21-bcee029669d2",
   "metadata": {},
   "outputs": [],
   "source": []
  },
  {
   "cell_type": "markdown",
   "id": "e1428318-7154-4314-8786-5d5440d0bf93",
   "metadata": {},
   "source": [
    "#### **2) 사후검정**\n",
    "- 여기서는 사후검정으로 Tukey의 HSD 검정방법을 사용할 것임\n",
    "- 파이썬에서 Tukey의 HSD 검정은 statsmodels 내 서브패키지 stats 내 multicomp 내 ```pairwise_tukeyhsd()``` 함수를 통해 수행할 수 있음\n",
    "\n",
    "**메소드 사용법**\n",
    "- ```statsmodels.stats.multicomp.pairwise_tukeyhsd(endog, groups, alpha)```\n",
    "  - **endog** : 반응변수(1차원 데이터)\n",
    "  - **groups** : 그룹변수 (1차원 데이터)\n",
    "  - **alpha** : 유의수준"
   ]
  },
  {
   "cell_type": "markdown",
   "id": "cd20ed68-9046-4bae-ac6b-72ad1cdca8d0",
   "metadata": {},
   "source": [
    "#### Q.\n",
    "위에서 수행된 분산분석 이후 과정인 사후검정 수행하기 (튜키의 다중비교로 진행)"
   ]
  },
  {
   "cell_type": "code",
   "execution_count": 50,
   "id": "1fb8d8c9-335b-4a87-a68d-8f53c4e5863b",
   "metadata": {
    "tags": []
   },
   "outputs": [],
   "source": [
    "# 필요한 패키지 호출\n",
    "from statsmodels.stats.multicomp import pairwise_tukeyhsd"
   ]
  },
  {
   "cell_type": "code",
   "execution_count": 51,
   "id": "80ad0e9e-cdf0-43df-921e-fbce0973a530",
   "metadata": {
    "tags": []
   },
   "outputs": [
    {
     "name": "stdout",
     "output_type": "stream",
     "text": [
      "Multiple Comparison of Means - Tukey HSD, FWER=0.05 \n",
      "====================================================\n",
      "group1 group2 meandiff p-adj   lower   upper  reject\n",
      "----------------------------------------------------\n",
      "     A      B  38.8464    0.0 37.8677 39.8251   True\n",
      "     A      C  38.4922    0.0 37.5135 39.4709   True\n",
      "     B      C  -0.3542 0.6728 -1.3329  0.6245  False\n",
      "----------------------------------------------------\n"
     ]
    }
   ],
   "source": [
    "# tukey의 다중비교 시행\n",
    "tukey_result = pairwise_tukeyhsd(endog = df['Final'],\n",
    "                                 groups = df['School'],\n",
    "                                 alpha = 0.05)\n",
    "print(tukey_result)"
   ]
  },
  {
   "cell_type": "markdown",
   "id": "b0410bc0-dfac-42f1-a9c6-e3d2e12bfab6",
   "metadata": {},
   "source": [
    "- ```pairwise_tukeyhsd()``` 함수의 결과를 통해 두 그룹 간 평균 차이(meandiff)와 95%의 신뢰구간(lower, upper)을 확인할 수 있음\n",
    "- A와 B, A와 C는 신뢰구간에 0을 포함하지 않기 때문에 A와 B 학교 간, A와 C 학교 간에는 기말고사 평균은 차이가 있고 B와 C는 신뢰구간에 0을 포함하지 않으므로 b와 C 학교 간 기말고사 평균에는 차이가 없다고 해석할 수 있음\n",
    "- 신뢰구간을 보지 않더라도 ```reject```의 결과를 통해 ```False```인 경우 유의미한 차이가 없고, ```True```인 경우 유의미한 차이가 있다는 해석이 가능함\n",
    "- 참고) sandbox 내 서브패키지 stats 안의 서브패키지 multicomp (= statsmodels.sandbox.multicomp) 내 ```MultiComparison()``` 클래스를 통해 다중비교 객체를 생성한 후, 여러 메소드들을 통해서도 다양한 사후검정을 수행할 수 있음 "
   ]
  },
  {
   "cell_type": "code",
   "execution_count": null,
   "id": "466b6bba-95ad-4e97-ac6b-10c42de881ba",
   "metadata": {},
   "outputs": [],
   "source": []
  },
  {
   "cell_type": "code",
   "execution_count": null,
   "id": "03131c4f-d17f-4848-9a9b-d9336946fd8e",
   "metadata": {},
   "outputs": [],
   "source": []
  },
  {
   "cell_type": "markdown",
   "id": "06f00b73-c9c6-468c-ba3e-196c6e977cc7",
   "metadata": {},
   "source": [
    "#### **3) 이원배치 분산분석**\n",
    "- 이원배치 분산분석은 일원배치 분산분석과 유사한 방법으로 진행하지만 formula의 입력 방법에 차이가 있음\n",
    "- **교호작용이 있는 경우** : '반응변수 ~ C(그룹1) + C(그룹2) + C(그룹1):C(그룹2)'\n",
    "- **교호작용이 없는 경우** : '반응변수 ~ C(그룹1) + C(그룹2)'"
   ]
  },
  {
   "cell_type": "markdown",
   "id": "bbbeaceb-32c7-41b8-9dca-db32ee53cb31",
   "metadata": {},
   "source": [
    "#### Q.\n",
    "위에서 사용한 데이터를 사용해 학교와 성별이 기말고사 성적에 영향을 주는 지 알아보기 위해 이원배치 분산분석을 수행하기"
   ]
  },
  {
   "cell_type": "code",
   "execution_count": 52,
   "id": "ae71ad0b-55bc-4430-b01f-4eb583466caf",
   "metadata": {
    "tags": []
   },
   "outputs": [],
   "source": [
    "# two way ols 모형객체 생성 (교호작용 O)\n",
    "two_way = ols('Final ~ C(School) + C(Grade) + C(School):C(Grade)', data=df).fit()"
   ]
  },
  {
   "cell_type": "code",
   "execution_count": 53,
   "id": "3c1b437d-0291-49e9-b81a-f0cd680f0243",
   "metadata": {
    "tags": []
   },
   "outputs": [
    {
     "name": "stdout",
     "output_type": "stream",
     "text": [
      "                        df         sum_sq        mean_sq            F  \\\n",
      "C(School)              2.0  996939.237147  498469.618573  5721.620556   \n",
      "C(Grade)               2.0     324.472829     162.236415     1.862210   \n",
      "C(School):C(Grade)     4.0     170.851257      42.712814     0.490274   \n",
      "Residual            2991.0  260576.984204      87.120356          NaN   \n",
      "\n",
      "                      PR(>F)  \n",
      "C(School)           0.000000  \n",
      "C(Grade)            0.155509  \n",
      "C(School):C(Grade)  0.742912  \n",
      "Residual                 NaN  \n"
     ]
    }
   ],
   "source": [
    "# anova_lm 함수를 사용해 이원배치 분산분석\n",
    "result = anova_lm(two_way)\n",
    "print(result)"
   ]
  },
  {
   "cell_type": "markdown",
   "id": "4091aa8b-0809-4dc2-8761-dc3d376aa3d4",
   "metadata": {},
   "source": [
    "- 이원배치 분산분석에서 ```anova_lm()``` 함수의 결과를 통해 학교(School)와 학년(Grade)에 따른 **기말고사 점수의 영향**을 알 수 있으며, **교호작용 효과**까지 알 수 있음\n",
    "- 이원배치 분산분석에서는 상호작용항의 유의성을 먼저 고려함\n",
    "- C(School):C(Grade)의 ```PR(>F)```로부터 p-value가 매우 크므로 **상호작용 효과가 통계적으로 유의하지 않는 것**을 확인할 수 있음\n",
    "- 교호작용이 유의하지 않으므로 이를 고려하지 않고 다시 분산분석을 수행"
   ]
  },
  {
   "cell_type": "code",
   "execution_count": 54,
   "id": "c0383cac-aa7c-4c23-b3a4-fce145b1ea3c",
   "metadata": {
    "tags": []
   },
   "outputs": [],
   "source": [
    "# two_way ols 모형객체 생성 (교호작용 X)\n",
    "two_way = ols('Final ~ C(School) + C(Grade)', data=df).fit()"
   ]
  },
  {
   "cell_type": "code",
   "execution_count": 55,
   "id": "13ed429c-6cb7-4976-bb5f-eef3895abbf2",
   "metadata": {
    "tags": []
   },
   "outputs": [
    {
     "name": "stdout",
     "output_type": "stream",
     "text": [
      "               df         sum_sq        mean_sq            F    PR(>F)\n",
      "C(School)     2.0  996939.237147  498469.618573  5725.518315  0.000000\n",
      "C(Grade)      2.0     324.472829     162.236415     1.863479  0.155312\n",
      "Residual   2995.0  260747.835461      87.061047          NaN       NaN\n"
     ]
    }
   ],
   "source": [
    "# anova_lm 함수를 사용해 이원배치 분산분석\n",
    "result = anova_lm(two_way)\n",
    "print(result)"
   ]
  },
  {
   "cell_type": "markdown",
   "id": "fa8258df-7b16-478a-a500-55b799e7655c",
   "metadata": {},
   "source": [
    "- C(School)의 ```PR(>F)```로부터 p-value가 매우 작아 학교 간 기말고사 평균에는 차이가 있음을 확인할 수 있음\n",
    "- C(Grade)의 ```PR(>F)```로부터 p-value가 0.155로 0.05보다 크기 때문에 유의수준 5%에서 학년에 따른 기말고사 평균은 유의한 차이가 없음이 확인되었음"
   ]
  },
  {
   "cell_type": "code",
   "execution_count": null,
   "id": "8956c074-4aca-4f41-9db3-34faed33cf96",
   "metadata": {},
   "outputs": [],
   "source": []
  },
  {
   "cell_type": "code",
   "execution_count": null,
   "id": "5cbd295b-643c-41ac-9a80-9596041f9c29",
   "metadata": {},
   "outputs": [],
   "source": []
  },
  {
   "cell_type": "markdown",
   "id": "e51184c7-3760-4ee9-9152-19fc4e7064b1",
   "metadata": {},
   "source": [
    "### 4절: 카이제곱 검정\n",
    "- 주로 범주형 자료 분석에 사용되는 카이제곱 검정은 카이제곱 분포에 근거한 통계적 검정 방법  \n",
    "- 적합적 검정, 동질성 검정, 독립성 검정\n",
    "\n",
    "#### **1) 적합성 검정**\n",
    "- 파이썬에서 적합성 검정을 수행하기 위해서는 SciPy 패키지의 stats 서브패키지를 호출한 후 stats에서 제공하는 ```chisquare```함수 이용\n",
    "\n",
    "**메소드 사용법**\n",
    "- ```scipy.stats.chisquare(f_obs, f_exp, ...)```\n",
    "  - **f_obs** : 관측도수\n",
    "  - **f_exp** : 기대도수"
   ]
  },
  {
   "cell_type": "markdown",
   "id": "eec5279e-b901-4614-8862-7d875b98f03b",
   "metadata": {},
   "source": [
    "#### Q.\n",
    "A회사에서 출시되는 제품 공정 결과의 예를 보고 색상과 관계 없이 동일한 비율로 제품을 생산하는지 적합성 검정 수행"
   ]
  },
  {
   "cell_type": "code",
   "execution_count": 56,
   "id": "09031698-7ea3-49d0-90b5-5b91ef6c910b",
   "metadata": {
    "tags": []
   },
   "outputs": [],
   "source": [
    "color = ['Black', 'Gold', 'Purple', 'Red', 'White' ]  # 색상 (분석에는 필요X)\n",
    "counts = [423, 304, 274, 205, 294]                    # 수량 (합계 1500)\n",
    "expected = 300                                        # 기대도수 (동일한 비율 = 1500/5 = 300)"
   ]
  },
  {
   "cell_type": "code",
   "execution_count": 57,
   "id": "561f979d-f4c9-401c-973f-c01abab911eb",
   "metadata": {
    "tags": []
   },
   "outputs": [],
   "source": [
    "# 적합성 검정 수행\n",
    "from scipy.stats import chisquare"
   ]
  },
  {
   "cell_type": "code",
   "execution_count": 58,
   "id": "1a7455e8-b449-479f-8258-87d671a5cab6",
   "metadata": {
    "tags": []
   },
   "outputs": [
    {
     "data": {
      "text/plain": [
       "Power_divergenceResult(statistic=82.94, pvalue=4.14849046718008e-17)"
      ]
     },
     "execution_count": 58,
     "metadata": {},
     "output_type": "execute_result"
    }
   ],
   "source": [
    "chisquare(f_obs = counts, f_exp = expected)"
   ]
  },
  {
   "cell_type": "markdown",
   "id": "e91cd9f9-7ee8-49a6-993b-c13108ad631e",
   "metadata": {},
   "source": [
    "- ```chisquare()``` 함수의 결과는 (카이제곱통계량, p-value) 형태로 제공됨  \n",
    "- (statistic=82.94, pvalue=4.14849046718008e-17)\n",
    "- p-value가 매우 작으므로 유의수준 5%에서 귀무가설을 기각하기 떄문에 색상별로 동일한 비율로 생산되고 있지 않다고 볼 수 있음"
   ]
  },
  {
   "cell_type": "code",
   "execution_count": null,
   "id": "fd644e4b-4699-4245-9439-ffd1b0f9daa2",
   "metadata": {},
   "outputs": [],
   "source": []
  },
  {
   "cell_type": "markdown",
   "id": "9774cc63-2ae5-4c34-8efb-91c8e4b1b740",
   "metadata": {},
   "source": [
    "#### **2) 동질성 검정**\n",
    "- 파이썬에서 동질성 검정을 수행하기 위해서는 SciPy 패키지의 stats 서브패키지를 호출한 후 stats에서 제공하는 ```chi2_contingency``` 함수 사용\n",
    "\n",
    "**메소드 사용법**\n",
    "- ```scipy.stats.chi2_contingency(observed, ...)```\n",
    "  - **observed** : R X C 교차표"
   ]
  },
  {
   "cell_type": "markdown",
   "id": "2f3e89ae-1015-474a-8e30-34796e6f6445",
   "metadata": {},
   "source": [
    "#### Q.\n",
    "A 회사의 성별에 따른 제품 선호도 조사의 예를 보고 성별 간 선호도의 차이 검증을 위한 동질성 검정 수행"
   ]
  },
  {
   "cell_type": "code",
   "execution_count": 60,
   "id": "0a6d3265-e1ba-49d9-8125-c424d544ca6f",
   "metadata": {
    "tags": []
   },
   "outputs": [],
   "source": [
    "from scipy.stats import chi2_contingency"
   ]
  },
  {
   "cell_type": "code",
   "execution_count": 62,
   "id": "15da78a4-4898-416b-9325-182cf3681c90",
   "metadata": {
    "tags": []
   },
   "outputs": [
    {
     "data": {
      "text/html": [
       "<div>\n",
       "<style scoped>\n",
       "    .dataframe tbody tr th:only-of-type {\n",
       "        vertical-align: middle;\n",
       "    }\n",
       "\n",
       "    .dataframe tbody tr th {\n",
       "        vertical-align: top;\n",
       "    }\n",
       "\n",
       "    .dataframe thead th {\n",
       "        text-align: right;\n",
       "    }\n",
       "</style>\n",
       "<table border=\"1\" class=\"dataframe\">\n",
       "  <thead>\n",
       "    <tr style=\"text-align: right;\">\n",
       "      <th></th>\n",
       "      <th>Good</th>\n",
       "      <th>Bad</th>\n",
       "    </tr>\n",
       "  </thead>\n",
       "  <tbody>\n",
       "    <tr>\n",
       "      <th>0</th>\n",
       "      <td>400</td>\n",
       "      <td>350</td>\n",
       "    </tr>\n",
       "    <tr>\n",
       "      <th>1</th>\n",
       "      <td>350</td>\n",
       "      <td>800</td>\n",
       "    </tr>\n",
       "  </tbody>\n",
       "</table>\n",
       "</div>"
      ],
      "text/plain": [
       "   Good  Bad\n",
       "0   400  350\n",
       "1   350  800"
      ]
     },
     "execution_count": 62,
     "metadata": {},
     "output_type": "execute_result"
    }
   ],
   "source": [
    "# 데이터프레임 생성\n",
    "obj = { \"Good\" : [400, 350],\n",
    "        \"Bad\" : [350, 800] }\n",
    "cross = pd.DataFrame(obj)\n",
    "cross"
   ]
  },
  {
   "cell_type": "code",
   "execution_count": 68,
   "id": "0320ea56-ea89-4136-a580-68d4ba6d0ac1",
   "metadata": {
    "tags": []
   },
   "outputs": [
    {
     "name": "stdout",
     "output_type": "stream",
     "text": [
      "카이제곱 통계량:  98.66917336693975\n",
      "p-value:  2.984113573360021e-23\n",
      "지유도:  1\n",
      "기대빈도:  [[296.05263158 453.94736842]\n",
      " [453.94736842 696.05263158]]\n"
     ]
    }
   ],
   "source": [
    "# 동질성 검정 수행\n",
    "chi, p, df, expected = chi2_contingency(cross)\n",
    "print(\"카이제곱 통계량: \", chi)\n",
    "print(\"p-value: \", p)\n",
    "print(\"지유도: \", df)\n",
    "print(\"기대빈도: \", expected)"
   ]
  },
  {
   "cell_type": "markdown",
   "id": "e42392f9-c49e-44a1-9d26-b7afc02ddb72",
   "metadata": {},
   "source": [
    "- ```chi2_contigency()``` 함수는 카이제곱 통계량(chi2 stat), p-value, 자유도(Degrees of Freedom), 기대빈도 (Expected Freequencies)를 반환함\n",
    "- p-value가 매우 작으므로 유의수준 5%에서 귀무가설을 기각하기 때문에 성별에 따라 선호도의 비율이 다르다고 할 수 있음"
   ]
  },
  {
   "cell_type": "code",
   "execution_count": null,
   "id": "40719289-998c-4b95-a2dd-1749aff40353",
   "metadata": {},
   "outputs": [],
   "source": []
  },
  {
   "cell_type": "code",
   "execution_count": null,
   "id": "94418029-8c05-43d5-b4d2-dd7ebe38ae7d",
   "metadata": {},
   "outputs": [],
   "source": []
  },
  {
   "cell_type": "markdown",
   "id": "39f4d3c7-4ef5-451b-b136-13f23f36e117",
   "metadata": {},
   "source": [
    "#### **3) 독립성 검정**\n",
    "- 파이썬에서 동질성 검정을 수행하기 위해서는 SciPy 패키지의 stats 서브패키지를 호출한 후 stats에서 제공하는 ```chi2_contingency``` 함수 사용\n",
    "\n",
    "**메소드 사용법**\n",
    "- ```scipy.stats.chi2_contingency(observed, ...)```\n",
    "  - **observed** : R X C 교차표"
   ]
  },
  {
   "cell_type": "markdown",
   "id": "6541e380-61a6-4830-8001-7d9b3a8e3a07",
   "metadata": {},
   "source": [
    "#### Q.\n",
    "A 회사의 출시된 제품의 한 달 간 판매량의 예를 통해 성별과 색상이 서로 관련이 있는지 알아보기 위해 독립성 검정 수행"
   ]
  },
  {
   "cell_type": "code",
   "execution_count": 71,
   "id": "f76d2bdc-6972-4412-8eed-b00bb94536f1",
   "metadata": {
    "tags": []
   },
   "outputs": [],
   "source": [
    "from scipy.stats import chi2_contingency"
   ]
  },
  {
   "cell_type": "code",
   "execution_count": 72,
   "id": "62475941-b44d-4eb8-acd8-4be37c041782",
   "metadata": {
    "tags": []
   },
   "outputs": [
    {
     "data": {
      "text/html": [
       "<div>\n",
       "<style scoped>\n",
       "    .dataframe tbody tr th:only-of-type {\n",
       "        vertical-align: middle;\n",
       "    }\n",
       "\n",
       "    .dataframe tbody tr th {\n",
       "        vertical-align: top;\n",
       "    }\n",
       "\n",
       "    .dataframe thead th {\n",
       "        text-align: right;\n",
       "    }\n",
       "</style>\n",
       "<table border=\"1\" class=\"dataframe\">\n",
       "  <thead>\n",
       "    <tr style=\"text-align: right;\">\n",
       "      <th></th>\n",
       "      <th>Black</th>\n",
       "      <th>Gold</th>\n",
       "      <th>Purple</th>\n",
       "      <th>Red</th>\n",
       "      <th>White</th>\n",
       "    </tr>\n",
       "  </thead>\n",
       "  <tbody>\n",
       "    <tr>\n",
       "      <th>0</th>\n",
       "      <td>1620</td>\n",
       "      <td>385</td>\n",
       "      <td>778</td>\n",
       "      <td>394</td>\n",
       "      <td>800</td>\n",
       "    </tr>\n",
       "    <tr>\n",
       "      <th>1</th>\n",
       "      <td>2380</td>\n",
       "      <td>615</td>\n",
       "      <td>1230</td>\n",
       "      <td>610</td>\n",
       "      <td>180</td>\n",
       "    </tr>\n",
       "  </tbody>\n",
       "</table>\n",
       "</div>"
      ],
      "text/plain": [
       "   Black  Gold  Purple  Red  White\n",
       "0   1620   385     778  394    800\n",
       "1   2380   615    1230  610    180"
      ]
     },
     "execution_count": 72,
     "metadata": {},
     "output_type": "execute_result"
    }
   ],
   "source": [
    "# 교차표에 맞게 df 생성\n",
    "obj = {'Black' : [1620, 2380],\n",
    "       'Gold' : [385, 615],\n",
    "       'Purple' : [778, 1230],\n",
    "       'Red' : [394, 610],\n",
    "       'White' : [800, 180] }\n",
    "cross = pd.DataFrame(obj)\n",
    "cross"
   ]
  },
  {
   "cell_type": "code",
   "execution_count": 73,
   "id": "693e96a0-312a-4741-a680-ec4fa9583807",
   "metadata": {
    "tags": []
   },
   "outputs": [
    {
     "name": "stdout",
     "output_type": "stream",
     "text": [
      "카이제곱 통계량:  626.2830361414021\n",
      "p-value:  3.1731601033660286e-134\n",
      "지유도:  4\n",
      "기대빈도:  [[1769.12811388  442.28202847  888.10231317  444.05115658  433.4363879 ]\n",
      " [2230.87188612  557.71797153 1119.89768683  559.94884342  546.5636121 ]]\n"
     ]
    }
   ],
   "source": [
    "# 동질성 검정 수행\n",
    "chi, p, df, expected = chi2_contingency(cross)\n",
    "\n",
    "print(\"카이제곱 통계량: \", chi)\n",
    "print(\"p-value: \", p)\n",
    "print(\"지유도: \", df)\n",
    "print(\"기대빈도: \", expected)"
   ]
  },
  {
   "cell_type": "markdown",
   "id": "e7f6d6e1-dd97-4668-9251-6f29fe7feaa2",
   "metadata": {},
   "source": [
    "- ```chi2_contigency()``` 함수는 카이제곱 통계량(chi2 stat), p-value, 자유도(Degrees of Freedom), 기대빈도 (Expected Freequencies)를 반환함\n",
    "- p-value가 매우 작으므로 유의수준 5%에서 귀무가설을 기각하기 때문에 두 변수는 종속적임. (즉, 성별과 색상은 서로 관련이 있음)"
   ]
  },
  {
   "cell_type": "code",
   "execution_count": null,
   "id": "c6f9235a-65f3-4ba3-95e8-b9c0dae7d2c5",
   "metadata": {},
   "outputs": [],
   "source": []
  },
  {
   "cell_type": "markdown",
   "id": "8029c7b0-9482-4784-a4d2-fe47a3a20fef",
   "metadata": {},
   "source": [
    "#### 교차표 만들기\n",
    "- 실제 시험에서는 교차표의 형태가 아닌 데이터를 불러와 검정을 수행할 수 있음  \n",
    "- Pandas 내 ```crosstab()``` 함수를 통해 교차표를 만든 후 동일한 형태로 수행하면 됨\n",
    "\n",
    "**함수 사용법**\n",
    "- ```pandas.crosstab(index, columns, ...)```\n",
    "  - **index** : 교차표 상 행으로 들어갈 데이터\n",
    "  - **columns** : 교차표 상 열로 들어갈 데이터"
   ]
  },
  {
   "cell_type": "code",
   "execution_count": null,
   "id": "1b96b1f5-4a57-49f8-bdc8-a07cc59450ca",
   "metadata": {},
   "outputs": [],
   "source": []
  },
  {
   "cell_type": "code",
   "execution_count": null,
   "id": "5b187664-8c9f-4a3d-8e11-e7a53497200c",
   "metadata": {},
   "outputs": [],
   "source": []
  },
  {
   "cell_type": "markdown",
   "id": "632518f8-a588-4bef-aff3-7c8718d19dbc",
   "metadata": {},
   "source": [
    "### 5절: 비모수 검정\n",
    "- 모수적 검정은 가설 검정 시 분포를 가정하기 때문에 실제 데이터가 가정한 분포와 이질적일수록 잘못된 결론을 내릴 가능성이 높음\n",
    "- 실제 분석에서는 **정규성 검정이 선행**되고, 분포를 충족한 근거가 없을 경우 **비모수 검정을 수행**해야 함\n",
    "\n",
    "#### **1) 스피어만 상관계수 검정**\n",
    "- 스피어만 상관계수는 ```spearmanr()```로 구할 수 있음\n",
    "- 파이썬에서 스피어만 상관계수를 수행하기 위해 SciPy 패키지의 stats 서브패키지를 호출한 후 stats에서 제공하는 ```spearmanr``` 함수를 사용함\n",
    "\n",
    "**함수 사용법**\n",
    "- ```scipy.stats.searmanr(a, b)```\n",
    "  - **a**: 1차원 데이터 (리스트, 배열, 시리즈 등)\n",
    "  - **b**: 1차원 데이터 (리스트, 배열, 시리즈 등)"
   ]
  },
  {
   "cell_type": "code",
   "execution_count": 74,
   "id": "34cd259f-c8ea-4f42-8d8a-549f603b395f",
   "metadata": {
    "tags": []
   },
   "outputs": [],
   "source": [
    "from scipy.stats import spearmanr"
   ]
  },
  {
   "cell_type": "code",
   "execution_count": 76,
   "id": "c0f3bbba-0d19-4048-b8d6-77068352d122",
   "metadata": {
    "tags": []
   },
   "outputs": [
    {
     "data": {
      "text/html": [
       "<div>\n",
       "<style scoped>\n",
       "    .dataframe tbody tr th:only-of-type {\n",
       "        vertical-align: middle;\n",
       "    }\n",
       "\n",
       "    .dataframe tbody tr th {\n",
       "        vertical-align: top;\n",
       "    }\n",
       "\n",
       "    .dataframe thead th {\n",
       "        text-align: right;\n",
       "    }\n",
       "</style>\n",
       "<table border=\"1\" class=\"dataframe\">\n",
       "  <thead>\n",
       "    <tr style=\"text-align: right;\">\n",
       "      <th></th>\n",
       "      <th>age</th>\n",
       "      <th>sex</th>\n",
       "      <th>bmi</th>\n",
       "      <th>bp</th>\n",
       "      <th>s1</th>\n",
       "      <th>s2</th>\n",
       "      <th>s3</th>\n",
       "      <th>s4</th>\n",
       "      <th>s5</th>\n",
       "      <th>s6</th>\n",
       "    </tr>\n",
       "  </thead>\n",
       "  <tbody>\n",
       "    <tr>\n",
       "      <th>0</th>\n",
       "      <td>0.038076</td>\n",
       "      <td>0.050680</td>\n",
       "      <td>0.061696</td>\n",
       "      <td>0.021872</td>\n",
       "      <td>-0.044223</td>\n",
       "      <td>-0.034821</td>\n",
       "      <td>-0.043401</td>\n",
       "      <td>-0.002592</td>\n",
       "      <td>0.019907</td>\n",
       "      <td>-0.017646</td>\n",
       "    </tr>\n",
       "    <tr>\n",
       "      <th>1</th>\n",
       "      <td>-0.001882</td>\n",
       "      <td>-0.044642</td>\n",
       "      <td>-0.051474</td>\n",
       "      <td>-0.026328</td>\n",
       "      <td>-0.008449</td>\n",
       "      <td>-0.019163</td>\n",
       "      <td>0.074412</td>\n",
       "      <td>-0.039493</td>\n",
       "      <td>-0.068332</td>\n",
       "      <td>-0.092204</td>\n",
       "    </tr>\n",
       "    <tr>\n",
       "      <th>2</th>\n",
       "      <td>0.085299</td>\n",
       "      <td>0.050680</td>\n",
       "      <td>0.044451</td>\n",
       "      <td>-0.005670</td>\n",
       "      <td>-0.045599</td>\n",
       "      <td>-0.034194</td>\n",
       "      <td>-0.032356</td>\n",
       "      <td>-0.002592</td>\n",
       "      <td>0.002861</td>\n",
       "      <td>-0.025930</td>\n",
       "    </tr>\n",
       "    <tr>\n",
       "      <th>3</th>\n",
       "      <td>-0.089063</td>\n",
       "      <td>-0.044642</td>\n",
       "      <td>-0.011595</td>\n",
       "      <td>-0.036656</td>\n",
       "      <td>0.012191</td>\n",
       "      <td>0.024991</td>\n",
       "      <td>-0.036038</td>\n",
       "      <td>0.034309</td>\n",
       "      <td>0.022688</td>\n",
       "      <td>-0.009362</td>\n",
       "    </tr>\n",
       "    <tr>\n",
       "      <th>4</th>\n",
       "      <td>0.005383</td>\n",
       "      <td>-0.044642</td>\n",
       "      <td>-0.036385</td>\n",
       "      <td>0.021872</td>\n",
       "      <td>0.003935</td>\n",
       "      <td>0.015596</td>\n",
       "      <td>0.008142</td>\n",
       "      <td>-0.002592</td>\n",
       "      <td>-0.031988</td>\n",
       "      <td>-0.046641</td>\n",
       "    </tr>\n",
       "    <tr>\n",
       "      <th>...</th>\n",
       "      <td>...</td>\n",
       "      <td>...</td>\n",
       "      <td>...</td>\n",
       "      <td>...</td>\n",
       "      <td>...</td>\n",
       "      <td>...</td>\n",
       "      <td>...</td>\n",
       "      <td>...</td>\n",
       "      <td>...</td>\n",
       "      <td>...</td>\n",
       "    </tr>\n",
       "    <tr>\n",
       "      <th>437</th>\n",
       "      <td>0.041708</td>\n",
       "      <td>0.050680</td>\n",
       "      <td>0.019662</td>\n",
       "      <td>0.059744</td>\n",
       "      <td>-0.005697</td>\n",
       "      <td>-0.002566</td>\n",
       "      <td>-0.028674</td>\n",
       "      <td>-0.002592</td>\n",
       "      <td>0.031193</td>\n",
       "      <td>0.007207</td>\n",
       "    </tr>\n",
       "    <tr>\n",
       "      <th>438</th>\n",
       "      <td>-0.005515</td>\n",
       "      <td>0.050680</td>\n",
       "      <td>-0.015906</td>\n",
       "      <td>-0.067642</td>\n",
       "      <td>0.049341</td>\n",
       "      <td>0.079165</td>\n",
       "      <td>-0.028674</td>\n",
       "      <td>0.034309</td>\n",
       "      <td>-0.018114</td>\n",
       "      <td>0.044485</td>\n",
       "    </tr>\n",
       "    <tr>\n",
       "      <th>439</th>\n",
       "      <td>0.041708</td>\n",
       "      <td>0.050680</td>\n",
       "      <td>-0.015906</td>\n",
       "      <td>0.017293</td>\n",
       "      <td>-0.037344</td>\n",
       "      <td>-0.013840</td>\n",
       "      <td>-0.024993</td>\n",
       "      <td>-0.011080</td>\n",
       "      <td>-0.046883</td>\n",
       "      <td>0.015491</td>\n",
       "    </tr>\n",
       "    <tr>\n",
       "      <th>440</th>\n",
       "      <td>-0.045472</td>\n",
       "      <td>-0.044642</td>\n",
       "      <td>0.039062</td>\n",
       "      <td>0.001215</td>\n",
       "      <td>0.016318</td>\n",
       "      <td>0.015283</td>\n",
       "      <td>-0.028674</td>\n",
       "      <td>0.026560</td>\n",
       "      <td>0.044529</td>\n",
       "      <td>-0.025930</td>\n",
       "    </tr>\n",
       "    <tr>\n",
       "      <th>441</th>\n",
       "      <td>-0.045472</td>\n",
       "      <td>-0.044642</td>\n",
       "      <td>-0.073030</td>\n",
       "      <td>-0.081413</td>\n",
       "      <td>0.083740</td>\n",
       "      <td>0.027809</td>\n",
       "      <td>0.173816</td>\n",
       "      <td>-0.039493</td>\n",
       "      <td>-0.004222</td>\n",
       "      <td>0.003064</td>\n",
       "    </tr>\n",
       "  </tbody>\n",
       "</table>\n",
       "<p>442 rows × 10 columns</p>\n",
       "</div>"
      ],
      "text/plain": [
       "          age       sex       bmi        bp        s1        s2        s3  \\\n",
       "0    0.038076  0.050680  0.061696  0.021872 -0.044223 -0.034821 -0.043401   \n",
       "1   -0.001882 -0.044642 -0.051474 -0.026328 -0.008449 -0.019163  0.074412   \n",
       "2    0.085299  0.050680  0.044451 -0.005670 -0.045599 -0.034194 -0.032356   \n",
       "3   -0.089063 -0.044642 -0.011595 -0.036656  0.012191  0.024991 -0.036038   \n",
       "4    0.005383 -0.044642 -0.036385  0.021872  0.003935  0.015596  0.008142   \n",
       "..        ...       ...       ...       ...       ...       ...       ...   \n",
       "437  0.041708  0.050680  0.019662  0.059744 -0.005697 -0.002566 -0.028674   \n",
       "438 -0.005515  0.050680 -0.015906 -0.067642  0.049341  0.079165 -0.028674   \n",
       "439  0.041708  0.050680 -0.015906  0.017293 -0.037344 -0.013840 -0.024993   \n",
       "440 -0.045472 -0.044642  0.039062  0.001215  0.016318  0.015283 -0.028674   \n",
       "441 -0.045472 -0.044642 -0.073030 -0.081413  0.083740  0.027809  0.173816   \n",
       "\n",
       "           s4        s5        s6  \n",
       "0   -0.002592  0.019907 -0.017646  \n",
       "1   -0.039493 -0.068332 -0.092204  \n",
       "2   -0.002592  0.002861 -0.025930  \n",
       "3    0.034309  0.022688 -0.009362  \n",
       "4   -0.002592 -0.031988 -0.046641  \n",
       "..        ...       ...       ...  \n",
       "437 -0.002592  0.031193  0.007207  \n",
       "438  0.034309 -0.018114  0.044485  \n",
       "439 -0.011080 -0.046883  0.015491  \n",
       "440  0.026560  0.044529 -0.025930  \n",
       "441 -0.039493 -0.004222  0.003064  \n",
       "\n",
       "[442 rows x 10 columns]"
      ]
     },
     "execution_count": 76,
     "metadata": {},
     "output_type": "execute_result"
    }
   ],
   "source": [
    "# 1절에 있는 diabetes 데이터 다시 이용\n",
    "data = pd.DataFrame(diabetes.data, columns = diabetes.feature_names)\n",
    "data"
   ]
  },
  {
   "cell_type": "code",
   "execution_count": 78,
   "id": "4a43210e-8ffc-4b10-a065-a793b0e71846",
   "metadata": {
    "tags": []
   },
   "outputs": [
    {
     "data": {
      "text/plain": [
       "SignificanceResult(statistic=0.09807947297621517, pvalue=0.03929011358104615)"
      ]
     },
     "execution_count": 78,
     "metadata": {},
     "output_type": "execute_result"
    }
   ],
   "source": [
    "spearmanr(a = data['sex'], b = data['bmi'])"
   ]
  },
  {
   "cell_type": "markdown",
   "id": "f8d9355e-18ed-46f1-a616-a5096aeb2a68",
   "metadata": {},
   "source": [
    "- ```spearmanr()```의 결과, 상관계수가 0.098로 두 컬럼은 서로 상관관계가 적은 것으로 나타났음\n",
    "- p-value가 0.039로 유의수준 5%에서 귀무가설을 기각하기 때문에 상관계수는 작지만 유의하다는 것을 확인할 수 있음\n",
    "- 피어슨 상관계수처럼 스피어만 상관계수도 단순한 상관계수만의 산출은 데이터프레임 객체의 메소드 ```corr()```에 옵션 ```method = 'spearman'```을 통해 가능함"
   ]
  },
  {
   "cell_type": "code",
   "execution_count": 81,
   "id": "cb2ad19a-41b5-440d-b502-4a5a999270b5",
   "metadata": {
    "tags": []
   },
   "outputs": [
    {
     "data": {
      "text/html": [
       "<div>\n",
       "<style scoped>\n",
       "    .dataframe tbody tr th:only-of-type {\n",
       "        vertical-align: middle;\n",
       "    }\n",
       "\n",
       "    .dataframe tbody tr th {\n",
       "        vertical-align: top;\n",
       "    }\n",
       "\n",
       "    .dataframe thead th {\n",
       "        text-align: right;\n",
       "    }\n",
       "</style>\n",
       "<table border=\"1\" class=\"dataframe\">\n",
       "  <thead>\n",
       "    <tr style=\"text-align: right;\">\n",
       "      <th></th>\n",
       "      <th>sex</th>\n",
       "      <th>bmi</th>\n",
       "    </tr>\n",
       "  </thead>\n",
       "  <tbody>\n",
       "    <tr>\n",
       "      <th>sex</th>\n",
       "      <td>1.000000</td>\n",
       "      <td>0.098079</td>\n",
       "    </tr>\n",
       "    <tr>\n",
       "      <th>bmi</th>\n",
       "      <td>0.098079</td>\n",
       "      <td>1.000000</td>\n",
       "    </tr>\n",
       "  </tbody>\n",
       "</table>\n",
       "</div>"
      ],
      "text/plain": [
       "          sex       bmi\n",
       "sex  1.000000  0.098079\n",
       "bmi  0.098079  1.000000"
      ]
     },
     "execution_count": 81,
     "metadata": {},
     "output_type": "execute_result"
    }
   ],
   "source": [
    "# corr(method='spearman')\n",
    "data[['sex', 'bmi']].corr(method='spearman')"
   ]
  },
  {
   "cell_type": "code",
   "execution_count": null,
   "id": "67ff537f-c9fb-4a53-8597-23969ac19d6a",
   "metadata": {},
   "outputs": [],
   "source": []
  },
  {
   "cell_type": "markdown",
   "id": "f04c258b-36e1-43cc-a040-51d6ea955fb9",
   "metadata": {},
   "source": [
    "#### **2) 켄달의 타우 검정**\n",
    "- 파이썬에서 켄달(Kendal)의 타우(Tau; τ) 검정을 위해서는 Scipy 패키지의 stats 서브패키지를 호출한 후 stats에서 제공하는 ```kendalltau``` 함수를 사용함\n",
    "\n",
    "**함수 사용법**\n",
    "- ```scipy.stats.kendalltau(x, y, alternative='two-sided')```\n",
    "  - **x**: 순서가 있는 1차원 데이터 (리스트, 배열, 시리즈 등)\n",
    "  - **y**: 순서가 있는 1차원 데이터 (리스트, 배열, 시리즈 등)\n",
    "  - **alternative** : 대립가설 정의\n",
    "    - 'two-sided' : 순위상관계수가 0이 아님(default)\n",
    "    - 'less' : 순위상관계수가 0보다 작음\n",
    "    - 'greater' : 순위상관계수가 0보다 큼"
   ]
  },
  {
   "cell_type": "markdown",
   "id": "42efeaba-affe-4759-b4a2-a467f58752d4",
   "metadata": {},
   "source": [
    "#### Q.\n",
    "두 개의 등수 데이터를 임의로 생성하고 두 순위 간 상관관계가 있는지 검정하기"
   ]
  },
  {
   "cell_type": "code",
   "execution_count": 82,
   "id": "f4f0f3e6-ce8e-460f-8dfd-7198aa606524",
   "metadata": {
    "tags": []
   },
   "outputs": [],
   "source": [
    "# 두 개의 등수 데이터 임의 생성\n",
    "x = np.array([5, 4, 3, 6, 1, 2])\n",
    "y = np.array([1, 5, 2, 2, 2, 6])"
   ]
  },
  {
   "cell_type": "code",
   "execution_count": 83,
   "id": "dba1935b-dfe0-47fc-9ead-344d29b60791",
   "metadata": {
    "tags": []
   },
   "outputs": [],
   "source": [
    "# 켄달의 타우검정 실시\n",
    "from scipy.stats import kendalltau"
   ]
  },
  {
   "cell_type": "code",
   "execution_count": 84,
   "id": "5a1813ab-a31f-4d00-ae5c-7facd2a1caab",
   "metadata": {
    "tags": []
   },
   "outputs": [
    {
     "data": {
      "text/plain": [
       "SignificanceResult(statistic=-0.29814239699997197, pvalue=0.4205962375999266)"
      ]
     },
     "execution_count": 84,
     "metadata": {},
     "output_type": "execute_result"
    }
   ],
   "source": [
    "kendalltau(x, y)"
   ]
  },
  {
   "cell_type": "markdown",
   "id": "fdf12079-0aa7-46a5-ad87-450156f30815",
   "metadata": {},
   "source": [
    "- ```kendalltau()```의 결과는 (상관계수, p-value)의 형태로 제공됨\n",
    "- 상관계수가 -0.298, p-value가 0.420으로 순위 간 상관관계가 거의 없는 것으로 확인되었음\n",
    "- 참고) 스피어만 상관계수 검정은 켄달타우 검정과 마찬가지로 순위 데이터에 대해서도 검정 수행 가능"
   ]
  },
  {
   "cell_type": "code",
   "execution_count": null,
   "id": "49d7d89b-522b-443c-865a-7343125da70b",
   "metadata": {},
   "outputs": [],
   "source": []
  },
  {
   "cell_type": "markdown",
   "id": "f02c0479-c693-4884-b3e4-554e41925695",
   "metadata": {},
   "source": [
    "#### **3) 윌콕슨의 부호순위 검정**\n",
    "- 파이썬에서 윌콕슨의 부호순위 검정(Wilcoxon's Signed Rank Test)을 수행하기 위해서는 Scipy 패키지의 stats 서브패키지를 호출한 후 stats에서 제공하는 ```wilcoxon``` 함수를 사용함\n",
    "\n",
    "**함수 사용법**\n",
    "- ```scipy.stats.wilcoxon(x, y, alternative='two-sided')```\n",
    "  - **x**: 순서가 있는 1차원 데이터 (리스트, 배열, 시리즈 등)\n",
    "  - **y**: 순서가 있는 1차원 데이터 (리스트, 배열, 시리즈 등) *하나만 입력할 경우 일표본\n",
    "  - **alternative** : 대립가설 정의 (d는 일표본이면 x, 이표본이면 x-y)\n",
    "    - 'two-sided' : d의 기초가 되는 분포가 0에 대해 대칭적이지 않음(default)\n",
    "    - 'less' : d의 기초가 되는 분포가 0에 대한 분포 대칭보다 확률적으로 더 작음\n",
    "    - 'greater' : d의 기초가 되는 분포가 0에 대한 분포 대칭보다 확률적으로 더 큼"
   ]
  },
  {
   "cell_type": "markdown",
   "id": "7a4c7171-0d52-4b5c-a239-2dfdbc199fa8",
   "metadata": {},
   "source": [
    "#### Q.\n",
    "3절의 '단일표본 t-검정' 대신 몸무게의 **모집단의 평균이 70**이라고 할 수 있는 지 **일표본 부호순위 검정**을 수행하기 (정규성 만족 가정)"
   ]
  },
  {
   "cell_type": "code",
   "execution_count": 88,
   "id": "d59f66b7-d72b-47bc-b199-441b50b7c551",
   "metadata": {
    "tags": []
   },
   "outputs": [],
   "source": [
    "# 필요한 패키지 & 함수 호출\n",
    "from scipy.stats import wilcoxon"
   ]
  },
  {
   "cell_type": "code",
   "execution_count": 89,
   "id": "995735dc-64ff-4716-b48e-0f8442e53cb9",
   "metadata": {
    "tags": []
   },
   "outputs": [],
   "source": [
    "# 몸무게 데이터 다시 가져오기\n",
    "kg = np.array( [75.5, 83.9, 75.7, 56.2, 73.4, 67.7, 79.0, 50.7, 58.4, 74.1, 65.1, 77.8, 48.1, 46.3] )"
   ]
  },
  {
   "cell_type": "code",
   "execution_count": 90,
   "id": "37b02b9d-41d3-4f18-b8fd-6200ad9a07a7",
   "metadata": {
    "tags": []
   },
   "outputs": [
    {
     "data": {
      "text/plain": [
       "WilcoxonResult(statistic=42.0, pvalue=0.5416259765625)"
      ]
     },
     "execution_count": 90,
     "metadata": {},
     "output_type": "execute_result"
    }
   ],
   "source": [
    "# 일표본 윌콕슨 부호순위 검정\n",
    "wilcoxon(kg - 70)"
   ]
  },
  {
   "cell_type": "markdown",
   "id": "b8fa5176-7367-4ede-a1c9-fac4c628645f",
   "metadata": {},
   "source": [
    "- ```Wilcoxon()``` 함수의 결과는 (검정통계량, p-value)의 형태로 제공됨\n",
    "- (statistic=42.0, pvalue=0.5416259765625)\n",
    "- p-vlaue는 0.542로 귀무가설 기각하지 못함 -> 모집단의 중위수가 70과 같다고 볼 수 있음"
   ]
  },
  {
   "cell_type": "markdown",
   "id": "34e69317-644e-4de9-89b8-c14ea8171def",
   "metadata": {},
   "source": [
    "#### Q.\n",
    "3절의 '대응표본 t-검정' 대신 남녀 몸무게 두 데이터가 서로 짝지어져 있다고 가정하고, 두 데이터에 대한 모평균이 서로 다르다고 할 수 있는지 **이표본 부호순위 검정** 수행"
   ]
  },
  {
   "cell_type": "code",
   "execution_count": 91,
   "id": "d32bb1b5-d7c9-4992-8226-0d43a0390a6f",
   "metadata": {
    "tags": []
   },
   "outputs": [],
   "source": [
    "# 남녀 몸무게 데이터 임의 생성\n",
    "female = np.array( [50.7, 58.4, 74.1, 65.1, 77.8, 48.1, 46.3] )\n",
    "male = np.array( [75.5, 83.9, 75.7, 56.2, 73.4, 67.7, 79.0] )"
   ]
  },
  {
   "cell_type": "code",
   "execution_count": 92,
   "id": "3a7e8915-425d-4457-9b1c-327b4c57ae02",
   "metadata": {
    "tags": []
   },
   "outputs": [
    {
     "data": {
      "text/plain": [
       "array([-24.8, -25.5,  -1.6,   8.9,   4.4, -19.6, -32.7])"
      ]
     },
     "execution_count": 92,
     "metadata": {},
     "output_type": "execute_result"
    }
   ],
   "source": [
    "# 두 데이터의 차이\n",
    "diff = female - male\n",
    "diff"
   ]
  },
  {
   "cell_type": "code",
   "execution_count": 93,
   "id": "2809a0cb-36a0-49a3-a6ad-11c60c89217d",
   "metadata": {
    "tags": []
   },
   "outputs": [
    {
     "data": {
      "text/plain": [
       "WilcoxonResult(statistic=5.0, pvalue=0.15625)"
      ]
     },
     "execution_count": 93,
     "metadata": {},
     "output_type": "execute_result"
    }
   ],
   "source": [
    "# 윌콕슨 부호순위 검정 실시\n",
    "wilcoxon(diff)"
   ]
  },
  {
   "cell_type": "markdown",
   "id": "54956627-6e68-40d0-85d3-160850bf73b6",
   "metadata": {},
   "source": [
    "- ```Wilcoxon()``` 함수의 결과는 (통계량, p-value)의 형태로 제공됨\n",
    "- (statistic=5.0, pvalue=0.15625)\n",
    "- p-vlaue는 0.156으로 귀무가설 기각하지 못함 -> 두 표본의 중앙값에 유의한 차이가 없다는 것 확인"
   ]
  },
  {
   "cell_type": "code",
   "execution_count": null,
   "id": "e3050a6e-1608-4b40-be4d-ba8260f05c6f",
   "metadata": {},
   "outputs": [],
   "source": []
  },
  {
   "cell_type": "code",
   "execution_count": null,
   "id": "d87d4e52-6d29-409c-a337-003a451278d6",
   "metadata": {},
   "outputs": [],
   "source": []
  },
  {
   "cell_type": "markdown",
   "id": "4b006c13-e850-443c-a3fb-f1ba72f6d833",
   "metadata": {},
   "source": [
    "#### **4) 만-위트니 U 검정**\n",
    "- 파이썬에서 만-위트니 검정(Man-Whitney U Test)을 수행하기 위해서는 SciPy 패키지의 stats 서브패키지를 호출한 후 stats에서 제공하는 ```mannwhitneyu``` 함수를 사용함\n",
    "\n",
    "**함수 사용법**\n",
    "- ```scipy.stats.mannwhitneyu(x, y, alternative='two-sided')```\n",
    "  - **x**: 순서가 있는 1차원 데이터 (리스트, 배열, 시리즈 등)\n",
    "  - **y**: 순서가 있는 1차원 데이터 (리스트, 배열, 시리즈 등)\n",
    "  - **alternative** : 대립가설 정의 (d는 일표본이면 x, 이표본이면 x-y)\n",
    "     - 'two-sided' : 두 분포가 동일하지 않음 (default)\n",
    "     - 'less' : x의 기초가 되는 분포가 y의 기초가 되는 분포보다 확률적으로 더 작음\n",
    "     - 'greater' : x의 기초가 되는 분포가 y의 기초가 되는 분포보다 확률적으로 더 큼"
   ]
  },
  {
   "cell_type": "markdown",
   "id": "706324ac-9b2b-45ef-b3b4-1dccec4e1c28",
   "metadata": {},
   "source": [
    "#### Q. \n",
    "3절의 '독립표본 t-검정' 대신 위의 남녀 몸무게 데이터를 활용해 두 데이터가 독립이라고 가정하고 두 데이터에 대한 모평균이 서로 다르다고 할 수 있는지 **만-위트니 U 검정** 수행"
   ]
  },
  {
   "cell_type": "code",
   "execution_count": 94,
   "id": "9e8ca45a-cb77-407b-9814-851274c83f12",
   "metadata": {
    "tags": []
   },
   "outputs": [],
   "source": [
    "# 만-위트니 U 검정 수행\n",
    "from scipy.stats import mannwhitneyu"
   ]
  },
  {
   "cell_type": "code",
   "execution_count": 96,
   "id": "15f981a2-eae1-4ed8-9f25-d33f0e58fbed",
   "metadata": {
    "tags": []
   },
   "outputs": [
    {
     "data": {
      "text/plain": [
       "MannwhitneyuResult(statistic=10.0, pvalue=0.07284382284382285)"
      ]
     },
     "execution_count": 96,
     "metadata": {},
     "output_type": "execute_result"
    }
   ],
   "source": [
    "mannwhitneyu(female, male)"
   ]
  },
  {
   "cell_type": "markdown",
   "id": "1821a319-7a4c-41bd-a93e-e47689ac3151",
   "metadata": {},
   "source": [
    "- ```mannwhitneyu()``` 함수의 결과는 (검정통계량, p-value)의 형태로 제공됨\n",
    "- (statistic=10.0, pvalue=0.07284382284382285)\n",
    "- p-vlaue는 0.073으로 귀무가설 기각하지 못함 -> 두 표본의 중앙값에 유의한 차이가 없다는 것 확인"
   ]
  },
  {
   "cell_type": "code",
   "execution_count": null,
   "id": "b0b7a7be-265e-4db8-920e-623e4033094c",
   "metadata": {},
   "outputs": [],
   "source": []
  },
  {
   "cell_type": "code",
   "execution_count": null,
   "id": "3ab9d926-a58b-416d-8ff5-b16b8bf19b37",
   "metadata": {},
   "outputs": [],
   "source": []
  },
  {
   "cell_type": "markdown",
   "id": "a314cadd-2aa9-45b0-918b-6339ee0cd4a1",
   "metadata": {},
   "source": [
    "#### **5) 크루스칼-왈리스 H 검정**\n",
    "- 파이썬에서 크루스칼-왈리스 H 검정(Kruskal-Wallis H Test)을 수행하기 위해서는 SciPy 패키지의 stats 서브패키지를 호출한 후 stats에서 제공하는 ```kruskal``` 함수를 사용함\n",
    "\n",
    "**함수 사용법**\n",
    "- ```scipy.stats.kruskal(a, b, c, ..)```\n",
    "  - **a, b, c**: 순서가 있는 1차원 데이터 (리스트, 배열, 시리즈 등)"
   ]
  },
  {
   "cell_type": "markdown",
   "id": "cd91733f-ff3c-4cd0-a7d6-e37842c446d4",
   "metadata": {},
   "source": [
    "#### Q.\n",
    "3절의 '일원배치 분산분석'에서 사용한 데이터: A ~ C 세 개 학교에서 각 1,000명씩 층화 추출한 데이터를 활용해 세 학교 간 기말고사 성적의 평균이 서로 차이가 있는지 검정하고자 함 (**크루스칼-왈리스 H 검정** 사용)"
   ]
  },
  {
   "cell_type": "code",
   "execution_count": 99,
   "id": "9077b016-83d1-4d35-908e-ab0515cc0839",
   "metadata": {
    "tags": []
   },
   "outputs": [
    {
     "data": {
      "text/html": [
       "<div>\n",
       "<style scoped>\n",
       "    .dataframe tbody tr th:only-of-type {\n",
       "        vertical-align: middle;\n",
       "    }\n",
       "\n",
       "    .dataframe tbody tr th {\n",
       "        vertical-align: top;\n",
       "    }\n",
       "\n",
       "    .dataframe thead th {\n",
       "        text-align: right;\n",
       "    }\n",
       "</style>\n",
       "<table border=\"1\" class=\"dataframe\">\n",
       "  <thead>\n",
       "    <tr style=\"text-align: right;\">\n",
       "      <th></th>\n",
       "      <th>id</th>\n",
       "      <th>School</th>\n",
       "      <th>Sex</th>\n",
       "      <th>Grade</th>\n",
       "      <th>Final</th>\n",
       "    </tr>\n",
       "  </thead>\n",
       "  <tbody>\n",
       "    <tr>\n",
       "      <th>0</th>\n",
       "      <td>1</td>\n",
       "      <td>A</td>\n",
       "      <td>M</td>\n",
       "      <td>1</td>\n",
       "      <td>44.4</td>\n",
       "    </tr>\n",
       "    <tr>\n",
       "      <th>1</th>\n",
       "      <td>2</td>\n",
       "      <td>A</td>\n",
       "      <td>M</td>\n",
       "      <td>2</td>\n",
       "      <td>47.7</td>\n",
       "    </tr>\n",
       "    <tr>\n",
       "      <th>2</th>\n",
       "      <td>3</td>\n",
       "      <td>A</td>\n",
       "      <td>M</td>\n",
       "      <td>3</td>\n",
       "      <td>65.6</td>\n",
       "    </tr>\n",
       "    <tr>\n",
       "      <th>3</th>\n",
       "      <td>4</td>\n",
       "      <td>A</td>\n",
       "      <td>F</td>\n",
       "      <td>1</td>\n",
       "      <td>50.7</td>\n",
       "    </tr>\n",
       "    <tr>\n",
       "      <th>4</th>\n",
       "      <td>5</td>\n",
       "      <td>A</td>\n",
       "      <td>F</td>\n",
       "      <td>2</td>\n",
       "      <td>51.3</td>\n",
       "    </tr>\n",
       "    <tr>\n",
       "      <th>...</th>\n",
       "      <td>...</td>\n",
       "      <td>...</td>\n",
       "      <td>...</td>\n",
       "      <td>...</td>\n",
       "      <td>...</td>\n",
       "    </tr>\n",
       "    <tr>\n",
       "      <th>2995</th>\n",
       "      <td>2996</td>\n",
       "      <td>C</td>\n",
       "      <td>M</td>\n",
       "      <td>2</td>\n",
       "      <td>84.1</td>\n",
       "    </tr>\n",
       "    <tr>\n",
       "      <th>2996</th>\n",
       "      <td>2997</td>\n",
       "      <td>C</td>\n",
       "      <td>M</td>\n",
       "      <td>3</td>\n",
       "      <td>81.6</td>\n",
       "    </tr>\n",
       "    <tr>\n",
       "      <th>2997</th>\n",
       "      <td>2998</td>\n",
       "      <td>C</td>\n",
       "      <td>F</td>\n",
       "      <td>1</td>\n",
       "      <td>83.2</td>\n",
       "    </tr>\n",
       "    <tr>\n",
       "      <th>2998</th>\n",
       "      <td>2999</td>\n",
       "      <td>C</td>\n",
       "      <td>F</td>\n",
       "      <td>2</td>\n",
       "      <td>92.8</td>\n",
       "    </tr>\n",
       "    <tr>\n",
       "      <th>2999</th>\n",
       "      <td>3000</td>\n",
       "      <td>C</td>\n",
       "      <td>F</td>\n",
       "      <td>3</td>\n",
       "      <td>100.0</td>\n",
       "    </tr>\n",
       "  </tbody>\n",
       "</table>\n",
       "<p>3000 rows × 5 columns</p>\n",
       "</div>"
      ],
      "text/plain": [
       "        id School Sex  Grade  Final\n",
       "0        1      A   M      1   44.4\n",
       "1        2      A   M      2   47.7\n",
       "2        3      A   M      3   65.6\n",
       "3        4      A   F      1   50.7\n",
       "4        5      A   F      2   51.3\n",
       "...    ...    ...  ..    ...    ...\n",
       "2995  2996      C   M      2   84.1\n",
       "2996  2997      C   M      3   81.6\n",
       "2997  2998      C   F      1   83.2\n",
       "2998  2999      C   F      2   92.8\n",
       "2999  3000      C   F      3  100.0\n",
       "\n",
       "[3000 rows x 5 columns]"
      ]
     },
     "execution_count": 99,
     "metadata": {},
     "output_type": "execute_result"
    }
   ],
   "source": [
    "df = pd.read_csv('data/예제/school_score.csv')\n",
    "df"
   ]
  },
  {
   "cell_type": "code",
   "execution_count": 101,
   "id": "f37cc9fb-63d7-4d6c-b08d-cf2e75ec7c15",
   "metadata": {
    "tags": []
   },
   "outputs": [],
   "source": [
    "# 필요한 컬럼 할당\n",
    "School = df['School']\n",
    "Final = df['Final']"
   ]
  },
  {
   "cell_type": "code",
   "execution_count": 102,
   "id": "eec4da3b-5b08-40c3-a993-cf9d8c8be658",
   "metadata": {
    "tags": []
   },
   "outputs": [],
   "source": [
    "# 학교별 기말고사 점수 분리\n",
    "Final_A = Final[School == 'A'].reset_index(drop=True)\n",
    "Final_B = Final[School == 'B'].reset_index(drop=True)\n",
    "Final_C = Final[School == 'C'].reset_index(drop=True)"
   ]
  },
  {
   "cell_type": "code",
   "execution_count": 103,
   "id": "761d20e4-e40b-4cac-a922-c1766e0d4349",
   "metadata": {
    "tags": []
   },
   "outputs": [],
   "source": [
    "# 크루스칼-왈리스 검정 수행\n",
    "from scipy.stats import kruskal"
   ]
  },
  {
   "cell_type": "code",
   "execution_count": 104,
   "id": "a2bdd0a5-bd56-4991-a34c-71b75d551e81",
   "metadata": {
    "tags": []
   },
   "outputs": [
    {
     "data": {
      "text/plain": [
       "KruskalResult(statistic=1978.1734792103248, pvalue=0.0)"
      ]
     },
     "execution_count": 104,
     "metadata": {},
     "output_type": "execute_result"
    }
   ],
   "source": [
    "kruskal(Final_A, Final_B, Final_C)"
   ]
  },
  {
   "cell_type": "markdown",
   "id": "f4bd29ec-1fc8-47e7-8e04-f266fad88e76",
   "metadata": {},
   "source": [
    "- ```kruskal()``` 함수의 결과는 (통계량, p-value)의 형태로 제공됨\n",
    "- (statistic=1978.1734792103248, pvalue=0.0)\n",
    "- p-vlaue는 0.0으로 귀무가설 기각 -> 학교 간 기말고사에는 통계적으로 유의미한 차이가 있음"
   ]
  },
  {
   "cell_type": "code",
   "execution_count": null,
   "id": "3e5464f0-a64b-47d4-b3d6-15dc4e9a0c73",
   "metadata": {},
   "outputs": [],
   "source": []
  }
 ],
 "metadata": {
  "kernelspec": {
   "display_name": "Python 3 (ipykernel)",
   "language": "python",
   "name": "python3"
  },
  "language_info": {
   "codemirror_mode": {
    "name": "ipython",
    "version": 3
   },
   "file_extension": ".py",
   "mimetype": "text/x-python",
   "name": "python",
   "nbconvert_exporter": "python",
   "pygments_lexer": "ipython3",
   "version": "3.11.5"
  }
 },
 "nbformat": 4,
 "nbformat_minor": 5
}
