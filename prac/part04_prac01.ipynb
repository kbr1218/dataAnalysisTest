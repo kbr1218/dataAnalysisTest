{
 "cells": [
  {
   "cell_type": "markdown",
   "id": "46b28839-2946-4611-a5ee-2299a5445a7d",
   "metadata": {},
   "source": [
    "# 연습문제 : 작업형 2\n",
    "## 01."
   ]
  },
  {
   "cell_type": "code",
   "execution_count": 111,
   "id": "a46b933e-7f23-4e59-b15b-d3c0acda6a11",
   "metadata": {
    "tags": []
   },
   "outputs": [],
   "source": [
    "import pandas as pd\n",
    "import numpy as np"
   ]
  },
  {
   "cell_type": "code",
   "execution_count": 112,
   "id": "0a48712e-eb1f-45d9-9c85-faafde107011",
   "metadata": {
    "tags": []
   },
   "outputs": [],
   "source": [
    "y_train = pd.read_csv('../data/연습문제/FIFA_y_train.csv', encoding='cp949')\n",
    "X_train = pd.read_csv('../data/연습문제/FIFA_X_train.csv', encoding='cp949')\n",
    "X_test = pd.read_csv('../data/연습문제/FIFA_X_test.csv', encoding='cp949')"
   ]
  },
  {
   "cell_type": "code",
   "execution_count": 113,
   "id": "063cb1ea-3005-4eee-920b-2bc5d3e8da0b",
   "metadata": {
    "tags": []
   },
   "outputs": [
    {
     "name": "stdout",
     "output_type": "stream",
     "text": [
      "(3600, 2)\n"
     ]
    },
    {
     "data": {
      "text/html": [
       "<div>\n",
       "<style scoped>\n",
       "    .dataframe tbody tr th:only-of-type {\n",
       "        vertical-align: middle;\n",
       "    }\n",
       "\n",
       "    .dataframe tbody tr th {\n",
       "        vertical-align: top;\n",
       "    }\n",
       "\n",
       "    .dataframe thead th {\n",
       "        text-align: right;\n",
       "    }\n",
       "</style>\n",
       "<table border=\"1\" class=\"dataframe\">\n",
       "  <thead>\n",
       "    <tr style=\"text-align: right;\">\n",
       "      <th></th>\n",
       "      <th>ID</th>\n",
       "      <th>Value</th>\n",
       "    </tr>\n",
       "  </thead>\n",
       "  <tbody>\n",
       "    <tr>\n",
       "      <th>0</th>\n",
       "      <td>190972</td>\n",
       "      <td>18500</td>\n",
       "    </tr>\n",
       "    <tr>\n",
       "      <th>1</th>\n",
       "      <td>179646</td>\n",
       "      <td>500</td>\n",
       "    </tr>\n",
       "    <tr>\n",
       "      <th>2</th>\n",
       "      <td>225440</td>\n",
       "      <td>1200</td>\n",
       "    </tr>\n",
       "    <tr>\n",
       "      <th>3</th>\n",
       "      <td>212642</td>\n",
       "      <td>325</td>\n",
       "    </tr>\n",
       "    <tr>\n",
       "      <th>4</th>\n",
       "      <td>245804</td>\n",
       "      <td>220</td>\n",
       "    </tr>\n",
       "  </tbody>\n",
       "</table>\n",
       "</div>"
      ],
      "text/plain": [
       "       ID  Value\n",
       "0  190972  18500\n",
       "1  179646    500\n",
       "2  225440   1200\n",
       "3  212642    325\n",
       "4  245804    220"
      ]
     },
     "execution_count": 113,
     "metadata": {},
     "output_type": "execute_result"
    }
   ],
   "source": [
    "print(y_train.shape)\n",
    "y_train.head()"
   ]
  },
  {
   "cell_type": "code",
   "execution_count": 114,
   "id": "24ce1c99-c759-407c-9c5c-d31a8078fd98",
   "metadata": {
    "tags": []
   },
   "outputs": [
    {
     "name": "stdout",
     "output_type": "stream",
     "text": [
      "<class 'pandas.core.frame.DataFrame'>\n",
      "RangeIndex: 3600 entries, 0 to 3599\n",
      "Data columns (total 2 columns):\n",
      " #   Column  Non-Null Count  Dtype\n",
      "---  ------  --------------  -----\n",
      " 0   ID      3600 non-null   int64\n",
      " 1   Value   3600 non-null   int64\n",
      "dtypes: int64(2)\n",
      "memory usage: 56.4 KB\n"
     ]
    }
   ],
   "source": [
    "y_train.info()"
   ]
  },
  {
   "cell_type": "code",
   "execution_count": 115,
   "id": "9dfd1154-ff86-4796-a477-02b0c95e308d",
   "metadata": {
    "tags": []
   },
   "outputs": [
    {
     "data": {
      "text/html": [
       "<div>\n",
       "<style scoped>\n",
       "    .dataframe tbody tr th:only-of-type {\n",
       "        vertical-align: middle;\n",
       "    }\n",
       "\n",
       "    .dataframe tbody tr th {\n",
       "        vertical-align: top;\n",
       "    }\n",
       "\n",
       "    .dataframe thead th {\n",
       "        text-align: right;\n",
       "    }\n",
       "</style>\n",
       "<table border=\"1\" class=\"dataframe\">\n",
       "  <thead>\n",
       "    <tr style=\"text-align: right;\">\n",
       "      <th></th>\n",
       "      <th>ID</th>\n",
       "      <th>Value</th>\n",
       "    </tr>\n",
       "  </thead>\n",
       "  <tbody>\n",
       "    <tr>\n",
       "      <th>count</th>\n",
       "      <td>3600.000000</td>\n",
       "      <td>3600.000000</td>\n",
       "    </tr>\n",
       "    <tr>\n",
       "      <th>mean</th>\n",
       "      <td>214137.233611</td>\n",
       "      <td>2348.593056</td>\n",
       "    </tr>\n",
       "    <tr>\n",
       "      <th>std</th>\n",
       "      <td>29536.484864</td>\n",
       "      <td>5120.938813</td>\n",
       "    </tr>\n",
       "    <tr>\n",
       "      <th>min</th>\n",
       "      <td>2147.000000</td>\n",
       "      <td>10.000000</td>\n",
       "    </tr>\n",
       "    <tr>\n",
       "      <th>25%</th>\n",
       "      <td>199536.500000</td>\n",
       "      <td>325.000000</td>\n",
       "    </tr>\n",
       "    <tr>\n",
       "      <th>50%</th>\n",
       "      <td>221322.500000</td>\n",
       "      <td>675.000000</td>\n",
       "    </tr>\n",
       "    <tr>\n",
       "      <th>75%</th>\n",
       "      <td>236814.000000</td>\n",
       "      <td>2100.000000</td>\n",
       "    </tr>\n",
       "    <tr>\n",
       "      <th>max</th>\n",
       "      <td>246606.000000</td>\n",
       "      <td>78000.000000</td>\n",
       "    </tr>\n",
       "  </tbody>\n",
       "</table>\n",
       "</div>"
      ],
      "text/plain": [
       "                  ID         Value\n",
       "count    3600.000000   3600.000000\n",
       "mean   214137.233611   2348.593056\n",
       "std     29536.484864   5120.938813\n",
       "min      2147.000000     10.000000\n",
       "25%    199536.500000    325.000000\n",
       "50%    221322.500000    675.000000\n",
       "75%    236814.000000   2100.000000\n",
       "max    246606.000000  78000.000000"
      ]
     },
     "execution_count": 115,
     "metadata": {},
     "output_type": "execute_result"
    }
   ],
   "source": [
    "y_train.describe()"
   ]
  },
  {
   "cell_type": "code",
   "execution_count": 116,
   "id": "b2aeecc3-831b-42ab-843a-453540297945",
   "metadata": {
    "tags": []
   },
   "outputs": [
    {
     "name": "stdout",
     "output_type": "stream",
     "text": [
      "(3600, 16)\n"
     ]
    },
    {
     "data": {
      "text/html": [
       "<div>\n",
       "<style scoped>\n",
       "    .dataframe tbody tr th:only-of-type {\n",
       "        vertical-align: middle;\n",
       "    }\n",
       "\n",
       "    .dataframe tbody tr th {\n",
       "        vertical-align: top;\n",
       "    }\n",
       "\n",
       "    .dataframe thead th {\n",
       "        text-align: right;\n",
       "    }\n",
       "</style>\n",
       "<table border=\"1\" class=\"dataframe\">\n",
       "  <thead>\n",
       "    <tr style=\"text-align: right;\">\n",
       "      <th></th>\n",
       "      <th>ID</th>\n",
       "      <th>Age</th>\n",
       "      <th>Nationality</th>\n",
       "      <th>Overall</th>\n",
       "      <th>Club</th>\n",
       "      <th>Preferred_Foot</th>\n",
       "      <th>Work_Rate</th>\n",
       "      <th>Position</th>\n",
       "      <th>Position_Class</th>\n",
       "      <th>Jersey_Number</th>\n",
       "      <th>Contract_Valid_Until</th>\n",
       "      <th>Height</th>\n",
       "      <th>Height_cm</th>\n",
       "      <th>Weight_lb</th>\n",
       "      <th>Release_Clause</th>\n",
       "      <th>Wage</th>\n",
       "    </tr>\n",
       "  </thead>\n",
       "  <tbody>\n",
       "    <tr>\n",
       "      <th>0</th>\n",
       "      <td>190972</td>\n",
       "      <td>2*</td>\n",
       "      <td>Argentina</td>\n",
       "      <td>81</td>\n",
       "      <td>SL Benfica</td>\n",
       "      <td>Right</td>\n",
       "      <td>High/ Medium</td>\n",
       "      <td>RW</td>\n",
       "      <td>Forward</td>\n",
       "      <td>18</td>\n",
       "      <td>2019</td>\n",
       "      <td>5'8</td>\n",
       "      <td>170.0</td>\n",
       "      <td>170.0</td>\n",
       "      <td>37000</td>\n",
       "      <td>19</td>\n",
       "    </tr>\n",
       "    <tr>\n",
       "      <th>1</th>\n",
       "      <td>179646</td>\n",
       "      <td>29</td>\n",
       "      <td>Denmark</td>\n",
       "      <td>66</td>\n",
       "      <td>Aarhus GF</td>\n",
       "      <td>Left</td>\n",
       "      <td>High/ Medium</td>\n",
       "      <td>LCB</td>\n",
       "      <td>Defender</td>\n",
       "      <td>18</td>\n",
       "      <td>2019</td>\n",
       "      <td>6'0</td>\n",
       "      <td>180.0</td>\n",
       "      <td>179.0</td>\n",
       "      <td>625</td>\n",
       "      <td>4</td>\n",
       "    </tr>\n",
       "    <tr>\n",
       "      <th>2</th>\n",
       "      <td>225440</td>\n",
       "      <td>23</td>\n",
       "      <td>Guinea Bissau</td>\n",
       "      <td>68</td>\n",
       "      <td>Palermo</td>\n",
       "      <td>Left</td>\n",
       "      <td>High/ Low</td>\n",
       "      <td>LW</td>\n",
       "      <td>Forward</td>\n",
       "      <td>11</td>\n",
       "      <td>2020</td>\n",
       "      <td>5'9</td>\n",
       "      <td>172.5</td>\n",
       "      <td>163.0</td>\n",
       "      <td>2000</td>\n",
       "      <td>2</td>\n",
       "    </tr>\n",
       "    <tr>\n",
       "      <th>3</th>\n",
       "      <td>212642</td>\n",
       "      <td>22</td>\n",
       "      <td>Sweden</td>\n",
       "      <td>61</td>\n",
       "      <td>IF Brommapojkarna</td>\n",
       "      <td>Right</td>\n",
       "      <td>Medium/ Medium</td>\n",
       "      <td>LW</td>\n",
       "      <td>Forward</td>\n",
       "      <td>10</td>\n",
       "      <td>2020</td>\n",
       "      <td>5'10</td>\n",
       "      <td>175.0</td>\n",
       "      <td>154.0</td>\n",
       "      <td>431</td>\n",
       "      <td>1</td>\n",
       "    </tr>\n",
       "    <tr>\n",
       "      <th>4</th>\n",
       "      <td>245804</td>\n",
       "      <td>18</td>\n",
       "      <td>Turkey</td>\n",
       "      <td>57</td>\n",
       "      <td>Alanyaspor</td>\n",
       "      <td>Right</td>\n",
       "      <td>High/ Low</td>\n",
       "      <td>ST</td>\n",
       "      <td>Forward</td>\n",
       "      <td>47</td>\n",
       "      <td>2022</td>\n",
       "      <td>5'10</td>\n",
       "      <td>175.0</td>\n",
       "      <td>132.0</td>\n",
       "      <td>578</td>\n",
       "      <td>1</td>\n",
       "    </tr>\n",
       "  </tbody>\n",
       "</table>\n",
       "</div>"
      ],
      "text/plain": [
       "       ID Age    Nationality  Overall               Club Preferred_Foot  \\\n",
       "0  190972  2*      Argentina       81         SL Benfica          Right   \n",
       "1  179646  29        Denmark       66          Aarhus GF           Left   \n",
       "2  225440  23  Guinea Bissau       68            Palermo           Left   \n",
       "3  212642  22         Sweden       61  IF Brommapojkarna          Right   \n",
       "4  245804  18         Turkey       57         Alanyaspor          Right   \n",
       "\n",
       "        Work_Rate Position Position_Class  Jersey_Number  \\\n",
       "0    High/ Medium       RW        Forward             18   \n",
       "1    High/ Medium      LCB       Defender             18   \n",
       "2       High/ Low       LW        Forward             11   \n",
       "3  Medium/ Medium       LW        Forward             10   \n",
       "4       High/ Low       ST        Forward             47   \n",
       "\n",
       "   Contract_Valid_Until Height  Height_cm  Weight_lb  Release_Clause  Wage  \n",
       "0                  2019    5'8      170.0      170.0           37000    19  \n",
       "1                  2019    6'0      180.0      179.0             625     4  \n",
       "2                  2020    5'9      172.5      163.0            2000     2  \n",
       "3                  2020   5'10      175.0      154.0             431     1  \n",
       "4                  2022   5'10      175.0      132.0             578     1  "
      ]
     },
     "execution_count": 116,
     "metadata": {},
     "output_type": "execute_result"
    }
   ],
   "source": [
    "print(X_train.shape)\n",
    "X_train.head()"
   ]
  },
  {
   "cell_type": "code",
   "execution_count": 117,
   "id": "317951bc-14f8-40f8-bb53-697e4c5c242d",
   "metadata": {
    "tags": []
   },
   "outputs": [
    {
     "name": "stdout",
     "output_type": "stream",
     "text": [
      "<class 'pandas.core.frame.DataFrame'>\n",
      "RangeIndex: 3600 entries, 0 to 3599\n",
      "Data columns (total 16 columns):\n",
      " #   Column                Non-Null Count  Dtype  \n",
      "---  ------                --------------  -----  \n",
      " 0   ID                    3600 non-null   int64  \n",
      " 1   Age                   3600 non-null   object \n",
      " 2   Nationality           3600 non-null   object \n",
      " 3   Overall               3600 non-null   int64  \n",
      " 4   Club                  3600 non-null   object \n",
      " 5   Preferred_Foot        3600 non-null   object \n",
      " 6   Work_Rate             3600 non-null   object \n",
      " 7   Position              3600 non-null   object \n",
      " 8   Position_Class        2842 non-null   object \n",
      " 9   Jersey_Number         3600 non-null   int64  \n",
      " 10  Contract_Valid_Until  3600 non-null   int64  \n",
      " 11  Height                3600 non-null   object \n",
      " 12  Height_cm             3308 non-null   float64\n",
      " 13  Weight_lb             3528 non-null   float64\n",
      " 14  Release_Clause        3600 non-null   int64  \n",
      " 15  Wage                  3600 non-null   int64  \n",
      "dtypes: float64(2), int64(6), object(8)\n",
      "memory usage: 450.1+ KB\n"
     ]
    }
   ],
   "source": [
    "X_train.info()"
   ]
  },
  {
   "cell_type": "code",
   "execution_count": 118,
   "id": "f025cdc8-7fda-4f24-bccc-9beaca654e2b",
   "metadata": {
    "tags": []
   },
   "outputs": [
    {
     "data": {
      "text/html": [
       "<div>\n",
       "<style scoped>\n",
       "    .dataframe tbody tr th:only-of-type {\n",
       "        vertical-align: middle;\n",
       "    }\n",
       "\n",
       "    .dataframe tbody tr th {\n",
       "        vertical-align: top;\n",
       "    }\n",
       "\n",
       "    .dataframe thead th {\n",
       "        text-align: right;\n",
       "    }\n",
       "</style>\n",
       "<table border=\"1\" class=\"dataframe\">\n",
       "  <thead>\n",
       "    <tr style=\"text-align: right;\">\n",
       "      <th></th>\n",
       "      <th>ID</th>\n",
       "      <th>Overall</th>\n",
       "      <th>Jersey_Number</th>\n",
       "      <th>Contract_Valid_Until</th>\n",
       "      <th>Height_cm</th>\n",
       "      <th>Weight_lb</th>\n",
       "      <th>Release_Clause</th>\n",
       "      <th>Wage</th>\n",
       "    </tr>\n",
       "  </thead>\n",
       "  <tbody>\n",
       "    <tr>\n",
       "      <th>count</th>\n",
       "      <td>3600.000000</td>\n",
       "      <td>3600.000000</td>\n",
       "      <td>3600.000000</td>\n",
       "      <td>3600.000000</td>\n",
       "      <td>3308.000000</td>\n",
       "      <td>3528.000000</td>\n",
       "      <td>3600.000000</td>\n",
       "      <td>3600.000000</td>\n",
       "    </tr>\n",
       "    <tr>\n",
       "      <th>mean</th>\n",
       "      <td>214137.233611</td>\n",
       "      <td>66.112500</td>\n",
       "      <td>19.623333</td>\n",
       "      <td>2020.267500</td>\n",
       "      <td>178.276149</td>\n",
       "      <td>166.061508</td>\n",
       "      <td>4414.664722</td>\n",
       "      <td>9.325000</td>\n",
       "    </tr>\n",
       "    <tr>\n",
       "      <th>std</th>\n",
       "      <td>29536.484864</td>\n",
       "      <td>6.903121</td>\n",
       "      <td>15.665325</td>\n",
       "      <td>1.314569</td>\n",
       "      <td>6.514353</td>\n",
       "      <td>15.590009</td>\n",
       "      <td>9993.717205</td>\n",
       "      <td>19.607412</td>\n",
       "    </tr>\n",
       "    <tr>\n",
       "      <th>min</th>\n",
       "      <td>2147.000000</td>\n",
       "      <td>46.000000</td>\n",
       "      <td>1.000000</td>\n",
       "      <td>2018.000000</td>\n",
       "      <td>155.000000</td>\n",
       "      <td>115.000000</td>\n",
       "      <td>13.000000</td>\n",
       "      <td>1.000000</td>\n",
       "    </tr>\n",
       "    <tr>\n",
       "      <th>25%</th>\n",
       "      <td>199536.500000</td>\n",
       "      <td>62.000000</td>\n",
       "      <td>8.000000</td>\n",
       "      <td>2019.000000</td>\n",
       "      <td>172.500000</td>\n",
       "      <td>154.000000</td>\n",
       "      <td>536.000000</td>\n",
       "      <td>1.000000</td>\n",
       "    </tr>\n",
       "    <tr>\n",
       "      <th>50%</th>\n",
       "      <td>221322.500000</td>\n",
       "      <td>66.000000</td>\n",
       "      <td>17.000000</td>\n",
       "      <td>2020.000000</td>\n",
       "      <td>177.500000</td>\n",
       "      <td>165.000000</td>\n",
       "      <td>1200.000000</td>\n",
       "      <td>3.000000</td>\n",
       "    </tr>\n",
       "    <tr>\n",
       "      <th>75%</th>\n",
       "      <td>236814.000000</td>\n",
       "      <td>71.000000</td>\n",
       "      <td>26.000000</td>\n",
       "      <td>2021.000000</td>\n",
       "      <td>182.500000</td>\n",
       "      <td>176.000000</td>\n",
       "      <td>3600.000000</td>\n",
       "      <td>9.000000</td>\n",
       "    </tr>\n",
       "    <tr>\n",
       "      <th>max</th>\n",
       "      <td>246606.000000</td>\n",
       "      <td>89.000000</td>\n",
       "      <td>99.000000</td>\n",
       "      <td>2026.000000</td>\n",
       "      <td>202.500000</td>\n",
       "      <td>229.000000</td>\n",
       "      <td>165800.000000</td>\n",
       "      <td>250.000000</td>\n",
       "    </tr>\n",
       "  </tbody>\n",
       "</table>\n",
       "</div>"
      ],
      "text/plain": [
       "                  ID      Overall  Jersey_Number  Contract_Valid_Until  \\\n",
       "count    3600.000000  3600.000000    3600.000000           3600.000000   \n",
       "mean   214137.233611    66.112500      19.623333           2020.267500   \n",
       "std     29536.484864     6.903121      15.665325              1.314569   \n",
       "min      2147.000000    46.000000       1.000000           2018.000000   \n",
       "25%    199536.500000    62.000000       8.000000           2019.000000   \n",
       "50%    221322.500000    66.000000      17.000000           2020.000000   \n",
       "75%    236814.000000    71.000000      26.000000           2021.000000   \n",
       "max    246606.000000    89.000000      99.000000           2026.000000   \n",
       "\n",
       "         Height_cm    Weight_lb  Release_Clause         Wage  \n",
       "count  3308.000000  3528.000000     3600.000000  3600.000000  \n",
       "mean    178.276149   166.061508     4414.664722     9.325000  \n",
       "std       6.514353    15.590009     9993.717205    19.607412  \n",
       "min     155.000000   115.000000       13.000000     1.000000  \n",
       "25%     172.500000   154.000000      536.000000     1.000000  \n",
       "50%     177.500000   165.000000     1200.000000     3.000000  \n",
       "75%     182.500000   176.000000     3600.000000     9.000000  \n",
       "max     202.500000   229.000000   165800.000000   250.000000  "
      ]
     },
     "execution_count": 118,
     "metadata": {},
     "output_type": "execute_result"
    }
   ],
   "source": [
    "X_train.describe()"
   ]
  },
  {
   "cell_type": "code",
   "execution_count": 119,
   "id": "28c192cb-246c-4da3-adbe-a948219d78c2",
   "metadata": {
    "tags": []
   },
   "outputs": [
    {
     "name": "stdout",
     "output_type": "stream",
     "text": [
      "(2400, 16)\n"
     ]
    },
    {
     "data": {
      "text/html": [
       "<div>\n",
       "<style scoped>\n",
       "    .dataframe tbody tr th:only-of-type {\n",
       "        vertical-align: middle;\n",
       "    }\n",
       "\n",
       "    .dataframe tbody tr th {\n",
       "        vertical-align: top;\n",
       "    }\n",
       "\n",
       "    .dataframe thead th {\n",
       "        text-align: right;\n",
       "    }\n",
       "</style>\n",
       "<table border=\"1\" class=\"dataframe\">\n",
       "  <thead>\n",
       "    <tr style=\"text-align: right;\">\n",
       "      <th></th>\n",
       "      <th>ID</th>\n",
       "      <th>Age</th>\n",
       "      <th>Nationality</th>\n",
       "      <th>Overall</th>\n",
       "      <th>Club</th>\n",
       "      <th>Preferred_Foot</th>\n",
       "      <th>Work_Rate</th>\n",
       "      <th>Position</th>\n",
       "      <th>Position_Class</th>\n",
       "      <th>Jersey_Number</th>\n",
       "      <th>Contract_Valid_Until</th>\n",
       "      <th>Height</th>\n",
       "      <th>Height_cm</th>\n",
       "      <th>Weight_lb</th>\n",
       "      <th>Release_Clause</th>\n",
       "      <th>Wage</th>\n",
       "    </tr>\n",
       "  </thead>\n",
       "  <tbody>\n",
       "    <tr>\n",
       "      <th>0</th>\n",
       "      <td>137351</td>\n",
       "      <td>34</td>\n",
       "      <td>Germany</td>\n",
       "      <td>79</td>\n",
       "      <td>FC Augsburg</td>\n",
       "      <td>Right</td>\n",
       "      <td>Medium/ High</td>\n",
       "      <td>CDM</td>\n",
       "      <td>Defender</td>\n",
       "      <td>10</td>\n",
       "      <td>2019</td>\n",
       "      <td>5'9</td>\n",
       "      <td>172.5</td>\n",
       "      <td>172</td>\n",
       "      <td>6500</td>\n",
       "      <td>28</td>\n",
       "    </tr>\n",
       "    <tr>\n",
       "      <th>1</th>\n",
       "      <td>207707</td>\n",
       "      <td>29</td>\n",
       "      <td>Brazil</td>\n",
       "      <td>77</td>\n",
       "      <td>Olympique Lyonnais</td>\n",
       "      <td>Left</td>\n",
       "      <td>Medium/ Medium</td>\n",
       "      <td>LB</td>\n",
       "      <td>Defender</td>\n",
       "      <td>20</td>\n",
       "      <td>2021</td>\n",
       "      <td>5'10</td>\n",
       "      <td>175.0</td>\n",
       "      <td>163</td>\n",
       "      <td>12400</td>\n",
       "      <td>54</td>\n",
       "    </tr>\n",
       "    <tr>\n",
       "      <th>2</th>\n",
       "      <td>242101</td>\n",
       "      <td>22</td>\n",
       "      <td>Korea Republic</td>\n",
       "      <td>64</td>\n",
       "      <td>Pohang Steelers</td>\n",
       "      <td>Right</td>\n",
       "      <td>High/ Medium</td>\n",
       "      <td>RW</td>\n",
       "      <td>Forward</td>\n",
       "      <td>18</td>\n",
       "      <td>2021</td>\n",
       "      <td>6'1</td>\n",
       "      <td>182.5</td>\n",
       "      <td>170</td>\n",
       "      <td>1000</td>\n",
       "      <td>2</td>\n",
       "    </tr>\n",
       "    <tr>\n",
       "      <th>3</th>\n",
       "      <td>200104</td>\n",
       "      <td>25</td>\n",
       "      <td>Korea Republic</td>\n",
       "      <td>84</td>\n",
       "      <td>Tottenham Hotspur</td>\n",
       "      <td>Right</td>\n",
       "      <td>High/ High</td>\n",
       "      <td>LM</td>\n",
       "      <td>Midfielder</td>\n",
       "      <td>7</td>\n",
       "      <td>2023</td>\n",
       "      <td>6'0</td>\n",
       "      <td>180.0</td>\n",
       "      <td>143</td>\n",
       "      <td>71200</td>\n",
       "      <td>125</td>\n",
       "    </tr>\n",
       "    <tr>\n",
       "      <th>4</th>\n",
       "      <td>244229</td>\n",
       "      <td>2*</td>\n",
       "      <td>Italy</td>\n",
       "      <td>66</td>\n",
       "      <td>Cittadella</td>\n",
       "      <td>Right</td>\n",
       "      <td>Medium/ Medium</td>\n",
       "      <td>CB</td>\n",
       "      <td>Defender</td>\n",
       "      <td>15</td>\n",
       "      <td>2020</td>\n",
       "      <td>6'2</td>\n",
       "      <td>NaN</td>\n",
       "      <td>170</td>\n",
       "      <td>1400</td>\n",
       "      <td>1</td>\n",
       "    </tr>\n",
       "  </tbody>\n",
       "</table>\n",
       "</div>"
      ],
      "text/plain": [
       "       ID Age     Nationality  Overall                Club Preferred_Foot  \\\n",
       "0  137351  34         Germany       79         FC Augsburg          Right   \n",
       "1  207707  29          Brazil       77  Olympique Lyonnais           Left   \n",
       "2  242101  22  Korea Republic       64     Pohang Steelers          Right   \n",
       "3  200104  25  Korea Republic       84   Tottenham Hotspur          Right   \n",
       "4  244229  2*           Italy       66          Cittadella          Right   \n",
       "\n",
       "        Work_Rate Position Position_Class  Jersey_Number  \\\n",
       "0    Medium/ High      CDM       Defender             10   \n",
       "1  Medium/ Medium       LB       Defender             20   \n",
       "2    High/ Medium       RW        Forward             18   \n",
       "3      High/ High       LM     Midfielder              7   \n",
       "4  Medium/ Medium       CB       Defender             15   \n",
       "\n",
       "   Contract_Valid_Until Height  Height_cm  Weight_lb  Release_Clause  Wage  \n",
       "0                  2019    5'9      172.5        172            6500    28  \n",
       "1                  2021   5'10      175.0        163           12400    54  \n",
       "2                  2021    6'1      182.5        170            1000     2  \n",
       "3                  2023    6'0      180.0        143           71200   125  \n",
       "4                  2020    6'2        NaN        170            1400     1  "
      ]
     },
     "execution_count": 119,
     "metadata": {},
     "output_type": "execute_result"
    }
   ],
   "source": [
    "print(X_test.shape)\n",
    "X_test.head()"
   ]
  },
  {
   "cell_type": "code",
   "execution_count": 120,
   "id": "4c2b6b0a-93ef-4fa5-a495-df8fafe900cf",
   "metadata": {
    "tags": []
   },
   "outputs": [
    {
     "name": "stdout",
     "output_type": "stream",
     "text": [
      "<class 'pandas.core.frame.DataFrame'>\n",
      "RangeIndex: 2400 entries, 0 to 2399\n",
      "Data columns (total 16 columns):\n",
      " #   Column                Non-Null Count  Dtype  \n",
      "---  ------                --------------  -----  \n",
      " 0   ID                    2400 non-null   int64  \n",
      " 1   Age                   2400 non-null   object \n",
      " 2   Nationality           2400 non-null   object \n",
      " 3   Overall               2400 non-null   int64  \n",
      " 4   Club                  2400 non-null   object \n",
      " 5   Preferred_Foot        2400 non-null   object \n",
      " 6   Work_Rate             2400 non-null   object \n",
      " 7   Position              2400 non-null   object \n",
      " 8   Position_Class        1891 non-null   object \n",
      " 9   Jersey_Number         2400 non-null   int64  \n",
      " 10  Contract_Valid_Until  2400 non-null   int64  \n",
      " 11  Height                2400 non-null   object \n",
      " 12  Height_cm             2212 non-null   float64\n",
      " 13  Weight_lb             2400 non-null   int64  \n",
      " 14  Release_Clause        2400 non-null   int64  \n",
      " 15  Wage                  2400 non-null   int64  \n",
      "dtypes: float64(1), int64(7), object(8)\n",
      "memory usage: 300.1+ KB\n"
     ]
    }
   ],
   "source": [
    "X_test.info()"
   ]
  },
  {
   "cell_type": "code",
   "execution_count": 121,
   "id": "8c6c801d-3fb3-473d-b563-53b868a06f4f",
   "metadata": {
    "tags": []
   },
   "outputs": [
    {
     "data": {
      "text/html": [
       "<div>\n",
       "<style scoped>\n",
       "    .dataframe tbody tr th:only-of-type {\n",
       "        vertical-align: middle;\n",
       "    }\n",
       "\n",
       "    .dataframe tbody tr th {\n",
       "        vertical-align: top;\n",
       "    }\n",
       "\n",
       "    .dataframe thead th {\n",
       "        text-align: right;\n",
       "    }\n",
       "</style>\n",
       "<table border=\"1\" class=\"dataframe\">\n",
       "  <thead>\n",
       "    <tr style=\"text-align: right;\">\n",
       "      <th></th>\n",
       "      <th>ID</th>\n",
       "      <th>Overall</th>\n",
       "      <th>Jersey_Number</th>\n",
       "      <th>Contract_Valid_Until</th>\n",
       "      <th>Height_cm</th>\n",
       "      <th>Weight_lb</th>\n",
       "      <th>Release_Clause</th>\n",
       "      <th>Wage</th>\n",
       "    </tr>\n",
       "  </thead>\n",
       "  <tbody>\n",
       "    <tr>\n",
       "      <th>count</th>\n",
       "      <td>2400.000000</td>\n",
       "      <td>2400.000000</td>\n",
       "      <td>2400.000000</td>\n",
       "      <td>2400.000000</td>\n",
       "      <td>2212.000000</td>\n",
       "      <td>2400.000000</td>\n",
       "      <td>2400.000000</td>\n",
       "      <td>2400.000000</td>\n",
       "    </tr>\n",
       "    <tr>\n",
       "      <th>mean</th>\n",
       "      <td>213967.265417</td>\n",
       "      <td>66.200000</td>\n",
       "      <td>19.720000</td>\n",
       "      <td>2020.251667</td>\n",
       "      <td>178.297920</td>\n",
       "      <td>165.845417</td>\n",
       "      <td>4796.633750</td>\n",
       "      <td>10.177500</td>\n",
       "    </tr>\n",
       "    <tr>\n",
       "      <th>std</th>\n",
       "      <td>31874.993242</td>\n",
       "      <td>7.053302</td>\n",
       "      <td>16.201985</td>\n",
       "      <td>1.287383</td>\n",
       "      <td>6.638623</td>\n",
       "      <td>15.311598</td>\n",
       "      <td>12610.117139</td>\n",
       "      <td>25.544364</td>\n",
       "    </tr>\n",
       "    <tr>\n",
       "      <th>min</th>\n",
       "      <td>16.000000</td>\n",
       "      <td>47.000000</td>\n",
       "      <td>1.000000</td>\n",
       "      <td>2018.000000</td>\n",
       "      <td>157.500000</td>\n",
       "      <td>121.000000</td>\n",
       "      <td>15.000000</td>\n",
       "      <td>1.000000</td>\n",
       "    </tr>\n",
       "    <tr>\n",
       "      <th>25%</th>\n",
       "      <td>200245.500000</td>\n",
       "      <td>62.000000</td>\n",
       "      <td>8.750000</td>\n",
       "      <td>2019.000000</td>\n",
       "      <td>172.500000</td>\n",
       "      <td>154.000000</td>\n",
       "      <td>521.500000</td>\n",
       "      <td>1.000000</td>\n",
       "    </tr>\n",
       "    <tr>\n",
       "      <th>50%</th>\n",
       "      <td>222183.000000</td>\n",
       "      <td>66.000000</td>\n",
       "      <td>17.000000</td>\n",
       "      <td>2020.000000</td>\n",
       "      <td>177.500000</td>\n",
       "      <td>165.000000</td>\n",
       "      <td>1100.000000</td>\n",
       "      <td>3.000000</td>\n",
       "    </tr>\n",
       "    <tr>\n",
       "      <th>75%</th>\n",
       "      <td>237457.750000</td>\n",
       "      <td>71.000000</td>\n",
       "      <td>26.000000</td>\n",
       "      <td>2021.000000</td>\n",
       "      <td>182.500000</td>\n",
       "      <td>176.000000</td>\n",
       "      <td>3400.000000</td>\n",
       "      <td>9.000000</td>\n",
       "    </tr>\n",
       "    <tr>\n",
       "      <th>max</th>\n",
       "      <td>246617.000000</td>\n",
       "      <td>92.000000</td>\n",
       "      <td>99.000000</td>\n",
       "      <td>2025.000000</td>\n",
       "      <td>200.000000</td>\n",
       "      <td>220.000000</td>\n",
       "      <td>228100.000000</td>\n",
       "      <td>455.000000</td>\n",
       "    </tr>\n",
       "  </tbody>\n",
       "</table>\n",
       "</div>"
      ],
      "text/plain": [
       "                  ID      Overall  Jersey_Number  Contract_Valid_Until  \\\n",
       "count    2400.000000  2400.000000    2400.000000           2400.000000   \n",
       "mean   213967.265417    66.200000      19.720000           2020.251667   \n",
       "std     31874.993242     7.053302      16.201985              1.287383   \n",
       "min        16.000000    47.000000       1.000000           2018.000000   \n",
       "25%    200245.500000    62.000000       8.750000           2019.000000   \n",
       "50%    222183.000000    66.000000      17.000000           2020.000000   \n",
       "75%    237457.750000    71.000000      26.000000           2021.000000   \n",
       "max    246617.000000    92.000000      99.000000           2025.000000   \n",
       "\n",
       "         Height_cm    Weight_lb  Release_Clause         Wage  \n",
       "count  2212.000000  2400.000000     2400.000000  2400.000000  \n",
       "mean    178.297920   165.845417     4796.633750    10.177500  \n",
       "std       6.638623    15.311598    12610.117139    25.544364  \n",
       "min     157.500000   121.000000       15.000000     1.000000  \n",
       "25%     172.500000   154.000000      521.500000     1.000000  \n",
       "50%     177.500000   165.000000     1100.000000     3.000000  \n",
       "75%     182.500000   176.000000     3400.000000     9.000000  \n",
       "max     200.000000   220.000000   228100.000000   455.000000  "
      ]
     },
     "execution_count": 121,
     "metadata": {},
     "output_type": "execute_result"
    }
   ],
   "source": [
    "X_test.describe()"
   ]
  },
  {
   "cell_type": "code",
   "execution_count": 122,
   "id": "d2325d42-3dc6-49cf-8f74-c287056f2a2a",
   "metadata": {
    "tags": []
   },
   "outputs": [],
   "source": [
    "# FIFA_y_train, FIFA_X_train으로 시장 가치 예측모형을 만든 후 이를 FIFA_X_test에 적용하여 얻은 2,400명 선수의 시장 가치 예측값을 ID-Value 형식의 csv 파일로 생성\n",
    "# 제출한 모델의 성능은 RMSE 평가지표에 따라 채점"
   ]
  },
  {
   "cell_type": "code",
   "execution_count": 123,
   "id": "688c9c3d-07b2-410b-b0fd-82dd070dcc7a",
   "metadata": {
    "tags": []
   },
   "outputs": [
    {
     "name": "stdout",
     "output_type": "stream",
     "text": [
      "ID                        0\n",
      "Age                       0\n",
      "Nationality               0\n",
      "Overall                   0\n",
      "Club                      0\n",
      "Preferred_Foot            0\n",
      "Work_Rate                 0\n",
      "Position                  0\n",
      "Position_Class          758\n",
      "Jersey_Number             0\n",
      "Contract_Valid_Until      0\n",
      "Height                    0\n",
      "Height_cm               292\n",
      "Weight_lb                72\n",
      "Release_Clause            0\n",
      "Wage                      0\n",
      "dtype: int64\n",
      "-----------------------------\n",
      "ID                        0\n",
      "Age                       0\n",
      "Nationality               0\n",
      "Overall                   0\n",
      "Club                      0\n",
      "Preferred_Foot            0\n",
      "Work_Rate                 0\n",
      "Position                  0\n",
      "Position_Class          509\n",
      "Jersey_Number             0\n",
      "Contract_Valid_Until      0\n",
      "Height                    0\n",
      "Height_cm               188\n",
      "Weight_lb                 0\n",
      "Release_Clause            0\n",
      "Wage                      0\n",
      "dtype: int64\n",
      "-----------------------------\n",
      "ID       0\n",
      "Value    0\n",
      "dtype: int64\n"
     ]
    }
   ],
   "source": [
    "# 데이터셋 전처리\n",
    "print(X_train.isnull().sum())\n",
    "print(\"-----------------------------\")\n",
    "print(X_test.isnull().sum())\n",
    "print(\"-----------------------------\")\n",
    "print(y_train.isnull().sum())"
   ]
  },
  {
   "cell_type": "code",
   "execution_count": 124,
   "id": "5e25c604-0583-4fb3-b258-9e8a86cb1d75",
   "metadata": {
    "tags": []
   },
   "outputs": [],
   "source": [
    "# 결측치는 Position_Class, Height_cm, Weight_lb"
   ]
  },
  {
   "cell_type": "code",
   "execution_count": 125,
   "id": "b8ee1825-ccaf-4b17-bf35-ecb037c3ca40",
   "metadata": {},
   "outputs": [],
   "source": [
    "# 나중에 제출하기 위해 X_test의 ID는 따로 저장해놓기\n",
    "ID = X_test['ID'].copy()"
   ]
  },
  {
   "cell_type": "code",
   "execution_count": 126,
   "id": "ae9f990a-a86a-43b3-b8e4-fcdbfe2b32af",
   "metadata": {},
   "outputs": [],
   "source": [
    "# 결측치 삭제 전에 ID 열 삭제\n",
    "X_train = X_train.drop(columns = 'ID', axis = 1)\n",
    "X_test = X_test.drop(columns = 'ID', axis = 1)\n",
    "y_train = y_train.drop(columns = 'ID', axis = 1)"
   ]
  },
  {
   "cell_type": "code",
   "execution_count": 127,
   "id": "953a4b95-19ec-4b4d-824f-625f9cf66dd0",
   "metadata": {
    "tags": []
   },
   "outputs": [
    {
     "data": {
      "text/plain": [
       "Position_Class\n",
       "Defender      1400\n",
       "Midfielder     790\n",
       "Forward        652\n",
       "Name: count, dtype: int64"
      ]
     },
     "execution_count": 127,
     "metadata": {},
     "output_type": "execute_result"
    }
   ],
   "source": [
    "# Position_Class 칼럼 결측치 채우기 (기존 Position 칼럼 활용)\n",
    "X_train['Position_Class'].value_counts()"
   ]
  },
  {
   "cell_type": "code",
   "execution_count": 128,
   "id": "a6fbb149-bdd1-4d9f-85b9-1896d823c37a",
   "metadata": {
    "tags": []
   },
   "outputs": [
    {
     "data": {
      "text/plain": [
       "Position_Class\n",
       "Defender      1400\n",
       "Midfielder     790\n",
       "unknown        758\n",
       "Forward        652\n",
       "Name: count, dtype: int64"
      ]
     },
     "execution_count": 128,
     "metadata": {},
     "output_type": "execute_result"
    }
   ],
   "source": [
    "X_train['Position_Class'] = X_train['Position_Class'].fillna('unknown')  # known으로 대체\n",
    "X_train['Position_Class'].value_counts()"
   ]
  },
  {
   "cell_type": "code",
   "execution_count": 129,
   "id": "4fa4bd64-5b7e-481c-86bc-d3ccfb630f18",
   "metadata": {
    "tags": []
   },
   "outputs": [
    {
     "data": {
      "text/html": [
       "<div>\n",
       "<style scoped>\n",
       "    .dataframe tbody tr th:only-of-type {\n",
       "        vertical-align: middle;\n",
       "    }\n",
       "\n",
       "    .dataframe tbody tr th {\n",
       "        vertical-align: top;\n",
       "    }\n",
       "\n",
       "    .dataframe thead th {\n",
       "        text-align: right;\n",
       "    }\n",
       "</style>\n",
       "<table border=\"1\" class=\"dataframe\">\n",
       "  <thead>\n",
       "    <tr style=\"text-align: right;\">\n",
       "      <th>Position_Class</th>\n",
       "      <th>Defender</th>\n",
       "      <th>Forward</th>\n",
       "      <th>Midfielder</th>\n",
       "      <th>unknown</th>\n",
       "    </tr>\n",
       "    <tr>\n",
       "      <th>Position</th>\n",
       "      <th></th>\n",
       "      <th></th>\n",
       "      <th></th>\n",
       "      <th></th>\n",
       "    </tr>\n",
       "  </thead>\n",
       "  <tbody>\n",
       "    <tr>\n",
       "      <th>CAM</th>\n",
       "      <td>0</td>\n",
       "      <td>0</td>\n",
       "      <td>212</td>\n",
       "      <td>0</td>\n",
       "    </tr>\n",
       "    <tr>\n",
       "      <th>CB</th>\n",
       "      <td>349</td>\n",
       "      <td>0</td>\n",
       "      <td>0</td>\n",
       "      <td>0</td>\n",
       "    </tr>\n",
       "    <tr>\n",
       "      <th>CDM</th>\n",
       "      <td>178</td>\n",
       "      <td>0</td>\n",
       "      <td>0</td>\n",
       "      <td>0</td>\n",
       "    </tr>\n",
       "    <tr>\n",
       "      <th>CF</th>\n",
       "      <td>0</td>\n",
       "      <td>12</td>\n",
       "      <td>0</td>\n",
       "      <td>0</td>\n",
       "    </tr>\n",
       "    <tr>\n",
       "      <th>CM</th>\n",
       "      <td>0</td>\n",
       "      <td>0</td>\n",
       "      <td>0</td>\n",
       "      <td>295</td>\n",
       "    </tr>\n",
       "    <tr>\n",
       "      <th>GK</th>\n",
       "      <td>0</td>\n",
       "      <td>0</td>\n",
       "      <td>0</td>\n",
       "      <td>391</td>\n",
       "    </tr>\n",
       "    <tr>\n",
       "      <th>LAM</th>\n",
       "      <td>0</td>\n",
       "      <td>0</td>\n",
       "      <td>4</td>\n",
       "      <td>0</td>\n",
       "    </tr>\n",
       "    <tr>\n",
       "      <th>LB</th>\n",
       "      <td>283</td>\n",
       "      <td>0</td>\n",
       "      <td>0</td>\n",
       "      <td>0</td>\n",
       "    </tr>\n",
       "    <tr>\n",
       "      <th>LCB</th>\n",
       "      <td>136</td>\n",
       "      <td>0</td>\n",
       "      <td>0</td>\n",
       "      <td>0</td>\n",
       "    </tr>\n",
       "    <tr>\n",
       "      <th>LCM</th>\n",
       "      <td>0</td>\n",
       "      <td>0</td>\n",
       "      <td>86</td>\n",
       "      <td>0</td>\n",
       "    </tr>\n",
       "    <tr>\n",
       "      <th>LDM</th>\n",
       "      <td>48</td>\n",
       "      <td>0</td>\n",
       "      <td>0</td>\n",
       "      <td>0</td>\n",
       "    </tr>\n",
       "    <tr>\n",
       "      <th>LF</th>\n",
       "      <td>0</td>\n",
       "      <td>0</td>\n",
       "      <td>0</td>\n",
       "      <td>3</td>\n",
       "    </tr>\n",
       "    <tr>\n",
       "      <th>LM</th>\n",
       "      <td>0</td>\n",
       "      <td>0</td>\n",
       "      <td>208</td>\n",
       "      <td>0</td>\n",
       "    </tr>\n",
       "    <tr>\n",
       "      <th>LS</th>\n",
       "      <td>0</td>\n",
       "      <td>42</td>\n",
       "      <td>0</td>\n",
       "      <td>0</td>\n",
       "    </tr>\n",
       "    <tr>\n",
       "      <th>LW</th>\n",
       "      <td>0</td>\n",
       "      <td>71</td>\n",
       "      <td>0</td>\n",
       "      <td>0</td>\n",
       "    </tr>\n",
       "    <tr>\n",
       "      <th>LWB</th>\n",
       "      <td>24</td>\n",
       "      <td>0</td>\n",
       "      <td>0</td>\n",
       "      <td>0</td>\n",
       "    </tr>\n",
       "    <tr>\n",
       "      <th>RAM</th>\n",
       "      <td>0</td>\n",
       "      <td>0</td>\n",
       "      <td>5</td>\n",
       "      <td>0</td>\n",
       "    </tr>\n",
       "    <tr>\n",
       "      <th>RB</th>\n",
       "      <td>263</td>\n",
       "      <td>0</td>\n",
       "      <td>0</td>\n",
       "      <td>0</td>\n",
       "    </tr>\n",
       "    <tr>\n",
       "      <th>RCB</th>\n",
       "      <td>119</td>\n",
       "      <td>0</td>\n",
       "      <td>0</td>\n",
       "      <td>0</td>\n",
       "    </tr>\n",
       "    <tr>\n",
       "      <th>RCM</th>\n",
       "      <td>0</td>\n",
       "      <td>0</td>\n",
       "      <td>65</td>\n",
       "      <td>0</td>\n",
       "    </tr>\n",
       "    <tr>\n",
       "      <th>RDM</th>\n",
       "      <td>0</td>\n",
       "      <td>0</td>\n",
       "      <td>0</td>\n",
       "      <td>44</td>\n",
       "    </tr>\n",
       "    <tr>\n",
       "      <th>RF</th>\n",
       "      <td>0</td>\n",
       "      <td>4</td>\n",
       "      <td>0</td>\n",
       "      <td>0</td>\n",
       "    </tr>\n",
       "    <tr>\n",
       "      <th>RM</th>\n",
       "      <td>0</td>\n",
       "      <td>0</td>\n",
       "      <td>210</td>\n",
       "      <td>0</td>\n",
       "    </tr>\n",
       "    <tr>\n",
       "      <th>RS</th>\n",
       "      <td>0</td>\n",
       "      <td>36</td>\n",
       "      <td>0</td>\n",
       "      <td>0</td>\n",
       "    </tr>\n",
       "    <tr>\n",
       "      <th>RW</th>\n",
       "      <td>0</td>\n",
       "      <td>62</td>\n",
       "      <td>0</td>\n",
       "      <td>0</td>\n",
       "    </tr>\n",
       "    <tr>\n",
       "      <th>RWB</th>\n",
       "      <td>0</td>\n",
       "      <td>0</td>\n",
       "      <td>0</td>\n",
       "      <td>25</td>\n",
       "    </tr>\n",
       "    <tr>\n",
       "      <th>ST</th>\n",
       "      <td>0</td>\n",
       "      <td>425</td>\n",
       "      <td>0</td>\n",
       "      <td>0</td>\n",
       "    </tr>\n",
       "  </tbody>\n",
       "</table>\n",
       "</div>"
      ],
      "text/plain": [
       "Position_Class  Defender  Forward  Midfielder  unknown\n",
       "Position                                              \n",
       "CAM                    0        0         212        0\n",
       "CB                   349        0           0        0\n",
       "CDM                  178        0           0        0\n",
       "CF                     0       12           0        0\n",
       "CM                     0        0           0      295\n",
       "GK                     0        0           0      391\n",
       "LAM                    0        0           4        0\n",
       "LB                   283        0           0        0\n",
       "LCB                  136        0           0        0\n",
       "LCM                    0        0          86        0\n",
       "LDM                   48        0           0        0\n",
       "LF                     0        0           0        3\n",
       "LM                     0        0         208        0\n",
       "LS                     0       42           0        0\n",
       "LW                     0       71           0        0\n",
       "LWB                   24        0           0        0\n",
       "RAM                    0        0           5        0\n",
       "RB                   263        0           0        0\n",
       "RCB                  119        0           0        0\n",
       "RCM                    0        0          65        0\n",
       "RDM                    0        0           0       44\n",
       "RF                     0        4           0        0\n",
       "RM                     0        0         210        0\n",
       "RS                     0       36           0        0\n",
       "RW                     0       62           0        0\n",
       "RWB                    0        0           0       25\n",
       "ST                     0      425           0        0"
      ]
     },
     "execution_count": 129,
     "metadata": {},
     "output_type": "execute_result"
    }
   ],
   "source": [
    "# pandas.crosstab(index, columns)로 교차표 생성\n",
    "pd.crosstab(index = X_train['Position'], columns = X_train['Position_Class'])"
   ]
  },
  {
   "cell_type": "code",
   "execution_count": 130,
   "id": "316c7daa-283f-4d23-ae4f-6f3b38355edc",
   "metadata": {
    "tags": []
   },
   "outputs": [
    {
     "data": {
      "text/html": [
       "<div>\n",
       "<style scoped>\n",
       "    .dataframe tbody tr th:only-of-type {\n",
       "        vertical-align: middle;\n",
       "    }\n",
       "\n",
       "    .dataframe tbody tr th {\n",
       "        vertical-align: top;\n",
       "    }\n",
       "\n",
       "    .dataframe thead th {\n",
       "        text-align: right;\n",
       "    }\n",
       "</style>\n",
       "<table border=\"1\" class=\"dataframe\">\n",
       "  <thead>\n",
       "    <tr style=\"text-align: right;\">\n",
       "      <th></th>\n",
       "      <th>Position</th>\n",
       "      <th>Position_Class</th>\n",
       "    </tr>\n",
       "  </thead>\n",
       "  <tbody>\n",
       "    <tr>\n",
       "      <th>0</th>\n",
       "      <td>RW</td>\n",
       "      <td>Forward</td>\n",
       "    </tr>\n",
       "    <tr>\n",
       "      <th>1</th>\n",
       "      <td>LCB</td>\n",
       "      <td>Defender</td>\n",
       "    </tr>\n",
       "    <tr>\n",
       "      <th>2</th>\n",
       "      <td>LW</td>\n",
       "      <td>Forward</td>\n",
       "    </tr>\n",
       "    <tr>\n",
       "      <th>3</th>\n",
       "      <td>LW</td>\n",
       "      <td>Forward</td>\n",
       "    </tr>\n",
       "    <tr>\n",
       "      <th>4</th>\n",
       "      <td>ST</td>\n",
       "      <td>Forward</td>\n",
       "    </tr>\n",
       "    <tr>\n",
       "      <th>...</th>\n",
       "      <td>...</td>\n",
       "      <td>...</td>\n",
       "    </tr>\n",
       "    <tr>\n",
       "      <th>3595</th>\n",
       "      <td>CB</td>\n",
       "      <td>Defender</td>\n",
       "    </tr>\n",
       "    <tr>\n",
       "      <th>3596</th>\n",
       "      <td>ST</td>\n",
       "      <td>Forward</td>\n",
       "    </tr>\n",
       "    <tr>\n",
       "      <th>3597</th>\n",
       "      <td>ST</td>\n",
       "      <td>Forward</td>\n",
       "    </tr>\n",
       "    <tr>\n",
       "      <th>3598</th>\n",
       "      <td>RB</td>\n",
       "      <td>Defender</td>\n",
       "    </tr>\n",
       "    <tr>\n",
       "      <th>3599</th>\n",
       "      <td>LWB</td>\n",
       "      <td>Defender</td>\n",
       "    </tr>\n",
       "  </tbody>\n",
       "</table>\n",
       "<p>3600 rows × 2 columns</p>\n",
       "</div>"
      ],
      "text/plain": [
       "     Position Position_Class\n",
       "0          RW        Forward\n",
       "1         LCB       Defender\n",
       "2          LW        Forward\n",
       "3          LW        Forward\n",
       "4          ST        Forward\n",
       "...       ...            ...\n",
       "3595       CB       Defender\n",
       "3596       ST        Forward\n",
       "3597       ST        Forward\n",
       "3598       RB       Defender\n",
       "3599      LWB       Defender\n",
       "\n",
       "[3600 rows x 2 columns]"
      ]
     },
     "execution_count": 130,
     "metadata": {},
     "output_type": "execute_result"
    }
   ],
   "source": [
    "# CM (Midfielder), GK (GoalKeeper), LF (Forward), RDM (Defender), RWB (Defender) >> 이게 unkown값임\n",
    "# 다른 방법으로도 확인\n",
    "position_class_unknown = X_train[['Position', 'Position_Class']]\n",
    "position_class_unknown"
   ]
  },
  {
   "cell_type": "code",
   "execution_count": 131,
   "id": "d0b59914-1c3b-48f1-8af7-10a7e2db0743",
   "metadata": {
    "tags": []
   },
   "outputs": [
    {
     "data": {
      "text/plain": [
       "array(['Forward', 'Defender', 'Midfielder', 'unknown'], dtype=object)"
      ]
     },
     "execution_count": 131,
     "metadata": {},
     "output_type": "execute_result"
    }
   ],
   "source": [
    "position_class_unknown['Position_Class'].unique()"
   ]
  },
  {
   "cell_type": "code",
   "execution_count": 132,
   "id": "2faa7300-8f18-49c7-be28-f7c1a3813c1c",
   "metadata": {
    "tags": []
   },
   "outputs": [
    {
     "data": {
      "text/plain": [
       "array(['Forward', 'Defender', 'Midfielder', 'GoalKeeper'], dtype=object)"
      ]
     },
     "execution_count": 132,
     "metadata": {},
     "output_type": "execute_result"
    }
   ],
   "source": [
    "# unknown 결측값 채우기\n",
    "# CM (Midfielder), GK (GoalKeeper), LF (Forward), RDM (Defender), RWB (Defender)\n",
    "position_class_unknown.loc[position_class_unknown['Position'] == 'CM', 'Position_Class'] = 'Midfielder'\n",
    "position_class_unknown.loc[position_class_unknown['Position'] == 'GK', 'Position_Class'] = 'GoalKeeper'\n",
    "position_class_unknown.loc[position_class_unknown['Position'] == 'RDM', 'Position_Class'] = 'Defender'\n",
    "position_class_unknown.loc[position_class_unknown['Position'] == 'RWB', 'Position_Class'] = 'Defender'\n",
    "position_class_unknown.loc[position_class_unknown['Position'] == 'LF', 'Position_Class'] = 'Forward'\n",
    "position_class_unknown['Position_Class'].unique()"
   ]
  },
  {
   "cell_type": "code",
   "execution_count": 133,
   "id": "5b4a168e-fafd-49d1-8606-20158b420b0a",
   "metadata": {
    "tags": []
   },
   "outputs": [
    {
     "data": {
      "text/plain": [
       "array(['Forward', 'Defender', 'Midfielder', 'GoalKeeper'], dtype=object)"
      ]
     },
     "execution_count": 133,
     "metadata": {},
     "output_type": "execute_result"
    }
   ],
   "source": [
    "# 결측값 채운 positioni_class_unknown df의 ['Position_Class'] 칼럼을 X_train df에 저장\n",
    "X_train['Position_Class'] = position_class_unknown['Position_Class']\n",
    "X_train['Position_Class'].unique()"
   ]
  },
  {
   "cell_type": "code",
   "execution_count": 134,
   "id": "adc3c02c-ead4-469e-88f2-da373d943628",
   "metadata": {
    "tags": []
   },
   "outputs": [
    {
     "data": {
      "text/plain": [
       "array(['Defender', 'Forward', 'Midfielder', 'GoalKeeper'], dtype=object)"
      ]
     },
     "execution_count": 134,
     "metadata": {},
     "output_type": "execute_result"
    }
   ],
   "source": [
    "# X_test에 있는 null값에 대해서도 결측치 처리\n",
    "X_test['Position_Class'] = X_test['Position_Class'].fillna('unknown')  # known으로 대체\n",
    "\n",
    "# CM (Midfielder), GK (GoalKeeper), LF (Forward), RDM (Defender), RWB (Defender) >> 이게 unkown값임\n",
    "position_class_unknown_test = X_test[['Position', 'Position_Class']]\n",
    "\n",
    "# unknown 결측값 채우기\n",
    "# CM (Midfielder), GK (GoalKeeper), LF (Forward), RDM (Defender), RWB (Defender)\n",
    "position_class_unknown_test.loc[position_class_unknown_test['Position'] == 'CM', 'Position_Class'] = 'Midfielder'\n",
    "position_class_unknown_test.loc[position_class_unknown_test['Position'] == 'GK', 'Position_Class'] = 'GoalKeeper'\n",
    "position_class_unknown_test.loc[position_class_unknown_test['Position'] == 'RDM', 'Position_Class'] = 'Defender'\n",
    "position_class_unknown_test.loc[position_class_unknown_test['Position'] == 'RWB', 'Position_Class'] = 'Defender'\n",
    "position_class_unknown_test.loc[position_class_unknown_test['Position'] == 'LF', 'Position_Class'] = 'Forward'\n",
    "\n",
    "# 결측값 채운 position_class_unknown_test df의 ['Position_Class'] 칼럼을 X_test df에 저장\n",
    "X_test['Position_Class'] = position_class_unknown_test['Position_Class']\n",
    "X_test['Position_Class'].unique()"
   ]
  },
  {
   "cell_type": "code",
   "execution_count": 135,
   "id": "3fe43494-dd0b-4273-8358-984b19c2ec05",
   "metadata": {
    "tags": []
   },
   "outputs": [],
   "source": [
    "# X_train, X_test에서 ['Position'] 열 drop\n",
    "X_train = X_train.drop(columns = 'Position')\n",
    "X_test = X_test.drop(columns = 'Position')"
   ]
  },
  {
   "cell_type": "code",
   "execution_count": 136,
   "id": "9830779b-1032-4c64-8a98-deabe2d9e95d",
   "metadata": {
    "tags": []
   },
   "outputs": [
    {
     "name": "stdout",
     "output_type": "stream",
     "text": [
      "Age                       0\n",
      "Nationality               0\n",
      "Overall                   0\n",
      "Club                      0\n",
      "Preferred_Foot            0\n",
      "Work_Rate                 0\n",
      "Position_Class            0\n",
      "Jersey_Number             0\n",
      "Contract_Valid_Until      0\n",
      "Height                    0\n",
      "Height_cm               292\n",
      "Weight_lb                72\n",
      "Release_Clause            0\n",
      "Wage                      0\n",
      "dtype: int64\n",
      "----------------------------\n",
      "Age                       0\n",
      "Nationality               0\n",
      "Overall                   0\n",
      "Club                      0\n",
      "Preferred_Foot            0\n",
      "Work_Rate                 0\n",
      "Position_Class            0\n",
      "Jersey_Number             0\n",
      "Contract_Valid_Until      0\n",
      "Height                    0\n",
      "Height_cm               188\n",
      "Weight_lb                 0\n",
      "Release_Clause            0\n",
      "Wage                      0\n",
      "dtype: int64\n"
     ]
    }
   ],
   "source": [
    "# 다시 null값 확인\n",
    "print(X_train.isnull().sum())\n",
    "print('----------------------------')\n",
    "print(X_test.isnull().sum())"
   ]
  },
  {
   "cell_type": "code",
   "execution_count": 137,
   "id": "20e8c104-9693-4718-9326-c8ffcda79f5d",
   "metadata": {
    "tags": []
   },
   "outputs": [],
   "source": [
    "# Height_cm은 train에서 292개, test에서 188개\n",
    "# feat&inch 단위를 cm로 변환해서 저장\n",
    "height_train = X_train['Height'].copy()\n",
    "height_cm_train = X_train['Height_cm'].copy()"
   ]
  },
  {
   "cell_type": "code",
   "execution_count": 138,
   "id": "1e913473-cdea-4329-9e2b-1a98597fb4cb",
   "metadata": {
    "tags": []
   },
   "outputs": [
    {
     "data": {
      "text/html": [
       "<div>\n",
       "<style scoped>\n",
       "    .dataframe tbody tr th:only-of-type {\n",
       "        vertical-align: middle;\n",
       "    }\n",
       "\n",
       "    .dataframe tbody tr th {\n",
       "        vertical-align: top;\n",
       "    }\n",
       "\n",
       "    .dataframe thead th {\n",
       "        text-align: right;\n",
       "    }\n",
       "</style>\n",
       "<table border=\"1\" class=\"dataframe\">\n",
       "  <thead>\n",
       "    <tr style=\"text-align: right;\">\n",
       "      <th></th>\n",
       "      <th>0</th>\n",
       "      <th>1</th>\n",
       "    </tr>\n",
       "  </thead>\n",
       "  <tbody>\n",
       "    <tr>\n",
       "      <th>0</th>\n",
       "      <td>5.0</td>\n",
       "      <td>8.0</td>\n",
       "    </tr>\n",
       "    <tr>\n",
       "      <th>1</th>\n",
       "      <td>6.0</td>\n",
       "      <td>0.0</td>\n",
       "    </tr>\n",
       "    <tr>\n",
       "      <th>2</th>\n",
       "      <td>5.0</td>\n",
       "      <td>9.0</td>\n",
       "    </tr>\n",
       "    <tr>\n",
       "      <th>3</th>\n",
       "      <td>5.0</td>\n",
       "      <td>10.0</td>\n",
       "    </tr>\n",
       "    <tr>\n",
       "      <th>4</th>\n",
       "      <td>5.0</td>\n",
       "      <td>10.0</td>\n",
       "    </tr>\n",
       "    <tr>\n",
       "      <th>...</th>\n",
       "      <td>...</td>\n",
       "      <td>...</td>\n",
       "    </tr>\n",
       "    <tr>\n",
       "      <th>3595</th>\n",
       "      <td>6.0</td>\n",
       "      <td>6.0</td>\n",
       "    </tr>\n",
       "    <tr>\n",
       "      <th>3596</th>\n",
       "      <td>5.0</td>\n",
       "      <td>10.0</td>\n",
       "    </tr>\n",
       "    <tr>\n",
       "      <th>3597</th>\n",
       "      <td>6.0</td>\n",
       "      <td>0.0</td>\n",
       "    </tr>\n",
       "    <tr>\n",
       "      <th>3598</th>\n",
       "      <td>5.0</td>\n",
       "      <td>10.0</td>\n",
       "    </tr>\n",
       "    <tr>\n",
       "      <th>3599</th>\n",
       "      <td>5.0</td>\n",
       "      <td>10.0</td>\n",
       "    </tr>\n",
       "  </tbody>\n",
       "</table>\n",
       "<p>3600 rows × 2 columns</p>\n",
       "</div>"
      ],
      "text/plain": [
       "        0     1\n",
       "0     5.0   8.0\n",
       "1     6.0   0.0\n",
       "2     5.0   9.0\n",
       "3     5.0  10.0\n",
       "4     5.0  10.0\n",
       "...   ...   ...\n",
       "3595  6.0   6.0\n",
       "3596  5.0  10.0\n",
       "3597  6.0   0.0\n",
       "3598  5.0  10.0\n",
       "3599  5.0  10.0\n",
       "\n",
       "[3600 rows x 2 columns]"
      ]
     },
     "execution_count": 138,
     "metadata": {},
     "output_type": "execute_result"
    }
   ],
   "source": [
    "# '을 기준으로 앞은 피트 (*30), 뒤는 인치(*2.5)\n",
    "# 우선 '을 기준으로 문자열 분리\n",
    "split_height = height_train.str.split(\"'\", expand = True).astype('float64')\n",
    "split_height"
   ]
  },
  {
   "cell_type": "code",
   "execution_count": 139,
   "id": "342fff7b-22c5-4733-90d5-417ccb185f16",
   "metadata": {
    "tags": []
   },
   "outputs": [
    {
     "data": {
      "text/plain": [
       "0"
      ]
     },
     "execution_count": 139,
     "metadata": {},
     "output_type": "execute_result"
    }
   ],
   "source": [
    "# 결측치 대체\n",
    "height_cm_train = height_cm_train.fillna(split_height[0] * 30 + split_height[1] * 2.5)\n",
    "X_train['Height_cm'] = height_cm_train\n",
    "X_train['Height_cm'].isnull().sum()"
   ]
  },
  {
   "cell_type": "code",
   "execution_count": 140,
   "id": "32057693-2653-40f2-983b-471bf8ab795e",
   "metadata": {
    "tags": []
   },
   "outputs": [
    {
     "data": {
      "text/plain": [
       "0"
      ]
     },
     "execution_count": 140,
     "metadata": {},
     "output_type": "execute_result"
    }
   ],
   "source": [
    "# test 데이터의 결측치도 대체\n",
    "height_test = X_test['Height'].copy()\n",
    "height_cm_test = X_test['Height_cm'].copy()\n",
    "\n",
    "split_height_test = height_test.str.split(\"'\", expand = True).astype('float64')\n",
    "\n",
    "height_cm_test = height_cm_test.fillna(split_height_test[0] * 30 + split_height_test[1] * 2.5)\n",
    "X_test['Height_cm'] = height_cm_test\n",
    "X_test['Height_cm'].isnull().sum()"
   ]
  },
  {
   "cell_type": "code",
   "execution_count": 141,
   "id": "a196c8b8-0eaa-452a-b1a6-ba80d9e57276",
   "metadata": {
    "tags": []
   },
   "outputs": [],
   "source": [
    "# 인치 단위 Height 열 삭제\n",
    "X_train = X_train.drop(columns = 'Height')\n",
    "X_test = X_test.drop(columns = 'Height')"
   ]
  },
  {
   "cell_type": "code",
   "execution_count": 142,
   "id": "ae42d635-077f-47f8-a7f6-bf66c816681b",
   "metadata": {
    "tags": []
   },
   "outputs": [
    {
     "name": "stdout",
     "output_type": "stream",
     "text": [
      "Age                      0\n",
      "Nationality              0\n",
      "Overall                  0\n",
      "Club                     0\n",
      "Preferred_Foot           0\n",
      "Work_Rate                0\n",
      "Position_Class           0\n",
      "Jersey_Number            0\n",
      "Contract_Valid_Until     0\n",
      "Height_cm                0\n",
      "Weight_lb               72\n",
      "Release_Clause           0\n",
      "Wage                     0\n",
      "dtype: int64\n",
      "----------------------------\n",
      "Age                     0\n",
      "Nationality             0\n",
      "Overall                 0\n",
      "Club                    0\n",
      "Preferred_Foot          0\n",
      "Work_Rate               0\n",
      "Position_Class          0\n",
      "Jersey_Number           0\n",
      "Contract_Valid_Until    0\n",
      "Height_cm               0\n",
      "Weight_lb               0\n",
      "Release_Clause          0\n",
      "Wage                    0\n",
      "dtype: int64\n"
     ]
    }
   ],
   "source": [
    "# 다시 결측치 확인\n",
    "print(X_train.isnull().sum())\n",
    "print('----------------------------')\n",
    "print(X_test.isnull().sum())"
   ]
  },
  {
   "cell_type": "code",
   "execution_count": 143,
   "id": "7d8d5744-f9b7-4cd9-8dad-69559949cf6c",
   "metadata": {
    "tags": []
   },
   "outputs": [
    {
     "data": {
      "text/plain": [
       "0       False\n",
       "1       False\n",
       "2       False\n",
       "3       False\n",
       "4       False\n",
       "        ...  \n",
       "3595    False\n",
       "3596    False\n",
       "3597    False\n",
       "3598    False\n",
       "3599    False\n",
       "Name: Weight_lb, Length: 3600, dtype: bool"
      ]
     },
     "execution_count": 143,
     "metadata": {},
     "output_type": "execute_result"
    }
   ],
   "source": [
    "# X_train의 Weight_lb에 72개의 결측치가 있음\n",
    "# 결측치가 X_train 기준으로 2%이므로 결측치가 있는 행 삭제 (y_train에서도 삭제해야 함)\n",
    "# 주의) 시험에서 test 데이터에 결측치가 있다면 삭제 X, 평균대치법으로 대치하기\n",
    "cond_na = X_train['Weight_lb'].isna()\n",
    "cond_na"
   ]
  },
  {
   "cell_type": "code",
   "execution_count": 144,
   "id": "73358f59-abc4-49d4-8bf0-3520c6be5244",
   "metadata": {
    "tags": []
   },
   "outputs": [],
   "source": [
    "y_train = y_train[~ cond_na]\n",
    "X_train = X_train[~ cond_na]"
   ]
  },
  {
   "cell_type": "code",
   "execution_count": 145,
   "id": "b55b9087-1a52-4aa5-87c7-80fdc4c5bf4d",
   "metadata": {
    "tags": []
   },
   "outputs": [
    {
     "name": "stdout",
     "output_type": "stream",
     "text": [
      "(3528, 13)\n",
      "(3528, 1)\n"
     ]
    }
   ],
   "source": [
    "# 레코드 삭제 후 shape 확인\n",
    "print(X_train.shape)\n",
    "print(y_train.shape)"
   ]
  },
  {
   "cell_type": "code",
   "execution_count": 146,
   "id": "f494b276-518f-4fef-b37f-d4d64b594891",
   "metadata": {
    "tags": []
   },
   "outputs": [
    {
     "name": "stdout",
     "output_type": "stream",
     "text": [
      "<class 'pandas.core.frame.DataFrame'>\n",
      "Index: 3528 entries, 0 to 3599\n",
      "Data columns (total 13 columns):\n",
      " #   Column                Non-Null Count  Dtype  \n",
      "---  ------                --------------  -----  \n",
      " 0   Age                   3528 non-null   object \n",
      " 1   Nationality           3528 non-null   object \n",
      " 2   Overall               3528 non-null   int64  \n",
      " 3   Club                  3528 non-null   object \n",
      " 4   Preferred_Foot        3528 non-null   object \n",
      " 5   Work_Rate             3528 non-null   object \n",
      " 6   Position_Class        3528 non-null   object \n",
      " 7   Jersey_Number         3528 non-null   int64  \n",
      " 8   Contract_Valid_Until  3528 non-null   int64  \n",
      " 9   Height_cm             3528 non-null   float64\n",
      " 10  Weight_lb             3528 non-null   float64\n",
      " 11  Release_Clause        3528 non-null   int64  \n",
      " 12  Wage                  3528 non-null   int64  \n",
      "dtypes: float64(2), int64(5), object(6)\n",
      "memory usage: 385.9+ KB\n"
     ]
    }
   ],
   "source": [
    "# 카테고리형 컬럼 전처리\n",
    "# 문자형 컬럼의 유일값 확인\n",
    "X_train.info()"
   ]
  },
  {
   "cell_type": "code",
   "execution_count": 147,
   "id": "dbc1bc76-d2e7-41d2-934a-63626739bc75",
   "metadata": {
    "tags": []
   },
   "outputs": [
    {
     "name": "stdout",
     "output_type": "stream",
     "text": [
      "Age                29\n",
      "Nationality       129\n",
      "Club              648\n",
      "Preferred_Foot      2\n",
      "Work_Rate           9\n",
      "Position_Class      4\n",
      "dtype: int64\n",
      "-------------------------------\n",
      "Age                31\n",
      "Nationality       116\n",
      "Club              634\n",
      "Preferred_Foot      2\n",
      "Work_Rate           9\n",
      "Position_Class      4\n",
      "dtype: int64\n"
     ]
    }
   ],
   "source": [
    "# 카테고리형 컬럼 전처리\n",
    "# 문자형 컬럼의 유일값 확인 (.select_dtypes() 메소드는 원하는 dtype을 가진 df만 추출)\n",
    "print(X_train.select_dtypes('object').nunique())\n",
    "print('-------------------------------')\n",
    "print(X_test.select_dtypes('object').nunique())"
   ]
  },
  {
   "cell_type": "code",
   "execution_count": 148,
   "id": "933100b4-a5cd-4bf0-a98c-5fe19303b391",
   "metadata": {
    "tags": []
   },
   "outputs": [
    {
     "name": "stdout",
     "output_type": "stream",
     "text": [
      "['2*' '29' '23' '22' '18' '19' '30' '24' '20' '21' '17' '35' '28' '3*'\n",
      " '32' '25' '31' '26' '27' '1*' '16' '34' '38' '33' '36' '37' '42' '39'\n",
      " '41']\n"
     ]
    }
   ],
   "source": [
    "# Age 컬럼은 원래 수치형으로 되어있어야 하는데 마스킹처리된 값이 있어서 object형으로 인식\n",
    "print(X_train['Age'].unique())"
   ]
  },
  {
   "cell_type": "code",
   "execution_count": 149,
   "id": "64cb2cad-2ddf-449a-aea1-f36266837387",
   "metadata": {
    "tags": []
   },
   "outputs": [
    {
     "name": "stdout",
     "output_type": "stream",
     "text": [
      "['2' '1' '3' '4']\n",
      "['3' '2' '1' '4']\n"
     ]
    }
   ],
   "source": [
    "# 마스킹되어있으므로 십의 자리만 추출해서 Age_gp(연령대) 파생변수 만들기\n",
    "X_train['Age_gp'] = X_train['Age'].str[0]\n",
    "X_test['Age_gp'] = X_test['Age'].str[0]\n",
    "print(X_train['Age_gp'].unique())\n",
    "print(X_test['Age_gp'].unique())"
   ]
  },
  {
   "cell_type": "code",
   "execution_count": 150,
   "id": "15c8e278-e61d-4d6e-96d7-9bbd0e633595",
   "metadata": {
    "tags": []
   },
   "outputs": [],
   "source": [
    "# 파생변수 만든 후 Age 열 삭제\n",
    "X_train = X_train.drop(columns = 'Age', axis = 1)\n",
    "X_test = X_test.drop(columns = 'Age', axis = 1)"
   ]
  },
  {
   "cell_type": "code",
   "execution_count": 151,
   "id": "6a750c2a-6362-4b77-bf76-e88819e325c1",
   "metadata": {
    "tags": []
   },
   "outputs": [
    {
     "name": "stdout",
     "output_type": "stream",
     "text": [
      "Index(['Nationality', 'Overall', 'Club', 'Preferred_Foot', 'Work_Rate',\n",
      "       'Position_Class', 'Jersey_Number', 'Contract_Valid_Until', 'Height_cm',\n",
      "       'Weight_lb', 'Release_Clause', 'Wage', 'Age_gp'],\n",
      "      dtype='object')\n",
      "Index(['Nationality', 'Overall', 'Club', 'Preferred_Foot', 'Work_Rate',\n",
      "       'Position_Class', 'Jersey_Number', 'Contract_Valid_Until', 'Height_cm',\n",
      "       'Weight_lb', 'Release_Clause', 'Wage', 'Age_gp'],\n",
      "      dtype='object')\n"
     ]
    }
   ],
   "source": [
    "print(X_train.columns)\n",
    "print(X_test.columns)"
   ]
  },
  {
   "cell_type": "code",
   "execution_count": 152,
   "id": "083dd466-36c3-4952-a192-22296988dafe",
   "metadata": {
    "tags": []
   },
   "outputs": [],
   "source": [
    "# 'Club' 열은 필요하지 않을 것 같으므로 열 삭제\n",
    "X_train = X_train.drop(columns = 'Club', axis = 1)\n",
    "X_test = X_test.drop(columns = 'Club', axis = 1)"
   ]
  },
  {
   "cell_type": "code",
   "execution_count": 153,
   "id": "dd2f0f4a-19c4-4a87-aecb-d1f1db5cc92b",
   "metadata": {
    "tags": []
   },
   "outputs": [
    {
     "name": "stdout",
     "output_type": "stream",
     "text": [
      "Index(['Nationality', 'Overall', 'Preferred_Foot', 'Work_Rate',\n",
      "       'Position_Class', 'Jersey_Number', 'Contract_Valid_Until', 'Height_cm',\n",
      "       'Weight_lb', 'Release_Clause', 'Wage', 'Age_gp'],\n",
      "      dtype='object')\n",
      "Index(['Nationality', 'Overall', 'Preferred_Foot', 'Work_Rate',\n",
      "       'Position_Class', 'Jersey_Number', 'Contract_Valid_Until', 'Height_cm',\n",
      "       'Weight_lb', 'Release_Clause', 'Wage', 'Age_gp'],\n",
      "      dtype='object')\n"
     ]
    }
   ],
   "source": [
    "print(X_train.columns)\n",
    "print(X_test.columns)"
   ]
  },
  {
   "cell_type": "code",
   "execution_count": 154,
   "id": "85cfe43d-cde0-4811-9ccc-622adb5e3654",
   "metadata": {
    "tags": []
   },
   "outputs": [
    {
     "name": "stdout",
     "output_type": "stream",
     "text": [
      "Preferred_Foot\n",
      "Right    2682\n",
      "Left      846\n",
      "Name: count, dtype: int64\n",
      "------------------------------------\n",
      "Preferred_Foot\n",
      "Right    1854\n",
      "Left      546\n",
      "Name: count, dtype: int64\n"
     ]
    }
   ],
   "source": [
    "# Preferred_Foot 칼럼은 선수가 주요 사용하는 발을 의미함. Right에 비해 Left가 적지만 엄청 적은건 아니므로 일단 냅두기\n",
    "print(X_train['Preferred_Foot'].value_counts())\n",
    "print('------------------------------------')\n",
    "print(X_test['Preferred_Foot'].value_counts())"
   ]
  },
  {
   "cell_type": "code",
   "execution_count": 155,
   "id": "39063732-1d6e-4800-b813-4738e12aa367",
   "metadata": {
    "tags": []
   },
   "outputs": [
    {
     "name": "stdout",
     "output_type": "stream",
     "text": [
      "Work_Rate\n",
      "Medium/ Medium    1887\n",
      "High/ Medium       644\n",
      "Medium/ High       330\n",
      "High/ High         210\n",
      "Medium/ Low        168\n",
      "High/ Low          120\n",
      "Low/ High           94\n",
      "Low/ Medium         72\n",
      "Low/ Low             3\n",
      "Name: count, dtype: int64\n",
      "------------------------------------\n",
      "Work_Rate\n",
      "Medium/ Medium    1296\n",
      "High/ Medium       426\n",
      "Medium/ High       225\n",
      "High/ High         135\n",
      "Medium/ Low        113\n",
      "High/ Low          102\n",
      "Low/ Medium         52\n",
      "Low/ High           48\n",
      "Low/ Low             3\n",
      "Name: count, dtype: int64\n"
     ]
    }
   ],
   "source": [
    "# Work_Rate 공격 운동량/ 방어 운동량 컬럼임. /을 기준으로 WR_attack(공격 운동량), WR_defend(방어 운동량) 컬럼으로 생성\n",
    "# / 뒤에 있는 공백 하나 먼저 제거 필요 >> /을 기준으로 문자열 분리 >> 열 생성\n",
    "print(X_train['Work_Rate'].value_counts())\n",
    "print('------------------------------------')\n",
    "print(X_test['Work_Rate'].value_counts())"
   ]
  },
  {
   "cell_type": "code",
   "execution_count": 156,
   "id": "0074061e-e2fc-4c15-8806-4c1565befedf",
   "metadata": {
    "tags": []
   },
   "outputs": [
    {
     "data": {
      "text/html": [
       "<div>\n",
       "<style scoped>\n",
       "    .dataframe tbody tr th:only-of-type {\n",
       "        vertical-align: middle;\n",
       "    }\n",
       "\n",
       "    .dataframe tbody tr th {\n",
       "        vertical-align: top;\n",
       "    }\n",
       "\n",
       "    .dataframe thead th {\n",
       "        text-align: right;\n",
       "    }\n",
       "</style>\n",
       "<table border=\"1\" class=\"dataframe\">\n",
       "  <thead>\n",
       "    <tr style=\"text-align: right;\">\n",
       "      <th></th>\n",
       "      <th>Nationality</th>\n",
       "      <th>Overall</th>\n",
       "      <th>Preferred_Foot</th>\n",
       "      <th>Position_Class</th>\n",
       "      <th>Jersey_Number</th>\n",
       "      <th>Contract_Valid_Until</th>\n",
       "      <th>Height_cm</th>\n",
       "      <th>Weight_lb</th>\n",
       "      <th>Release_Clause</th>\n",
       "      <th>Wage</th>\n",
       "      <th>Age_gp</th>\n",
       "      <th>WR_attack</th>\n",
       "      <th>WR_defend</th>\n",
       "    </tr>\n",
       "  </thead>\n",
       "  <tbody>\n",
       "    <tr>\n",
       "      <th>0</th>\n",
       "      <td>Argentina</td>\n",
       "      <td>81</td>\n",
       "      <td>Right</td>\n",
       "      <td>Forward</td>\n",
       "      <td>18</td>\n",
       "      <td>2019</td>\n",
       "      <td>170.0</td>\n",
       "      <td>170.0</td>\n",
       "      <td>37000</td>\n",
       "      <td>19</td>\n",
       "      <td>2</td>\n",
       "      <td>High</td>\n",
       "      <td>Medium</td>\n",
       "    </tr>\n",
       "    <tr>\n",
       "      <th>1</th>\n",
       "      <td>Denmark</td>\n",
       "      <td>66</td>\n",
       "      <td>Left</td>\n",
       "      <td>Defender</td>\n",
       "      <td>18</td>\n",
       "      <td>2019</td>\n",
       "      <td>180.0</td>\n",
       "      <td>179.0</td>\n",
       "      <td>625</td>\n",
       "      <td>4</td>\n",
       "      <td>2</td>\n",
       "      <td>High</td>\n",
       "      <td>Medium</td>\n",
       "    </tr>\n",
       "    <tr>\n",
       "      <th>2</th>\n",
       "      <td>Guinea Bissau</td>\n",
       "      <td>68</td>\n",
       "      <td>Left</td>\n",
       "      <td>Forward</td>\n",
       "      <td>11</td>\n",
       "      <td>2020</td>\n",
       "      <td>172.5</td>\n",
       "      <td>163.0</td>\n",
       "      <td>2000</td>\n",
       "      <td>2</td>\n",
       "      <td>2</td>\n",
       "      <td>High</td>\n",
       "      <td>Low</td>\n",
       "    </tr>\n",
       "  </tbody>\n",
       "</table>\n",
       "</div>"
      ],
      "text/plain": [
       "     Nationality  Overall Preferred_Foot Position_Class  Jersey_Number  \\\n",
       "0      Argentina       81          Right        Forward             18   \n",
       "1        Denmark       66           Left       Defender             18   \n",
       "2  Guinea Bissau       68           Left        Forward             11   \n",
       "\n",
       "   Contract_Valid_Until  Height_cm  Weight_lb  Release_Clause  Wage Age_gp  \\\n",
       "0                  2019      170.0      170.0           37000    19      2   \n",
       "1                  2019      180.0      179.0             625     4      2   \n",
       "2                  2020      172.5      163.0            2000     2      2   \n",
       "\n",
       "  WR_attack WR_defend  \n",
       "0      High    Medium  \n",
       "1      High    Medium  \n",
       "2      High       Low  "
      ]
     },
     "execution_count": 156,
     "metadata": {},
     "output_type": "execute_result"
    }
   ],
   "source": [
    "work_rate_train = X_train['Work_Rate'].copy()           # Work_Rate 컬럼만 새로운 df에 저장\n",
    "work_rate_train = work_rate_train.str.replace(' ', '')  # 공백 제거\n",
    "\n",
    "X_train['WR_attack'] = work_rate_train.str.split('/', expand = True)[0]     # /을 기준으로 파생변수 WR_attack 생성\n",
    "X_train['WR_defend'] = work_rate_train.str.split('/', expand = True)[1]     # /을 기준으로 파생변수 WR_defend 생성\n",
    "\n",
    "X_train = X_train.drop(columns = 'Work_Rate', axis = 1)                     # 열 삭제\n",
    "X_train.head(3)"
   ]
  },
  {
   "cell_type": "code",
   "execution_count": 157,
   "id": "0a54fd62-b4ec-41e7-909b-c6c7dfce06cc",
   "metadata": {
    "tags": []
   },
   "outputs": [
    {
     "data": {
      "text/html": [
       "<div>\n",
       "<style scoped>\n",
       "    .dataframe tbody tr th:only-of-type {\n",
       "        vertical-align: middle;\n",
       "    }\n",
       "\n",
       "    .dataframe tbody tr th {\n",
       "        vertical-align: top;\n",
       "    }\n",
       "\n",
       "    .dataframe thead th {\n",
       "        text-align: right;\n",
       "    }\n",
       "</style>\n",
       "<table border=\"1\" class=\"dataframe\">\n",
       "  <thead>\n",
       "    <tr style=\"text-align: right;\">\n",
       "      <th></th>\n",
       "      <th>Nationality</th>\n",
       "      <th>Overall</th>\n",
       "      <th>Preferred_Foot</th>\n",
       "      <th>Position_Class</th>\n",
       "      <th>Jersey_Number</th>\n",
       "      <th>Contract_Valid_Until</th>\n",
       "      <th>Height_cm</th>\n",
       "      <th>Weight_lb</th>\n",
       "      <th>Release_Clause</th>\n",
       "      <th>Wage</th>\n",
       "      <th>Age_gp</th>\n",
       "      <th>WR_attack</th>\n",
       "      <th>WR_defend</th>\n",
       "    </tr>\n",
       "  </thead>\n",
       "  <tbody>\n",
       "    <tr>\n",
       "      <th>0</th>\n",
       "      <td>Germany</td>\n",
       "      <td>79</td>\n",
       "      <td>Right</td>\n",
       "      <td>Defender</td>\n",
       "      <td>10</td>\n",
       "      <td>2019</td>\n",
       "      <td>172.5</td>\n",
       "      <td>172</td>\n",
       "      <td>6500</td>\n",
       "      <td>28</td>\n",
       "      <td>3</td>\n",
       "      <td>Medium</td>\n",
       "      <td>High</td>\n",
       "    </tr>\n",
       "    <tr>\n",
       "      <th>1</th>\n",
       "      <td>Brazil</td>\n",
       "      <td>77</td>\n",
       "      <td>Left</td>\n",
       "      <td>Defender</td>\n",
       "      <td>20</td>\n",
       "      <td>2021</td>\n",
       "      <td>175.0</td>\n",
       "      <td>163</td>\n",
       "      <td>12400</td>\n",
       "      <td>54</td>\n",
       "      <td>2</td>\n",
       "      <td>Medium</td>\n",
       "      <td>Medium</td>\n",
       "    </tr>\n",
       "    <tr>\n",
       "      <th>2</th>\n",
       "      <td>Korea Republic</td>\n",
       "      <td>64</td>\n",
       "      <td>Right</td>\n",
       "      <td>Forward</td>\n",
       "      <td>18</td>\n",
       "      <td>2021</td>\n",
       "      <td>182.5</td>\n",
       "      <td>170</td>\n",
       "      <td>1000</td>\n",
       "      <td>2</td>\n",
       "      <td>2</td>\n",
       "      <td>High</td>\n",
       "      <td>Medium</td>\n",
       "    </tr>\n",
       "  </tbody>\n",
       "</table>\n",
       "</div>"
      ],
      "text/plain": [
       "      Nationality  Overall Preferred_Foot Position_Class  Jersey_Number  \\\n",
       "0         Germany       79          Right       Defender             10   \n",
       "1          Brazil       77           Left       Defender             20   \n",
       "2  Korea Republic       64          Right        Forward             18   \n",
       "\n",
       "   Contract_Valid_Until  Height_cm  Weight_lb  Release_Clause  Wage Age_gp  \\\n",
       "0                  2019      172.5        172            6500    28      3   \n",
       "1                  2021      175.0        163           12400    54      2   \n",
       "2                  2021      182.5        170            1000     2      2   \n",
       "\n",
       "  WR_attack WR_defend  \n",
       "0    Medium      High  \n",
       "1    Medium    Medium  \n",
       "2      High    Medium  "
      ]
     },
     "execution_count": 157,
     "metadata": {},
     "output_type": "execute_result"
    }
   ],
   "source": [
    "# test 데이터에도 똑같이 적용\n",
    "work_rate_test = X_test['Work_Rate'].copy()           # Work_Rate 컬럼만 새로운 df에 저장\n",
    "work_rate_test = work_rate_test.str.replace(' ', '')  # 공백 제거\n",
    "\n",
    "X_test['WR_attack'] = work_rate_test.str.split('/', expand = True)[0]     # /을 기준으로 파생변수 WR_attack 생성\n",
    "X_test['WR_defend'] = work_rate_test.str.split('/', expand = True)[1]     # /을 기준으로 파생변수 WR_defend 생성\n",
    "\n",
    "X_test = X_test.drop(columns = 'Work_Rate', axis = 1)                     # 열 삭제\n",
    "X_test.head(3)"
   ]
  },
  {
   "cell_type": "code",
   "execution_count": 158,
   "id": "8dda2879-6d5d-4e05-8b5c-9bd9322b46ba",
   "metadata": {
    "tags": []
   },
   "outputs": [
    {
     "name": "stdout",
     "output_type": "stream",
     "text": [
      "Overall                  44\n",
      "Jersey_Number            91\n",
      "Contract_Valid_Until      9\n",
      "Height_cm                20\n",
      "Weight_lb                50\n",
      "Release_Clause          810\n",
      "Wage                    108\n",
      "dtype: int64\n",
      "-------------------------------\n",
      "Overall                  45\n",
      "Jersey_Number            82\n",
      "Contract_Valid_Until      8\n",
      "Height_cm                18\n",
      "Weight_lb                44\n",
      "Release_Clause          713\n",
      "Wage                     97\n",
      "dtype: int64\n"
     ]
    }
   ],
   "source": [
    "# 수치형 컬럼 전처리\n",
    "print(X_train.select_dtypes(['int64', 'float64']).nunique())\n",
    "print('-------------------------------')\n",
    "print(X_test.select_dtypes(['int64', 'float64']).nunique())"
   ]
  },
  {
   "cell_type": "code",
   "execution_count": 159,
   "id": "0337fbe7-c1e3-43a7-b7d5-2ff8ae4e9902",
   "metadata": {
    "tags": []
   },
   "outputs": [],
   "source": [
    "# Jersey_Number (등번호)는 선수의 시장가치를 예측하는 데 필요하지 않을 것이므로 컬럼 삭제\n",
    "X_train = X_train.drop(columns = 'Jersey_Number', axis = 1)\n",
    "X_test = X_test.drop(columns = 'Jersey_Number', axis = 1)"
   ]
  },
  {
   "cell_type": "code",
   "execution_count": 160,
   "id": "2aabca7c-45b9-4163-8671-83af8b3c7dce",
   "metadata": {
    "tags": []
   },
   "outputs": [
    {
     "name": "stdout",
     "output_type": "stream",
     "text": [
      "X_train:  [2019 2020 2022 2021 2018 2023 2024 2025 2026]\n",
      "X_test:  [2019 2021 2023 2020 2022 2018 2024 2025]\n"
     ]
    }
   ],
   "source": [
    "# Contract_Vaild_Until(계약 만료연도)로 숫자 데이터지만 카테고리의 의미를 가지므로 카테고리(명목형)으로 dtype 변환하기\n",
    "# 유일값을 확인하고 >> dtype을 변환해서 파생변수로 생성\n",
    "print(\"X_train: \", X_train['Contract_Valid_Until'].unique())\n",
    "print(\"X_test: \", X_test['Contract_Valid_Until'].unique())"
   ]
  },
  {
   "cell_type": "code",
   "execution_count": 161,
   "id": "3d3fa64b-5016-4a6a-a7e1-347ec58614c8",
   "metadata": {
    "tags": []
   },
   "outputs": [],
   "source": [
    "# CVU_gp 컬럼을 만들어서 따로 저장\n",
    "X_train['CVU_gp'] = X_train['Contract_Valid_Until'].astype('object')\n",
    "X_test['CVU_gp'] = X_test['Contract_Valid_Until'].astype('object')"
   ]
  },
  {
   "cell_type": "code",
   "execution_count": 162,
   "id": "9460eeec-9f23-45b4-b995-c78aea670491",
   "metadata": {
    "tags": []
   },
   "outputs": [],
   "source": [
    "# Contract_Vaild_Until 열 삭제\n",
    "X_train = X_train.drop(columns = 'Contract_Valid_Until', axis = 1)\n",
    "X_test = X_test.drop(columns = 'Contract_Valid_Until', axis = 1)"
   ]
  },
  {
   "cell_type": "code",
   "execution_count": 163,
   "id": "2431a7f5-3c1e-4a6b-a823-f62ae397973f",
   "metadata": {
    "tags": []
   },
   "outputs": [
    {
     "name": "stdout",
     "output_type": "stream",
     "text": [
      "<class 'pandas.core.frame.DataFrame'>\n",
      "Index: 3528 entries, 0 to 3599\n",
      "Data columns (total 12 columns):\n",
      " #   Column          Non-Null Count  Dtype  \n",
      "---  ------          --------------  -----  \n",
      " 0   Nationality     3528 non-null   object \n",
      " 1   Overall         3528 non-null   int64  \n",
      " 2   Preferred_Foot  3528 non-null   object \n",
      " 3   Position_Class  3528 non-null   object \n",
      " 4   Height_cm       3528 non-null   float64\n",
      " 5   Weight_lb       3528 non-null   float64\n",
      " 6   Release_Clause  3528 non-null   int64  \n",
      " 7   Wage            3528 non-null   int64  \n",
      " 8   Age_gp          3528 non-null   object \n",
      " 9   WR_attack       3528 non-null   object \n",
      " 10  WR_defend       3528 non-null   object \n",
      " 11  CVU_gp          3528 non-null   object \n",
      "dtypes: float64(2), int64(3), object(7)\n",
      "memory usage: 358.3+ KB\n",
      "None\n",
      "<class 'pandas.core.frame.DataFrame'>\n",
      "RangeIndex: 2400 entries, 0 to 2399\n",
      "Data columns (total 12 columns):\n",
      " #   Column          Non-Null Count  Dtype  \n",
      "---  ------          --------------  -----  \n",
      " 0   Nationality     2400 non-null   object \n",
      " 1   Overall         2400 non-null   int64  \n",
      " 2   Preferred_Foot  2400 non-null   object \n",
      " 3   Position_Class  2400 non-null   object \n",
      " 4   Height_cm       2400 non-null   float64\n",
      " 5   Weight_lb       2400 non-null   int64  \n",
      " 6   Release_Clause  2400 non-null   int64  \n",
      " 7   Wage            2400 non-null   int64  \n",
      " 8   Age_gp          2400 non-null   object \n",
      " 9   WR_attack       2400 non-null   object \n",
      " 10  WR_defend       2400 non-null   object \n",
      " 11  CVU_gp          2400 non-null   object \n",
      "dtypes: float64(1), int64(4), object(7)\n",
      "memory usage: 225.1+ KB\n",
      "None\n"
     ]
    }
   ],
   "source": [
    "print(X_train.info())\n",
    "print(X_test.info())"
   ]
  },
  {
   "cell_type": "code",
   "execution_count": 164,
   "id": "63c3c0d4-329f-41b3-92be-0dbb7fdf066a",
   "metadata": {
    "tags": []
   },
   "outputs": [
    {
     "data": {
      "text/html": [
       "<div>\n",
       "<style scoped>\n",
       "    .dataframe tbody tr th:only-of-type {\n",
       "        vertical-align: middle;\n",
       "    }\n",
       "\n",
       "    .dataframe tbody tr th {\n",
       "        vertical-align: top;\n",
       "    }\n",
       "\n",
       "    .dataframe thead th {\n",
       "        text-align: right;\n",
       "    }\n",
       "</style>\n",
       "<table border=\"1\" class=\"dataframe\">\n",
       "  <thead>\n",
       "    <tr style=\"text-align: right;\">\n",
       "      <th></th>\n",
       "      <th>Overall</th>\n",
       "      <th>Height_cm</th>\n",
       "      <th>Weight_lb</th>\n",
       "      <th>Release_Clause</th>\n",
       "      <th>Wage</th>\n",
       "    </tr>\n",
       "  </thead>\n",
       "  <tbody>\n",
       "    <tr>\n",
       "      <th>Overall</th>\n",
       "      <td>1.000000</td>\n",
       "      <td>0.033070</td>\n",
       "      <td>0.142888</td>\n",
       "      <td>0.630162</td>\n",
       "      <td>0.593469</td>\n",
       "    </tr>\n",
       "    <tr>\n",
       "      <th>Height_cm</th>\n",
       "      <td>0.033070</td>\n",
       "      <td>1.000000</td>\n",
       "      <td>0.763351</td>\n",
       "      <td>-0.007983</td>\n",
       "      <td>-0.001661</td>\n",
       "    </tr>\n",
       "    <tr>\n",
       "      <th>Weight_lb</th>\n",
       "      <td>0.142888</td>\n",
       "      <td>0.763351</td>\n",
       "      <td>1.000000</td>\n",
       "      <td>0.033941</td>\n",
       "      <td>0.053856</td>\n",
       "    </tr>\n",
       "    <tr>\n",
       "      <th>Release_Clause</th>\n",
       "      <td>0.630162</td>\n",
       "      <td>-0.007983</td>\n",
       "      <td>0.033941</td>\n",
       "      <td>1.000000</td>\n",
       "      <td>0.835107</td>\n",
       "    </tr>\n",
       "    <tr>\n",
       "      <th>Wage</th>\n",
       "      <td>0.593469</td>\n",
       "      <td>-0.001661</td>\n",
       "      <td>0.053856</td>\n",
       "      <td>0.835107</td>\n",
       "      <td>1.000000</td>\n",
       "    </tr>\n",
       "  </tbody>\n",
       "</table>\n",
       "</div>"
      ],
      "text/plain": [
       "                 Overall  Height_cm  Weight_lb  Release_Clause      Wage\n",
       "Overall         1.000000   0.033070   0.142888        0.630162  0.593469\n",
       "Height_cm       0.033070   1.000000   0.763351       -0.007983 -0.001661\n",
       "Weight_lb       0.142888   0.763351   1.000000        0.033941  0.053856\n",
       "Release_Clause  0.630162  -0.007983   0.033941        1.000000  0.835107\n",
       "Wage            0.593469  -0.001661   0.053856        0.835107  1.000000"
      ]
     },
     "execution_count": 164,
     "metadata": {},
     "output_type": "execute_result"
    }
   ],
   "source": [
    "# Overall, Height_cm, Weight_lb, Release_Clause, Wage 컬럼은 실제 수치의 의미를 가지는 수치형 데이터임\n",
    "# 상관관계 먼저 확인\n",
    "col_conti = ['Overall', 'Height_cm', 'Weight_lb', 'Release_Clause', 'Wage']\n",
    "X_train[col_conti].corr()"
   ]
  },
  {
   "cell_type": "code",
   "execution_count": 165,
   "id": "783b26c8-33a3-4e98-a3f9-8733269f24fd",
   "metadata": {
    "tags": []
   },
   "outputs": [],
   "source": [
    "# Release_Clause와 Wage의 상관관계가 0.8351로 강한 상관관계를 확인할 수 있음\n",
    "# >> Release_Clause와 Wage 중에서 하나만 사용하기로\n",
    "# >> Wage 선택 & Release_Clause 열 삭제\n",
    "X_train = X_train.drop(columns = 'Release_Clause', axis = 1)\n",
    "X_test = X_test.drop(columns = 'Release_Clause', axis = 1)"
   ]
  },
  {
   "cell_type": "code",
   "execution_count": 166,
   "id": "a1c0f862-6943-4310-af4b-20fb92fd3d10",
   "metadata": {
    "tags": []
   },
   "outputs": [
    {
     "data": {
      "text/html": [
       "<div>\n",
       "<style scoped>\n",
       "    .dataframe tbody tr th:only-of-type {\n",
       "        vertical-align: middle;\n",
       "    }\n",
       "\n",
       "    .dataframe tbody tr th {\n",
       "        vertical-align: top;\n",
       "    }\n",
       "\n",
       "    .dataframe thead th {\n",
       "        text-align: right;\n",
       "    }\n",
       "</style>\n",
       "<table border=\"1\" class=\"dataframe\">\n",
       "  <thead>\n",
       "    <tr style=\"text-align: right;\">\n",
       "      <th></th>\n",
       "      <th>Nationality</th>\n",
       "      <th>Overall</th>\n",
       "      <th>Preferred_Foot</th>\n",
       "      <th>Position_Class</th>\n",
       "      <th>Height_cm</th>\n",
       "      <th>Weight_lb</th>\n",
       "      <th>Wage</th>\n",
       "      <th>Age_gp</th>\n",
       "      <th>WR_attack</th>\n",
       "      <th>WR_defend</th>\n",
       "      <th>CVU_gp</th>\n",
       "    </tr>\n",
       "  </thead>\n",
       "  <tbody>\n",
       "    <tr>\n",
       "      <th>0</th>\n",
       "      <td>Argentina</td>\n",
       "      <td>81</td>\n",
       "      <td>Right</td>\n",
       "      <td>Forward</td>\n",
       "      <td>170.0</td>\n",
       "      <td>170.0</td>\n",
       "      <td>19</td>\n",
       "      <td>2</td>\n",
       "      <td>High</td>\n",
       "      <td>Medium</td>\n",
       "      <td>2019</td>\n",
       "    </tr>\n",
       "    <tr>\n",
       "      <th>1</th>\n",
       "      <td>Denmark</td>\n",
       "      <td>66</td>\n",
       "      <td>Left</td>\n",
       "      <td>Defender</td>\n",
       "      <td>180.0</td>\n",
       "      <td>179.0</td>\n",
       "      <td>4</td>\n",
       "      <td>2</td>\n",
       "      <td>High</td>\n",
       "      <td>Medium</td>\n",
       "      <td>2019</td>\n",
       "    </tr>\n",
       "    <tr>\n",
       "      <th>2</th>\n",
       "      <td>Guinea Bissau</td>\n",
       "      <td>68</td>\n",
       "      <td>Left</td>\n",
       "      <td>Forward</td>\n",
       "      <td>172.5</td>\n",
       "      <td>163.0</td>\n",
       "      <td>2</td>\n",
       "      <td>2</td>\n",
       "      <td>High</td>\n",
       "      <td>Low</td>\n",
       "      <td>2020</td>\n",
       "    </tr>\n",
       "  </tbody>\n",
       "</table>\n",
       "</div>"
      ],
      "text/plain": [
       "     Nationality  Overall Preferred_Foot Position_Class  Height_cm  Weight_lb  \\\n",
       "0      Argentina       81          Right        Forward      170.0      170.0   \n",
       "1        Denmark       66           Left       Defender      180.0      179.0   \n",
       "2  Guinea Bissau       68           Left        Forward      172.5      163.0   \n",
       "\n",
       "   Wage Age_gp WR_attack WR_defend CVU_gp  \n",
       "0    19      2      High    Medium   2019  \n",
       "1     4      2      High    Medium   2019  \n",
       "2     2      2      High       Low   2020  "
      ]
     },
     "execution_count": 166,
     "metadata": {},
     "output_type": "execute_result"
    }
   ],
   "source": [
    "# 데이터 전처리를 끝낸 df 확인\n",
    "X_train.head(3)"
   ]
  },
  {
   "cell_type": "code",
   "execution_count": 167,
   "id": "7ae2824e-4692-40d3-9dcd-20fa6c07e463",
   "metadata": {
    "tags": []
   },
   "outputs": [],
   "source": [
    "# 데이터 적합\n",
    "# 모델의 과적합 방지와 튜닝을 위해 X_train, y_train을 학습용 (X_train, y_train)과 검증용 (X_val, y_val)로 분할\n",
    "# 7:3\n",
    "from sklearn.model_selection import train_test_split\n",
    "X_TRAIN, X_val,y_TRAIN, y_val = train_test_split(X_train,\n",
    "                                                  y_train,\n",
    "                                                  random_state = 1234,\n",
    "                                                  test_size = 0.3)"
   ]
  },
  {
   "cell_type": "code",
   "execution_count": 168,
   "id": "3acc450f-7bb4-49bc-af30-fa8149651c90",
   "metadata": {
    "tags": []
   },
   "outputs": [
    {
     "name": "stdout",
     "output_type": "stream",
     "text": [
      "(2469, 11)\n",
      "(2469, 1)\n",
      "(1059, 11)\n",
      "(1059, 1)\n"
     ]
    }
   ],
   "source": [
    "# 분할된 모델의 shape 확인\n",
    "print(X_TRAIN.shape)\n",
    "print(y_TRAIN.shape)\n",
    "print(X_val.shape)\n",
    "print(y_val.shape)"
   ]
  },
  {
   "cell_type": "code",
   "execution_count": 169,
   "id": "c1097e73-d96e-4417-8074-ef62c7fd25ab",
   "metadata": {},
   "outputs": [],
   "source": [
    "# 인코딩\n",
    "# 카테고리형 컬럼에 대해 one-hot encoding 수행\n",
    "from sklearn.preprocessing import OneHotEncoder"
   ]
  },
  {
   "cell_type": "code",
   "execution_count": 170,
   "id": "72dea4a3-12c7-42e1-9814-b3dac944cf2a",
   "metadata": {
    "tags": []
   },
   "outputs": [],
   "source": [
    "# 인코딩할 명목형 컬럼만 따로 저장\n",
    "X_TRAIN_category = X_TRAIN.select_dtypes('object').copy()\n",
    "X_val_category = X_val.select_dtypes('object').copy()\n",
    "X_TEST_category = X_test.select_dtypes('object').copy()"
   ]
  },
  {
   "cell_type": "code",
   "execution_count": 171,
   "id": "62829354-a48b-488b-886d-b002cb246bfe",
   "metadata": {
    "tags": []
   },
   "outputs": [
    {
     "name": "stderr",
     "output_type": "stream",
     "text": [
      "C:\\Users\\kbr_u\\anaconda3\\Lib\\site-packages\\sklearn\\preprocessing\\_encoders.py:972: FutureWarning: `sparse` was renamed to `sparse_output` in version 1.2 and will be removed in 1.4. `sparse_output` is ignored unless you leave `sparse` to its default value.\n",
      "  warnings.warn(\n"
     ]
    }
   ],
   "source": [
    "# Nationality의 유일값 수가 데이터셋마다 다름\n",
    "# handle_unknown = 'ignore'은 Train에 없는 레이블이 Test에 있더라도 모두 0이 됨\n",
    "enc = OneHotEncoder(handle_unknown = 'ignore', sparse = False).fit(X_TRAIN_category)"
   ]
  },
  {
   "cell_type": "code",
   "execution_count": 172,
   "id": "15f841d0-9be8-47a1-b147-aab60bb8c05c",
   "metadata": {
    "tags": []
   },
   "outputs": [],
   "source": [
    "# One-Hot Encoding\n",
    "X_TRAIN_OH = enc.transform(X_TRAIN_category)\n",
    "X_val_OH = enc.transform(X_val_category)\n",
    "X_TEST_OH = enc.transform(X_TEST_category)"
   ]
  },
  {
   "cell_type": "code",
   "execution_count": 173,
   "id": "6b5d2c54-5e17-4b55-842d-89e29eff91bb",
   "metadata": {
    "tags": []
   },
   "outputs": [],
   "source": [
    "# 스케일링 >> 수치형 칼럼에 대해 z-score 표준화\n",
    "# X_TRAIN의 평균과 표준편차를 X_val과 X_TEST에 반영하기 위해 fit() 메소드를 학습 데이터에만 적용하고 transfrom은 모든 데이터에 적용\n",
    "from sklearn.preprocessing import StandardScaler"
   ]
  },
  {
   "cell_type": "code",
   "execution_count": 174,
   "id": "8c61e236-df92-49c4-ba74-afc1aa8fdf5d",
   "metadata": {
    "tags": []
   },
   "outputs": [],
   "source": [
    "# 스케일링할 컬럼만 따로 저장\n",
    "col_conti = ['Overall', 'Height_cm', 'Weight_lb', 'Wage']\n",
    "\n",
    "# 아니면 위에서 핬던 select_dtypes() 함수 이용\n",
    "X_TRAIN_conti = X_TRAIN.select_dtypes(['int64', 'float64']).copy()\n",
    "X_val_conti = X_val.select_dtypes(['int64', 'float64']).copy()\n",
    "X_TEST_conti = X_test.select_dtypes(['int64', 'float64']).copy()"
   ]
  },
  {
   "cell_type": "code",
   "execution_count": 175,
   "id": "48bcac95-b8f5-47b5-9169-a3ea1c9a5071",
   "metadata": {
    "tags": []
   },
   "outputs": [],
   "source": [
    "# TRAIN 데이터 기준으로 스케일링\n",
    "scale = StandardScaler().fit(X_TRAIN_conti)"
   ]
  },
  {
   "cell_type": "code",
   "execution_count": 176,
   "id": "424cbc37-695f-4b8a-814f-ebca4ce936b5",
   "metadata": {
    "tags": []
   },
   "outputs": [],
   "source": [
    "# z-score 점수 표준화\n",
    "X_TRAIN_std = scale.transform(X_TRAIN_conti)\n",
    "X_val_std = scale.transform(X_val_conti)\n",
    "X_TEST_std = scale.transform(X_TEST_conti)"
   ]
  },
  {
   "cell_type": "code",
   "execution_count": 177,
   "id": "f88610d3-7e20-481e-8e74-7feff024ab4d",
   "metadata": {
    "tags": []
   },
   "outputs": [],
   "source": [
    "# 인코딩한 데이터 + 스케일링한 데이터 합치기 (numpy.concatenate() 함수 사용)\n",
    "X_TRAIN = np.concatenate( [X_TRAIN_OH, X_TRAIN_std], axis = 1)\n",
    "X_val = np.concatenate( [X_val_OH, X_val_std], axis = 1)\n",
    "X_TEST = np.concatenate( [X_TEST_OH, X_TEST_std], axis = 1)"
   ]
  },
  {
   "cell_type": "code",
   "execution_count": 178,
   "id": "61615827-9d7c-4792-9f98-29a98429f71f",
   "metadata": {
    "tags": []
   },
   "outputs": [],
   "source": [
    "# 1차원 넘파이 ndarray로 평탄화\n",
    "y_TRAIN = y_TRAIN.values.ravel()\n",
    "y_val = y_val.values.ravel()"
   ]
  },
  {
   "cell_type": "code",
   "execution_count": 179,
   "id": "4b93c884-ed60-4511-b539-73da2e288be4",
   "metadata": {
    "tags": []
   },
   "outputs": [],
   "source": [
    "# 모델학습 (랜덤포레스트, 배깅, AdaBoost)\n",
    "from sklearn.tree import DecisionTreeRegressor\n",
    "from sklearn.ensemble import RandomForestRegressor, BaggingRegressor, AdaBoostRegressor"
   ]
  },
  {
   "cell_type": "code",
   "execution_count": 180,
   "id": "cf102006-96ce-4814-ab75-2f0a40372434",
   "metadata": {
    "tags": []
   },
   "outputs": [],
   "source": [
    "# 1. RandomForest\n",
    "rf = RandomForestRegressor(n_estimators = 500,\n",
    "                           max_depth = 3, \n",
    "                           min_samples_leaf = 10,\n",
    "                           max_features = 50,\n",
    "                           random_state = 2022)\n",
    "model_rf = rf.fit(X_TRAIN, y_TRAIN)"
   ]
  },
  {
   "cell_type": "code",
   "execution_count": 181,
   "id": "77d76c87-4c0d-40c2-b824-1861443dbb00",
   "metadata": {
    "tags": []
   },
   "outputs": [
    {
     "name": "stderr",
     "output_type": "stream",
     "text": [
      "C:\\Users\\kbr_u\\anaconda3\\Lib\\site-packages\\sklearn\\ensemble\\_base.py:156: FutureWarning: `base_estimator` was renamed to `estimator` in version 1.2 and will be removed in 1.4.\n",
      "  warnings.warn(\n"
     ]
    }
   ],
   "source": [
    "# 2. Bagging\n",
    "dtr = DecisionTreeRegressor(max_depth = 3,\n",
    "                            min_samples_leaf = 10)\n",
    "bg = BaggingRegressor(base_estimator = dtr,\n",
    "                      n_estimators = 500,\n",
    "                      random_state = 2022)\n",
    "model_bg = bg.fit(X_TRAIN, y_TRAIN)"
   ]
  },
  {
   "cell_type": "code",
   "execution_count": 182,
   "id": "5012fa37-74c1-4e96-86d9-d0a9373aa53a",
   "metadata": {
    "tags": []
   },
   "outputs": [
    {
     "name": "stderr",
     "output_type": "stream",
     "text": [
      "C:\\Users\\kbr_u\\anaconda3\\Lib\\site-packages\\sklearn\\ensemble\\_base.py:156: FutureWarning: `base_estimator` was renamed to `estimator` in version 1.2 and will be removed in 1.4.\n",
      "  warnings.warn(\n"
     ]
    }
   ],
   "source": [
    "# 3. AdaBoost\n",
    "dtr = DecisionTreeRegressor(max_depth = 3,\n",
    "                            min_samples_leaf = 10)\n",
    "ada = AdaBoostRegressor(base_estimator = dtr,\n",
    "                        n_estimators = 500,\n",
    "                        learning_rate = 0.5,\n",
    "                        random_state = 2022)\n",
    "model_ada = ada.fit(X_TRAIN, y_TRAIN)"
   ]
  },
  {
   "cell_type": "code",
   "execution_count": 183,
   "id": "d95c3eb4-3388-4c9c-bf82-318477f7414c",
   "metadata": {
    "tags": []
   },
   "outputs": [],
   "source": [
    "# 성능평가로 모델 선정 (RSME)\n",
    "from sklearn.metrics import mean_squared_error"
   ]
  },
  {
   "cell_type": "code",
   "execution_count": 184,
   "id": "9a58479d-f44a-4db7-803d-38d4231dd985",
   "metadata": {
    "tags": []
   },
   "outputs": [],
   "source": [
    "pred_rf = model_rf.predict(X_val)\n",
    "pred_bg = model_bg.predict(X_val)\n",
    "pred_ada = model_ada.predict(X_val)"
   ]
  },
  {
   "cell_type": "code",
   "execution_count": 185,
   "id": "077dfae4-984a-4afe-a35e-faba20866a20",
   "metadata": {
    "tags": []
   },
   "outputs": [],
   "source": [
    "# RMSE 계산\n",
    "rmse_rf = mean_squared_error(y_val, pred_rf, squared = False)\n",
    "rmse_bg = mean_squared_error(y_val, pred_bg, squared = False)\n",
    "rmse_ada = mean_squared_error(y_val, pred_ada, squared = False)"
   ]
  },
  {
   "cell_type": "code",
   "execution_count": 186,
   "id": "f48bd8a0-5b52-4c0b-be4d-cc5982f4fed0",
   "metadata": {
    "tags": []
   },
   "outputs": [
    {
     "name": "stdout",
     "output_type": "stream",
     "text": [
      "RandomForest RMSE:  1846.2123\n",
      "Bagging RMSE:  1502.8948\n",
      "AdaBoost RMSE:  2396.3521\n"
     ]
    }
   ],
   "source": [
    "print(\"RandomForest RMSE: \", round(rmse_rf, 4))\n",
    "print(\"Bagging RMSE: \", round(rmse_bg, 4))\n",
    "print(\"AdaBoost RMSE: \", round(rmse_ada, 4))"
   ]
  },
  {
   "cell_type": "code",
   "execution_count": 187,
   "id": "1324b95d-cc68-4edd-9b48-08fb01443938",
   "metadata": {
    "tags": []
   },
   "outputs": [
    {
     "name": "stdout",
     "output_type": "stream",
     "text": [
      "RandomForest MAPE:  2.67\n",
      "Bagging MAPE:  1.1883\n",
      "AdaBoost MAPE:  8.0783\n"
     ]
    }
   ],
   "source": [
    "# MAPE\n",
    "from sklearn.metrics import mean_absolute_percentage_error\n",
    "rmse_rf = mean_absolute_percentage_error(y_val, pred_rf)\n",
    "rmse_bg = mean_absolute_percentage_error(y_val, pred_bg)\n",
    "rmse_ada = mean_absolute_percentage_error(y_val, pred_ada)\n",
    "\n",
    "print(\"RandomForest MAPE: \", round(rmse_rf, 4))\n",
    "print(\"Bagging MAPE: \", round(rmse_bg, 4))\n",
    "print(\"AdaBoost MAPE: \", round(rmse_ada, 4))"
   ]
  },
  {
   "cell_type": "code",
   "execution_count": 188,
   "id": "a775166a-e9d9-4384-a867-ed55146d9641",
   "metadata": {
    "tags": []
   },
   "outputs": [
    {
     "data": {
      "text/plain": [
       "array([11552.7930596 ,  8235.56327703,   525.62404726, ...,\n",
       "         525.62404726,  2207.44301141,  2607.36680792])"
      ]
     },
     "execution_count": 188,
     "metadata": {},
     "output_type": "execute_result"
    }
   ],
   "source": [
    "# 가장 성능이 좋은 배깅으로 결과 제출\n",
    "# X_TEST를 통해 문제에서 요구하는 예측값을 구하고 .csv 파일로 저장\n",
    "y_pred = model_bg.predict(X_TEST)\n",
    "y_pred"
   ]
  },
  {
   "cell_type": "code",
   "execution_count": 189,
   "id": "35d92473-8e85-4219-93fc-0b396c670333",
   "metadata": {
    "tags": []
   },
   "outputs": [
    {
     "data": {
      "text/html": [
       "<div>\n",
       "<style scoped>\n",
       "    .dataframe tbody tr th:only-of-type {\n",
       "        vertical-align: middle;\n",
       "    }\n",
       "\n",
       "    .dataframe tbody tr th {\n",
       "        vertical-align: top;\n",
       "    }\n",
       "\n",
       "    .dataframe thead th {\n",
       "        text-align: right;\n",
       "    }\n",
       "</style>\n",
       "<table border=\"1\" class=\"dataframe\">\n",
       "  <thead>\n",
       "    <tr style=\"text-align: right;\">\n",
       "      <th></th>\n",
       "      <th>ID</th>\n",
       "      <th>Purchase</th>\n",
       "    </tr>\n",
       "  </thead>\n",
       "  <tbody>\n",
       "    <tr>\n",
       "      <th>0</th>\n",
       "      <td>137351</td>\n",
       "      <td>11552.793060</td>\n",
       "    </tr>\n",
       "    <tr>\n",
       "      <th>1</th>\n",
       "      <td>207707</td>\n",
       "      <td>8235.563277</td>\n",
       "    </tr>\n",
       "    <tr>\n",
       "      <th>2</th>\n",
       "      <td>242101</td>\n",
       "      <td>525.624047</td>\n",
       "    </tr>\n",
       "    <tr>\n",
       "      <th>3</th>\n",
       "      <td>200104</td>\n",
       "      <td>37652.504525</td>\n",
       "    </tr>\n",
       "    <tr>\n",
       "      <th>4</th>\n",
       "      <td>244229</td>\n",
       "      <td>525.624047</td>\n",
       "    </tr>\n",
       "    <tr>\n",
       "      <th>...</th>\n",
       "      <td>...</td>\n",
       "      <td>...</td>\n",
       "    </tr>\n",
       "    <tr>\n",
       "      <th>2395</th>\n",
       "      <td>177922</td>\n",
       "      <td>4032.653009</td>\n",
       "    </tr>\n",
       "    <tr>\n",
       "      <th>2396</th>\n",
       "      <td>245525</td>\n",
       "      <td>525.624047</td>\n",
       "    </tr>\n",
       "    <tr>\n",
       "      <th>2397</th>\n",
       "      <td>227949</td>\n",
       "      <td>525.624047</td>\n",
       "    </tr>\n",
       "    <tr>\n",
       "      <th>2398</th>\n",
       "      <td>176773</td>\n",
       "      <td>2207.443011</td>\n",
       "    </tr>\n",
       "    <tr>\n",
       "      <th>2399</th>\n",
       "      <td>232512</td>\n",
       "      <td>2607.366808</td>\n",
       "    </tr>\n",
       "  </tbody>\n",
       "</table>\n",
       "<p>2400 rows × 2 columns</p>\n",
       "</div>"
      ],
      "text/plain": [
       "          ID      Purchase\n",
       "0     137351  11552.793060\n",
       "1     207707   8235.563277\n",
       "2     242101    525.624047\n",
       "3     200104  37652.504525\n",
       "4     244229    525.624047\n",
       "...      ...           ...\n",
       "2395  177922   4032.653009\n",
       "2396  245525    525.624047\n",
       "2397  227949    525.624047\n",
       "2398  176773   2207.443011\n",
       "2399  232512   2607.366808\n",
       "\n",
       "[2400 rows x 2 columns]"
      ]
     },
     "execution_count": 189,
     "metadata": {},
     "output_type": "execute_result"
    }
   ],
   "source": [
    "# 문제에서 요구하는 형태로 변환 필요\n",
    "obj = {'ID' : ID, \n",
    "       'Purchase' : y_pred}\n",
    "result = pd.DataFrame(obj)\n",
    "result"
   ]
  },
  {
   "cell_type": "code",
   "execution_count": 190,
   "id": "c7e708ae-ed5c-449e-b089-30144b58c7e5",
   "metadata": {},
   "outputs": [],
   "source": [
    "result.to_csv(\"12345.csv\", index = False)"
   ]
  }
 ],
 "metadata": {
  "kernelspec": {
   "display_name": "Python 3 (ipykernel)",
   "language": "python",
   "name": "python3"
  },
  "language_info": {
   "codemirror_mode": {
    "name": "ipython",
    "version": 3
   },
   "file_extension": ".py",
   "mimetype": "text/x-python",
   "name": "python",
   "nbconvert_exporter": "python",
   "pygments_lexer": "ipython3",
   "version": "3.11.5"
  }
 },
 "nbformat": 4,
 "nbformat_minor": 5
}
