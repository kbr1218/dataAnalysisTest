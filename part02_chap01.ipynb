{
 "cells": [
  {
   "cell_type": "markdown",
   "id": "54e41727-632b-4478-845e-94368cb7f7ee",
   "metadata": {},
   "source": [
    "## Part 02 데이터 핸들링 - 1장 NumPy를 활용한 데이터 다루기\n",
    "### 1절: Numpy의 배열객체"
   ]
  },
  {
   "cell_type": "markdown",
   "id": "e4308d40-426a-4532-a87b-7e6a0d00d771",
   "metadata": {},
   "source": [
    "#### ndarray 배열\n",
    "- 같은 종류의 데이터 타입을 담을 수 있는 다차원 배열 (숫자형, 문자열, 부울형 등)\n",
    "<br>\n",
    "\n",
    "1. array(object) : 객체(object)를 배열로 반환\n",
    "2. arange([start, ], stop, [step, ]) : start 숫자에서 step 간격으로 증가하여 end 전(end를 포함하지 않는) 숫자까지 실수열을 생성\n",
    "3. ones(shape) : shape는 정수 또는 튜플 형태로 입력되어, shape 값에 따른 모든 값이 1인 배열을 생성\n",
    "4. zeros(shape) : shape는 정수 또는 튜플 형태로 입력되어, shape 값에 따른 모든 값이 0인 배열을 생성\n",
    "5. full(shape, fill_value) : shape는 정수 또는 튜플 형태로 입력되어, shape 값에 따른 모든 값이 fill_value인 배열을 생성\n",
    "6. identity(n) : 주 대각성분이 1인 행과 열의 수가 n개인 정사각 2차원 배열(항등행렬과 유사)"
   ]
  },
  {
   "cell_type": "code",
   "execution_count": 2,
   "id": "33b5f3ab-a16a-4a66-a1b3-5c6f02f61875",
   "metadata": {
    "tags": []
   },
   "outputs": [],
   "source": [
    "# numpy 패키지 불러오기\n",
    "\n",
    "# !pip install numpy==1.21.1\n",
    "# conda install numpy\n",
    "import numpy as np"
   ]
  },
  {
   "cell_type": "code",
   "execution_count": 3,
   "id": "843a2305-ba06-4e95-b0d6-ed3f02bf2f2b",
   "metadata": {
    "tags": []
   },
   "outputs": [
    {
     "data": {
      "text/plain": [
       "array([1, 3, 5, 7, 9])"
      ]
     },
     "execution_count": 3,
     "metadata": {},
     "output_type": "execute_result"
    }
   ],
   "source": [
    "# 1d array\n",
    "np.array([1, 3, 5, 7, 9])"
   ]
  },
  {
   "cell_type": "code",
   "execution_count": 4,
   "id": "2a40d453-5368-40f2-a09e-3172b864e5a1",
   "metadata": {
    "tags": []
   },
   "outputs": [
    {
     "data": {
      "text/plain": [
       "array('dataedu', dtype='<U7')"
      ]
     },
     "execution_count": 4,
     "metadata": {},
     "output_type": "execute_result"
    }
   ],
   "source": [
    "np.array('dataedu')"
   ]
  },
  {
   "cell_type": "code",
   "execution_count": 5,
   "id": "51ae901f-f4e4-49d5-b0bf-281eec31608c",
   "metadata": {
    "tags": []
   },
   "outputs": [
    {
     "data": {
      "text/plain": [
       "array([0, 1, 2, 3, 4, 5, 6])"
      ]
     },
     "execution_count": 5,
     "metadata": {},
     "output_type": "execute_result"
    }
   ],
   "source": [
    "# arange([start, ], stop, [step, ])\n",
    "np.arange(7)"
   ]
  },
  {
   "cell_type": "code",
   "execution_count": 6,
   "id": "1797a68b-799c-40a4-b925-dd9c592107fd",
   "metadata": {
    "tags": []
   },
   "outputs": [
    {
     "data": {
      "text/plain": [
       "array([1. , 1.5, 2. , 2.5, 3. , 3.5, 4. , 4.5, 5. , 5.5])"
      ]
     },
     "execution_count": 6,
     "metadata": {},
     "output_type": "execute_result"
    }
   ],
   "source": [
    "# arange는 실수도 가능 (range는 정수만 가능)\n",
    "np.arange(1, 6, 0.5)"
   ]
  },
  {
   "cell_type": "code",
   "execution_count": 7,
   "id": "fffe2fcb-ea22-49a6-b43e-0070e79ae3c2",
   "metadata": {
    "tags": []
   },
   "outputs": [
    {
     "ename": "TypeError",
     "evalue": "'float' object cannot be interpreted as an integer",
     "output_type": "error",
     "traceback": [
      "\u001b[1;31m---------------------------------------------------------------------------\u001b[0m",
      "\u001b[1;31mTypeError\u001b[0m                                 Traceback (most recent call last)",
      "Cell \u001b[1;32mIn[7], line 2\u001b[0m\n\u001b[0;32m      1\u001b[0m \u001b[38;5;66;03m# range()는 step에 실수 불가능\u001b[39;00m\n\u001b[1;32m----> 2\u001b[0m \u001b[38;5;28mrange\u001b[39m(\u001b[38;5;241m1\u001b[39m, \u001b[38;5;241m6\u001b[39m, \u001b[38;5;241m0.5\u001b[39m)\n",
      "\u001b[1;31mTypeError\u001b[0m: 'float' object cannot be interpreted as an integer"
     ]
    }
   ],
   "source": [
    "# range()는 step에 실수 불가능\n",
    "range(1, 6, 0.5)"
   ]
  },
  {
   "cell_type": "code",
   "execution_count": 8,
   "id": "76c0b4b9-1ec0-4952-8d11-0e3e20b6ba5d",
   "metadata": {
    "tags": []
   },
   "outputs": [
    {
     "data": {
      "text/plain": [
       "array([1., 1., 1., 1., 1.])"
      ]
     },
     "execution_count": 8,
     "metadata": {},
     "output_type": "execute_result"
    }
   ],
   "source": [
    "# ones(shape)\n",
    "np.ones(5)"
   ]
  },
  {
   "cell_type": "code",
   "execution_count": 9,
   "id": "1c883a00-054f-40d8-a085-c899c908df76",
   "metadata": {
    "tags": []
   },
   "outputs": [
    {
     "data": {
      "text/plain": [
       "array([0., 0., 0.])"
      ]
     },
     "execution_count": 9,
     "metadata": {},
     "output_type": "execute_result"
    }
   ],
   "source": [
    "# zeros(shape)\n",
    "np.zeros(3)"
   ]
  },
  {
   "cell_type": "code",
   "execution_count": 10,
   "id": "91b1dfd4-ec09-49a7-8d21-f876c1d9ac0d",
   "metadata": {
    "tags": []
   },
   "outputs": [
    {
     "data": {
      "text/plain": [
       "array([4., 4., 4., 4., 4.])"
      ]
     },
     "execution_count": 10,
     "metadata": {},
     "output_type": "execute_result"
    }
   ],
   "source": [
    "# full(shape, fill_value)\n",
    "np.full(5, 4.)"
   ]
  },
  {
   "cell_type": "markdown",
   "id": "11b0ed79-d652-4296-8e73-5f254969f728",
   "metadata": {},
   "source": [
    "- 각 함수는 dtype 인자를 사용할 수 있으며, 별도로 입력하지 않을 경우(default)는 None이 선택되어 입력한 데이터 타입 그대로 유지되는 것을 의미\n",
    "- 만약 3을 입력한 후 dtype=float을 입력할 경우 데이터 타입을 실수형으로 바꿀 수 있으며, 생략할 경우 입력된 3이 정수형이므로 자동으로 정수형이 됨\n",
    "- *참고* : 배열객체.dtype는 배열객체의 데이터 타입 정보를 확인하는 메소드"
   ]
  },
  {
   "cell_type": "code",
   "execution_count": 15,
   "id": "5d90d1fa-583e-442c-a261-1315f8b65ee2",
   "metadata": {
    "tags": []
   },
   "outputs": [
    {
     "name": "stdout",
     "output_type": "stream",
     "text": [
      "[4 4 4 4 4]\n",
      "int32\n",
      "float64\n"
     ]
    }
   ],
   "source": [
    "# 배열 객체의 dtype\n",
    "print(np.full(5, 4))\n",
    "\n",
    "# 정수\n",
    "print(np.full(5, 4).dtype)\n",
    "\n",
    "# 실수\n",
    "print(np.full(5, 4.).dtype)"
   ]
  },
  {
   "cell_type": "code",
   "execution_count": 16,
   "id": "51e6cc5d-f5f2-4d1c-9f7a-931752155ba0",
   "metadata": {
    "tags": []
   },
   "outputs": [
    {
     "data": {
      "text/plain": [
       "dtype('float64')"
      ]
     },
     "execution_count": 16,
     "metadata": {},
     "output_type": "execute_result"
    }
   ],
   "source": [
    "# dtype 인자로 자료형 설정\n",
    "np.full(5, 4, dtype='float').dtype"
   ]
  },
  {
   "cell_type": "code",
   "execution_count": null,
   "id": "36ccfe79-8e69-40f9-a852-8e61d809d5b1",
   "metadata": {},
   "outputs": [],
   "source": []
  },
  {
   "cell_type": "markdown",
   "id": "b975ec7d-14a8-473f-9db9-7a42b597d013",
   "metadata": {},
   "source": [
    "2d-array(2차원 배열)객체는 행렬(matrix)와 유사한 형태(실제로 행렬객체는 아님)"
   ]
  },
  {
   "cell_type": "code",
   "execution_count": 19,
   "id": "67afbd0e-765f-4b80-856e-af976ed711ad",
   "metadata": {
    "tags": []
   },
   "outputs": [
    {
     "data": {
      "text/plain": [
       "array([[1, 3, 5, 7, 9],\n",
       "       [2, 4, 6, 8, 0]])"
      ]
     },
     "execution_count": 19,
     "metadata": {},
     "output_type": "execute_result"
    }
   ],
   "source": [
    "# 2d-array\n",
    "np.array( [[1, 3, 5, 7, 9], [2, 4, 6, 8, 0]] )    # 2행 5열"
   ]
  },
  {
   "cell_type": "code",
   "execution_count": 20,
   "id": "16809bb8-c06f-45ad-90b2-6caec6ad52a4",
   "metadata": {
    "tags": []
   },
   "outputs": [
    {
     "data": {
      "text/plain": [
       "array([[1, 2, 3],\n",
       "       [4, 5, 6],\n",
       "       [7, 8, 9]])"
      ]
     },
     "execution_count": 20,
     "metadata": {},
     "output_type": "execute_result"
    }
   ],
   "source": [
    "np.array( [[1, 2, 3], [4, 5, 6], [7, 8, 9]] )     # 3행 3열"
   ]
  },
  {
   "cell_type": "code",
   "execution_count": 21,
   "id": "5dd71a50-dcca-42f5-87b3-b92670d3c6a4",
   "metadata": {
    "tags": []
   },
   "outputs": [
    {
     "data": {
      "text/plain": [
       "array([[1, 1, 1, 1, 1],\n",
       "       [1, 1, 1, 1, 1]])"
      ]
     },
     "execution_count": 21,
     "metadata": {},
     "output_type": "execute_result"
    }
   ],
   "source": [
    "# 모든 값이 1(정수)이고 행의 수가 2, 열의 수가 5개인 2차원 배열\n",
    "np.ones( (2, 5), dtype='int')"
   ]
  },
  {
   "cell_type": "code",
   "execution_count": 22,
   "id": "119cea9b-f00f-4574-9ea9-ddc7d033e14a",
   "metadata": {
    "tags": []
   },
   "outputs": [
    {
     "data": {
      "text/plain": [
       "array([[0, 0, 0, 0, 0],\n",
       "       [0, 0, 0, 0, 0]])"
      ]
     },
     "execution_count": 22,
     "metadata": {},
     "output_type": "execute_result"
    }
   ],
   "source": [
    "# 모든 값이 0(정수)이고 행의 수가 2, 열의 수가 5개인 2차원 배열\n",
    "np.zeros( (2, 5), dtype='int')"
   ]
  },
  {
   "cell_type": "code",
   "execution_count": 24,
   "id": "3b33743c-5f64-44ca-a8b0-2178c085946b",
   "metadata": {
    "tags": []
   },
   "outputs": [
    {
     "data": {
      "text/plain": [
       "array([[7, 7, 7, 7, 7],\n",
       "       [7, 7, 7, 7, 7],\n",
       "       [7, 7, 7, 7, 7]])"
      ]
     },
     "execution_count": 24,
     "metadata": {},
     "output_type": "execute_result"
    }
   ],
   "source": [
    "# 모든 값이 7(정수)이고 행의 수가 3, 열의 수가 5개인 2차원 배열\n",
    "np.full( (3, 5), 7)"
   ]
  },
  {
   "cell_type": "code",
   "execution_count": 25,
   "id": "7c163b51-b703-44db-84b3-e6986ab92651",
   "metadata": {
    "tags": []
   },
   "outputs": [
    {
     "data": {
      "text/plain": [
       "array([[1., 0., 0., 0., 0.],\n",
       "       [0., 1., 0., 0., 0.],\n",
       "       [0., 0., 1., 0., 0.],\n",
       "       [0., 0., 0., 1., 0.],\n",
       "       [0., 0., 0., 0., 1.]])"
      ]
     },
     "execution_count": 25,
     "metadata": {},
     "output_type": "execute_result"
    }
   ],
   "source": [
    "# 주대각성분이 1인 행과 열의 수가 5개인 정사각 2차원 배열 생성 (항등행렬과 유사)\n",
    "np.identity(5)"
   ]
  },
  {
   "cell_type": "code",
   "execution_count": null,
   "id": "32aebbda-d455-42ef-bb44-a4028b6f5842",
   "metadata": {},
   "outputs": [],
   "source": []
  },
  {
   "cell_type": "markdown",
   "id": "88f99c69-2ff0-47a5-a3de-969c8a6b5918",
   "metadata": {},
   "source": [
    "3d-array(3차원 배열) 객체는 2차원 배열이 층을 이룬 형태로 구성됨"
   ]
  },
  {
   "cell_type": "code",
   "execution_count": 26,
   "id": "f37fc892-55ad-4978-a14b-f5b46d7e040b",
   "metadata": {
    "tags": []
   },
   "outputs": [
    {
     "data": {
      "text/plain": [
       "array([[[1, 2, 3, 4],\n",
       "        [5, 6, 7, 8]],\n",
       "\n",
       "       [[2, 4, 6, 8],\n",
       "        [1, 3, 5, 7]],\n",
       "\n",
       "       [[0, 9, 8, 7],\n",
       "        [7, 8, 9, 0]]])"
      ]
     },
     "execution_count": 26,
     "metadata": {},
     "output_type": "execute_result"
    }
   ],
   "source": [
    "# 3d array\n",
    "np.array([\n",
    "    [[1, 2, 3, 4], [5, 6, 7, 8]], # 0층\n",
    "    [[2, 4, 6, 8], [1, 3, 5, 7]], # 1층\n",
    "    [[0, 9, 8, 7], [7, 8, 9, 0]]  # 2층\n",
    "])"
   ]
  },
  {
   "cell_type": "code",
   "execution_count": 27,
   "id": "5176ee30-5416-4f08-92f8-8d8e0d9f4764",
   "metadata": {
    "tags": []
   },
   "outputs": [
    {
     "data": {
      "text/plain": [
       "array([[[1, 1, 1, 1],\n",
       "        [1, 1, 1, 1]],\n",
       "\n",
       "       [[1, 1, 1, 1],\n",
       "        [1, 1, 1, 1]],\n",
       "\n",
       "       [[1, 1, 1, 1],\n",
       "        [1, 1, 1, 1]]])"
      ]
     },
     "execution_count": 27,
     "metadata": {},
     "output_type": "execute_result"
    }
   ],
   "source": [
    "# 모든 값이 1이고 3층 2행 4열인 3차원 배열\n",
    "np.ones( (3, 2, 4), dtype='int')"
   ]
  },
  {
   "cell_type": "code",
   "execution_count": 28,
   "id": "c8ac3018-8371-4a68-b9da-d2eb2609a907",
   "metadata": {
    "tags": []
   },
   "outputs": [
    {
     "data": {
      "text/plain": [
       "array([[[0, 0, 0, 0],\n",
       "        [0, 0, 0, 0]],\n",
       "\n",
       "       [[0, 0, 0, 0],\n",
       "        [0, 0, 0, 0]],\n",
       "\n",
       "       [[0, 0, 0, 0],\n",
       "        [0, 0, 0, 0]]])"
      ]
     },
     "execution_count": 28,
     "metadata": {},
     "output_type": "execute_result"
    }
   ],
   "source": [
    "# 모든 값이 0이고 3층 2행 4열인 3차원 배열\n",
    "np.zeros( (3, 2, 4), dtype = 'int')"
   ]
  },
  {
   "cell_type": "code",
   "execution_count": 29,
   "id": "ae7c3303-4147-4e31-ae40-4fe5a988e043",
   "metadata": {
    "tags": []
   },
   "outputs": [
    {
     "data": {
      "text/plain": [
       "array([[[5, 5, 5, 5],\n",
       "        [5, 5, 5, 5]],\n",
       "\n",
       "       [[5, 5, 5, 5],\n",
       "        [5, 5, 5, 5]],\n",
       "\n",
       "       [[5, 5, 5, 5],\n",
       "        [5, 5, 5, 5]]])"
      ]
     },
     "execution_count": 29,
     "metadata": {},
     "output_type": "execute_result"
    }
   ],
   "source": [
    "# 모든 값이 5이고 3층 2행 4열인 3차원 배열\n",
    "np.full( (3, 2, 4), 5, dtype='int')"
   ]
  },
  {
   "cell_type": "code",
   "execution_count": null,
   "id": "2ee6f6e0-f1f5-46b8-bad5-7caa2fe4f1b2",
   "metadata": {},
   "outputs": [],
   "source": []
  },
  {
   "cell_type": "markdown",
   "id": "50a4a675-36d3-4d16-8f51-7be0f0cb91ee",
   "metadata": {},
   "source": [
    "#### ndarray 정보 확인\n",
    "1. 배열.dtype : 배열의 데이터타입 정보\n",
    "2. 배열.shape : 배열의 형상 정보  \n",
    "   - 1d array의 경우 (길이, )와 같은 형태로 반환\n",
    "   - 2d array의 경우 (행길이, 열길이)와 같은 형태로 반환\n",
    "   - 3d array의 경우 (층 수, 행길이, 열길이)와 같은 형태로 반환\n",
    "3. 배열.size : 배열의 총 원소 수\n",
    "4. 배열.ndim : 배열의 차원"
   ]
  },
  {
   "cell_type": "code",
   "execution_count": 32,
   "id": "b3730f8b-1d5f-4e55-96da-52e24d3272bc",
   "metadata": {
    "tags": []
   },
   "outputs": [],
   "source": [
    "# nd array 생성\n",
    "arr1d = np.array( [1, 2, 3, 4])\n",
    "arr2d = np.array( [[1, 2, 3, 4], [5, 6, 7, 8]] )\n",
    "arr3d = np.array([\n",
    "    [[1, 2, 3, 4], [5, 6, 7, 8]], # 0층\n",
    "    [[2, 4, 6, 8], [1, 3, 5, 7]], # 1층\n",
    "    [[0, 9, 8, 7], [7, 8, 9, 0]]  # 2층\n",
    "])"
   ]
  },
  {
   "cell_type": "code",
   "execution_count": 34,
   "id": "ec8abbf7-175c-40d3-a354-e711f0a7b70d",
   "metadata": {
    "tags": []
   },
   "outputs": [
    {
     "name": "stdout",
     "output_type": "stream",
     "text": [
      "int32\n",
      "int32\n",
      "int32\n"
     ]
    }
   ],
   "source": [
    "# dtype\n",
    "print(arr1d.dtype)\n",
    "print(arr2d.dtype)\n",
    "print(arr3d.dtype)"
   ]
  },
  {
   "cell_type": "code",
   "execution_count": 35,
   "id": "06f81875-483f-40f9-a63d-f7f3e1cbd0c4",
   "metadata": {
    "tags": []
   },
   "outputs": [
    {
     "name": "stdout",
     "output_type": "stream",
     "text": [
      "(4,)\n",
      "(2, 4)\n",
      "(3, 2, 4)\n"
     ]
    }
   ],
   "source": [
    "# shape\n",
    "print(arr1d.shape)\n",
    "print(arr2d.shape)\n",
    "print(arr3d.shape)"
   ]
  },
  {
   "cell_type": "code",
   "execution_count": 36,
   "id": "898833de-5857-4575-84eb-322cd52134a5",
   "metadata": {
    "tags": []
   },
   "outputs": [
    {
     "name": "stdout",
     "output_type": "stream",
     "text": [
      "4\n",
      "8\n",
      "24\n"
     ]
    }
   ],
   "source": [
    "# size\n",
    "print(arr1d.size)\n",
    "print(arr2d.size)\n",
    "print(arr3d.size)"
   ]
  },
  {
   "cell_type": "code",
   "execution_count": 37,
   "id": "e626a2c1-2b81-4b9e-aa07-568c2c4607cf",
   "metadata": {
    "tags": []
   },
   "outputs": [
    {
     "name": "stdout",
     "output_type": "stream",
     "text": [
      "1\n",
      "2\n",
      "3\n"
     ]
    }
   ],
   "source": [
    "# ndim\n",
    "print(arr1d.ndim)\n",
    "print(arr2d.ndim)\n",
    "print(arr3d.ndim)"
   ]
  },
  {
   "cell_type": "code",
   "execution_count": null,
   "id": "70292dcb-68c4-4ef2-aecb-96edb5b30863",
   "metadata": {},
   "outputs": [],
   "source": []
  },
  {
   "cell_type": "markdown",
   "id": "377f5b47-b336-40ce-b087-e8c44fe34286",
   "metadata": {},
   "source": [
    "### 2절: Numpy의 연산"
   ]
  },
  {
   "cell_type": "markdown",
   "id": "3310a5cb-da07-465a-b35b-ca2f61440e1a",
   "metadata": {},
   "source": [
    "#### ndarray 인덱싱"
   ]
  },
  {
   "cell_type": "code",
   "execution_count": 38,
   "id": "5a310a72-3cb3-4b82-8f9f-0c21899398df",
   "metadata": {
    "tags": []
   },
   "outputs": [
    {
     "name": "stdout",
     "output_type": "stream",
     "text": [
      "1 4\n"
     ]
    }
   ],
   "source": [
    "# 1d array\n",
    "print(arr1d[0], arr1d[3])"
   ]
  },
  {
   "cell_type": "code",
   "execution_count": 41,
   "id": "06ffe8a2-ef4e-4beb-990b-14dfd60dd199",
   "metadata": {
    "tags": []
   },
   "outputs": [
    {
     "name": "stdout",
     "output_type": "stream",
     "text": [
      "2 6\n",
      "8\n"
     ]
    }
   ],
   "source": [
    "# 2d array\n",
    "print(arr2d[0, 1], arr2d[1, 1])\n",
    "\n",
    "# 음수 인덱싱\n",
    "print(arr2d[-1, -1])"
   ]
  },
  {
   "cell_type": "code",
   "execution_count": 40,
   "id": "a98e0d0d-49a5-4ef5-b820-7dd4f7de123b",
   "metadata": {
    "tags": []
   },
   "outputs": [
    {
     "name": "stdout",
     "output_type": "stream",
     "text": [
      "2 4 9\n"
     ]
    }
   ],
   "source": [
    "# 3d array\n",
    "print(arr3d[0, 0, 1], arr3d[1, 0, 1], arr3d[2, 0, 1])"
   ]
  },
  {
   "cell_type": "code",
   "execution_count": null,
   "id": "bc64b795-9b70-4ce4-9fb2-ceba3b7bbdc6",
   "metadata": {},
   "outputs": [],
   "source": []
  },
  {
   "cell_type": "markdown",
   "id": "cd9e0e13-027d-464c-8975-973028773e82",
   "metadata": {},
   "source": [
    "#### ndarray 슬라이싱"
   ]
  },
  {
   "cell_type": "code",
   "execution_count": 42,
   "id": "23558020-ae71-4caa-b426-efc070cbeec8",
   "metadata": {
    "tags": []
   },
   "outputs": [
    {
     "name": "stdout",
     "output_type": "stream",
     "text": [
      "[1 2] [1 2 3 4]\n"
     ]
    }
   ],
   "source": [
    "# 1d array\n",
    "print(arr1d[0:2], arr1d[:])"
   ]
  },
  {
   "cell_type": "code",
   "execution_count": 43,
   "id": "12f559ae-0d40-4cf5-a32f-11b5070e338e",
   "metadata": {
    "tags": []
   },
   "outputs": [
    {
     "name": "stdout",
     "output_type": "stream",
     "text": [
      "[1 5] [5 6 7 8]\n"
     ]
    }
   ],
   "source": [
    "# 2d array\n",
    "print(arr2d[0:3, 0], arr2d[1, :])"
   ]
  },
  {
   "cell_type": "code",
   "execution_count": 44,
   "id": "6b35eb9a-1fe2-4697-8566-0871be2199cc",
   "metadata": {
    "tags": []
   },
   "outputs": [
    {
     "name": "stdout",
     "output_type": "stream",
     "text": [
      "[[1 2 3]\n",
      " [5 6 7]]\n"
     ]
    }
   ],
   "source": [
    "# 3d array\n",
    "print(arr3d[0, :, :3])"
   ]
  },
  {
   "cell_type": "code",
   "execution_count": null,
   "id": "fd4c5a42-505c-4241-9f2c-0f3c95e9713a",
   "metadata": {},
   "outputs": [],
   "source": []
  },
  {
   "cell_type": "markdown",
   "id": "e07afab3-b3d6-4f63-93ee-85d89540a082",
   "metadata": {
    "tags": []
   },
   "source": [
    "#### ndarray 원소별 연산\n",
    "- ndarray 배열에 대한 **산술연산자** 또는 **범용함수(universal functions; ndarray 안의 원소별 연산을 수행하는 함수)** 의 종류는 아래와 같음\n",
    "- 60개 이상의 범용 함수가 정의되어 있지만, 여기선 일부만 다룸\n",
    "- 범용 함수는 단일 배열인 경우와 서로 다른 배열인 경우에 따라 종류를 구분할 수 있음\n",
    "<br>\n",
    "\n",
    "1. abs(배열), fabs(배열) : 배열의 각 원소별 절댓값을 반환, 복소수가 아닌 경우에는 fabs로 빠르게 연산 가능\n",
    "2. sqrt(배열) : 배열의 각 원소별 제곱근을 반환\n",
    "3. square(배열) : 배열의 각 원소별 제곱 값을 반환\n",
    "4. exp(배열) : 배열의 각 원소별 밑이 e(오일러 함수)인 지수 함수 값을 반환\n",
    "5. log(배열) : 배열의 각 원소별 자연로그 값을 반환\n",
    "6. log10(배열) : 배열의 각 원소별 상용로그 값을 반환\n",
    "7. sign(배열) : 배열의 각 원소별 부호 값을 반환 (양수면 1, 음수면 -1, 0이면 0 반환)"
   ]
  },
  {
   "cell_type": "code",
   "execution_count": 47,
   "id": "dd19526b-e90f-4946-bdc1-3fae8091cc74",
   "metadata": {
    "tags": []
   },
   "outputs": [],
   "source": [
    "# nd array 생성\n",
    "arr = np.array( [1, -2, 3, -4, 25, 9])"
   ]
  },
  {
   "cell_type": "code",
   "execution_count": 48,
   "id": "e5473b2a-3a40-4f76-a8c7-76748dd7ca9c",
   "metadata": {
    "tags": []
   },
   "outputs": [
    {
     "data": {
      "text/plain": [
       "array([ 1,  2,  3,  4, 25,  9])"
      ]
     },
     "execution_count": 48,
     "metadata": {},
     "output_type": "execute_result"
    }
   ],
   "source": [
    "# abs\n",
    "np.abs(arr)"
   ]
  },
  {
   "cell_type": "code",
   "execution_count": 50,
   "id": "77e2307b-9e49-4b4b-a1fa-fae71db464fc",
   "metadata": {
    "tags": []
   },
   "outputs": [
    {
     "data": {
      "text/plain": [
       "array([ 1.,  2.,  3.,  4., 25.,  9.])"
      ]
     },
     "execution_count": 50,
     "metadata": {},
     "output_type": "execute_result"
    }
   ],
   "source": [
    "# fabs\n",
    "np.fabs(arr)"
   ]
  },
  {
   "cell_type": "code",
   "execution_count": 51,
   "id": "89a66b6a-71cb-4705-9ae6-733057c6ca70",
   "metadata": {
    "tags": []
   },
   "outputs": [
    {
     "name": "stderr",
     "output_type": "stream",
     "text": [
      "C:\\Users\\kbr_u\\AppData\\Local\\Temp\\ipykernel_14304\\876448091.py:2: RuntimeWarning: invalid value encountered in sqrt\n",
      "  np.sqrt(arr)\n"
     ]
    },
    {
     "data": {
      "text/plain": [
       "array([1.        ,        nan, 1.73205081,        nan, 5.        ,\n",
       "       3.        ])"
      ]
     },
     "execution_count": 51,
     "metadata": {},
     "output_type": "execute_result"
    }
   ],
   "source": [
    "# sqrt\n",
    "np.sqrt(arr)"
   ]
  },
  {
   "cell_type": "code",
   "execution_count": 52,
   "id": "e9986799-8864-4cca-bcb8-c7239bae6e65",
   "metadata": {
    "tags": []
   },
   "outputs": [
    {
     "data": {
      "text/plain": [
       "array([  1,   4,   9,  16, 625,  81])"
      ]
     },
     "execution_count": 52,
     "metadata": {},
     "output_type": "execute_result"
    }
   ],
   "source": [
    "# square\n",
    "np.square(arr)"
   ]
  },
  {
   "cell_type": "code",
   "execution_count": 54,
   "id": "79cce206-752e-44a7-808c-47a7031429b0",
   "metadata": {
    "tags": []
   },
   "outputs": [
    {
     "data": {
      "text/plain": [
       "array([2.71828183e+00, 1.35335283e-01, 2.00855369e+01, 1.83156389e-02,\n",
       "       7.20048993e+10, 8.10308393e+03])"
      ]
     },
     "execution_count": 54,
     "metadata": {},
     "output_type": "execute_result"
    }
   ],
   "source": [
    "# exp\n",
    "np.exp(arr)"
   ]
  },
  {
   "cell_type": "code",
   "execution_count": 55,
   "id": "18bbe6a2-8a1c-4065-b417-d48e5b6442c8",
   "metadata": {
    "tags": []
   },
   "outputs": [
    {
     "name": "stderr",
     "output_type": "stream",
     "text": [
      "C:\\Users\\kbr_u\\AppData\\Local\\Temp\\ipykernel_14304\\3120950136.py:1: RuntimeWarning: invalid value encountered in log\n",
      "  np.log(arr)\n"
     ]
    },
    {
     "data": {
      "text/plain": [
       "array([0.        ,        nan, 1.09861229,        nan, 3.21887582,\n",
       "       2.19722458])"
      ]
     },
     "execution_count": 55,
     "metadata": {},
     "output_type": "execute_result"
    }
   ],
   "source": [
    "np.log(arr)"
   ]
  },
  {
   "cell_type": "code",
   "execution_count": 56,
   "id": "21a403e0-99b2-4a0c-8d81-5c1d70f24ead",
   "metadata": {
    "tags": []
   },
   "outputs": [
    {
     "name": "stderr",
     "output_type": "stream",
     "text": [
      "C:\\Users\\kbr_u\\AppData\\Local\\Temp\\ipykernel_14304\\2153533263.py:1: RuntimeWarning: invalid value encountered in log10\n",
      "  np.log10(arr)\n"
     ]
    },
    {
     "data": {
      "text/plain": [
       "array([0.        ,        nan, 0.47712125,        nan, 1.39794001,\n",
       "       0.95424251])"
      ]
     },
     "execution_count": 56,
     "metadata": {},
     "output_type": "execute_result"
    }
   ],
   "source": [
    "np.log10(arr)"
   ]
  },
  {
   "cell_type": "code",
   "execution_count": 57,
   "id": "51a0aea6-3d41-4511-95be-45dc986fb1a3",
   "metadata": {
    "tags": []
   },
   "outputs": [
    {
     "data": {
      "text/plain": [
       "array([ 1, -1,  1, -1,  1,  1])"
      ]
     },
     "execution_count": 57,
     "metadata": {},
     "output_type": "execute_result"
    }
   ],
   "source": [
    "np.sign(arr)"
   ]
  },
  {
   "cell_type": "code",
   "execution_count": null,
   "id": "e20ae524-6dd7-49c2-b16f-09499c251a08",
   "metadata": {},
   "outputs": [],
   "source": []
  },
  {
   "cell_type": "markdown",
   "id": "3f0e063d-682a-4db8-94ce-8debbbb6479c",
   "metadata": {},
   "source": [
    "단일 배열의 소수점을 처리하는 범용 함수\n",
    "1. round(배열, decimals = 0) : 배열의 각 원소별 소수점을 decimals(원하는 소수점 자릿수, default=0)까지 반올림한 값을 반환\n",
    "2. ceil(배열) : 배열의 각 원소별 소수점을 올림한 값을 반환\n",
    "3. floor(배열) : 배열의 각 원소별 소수점을 내림한 값을 반환\n",
    "4. trunc(배열) : 배열의 각 원소별 소수점을 잘라버린 값을 반환"
   ]
  },
  {
   "cell_type": "code",
   "execution_count": 59,
   "id": "239772f7-4df5-4760-894b-e6dea65f35f2",
   "metadata": {
    "tags": []
   },
   "outputs": [],
   "source": [
    "# nd array 생성\n",
    "arr = np.array( [1.34, -2.15, 3.99, -4.38, 25.4, 9.12])"
   ]
  },
  {
   "cell_type": "code",
   "execution_count": 61,
   "id": "b21b2509-960f-4a2c-9845-26c5c5d7166c",
   "metadata": {
    "tags": []
   },
   "outputs": [
    {
     "data": {
      "text/plain": [
       "array([ 1., -2.,  4., -4., 25.,  9.])"
      ]
     },
     "execution_count": 61,
     "metadata": {},
     "output_type": "execute_result"
    }
   ],
   "source": [
    "# round\n",
    "np.round(arr)  # default = 0"
   ]
  },
  {
   "cell_type": "code",
   "execution_count": 62,
   "id": "dcf3c160-694b-43d5-999a-01cca552fa42",
   "metadata": {
    "tags": []
   },
   "outputs": [
    {
     "data": {
      "text/plain": [
       "array([ 1.3, -2.2,  4. , -4.4, 25.4,  9.1])"
      ]
     },
     "execution_count": 62,
     "metadata": {},
     "output_type": "execute_result"
    }
   ],
   "source": [
    "np.round(arr, 1)"
   ]
  },
  {
   "cell_type": "code",
   "execution_count": 63,
   "id": "0f432788-fdb6-4c69-a8d6-939c8c4dc08b",
   "metadata": {
    "tags": []
   },
   "outputs": [
    {
     "data": {
      "text/plain": [
       "array([ 2., -2.,  4., -4., 26., 10.])"
      ]
     },
     "execution_count": 63,
     "metadata": {},
     "output_type": "execute_result"
    }
   ],
   "source": [
    "# ceil\n",
    "np.ceil(arr)"
   ]
  },
  {
   "cell_type": "code",
   "execution_count": 64,
   "id": "248c28f4-1731-4753-bccd-050b984999a8",
   "metadata": {
    "tags": []
   },
   "outputs": [
    {
     "data": {
      "text/plain": [
       "array([ 1., -3.,  3., -5., 25.,  9.])"
      ]
     },
     "execution_count": 64,
     "metadata": {},
     "output_type": "execute_result"
    }
   ],
   "source": [
    "# floor\n",
    "np.floor(arr)"
   ]
  },
  {
   "cell_type": "code",
   "execution_count": 65,
   "id": "98fa599e-0acf-4124-bb65-bcbc41f58703",
   "metadata": {
    "tags": []
   },
   "outputs": [
    {
     "data": {
      "text/plain": [
       "array([ 1., -2.,  3., -4., 25.,  9.])"
      ]
     },
     "execution_count": 65,
     "metadata": {},
     "output_type": "execute_result"
    }
   ],
   "source": [
    "# trunc\n",
    "np.trunc(arr)"
   ]
  },
  {
   "cell_type": "code",
   "execution_count": null,
   "id": "6d66d7bb-455b-4766-9da5-25e215554ca3",
   "metadata": {},
   "outputs": [],
   "source": []
  },
  {
   "cell_type": "markdown",
   "id": "3ce3a39c-f35c-4401-b32f-440607861306",
   "metadata": {},
   "source": [
    "서로 다른 배열객체의 범용 함수\n",
    "- 주로 이들은 산술 연산과 관련되어 있으며 함수가 아닌 연산자로 대신 사용 가능\n",
    "- **numpy.함수명**과 같은 방법으로 사용 가능\n",
    "<br>\n",
    "1. add(배열1, 배열2) : 두 배열의 원소 별 덧셈, 연산자 +로 대신 가능\n",
    "2. subtract(배열1, 배열2) : 두 배열의 원소 별 뺄셈, 연산자 -로 대신 가능\n",
    "3. multiply(배열1, 배열2) : 두 배열의 원소 별 곱셈, 연산자 *로 대신 가능\n",
    "4. divide(배열1, 배열2) : 두 배열의 원소 별 나눗셈, 연산자 /로 대신 가능\n",
    "5. mod(배열1, 배열2) : 두 배열의 원소 별 나눈 후 나머지, 연산자 %로 대신 가능\n",
    "6. power(배열1, 배열2) : 배열1의 각 원소에 배열2의 원소만큼 제곱, 연산자 ** 로 대신 가능"
   ]
  },
  {
   "cell_type": "code",
   "execution_count": 66,
   "id": "29c8c23e-c320-4d9d-98b2-cb465c67afdc",
   "metadata": {
    "tags": []
   },
   "outputs": [],
   "source": [
    "arr1 = np.array( [1, 2, 3, 4, 5] )\n",
    "arr2 = np.array( [1, 3, 5, 7, 9] )"
   ]
  },
  {
   "cell_type": "code",
   "execution_count": 74,
   "id": "5604e5d1-ecf0-4df3-b2ea-d146d9c566eb",
   "metadata": {
    "tags": []
   },
   "outputs": [
    {
     "name": "stdout",
     "output_type": "stream",
     "text": [
      "[ 2  5  8 11 14]\n",
      "[ 2  5  8 11 14]\n"
     ]
    }
   ],
   "source": [
    "# add\n",
    "print(np.add(arr1, arr2))\n",
    "print(arr1 + arr2)"
   ]
  },
  {
   "cell_type": "code",
   "execution_count": 75,
   "id": "3cf96e5a-fff3-489d-9022-d56788108dde",
   "metadata": {
    "tags": []
   },
   "outputs": [
    {
     "name": "stdout",
     "output_type": "stream",
     "text": [
      "[ 0 -1 -2 -3 -4]\n",
      "[ 0 -1 -2 -3 -4]\n"
     ]
    }
   ],
   "source": [
    "# substract\n",
    "print(np.subtract(arr1, arr2))\n",
    "print(arr1 - arr2)"
   ]
  },
  {
   "cell_type": "code",
   "execution_count": 76,
   "id": "d19769f6-ccef-48d2-9582-e8a406817943",
   "metadata": {
    "tags": []
   },
   "outputs": [
    {
     "name": "stdout",
     "output_type": "stream",
     "text": [
      "[ 1  6 15 28 45]\n",
      "[ 1  6 15 28 45]\n"
     ]
    }
   ],
   "source": [
    "# multiply\n",
    "print(np.multiply(arr1, arr2))\n",
    "print(arr1 * arr2)"
   ]
  },
  {
   "cell_type": "code",
   "execution_count": 77,
   "id": "9b801fbf-0b37-4a72-baab-31827136a809",
   "metadata": {
    "tags": []
   },
   "outputs": [
    {
     "name": "stdout",
     "output_type": "stream",
     "text": [
      "[1.         0.66666667 0.6        0.57142857 0.55555556]\n",
      "[1.         0.66666667 0.6        0.57142857 0.55555556]\n"
     ]
    }
   ],
   "source": [
    "# divide\n",
    "print(np.divide(arr1, arr2))\n",
    "print(arr1 / arr2)"
   ]
  },
  {
   "cell_type": "code",
   "execution_count": 78,
   "id": "7ae978fd-27ce-49b1-b580-88d2a621d989",
   "metadata": {
    "tags": []
   },
   "outputs": [
    {
     "name": "stdout",
     "output_type": "stream",
     "text": [
      "[0 2 3 4 5]\n",
      "[0 2 3 4 5]\n"
     ]
    }
   ],
   "source": [
    "# mod\n",
    "print(np.mod(arr1, arr2))\n",
    "print(arr1 % arr2)"
   ]
  },
  {
   "cell_type": "code",
   "execution_count": 79,
   "id": "96f8e0c9-60ca-4a05-b581-7f1b5bf83d53",
   "metadata": {
    "tags": []
   },
   "outputs": [
    {
     "name": "stdout",
     "output_type": "stream",
     "text": [
      "[      1       8     243   16384 1953125]\n",
      "[      1       8     243   16384 1953125]\n"
     ]
    }
   ],
   "source": [
    "print(np.power(arr1, arr2))\n",
    "print(arr1 ** arr2)"
   ]
  },
  {
   "cell_type": "code",
   "execution_count": null,
   "id": "6e913912-2806-44a5-948f-439339e0f777",
   "metadata": {},
   "outputs": [],
   "source": []
  },
  {
   "cell_type": "markdown",
   "id": "952b8257-0758-4879-9317-085cc881b50d",
   "metadata": {},
   "source": [
    "두 배열이 서로 다른 길이, 차원, shape를 가질 경우의 계산"
   ]
  },
  {
   "cell_type": "code",
   "execution_count": 83,
   "id": "f3dd8922-3e0f-4a76-8e17-5384c426ee14",
   "metadata": {
    "tags": []
   },
   "outputs": [],
   "source": [
    "arr = np.array( [5] )\n",
    "arr1d = np.array( [1, 2, 3] )\n",
    "arr2d1 = np.array([ [1, 4, 7], [2, 5, 8], [3, 6, 9] ])\n",
    "arr2d2 = np.array( [[1], [0], [-1]] )"
   ]
  },
  {
   "cell_type": "code",
   "execution_count": 85,
   "id": "97099b09-4e24-4b41-b5ad-28da272000f3",
   "metadata": {
    "tags": []
   },
   "outputs": [
    {
     "data": {
      "text/plain": [
       "array([6, 7, 8])"
      ]
     },
     "execution_count": 85,
     "metadata": {},
     "output_type": "execute_result"
    }
   ],
   "source": [
    "arr + arr1d"
   ]
  },
  {
   "cell_type": "code",
   "execution_count": 86,
   "id": "fc066ed4-3b21-48b0-8a7f-f48853e1d265",
   "metadata": {
    "tags": []
   },
   "outputs": [
    {
     "data": {
      "text/plain": [
       "array([[ 2,  6, 10],\n",
       "       [ 3,  7, 11],\n",
       "       [ 4,  8, 12]])"
      ]
     },
     "execution_count": 86,
     "metadata": {},
     "output_type": "execute_result"
    }
   ],
   "source": [
    "arr1d + arr2d1"
   ]
  },
  {
   "cell_type": "code",
   "execution_count": 87,
   "id": "ecb8a855-8a45-4df5-8b3d-7350798c27a2",
   "metadata": {
    "tags": []
   },
   "outputs": [
    {
     "data": {
      "text/plain": [
       "array([[2, 5, 8],\n",
       "       [2, 5, 8],\n",
       "       [2, 5, 8]])"
      ]
     },
     "execution_count": 87,
     "metadata": {},
     "output_type": "execute_result"
    }
   ],
   "source": [
    "arr2d1 + arr2d2"
   ]
  },
  {
   "cell_type": "markdown",
   "id": "638f0409-b095-4d92-9ac8-76dbfb0e5bb5",
   "metadata": {},
   "source": [
    "곱셈과 나눗셈의 경우 일반적인 행렬의 곱셈과는 다름  \n",
    "행렬의 곱셈과 동일한 역할을 하는 함수는 **np.matmul(배열1, 배열2)** 혹은 연산자 **@** 로 가능"
   ]
  },
  {
   "cell_type": "code",
   "execution_count": null,
   "id": "2bb1420f-40f7-44f7-b2f1-c48d382c3d6f",
   "metadata": {},
   "outputs": [],
   "source": []
  },
  {
   "cell_type": "markdown",
   "id": "14a91347-9474-4e6f-9137-ecd02addde7a",
   "metadata": {},
   "source": [
    "### 3절: Numpy의 주요 함수와 메소드\n",
    "\n",
    "<br>\n",
    "\n",
    "#### 형상 변환 메소드\n",
    "1. 배열.reshape() : 배열을 입력된 shape로 변환, -1은 원래 배열의 길이와 남은 차원으로 알아서 정해지는 것을 의미\n",
    "2. 배열 ravel(), 배열.flatten() : 다차원 배열을 1차원으로 평탄화\n",
    "3. 배열.transpose() : 배열의 축 교환"
   ]
  },
  {
   "cell_type": "code",
   "execution_count": 90,
   "id": "337f97cc-44fc-444b-84ff-0e215a73027f",
   "metadata": {
    "tags": []
   },
   "outputs": [
    {
     "data": {
      "text/plain": [
       "array([0, 1, 2, 3, 4, 5, 6, 7])"
      ]
     },
     "execution_count": 90,
     "metadata": {},
     "output_type": "execute_result"
    }
   ],
   "source": [
    "arr1d = np.arange(8)\n",
    "arr1d"
   ]
  },
  {
   "cell_type": "code",
   "execution_count": 91,
   "id": "5c0db01a-12f2-4e53-8df8-c6cce16cc5b6",
   "metadata": {
    "tags": []
   },
   "outputs": [
    {
     "data": {
      "text/plain": [
       "array([[0, 1, 2, 3],\n",
       "       [4, 5, 6, 7]])"
      ]
     },
     "execution_count": 91,
     "metadata": {},
     "output_type": "execute_result"
    }
   ],
   "source": [
    "# 행길이가 2고 열길이가 4인 2d array로 변환\n",
    "arr2d = arr1d.reshape(2, 4)\n",
    "arr2d"
   ]
  },
  {
   "cell_type": "code",
   "execution_count": 92,
   "id": "d00412a8-c123-43e5-8c17-21768da100f4",
   "metadata": {
    "tags": []
   },
   "outputs": [
    {
     "ename": "ValueError",
     "evalue": "cannot reshape array of size 8 into shape (3,3)",
     "output_type": "error",
     "traceback": [
      "\u001b[1;31m---------------------------------------------------------------------------\u001b[0m",
      "\u001b[1;31mValueError\u001b[0m                                Traceback (most recent call last)",
      "Cell \u001b[1;32mIn[92], line 1\u001b[0m\n\u001b[1;32m----> 1\u001b[0m arr3d \u001b[38;5;241m=\u001b[39m arr1d\u001b[38;5;241m.\u001b[39mreshape(\u001b[38;5;241m3\u001b[39m, \u001b[38;5;241m3\u001b[39m)\n\u001b[0;32m      2\u001b[0m arr3d\n",
      "\u001b[1;31mValueError\u001b[0m: cannot reshape array of size 8 into shape (3,3)"
     ]
    }
   ],
   "source": [
    "arr3d = arr1d.reshape(3, 3)\n",
    "arr3d"
   ]
  },
  {
   "cell_type": "markdown",
   "id": "6d685314-18d3-4acb-82b0-5fd599ebda06",
   "metadata": {},
   "source": [
    "**reshape 활용 예시 1)** 1차원 배열을 생성하여 (3, 3)인 2차원 배열로 변환할 수 있음. (3, -1)과 (-1, 3)은 행(열)의 수만 3으로 지정하면 원래 배열의 길이인 9와 남은 차원 하나를 자동으로 판단해 열(행)의 수를 3으로 계산해 2차원 객체 생성"
   ]
  },
  {
   "cell_type": "code",
   "execution_count": 93,
   "id": "9b509cfd-92d5-4fc9-9f67-0b44bd830036",
   "metadata": {
    "tags": []
   },
   "outputs": [
    {
     "data": {
      "text/plain": [
       "array([0, 1, 2, 3, 4, 5, 6, 7, 8])"
      ]
     },
     "execution_count": 93,
     "metadata": {},
     "output_type": "execute_result"
    }
   ],
   "source": [
    "arr1d = np.arange(9)\n",
    "arr1d"
   ]
  },
  {
   "cell_type": "code",
   "execution_count": 96,
   "id": "61dfd70a-f348-4379-935d-73960dd3b69b",
   "metadata": {
    "tags": []
   },
   "outputs": [
    {
     "data": {
      "text/plain": [
       "array([[0, 1, 2],\n",
       "       [3, 4, 5],\n",
       "       [6, 7, 8]])"
      ]
     },
     "execution_count": 96,
     "metadata": {},
     "output_type": "execute_result"
    }
   ],
   "source": [
    "arr2d1 = arr1d.reshape(3, 3)\n",
    "arr2d1"
   ]
  },
  {
   "cell_type": "code",
   "execution_count": 97,
   "id": "1159e18c-186b-47bd-b683-08debbdfe65e",
   "metadata": {
    "tags": []
   },
   "outputs": [
    {
     "data": {
      "text/plain": [
       "array([[0, 1, 2],\n",
       "       [3, 4, 5],\n",
       "       [6, 7, 8]])"
      ]
     },
     "execution_count": 97,
     "metadata": {},
     "output_type": "execute_result"
    }
   ],
   "source": [
    "arr2d2 = arr1d.reshape(3, -1)\n",
    "arr2d2"
   ]
  },
  {
   "cell_type": "code",
   "execution_count": 100,
   "id": "313a9de1-1403-4bc4-84d0-c3b127ee1724",
   "metadata": {
    "tags": []
   },
   "outputs": [
    {
     "data": {
      "text/plain": [
       "array([[0, 1, 2],\n",
       "       [3, 4, 5],\n",
       "       [6, 7, 8]])"
      ]
     },
     "execution_count": 100,
     "metadata": {},
     "output_type": "execute_result"
    }
   ],
   "source": [
    "arr2d3 = arr1d.reshape(-1, 3)\n",
    "arr2d3"
   ]
  },
  {
   "cell_type": "markdown",
   "id": "3bb96ee9-5586-45c1-8480-f117411414ed",
   "metadata": {},
   "source": [
    "**reshape 활용 예시 2)** 연속된 수를 통해 2차원 배열을 생성하고자 할 경우 방법1처럼 리스트를 통해 생성하는 것보다 편하게 생성할 수 있음"
   ]
  },
  {
   "cell_type": "code",
   "execution_count": 101,
   "id": "c544fedb-d66b-4ddb-9a7b-35d59ec5d1e4",
   "metadata": {
    "tags": []
   },
   "outputs": [
    {
     "data": {
      "text/plain": [
       "array([[0, 1, 2],\n",
       "       [3, 4, 5],\n",
       "       [6, 7, 8]])"
      ]
     },
     "execution_count": 101,
     "metadata": {},
     "output_type": "execute_result"
    }
   ],
   "source": [
    "arr2d4 = np.arange(9).reshape(3, 3)\n",
    "arr2d4"
   ]
  },
  {
   "cell_type": "markdown",
   "id": "10562704-b21e-4351-8ae2-877c7819972d",
   "metadata": {},
   "source": [
    "**reshape 활용 예시 3)** 연속된 수를 통해 다차원 배열을 생성하고자 할 경우 빠르게 객체를 생성할 수 있는 방법"
   ]
  },
  {
   "cell_type": "code",
   "execution_count": 102,
   "id": "ee11d279-5bfb-4efb-a480-bed6e10d84eb",
   "metadata": {
    "tags": []
   },
   "outputs": [
    {
     "data": {
      "text/plain": [
       "array([[[ 0,  1],\n",
       "        [ 2,  3]],\n",
       "\n",
       "       [[ 4,  5],\n",
       "        [ 6,  7]],\n",
       "\n",
       "       [[ 8,  9],\n",
       "        [10, 11]]])"
      ]
     },
     "execution_count": 102,
     "metadata": {},
     "output_type": "execute_result"
    }
   ],
   "source": [
    "arr2d5 = np.arange(12).reshape(3, 2, -1)    # 층수 3, 행수3으로 지정, 남은 차원(열) 자동\n",
    "arr2d5"
   ]
  },
  {
   "cell_type": "code",
   "execution_count": null,
   "id": "991e43f4-c645-4cd6-a638-a788d2588979",
   "metadata": {},
   "outputs": [],
   "source": []
  },
  {
   "cell_type": "markdown",
   "id": "7b4d7569-07f6-4626-a818-ee9138548406",
   "metadata": {},
   "source": [
    "#### 평탄화\n",
    "- reshape 메소드로도 다차원 배열을 평탄화하는 것은 가능하지만 1차원으로 변환될 길이를 입력해야 하는 번거로움이 있음\n",
    "- revel()과 flatten() 메소드는 길이 입력 없이 이를 바로 수행할 수 있다는 장점이 있음"
   ]
  },
  {
   "cell_type": "code",
   "execution_count": 103,
   "id": "6cd0d643-b493-4653-b24c-0fb2ec165187",
   "metadata": {
    "tags": []
   },
   "outputs": [
    {
     "data": {
      "text/plain": [
       "array([0, 1, 2, 3, 4, 5, 6, 7, 8])"
      ]
     },
     "execution_count": 103,
     "metadata": {},
     "output_type": "execute_result"
    }
   ],
   "source": [
    "# reshape 메소드 활용\n",
    "arr1 = arr1d.reshape(9)\n",
    "arr1"
   ]
  },
  {
   "cell_type": "code",
   "execution_count": 105,
   "id": "a826aedc-4eff-433f-8373-9323a97fb915",
   "metadata": {
    "tags": []
   },
   "outputs": [
    {
     "data": {
      "text/plain": [
       "array([ 0,  1,  2,  3,  4,  5,  6,  7,  8,  9, 10, 11])"
      ]
     },
     "execution_count": 105,
     "metadata": {},
     "output_type": "execute_result"
    }
   ],
   "source": [
    "# (3, 2, 2)인 3차원 배열을 길이가 12인 1차원 배열로 변환\n",
    "arr1d1  = arr2d5.reshape(12)\n",
    "arr1d1"
   ]
  },
  {
   "cell_type": "code",
   "execution_count": 107,
   "id": "2d499c2c-19a8-4e2a-89bd-39d99d2e76bd",
   "metadata": {
    "tags": []
   },
   "outputs": [
    {
     "data": {
      "text/plain": [
       "array([0, 1, 2, 3, 4, 5, 6, 7, 8])"
      ]
     },
     "execution_count": 107,
     "metadata": {},
     "output_type": "execute_result"
    }
   ],
   "source": [
    "# .ravel() 다차원 배열 객체를 1차원으로 평탄화\n",
    "arr1d2 = arr2d1.ravel()    # 길이를 입력하지 않아도 됨\n",
    "arr1d2"
   ]
  },
  {
   "cell_type": "code",
   "execution_count": 109,
   "id": "7634b803-cd9b-46c2-9169-02c9ee66668a",
   "metadata": {
    "tags": []
   },
   "outputs": [
    {
     "data": {
      "text/plain": [
       "array([0, 1, 2, 3, 4, 5, 6, 7, 8])"
      ]
     },
     "execution_count": 109,
     "metadata": {},
     "output_type": "execute_result"
    }
   ],
   "source": [
    "# .flatten()\n",
    "arr1d3 = arr2d2.flatten()  # 길이를 입력하지 않아도 됨\n",
    "arr1d3"
   ]
  },
  {
   "cell_type": "markdown",
   "id": "140cbc0e-c713-4b2a-b73b-a984f29221ef",
   "metadata": {},
   "source": [
    "**transpose**는 배열의 축을 교환하는 메소드로 전치 행렬의 역할을 수행함 (**배열.T**도 동일한 결과를 가져옴)"
   ]
  },
  {
   "cell_type": "code",
   "execution_count": 110,
   "id": "8a1d175d-9c4d-4a1a-994c-7aa0152ceb34",
   "metadata": {
    "tags": []
   },
   "outputs": [
    {
     "data": {
      "text/plain": [
       "array([[0, 1],\n",
       "       [2, 3],\n",
       "       [4, 5],\n",
       "       [6, 7]])"
      ]
     },
     "execution_count": 110,
     "metadata": {},
     "output_type": "execute_result"
    }
   ],
   "source": [
    "# transpose\n",
    "arr2d = np.arange(8).reshape(4, 2)\n",
    "arr2d"
   ]
  },
  {
   "cell_type": "code",
   "execution_count": 111,
   "id": "7155a97f-d293-4a18-b74e-c1f53432e695",
   "metadata": {
    "tags": []
   },
   "outputs": [
    {
     "data": {
      "text/plain": [
       "array([[0, 2, 4, 6],\n",
       "       [1, 3, 5, 7]])"
      ]
     },
     "execution_count": 111,
     "metadata": {},
     "output_type": "execute_result"
    }
   ],
   "source": [
    "arr2d.transpose()"
   ]
  },
  {
   "cell_type": "code",
   "execution_count": 113,
   "id": "dda1698a-edf6-4815-8b4a-04cc344386c1",
   "metadata": {
    "tags": []
   },
   "outputs": [
    {
     "data": {
      "text/plain": [
       "array([[0, 2, 4, 6],\n",
       "       [1, 3, 5, 7]])"
      ]
     },
     "execution_count": 113,
     "metadata": {},
     "output_type": "execute_result"
    }
   ],
   "source": [
    "arr2d.T"
   ]
  },
  {
   "cell_type": "code",
   "execution_count": null,
   "id": "1f68837e-4ea6-41fd-96bd-646c1c9e73b4",
   "metadata": {},
   "outputs": [],
   "source": []
  },
  {
   "cell_type": "markdown",
   "id": "e0b7d14b-e3d1-497d-811c-166da4f1178c",
   "metadata": {},
   "source": [
    "#### 통계 함수\n",
    "- 통계 함수는 기초 기술 통계를 수행하는 기능을 하며 **numpy.함수명**과 같은 방법으로 사용 가능\n",
    "\n",
    "<br>\n",
    "\n",
    "1. mean(배열) : 배열 내 모든 원소의 평균 반환\n",
    "2. var(배열, ddof=None) : 배열 내 모든 원소의 분산 반환 (ddof(default=None)은 별도 지정하지 않을 경우 모분산을, ddof=1로 지정할 경우 표본분산이 됨)\n",
    "3. std(배열, ddof=None) : 배열 내 모든 원소의 표준편차 반환 (ddof(default=None)은 별도 지정하지 않을 경우 모분산을, ddof=1로 지정할 경우 표본표준편차가 됨)\n",
    "4. min(배열) : 배열 내 모든 원소의 최솟값 반환\n",
    "5. max(배열) : 배열 내 모든 원소의 최댓값 반환\n",
    "6. argmin(배열) : 배열 내 모든 원소의 최솟값이 있는 인덱스 반환\n",
    "7. argmax(배열) : 배열 내 모든 원소의 최댓값이 있는 인덱스 반환"
   ]
  },
  {
   "cell_type": "code",
   "execution_count": null,
   "id": "828c052e-d926-432d-931a-68964fb79ac0",
   "metadata": {},
   "outputs": [],
   "source": []
  }
 ],
 "metadata": {
  "kernelspec": {
   "display_name": "Python 3 (ipykernel)",
   "language": "python",
   "name": "python3"
  },
  "language_info": {
   "codemirror_mode": {
    "name": "ipython",
    "version": 3
   },
   "file_extension": ".py",
   "mimetype": "text/x-python",
   "name": "python",
   "nbconvert_exporter": "python",
   "pygments_lexer": "ipython3",
   "version": "3.11.5"
  }
 },
 "nbformat": 4,
 "nbformat_minor": 5
}
