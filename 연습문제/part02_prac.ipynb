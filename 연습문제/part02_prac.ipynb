{
 "cells": [
  {
   "cell_type": "markdown",
   "id": "938560d5-f1b2-439f-b2aa-ff530f7583d0",
   "metadata": {},
   "source": [
    "# 연습문제 : 작업형 1\n",
    "## 01."
   ]
  },
  {
   "cell_type": "code",
   "execution_count": 1,
   "id": "d7b8724d-6e5b-4af6-9bb7-253b71ae6169",
   "metadata": {
    "tags": []
   },
   "outputs": [],
   "source": [
    "import pandas as pd\n",
    "import numpy as np"
   ]
  },
  {
   "cell_type": "code",
   "execution_count": 4,
   "id": "1227baa9-886c-4a17-8770-949da631aee4",
   "metadata": {
    "tags": []
   },
   "outputs": [
    {
     "data": {
      "text/html": [
       "<div>\n",
       "<style scoped>\n",
       "    .dataframe tbody tr th:only-of-type {\n",
       "        vertical-align: middle;\n",
       "    }\n",
       "\n",
       "    .dataframe tbody tr th {\n",
       "        vertical-align: top;\n",
       "    }\n",
       "\n",
       "    .dataframe thead th {\n",
       "        text-align: right;\n",
       "    }\n",
       "</style>\n",
       "<table border=\"1\" class=\"dataframe\">\n",
       "  <thead>\n",
       "    <tr style=\"text-align: right;\">\n",
       "      <th></th>\n",
       "      <th>Manufacturer</th>\n",
       "      <th>Model</th>\n",
       "      <th>Type</th>\n",
       "      <th>Min_Price</th>\n",
       "      <th>Price</th>\n",
       "      <th>Max_Price</th>\n",
       "      <th>MPG_city</th>\n",
       "      <th>MPG_highway</th>\n",
       "      <th>AirBags</th>\n",
       "      <th>DriveTrain</th>\n",
       "      <th>...</th>\n",
       "      <th>Length</th>\n",
       "      <th>Wheelbase</th>\n",
       "      <th>Width</th>\n",
       "      <th>Turn_circle</th>\n",
       "      <th>Rear_seat_room</th>\n",
       "      <th>Luggage_room</th>\n",
       "      <th>Weight</th>\n",
       "      <th>Origin</th>\n",
       "      <th>Unnamed: 26</th>\n",
       "      <th>Make</th>\n",
       "    </tr>\n",
       "  </thead>\n",
       "  <tbody>\n",
       "    <tr>\n",
       "      <th>0</th>\n",
       "      <td>Acura</td>\n",
       "      <td>Integra</td>\n",
       "      <td>Small</td>\n",
       "      <td>12.9</td>\n",
       "      <td>15.9</td>\n",
       "      <td>18.8</td>\n",
       "      <td>25</td>\n",
       "      <td>31</td>\n",
       "      <td>NaN</td>\n",
       "      <td>Front</td>\n",
       "      <td>...</td>\n",
       "      <td>177</td>\n",
       "      <td>102</td>\n",
       "      <td>68</td>\n",
       "      <td>37.0</td>\n",
       "      <td>26.5</td>\n",
       "      <td>11.0</td>\n",
       "      <td>2705</td>\n",
       "      <td>non-USA</td>\n",
       "      <td>0</td>\n",
       "      <td>Acura Integra</td>\n",
       "    </tr>\n",
       "    <tr>\n",
       "      <th>1</th>\n",
       "      <td>Acura</td>\n",
       "      <td>Legend</td>\n",
       "      <td>Midsize</td>\n",
       "      <td>29.2</td>\n",
       "      <td>33.9</td>\n",
       "      <td>38.7</td>\n",
       "      <td>18</td>\n",
       "      <td>25</td>\n",
       "      <td>Driver &amp; Passenger</td>\n",
       "      <td>Front</td>\n",
       "      <td>...</td>\n",
       "      <td>195</td>\n",
       "      <td>115</td>\n",
       "      <td>71</td>\n",
       "      <td>38.0</td>\n",
       "      <td>30.0</td>\n",
       "      <td>15.0</td>\n",
       "      <td>3560</td>\n",
       "      <td>non-USA</td>\n",
       "      <td>1</td>\n",
       "      <td>Acura Legend</td>\n",
       "    </tr>\n",
       "    <tr>\n",
       "      <th>2</th>\n",
       "      <td>Audi</td>\n",
       "      <td>90</td>\n",
       "      <td>Compact</td>\n",
       "      <td>25.9</td>\n",
       "      <td>29.1</td>\n",
       "      <td>32.3</td>\n",
       "      <td>20</td>\n",
       "      <td>26</td>\n",
       "      <td>Driver only</td>\n",
       "      <td>Front</td>\n",
       "      <td>...</td>\n",
       "      <td>180</td>\n",
       "      <td>102</td>\n",
       "      <td>67</td>\n",
       "      <td>37.0</td>\n",
       "      <td>28.0</td>\n",
       "      <td>14.0</td>\n",
       "      <td>3375</td>\n",
       "      <td>non-USA</td>\n",
       "      <td>2</td>\n",
       "      <td>Audi 90</td>\n",
       "    </tr>\n",
       "    <tr>\n",
       "      <th>3</th>\n",
       "      <td>Audi</td>\n",
       "      <td>100</td>\n",
       "      <td>Midsize</td>\n",
       "      <td>30.8</td>\n",
       "      <td>NaN</td>\n",
       "      <td>44.6</td>\n",
       "      <td>19</td>\n",
       "      <td>26</td>\n",
       "      <td>Driver &amp; Passenger</td>\n",
       "      <td>Front</td>\n",
       "      <td>...</td>\n",
       "      <td>193</td>\n",
       "      <td>106</td>\n",
       "      <td>70</td>\n",
       "      <td>NaN</td>\n",
       "      <td>31.0</td>\n",
       "      <td>17.0</td>\n",
       "      <td>3405</td>\n",
       "      <td>non-USA</td>\n",
       "      <td>3</td>\n",
       "      <td>Audi 100</td>\n",
       "    </tr>\n",
       "    <tr>\n",
       "      <th>4</th>\n",
       "      <td>BMW</td>\n",
       "      <td>535i</td>\n",
       "      <td>Midsize</td>\n",
       "      <td>23.7</td>\n",
       "      <td>NaN</td>\n",
       "      <td>36.2</td>\n",
       "      <td>22</td>\n",
       "      <td>30</td>\n",
       "      <td>Driver only</td>\n",
       "      <td>Rear</td>\n",
       "      <td>...</td>\n",
       "      <td>186</td>\n",
       "      <td>109</td>\n",
       "      <td>69</td>\n",
       "      <td>NaN</td>\n",
       "      <td>27.0</td>\n",
       "      <td>13.0</td>\n",
       "      <td>3640</td>\n",
       "      <td>non-USA</td>\n",
       "      <td>4</td>\n",
       "      <td>BMW 535i</td>\n",
       "    </tr>\n",
       "  </tbody>\n",
       "</table>\n",
       "<p>5 rows × 28 columns</p>\n",
       "</div>"
      ],
      "text/plain": [
       "  Manufacturer    Model     Type  Min_Price  Price  Max_Price  MPG_city  \\\n",
       "0        Acura  Integra    Small       12.9   15.9       18.8        25   \n",
       "1        Acura   Legend  Midsize       29.2   33.9       38.7        18   \n",
       "2         Audi       90  Compact       25.9   29.1       32.3        20   \n",
       "3         Audi      100  Midsize       30.8    NaN       44.6        19   \n",
       "4          BMW     535i  Midsize       23.7    NaN       36.2        22   \n",
       "\n",
       "   MPG_highway             AirBags DriveTrain  ... Length  Wheelbase  Width  \\\n",
       "0           31                 NaN      Front  ...    177        102     68   \n",
       "1           25  Driver & Passenger      Front  ...    195        115     71   \n",
       "2           26         Driver only      Front  ...    180        102     67   \n",
       "3           26  Driver & Passenger      Front  ...    193        106     70   \n",
       "4           30         Driver only       Rear  ...    186        109     69   \n",
       "\n",
       "   Turn_circle  Rear_seat_room Luggage_room  Weight   Origin  Unnamed: 26  \\\n",
       "0         37.0            26.5         11.0    2705  non-USA            0   \n",
       "1         38.0            30.0         15.0    3560  non-USA            1   \n",
       "2         37.0            28.0         14.0    3375  non-USA            2   \n",
       "3          NaN            31.0         17.0    3405  non-USA            3   \n",
       "4          NaN            27.0         13.0    3640  non-USA            4   \n",
       "\n",
       "            Make  \n",
       "0  Acura Integra  \n",
       "1   Acura Legend  \n",
       "2        Audi 90  \n",
       "3       Audi 100  \n",
       "4       BMW 535i  \n",
       "\n",
       "[5 rows x 28 columns]"
      ]
     },
     "execution_count": 4,
     "metadata": {},
     "output_type": "execute_result"
    }
   ],
   "source": [
    "# 데이터프레임 불러오기\n",
    "car93 = pd.read_csv(\"../data/연습문제/Cars93.csv\")\n",
    "car93.head()"
   ]
  },
  {
   "cell_type": "code",
   "execution_count": 6,
   "id": "fd8954b3-a2f1-439e-912b-1e09732b68b8",
   "metadata": {
    "tags": []
   },
   "outputs": [
    {
     "data": {
      "text/plain": [
       "Index(['Manufacturer', 'Model', 'Type', 'Min_Price', 'Price', 'Max_Price',\n",
       "       'MPG_city', 'MPG_highway', 'AirBags', 'DriveTrain', 'Cylinders',\n",
       "       'EngineSize', 'Horsepower', 'RPM', 'Rev_per_mile', 'Man_trans_avail',\n",
       "       'Fuel_tank_capacity', 'Passengers', 'Length', 'Wheelbase', 'Width',\n",
       "       'Turn_circle', 'Rear_seat_room', 'Luggage_room', 'Weight', 'Origin',\n",
       "       'Unnamed: 26', 'Make'],\n",
       "      dtype='object')"
      ]
     },
     "execution_count": 6,
     "metadata": {},
     "output_type": "execute_result"
    }
   ],
   "source": [
    "# 컬럼 값 확인\n",
    "car93.columns"
   ]
  },
  {
   "cell_type": "code",
   "execution_count": 8,
   "id": "e0113b1f-2414-46ef-aae1-2f164f80b811",
   "metadata": {
    "tags": []
   },
   "outputs": [
    {
     "name": "stdout",
     "output_type": "stream",
     "text": [
      "<class 'pandas.core.frame.DataFrame'>\n",
      "RangeIndex: 93 entries, 0 to 92\n",
      "Data columns (total 28 columns):\n",
      " #   Column              Non-Null Count  Dtype  \n",
      "---  ------              --------------  -----  \n",
      " 0   Manufacturer        93 non-null     object \n",
      " 1   Model               93 non-null     object \n",
      " 2   Type                93 non-null     object \n",
      " 3   Min_Price           93 non-null     float64\n",
      " 4   Price               84 non-null     float64\n",
      " 5   Max_Price           93 non-null     float64\n",
      " 6   MPG_city            93 non-null     int64  \n",
      " 7   MPG_highway         93 non-null     int64  \n",
      " 8   AirBags             59 non-null     object \n",
      " 9   DriveTrain          93 non-null     object \n",
      " 10  Cylinders           93 non-null     object \n",
      " 11  EngineSize          93 non-null     float64\n",
      " 12  Horsepower          93 non-null     int64  \n",
      " 13  RPM                 89 non-null     float64\n",
      " 14  Rev_per_mile        93 non-null     int64  \n",
      " 15  Man_trans_avail     93 non-null     object \n",
      " 16  Fuel_tank_capacity  93 non-null     float64\n",
      " 17  Passengers          93 non-null     int64  \n",
      " 18  Length              93 non-null     int64  \n",
      " 19  Wheelbase           93 non-null     int64  \n",
      " 20  Width               93 non-null     int64  \n",
      " 21  Turn_circle         80 non-null     float64\n",
      " 22  Rear_seat_room      91 non-null     float64\n",
      " 23  Luggage_room        82 non-null     float64\n",
      " 24  Weight              93 non-null     int64  \n",
      " 25  Origin              93 non-null     object \n",
      " 26  Unnamed: 26         93 non-null     int64  \n",
      " 27  Make                93 non-null     object \n",
      "dtypes: float64(9), int64(10), object(9)\n",
      "memory usage: 20.5+ KB\n"
     ]
    }
   ],
   "source": [
    "car93.info()"
   ]
  },
  {
   "cell_type": "code",
   "execution_count": 10,
   "id": "8d0445bd-9c97-4382-bc03-be68ae8b29e7",
   "metadata": {
    "tags": []
   },
   "outputs": [
    {
     "data": {
      "text/plain": [
       "0    102\n",
       "1    115\n",
       "2    102\n",
       "3    106\n",
       "4    109\n",
       "Name: Wheelbase, dtype: int64"
      ]
     },
     "execution_count": 10,
     "metadata": {},
     "output_type": "execute_result"
    }
   ],
   "source": [
    "# Wheelbase 칼럼만 따로 저장\n",
    "wheelbase = car93['Wheelbase']\n",
    "wheelbase.head()"
   ]
  },
  {
   "cell_type": "code",
   "execution_count": 11,
   "id": "dfdfbae1-2096-4602-acd7-3a7883566edd",
   "metadata": {
    "tags": []
   },
   "outputs": [
    {
     "data": {
      "text/plain": [
       "103.98924731182795"
      ]
     },
     "execution_count": 11,
     "metadata": {},
     "output_type": "execute_result"
    }
   ],
   "source": [
    "# wheelbase의 평균\n",
    "wheelbase_avg = wheelbase.mean()\n",
    "wheelbase_avg"
   ]
  },
  {
   "cell_type": "code",
   "execution_count": 12,
   "id": "88fa03e2-46de-422e-b752-44ec00bb29f5",
   "metadata": {
    "tags": []
   },
   "outputs": [
    {
     "data": {
      "text/plain": [
       "7.389026269401885"
      ]
     },
     "execution_count": 12,
     "metadata": {},
     "output_type": "execute_result"
    }
   ],
   "source": [
    "# wheelbase의 표준편차\n",
    "wheelbase_std = wheelbase.std()\n",
    "wheelbase_std"
   ]
  },
  {
   "cell_type": "code",
   "execution_count": 18,
   "id": "a8710c84-8f14-4deb-8901-80b36a88e616",
   "metadata": {
    "tags": []
   },
   "outputs": [],
   "source": [
    "# 평균에서 표준편차의 1.5배 더하거나 빼기\n",
    "# == 구간의 하한(lower)와 상한(upper)\n",
    "lower1 = wheelbase_avg - wheelbase_std * 1.5\n",
    "upper1 = wheelbase_avg + wheelbase_std * 1.5"
   ]
  },
  {
   "cell_type": "code",
   "execution_count": 19,
   "id": "b00d7fb3-51df-4b6d-a19f-84e654fda77b",
   "metadata": {
    "tags": []
   },
   "outputs": [
    {
     "data": {
      "text/plain": [
       "103.69411764705882"
      ]
     },
     "execution_count": 19,
     "metadata": {},
     "output_type": "execute_result"
    }
   ],
   "source": [
    "# 구간 내 데이터들의 평균\n",
    "avg1 = wheelbase[ (wheelbase > lower1) & (wheelbase < upper1) ].mean()\n",
    "avg1"
   ]
  },
  {
   "cell_type": "code",
   "execution_count": 20,
   "id": "9bd26a18-e63c-4cd4-a582-e942d825ef52",
   "metadata": {
    "tags": []
   },
   "outputs": [
    {
     "data": {
      "text/plain": [
       "0.29512966476913505"
      ]
     },
     "execution_count": 20,
     "metadata": {},
     "output_type": "execute_result"
    }
   ],
   "source": [
    "# 원래의 데이터 평균에서 빼기\n",
    "case1 = wheelbase_avg - avg1\n",
    "case1"
   ]
  },
  {
   "cell_type": "code",
   "execution_count": 21,
   "id": "0cc5c045-e888-458e-9b7b-e1093e62ced4",
   "metadata": {
    "tags": []
   },
   "outputs": [
    {
     "data": {
      "text/plain": [
       "0.17813620071683545"
      ]
     },
     "execution_count": 21,
     "metadata": {},
     "output_type": "execute_result"
    }
   ],
   "source": [
    "# 같은 방법으로 2배인 경우 실행\n",
    "lower2 = wheelbase_avg - wheelbase_std * 2\n",
    "upper2 = wheelbase_avg + wheelbase_std * 2\n",
    "\n",
    "avg2 = wheelbase[ (wheelbase > lower2) & (wheelbase < upper2) ].mean()\n",
    "\n",
    "case2 = wheelbase_avg - avg2\n",
    "case2"
   ]
  },
  {
   "cell_type": "code",
   "execution_count": 22,
   "id": "edddacc5-5320-4ef4-927d-0d708a57ef4c",
   "metadata": {
    "tags": []
   },
   "outputs": [
    {
     "data": {
      "text/plain": [
       "0.011225333805981563"
      ]
     },
     "execution_count": 22,
     "metadata": {},
     "output_type": "execute_result"
    }
   ],
   "source": [
    "# 같은 방법으로 2.5배인 경우 실행\n",
    "lower3 = wheelbase_avg - wheelbase_std * 2.5\n",
    "upper3 = wheelbase_avg + wheelbase_std * 2.5\n",
    "\n",
    "avg3 = wheelbase[ (wheelbase > lower3) & (wheelbase < upper3) ].mean()\n",
    "\n",
    "case3 = wheelbase_avg - avg3\n",
    "case3"
   ]
  },
  {
   "cell_type": "code",
   "execution_count": 27,
   "id": "688e495e-a045-497e-960a-5c845cd90c5e",
   "metadata": {
    "tags": []
   },
   "outputs": [
    {
     "data": {
      "text/plain": [
       "0.4845"
      ]
     },
     "execution_count": 27,
     "metadata": {},
     "output_type": "execute_result"
    }
   ],
   "source": [
    "# 차이들의 합 (소수 다섯 째 자리에서 반올림 -> 4자리까지)\n",
    "total = round(case1 + case2 + case3, 4)\n",
    "total"
   ]
  },
  {
   "cell_type": "code",
   "execution_count": null,
   "id": "fbee8961-52a9-44b0-baf3-c56e38a797a7",
   "metadata": {},
   "outputs": [],
   "source": []
  },
  {
   "cell_type": "markdown",
   "id": "a52ac903-6b51-4290-8d25-e88349784bbd",
   "metadata": {},
   "source": [
    "## 02."
   ]
  },
  {
   "cell_type": "code",
   "execution_count": 32,
   "id": "a2a4d531-3383-4b46-98fa-fe8cf657a85e",
   "metadata": {
    "tags": []
   },
   "outputs": [],
   "source": [
    "import pandas as pd\n",
    "import numpy as np"
   ]
  },
  {
   "cell_type": "code",
   "execution_count": 33,
   "id": "38b0a23c-1331-4259-ba36-f830c9af5290",
   "metadata": {
    "tags": []
   },
   "outputs": [
    {
     "data": {
      "text/html": [
       "<div>\n",
       "<style scoped>\n",
       "    .dataframe tbody tr th:only-of-type {\n",
       "        vertical-align: middle;\n",
       "    }\n",
       "\n",
       "    .dataframe tbody tr th {\n",
       "        vertical-align: top;\n",
       "    }\n",
       "\n",
       "    .dataframe thead th {\n",
       "        text-align: right;\n",
       "    }\n",
       "</style>\n",
       "<table border=\"1\" class=\"dataframe\">\n",
       "  <thead>\n",
       "    <tr style=\"text-align: right;\">\n",
       "      <th></th>\n",
       "      <th>Manufacturer</th>\n",
       "      <th>Model</th>\n",
       "      <th>Type</th>\n",
       "      <th>Min_Price</th>\n",
       "      <th>Price</th>\n",
       "      <th>Max_Price</th>\n",
       "      <th>MPG_city</th>\n",
       "      <th>MPG_highway</th>\n",
       "      <th>AirBags</th>\n",
       "      <th>DriveTrain</th>\n",
       "      <th>...</th>\n",
       "      <th>Length</th>\n",
       "      <th>Wheelbase</th>\n",
       "      <th>Width</th>\n",
       "      <th>Turn_circle</th>\n",
       "      <th>Rear_seat_room</th>\n",
       "      <th>Luggage_room</th>\n",
       "      <th>Weight</th>\n",
       "      <th>Origin</th>\n",
       "      <th>Unnamed: 26</th>\n",
       "      <th>Make</th>\n",
       "    </tr>\n",
       "  </thead>\n",
       "  <tbody>\n",
       "    <tr>\n",
       "      <th>0</th>\n",
       "      <td>Acura</td>\n",
       "      <td>Integra</td>\n",
       "      <td>Small</td>\n",
       "      <td>12.9</td>\n",
       "      <td>15.9</td>\n",
       "      <td>18.8</td>\n",
       "      <td>25</td>\n",
       "      <td>31</td>\n",
       "      <td>NaN</td>\n",
       "      <td>Front</td>\n",
       "      <td>...</td>\n",
       "      <td>177</td>\n",
       "      <td>102</td>\n",
       "      <td>68</td>\n",
       "      <td>37.0</td>\n",
       "      <td>26.5</td>\n",
       "      <td>11.0</td>\n",
       "      <td>2705</td>\n",
       "      <td>non-USA</td>\n",
       "      <td>0</td>\n",
       "      <td>Acura Integra</td>\n",
       "    </tr>\n",
       "    <tr>\n",
       "      <th>1</th>\n",
       "      <td>Acura</td>\n",
       "      <td>Legend</td>\n",
       "      <td>Midsize</td>\n",
       "      <td>29.2</td>\n",
       "      <td>33.9</td>\n",
       "      <td>38.7</td>\n",
       "      <td>18</td>\n",
       "      <td>25</td>\n",
       "      <td>Driver &amp; Passenger</td>\n",
       "      <td>Front</td>\n",
       "      <td>...</td>\n",
       "      <td>195</td>\n",
       "      <td>115</td>\n",
       "      <td>71</td>\n",
       "      <td>38.0</td>\n",
       "      <td>30.0</td>\n",
       "      <td>15.0</td>\n",
       "      <td>3560</td>\n",
       "      <td>non-USA</td>\n",
       "      <td>1</td>\n",
       "      <td>Acura Legend</td>\n",
       "    </tr>\n",
       "    <tr>\n",
       "      <th>2</th>\n",
       "      <td>Audi</td>\n",
       "      <td>90</td>\n",
       "      <td>Compact</td>\n",
       "      <td>25.9</td>\n",
       "      <td>29.1</td>\n",
       "      <td>32.3</td>\n",
       "      <td>20</td>\n",
       "      <td>26</td>\n",
       "      <td>Driver only</td>\n",
       "      <td>Front</td>\n",
       "      <td>...</td>\n",
       "      <td>180</td>\n",
       "      <td>102</td>\n",
       "      <td>67</td>\n",
       "      <td>37.0</td>\n",
       "      <td>28.0</td>\n",
       "      <td>14.0</td>\n",
       "      <td>3375</td>\n",
       "      <td>non-USA</td>\n",
       "      <td>2</td>\n",
       "      <td>Audi 90</td>\n",
       "    </tr>\n",
       "    <tr>\n",
       "      <th>3</th>\n",
       "      <td>Audi</td>\n",
       "      <td>100</td>\n",
       "      <td>Midsize</td>\n",
       "      <td>30.8</td>\n",
       "      <td>NaN</td>\n",
       "      <td>44.6</td>\n",
       "      <td>19</td>\n",
       "      <td>26</td>\n",
       "      <td>Driver &amp; Passenger</td>\n",
       "      <td>Front</td>\n",
       "      <td>...</td>\n",
       "      <td>193</td>\n",
       "      <td>106</td>\n",
       "      <td>70</td>\n",
       "      <td>NaN</td>\n",
       "      <td>31.0</td>\n",
       "      <td>17.0</td>\n",
       "      <td>3405</td>\n",
       "      <td>non-USA</td>\n",
       "      <td>3</td>\n",
       "      <td>Audi 100</td>\n",
       "    </tr>\n",
       "    <tr>\n",
       "      <th>4</th>\n",
       "      <td>BMW</td>\n",
       "      <td>535i</td>\n",
       "      <td>Midsize</td>\n",
       "      <td>23.7</td>\n",
       "      <td>NaN</td>\n",
       "      <td>36.2</td>\n",
       "      <td>22</td>\n",
       "      <td>30</td>\n",
       "      <td>Driver only</td>\n",
       "      <td>Rear</td>\n",
       "      <td>...</td>\n",
       "      <td>186</td>\n",
       "      <td>109</td>\n",
       "      <td>69</td>\n",
       "      <td>NaN</td>\n",
       "      <td>27.0</td>\n",
       "      <td>13.0</td>\n",
       "      <td>3640</td>\n",
       "      <td>non-USA</td>\n",
       "      <td>4</td>\n",
       "      <td>BMW 535i</td>\n",
       "    </tr>\n",
       "  </tbody>\n",
       "</table>\n",
       "<p>5 rows × 28 columns</p>\n",
       "</div>"
      ],
      "text/plain": [
       "  Manufacturer    Model     Type  Min_Price  Price  Max_Price  MPG_city  \\\n",
       "0        Acura  Integra    Small       12.9   15.9       18.8        25   \n",
       "1        Acura   Legend  Midsize       29.2   33.9       38.7        18   \n",
       "2         Audi       90  Compact       25.9   29.1       32.3        20   \n",
       "3         Audi      100  Midsize       30.8    NaN       44.6        19   \n",
       "4          BMW     535i  Midsize       23.7    NaN       36.2        22   \n",
       "\n",
       "   MPG_highway             AirBags DriveTrain  ... Length  Wheelbase  Width  \\\n",
       "0           31                 NaN      Front  ...    177        102     68   \n",
       "1           25  Driver & Passenger      Front  ...    195        115     71   \n",
       "2           26         Driver only      Front  ...    180        102     67   \n",
       "3           26  Driver & Passenger      Front  ...    193        106     70   \n",
       "4           30         Driver only       Rear  ...    186        109     69   \n",
       "\n",
       "   Turn_circle  Rear_seat_room Luggage_room  Weight   Origin  Unnamed: 26  \\\n",
       "0         37.0            26.5         11.0    2705  non-USA            0   \n",
       "1         38.0            30.0         15.0    3560  non-USA            1   \n",
       "2         37.0            28.0         14.0    3375  non-USA            2   \n",
       "3          NaN            31.0         17.0    3405  non-USA            3   \n",
       "4          NaN            27.0         13.0    3640  non-USA            4   \n",
       "\n",
       "            Make  \n",
       "0  Acura Integra  \n",
       "1   Acura Legend  \n",
       "2        Audi 90  \n",
       "3       Audi 100  \n",
       "4       BMW 535i  \n",
       "\n",
       "[5 rows x 28 columns]"
      ]
     },
     "execution_count": 33,
     "metadata": {},
     "output_type": "execute_result"
    }
   ],
   "source": [
    "car93 = pd.read_csv(\"../data/연습문제/Cars93.csv\")\n",
    "car93.head()"
   ]
  },
  {
   "cell_type": "code",
   "execution_count": 40,
   "id": "c25a4239-c8fb-47ee-b079-1bd5461cdec9",
   "metadata": {
    "tags": []
   },
   "outputs": [
    {
     "data": {
      "text/plain": [
       "0     32.5\n",
       "1     75.5\n",
       "2     40.5\n",
       "3     71.5\n",
       "4     54.0\n",
       "      ... \n",
       "88    56.0\n",
       "89    40.5\n",
       "90     4.0\n",
       "91    65.0\n",
       "92    50.0\n",
       "Name: Length, Length: 93, dtype: float64"
      ]
     },
     "execution_count": 40,
     "metadata": {},
     "output_type": "execute_result"
    }
   ],
   "source": [
    "# Length의 순위\n",
    "rank = car93['Length'].rank(method='average')  # '단, 동점은 동일한 순위를 부여하되 평균내어 등수를 산정하며 최솟값을 1위로 함\n",
    "rank"
   ]
  },
  {
   "cell_type": "code",
   "execution_count": 42,
   "id": "ea2830f3-3b22-423d-9664-5f7e64fd7334",
   "metadata": {
    "tags": []
   },
   "outputs": [
    {
     "data": {
      "text/plain": [
       "22    174\n",
       "23    172\n",
       "25    175\n",
       "28    174\n",
       "30    141\n",
       "31    171\n",
       "35    176\n",
       "38    151\n",
       "39    164\n",
       "40    175\n",
       "41    173\n",
       "43    168\n",
       "44    172\n",
       "45    166\n",
       "52    164\n",
       "53    172\n",
       "56    169\n",
       "57    175\n",
       "59    166\n",
       "61    172\n",
       "63    170\n",
       "71    173\n",
       "78    176\n",
       "79    146\n",
       "80    175\n",
       "82    161\n",
       "83    162\n",
       "84    174\n",
       "87    163\n",
       "90    159\n",
       "Name: Length, dtype: int64"
      ]
     },
     "execution_count": 42,
     "metadata": {},
     "output_type": "execute_result"
    }
   ],
   "source": [
    "# 1위부터 30위까지만 추출\n",
    "rank30 = car93['Length'][rank <= 30]\n",
    "rank30"
   ]
  },
  {
   "cell_type": "code",
   "execution_count": 43,
   "id": "45f6920d-da62-4f66-8920-b50bc5f997ac",
   "metadata": {
    "tags": []
   },
   "outputs": [
    {
     "data": {
      "text/plain": [
       "8.884249268085135"
      ]
     },
     "execution_count": 43,
     "metadata": {},
     "output_type": "execute_result"
    }
   ],
   "source": [
    "# rank30의 표준편차\n",
    "rank30_std = rank30.std()\n",
    "rank30_std"
   ]
  },
  {
   "cell_type": "code",
   "execution_count": 45,
   "id": "637c3f26-5e11-47a4-81f7-b0487a71ec09",
   "metadata": {
    "tags": []
   },
   "outputs": [
    {
     "data": {
      "text/plain": [
       "8.884"
      ]
     },
     "execution_count": 45,
     "metadata": {},
     "output_type": "execute_result"
    }
   ],
   "source": [
    "# 소수 셋째점 자리까지 반올림\n",
    "result = round(rank30_std, 3)\n",
    "result"
   ]
  },
  {
   "cell_type": "code",
   "execution_count": null,
   "id": "776116b6-382b-4828-bc54-6a64456f12c6",
   "metadata": {},
   "outputs": [],
   "source": []
  },
  {
   "cell_type": "markdown",
   "id": "f5b2876c-efd3-4187-a55a-29bd2dc7ac52",
   "metadata": {},
   "source": [
    "## 03."
   ]
  },
  {
   "cell_type": "code",
   "execution_count": 3,
   "id": "aa84f2a1-78a8-400a-befd-149e7cfa5911",
   "metadata": {
    "tags": []
   },
   "outputs": [],
   "source": [
    "import pandas as pd"
   ]
  },
  {
   "cell_type": "code",
   "execution_count": 4,
   "id": "13b7f497-d157-4ca0-9955-d00addbdbed9",
   "metadata": {
    "tags": []
   },
   "outputs": [
    {
     "data": {
      "text/html": [
       "<div>\n",
       "<style scoped>\n",
       "    .dataframe tbody tr th:only-of-type {\n",
       "        vertical-align: middle;\n",
       "    }\n",
       "\n",
       "    .dataframe tbody tr th {\n",
       "        vertical-align: top;\n",
       "    }\n",
       "\n",
       "    .dataframe thead th {\n",
       "        text-align: right;\n",
       "    }\n",
       "</style>\n",
       "<table border=\"1\" class=\"dataframe\">\n",
       "  <thead>\n",
       "    <tr style=\"text-align: right;\">\n",
       "      <th></th>\n",
       "      <th>Manufacturer</th>\n",
       "      <th>Model</th>\n",
       "      <th>Type</th>\n",
       "      <th>Min_Price</th>\n",
       "      <th>Price</th>\n",
       "      <th>Max_Price</th>\n",
       "      <th>MPG_city</th>\n",
       "      <th>MPG_highway</th>\n",
       "      <th>AirBags</th>\n",
       "      <th>DriveTrain</th>\n",
       "      <th>...</th>\n",
       "      <th>Length</th>\n",
       "      <th>Wheelbase</th>\n",
       "      <th>Width</th>\n",
       "      <th>Turn_circle</th>\n",
       "      <th>Rear_seat_room</th>\n",
       "      <th>Luggage_room</th>\n",
       "      <th>Weight</th>\n",
       "      <th>Origin</th>\n",
       "      <th>Unnamed: 26</th>\n",
       "      <th>Make</th>\n",
       "    </tr>\n",
       "  </thead>\n",
       "  <tbody>\n",
       "    <tr>\n",
       "      <th>0</th>\n",
       "      <td>Acura</td>\n",
       "      <td>Integra</td>\n",
       "      <td>Small</td>\n",
       "      <td>12.9</td>\n",
       "      <td>15.9</td>\n",
       "      <td>18.8</td>\n",
       "      <td>25</td>\n",
       "      <td>31</td>\n",
       "      <td>NaN</td>\n",
       "      <td>Front</td>\n",
       "      <td>...</td>\n",
       "      <td>177</td>\n",
       "      <td>102</td>\n",
       "      <td>68</td>\n",
       "      <td>37.0</td>\n",
       "      <td>26.5</td>\n",
       "      <td>11.0</td>\n",
       "      <td>2705</td>\n",
       "      <td>non-USA</td>\n",
       "      <td>0</td>\n",
       "      <td>Acura Integra</td>\n",
       "    </tr>\n",
       "    <tr>\n",
       "      <th>1</th>\n",
       "      <td>Acura</td>\n",
       "      <td>Legend</td>\n",
       "      <td>Midsize</td>\n",
       "      <td>29.2</td>\n",
       "      <td>33.9</td>\n",
       "      <td>38.7</td>\n",
       "      <td>18</td>\n",
       "      <td>25</td>\n",
       "      <td>Driver &amp; Passenger</td>\n",
       "      <td>Front</td>\n",
       "      <td>...</td>\n",
       "      <td>195</td>\n",
       "      <td>115</td>\n",
       "      <td>71</td>\n",
       "      <td>38.0</td>\n",
       "      <td>30.0</td>\n",
       "      <td>15.0</td>\n",
       "      <td>3560</td>\n",
       "      <td>non-USA</td>\n",
       "      <td>1</td>\n",
       "      <td>Acura Legend</td>\n",
       "    </tr>\n",
       "    <tr>\n",
       "      <th>2</th>\n",
       "      <td>Audi</td>\n",
       "      <td>90</td>\n",
       "      <td>Compact</td>\n",
       "      <td>25.9</td>\n",
       "      <td>29.1</td>\n",
       "      <td>32.3</td>\n",
       "      <td>20</td>\n",
       "      <td>26</td>\n",
       "      <td>Driver only</td>\n",
       "      <td>Front</td>\n",
       "      <td>...</td>\n",
       "      <td>180</td>\n",
       "      <td>102</td>\n",
       "      <td>67</td>\n",
       "      <td>37.0</td>\n",
       "      <td>28.0</td>\n",
       "      <td>14.0</td>\n",
       "      <td>3375</td>\n",
       "      <td>non-USA</td>\n",
       "      <td>2</td>\n",
       "      <td>Audi 90</td>\n",
       "    </tr>\n",
       "    <tr>\n",
       "      <th>3</th>\n",
       "      <td>Audi</td>\n",
       "      <td>100</td>\n",
       "      <td>Midsize</td>\n",
       "      <td>30.8</td>\n",
       "      <td>NaN</td>\n",
       "      <td>44.6</td>\n",
       "      <td>19</td>\n",
       "      <td>26</td>\n",
       "      <td>Driver &amp; Passenger</td>\n",
       "      <td>Front</td>\n",
       "      <td>...</td>\n",
       "      <td>193</td>\n",
       "      <td>106</td>\n",
       "      <td>70</td>\n",
       "      <td>NaN</td>\n",
       "      <td>31.0</td>\n",
       "      <td>17.0</td>\n",
       "      <td>3405</td>\n",
       "      <td>non-USA</td>\n",
       "      <td>3</td>\n",
       "      <td>Audi 100</td>\n",
       "    </tr>\n",
       "    <tr>\n",
       "      <th>4</th>\n",
       "      <td>BMW</td>\n",
       "      <td>535i</td>\n",
       "      <td>Midsize</td>\n",
       "      <td>23.7</td>\n",
       "      <td>NaN</td>\n",
       "      <td>36.2</td>\n",
       "      <td>22</td>\n",
       "      <td>30</td>\n",
       "      <td>Driver only</td>\n",
       "      <td>Rear</td>\n",
       "      <td>...</td>\n",
       "      <td>186</td>\n",
       "      <td>109</td>\n",
       "      <td>69</td>\n",
       "      <td>NaN</td>\n",
       "      <td>27.0</td>\n",
       "      <td>13.0</td>\n",
       "      <td>3640</td>\n",
       "      <td>non-USA</td>\n",
       "      <td>4</td>\n",
       "      <td>BMW 535i</td>\n",
       "    </tr>\n",
       "  </tbody>\n",
       "</table>\n",
       "<p>5 rows × 28 columns</p>\n",
       "</div>"
      ],
      "text/plain": [
       "  Manufacturer    Model     Type  Min_Price  Price  Max_Price  MPG_city  \\\n",
       "0        Acura  Integra    Small       12.9   15.9       18.8        25   \n",
       "1        Acura   Legend  Midsize       29.2   33.9       38.7        18   \n",
       "2         Audi       90  Compact       25.9   29.1       32.3        20   \n",
       "3         Audi      100  Midsize       30.8    NaN       44.6        19   \n",
       "4          BMW     535i  Midsize       23.7    NaN       36.2        22   \n",
       "\n",
       "   MPG_highway             AirBags DriveTrain  ... Length  Wheelbase  Width  \\\n",
       "0           31                 NaN      Front  ...    177        102     68   \n",
       "1           25  Driver & Passenger      Front  ...    195        115     71   \n",
       "2           26         Driver only      Front  ...    180        102     67   \n",
       "3           26  Driver & Passenger      Front  ...    193        106     70   \n",
       "4           30         Driver only       Rear  ...    186        109     69   \n",
       "\n",
       "   Turn_circle  Rear_seat_room Luggage_room  Weight   Origin  Unnamed: 26  \\\n",
       "0         37.0            26.5         11.0    2705  non-USA            0   \n",
       "1         38.0            30.0         15.0    3560  non-USA            1   \n",
       "2         37.0            28.0         14.0    3375  non-USA            2   \n",
       "3          NaN            31.0         17.0    3405  non-USA            3   \n",
       "4          NaN            27.0         13.0    3640  non-USA            4   \n",
       "\n",
       "            Make  \n",
       "0  Acura Integra  \n",
       "1   Acura Legend  \n",
       "2        Audi 90  \n",
       "3       Audi 100  \n",
       "4       BMW 535i  \n",
       "\n",
       "[5 rows x 28 columns]"
      ]
     },
     "execution_count": 4,
     "metadata": {},
     "output_type": "execute_result"
    }
   ],
   "source": [
    "df3 = pd.read_csv(\"../data/연습문제/Cars93.csv\")\n",
    "df3.head()"
   ]
  },
  {
   "cell_type": "code",
   "execution_count": 5,
   "id": "b0adcb2b-7ac8-4ff7-a32e-adb08b8c4dbe",
   "metadata": {
    "tags": []
   },
   "outputs": [
    {
     "data": {
      "text/plain": [
       "Index(['Manufacturer', 'Model', 'Type', 'Min_Price', 'Price', 'Max_Price',\n",
       "       'MPG_city', 'MPG_highway', 'AirBags', 'DriveTrain', 'Cylinders',\n",
       "       'EngineSize', 'Horsepower', 'RPM', 'Rev_per_mile', 'Man_trans_avail',\n",
       "       'Fuel_tank_capacity', 'Passengers', 'Length', 'Wheelbase', 'Width',\n",
       "       'Turn_circle', 'Rear_seat_room', 'Luggage_room', 'Weight', 'Origin',\n",
       "       'Unnamed: 26', 'Make'],\n",
       "      dtype='object')"
      ]
     },
     "execution_count": 5,
     "metadata": {},
     "output_type": "execute_result"
    }
   ],
   "source": [
    "df3.columns"
   ]
  },
  {
   "cell_type": "code",
   "execution_count": 6,
   "id": "fe22f621-e99b-4071-a2d9-482f0ee47340",
   "metadata": {
    "tags": []
   },
   "outputs": [
    {
     "data": {
      "text/plain": [
       "0    80.0\n",
       "1    50.4\n",
       "2    44.6\n",
       "3    42.7\n",
       "4    41.5\n",
       "Name: Max_Price, dtype: float64"
      ]
     },
     "execution_count": 6,
     "metadata": {},
     "output_type": "execute_result"
    }
   ],
   "source": [
    "# Max_Price를 내림차순으로 정렬\n",
    "maxPrice = df3['Max_Price'].sort_values(ascending=False, ignore_index=True)\n",
    "maxPrice.head()"
   ]
  },
  {
   "cell_type": "code",
   "execution_count": 19,
   "id": "28367a9e-fd18-4418-a7d2-999a4d8a9a0a",
   "metadata": {
    "tags": []
   },
   "outputs": [
    {
     "data": {
      "text/plain": [
       "0    6.7\n",
       "1    6.8\n",
       "2    6.9\n",
       "3    7.3\n",
       "4    7.3\n",
       "Name: Min_Price, dtype: float64"
      ]
     },
     "execution_count": 19,
     "metadata": {},
     "output_type": "execute_result"
    }
   ],
   "source": [
    "minPrice = df3['Min_Price'].sort_values(ignore_index=True)  # 오름차순은 ascending = True (default)\n",
    "minPrice.head()"
   ]
  },
  {
   "cell_type": "code",
   "execution_count": 21,
   "id": "b52a9d97-976d-4b7b-9b1a-e235699ff2ae",
   "metadata": {
    "tags": []
   },
   "outputs": [
    {
     "data": {
      "text/plain": [
       "0     73.3\n",
       "1     43.6\n",
       "2     37.7\n",
       "3     35.4\n",
       "4     34.2\n",
       "      ... \n",
       "88   -25.1\n",
       "89   -25.2\n",
       "90   -28.3\n",
       "91   -34.7\n",
       "92   -37.5\n",
       "Length: 93, dtype: float64"
      ]
     },
     "execution_count": 21,
     "metadata": {},
     "output_type": "execute_result"
    }
   ],
   "source": [
    "# 차이 계산\n",
    "# 메소드 sort_values()에 ignore_index = True를 하지 않은 경우 정렬과 무관하게 정렬 전의 인덱스가 같은 값들끼리 차이를 계산하게 됨\n",
    "diff = maxPrice - minPrice\n",
    "diff"
   ]
  },
  {
   "cell_type": "code",
   "execution_count": 22,
   "id": "d337313b-681b-4ed7-9767-0431953b1c8e",
   "metadata": {
    "tags": []
   },
   "outputs": [
    {
     "data": {
      "text/plain": [
       "18.584087043963095"
      ]
     },
     "execution_count": 22,
     "metadata": {},
     "output_type": "execute_result"
    }
   ],
   "source": [
    "# 차이에 대한 표준편차\n",
    "diff_sd = diff.std()\n",
    "diff_sd"
   ]
  },
  {
   "cell_type": "code",
   "execution_count": 23,
   "id": "f05a71d5-4256-402a-bd0d-d93aab3a6095",
   "metadata": {
    "tags": []
   },
   "outputs": [
    {
     "data": {
      "text/plain": [
       "18.584"
      ]
     },
     "execution_count": 23,
     "metadata": {},
     "output_type": "execute_result"
    }
   ],
   "source": [
    "# 결과를 result 변수에 할당\n",
    "result = round(diff_sd, 3)\n",
    "result"
   ]
  },
  {
   "cell_type": "code",
   "execution_count": null,
   "id": "f643e5e4-ade3-4424-9abb-891199f19450",
   "metadata": {},
   "outputs": [],
   "source": []
  },
  {
   "cell_type": "markdown",
   "id": "de9b9340-dd5d-49c4-a992-f99c81a10d5f",
   "metadata": {},
   "source": [
    "## 04."
   ]
  },
  {
   "cell_type": "code",
   "execution_count": 24,
   "id": "74edfc65-88a0-49aa-8f2f-7aa3d6c42690",
   "metadata": {
    "tags": []
   },
   "outputs": [],
   "source": [
    "import pandas as pd"
   ]
  },
  {
   "cell_type": "code",
   "execution_count": 26,
   "id": "64f98ee4-2b15-42a9-8d1d-49dc37a9317d",
   "metadata": {
    "tags": []
   },
   "outputs": [
    {
     "data": {
      "text/html": [
       "<div>\n",
       "<style scoped>\n",
       "    .dataframe tbody tr th:only-of-type {\n",
       "        vertical-align: middle;\n",
       "    }\n",
       "\n",
       "    .dataframe tbody tr th {\n",
       "        vertical-align: top;\n",
       "    }\n",
       "\n",
       "    .dataframe thead th {\n",
       "        text-align: right;\n",
       "    }\n",
       "</style>\n",
       "<table border=\"1\" class=\"dataframe\">\n",
       "  <thead>\n",
       "    <tr style=\"text-align: right;\">\n",
       "      <th></th>\n",
       "      <th>Manufacturer</th>\n",
       "      <th>Model</th>\n",
       "      <th>Type</th>\n",
       "      <th>Min_Price</th>\n",
       "      <th>Price</th>\n",
       "      <th>Max_Price</th>\n",
       "      <th>MPG_city</th>\n",
       "      <th>MPG_highway</th>\n",
       "      <th>AirBags</th>\n",
       "      <th>DriveTrain</th>\n",
       "      <th>...</th>\n",
       "      <th>Length</th>\n",
       "      <th>Wheelbase</th>\n",
       "      <th>Width</th>\n",
       "      <th>Turn_circle</th>\n",
       "      <th>Rear_seat_room</th>\n",
       "      <th>Luggage_room</th>\n",
       "      <th>Weight</th>\n",
       "      <th>Origin</th>\n",
       "      <th>Unnamed: 26</th>\n",
       "      <th>Make</th>\n",
       "    </tr>\n",
       "  </thead>\n",
       "  <tbody>\n",
       "    <tr>\n",
       "      <th>0</th>\n",
       "      <td>Acura</td>\n",
       "      <td>Integra</td>\n",
       "      <td>Small</td>\n",
       "      <td>12.9</td>\n",
       "      <td>15.9</td>\n",
       "      <td>18.8</td>\n",
       "      <td>25</td>\n",
       "      <td>31</td>\n",
       "      <td>NaN</td>\n",
       "      <td>Front</td>\n",
       "      <td>...</td>\n",
       "      <td>177</td>\n",
       "      <td>102</td>\n",
       "      <td>68</td>\n",
       "      <td>37.0</td>\n",
       "      <td>26.5</td>\n",
       "      <td>11.0</td>\n",
       "      <td>2705</td>\n",
       "      <td>non-USA</td>\n",
       "      <td>0</td>\n",
       "      <td>Acura Integra</td>\n",
       "    </tr>\n",
       "    <tr>\n",
       "      <th>1</th>\n",
       "      <td>Acura</td>\n",
       "      <td>Legend</td>\n",
       "      <td>Midsize</td>\n",
       "      <td>29.2</td>\n",
       "      <td>33.9</td>\n",
       "      <td>38.7</td>\n",
       "      <td>18</td>\n",
       "      <td>25</td>\n",
       "      <td>Driver &amp; Passenger</td>\n",
       "      <td>Front</td>\n",
       "      <td>...</td>\n",
       "      <td>195</td>\n",
       "      <td>115</td>\n",
       "      <td>71</td>\n",
       "      <td>38.0</td>\n",
       "      <td>30.0</td>\n",
       "      <td>15.0</td>\n",
       "      <td>3560</td>\n",
       "      <td>non-USA</td>\n",
       "      <td>1</td>\n",
       "      <td>Acura Legend</td>\n",
       "    </tr>\n",
       "    <tr>\n",
       "      <th>2</th>\n",
       "      <td>Audi</td>\n",
       "      <td>90</td>\n",
       "      <td>Compact</td>\n",
       "      <td>25.9</td>\n",
       "      <td>29.1</td>\n",
       "      <td>32.3</td>\n",
       "      <td>20</td>\n",
       "      <td>26</td>\n",
       "      <td>Driver only</td>\n",
       "      <td>Front</td>\n",
       "      <td>...</td>\n",
       "      <td>180</td>\n",
       "      <td>102</td>\n",
       "      <td>67</td>\n",
       "      <td>37.0</td>\n",
       "      <td>28.0</td>\n",
       "      <td>14.0</td>\n",
       "      <td>3375</td>\n",
       "      <td>non-USA</td>\n",
       "      <td>2</td>\n",
       "      <td>Audi 90</td>\n",
       "    </tr>\n",
       "    <tr>\n",
       "      <th>3</th>\n",
       "      <td>Audi</td>\n",
       "      <td>100</td>\n",
       "      <td>Midsize</td>\n",
       "      <td>30.8</td>\n",
       "      <td>NaN</td>\n",
       "      <td>44.6</td>\n",
       "      <td>19</td>\n",
       "      <td>26</td>\n",
       "      <td>Driver &amp; Passenger</td>\n",
       "      <td>Front</td>\n",
       "      <td>...</td>\n",
       "      <td>193</td>\n",
       "      <td>106</td>\n",
       "      <td>70</td>\n",
       "      <td>NaN</td>\n",
       "      <td>31.0</td>\n",
       "      <td>17.0</td>\n",
       "      <td>3405</td>\n",
       "      <td>non-USA</td>\n",
       "      <td>3</td>\n",
       "      <td>Audi 100</td>\n",
       "    </tr>\n",
       "    <tr>\n",
       "      <th>4</th>\n",
       "      <td>BMW</td>\n",
       "      <td>535i</td>\n",
       "      <td>Midsize</td>\n",
       "      <td>23.7</td>\n",
       "      <td>NaN</td>\n",
       "      <td>36.2</td>\n",
       "      <td>22</td>\n",
       "      <td>30</td>\n",
       "      <td>Driver only</td>\n",
       "      <td>Rear</td>\n",
       "      <td>...</td>\n",
       "      <td>186</td>\n",
       "      <td>109</td>\n",
       "      <td>69</td>\n",
       "      <td>NaN</td>\n",
       "      <td>27.0</td>\n",
       "      <td>13.0</td>\n",
       "      <td>3640</td>\n",
       "      <td>non-USA</td>\n",
       "      <td>4</td>\n",
       "      <td>BMW 535i</td>\n",
       "    </tr>\n",
       "  </tbody>\n",
       "</table>\n",
       "<p>5 rows × 28 columns</p>\n",
       "</div>"
      ],
      "text/plain": [
       "  Manufacturer    Model     Type  Min_Price  Price  Max_Price  MPG_city  \\\n",
       "0        Acura  Integra    Small       12.9   15.9       18.8        25   \n",
       "1        Acura   Legend  Midsize       29.2   33.9       38.7        18   \n",
       "2         Audi       90  Compact       25.9   29.1       32.3        20   \n",
       "3         Audi      100  Midsize       30.8    NaN       44.6        19   \n",
       "4          BMW     535i  Midsize       23.7    NaN       36.2        22   \n",
       "\n",
       "   MPG_highway             AirBags DriveTrain  ... Length  Wheelbase  Width  \\\n",
       "0           31                 NaN      Front  ...    177        102     68   \n",
       "1           25  Driver & Passenger      Front  ...    195        115     71   \n",
       "2           26         Driver only      Front  ...    180        102     67   \n",
       "3           26  Driver & Passenger      Front  ...    193        106     70   \n",
       "4           30         Driver only       Rear  ...    186        109     69   \n",
       "\n",
       "   Turn_circle  Rear_seat_room Luggage_room  Weight   Origin  Unnamed: 26  \\\n",
       "0         37.0            26.5         11.0    2705  non-USA            0   \n",
       "1         38.0            30.0         15.0    3560  non-USA            1   \n",
       "2         37.0            28.0         14.0    3375  non-USA            2   \n",
       "3          NaN            31.0         17.0    3405  non-USA            3   \n",
       "4          NaN            27.0         13.0    3640  non-USA            4   \n",
       "\n",
       "            Make  \n",
       "0  Acura Integra  \n",
       "1   Acura Legend  \n",
       "2        Audi 90  \n",
       "3       Audi 100  \n",
       "4       BMW 535i  \n",
       "\n",
       "[5 rows x 28 columns]"
      ]
     },
     "execution_count": 26,
     "metadata": {},
     "output_type": "execute_result"
    }
   ],
   "source": [
    "df4 = pd.read_csv(\"../data/연습문제/Cars93.csv\")\n",
    "df4.head()"
   ]
  },
  {
   "cell_type": "code",
   "execution_count": 27,
   "id": "64a2ea38-1faf-472b-be4f-54544c3006ae",
   "metadata": {
    "tags": []
   },
   "outputs": [
    {
     "data": {
      "text/plain": [
       "0     2705\n",
       "1     3560\n",
       "2     3375\n",
       "3     3405\n",
       "4     3640\n",
       "      ... \n",
       "88    3960\n",
       "89    2985\n",
       "90    2810\n",
       "91    2985\n",
       "92    3245\n",
       "Name: Weight, Length: 93, dtype: int64"
      ]
     },
     "execution_count": 27,
     "metadata": {},
     "output_type": "execute_result"
    }
   ],
   "source": [
    "# Weight 칼럼만 따로 저장\n",
    "weight = df4['Weight']\n",
    "weight"
   ]
  },
  {
   "cell_type": "code",
   "execution_count": 32,
   "id": "c8064c69-efdd-4237-a598-92ddc7fd2659",
   "metadata": {
    "tags": []
   },
   "outputs": [
    {
     "data": {
      "text/plain": [
       "0     0.375212\n",
       "1     0.536259\n",
       "2     0.501413\n",
       "3     0.507063\n",
       "4     0.551328\n",
       "        ...   \n",
       "88    0.611603\n",
       "89    0.427953\n",
       "90    0.394990\n",
       "91    0.427953\n",
       "92    0.476926\n",
       "Name: Weight, Length: 93, dtype: float64"
      ]
     },
     "execution_count": 32,
     "metadata": {},
     "output_type": "execute_result"
    }
   ],
   "source": [
    "# Min-Max 정규화\n",
    "weight_std = (weight - min(weight)) / (max(weight) - min(weight))\n",
    "weight_std"
   ]
  },
  {
   "cell_type": "code",
   "execution_count": 37,
   "id": "8e46e3b4-0e75-4a69-8814-46cb6fdb5785",
   "metadata": {
    "tags": []
   },
   "outputs": [
    {
     "data": {
      "text/plain": [
       "0.007551738240220801"
      ]
     },
     "execution_count": 37,
     "metadata": {},
     "output_type": "execute_result"
    }
   ],
   "source": [
    "# 0.5보다 작은 weight의 분산\n",
    "var_under = weight_std[weight_std < 0.5].var()\n",
    "var_under"
   ]
  },
  {
   "cell_type": "code",
   "execution_count": 38,
   "id": "dd1d2f4e-da8f-429e-bd38-aeaaff3b4172",
   "metadata": {
    "tags": []
   },
   "outputs": [
    {
     "data": {
      "text/plain": [
       "0.007002313404854487"
      ]
     },
     "execution_count": 38,
     "metadata": {},
     "output_type": "execute_result"
    }
   ],
   "source": [
    "# 0.5보다 큰 weight의 분산\n",
    "var_over = weight_std[weight_std > 0.5].var()\n",
    "var_over"
   ]
  },
  {
   "cell_type": "code",
   "execution_count": 40,
   "id": "66e55ce4-f6f6-402a-91af-7356468f9e20",
   "metadata": {
    "tags": []
   },
   "outputs": [
    {
     "data": {
      "text/plain": [
       "0.0005494248353663141"
      ]
     },
     "execution_count": 40,
     "metadata": {},
     "output_type": "execute_result"
    }
   ],
   "source": [
    "# 차이 계산\n",
    "diff = abs(var_over - var_under)\n",
    "diff"
   ]
  },
  {
   "cell_type": "code",
   "execution_count": 41,
   "id": "055b1c2e-f28f-44fe-94e4-97d13880c8d9",
   "metadata": {
    "tags": []
   },
   "outputs": [
    {
     "data": {
      "text/plain": [
       "0.001"
      ]
     },
     "execution_count": 41,
     "metadata": {},
     "output_type": "execute_result"
    }
   ],
   "source": [
    "# 결과를 result 변수에 할당\n",
    "result = round(diff, 3)\n",
    "result"
   ]
  },
  {
   "cell_type": "code",
   "execution_count": null,
   "id": "71394724-516e-4043-8c2a-23f3b5a23126",
   "metadata": {},
   "outputs": [],
   "source": []
  },
  {
   "cell_type": "markdown",
   "id": "8794989c-7222-472b-a228-87ef0c1e6e99",
   "metadata": {},
   "source": [
    "## 05."
   ]
  },
  {
   "cell_type": "code",
   "execution_count": 42,
   "id": "3b15a1c7-3bb5-4dca-874d-69cb590202d5",
   "metadata": {
    "tags": []
   },
   "outputs": [],
   "source": [
    "import pandas as pd"
   ]
  },
  {
   "cell_type": "code",
   "execution_count": 43,
   "id": "7736ab75-9174-4d10-88ab-ffa539fcc6e7",
   "metadata": {
    "tags": []
   },
   "outputs": [
    {
     "data": {
      "text/html": [
       "<div>\n",
       "<style scoped>\n",
       "    .dataframe tbody tr th:only-of-type {\n",
       "        vertical-align: middle;\n",
       "    }\n",
       "\n",
       "    .dataframe tbody tr th {\n",
       "        vertical-align: top;\n",
       "    }\n",
       "\n",
       "    .dataframe thead th {\n",
       "        text-align: right;\n",
       "    }\n",
       "</style>\n",
       "<table border=\"1\" class=\"dataframe\">\n",
       "  <thead>\n",
       "    <tr style=\"text-align: right;\">\n",
       "      <th></th>\n",
       "      <th>Manufacturer</th>\n",
       "      <th>Model</th>\n",
       "      <th>Type</th>\n",
       "      <th>Min_Price</th>\n",
       "      <th>Price</th>\n",
       "      <th>Max_Price</th>\n",
       "      <th>MPG_city</th>\n",
       "      <th>MPG_highway</th>\n",
       "      <th>AirBags</th>\n",
       "      <th>DriveTrain</th>\n",
       "      <th>...</th>\n",
       "      <th>Length</th>\n",
       "      <th>Wheelbase</th>\n",
       "      <th>Width</th>\n",
       "      <th>Turn_circle</th>\n",
       "      <th>Rear_seat_room</th>\n",
       "      <th>Luggage_room</th>\n",
       "      <th>Weight</th>\n",
       "      <th>Origin</th>\n",
       "      <th>Unnamed: 26</th>\n",
       "      <th>Make</th>\n",
       "    </tr>\n",
       "  </thead>\n",
       "  <tbody>\n",
       "    <tr>\n",
       "      <th>0</th>\n",
       "      <td>Acura</td>\n",
       "      <td>Integra</td>\n",
       "      <td>Small</td>\n",
       "      <td>12.9</td>\n",
       "      <td>15.9</td>\n",
       "      <td>18.8</td>\n",
       "      <td>25</td>\n",
       "      <td>31</td>\n",
       "      <td>NaN</td>\n",
       "      <td>Front</td>\n",
       "      <td>...</td>\n",
       "      <td>177</td>\n",
       "      <td>102</td>\n",
       "      <td>68</td>\n",
       "      <td>37.0</td>\n",
       "      <td>26.5</td>\n",
       "      <td>11.0</td>\n",
       "      <td>2705</td>\n",
       "      <td>non-USA</td>\n",
       "      <td>0</td>\n",
       "      <td>Acura Integra</td>\n",
       "    </tr>\n",
       "    <tr>\n",
       "      <th>1</th>\n",
       "      <td>Acura</td>\n",
       "      <td>Legend</td>\n",
       "      <td>Midsize</td>\n",
       "      <td>29.2</td>\n",
       "      <td>33.9</td>\n",
       "      <td>38.7</td>\n",
       "      <td>18</td>\n",
       "      <td>25</td>\n",
       "      <td>Driver &amp; Passenger</td>\n",
       "      <td>Front</td>\n",
       "      <td>...</td>\n",
       "      <td>195</td>\n",
       "      <td>115</td>\n",
       "      <td>71</td>\n",
       "      <td>38.0</td>\n",
       "      <td>30.0</td>\n",
       "      <td>15.0</td>\n",
       "      <td>3560</td>\n",
       "      <td>non-USA</td>\n",
       "      <td>1</td>\n",
       "      <td>Acura Legend</td>\n",
       "    </tr>\n",
       "    <tr>\n",
       "      <th>2</th>\n",
       "      <td>Audi</td>\n",
       "      <td>90</td>\n",
       "      <td>Compact</td>\n",
       "      <td>25.9</td>\n",
       "      <td>29.1</td>\n",
       "      <td>32.3</td>\n",
       "      <td>20</td>\n",
       "      <td>26</td>\n",
       "      <td>Driver only</td>\n",
       "      <td>Front</td>\n",
       "      <td>...</td>\n",
       "      <td>180</td>\n",
       "      <td>102</td>\n",
       "      <td>67</td>\n",
       "      <td>37.0</td>\n",
       "      <td>28.0</td>\n",
       "      <td>14.0</td>\n",
       "      <td>3375</td>\n",
       "      <td>non-USA</td>\n",
       "      <td>2</td>\n",
       "      <td>Audi 90</td>\n",
       "    </tr>\n",
       "    <tr>\n",
       "      <th>3</th>\n",
       "      <td>Audi</td>\n",
       "      <td>100</td>\n",
       "      <td>Midsize</td>\n",
       "      <td>30.8</td>\n",
       "      <td>NaN</td>\n",
       "      <td>44.6</td>\n",
       "      <td>19</td>\n",
       "      <td>26</td>\n",
       "      <td>Driver &amp; Passenger</td>\n",
       "      <td>Front</td>\n",
       "      <td>...</td>\n",
       "      <td>193</td>\n",
       "      <td>106</td>\n",
       "      <td>70</td>\n",
       "      <td>NaN</td>\n",
       "      <td>31.0</td>\n",
       "      <td>17.0</td>\n",
       "      <td>3405</td>\n",
       "      <td>non-USA</td>\n",
       "      <td>3</td>\n",
       "      <td>Audi 100</td>\n",
       "    </tr>\n",
       "    <tr>\n",
       "      <th>4</th>\n",
       "      <td>BMW</td>\n",
       "      <td>535i</td>\n",
       "      <td>Midsize</td>\n",
       "      <td>23.7</td>\n",
       "      <td>NaN</td>\n",
       "      <td>36.2</td>\n",
       "      <td>22</td>\n",
       "      <td>30</td>\n",
       "      <td>Driver only</td>\n",
       "      <td>Rear</td>\n",
       "      <td>...</td>\n",
       "      <td>186</td>\n",
       "      <td>109</td>\n",
       "      <td>69</td>\n",
       "      <td>NaN</td>\n",
       "      <td>27.0</td>\n",
       "      <td>13.0</td>\n",
       "      <td>3640</td>\n",
       "      <td>non-USA</td>\n",
       "      <td>4</td>\n",
       "      <td>BMW 535i</td>\n",
       "    </tr>\n",
       "  </tbody>\n",
       "</table>\n",
       "<p>5 rows × 28 columns</p>\n",
       "</div>"
      ],
      "text/plain": [
       "  Manufacturer    Model     Type  Min_Price  Price  Max_Price  MPG_city  \\\n",
       "0        Acura  Integra    Small       12.9   15.9       18.8        25   \n",
       "1        Acura   Legend  Midsize       29.2   33.9       38.7        18   \n",
       "2         Audi       90  Compact       25.9   29.1       32.3        20   \n",
       "3         Audi      100  Midsize       30.8    NaN       44.6        19   \n",
       "4          BMW     535i  Midsize       23.7    NaN       36.2        22   \n",
       "\n",
       "   MPG_highway             AirBags DriveTrain  ... Length  Wheelbase  Width  \\\n",
       "0           31                 NaN      Front  ...    177        102     68   \n",
       "1           25  Driver & Passenger      Front  ...    195        115     71   \n",
       "2           26         Driver only      Front  ...    180        102     67   \n",
       "3           26  Driver & Passenger      Front  ...    193        106     70   \n",
       "4           30         Driver only       Rear  ...    186        109     69   \n",
       "\n",
       "   Turn_circle  Rear_seat_room Luggage_room  Weight   Origin  Unnamed: 26  \\\n",
       "0         37.0            26.5         11.0    2705  non-USA            0   \n",
       "1         38.0            30.0         15.0    3560  non-USA            1   \n",
       "2         37.0            28.0         14.0    3375  non-USA            2   \n",
       "3          NaN            31.0         17.0    3405  non-USA            3   \n",
       "4          NaN            27.0         13.0    3640  non-USA            4   \n",
       "\n",
       "            Make  \n",
       "0  Acura Integra  \n",
       "1   Acura Legend  \n",
       "2        Audi 90  \n",
       "3       Audi 100  \n",
       "4       BMW 535i  \n",
       "\n",
       "[5 rows x 28 columns]"
      ]
     },
     "execution_count": 43,
     "metadata": {},
     "output_type": "execute_result"
    }
   ],
   "source": [
    "# 데이터셋 가져오기\n",
    "df5 = pd.read_csv('../data/연습문제/Cars93.csv')\n",
    "df5.head()"
   ]
  },
  {
   "cell_type": "code",
   "execution_count": 68,
   "id": "d3999f7c-1dff-402b-b61e-ccab2a0ee7b9",
   "metadata": {
    "tags": []
   },
   "outputs": [
    {
     "data": {
      "text/html": [
       "<div>\n",
       "<style scoped>\n",
       "    .dataframe tbody tr th:only-of-type {\n",
       "        vertical-align: middle;\n",
       "    }\n",
       "\n",
       "    .dataframe tbody tr th {\n",
       "        vertical-align: top;\n",
       "    }\n",
       "\n",
       "    .dataframe thead th {\n",
       "        text-align: right;\n",
       "    }\n",
       "</style>\n",
       "<table border=\"1\" class=\"dataframe\">\n",
       "  <thead>\n",
       "    <tr style=\"text-align: right;\">\n",
       "      <th></th>\n",
       "      <th>Manufacturer</th>\n",
       "      <th>Origin</th>\n",
       "    </tr>\n",
       "  </thead>\n",
       "  <tbody>\n",
       "    <tr>\n",
       "      <th>0</th>\n",
       "      <td>Acura</td>\n",
       "      <td>non-USA</td>\n",
       "    </tr>\n",
       "    <tr>\n",
       "      <th>2</th>\n",
       "      <td>Audi</td>\n",
       "      <td>non-USA</td>\n",
       "    </tr>\n",
       "    <tr>\n",
       "      <th>4</th>\n",
       "      <td>BMW</td>\n",
       "      <td>non-USA</td>\n",
       "    </tr>\n",
       "    <tr>\n",
       "      <th>5</th>\n",
       "      <td>Buick</td>\n",
       "      <td>USA</td>\n",
       "    </tr>\n",
       "    <tr>\n",
       "      <th>9</th>\n",
       "      <td>Cadillac</td>\n",
       "      <td>USA</td>\n",
       "    </tr>\n",
       "  </tbody>\n",
       "</table>\n",
       "</div>"
      ],
      "text/plain": [
       "  Manufacturer   Origin\n",
       "0        Acura  non-USA\n",
       "2         Audi  non-USA\n",
       "4          BMW  non-USA\n",
       "5        Buick      USA\n",
       "9     Cadillac      USA"
      ]
     },
     "execution_count": 68,
     "metadata": {},
     "output_type": "execute_result"
    }
   ],
   "source": [
    "# Manufacturer-Origin 조합의 유일값만 남기기\n",
    "uni = df5[ ['Manufacturer', 'Origin'] ].drop_duplicates()\n",
    "uni.head()"
   ]
  },
  {
   "cell_type": "code",
   "execution_count": 69,
   "id": "46991894-f9f3-44da-9764-b8e2b5c2f2a6",
   "metadata": {
    "tags": []
   },
   "outputs": [
    {
     "data": {
      "text/plain": [
       "0     Ac\n",
       "1     Ac\n",
       "2     Au\n",
       "3     Au\n",
       "4     BM\n",
       "      ..\n",
       "88    Vo\n",
       "89    Vo\n",
       "90    Vo\n",
       "91    Vo\n",
       "92    Vo\n",
       "Name: sub_str, Length: 93, dtype: object"
      ]
     },
     "execution_count": 69,
     "metadata": {},
     "output_type": "execute_result"
    }
   ],
   "source": [
    "# Manufacturer 컬럼 앞 두글자만 추출한 결과와 Origin과 유일값 조합의 수\n",
    "df5['sub_str'] = df5['Manufacturer'].str[:2]\n",
    "df5['sub_str']"
   ]
  },
  {
   "cell_type": "code",
   "execution_count": 70,
   "id": "1ed93750-5549-4661-9b5c-994d3f9fc472",
   "metadata": {
    "tags": []
   },
   "outputs": [
    {
     "data": {
      "text/html": [
       "<div>\n",
       "<style scoped>\n",
       "    .dataframe tbody tr th:only-of-type {\n",
       "        vertical-align: middle;\n",
       "    }\n",
       "\n",
       "    .dataframe tbody tr th {\n",
       "        vertical-align: top;\n",
       "    }\n",
       "\n",
       "    .dataframe thead th {\n",
       "        text-align: right;\n",
       "    }\n",
       "</style>\n",
       "<table border=\"1\" class=\"dataframe\">\n",
       "  <thead>\n",
       "    <tr style=\"text-align: right;\">\n",
       "      <th></th>\n",
       "      <th>sub_str</th>\n",
       "      <th>Origin</th>\n",
       "    </tr>\n",
       "  </thead>\n",
       "  <tbody>\n",
       "    <tr>\n",
       "      <th>0</th>\n",
       "      <td>Ac</td>\n",
       "      <td>non-USA</td>\n",
       "    </tr>\n",
       "    <tr>\n",
       "      <th>2</th>\n",
       "      <td>Au</td>\n",
       "      <td>non-USA</td>\n",
       "    </tr>\n",
       "    <tr>\n",
       "      <th>4</th>\n",
       "      <td>BM</td>\n",
       "      <td>non-USA</td>\n",
       "    </tr>\n",
       "    <tr>\n",
       "      <th>5</th>\n",
       "      <td>Bu</td>\n",
       "      <td>USA</td>\n",
       "    </tr>\n",
       "    <tr>\n",
       "      <th>9</th>\n",
       "      <td>Ca</td>\n",
       "      <td>USA</td>\n",
       "    </tr>\n",
       "  </tbody>\n",
       "</table>\n",
       "</div>"
      ],
      "text/plain": [
       "  sub_str   Origin\n",
       "0      Ac  non-USA\n",
       "2      Au  non-USA\n",
       "4      BM  non-USA\n",
       "5      Bu      USA\n",
       "9      Ca      USA"
      ]
     },
     "execution_count": 70,
     "metadata": {},
     "output_type": "execute_result"
    }
   ],
   "source": [
    "# sub_str-Origin 조합의 유일값만 남기기\n",
    "uni_2 = df5[ ['sub_str', 'Origin'] ].drop_duplicates()\n",
    "uni_2.head()"
   ]
  },
  {
   "cell_type": "code",
   "execution_count": 76,
   "id": "cf8f1502-c124-4188-8e1f-39d376dc0d74",
   "metadata": {
    "tags": []
   },
   "outputs": [
    {
     "data": {
      "text/plain": [
       "((32, 2), (28, 2))"
      ]
     },
     "execution_count": 76,
     "metadata": {},
     "output_type": "execute_result"
    }
   ],
   "source": [
    "uniNum = uni.shape\n",
    "uni2Num = uni_2.shape\n",
    "(uniNum, uni2Num)"
   ]
  },
  {
   "cell_type": "code",
   "execution_count": 79,
   "id": "8812d921-e4ee-4c24-bfdb-10f7c0e7aa72",
   "metadata": {
    "tags": []
   },
   "outputs": [
    {
     "data": {
      "text/plain": [
       "4"
      ]
     },
     "execution_count": 79,
     "metadata": {},
     "output_type": "execute_result"
    }
   ],
   "source": [
    "result = uniNum[0] - uni2Num[0]\n",
    "result"
   ]
  },
  {
   "cell_type": "code",
   "execution_count": null,
   "id": "563d89a9-d6a7-46fc-a9b4-41e1216cc488",
   "metadata": {},
   "outputs": [],
   "source": []
  },
  {
   "cell_type": "markdown",
   "id": "54b4cb2b-d50c-4408-8fc2-d92670ef70b2",
   "metadata": {},
   "source": [
    "## 06."
   ]
  },
  {
   "cell_type": "code",
   "execution_count": 80,
   "id": "4b9dcef1-e3b8-4c01-911c-2747c86c3846",
   "metadata": {
    "tags": []
   },
   "outputs": [],
   "source": [
    "import pandas as pd"
   ]
  },
  {
   "cell_type": "code",
   "execution_count": 83,
   "id": "3aa61bb4-2e68-46f8-a125-2ac49036f847",
   "metadata": {
    "tags": []
   },
   "outputs": [
    {
     "data": {
      "text/html": [
       "<div>\n",
       "<style scoped>\n",
       "    .dataframe tbody tr th:only-of-type {\n",
       "        vertical-align: middle;\n",
       "    }\n",
       "\n",
       "    .dataframe tbody tr th {\n",
       "        vertical-align: top;\n",
       "    }\n",
       "\n",
       "    .dataframe thead th {\n",
       "        text-align: right;\n",
       "    }\n",
       "</style>\n",
       "<table border=\"1\" class=\"dataframe\">\n",
       "  <thead>\n",
       "    <tr style=\"text-align: right;\">\n",
       "      <th></th>\n",
       "      <th>Manufacturer</th>\n",
       "      <th>Model</th>\n",
       "      <th>Type</th>\n",
       "      <th>Min_Price</th>\n",
       "      <th>Price</th>\n",
       "      <th>Max_Price</th>\n",
       "      <th>MPG_city</th>\n",
       "      <th>MPG_highway</th>\n",
       "      <th>AirBags</th>\n",
       "      <th>DriveTrain</th>\n",
       "      <th>...</th>\n",
       "      <th>Length</th>\n",
       "      <th>Wheelbase</th>\n",
       "      <th>Width</th>\n",
       "      <th>Turn_circle</th>\n",
       "      <th>Rear_seat_room</th>\n",
       "      <th>Luggage_room</th>\n",
       "      <th>Weight</th>\n",
       "      <th>Origin</th>\n",
       "      <th>Unnamed: 26</th>\n",
       "      <th>Make</th>\n",
       "    </tr>\n",
       "  </thead>\n",
       "  <tbody>\n",
       "    <tr>\n",
       "      <th>0</th>\n",
       "      <td>Acura</td>\n",
       "      <td>Integra</td>\n",
       "      <td>Small</td>\n",
       "      <td>12.9</td>\n",
       "      <td>15.9</td>\n",
       "      <td>18.8</td>\n",
       "      <td>25</td>\n",
       "      <td>31</td>\n",
       "      <td>NaN</td>\n",
       "      <td>Front</td>\n",
       "      <td>...</td>\n",
       "      <td>177</td>\n",
       "      <td>102</td>\n",
       "      <td>68</td>\n",
       "      <td>37.0</td>\n",
       "      <td>26.5</td>\n",
       "      <td>11.0</td>\n",
       "      <td>2705</td>\n",
       "      <td>non-USA</td>\n",
       "      <td>0</td>\n",
       "      <td>Acura Integra</td>\n",
       "    </tr>\n",
       "    <tr>\n",
       "      <th>1</th>\n",
       "      <td>Acura</td>\n",
       "      <td>Legend</td>\n",
       "      <td>Midsize</td>\n",
       "      <td>29.2</td>\n",
       "      <td>33.9</td>\n",
       "      <td>38.7</td>\n",
       "      <td>18</td>\n",
       "      <td>25</td>\n",
       "      <td>Driver &amp; Passenger</td>\n",
       "      <td>Front</td>\n",
       "      <td>...</td>\n",
       "      <td>195</td>\n",
       "      <td>115</td>\n",
       "      <td>71</td>\n",
       "      <td>38.0</td>\n",
       "      <td>30.0</td>\n",
       "      <td>15.0</td>\n",
       "      <td>3560</td>\n",
       "      <td>non-USA</td>\n",
       "      <td>1</td>\n",
       "      <td>Acura Legend</td>\n",
       "    </tr>\n",
       "    <tr>\n",
       "      <th>2</th>\n",
       "      <td>Audi</td>\n",
       "      <td>90</td>\n",
       "      <td>Compact</td>\n",
       "      <td>25.9</td>\n",
       "      <td>29.1</td>\n",
       "      <td>32.3</td>\n",
       "      <td>20</td>\n",
       "      <td>26</td>\n",
       "      <td>Driver only</td>\n",
       "      <td>Front</td>\n",
       "      <td>...</td>\n",
       "      <td>180</td>\n",
       "      <td>102</td>\n",
       "      <td>67</td>\n",
       "      <td>37.0</td>\n",
       "      <td>28.0</td>\n",
       "      <td>14.0</td>\n",
       "      <td>3375</td>\n",
       "      <td>non-USA</td>\n",
       "      <td>2</td>\n",
       "      <td>Audi 90</td>\n",
       "    </tr>\n",
       "    <tr>\n",
       "      <th>3</th>\n",
       "      <td>Audi</td>\n",
       "      <td>100</td>\n",
       "      <td>Midsize</td>\n",
       "      <td>30.8</td>\n",
       "      <td>NaN</td>\n",
       "      <td>44.6</td>\n",
       "      <td>19</td>\n",
       "      <td>26</td>\n",
       "      <td>Driver &amp; Passenger</td>\n",
       "      <td>Front</td>\n",
       "      <td>...</td>\n",
       "      <td>193</td>\n",
       "      <td>106</td>\n",
       "      <td>70</td>\n",
       "      <td>NaN</td>\n",
       "      <td>31.0</td>\n",
       "      <td>17.0</td>\n",
       "      <td>3405</td>\n",
       "      <td>non-USA</td>\n",
       "      <td>3</td>\n",
       "      <td>Audi 100</td>\n",
       "    </tr>\n",
       "    <tr>\n",
       "      <th>4</th>\n",
       "      <td>BMW</td>\n",
       "      <td>535i</td>\n",
       "      <td>Midsize</td>\n",
       "      <td>23.7</td>\n",
       "      <td>NaN</td>\n",
       "      <td>36.2</td>\n",
       "      <td>22</td>\n",
       "      <td>30</td>\n",
       "      <td>Driver only</td>\n",
       "      <td>Rear</td>\n",
       "      <td>...</td>\n",
       "      <td>186</td>\n",
       "      <td>109</td>\n",
       "      <td>69</td>\n",
       "      <td>NaN</td>\n",
       "      <td>27.0</td>\n",
       "      <td>13.0</td>\n",
       "      <td>3640</td>\n",
       "      <td>non-USA</td>\n",
       "      <td>4</td>\n",
       "      <td>BMW 535i</td>\n",
       "    </tr>\n",
       "  </tbody>\n",
       "</table>\n",
       "<p>5 rows × 28 columns</p>\n",
       "</div>"
      ],
      "text/plain": [
       "  Manufacturer    Model     Type  Min_Price  Price  Max_Price  MPG_city  \\\n",
       "0        Acura  Integra    Small       12.9   15.9       18.8        25   \n",
       "1        Acura   Legend  Midsize       29.2   33.9       38.7        18   \n",
       "2         Audi       90  Compact       25.9   29.1       32.3        20   \n",
       "3         Audi      100  Midsize       30.8    NaN       44.6        19   \n",
       "4          BMW     535i  Midsize       23.7    NaN       36.2        22   \n",
       "\n",
       "   MPG_highway             AirBags DriveTrain  ... Length  Wheelbase  Width  \\\n",
       "0           31                 NaN      Front  ...    177        102     68   \n",
       "1           25  Driver & Passenger      Front  ...    195        115     71   \n",
       "2           26         Driver only      Front  ...    180        102     67   \n",
       "3           26  Driver & Passenger      Front  ...    193        106     70   \n",
       "4           30         Driver only       Rear  ...    186        109     69   \n",
       "\n",
       "   Turn_circle  Rear_seat_room Luggage_room  Weight   Origin  Unnamed: 26  \\\n",
       "0         37.0            26.5         11.0    2705  non-USA            0   \n",
       "1         38.0            30.0         15.0    3560  non-USA            1   \n",
       "2         37.0            28.0         14.0    3375  non-USA            2   \n",
       "3          NaN            31.0         17.0    3405  non-USA            3   \n",
       "4          NaN            27.0         13.0    3640  non-USA            4   \n",
       "\n",
       "            Make  \n",
       "0  Acura Integra  \n",
       "1   Acura Legend  \n",
       "2        Audi 90  \n",
       "3       Audi 100  \n",
       "4       BMW 535i  \n",
       "\n",
       "[5 rows x 28 columns]"
      ]
     },
     "execution_count": 83,
     "metadata": {},
     "output_type": "execute_result"
    }
   ],
   "source": [
    "df6 = pd.read_csv('../data/연습문제/Cars93.csv')\n",
    "df6.head()"
   ]
  },
  {
   "cell_type": "code",
   "execution_count": 84,
   "id": "9be6af37-1f65-4f28-b5a6-2222c3530305",
   "metadata": {
    "tags": []
   },
   "outputs": [
    {
     "data": {
      "text/plain": [
       "Index(['Manufacturer', 'Model', 'Type', 'Min_Price', 'Price', 'Max_Price',\n",
       "       'MPG_city', 'MPG_highway', 'AirBags', 'DriveTrain', 'Cylinders',\n",
       "       'EngineSize', 'Horsepower', 'RPM', 'Rev_per_mile', 'Man_trans_avail',\n",
       "       'Fuel_tank_capacity', 'Passengers', 'Length', 'Wheelbase', 'Width',\n",
       "       'Turn_circle', 'Rear_seat_room', 'Luggage_room', 'Weight', 'Origin',\n",
       "       'Unnamed: 26', 'Make'],\n",
       "      dtype='object')"
      ]
     },
     "execution_count": 84,
     "metadata": {},
     "output_type": "execute_result"
    }
   ],
   "source": [
    "df6.columns"
   ]
  },
  {
   "cell_type": "code",
   "execution_count": null,
   "id": "5ea0c5cc-47c7-4f9e-82da-b9df2ef10535",
   "metadata": {},
   "outputs": [],
   "source": [
    "'Type''Man_trans_avail' -> 그룹바이 'RPM' -> 합계, 중앙값\n",
    "중앙값 - (합계/레코드 수)"
   ]
  },
  {
   "cell_type": "code",
   "execution_count": 85,
   "id": "425453c7-77ae-40f4-9954-3692d8a88763",
   "metadata": {
    "tags": []
   },
   "outputs": [
    {
     "data": {
      "text/html": [
       "<div>\n",
       "<style scoped>\n",
       "    .dataframe tbody tr th:only-of-type {\n",
       "        vertical-align: middle;\n",
       "    }\n",
       "\n",
       "    .dataframe tbody tr th {\n",
       "        vertical-align: top;\n",
       "    }\n",
       "\n",
       "    .dataframe thead th {\n",
       "        text-align: right;\n",
       "    }\n",
       "</style>\n",
       "<table border=\"1\" class=\"dataframe\">\n",
       "  <thead>\n",
       "    <tr style=\"text-align: right;\">\n",
       "      <th></th>\n",
       "      <th>Type</th>\n",
       "      <th>Man_trans_avail</th>\n",
       "      <th>RPM</th>\n",
       "    </tr>\n",
       "  </thead>\n",
       "  <tbody>\n",
       "    <tr>\n",
       "      <th>0</th>\n",
       "      <td>Small</td>\n",
       "      <td>Yes</td>\n",
       "      <td>6300.0</td>\n",
       "    </tr>\n",
       "    <tr>\n",
       "      <th>1</th>\n",
       "      <td>Midsize</td>\n",
       "      <td>Yes</td>\n",
       "      <td>5500.0</td>\n",
       "    </tr>\n",
       "    <tr>\n",
       "      <th>2</th>\n",
       "      <td>Compact</td>\n",
       "      <td>Yes</td>\n",
       "      <td>5500.0</td>\n",
       "    </tr>\n",
       "    <tr>\n",
       "      <th>3</th>\n",
       "      <td>Midsize</td>\n",
       "      <td>Yes</td>\n",
       "      <td>5500.0</td>\n",
       "    </tr>\n",
       "    <tr>\n",
       "      <th>4</th>\n",
       "      <td>Midsize</td>\n",
       "      <td>Yes</td>\n",
       "      <td>5700.0</td>\n",
       "    </tr>\n",
       "  </tbody>\n",
       "</table>\n",
       "</div>"
      ],
      "text/plain": [
       "      Type Man_trans_avail     RPM\n",
       "0    Small             Yes  6300.0\n",
       "1  Midsize             Yes  5500.0\n",
       "2  Compact             Yes  5500.0\n",
       "3  Midsize             Yes  5500.0\n",
       "4  Midsize             Yes  5700.0"
      ]
     },
     "execution_count": 85,
     "metadata": {},
     "output_type": "execute_result"
    }
   ],
   "source": [
    "selected = df6[ ['Type', 'Man_trans_avail', 'RPM'] ]\n",
    "selected.head()"
   ]
  },
  {
   "cell_type": "code",
   "execution_count": 95,
   "id": "4a244d0b-2a6e-4f42-9ff4-c5432a86cee3",
   "metadata": {
    "tags": []
   },
   "outputs": [
    {
     "data": {
      "text/plain": [
       "Type     Man_trans_avail\n",
       "Compact  No                  2\n",
       "         Yes                14\n",
       "Large    No                 11\n",
       "Midsize  No                 13\n",
       "         Yes                 8\n",
       "Small    Yes                20\n",
       "Sporty   Yes                13\n",
       "Van      No                  5\n",
       "         Yes                 3\n",
       "Name: RPM, dtype: int64"
      ]
     },
     "execution_count": 95,
     "metadata": {},
     "output_type": "execute_result"
    }
   ],
   "source": [
    "# 그룹별 RPM 수\n",
    "num_RPM = selected.groupby(by=['Type', 'Man_trans_avail'])['RPM'].count()\n",
    "num_RPM"
   ]
  },
  {
   "cell_type": "code",
   "execution_count": 96,
   "id": "4c715988-3a33-4ca0-a8d0-6b97a2e593a2",
   "metadata": {
    "tags": []
   },
   "outputs": [
    {
     "data": {
      "text/plain": [
       "Type     Man_trans_avail\n",
       "Compact  No                  11000.0\n",
       "         Yes                 74800.0\n",
       "Large    No                  51400.0\n",
       "Midsize  No                  66900.0\n",
       "         Yes                 44500.0\n",
       "Small    Yes                113100.0\n",
       "Sporty   Yes                 70100.0\n",
       "Van      No                  23600.0\n",
       "         Yes                 14300.0\n",
       "Name: RPM, dtype: float64"
      ]
     },
     "execution_count": 96,
     "metadata": {},
     "output_type": "execute_result"
    }
   ],
   "source": [
    "# 그룹별 RPM 합계\n",
    "sum_RPM = selected.groupby(by=['Type', 'Man_trans_avail'])['RPM'].sum()\n",
    "sum_RPM"
   ]
  },
  {
   "cell_type": "code",
   "execution_count": 97,
   "id": "e6b57e43-35fd-4136-b482-c23542f1e750",
   "metadata": {
    "tags": []
   },
   "outputs": [
    {
     "data": {
      "text/plain": [
       "Type     Man_trans_avail\n",
       "Compact  No                 5500.0\n",
       "         Yes                5450.0\n",
       "Large    No                 4800.0\n",
       "Midsize  No                 5200.0\n",
       "         Yes                5500.0\n",
       "Small    Yes                5650.0\n",
       "Sporty   Yes                5500.0\n",
       "Van      No                 4800.0\n",
       "         Yes                4800.0\n",
       "Name: RPM, dtype: float64"
      ]
     },
     "execution_count": 97,
     "metadata": {},
     "output_type": "execute_result"
    }
   ],
   "source": [
    "# 그룹별 RPM 중앙값\n",
    "median_RPM = selected.groupby(by=['Type', 'Man_trans_avail'])['RPM'].median()\n",
    "median_RPM"
   ]
  },
  {
   "cell_type": "code",
   "execution_count": 98,
   "id": "1f7b5685-1540-4b52-a6f1-ac13276e9ba7",
   "metadata": {
    "tags": []
   },
   "outputs": [
    {
     "data": {
      "text/plain": [
       "441.7873792873788"
      ]
     },
     "execution_count": 98,
     "metadata": {},
     "output_type": "execute_result"
    }
   ],
   "source": [
    "# 그룹별 중앙값 - (그룹별 합계/레코드 수) <= 이걸 계산 한 후 모든 원소의 함\n",
    "cal = sum(median_RPM - ( sum_RPM / num_RPM) )\n",
    "cal"
   ]
  },
  {
   "cell_type": "code",
   "execution_count": 99,
   "id": "6b0429be-0a7f-4823-a154-e1580a8f8187",
   "metadata": {
    "tags": []
   },
   "outputs": [
    {
     "data": {
      "text/plain": [
       "442.0"
      ]
     },
     "execution_count": 99,
     "metadata": {},
     "output_type": "execute_result"
    }
   ],
   "source": [
    "# 결과를 result 변수에 할당\n",
    "result = round(cal, 0)\n",
    "result"
   ]
  },
  {
   "cell_type": "code",
   "execution_count": null,
   "id": "ea5f1dc7-de99-4259-b186-244df6edd811",
   "metadata": {},
   "outputs": [],
   "source": []
  },
  {
   "cell_type": "markdown",
   "id": "17af1109-ca30-4340-9593-c0b05a7d9a54",
   "metadata": {},
   "source": [
    "## 07."
   ]
  },
  {
   "cell_type": "code",
   "execution_count": 100,
   "id": "033d69e0-e824-45dc-bc58-385ad76895f1",
   "metadata": {
    "tags": []
   },
   "outputs": [],
   "source": [
    "import pandas as pd"
   ]
  },
  {
   "cell_type": "code",
   "execution_count": 101,
   "id": "93e19239-de6a-40f4-af94-bbb0f33e05d9",
   "metadata": {
    "tags": []
   },
   "outputs": [
    {
     "data": {
      "text/html": [
       "<div>\n",
       "<style scoped>\n",
       "    .dataframe tbody tr th:only-of-type {\n",
       "        vertical-align: middle;\n",
       "    }\n",
       "\n",
       "    .dataframe tbody tr th {\n",
       "        vertical-align: top;\n",
       "    }\n",
       "\n",
       "    .dataframe thead th {\n",
       "        text-align: right;\n",
       "    }\n",
       "</style>\n",
       "<table border=\"1\" class=\"dataframe\">\n",
       "  <thead>\n",
       "    <tr style=\"text-align: right;\">\n",
       "      <th></th>\n",
       "      <th>Manufacturer</th>\n",
       "      <th>Model</th>\n",
       "      <th>Type</th>\n",
       "      <th>Min_Price</th>\n",
       "      <th>Price</th>\n",
       "      <th>Max_Price</th>\n",
       "      <th>MPG_city</th>\n",
       "      <th>MPG_highway</th>\n",
       "      <th>AirBags</th>\n",
       "      <th>DriveTrain</th>\n",
       "      <th>...</th>\n",
       "      <th>Length</th>\n",
       "      <th>Wheelbase</th>\n",
       "      <th>Width</th>\n",
       "      <th>Turn_circle</th>\n",
       "      <th>Rear_seat_room</th>\n",
       "      <th>Luggage_room</th>\n",
       "      <th>Weight</th>\n",
       "      <th>Origin</th>\n",
       "      <th>Unnamed: 26</th>\n",
       "      <th>Make</th>\n",
       "    </tr>\n",
       "  </thead>\n",
       "  <tbody>\n",
       "    <tr>\n",
       "      <th>0</th>\n",
       "      <td>Acura</td>\n",
       "      <td>Integra</td>\n",
       "      <td>Small</td>\n",
       "      <td>12.9</td>\n",
       "      <td>15.9</td>\n",
       "      <td>18.8</td>\n",
       "      <td>25</td>\n",
       "      <td>31</td>\n",
       "      <td>NaN</td>\n",
       "      <td>Front</td>\n",
       "      <td>...</td>\n",
       "      <td>177</td>\n",
       "      <td>102</td>\n",
       "      <td>68</td>\n",
       "      <td>37.0</td>\n",
       "      <td>26.5</td>\n",
       "      <td>11.0</td>\n",
       "      <td>2705</td>\n",
       "      <td>non-USA</td>\n",
       "      <td>0</td>\n",
       "      <td>Acura Integra</td>\n",
       "    </tr>\n",
       "    <tr>\n",
       "      <th>1</th>\n",
       "      <td>Acura</td>\n",
       "      <td>Legend</td>\n",
       "      <td>Midsize</td>\n",
       "      <td>29.2</td>\n",
       "      <td>33.9</td>\n",
       "      <td>38.7</td>\n",
       "      <td>18</td>\n",
       "      <td>25</td>\n",
       "      <td>Driver &amp; Passenger</td>\n",
       "      <td>Front</td>\n",
       "      <td>...</td>\n",
       "      <td>195</td>\n",
       "      <td>115</td>\n",
       "      <td>71</td>\n",
       "      <td>38.0</td>\n",
       "      <td>30.0</td>\n",
       "      <td>15.0</td>\n",
       "      <td>3560</td>\n",
       "      <td>non-USA</td>\n",
       "      <td>1</td>\n",
       "      <td>Acura Legend</td>\n",
       "    </tr>\n",
       "    <tr>\n",
       "      <th>2</th>\n",
       "      <td>Audi</td>\n",
       "      <td>90</td>\n",
       "      <td>Compact</td>\n",
       "      <td>25.9</td>\n",
       "      <td>29.1</td>\n",
       "      <td>32.3</td>\n",
       "      <td>20</td>\n",
       "      <td>26</td>\n",
       "      <td>Driver only</td>\n",
       "      <td>Front</td>\n",
       "      <td>...</td>\n",
       "      <td>180</td>\n",
       "      <td>102</td>\n",
       "      <td>67</td>\n",
       "      <td>37.0</td>\n",
       "      <td>28.0</td>\n",
       "      <td>14.0</td>\n",
       "      <td>3375</td>\n",
       "      <td>non-USA</td>\n",
       "      <td>2</td>\n",
       "      <td>Audi 90</td>\n",
       "    </tr>\n",
       "    <tr>\n",
       "      <th>3</th>\n",
       "      <td>Audi</td>\n",
       "      <td>100</td>\n",
       "      <td>Midsize</td>\n",
       "      <td>30.8</td>\n",
       "      <td>NaN</td>\n",
       "      <td>44.6</td>\n",
       "      <td>19</td>\n",
       "      <td>26</td>\n",
       "      <td>Driver &amp; Passenger</td>\n",
       "      <td>Front</td>\n",
       "      <td>...</td>\n",
       "      <td>193</td>\n",
       "      <td>106</td>\n",
       "      <td>70</td>\n",
       "      <td>NaN</td>\n",
       "      <td>31.0</td>\n",
       "      <td>17.0</td>\n",
       "      <td>3405</td>\n",
       "      <td>non-USA</td>\n",
       "      <td>3</td>\n",
       "      <td>Audi 100</td>\n",
       "    </tr>\n",
       "    <tr>\n",
       "      <th>4</th>\n",
       "      <td>BMW</td>\n",
       "      <td>535i</td>\n",
       "      <td>Midsize</td>\n",
       "      <td>23.7</td>\n",
       "      <td>NaN</td>\n",
       "      <td>36.2</td>\n",
       "      <td>22</td>\n",
       "      <td>30</td>\n",
       "      <td>Driver only</td>\n",
       "      <td>Rear</td>\n",
       "      <td>...</td>\n",
       "      <td>186</td>\n",
       "      <td>109</td>\n",
       "      <td>69</td>\n",
       "      <td>NaN</td>\n",
       "      <td>27.0</td>\n",
       "      <td>13.0</td>\n",
       "      <td>3640</td>\n",
       "      <td>non-USA</td>\n",
       "      <td>4</td>\n",
       "      <td>BMW 535i</td>\n",
       "    </tr>\n",
       "  </tbody>\n",
       "</table>\n",
       "<p>5 rows × 28 columns</p>\n",
       "</div>"
      ],
      "text/plain": [
       "  Manufacturer    Model     Type  Min_Price  Price  Max_Price  MPG_city  \\\n",
       "0        Acura  Integra    Small       12.9   15.9       18.8        25   \n",
       "1        Acura   Legend  Midsize       29.2   33.9       38.7        18   \n",
       "2         Audi       90  Compact       25.9   29.1       32.3        20   \n",
       "3         Audi      100  Midsize       30.8    NaN       44.6        19   \n",
       "4          BMW     535i  Midsize       23.7    NaN       36.2        22   \n",
       "\n",
       "   MPG_highway             AirBags DriveTrain  ... Length  Wheelbase  Width  \\\n",
       "0           31                 NaN      Front  ...    177        102     68   \n",
       "1           25  Driver & Passenger      Front  ...    195        115     71   \n",
       "2           26         Driver only      Front  ...    180        102     67   \n",
       "3           26  Driver & Passenger      Front  ...    193        106     70   \n",
       "4           30         Driver only       Rear  ...    186        109     69   \n",
       "\n",
       "   Turn_circle  Rear_seat_room Luggage_room  Weight   Origin  Unnamed: 26  \\\n",
       "0         37.0            26.5         11.0    2705  non-USA            0   \n",
       "1         38.0            30.0         15.0    3560  non-USA            1   \n",
       "2         37.0            28.0         14.0    3375  non-USA            2   \n",
       "3          NaN            31.0         17.0    3405  non-USA            3   \n",
       "4          NaN            27.0         13.0    3640  non-USA            4   \n",
       "\n",
       "            Make  \n",
       "0  Acura Integra  \n",
       "1   Acura Legend  \n",
       "2        Audi 90  \n",
       "3       Audi 100  \n",
       "4       BMW 535i  \n",
       "\n",
       "[5 rows x 28 columns]"
      ]
     },
     "execution_count": 101,
     "metadata": {},
     "output_type": "execute_result"
    }
   ],
   "source": [
    "df7 = pd.read_csv('../data/연습문제/Cars93.csv')\n",
    "df7.head()"
   ]
  },
  {
   "cell_type": "code",
   "execution_count": 105,
   "id": "9e3744bc-8881-4536-8ceb-5a9719130c5a",
   "metadata": {
    "tags": []
   },
   "outputs": [
    {
     "data": {
      "text/html": [
       "<div>\n",
       "<style scoped>\n",
       "    .dataframe tbody tr th:only-of-type {\n",
       "        vertical-align: middle;\n",
       "    }\n",
       "\n",
       "    .dataframe tbody tr th {\n",
       "        vertical-align: top;\n",
       "    }\n",
       "\n",
       "    .dataframe thead th {\n",
       "        text-align: right;\n",
       "    }\n",
       "</style>\n",
       "<table border=\"1\" class=\"dataframe\">\n",
       "  <thead>\n",
       "    <tr style=\"text-align: right;\">\n",
       "      <th></th>\n",
       "      <th>RPM</th>\n",
       "      <th>Wheelbase</th>\n",
       "    </tr>\n",
       "  </thead>\n",
       "  <tbody>\n",
       "    <tr>\n",
       "      <th>0</th>\n",
       "      <td>6300.0</td>\n",
       "      <td>102</td>\n",
       "    </tr>\n",
       "    <tr>\n",
       "      <th>1</th>\n",
       "      <td>5500.0</td>\n",
       "      <td>115</td>\n",
       "    </tr>\n",
       "    <tr>\n",
       "      <th>2</th>\n",
       "      <td>5500.0</td>\n",
       "      <td>102</td>\n",
       "    </tr>\n",
       "    <tr>\n",
       "      <th>3</th>\n",
       "      <td>5500.0</td>\n",
       "      <td>106</td>\n",
       "    </tr>\n",
       "    <tr>\n",
       "      <th>4</th>\n",
       "      <td>5700.0</td>\n",
       "      <td>109</td>\n",
       "    </tr>\n",
       "  </tbody>\n",
       "</table>\n",
       "</div>"
      ],
      "text/plain": [
       "      RPM  Wheelbase\n",
       "0  6300.0        102\n",
       "1  5500.0        115\n",
       "2  5500.0        102\n",
       "3  5500.0        106\n",
       "4  5700.0        109"
      ]
     },
     "execution_count": 105,
     "metadata": {},
     "output_type": "execute_result"
    }
   ],
   "source": [
    "selected = df7[ ['RPM', 'Wheelbase'] ]\n",
    "selected.head()"
   ]
  },
  {
   "cell_type": "code",
   "execution_count": 106,
   "id": "af9e1144-20fb-4399-8309-a83f7a21c4fe",
   "metadata": {
    "tags": []
   },
   "outputs": [
    {
     "data": {
      "text/plain": [
       "4"
      ]
     },
     "execution_count": 106,
     "metadata": {},
     "output_type": "execute_result"
    }
   ],
   "source": [
    "selected['RPM'].isnull().sum()"
   ]
  },
  {
   "cell_type": "code",
   "execution_count": 107,
   "id": "673f3384-079c-4cfc-8f79-61365859d81c",
   "metadata": {
    "tags": []
   },
   "outputs": [
    {
     "data": {
      "text/plain": [
       "5277.528089887641"
      ]
     },
     "execution_count": 107,
     "metadata": {},
     "output_type": "execute_result"
    }
   ],
   "source": [
    "# RPM 컬럼 결측치를 평균으로 대체\n",
    "avg = selected['RPM'].mean()\n",
    "avg"
   ]
  },
  {
   "cell_type": "code",
   "execution_count": 108,
   "id": "89b50bc1-d8d2-4140-9715-2182eebc5f5a",
   "metadata": {
    "tags": []
   },
   "outputs": [
    {
     "name": "stderr",
     "output_type": "stream",
     "text": [
      "C:\\Users\\kbr_u\\AppData\\Local\\Temp\\ipykernel_15476\\1342360772.py:1: SettingWithCopyWarning: \n",
      "A value is trying to be set on a copy of a slice from a DataFrame.\n",
      "Try using .loc[row_indexer,col_indexer] = value instead\n",
      "\n",
      "See the caveats in the documentation: https://pandas.pydata.org/pandas-docs/stable/user_guide/indexing.html#returning-a-view-versus-a-copy\n",
      "  selected['RPM'] = selected['RPM'].fillna(avg)\n"
     ]
    },
    {
     "data": {
      "text/plain": [
       "0"
      ]
     },
     "execution_count": 108,
     "metadata": {},
     "output_type": "execute_result"
    }
   ],
   "source": [
    "selected['RPM'] = selected['RPM'].fillna(avg)\n",
    "selected['RPM'].isnull().sum()"
   ]
  },
  {
   "cell_type": "code",
   "execution_count": 115,
   "id": "2167e8ef-73ec-4a5b-a798-07eec169e670",
   "metadata": {
    "tags": []
   },
   "outputs": [
    {
     "data": {
      "text/plain": [
       "0     1.733955\n",
       "1     0.377278\n",
       "2     0.377278\n",
       "3     0.377278\n",
       "4     0.716447\n",
       "        ...   \n",
       "88   -1.318568\n",
       "89    0.886032\n",
       "90    0.886032\n",
       "91    0.207693\n",
       "92    1.564370\n",
       "Name: RPM, Length: 93, dtype: float64"
      ]
     },
     "execution_count": 115,
     "metadata": {},
     "output_type": "execute_result"
    }
   ],
   "source": [
    "# RPM 컬럼 z-점수 표준화\n",
    "RPM_std = ((selected['RPM'] - selected['RPM'].mean()) / selected['RPM'].std() )\n",
    "RPM_std"
   ]
  },
  {
   "cell_type": "code",
   "execution_count": 116,
   "id": "cb3adcd1-5526-4547-bb94-d0cbc1836ea8",
   "metadata": {
    "tags": []
   },
   "outputs": [
    {
     "data": {
      "text/plain": [
       "0    -0.269216\n",
       "1     1.490149\n",
       "2    -0.269216\n",
       "3     0.272127\n",
       "4     0.678134\n",
       "        ...   \n",
       "88    1.490149\n",
       "89   -0.133881\n",
       "90   -0.945896\n",
       "91    0.001455\n",
       "92    0.136791\n",
       "Name: Wheelbase, Length: 93, dtype: float64"
      ]
     },
     "execution_count": 116,
     "metadata": {},
     "output_type": "execute_result"
    }
   ],
   "source": [
    "# Wheelbase 컬럼 z-점수 표준화\n",
    "wheelbase_std = (selected['Wheelbase'] - selected['Wheelbase'].mean()) / selected['Wheelbase'].std()\n",
    "wheelbase_std"
   ]
  },
  {
   "cell_type": "code",
   "execution_count": 117,
   "id": "2cf99390-658b-4543-b4f0-e07b03fd0fe2",
   "metadata": {
    "tags": []
   },
   "outputs": [
    {
     "data": {
      "text/plain": [
       "0      7.957837\n",
       "1    -54.022655\n",
       "2      9.314514\n",
       "3    -10.173846\n",
       "4    -25.129285\n",
       "        ...    \n",
       "88   -52.326809\n",
       "89     3.933670\n",
       "90    33.166209\n",
       "91    -0.260082\n",
       "92    -6.488848\n",
       "Length: 93, dtype: float64"
      ]
     },
     "execution_count": 117,
     "metadata": {},
     "output_type": "execute_result"
    }
   ],
   "source": [
    "# 표준화된 Wheelbase에 상수 -36을 곱한 값과 표준화된 RPM 변수의 차이\n",
    "diff = wheelbase_std * (-36) - RPM_std\n",
    "diff"
   ]
  },
  {
   "cell_type": "code",
   "execution_count": 118,
   "id": "e8e4ebb9-bf49-42c6-90f3-cd11286aa1e9",
   "metadata": {
    "tags": []
   },
   "outputs": [
    {
     "data": {
      "text/plain": [
       "35.5607478039925"
      ]
     },
     "execution_count": 118,
     "metadata": {},
     "output_type": "execute_result"
    }
   ],
   "source": [
    "# diff의 표준편차\n",
    "diff_sd = diff.std()\n",
    "diff_sd"
   ]
  },
  {
   "cell_type": "code",
   "execution_count": 119,
   "id": "eab4e9cc-e1ca-47b4-b9d0-0bb4390ab582",
   "metadata": {
    "tags": []
   },
   "outputs": [
    {
     "data": {
      "text/plain": [
       "35.561"
      ]
     },
     "execution_count": 119,
     "metadata": {},
     "output_type": "execute_result"
    }
   ],
   "source": [
    "# 결과를 result 변수에 할당\n",
    "result = round(diff_sd, 3)\n",
    "result"
   ]
  },
  {
   "cell_type": "code",
   "execution_count": null,
   "id": "f9059f42-7946-4f4e-9636-a4f19759be7e",
   "metadata": {},
   "outputs": [],
   "source": []
  },
  {
   "cell_type": "markdown",
   "id": "44881f32-dd08-4a60-bae9-95aaa93d0a72",
   "metadata": {},
   "source": [
    "## 08."
   ]
  },
  {
   "cell_type": "code",
   "execution_count": 157,
   "id": "bdc54d41-a1eb-42b1-85e9-c6b96c67e1dd",
   "metadata": {
    "tags": []
   },
   "outputs": [],
   "source": [
    "import pandas as pd\n",
    "import numpy as np"
   ]
  },
  {
   "cell_type": "code",
   "execution_count": 130,
   "id": "f61a6f3b-4e86-4fea-99a6-c53020f7dc77",
   "metadata": {
    "tags": []
   },
   "outputs": [],
   "source": [
    "df8 = pd.read_csv('../data/연습문제/Cars93.csv')"
   ]
  },
  {
   "cell_type": "code",
   "execution_count": 135,
   "id": "4a41fc39-5be7-48f0-991a-b3f5f587c792",
   "metadata": {
    "tags": []
   },
   "outputs": [
    {
     "data": {
      "text/plain": [
       "Index(['Manufacturer', 'Model', 'Type', 'Min_Price', 'Price', 'Max_Price',\n",
       "       'MPG_city', 'MPG_highway', 'AirBags', 'DriveTrain', 'Cylinders',\n",
       "       'EngineSize', 'Horsepower', 'RPM', 'Rev_per_mile', 'Man_trans_avail',\n",
       "       'Fuel_tank_capacity', 'Passengers', 'Length', 'Wheelbase', 'Width',\n",
       "       'Turn_circle', 'Rear_seat_room', 'Luggage_room', 'Weight', 'Origin',\n",
       "       'Unnamed: 26', 'Make'],\n",
       "      dtype='object')"
      ]
     },
     "execution_count": 135,
     "metadata": {},
     "output_type": "execute_result"
    }
   ],
   "source": [
    "df8.columns"
   ]
  },
  {
   "cell_type": "code",
   "execution_count": 159,
   "id": "417d325b-d0af-4896-b161-5f7091dfa5b0",
   "metadata": {
    "tags": []
   },
   "outputs": [
    {
     "data": {
      "text/html": [
       "<div>\n",
       "<style scoped>\n",
       "    .dataframe tbody tr th:only-of-type {\n",
       "        vertical-align: middle;\n",
       "    }\n",
       "\n",
       "    .dataframe tbody tr th {\n",
       "        vertical-align: top;\n",
       "    }\n",
       "\n",
       "    .dataframe thead th {\n",
       "        text-align: right;\n",
       "    }\n",
       "</style>\n",
       "<table border=\"1\" class=\"dataframe\">\n",
       "  <thead>\n",
       "    <tr style=\"text-align: right;\">\n",
       "      <th></th>\n",
       "      <th>Price</th>\n",
       "      <th>Origin</th>\n",
       "      <th>Max_Price</th>\n",
       "      <th>Min_Price</th>\n",
       "    </tr>\n",
       "  </thead>\n",
       "  <tbody>\n",
       "    <tr>\n",
       "      <th>0</th>\n",
       "      <td>15.9</td>\n",
       "      <td>non-USA</td>\n",
       "      <td>18.8</td>\n",
       "      <td>12.9</td>\n",
       "    </tr>\n",
       "    <tr>\n",
       "      <th>1</th>\n",
       "      <td>33.9</td>\n",
       "      <td>non-USA</td>\n",
       "      <td>38.7</td>\n",
       "      <td>29.2</td>\n",
       "    </tr>\n",
       "    <tr>\n",
       "      <th>2</th>\n",
       "      <td>29.1</td>\n",
       "      <td>non-USA</td>\n",
       "      <td>32.3</td>\n",
       "      <td>25.9</td>\n",
       "    </tr>\n",
       "    <tr>\n",
       "      <th>3</th>\n",
       "      <td>NaN</td>\n",
       "      <td>non-USA</td>\n",
       "      <td>44.6</td>\n",
       "      <td>30.8</td>\n",
       "    </tr>\n",
       "    <tr>\n",
       "      <th>4</th>\n",
       "      <td>NaN</td>\n",
       "      <td>non-USA</td>\n",
       "      <td>36.2</td>\n",
       "      <td>23.7</td>\n",
       "    </tr>\n",
       "  </tbody>\n",
       "</table>\n",
       "</div>"
      ],
      "text/plain": [
       "   Price   Origin  Max_Price  Min_Price\n",
       "0   15.9  non-USA       18.8       12.9\n",
       "1   33.9  non-USA       38.7       29.2\n",
       "2   29.1  non-USA       32.3       25.9\n",
       "3    NaN  non-USA       44.6       30.8\n",
       "4    NaN  non-USA       36.2       23.7"
      ]
     },
     "execution_count": 159,
     "metadata": {},
     "output_type": "execute_result"
    }
   ],
   "source": [
    "# 필요한 컬럼 선택\n",
    "selected = df8[ ['Price', 'Origin', 'Max_Price', 'Min_Price'] ]\n",
    "selected.head()"
   ]
  },
  {
   "cell_type": "code",
   "execution_count": 160,
   "id": "60c7b2c1-78af-48d8-8b6b-2fe09e09e00d",
   "metadata": {
    "tags": []
   },
   "outputs": [
    {
     "data": {
      "text/plain": [
       "9"
      ]
     },
     "execution_count": 160,
     "metadata": {},
     "output_type": "execute_result"
    }
   ],
   "source": [
    "# Price 컬럼의 null 개수 확인\n",
    "selected['Price'].isnull().sum()"
   ]
  },
  {
   "cell_type": "code",
   "execution_count": 161,
   "id": "2ec9949f-bafb-46fb-8d7d-95de3c764d50",
   "metadata": {
    "tags": []
   },
   "outputs": [],
   "source": [
    "# Case1: Price 컬럼의 평균값 계산 -> null값을 avg로 채우기\n",
    "avg = selected['Price'].mean()\n",
    "case1 = selected.copy()\n",
    "case1['Price'] = selected['Price'].fillna(avg)"
   ]
  },
  {
   "cell_type": "code",
   "execution_count": 162,
   "id": "936430e9-ab01-47ba-a724-c751620d66e7",
   "metadata": {
    "tags": []
   },
   "outputs": [
    {
     "data": {
      "text/plain": [
       "0    15.85\n",
       "1    33.95\n",
       "2    29.10\n",
       "3    37.70\n",
       "4    29.95\n",
       "dtype: float64"
      ]
     },
     "execution_count": 162,
     "metadata": {},
     "output_type": "execute_result"
    }
   ],
   "source": [
    "# Max_Price 변수와 Min_Price의 평균구하기\n",
    "avg_maxmin = case1[ ['Max_Price', 'Min_Price'] ].mean(axis=1)\n",
    "avg_maxmin.head()"
   ]
  },
  {
   "cell_type": "code",
   "execution_count": 163,
   "id": "4bf2fa7e-0c07-43df-9886-40b70605f295",
   "metadata": {
    "tags": []
   },
   "outputs": [
    {
     "data": {
      "text/html": [
       "<div>\n",
       "<style scoped>\n",
       "    .dataframe tbody tr th:only-of-type {\n",
       "        vertical-align: middle;\n",
       "    }\n",
       "\n",
       "    .dataframe tbody tr th {\n",
       "        vertical-align: top;\n",
       "    }\n",
       "\n",
       "    .dataframe thead th {\n",
       "        text-align: right;\n",
       "    }\n",
       "</style>\n",
       "<table border=\"1\" class=\"dataframe\">\n",
       "  <thead>\n",
       "    <tr style=\"text-align: right;\">\n",
       "      <th></th>\n",
       "      <th>Price</th>\n",
       "      <th>Origin</th>\n",
       "      <th>Max_Price</th>\n",
       "      <th>Min_Price</th>\n",
       "    </tr>\n",
       "  </thead>\n",
       "  <tbody>\n",
       "    <tr>\n",
       "      <th>1</th>\n",
       "      <td>33.900000</td>\n",
       "      <td>non-USA</td>\n",
       "      <td>38.7</td>\n",
       "      <td>29.2</td>\n",
       "    </tr>\n",
       "    <tr>\n",
       "      <th>3</th>\n",
       "      <td>19.047619</td>\n",
       "      <td>non-USA</td>\n",
       "      <td>44.6</td>\n",
       "      <td>30.8</td>\n",
       "    </tr>\n",
       "    <tr>\n",
       "      <th>4</th>\n",
       "      <td>19.047619</td>\n",
       "      <td>non-USA</td>\n",
       "      <td>36.2</td>\n",
       "      <td>23.7</td>\n",
       "    </tr>\n",
       "    <tr>\n",
       "      <th>5</th>\n",
       "      <td>15.700000</td>\n",
       "      <td>USA</td>\n",
       "      <td>17.3</td>\n",
       "      <td>14.2</td>\n",
       "    </tr>\n",
       "    <tr>\n",
       "      <th>7</th>\n",
       "      <td>23.700000</td>\n",
       "      <td>USA</td>\n",
       "      <td>24.9</td>\n",
       "      <td>22.6</td>\n",
       "    </tr>\n",
       "    <tr>\n",
       "      <th>8</th>\n",
       "      <td>19.047619</td>\n",
       "      <td>USA</td>\n",
       "      <td>26.3</td>\n",
       "      <td>26.3</td>\n",
       "    </tr>\n",
       "    <tr>\n",
       "      <th>13</th>\n",
       "      <td>15.100000</td>\n",
       "      <td>USA</td>\n",
       "      <td>16.8</td>\n",
       "      <td>13.4</td>\n",
       "    </tr>\n",
       "    <tr>\n",
       "      <th>16</th>\n",
       "      <td>16.600000</td>\n",
       "      <td>USA</td>\n",
       "      <td>18.6</td>\n",
       "      <td>14.7</td>\n",
       "    </tr>\n",
       "    <tr>\n",
       "      <th>18</th>\n",
       "      <td>38.000000</td>\n",
       "      <td>USA</td>\n",
       "      <td>41.5</td>\n",
       "      <td>34.6</td>\n",
       "    </tr>\n",
       "    <tr>\n",
       "      <th>21</th>\n",
       "      <td>19.047619</td>\n",
       "      <td>USA</td>\n",
       "      <td>29.5</td>\n",
       "      <td>29.5</td>\n",
       "    </tr>\n",
       "    <tr>\n",
       "      <th>22</th>\n",
       "      <td>9.200000</td>\n",
       "      <td>USA</td>\n",
       "      <td>10.6</td>\n",
       "      <td>7.9</td>\n",
       "    </tr>\n",
       "    <tr>\n",
       "      <th>27</th>\n",
       "      <td>19.047619</td>\n",
       "      <td>USA</td>\n",
       "      <td>33.1</td>\n",
       "      <td>18.5</td>\n",
       "    </tr>\n",
       "    <tr>\n",
       "      <th>29</th>\n",
       "      <td>19.300000</td>\n",
       "      <td>USA</td>\n",
       "      <td>21.2</td>\n",
       "      <td>17.5</td>\n",
       "    </tr>\n",
       "    <tr>\n",
       "      <th>31</th>\n",
       "      <td>10.100000</td>\n",
       "      <td>USA</td>\n",
       "      <td>11.9</td>\n",
       "      <td>8.4</td>\n",
       "    </tr>\n",
       "    <tr>\n",
       "      <th>37</th>\n",
       "      <td>19.047619</td>\n",
       "      <td>USA</td>\n",
       "      <td>21.7</td>\n",
       "      <td>20.1</td>\n",
       "    </tr>\n",
       "    <tr>\n",
       "      <th>40</th>\n",
       "      <td>19.800000</td>\n",
       "      <td>non-USA</td>\n",
       "      <td>22.7</td>\n",
       "      <td>17.0</td>\n",
       "    </tr>\n",
       "    <tr>\n",
       "      <th>41</th>\n",
       "      <td>12.100000</td>\n",
       "      <td>non-USA</td>\n",
       "      <td>15.8</td>\n",
       "      <td>8.4</td>\n",
       "    </tr>\n",
       "    <tr>\n",
       "      <th>45</th>\n",
       "      <td>10.000000</td>\n",
       "      <td>non-USA</td>\n",
       "      <td>11.0</td>\n",
       "      <td>9.1</td>\n",
       "    </tr>\n",
       "    <tr>\n",
       "      <th>53</th>\n",
       "      <td>11.600000</td>\n",
       "      <td>non-USA</td>\n",
       "      <td>12.3</td>\n",
       "      <td>10.9</td>\n",
       "    </tr>\n",
       "    <tr>\n",
       "      <th>55</th>\n",
       "      <td>19.100000</td>\n",
       "      <td>non-USA</td>\n",
       "      <td>21.7</td>\n",
       "      <td>16.6</td>\n",
       "    </tr>\n",
       "    <tr>\n",
       "      <th>57</th>\n",
       "      <td>31.900000</td>\n",
       "      <td>non-USA</td>\n",
       "      <td>34.9</td>\n",
       "      <td>29.0</td>\n",
       "    </tr>\n",
       "    <tr>\n",
       "      <th>59</th>\n",
       "      <td>14.100000</td>\n",
       "      <td>USA</td>\n",
       "      <td>15.0</td>\n",
       "      <td>13.3</td>\n",
       "    </tr>\n",
       "    <tr>\n",
       "      <th>62</th>\n",
       "      <td>26.100000</td>\n",
       "      <td>non-USA</td>\n",
       "      <td>29.9</td>\n",
       "      <td>22.4</td>\n",
       "    </tr>\n",
       "    <tr>\n",
       "      <th>69</th>\n",
       "      <td>19.047619</td>\n",
       "      <td>USA</td>\n",
       "      <td>19.5</td>\n",
       "      <td>19.5</td>\n",
       "    </tr>\n",
       "    <tr>\n",
       "      <th>72</th>\n",
       "      <td>9.000000</td>\n",
       "      <td>USA</td>\n",
       "      <td>9.9</td>\n",
       "      <td>8.2</td>\n",
       "    </tr>\n",
       "    <tr>\n",
       "      <th>73</th>\n",
       "      <td>11.100000</td>\n",
       "      <td>USA</td>\n",
       "      <td>12.8</td>\n",
       "      <td>9.4</td>\n",
       "    </tr>\n",
       "    <tr>\n",
       "      <th>77</th>\n",
       "      <td>28.700000</td>\n",
       "      <td>non-USA</td>\n",
       "      <td>37.1</td>\n",
       "      <td>20.3</td>\n",
       "    </tr>\n",
       "    <tr>\n",
       "      <th>82</th>\n",
       "      <td>8.600000</td>\n",
       "      <td>non-USA</td>\n",
       "      <td>10.0</td>\n",
       "      <td>7.3</td>\n",
       "    </tr>\n",
       "    <tr>\n",
       "      <th>86</th>\n",
       "      <td>22.700000</td>\n",
       "      <td>non-USA</td>\n",
       "      <td>26.6</td>\n",
       "      <td>18.9</td>\n",
       "    </tr>\n",
       "  </tbody>\n",
       "</table>\n",
       "</div>"
      ],
      "text/plain": [
       "        Price   Origin  Max_Price  Min_Price\n",
       "1   33.900000  non-USA       38.7       29.2\n",
       "3   19.047619  non-USA       44.6       30.8\n",
       "4   19.047619  non-USA       36.2       23.7\n",
       "5   15.700000      USA       17.3       14.2\n",
       "7   23.700000      USA       24.9       22.6\n",
       "8   19.047619      USA       26.3       26.3\n",
       "13  15.100000      USA       16.8       13.4\n",
       "16  16.600000      USA       18.6       14.7\n",
       "18  38.000000      USA       41.5       34.6\n",
       "21  19.047619      USA       29.5       29.5\n",
       "22   9.200000      USA       10.6        7.9\n",
       "27  19.047619      USA       33.1       18.5\n",
       "29  19.300000      USA       21.2       17.5\n",
       "31  10.100000      USA       11.9        8.4\n",
       "37  19.047619      USA       21.7       20.1\n",
       "40  19.800000  non-USA       22.7       17.0\n",
       "41  12.100000  non-USA       15.8        8.4\n",
       "45  10.000000  non-USA       11.0        9.1\n",
       "53  11.600000  non-USA       12.3       10.9\n",
       "55  19.100000  non-USA       21.7       16.6\n",
       "57  31.900000  non-USA       34.9       29.0\n",
       "59  14.100000      USA       15.0       13.3\n",
       "62  26.100000  non-USA       29.9       22.4\n",
       "69  19.047619      USA       19.5       19.5\n",
       "72   9.000000      USA        9.9        8.2\n",
       "73  11.100000      USA       12.8        9.4\n",
       "77  28.700000  non-USA       37.1       20.3\n",
       "82   8.600000  non-USA       10.0        7.3\n",
       "86  22.700000  non-USA       26.6       18.9"
      ]
     },
     "execution_count": 163,
     "metadata": {},
     "output_type": "execute_result"
    }
   ],
   "source": [
    "# 평균보다 작은 레코드만 추출\n",
    "case1 = case1[case1['Price'] < avg_maxmin]\n",
    "case1"
   ]
  },
  {
   "cell_type": "code",
   "execution_count": 164,
   "id": "66824f23-778e-4354-9482-b97c164803e3",
   "metadata": {
    "tags": []
   },
   "outputs": [
    {
     "data": {
      "text/plain": [
       "Origin\n",
       "USA        277.138095\n",
       "non-USA    262.595238\n",
       "Name: Price, dtype: float64"
      ]
     },
     "execution_count": 164,
     "metadata": {},
     "output_type": "execute_result"
    }
   ],
   "source": [
    "# Origin 그룹별 Price의 합계\n",
    "sum1 = case1.groupby('Origin')['Price'].sum()\n",
    "sum1"
   ]
  },
  {
   "cell_type": "code",
   "execution_count": 165,
   "id": "c9e12b57-2f4a-4234-bf6a-b31c67c2247d",
   "metadata": {
    "tags": []
   },
   "outputs": [],
   "source": [
    "# Case2: Price 컬럼의 결측치를 중앙값으로 대체\n",
    "mid = selected['Price'].median()\n",
    "case2 = selected.copy()\n",
    "case2['Price'] = case2['Price'].fillna(mid)"
   ]
  },
  {
   "cell_type": "code",
   "execution_count": 166,
   "id": "b68baf53-3d80-4815-b2da-f08faa535203",
   "metadata": {
    "tags": []
   },
   "outputs": [
    {
     "data": {
      "text/plain": [
       "20.3"
      ]
     },
     "execution_count": 166,
     "metadata": {},
     "output_type": "execute_result"
    }
   ],
   "source": [
    "# Min_Price 컬럼의 제 3사분위수 계산\n",
    "q3 = case2['Min_Price'].quantile(.75)\n",
    "q3"
   ]
  },
  {
   "cell_type": "code",
   "execution_count": 167,
   "id": "a98aef92-f489-4b24-939a-9fdd56c04423",
   "metadata": {
    "tags": []
   },
   "outputs": [
    {
     "data": {
      "text/html": [
       "<div>\n",
       "<style scoped>\n",
       "    .dataframe tbody tr th:only-of-type {\n",
       "        vertical-align: middle;\n",
       "    }\n",
       "\n",
       "    .dataframe tbody tr th {\n",
       "        vertical-align: top;\n",
       "    }\n",
       "\n",
       "    .dataframe thead th {\n",
       "        text-align: right;\n",
       "    }\n",
       "</style>\n",
       "<table border=\"1\" class=\"dataframe\">\n",
       "  <thead>\n",
       "    <tr style=\"text-align: right;\">\n",
       "      <th></th>\n",
       "      <th>Price</th>\n",
       "      <th>Origin</th>\n",
       "      <th>Max_Price</th>\n",
       "      <th>Min_Price</th>\n",
       "    </tr>\n",
       "  </thead>\n",
       "  <tbody>\n",
       "    <tr>\n",
       "      <th>0</th>\n",
       "      <td>15.90</td>\n",
       "      <td>non-USA</td>\n",
       "      <td>18.8</td>\n",
       "      <td>12.9</td>\n",
       "    </tr>\n",
       "    <tr>\n",
       "      <th>3</th>\n",
       "      <td>16.55</td>\n",
       "      <td>non-USA</td>\n",
       "      <td>44.6</td>\n",
       "      <td>30.8</td>\n",
       "    </tr>\n",
       "    <tr>\n",
       "      <th>4</th>\n",
       "      <td>16.55</td>\n",
       "      <td>non-USA</td>\n",
       "      <td>36.2</td>\n",
       "      <td>23.7</td>\n",
       "    </tr>\n",
       "    <tr>\n",
       "      <th>5</th>\n",
       "      <td>15.70</td>\n",
       "      <td>USA</td>\n",
       "      <td>17.3</td>\n",
       "      <td>14.2</td>\n",
       "    </tr>\n",
       "    <tr>\n",
       "      <th>8</th>\n",
       "      <td>16.55</td>\n",
       "      <td>USA</td>\n",
       "      <td>26.3</td>\n",
       "      <td>26.3</td>\n",
       "    </tr>\n",
       "    <tr>\n",
       "      <th>...</th>\n",
       "      <td>...</td>\n",
       "      <td>...</td>\n",
       "      <td>...</td>\n",
       "      <td>...</td>\n",
       "    </tr>\n",
       "    <tr>\n",
       "      <th>84</th>\n",
       "      <td>18.40</td>\n",
       "      <td>non-USA</td>\n",
       "      <td>22.6</td>\n",
       "      <td>14.2</td>\n",
       "    </tr>\n",
       "    <tr>\n",
       "      <th>85</th>\n",
       "      <td>18.20</td>\n",
       "      <td>non-USA</td>\n",
       "      <td>21.2</td>\n",
       "      <td>15.2</td>\n",
       "    </tr>\n",
       "    <tr>\n",
       "      <th>87</th>\n",
       "      <td>9.10</td>\n",
       "      <td>non-USA</td>\n",
       "      <td>9.5</td>\n",
       "      <td>8.7</td>\n",
       "    </tr>\n",
       "    <tr>\n",
       "      <th>88</th>\n",
       "      <td>19.70</td>\n",
       "      <td>non-USA</td>\n",
       "      <td>22.7</td>\n",
       "      <td>16.6</td>\n",
       "    </tr>\n",
       "    <tr>\n",
       "      <th>89</th>\n",
       "      <td>20.00</td>\n",
       "      <td>non-USA</td>\n",
       "      <td>22.4</td>\n",
       "      <td>17.6</td>\n",
       "    </tr>\n",
       "  </tbody>\n",
       "</table>\n",
       "<p>69 rows × 4 columns</p>\n",
       "</div>"
      ],
      "text/plain": [
       "    Price   Origin  Max_Price  Min_Price\n",
       "0   15.90  non-USA       18.8       12.9\n",
       "3   16.55  non-USA       44.6       30.8\n",
       "4   16.55  non-USA       36.2       23.7\n",
       "5   15.70      USA       17.3       14.2\n",
       "8   16.55      USA       26.3       26.3\n",
       "..    ...      ...        ...        ...\n",
       "84  18.40  non-USA       22.6       14.2\n",
       "85  18.20  non-USA       21.2       15.2\n",
       "87   9.10  non-USA        9.5        8.7\n",
       "88  19.70  non-USA       22.7       16.6\n",
       "89  20.00  non-USA       22.4       17.6\n",
       "\n",
       "[69 rows x 4 columns]"
      ]
     },
     "execution_count": 167,
     "metadata": {},
     "output_type": "execute_result"
    }
   ],
   "source": [
    "# Price가 q3보다 작은 데이터프레임만 추출\n",
    "case2 = case2[case2['Price'] < q3]\n",
    "case2"
   ]
  },
  {
   "cell_type": "code",
   "execution_count": 168,
   "id": "ff4350cd-ba1c-49b5-883b-257ff4ec6c26",
   "metadata": {
    "tags": []
   },
   "outputs": [
    {
     "data": {
      "text/plain": [
       "Origin\n",
       "USA        579.70\n",
       "non-USA    424.35\n",
       "Name: Price, dtype: float64"
      ]
     },
     "execution_count": 168,
     "metadata": {},
     "output_type": "execute_result"
    }
   ],
   "source": [
    "# Origin 그룹별 Price의 합계\n",
    "sum2 = case2.groupby('Origin')['Price'].sum()\n",
    "sum2"
   ]
  },
  {
   "cell_type": "code",
   "execution_count": 169,
   "id": "ef172823-108e-4185-944a-75e114e13433",
   "metadata": {
    "tags": []
   },
   "outputs": [],
   "source": [
    "# 두 결과를 합한 후 가장 큰 원소\n",
    "max_value = max(sum1 + sum2)"
   ]
  },
  {
   "cell_type": "code",
   "execution_count": 170,
   "id": "f7c92c05-7bf8-4aed-8bab-1d1a335f49fe",
   "metadata": {
    "tags": []
   },
   "outputs": [
    {
     "data": {
      "text/plain": [
       "856"
      ]
     },
     "execution_count": 170,
     "metadata": {},
     "output_type": "execute_result"
    }
   ],
   "source": [
    "# 결과를 result 변수에 할당\n",
    "result = int(max_value)\n",
    "result"
   ]
  },
  {
   "cell_type": "code",
   "execution_count": null,
   "id": "f4c22021-e0ff-40bd-b8bc-36c7fd53fd4f",
   "metadata": {},
   "outputs": [],
   "source": []
  },
  {
   "cell_type": "markdown",
   "id": "10d28de1-e592-402f-aafb-07de19365ead",
   "metadata": {},
   "source": [
    "## 09."
   ]
  },
  {
   "cell_type": "code",
   "execution_count": 171,
   "id": "43a1a270-bd3a-46a7-9201-1562d9bee4a4",
   "metadata": {
    "tags": []
   },
   "outputs": [],
   "source": [
    "import pandas as pd\n",
    "import numpy as np"
   ]
  },
  {
   "cell_type": "code",
   "execution_count": 173,
   "id": "8bfece89-7e5e-4ff6-b223-5b4300cab51d",
   "metadata": {
    "tags": []
   },
   "outputs": [
    {
     "data": {
      "text/plain": [
       "Index(['Manufacturer', 'Model', 'Type', 'Min_Price', 'Price', 'Max_Price',\n",
       "       'MPG_city', 'MPG_highway', 'AirBags', 'DriveTrain', 'Cylinders',\n",
       "       'EngineSize', 'Horsepower', 'RPM', 'Rev_per_mile', 'Man_trans_avail',\n",
       "       'Fuel_tank_capacity', 'Passengers', 'Length', 'Wheelbase', 'Width',\n",
       "       'Turn_circle', 'Rear_seat_room', 'Luggage_room', 'Weight', 'Origin',\n",
       "       'Unnamed: 26', 'Make'],\n",
       "      dtype='object')"
      ]
     },
     "execution_count": 173,
     "metadata": {},
     "output_type": "execute_result"
    }
   ],
   "source": [
    "df9 = pd.read_csv('../data/연습문제/Cars93.csv')\n",
    "df9.columns"
   ]
  },
  {
   "cell_type": "code",
   "execution_count": 182,
   "id": "f282f2e0-29bf-43d5-977e-203b95436e8e",
   "metadata": {
    "tags": []
   },
   "outputs": [],
   "source": [
    "# 필요한 칼럼을 시리즈로 별도 저장\n",
    "price = df9['Price'].copy()\n",
    "max_price = df9['Max_Price'].copy()\n",
    "min_price = df9['Min_Price'].copy()\n",
    "df_type = df9['Type'].copy()"
   ]
  },
  {
   "cell_type": "code",
   "execution_count": 184,
   "id": "6fd1f11c-7c01-42fc-b853-de3d2b3362f8",
   "metadata": {
    "tags": []
   },
   "outputs": [
    {
     "data": {
      "text/plain": [
       "0     False\n",
       "1     False\n",
       "2     False\n",
       "3      True\n",
       "4      True\n",
       "      ...  \n",
       "88    False\n",
       "89    False\n",
       "90    False\n",
       "91    False\n",
       "92    False\n",
       "Name: Price, Length: 93, dtype: bool"
      ]
     },
     "execution_count": 184,
     "metadata": {},
     "output_type": "execute_result"
    }
   ],
   "source": [
    "# Price 컬럼이 결측인 조건\n",
    "condNa = price.isna()\n",
    "condNa"
   ]
  },
  {
   "cell_type": "code",
   "execution_count": 186,
   "id": "a2487b69-34a6-4390-a44d-d9cb7620c839",
   "metadata": {
    "tags": []
   },
   "outputs": [
    {
     "data": {
      "text/plain": [
       "0     15.90\n",
       "1     33.90\n",
       "2     29.10\n",
       "3     37.70\n",
       "4     29.95\n",
       "      ...  \n",
       "88    19.70\n",
       "89    20.00\n",
       "90    23.30\n",
       "91    22.70\n",
       "92    26.70\n",
       "Name: Price, Length: 93, dtype: float64"
      ]
     },
     "execution_count": 186,
     "metadata": {},
     "output_type": "execute_result"
    }
   ],
   "source": [
    "# Price가 결측치인 경우에 Min_Price와 Max_Price의 평균값 넣기\n",
    "price[condNa] = (max_price[condNa] + min_price[condNa]) / 2\n",
    "price"
   ]
  },
  {
   "cell_type": "code",
   "execution_count": 190,
   "id": "fbdada2c-c443-4c2d-84f9-399f9172dd65",
   "metadata": {
    "tags": []
   },
   "outputs": [],
   "source": [
    "# Price가 14.7보다 작거나 25.3보다 크면서 'Large' 타입인 레코드 수\n",
    "cond1 = price < 14.7\n",
    "cond2 = (price > 25.3) & (df_type == \"Large\")\n",
    "cond = cond1 | cond2"
   ]
  },
  {
   "cell_type": "code",
   "execution_count": 194,
   "id": "ef2fa97a-6ecf-4e2c-b3f2-35afb59869db",
   "metadata": {
    "tags": []
   },
   "outputs": [
    {
     "data": {
      "text/plain": [
       "(35, 28)"
      ]
     },
     "execution_count": 194,
     "metadata": {},
     "output_type": "execute_result"
    }
   ],
   "source": [
    "result = df9[cond]\n",
    "result.shape"
   ]
  },
  {
   "cell_type": "code",
   "execution_count": 195,
   "id": "2f8a6c57-2a13-498a-9b6a-084fdb75c92a",
   "metadata": {
    "tags": []
   },
   "outputs": [
    {
     "data": {
      "text/plain": [
       "35"
      ]
     },
     "execution_count": 195,
     "metadata": {},
     "output_type": "execute_result"
    }
   ],
   "source": [
    "# 레코드 수\n",
    "result.shape[0]"
   ]
  },
  {
   "cell_type": "code",
   "execution_count": null,
   "id": "4a5262a0-9df4-4a12-a8e9-8272c6c535b8",
   "metadata": {},
   "outputs": [],
   "source": []
  },
  {
   "cell_type": "markdown",
   "id": "66c2be70-9aef-4aeb-9953-7d98609c5fff",
   "metadata": {},
   "source": [
    "## 10."
   ]
  },
  {
   "cell_type": "code",
   "execution_count": 197,
   "id": "beb73eda-bfb9-41d1-8b31-1d7b2ca9c292",
   "metadata": {
    "tags": []
   },
   "outputs": [],
   "source": [
    "import pandas as pd\n",
    "import numpy as np"
   ]
  },
  {
   "cell_type": "code",
   "execution_count": 198,
   "id": "44746ba8-9cb8-4ca7-847b-e077e8aecc87",
   "metadata": {
    "tags": []
   },
   "outputs": [],
   "source": [
    "# 데이터 불러오기\n",
    "df10 = pd.read_csv('../data/연습문제/Cars93.csv')"
   ]
  },
  {
   "cell_type": "code",
   "execution_count": 199,
   "id": "4f0bb9d0-d1df-45ef-8f27-38cc646cbe48",
   "metadata": {
    "tags": []
   },
   "outputs": [
    {
     "data": {
      "text/plain": [
       "Index(['Manufacturer', 'Model', 'Type', 'Min_Price', 'Price', 'Max_Price',\n",
       "       'MPG_city', 'MPG_highway', 'AirBags', 'DriveTrain', 'Cylinders',\n",
       "       'EngineSize', 'Horsepower', 'RPM', 'Rev_per_mile', 'Man_trans_avail',\n",
       "       'Fuel_tank_capacity', 'Passengers', 'Length', 'Wheelbase', 'Width',\n",
       "       'Turn_circle', 'Rear_seat_room', 'Luggage_room', 'Weight', 'Origin',\n",
       "       'Unnamed: 26', 'Make'],\n",
       "      dtype='object')"
      ]
     },
     "execution_count": 199,
     "metadata": {},
     "output_type": "execute_result"
    }
   ],
   "source": [
    "df10.columns"
   ]
  },
  {
   "cell_type": "code",
   "execution_count": 200,
   "id": "4da3dda5-5204-4550-809a-8aca4c70c8aa",
   "metadata": {
    "tags": []
   },
   "outputs": [
    {
     "data": {
      "text/html": [
       "<div>\n",
       "<style scoped>\n",
       "    .dataframe tbody tr th:only-of-type {\n",
       "        vertical-align: middle;\n",
       "    }\n",
       "\n",
       "    .dataframe tbody tr th {\n",
       "        vertical-align: top;\n",
       "    }\n",
       "\n",
       "    .dataframe thead th {\n",
       "        text-align: right;\n",
       "    }\n",
       "</style>\n",
       "<table border=\"1\" class=\"dataframe\">\n",
       "  <thead>\n",
       "    <tr style=\"text-align: right;\">\n",
       "      <th></th>\n",
       "      <th>Make</th>\n",
       "      <th>AirBags</th>\n",
       "    </tr>\n",
       "  </thead>\n",
       "  <tbody>\n",
       "    <tr>\n",
       "      <th>0</th>\n",
       "      <td>Acura Integra</td>\n",
       "      <td>NaN</td>\n",
       "    </tr>\n",
       "    <tr>\n",
       "      <th>1</th>\n",
       "      <td>Acura Legend</td>\n",
       "      <td>Driver &amp; Passenger</td>\n",
       "    </tr>\n",
       "    <tr>\n",
       "      <th>2</th>\n",
       "      <td>Audi 90</td>\n",
       "      <td>Driver only</td>\n",
       "    </tr>\n",
       "    <tr>\n",
       "      <th>3</th>\n",
       "      <td>Audi 100</td>\n",
       "      <td>Driver &amp; Passenger</td>\n",
       "    </tr>\n",
       "    <tr>\n",
       "      <th>4</th>\n",
       "      <td>BMW 535i</td>\n",
       "      <td>Driver only</td>\n",
       "    </tr>\n",
       "  </tbody>\n",
       "</table>\n",
       "</div>"
      ],
      "text/plain": [
       "            Make             AirBags\n",
       "0  Acura Integra                 NaN\n",
       "1   Acura Legend  Driver & Passenger\n",
       "2        Audi 90         Driver only\n",
       "3       Audi 100  Driver & Passenger\n",
       "4       BMW 535i         Driver only"
      ]
     },
     "execution_count": 200,
     "metadata": {},
     "output_type": "execute_result"
    }
   ],
   "source": [
    "# 필요한 칼럼만 가져오기\n",
    "selected = df10[ ['Make', 'AirBags'] ]\n",
    "selected.head()"
   ]
  },
  {
   "cell_type": "code",
   "execution_count": 201,
   "id": "b1276b7c-e8e7-4720-9455-f24fb18551e3",
   "metadata": {
    "tags": []
   },
   "outputs": [],
   "source": [
    "make = selected['Make'].copy()\n",
    "airbags = selected['AirBags'].copy()"
   ]
  },
  {
   "cell_type": "code",
   "execution_count": 202,
   "id": "87f95122-ca51-4b2b-9646-19d41d00b83e",
   "metadata": {
    "tags": []
   },
   "outputs": [
    {
     "data": {
      "text/plain": [
       "array(['Acura Integra', 'Acura Legend', 'Audi 90', 'Audi 100', 'BMW 535i',\n",
       "       'Buick Century', 'Buick LeSabre', 'Buick Roadmaster',\n",
       "       'Buick Riviera', 'Cadillac DeVille', 'Cadillac Seville',\n",
       "       'Chevrolet Cavalier', '  Chevrolet Corsica', 'Chevrolet Camaro',\n",
       "       'Chevrolet Lumina', 'Chevrolet Lumina_APV', '  Chevrolet Astro',\n",
       "       'Chevrolet Caprice', 'Chevrolet Corvette', 'Chrylser Concorde',\n",
       "       'Chrysler LeBaron', 'Chrysler Imperial', 'Dodge Colt',\n",
       "       'Dodge Shadow', 'Dodge Spirit', 'Dodge Caravan', 'Dodge Dynasty',\n",
       "       'Dodge Stealth', 'Eagle Summit', 'Eagle Vision', 'Ford Festiva',\n",
       "       'Ford Escort', 'Ford Tempo', 'Ford Mustang', 'Ford Probe',\n",
       "       'Ford Aerostar', 'Ford Taurus', 'Ford Crown_Victoria', 'Geo Metro',\n",
       "       'Geo Storm', 'Honda Prelude', 'Honda Civic', 'Honda Accord',\n",
       "       'Hyundai Excel', 'Hyundai Elantra', 'Hyundai Scoupe',\n",
       "       'Hyundai Sonata', 'Infiniti Q45', 'Lexus ES300', 'Lexus SC300',\n",
       "       'Lincoln Continental', 'Lincoln Town_Car', 'Mazda 323',\n",
       "       'Mazda Protege', 'Mazda 626', 'Mazda MPV', 'Mazda RX-7',\n",
       "       'Mercedes-Benz 190E', 'Mercedes-Benz 300E', 'Mercury Capri',\n",
       "       'Mercury Cougar', 'Mitsubishi Mirage', 'Mitsubishi Diamante',\n",
       "       'Nissan Sentra', 'Nissan Altima', 'Nissan Quest', 'Nissan Maxima',\n",
       "       'Oldsmobile Achieva', 'Oldsmobile Cutlass_Ciera',\n",
       "       'Oldsmobile Silhouette', 'Oldsmobile Eighty-Eight',\n",
       "       'Plymouth Laser', '  Pontiac LeMans', 'Pontiac Sunbird',\n",
       "       '    Pontiac Firebird', 'Pontiac Grand_Prix', 'Pontiac Bonneville',\n",
       "       'Saab 900', 'Saturn SL', 'Subaru Justy', 'Subaru Loyale',\n",
       "       'Subaru Legacy', 'Suzuki Swift', 'Toyota Tercel', 'Toyota Celica',\n",
       "       'Toyota Camry', 'Toyota Previa', 'Volkswagen Fox',\n",
       "       'Volkswagen Eurovan', 'Volkswagen Passat', 'Volkswagen Corrado',\n",
       "       'Volvo 240', 'Volvo 850'], dtype=object)"
      ]
     },
     "execution_count": 202,
     "metadata": {},
     "output_type": "execute_result"
    }
   ],
   "source": [
    "make.unique()"
   ]
  },
  {
   "cell_type": "code",
   "execution_count": 203,
   "id": "46b4701b-d26a-4ab9-b061-30a107a83174",
   "metadata": {
    "tags": []
   },
   "outputs": [
    {
     "data": {
      "text/plain": [
       "array(['Acura Integra', 'Acura Legend', 'Audi 90', 'Audi 100', 'BMW 535i',\n",
       "       'Buick Century', 'Buick LeSabre', 'Buick Roadmaster',\n",
       "       'Buick Riviera', 'Cadillac DeVille', 'Cadillac Seville',\n",
       "       'Chevrolet Cavalier', 'Chevrolet Corsica', 'Chevrolet Camaro',\n",
       "       'Chevrolet Lumina', 'Chevrolet Lumina_APV', 'Chevrolet Astro',\n",
       "       'Chevrolet Caprice', 'Chevrolet Corvette', 'Chrylser Concorde',\n",
       "       'Chrysler LeBaron', 'Chrysler Imperial', 'Dodge Colt',\n",
       "       'Dodge Shadow', 'Dodge Spirit', 'Dodge Caravan', 'Dodge Dynasty',\n",
       "       'Dodge Stealth', 'Eagle Summit', 'Eagle Vision', 'Ford Festiva',\n",
       "       'Ford Escort', 'Ford Tempo', 'Ford Mustang', 'Ford Probe',\n",
       "       'Ford Aerostar', 'Ford Taurus', 'Ford Crown_Victoria', 'Geo Metro',\n",
       "       'Geo Storm', 'Honda Prelude', 'Honda Civic', 'Honda Accord',\n",
       "       'Hyundai Excel', 'Hyundai Elantra', 'Hyundai Scoupe',\n",
       "       'Hyundai Sonata', 'Infiniti Q45', 'Lexus ES300', 'Lexus SC300',\n",
       "       'Lincoln Continental', 'Lincoln Town_Car', 'Mazda 323',\n",
       "       'Mazda Protege', 'Mazda 626', 'Mazda MPV', 'Mazda RX-7',\n",
       "       'Mercedes-Benz 190E', 'Mercedes-Benz 300E', 'Mercury Capri',\n",
       "       'Mercury Cougar', 'Mitsubishi Mirage', 'Mitsubishi Diamante',\n",
       "       'Nissan Sentra', 'Nissan Altima', 'Nissan Quest', 'Nissan Maxima',\n",
       "       'Oldsmobile Achieva', 'Oldsmobile Cutlass_Ciera',\n",
       "       'Oldsmobile Silhouette', 'Oldsmobile Eighty-Eight',\n",
       "       'Plymouth Laser', 'Pontiac LeMans', 'Pontiac Sunbird',\n",
       "       'Pontiac Firebird', 'Pontiac Grand_Prix', 'Pontiac Bonneville',\n",
       "       'Saab 900', 'Saturn SL', 'Subaru Justy', 'Subaru Loyale',\n",
       "       'Subaru Legacy', 'Suzuki Swift', 'Toyota Tercel', 'Toyota Celica',\n",
       "       'Toyota Camry', 'Toyota Previa', 'Volkswagen Fox',\n",
       "       'Volkswagen Eurovan', 'Volkswagen Passat', 'Volkswagen Corrado',\n",
       "       'Volvo 240', 'Volvo 850'], dtype=object)"
      ]
     },
     "execution_count": 203,
     "metadata": {},
     "output_type": "execute_result"
    }
   ],
   "source": [
    "# 제조사가 'Chevrolet', 'Pontiac', 'Hyundai'로 시작해야 함\n",
    "# 우선 공백 제거\n",
    "make = make.str.strip()\n",
    "make.unique()"
   ]
  },
  {
   "cell_type": "code",
   "execution_count": 206,
   "id": "0b1a053c-0dc8-43bb-b025-982fcf9a3bd1",
   "metadata": {
    "tags": []
   },
   "outputs": [],
   "source": [
    "# 제조사가 'Chevrolet', 'Pontiac', 'Hyundai'로 시작 \n",
    "cond1 = make.str.startswith(('Chevrolet', 'Pontiac', 'Hyundai'))"
   ]
  },
  {
   "cell_type": "code",
   "execution_count": 210,
   "id": "9633497a-bd2b-4e9c-9d1e-3ca17ec35037",
   "metadata": {
    "tags": []
   },
   "outputs": [
    {
     "data": {
      "text/plain": [
       "array([nan, 'Driver & Passenger', 'Driver only'], dtype=object)"
      ]
     },
     "execution_count": 210,
     "metadata": {},
     "output_type": "execute_result"
    }
   ],
   "source": [
    "# AriBags이 Driver에만 있는 경우\n",
    "airbags.unique()"
   ]
  },
  {
   "cell_type": "code",
   "execution_count": 211,
   "id": "337be086-7318-4c15-ba8c-ed96e7eb145b",
   "metadata": {
    "tags": []
   },
   "outputs": [],
   "source": [
    "cond2 = (airbags == 'Driver only')"
   ]
  },
  {
   "cell_type": "code",
   "execution_count": 212,
   "id": "13a967bf-fe39-4948-ba40-a1fe6e022793",
   "metadata": {
    "tags": []
   },
   "outputs": [
    {
     "data": {
      "text/plain": [
       "3"
      ]
     },
     "execution_count": 212,
     "metadata": {},
     "output_type": "execute_result"
    }
   ],
   "source": [
    "# 결과를 result 변수에 할당\n",
    "result = sum(cond1 & cond2)\n",
    "result"
   ]
  },
  {
   "cell_type": "code",
   "execution_count": null,
   "id": "aa3f22b8-bf5a-468d-9b54-737570e50d39",
   "metadata": {},
   "outputs": [],
   "source": []
  },
  {
   "cell_type": "markdown",
   "id": "cf7981a9-09ce-4958-9963-23cee8707316",
   "metadata": {},
   "source": [
    "## 11."
   ]
  },
  {
   "cell_type": "code",
   "execution_count": 213,
   "id": "7b92195c-3aa7-4ed2-8803-68db8c5f059b",
   "metadata": {
    "tags": []
   },
   "outputs": [],
   "source": [
    "import pandas as pd\n",
    "import numpy as np"
   ]
  },
  {
   "cell_type": "code",
   "execution_count": 215,
   "id": "9b0df099-10e4-4b85-9f1b-76f0d7175e13",
   "metadata": {
    "tags": []
   },
   "outputs": [
    {
     "data": {
      "text/html": [
       "<div>\n",
       "<style scoped>\n",
       "    .dataframe tbody tr th:only-of-type {\n",
       "        vertical-align: middle;\n",
       "    }\n",
       "\n",
       "    .dataframe tbody tr th {\n",
       "        vertical-align: top;\n",
       "    }\n",
       "\n",
       "    .dataframe thead th {\n",
       "        text-align: right;\n",
       "    }\n",
       "</style>\n",
       "<table border=\"1\" class=\"dataframe\">\n",
       "  <thead>\n",
       "    <tr style=\"text-align: right;\">\n",
       "      <th></th>\n",
       "      <th>BPchange</th>\n",
       "      <th>Dose</th>\n",
       "      <th>Run</th>\n",
       "      <th>Treatment</th>\n",
       "      <th>Animal</th>\n",
       "    </tr>\n",
       "  </thead>\n",
       "  <tbody>\n",
       "    <tr>\n",
       "      <th>0</th>\n",
       "      <td>0.5</td>\n",
       "      <td>6.25</td>\n",
       "      <td>C1</td>\n",
       "      <td>Control</td>\n",
       "      <td>R1</td>\n",
       "    </tr>\n",
       "    <tr>\n",
       "      <th>1</th>\n",
       "      <td>4.5</td>\n",
       "      <td>12.50</td>\n",
       "      <td>C1</td>\n",
       "      <td>Control</td>\n",
       "      <td>R1</td>\n",
       "    </tr>\n",
       "    <tr>\n",
       "      <th>2</th>\n",
       "      <td>10.0</td>\n",
       "      <td>25.00</td>\n",
       "      <td>C1</td>\n",
       "      <td>Control</td>\n",
       "      <td>R1</td>\n",
       "    </tr>\n",
       "    <tr>\n",
       "      <th>3</th>\n",
       "      <td>26.0</td>\n",
       "      <td>50.00</td>\n",
       "      <td>C1</td>\n",
       "      <td>Control</td>\n",
       "      <td>R1</td>\n",
       "    </tr>\n",
       "    <tr>\n",
       "      <th>4</th>\n",
       "      <td>37.0</td>\n",
       "      <td>100.00</td>\n",
       "      <td>C1</td>\n",
       "      <td>Control</td>\n",
       "      <td>R1</td>\n",
       "    </tr>\n",
       "  </tbody>\n",
       "</table>\n",
       "</div>"
      ],
      "text/plain": [
       "   BPchange    Dose Run Treatment Animal\n",
       "0       0.5    6.25  C1   Control     R1\n",
       "1       4.5   12.50  C1   Control     R1\n",
       "2      10.0   25.00  C1   Control     R1\n",
       "3      26.0   50.00  C1   Control     R1\n",
       "4      37.0  100.00  C1   Control     R1"
      ]
     },
     "execution_count": 215,
     "metadata": {},
     "output_type": "execute_result"
    }
   ],
   "source": [
    "# 데이터 불러오기\n",
    "df11 = pd.read_csv('../data/연습문제/Rabbit.csv')\n",
    "df11.head()"
   ]
  },
  {
   "cell_type": "code",
   "execution_count": 216,
   "id": "34b50c64-5c4c-4b17-b455-a51ce30cbc93",
   "metadata": {
    "tags": []
   },
   "outputs": [
    {
     "name": "stdout",
     "output_type": "stream",
     "text": [
      "(60, 5)\n",
      "Index(['BPchange', 'Dose', 'Run', 'Treatment', 'Animal'], dtype='object')\n"
     ]
    }
   ],
   "source": [
    "# 데이터 정보 확인\n",
    "print(df11.shape)\n",
    "print(df11.columns)"
   ]
  },
  {
   "cell_type": "code",
   "execution_count": 220,
   "id": "0c9093c7-6f60-47b0-b4ee-ad85506e0803",
   "metadata": {
    "tags": []
   },
   "outputs": [
    {
     "data": {
      "text/plain": [
       "(100.0, 37.5)"
      ]
     },
     "execution_count": 220,
     "metadata": {},
     "output_type": "execute_result"
    }
   ],
   "source": [
    "# Dose 칼럼의 제3사분위수와 제2사분위수 저장\n",
    "q3 = df11['Dose'].quantile(.75)\n",
    "q2 = df11['Dose'].quantile(.5)    # 또는 .median()\n",
    "q3, q2"
   ]
  },
  {
   "cell_type": "code",
   "execution_count": 221,
   "id": "7e7266c6-f4cf-4f87-bc3a-1875d53bfda6",
   "metadata": {
    "tags": []
   },
   "outputs": [
    {
     "data": {
      "text/plain": [
       "62.5"
      ]
     },
     "execution_count": 221,
     "metadata": {},
     "output_type": "execute_result"
    }
   ],
   "source": [
    "# 두 값의 차이의 절댓값\n",
    "diff = abs(q3 - q2)\n",
    "diff"
   ]
  },
  {
   "cell_type": "code",
   "execution_count": 222,
   "id": "a7905c2b-8982-4f9e-b6e1-af649fd1cbd6",
   "metadata": {
    "tags": []
   },
   "outputs": [
    {
     "data": {
      "text/plain": [
       "62"
      ]
     },
     "execution_count": 222,
     "metadata": {},
     "output_type": "execute_result"
    }
   ],
   "source": [
    "# 결과를 result 변수에 할당\n",
    "result = int(diff)\n",
    "result"
   ]
  },
  {
   "cell_type": "code",
   "execution_count": null,
   "id": "d658ebe1-503e-4fb2-b73c-d8261869c77e",
   "metadata": {},
   "outputs": [],
   "source": []
  },
  {
   "cell_type": "markdown",
   "id": "bc514fad-1f6b-4c59-97b9-cee1d1730e51",
   "metadata": {},
   "source": [
    "## 12."
   ]
  },
  {
   "cell_type": "code",
   "execution_count": 223,
   "id": "1c57db0f-3dec-431e-bd1a-1314ccab8c48",
   "metadata": {
    "tags": []
   },
   "outputs": [],
   "source": [
    "import pandas as pd\n",
    "import numpy as np"
   ]
  },
  {
   "cell_type": "code",
   "execution_count": 239,
   "id": "faf147fe-04b1-44f2-af92-018682eb71a7",
   "metadata": {
    "tags": []
   },
   "outputs": [
    {
     "data": {
      "text/html": [
       "<div>\n",
       "<style scoped>\n",
       "    .dataframe tbody tr th:only-of-type {\n",
       "        vertical-align: middle;\n",
       "    }\n",
       "\n",
       "    .dataframe tbody tr th {\n",
       "        vertical-align: top;\n",
       "    }\n",
       "\n",
       "    .dataframe thead th {\n",
       "        text-align: right;\n",
       "    }\n",
       "</style>\n",
       "<table border=\"1\" class=\"dataframe\">\n",
       "  <thead>\n",
       "    <tr style=\"text-align: right;\">\n",
       "      <th></th>\n",
       "      <th>crim</th>\n",
       "      <th>zn</th>\n",
       "      <th>indus</th>\n",
       "      <th>chas</th>\n",
       "      <th>nox</th>\n",
       "      <th>rm</th>\n",
       "      <th>age</th>\n",
       "      <th>dis</th>\n",
       "      <th>rad</th>\n",
       "      <th>tax</th>\n",
       "      <th>ptratio</th>\n",
       "      <th>black</th>\n",
       "      <th>lstat</th>\n",
       "      <th>medv</th>\n",
       "    </tr>\n",
       "  </thead>\n",
       "  <tbody>\n",
       "    <tr>\n",
       "      <th>0</th>\n",
       "      <td>0.00632</td>\n",
       "      <td>18.0</td>\n",
       "      <td>2.31</td>\n",
       "      <td>0</td>\n",
       "      <td>0.538</td>\n",
       "      <td>6.575</td>\n",
       "      <td>65.2</td>\n",
       "      <td>4.0900</td>\n",
       "      <td>1</td>\n",
       "      <td>296</td>\n",
       "      <td>15.3</td>\n",
       "      <td>396.90</td>\n",
       "      <td>4.98</td>\n",
       "      <td>24.0</td>\n",
       "    </tr>\n",
       "    <tr>\n",
       "      <th>1</th>\n",
       "      <td>0.02731</td>\n",
       "      <td>0.0</td>\n",
       "      <td>7.07</td>\n",
       "      <td>0</td>\n",
       "      <td>0.469</td>\n",
       "      <td>6.421</td>\n",
       "      <td>78.9</td>\n",
       "      <td>4.9671</td>\n",
       "      <td>2</td>\n",
       "      <td>242</td>\n",
       "      <td>17.8</td>\n",
       "      <td>396.90</td>\n",
       "      <td>9.14</td>\n",
       "      <td>21.6</td>\n",
       "    </tr>\n",
       "    <tr>\n",
       "      <th>2</th>\n",
       "      <td>0.02729</td>\n",
       "      <td>0.0</td>\n",
       "      <td>7.07</td>\n",
       "      <td>0</td>\n",
       "      <td>0.469</td>\n",
       "      <td>7.185</td>\n",
       "      <td>61.1</td>\n",
       "      <td>4.9671</td>\n",
       "      <td>2</td>\n",
       "      <td>242</td>\n",
       "      <td>17.8</td>\n",
       "      <td>392.83</td>\n",
       "      <td>4.03</td>\n",
       "      <td>34.7</td>\n",
       "    </tr>\n",
       "    <tr>\n",
       "      <th>3</th>\n",
       "      <td>0.03237</td>\n",
       "      <td>0.0</td>\n",
       "      <td>2.18</td>\n",
       "      <td>0</td>\n",
       "      <td>0.458</td>\n",
       "      <td>6.998</td>\n",
       "      <td>45.8</td>\n",
       "      <td>6.0622</td>\n",
       "      <td>3</td>\n",
       "      <td>222</td>\n",
       "      <td>18.7</td>\n",
       "      <td>394.63</td>\n",
       "      <td>2.94</td>\n",
       "      <td>33.4</td>\n",
       "    </tr>\n",
       "    <tr>\n",
       "      <th>4</th>\n",
       "      <td>0.06905</td>\n",
       "      <td>0.0</td>\n",
       "      <td>2.18</td>\n",
       "      <td>0</td>\n",
       "      <td>0.458</td>\n",
       "      <td>7.147</td>\n",
       "      <td>54.2</td>\n",
       "      <td>6.0622</td>\n",
       "      <td>3</td>\n",
       "      <td>222</td>\n",
       "      <td>18.7</td>\n",
       "      <td>396.90</td>\n",
       "      <td>5.33</td>\n",
       "      <td>36.2</td>\n",
       "    </tr>\n",
       "  </tbody>\n",
       "</table>\n",
       "</div>"
      ],
      "text/plain": [
       "      crim    zn  indus  chas    nox     rm   age     dis  rad  tax  ptratio  \\\n",
       "0  0.00632  18.0   2.31     0  0.538  6.575  65.2  4.0900    1  296     15.3   \n",
       "1  0.02731   0.0   7.07     0  0.469  6.421  78.9  4.9671    2  242     17.8   \n",
       "2  0.02729   0.0   7.07     0  0.469  7.185  61.1  4.9671    2  242     17.8   \n",
       "3  0.03237   0.0   2.18     0  0.458  6.998  45.8  6.0622    3  222     18.7   \n",
       "4  0.06905   0.0   2.18     0  0.458  7.147  54.2  6.0622    3  222     18.7   \n",
       "\n",
       "    black  lstat  medv  \n",
       "0  396.90   4.98  24.0  \n",
       "1  396.90   9.14  21.6  \n",
       "2  392.83   4.03  34.7  \n",
       "3  394.63   2.94  33.4  \n",
       "4  396.90   5.33  36.2  "
      ]
     },
     "execution_count": 239,
     "metadata": {},
     "output_type": "execute_result"
    }
   ],
   "source": [
    "# 데이터셋 불러오기\n",
    "df12 = pd.read_csv('../data/연습문제/Boston.csv')\n",
    "df12.head()"
   ]
  },
  {
   "cell_type": "code",
   "execution_count": 240,
   "id": "78e4df6b-dade-4441-a071-560a09d818bc",
   "metadata": {
    "tags": []
   },
   "outputs": [
    {
     "name": "stdout",
     "output_type": "stream",
     "text": [
      "(506, 14)\n",
      "Index(['crim', 'zn', 'indus', 'chas', 'nox', 'rm', 'age', 'dis', 'rad', 'tax',\n",
      "       'ptratio', 'black', 'lstat', 'medv'],\n",
      "      dtype='object')\n"
     ]
    }
   ],
   "source": [
    "# 데이터 확인\n",
    "print(df12.shape)\n",
    "print(df12.columns)"
   ]
  },
  {
   "cell_type": "code",
   "execution_count": 241,
   "id": "9f9889bf-9013-4ec8-9a5e-8f12e439323e",
   "metadata": {
    "tags": []
   },
   "outputs": [
    {
     "name": "stdout",
     "output_type": "stream",
     "text": [
      "최댓값:  50.0\n",
      "최솟값:  5.0\n"
     ]
    }
   ],
   "source": [
    "# medv 값 확인\n",
    "print(\"최댓값: \", max(df12['medv']))\n",
    "print(\"최솟값: \", min(df12['medv']))"
   ]
  },
  {
   "cell_type": "code",
   "execution_count": 242,
   "id": "57551878-b228-4f25-8837-7052162788ad",
   "metadata": {
    "tags": []
   },
   "outputs": [
    {
     "data": {
      "text/plain": [
       "0      (20, 30]\n",
       "1      (20, 30]\n",
       "2      (30, 40]\n",
       "3      (30, 40]\n",
       "4      (30, 40]\n",
       "         ...   \n",
       "501    (20, 30]\n",
       "502    (20, 30]\n",
       "503    (20, 30]\n",
       "504    (20, 30]\n",
       "505    (10, 20]\n",
       "Name: medv, Length: 506, dtype: category\n",
       "Categories (5, interval[int64, right]): [(0, 10] < (10, 20] < (20, 30] < (30, 40] < (40, 50]]"
      ]
     },
     "execution_count": 242,
     "metadata": {},
     "output_type": "execute_result"
    }
   ],
   "source": [
    "# 폭 10을 기준으로 binning\n",
    "medvBinning = pd.cut(df12['medv'], bins = [0, 10, 20, 30, 40, 50])\n",
    "medvBinning"
   ]
  },
  {
   "cell_type": "code",
   "execution_count": 243,
   "id": "406a7c2f-3669-41fb-946b-e38bed2c4ccf",
   "metadata": {
    "tags": []
   },
   "outputs": [
    {
     "data": {
      "text/plain": [
       "Interval(20, 30, closed='right')"
      ]
     },
     "execution_count": 243,
     "metadata": {},
     "output_type": "execute_result"
    }
   ],
   "source": [
    "# 가장 많은 빈도를 가지는 구간 산출\n",
    "mode = medvBinning.value_counts().idxmax()\n",
    "mode"
   ]
  },
  {
   "cell_type": "code",
   "execution_count": 244,
   "id": "56b79e5a-3fae-4fc5-a93d-f7b7573bd4ab",
   "metadata": {
    "tags": []
   },
   "outputs": [
    {
     "data": {
      "text/plain": [
       "0       True\n",
       "1       True\n",
       "2      False\n",
       "3      False\n",
       "4      False\n",
       "       ...  \n",
       "501     True\n",
       "502     True\n",
       "503     True\n",
       "504     True\n",
       "505    False\n",
       "Name: medv, Length: 506, dtype: bool"
      ]
     },
     "execution_count": 244,
     "metadata": {},
     "output_type": "execute_result"
    }
   ],
   "source": [
    "cond = (medvBinning == mode)\n",
    "cond"
   ]
  },
  {
   "cell_type": "code",
   "execution_count": 249,
   "id": "fc61d05f-5ffb-46aa-9b62-c89559e31e85",
   "metadata": {
    "tags": []
   },
   "outputs": [
    {
     "data": {
      "text/plain": [
       "3.9454"
      ]
     },
     "execution_count": 249,
     "metadata": {},
     "output_type": "execute_result"
    }
   ],
   "source": [
    "# (20, 30] 내 dis 컬럼의 중앙값 구하기\n",
    "median = df12['dis'][cond].median()\n",
    "median"
   ]
  },
  {
   "cell_type": "code",
   "execution_count": 253,
   "id": "5345eb12-b06e-43a8-bf6e-3356282808ee",
   "metadata": {
    "tags": []
   },
   "outputs": [
    {
     "data": {
      "text/plain": [
       "3.95"
      ]
     },
     "execution_count": 253,
     "metadata": {},
     "output_type": "execute_result"
    }
   ],
   "source": [
    "# 결과를 result 변수에 할당\n",
    "result = round(median, 2)\n",
    "result"
   ]
  },
  {
   "cell_type": "code",
   "execution_count": null,
   "id": "aa988246-9b5c-41fe-91a6-d7e9b4a8f3c5",
   "metadata": {},
   "outputs": [],
   "source": []
  },
  {
   "cell_type": "markdown",
   "id": "b73e0b40-8bf0-42e7-8972-c0e67f82bcbd",
   "metadata": {},
   "source": [
    "## 13."
   ]
  },
  {
   "cell_type": "code",
   "execution_count": 254,
   "id": "3441b522-5e60-4920-85a1-26ccbf5803c3",
   "metadata": {
    "tags": []
   },
   "outputs": [],
   "source": [
    "import pandas as pd\n",
    "import numpy as np"
   ]
  },
  {
   "cell_type": "code",
   "execution_count": 255,
   "id": "8f1e9221-d8b6-4511-b838-665258af040d",
   "metadata": {
    "tags": []
   },
   "outputs": [
    {
     "data": {
      "text/html": [
       "<div>\n",
       "<style scoped>\n",
       "    .dataframe tbody tr th:only-of-type {\n",
       "        vertical-align: middle;\n",
       "    }\n",
       "\n",
       "    .dataframe tbody tr th {\n",
       "        vertical-align: top;\n",
       "    }\n",
       "\n",
       "    .dataframe thead th {\n",
       "        text-align: right;\n",
       "    }\n",
       "</style>\n",
       "<table border=\"1\" class=\"dataframe\">\n",
       "  <thead>\n",
       "    <tr style=\"text-align: right;\">\n",
       "      <th></th>\n",
       "      <th>time</th>\n",
       "      <th>status</th>\n",
       "      <th>sex</th>\n",
       "      <th>age</th>\n",
       "      <th>year</th>\n",
       "      <th>thickness</th>\n",
       "      <th>ulcer</th>\n",
       "    </tr>\n",
       "  </thead>\n",
       "  <tbody>\n",
       "    <tr>\n",
       "      <th>0</th>\n",
       "      <td>10</td>\n",
       "      <td>3</td>\n",
       "      <td>1</td>\n",
       "      <td>76</td>\n",
       "      <td>1972</td>\n",
       "      <td>6.76</td>\n",
       "      <td>1</td>\n",
       "    </tr>\n",
       "    <tr>\n",
       "      <th>1</th>\n",
       "      <td>30</td>\n",
       "      <td>3</td>\n",
       "      <td>1</td>\n",
       "      <td>56</td>\n",
       "      <td>1968</td>\n",
       "      <td>0.65</td>\n",
       "      <td>0</td>\n",
       "    </tr>\n",
       "    <tr>\n",
       "      <th>2</th>\n",
       "      <td>35</td>\n",
       "      <td>2</td>\n",
       "      <td>1</td>\n",
       "      <td>41</td>\n",
       "      <td>1977</td>\n",
       "      <td>1.34</td>\n",
       "      <td>0</td>\n",
       "    </tr>\n",
       "    <tr>\n",
       "      <th>3</th>\n",
       "      <td>99</td>\n",
       "      <td>3</td>\n",
       "      <td>0</td>\n",
       "      <td>71</td>\n",
       "      <td>1968</td>\n",
       "      <td>2.90</td>\n",
       "      <td>0</td>\n",
       "    </tr>\n",
       "    <tr>\n",
       "      <th>4</th>\n",
       "      <td>185</td>\n",
       "      <td>1</td>\n",
       "      <td>1</td>\n",
       "      <td>52</td>\n",
       "      <td>1965</td>\n",
       "      <td>12.08</td>\n",
       "      <td>1</td>\n",
       "    </tr>\n",
       "  </tbody>\n",
       "</table>\n",
       "</div>"
      ],
      "text/plain": [
       "   time  status  sex  age  year  thickness  ulcer\n",
       "0    10       3    1   76  1972       6.76      1\n",
       "1    30       3    1   56  1968       0.65      0\n",
       "2    35       2    1   41  1977       1.34      0\n",
       "3    99       3    0   71  1968       2.90      0\n",
       "4   185       1    1   52  1965      12.08      1"
      ]
     },
     "execution_count": 255,
     "metadata": {},
     "output_type": "execute_result"
    }
   ],
   "source": [
    "# 데이터 불러오기\n",
    "df13 = pd.read_csv('../data/연습문제/Melanoma.csv')\n",
    "df13.head()"
   ]
  },
  {
   "cell_type": "code",
   "execution_count": 256,
   "id": "d4d38057-4b59-4045-aced-7f0f93b313e3",
   "metadata": {
    "tags": []
   },
   "outputs": [
    {
     "data": {
      "text/plain": [
       "(205, 7)"
      ]
     },
     "execution_count": 256,
     "metadata": {},
     "output_type": "execute_result"
    }
   ],
   "source": [
    "df13.shape"
   ]
  },
  {
   "cell_type": "code",
   "execution_count": 258,
   "id": "aedbb22c-b9fb-4060-bc6a-832b49a3aad5",
   "metadata": {
    "tags": []
   },
   "outputs": [
    {
     "data": {
      "text/plain": [
       "((123, 7), (82, 7))"
      ]
     },
     "execution_count": 258,
     "metadata": {},
     "output_type": "execute_result"
    }
   ],
   "source": [
    "# 1번째 ~ 122번째 레코드와 123번째 이후 레코드로 데이터셋 분리\n",
    "df1 = df13.iloc[:123]\n",
    "df2 = df13.iloc[123:]\n",
    "df1.shape, df2.shape"
   ]
  },
  {
   "cell_type": "code",
   "execution_count": 260,
   "id": "a2a2c637-adee-42f6-85d6-8bf4503d461f",
   "metadata": {
    "tags": []
   },
   "outputs": [
    {
     "data": {
      "text/plain": [
       "(3.2740650406504064, 3.314143273167185)"
      ]
     },
     "execution_count": 260,
     "metadata": {},
     "output_type": "execute_result"
    }
   ],
   "source": [
    "# thickness 칼럼을 z-score 정규화로 변환\n",
    "avg = df1['thickness'].mean()             # 평균\n",
    "std = df1['thickness'].std()              # 표준편차\n",
    "avg, std"
   ]
  },
  {
   "cell_type": "code",
   "execution_count": 262,
   "id": "5912cce0-c6d6-44bc-bc04-2741c759aad3",
   "metadata": {
    "tags": []
   },
   "outputs": [],
   "source": [
    "# z-score 변환\n",
    "std1 = (df1['thickness'] - avg) / std\n",
    "std2 = (df2['thickness'] - avg) / std"
   ]
  },
  {
   "cell_type": "code",
   "execution_count": 266,
   "id": "b71568ac-8793-4d52-afc0-e6d0f02e3195",
   "metadata": {
    "tags": []
   },
   "outputs": [],
   "source": [
    "# -1과 1 사이 값\n",
    "sub_std1 = std1[ (std1 >= -1) & (std1 <= 1) ]\n",
    "sub_std2 = std2[ (std2 >= -1) & (std2 <= 1) ]"
   ]
  },
  {
   "cell_type": "code",
   "execution_count": 268,
   "id": "e081dc00-b4ac-40eb-a764-874681bb23be",
   "metadata": {
    "tags": []
   },
   "outputs": [
    {
     "data": {
      "text/plain": [
       "(-0.4779712010267387, -0.524740452451368)"
      ]
     },
     "execution_count": 268,
     "metadata": {},
     "output_type": "execute_result"
    }
   ],
   "source": [
    "# 중앙값\n",
    "med1 = sub_std1.median()\n",
    "med2 = sub_std2.median()\n",
    "med1, med2"
   ]
  },
  {
   "cell_type": "code",
   "execution_count": 269,
   "id": "55301153-a9c0-4d01-834e-777bdd8f9c7c",
   "metadata": {
    "tags": []
   },
   "outputs": [
    {
     "data": {
      "text/plain": [
       "-1.0027"
      ]
     },
     "execution_count": 269,
     "metadata": {},
     "output_type": "execute_result"
    }
   ],
   "source": [
    "# 합계를 result에 할당\n",
    "result = round(med1 + med2, 4)\n",
    "result"
   ]
  },
  {
   "cell_type": "code",
   "execution_count": null,
   "id": "9576efa5-4a31-4f44-84b1-fd26ec355fff",
   "metadata": {},
   "outputs": [],
   "source": []
  }
 ],
 "metadata": {
  "kernelspec": {
   "display_name": "Python 3 (ipykernel)",
   "language": "python",
   "name": "python3"
  },
  "language_info": {
   "codemirror_mode": {
    "name": "ipython",
    "version": 3
   },
   "file_extension": ".py",
   "mimetype": "text/x-python",
   "name": "python",
   "nbconvert_exporter": "python",
   "pygments_lexer": "ipython3",
   "version": "3.11.5"
  }
 },
 "nbformat": 4,
 "nbformat_minor": 5
}
