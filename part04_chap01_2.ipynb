{
 "cells": [
  {
   "cell_type": "markdown",
   "id": "8be60bfd-1cd1-4b85-bb2f-00c5669214da",
   "metadata": {},
   "source": [
    "## Part 04 머신러닝 - 1장 지도 학습 모형\n",
    "\n",
    "### 3절: 선형 모델\n",
    "<br>\n",
    "\n",
    "#### **1) 사이킷런을 활용한 다중 선형 회귀분석**\n",
    "\n",
    "#### **1-1) 다중 선형 회귀모형**\n",
    "\n",
    "- 사이킷런을 활용한 방법의 경우, ```sklearn.linear_model.LinearRegression()```을 통해 선형회귀(LinearRegression) 객체를 생성한 후, 해당 객체의 메소드 ```fit()```을 이용해 회귀모형을 적합함\n",
    "- ```선형회귀객체.fit(X, y, ...)```  \n",
    "   - **X**: 학습 데이터\n",
    "   - **y**: 목푯값"
   ]
  },
  {
   "cell_type": "markdown",
   "id": "e99d2333-615f-4e89-8aa7-2b376992851a",
   "metadata": {},
   "source": [
    "#### Q.\n",
    "diabetes 데이터에서 'bmi', 'bp', 's1', 's2', 's3' 컬럼을 독립변수로 설정하고, 'target' 변수를 종속변수로 설정하여 선형 회귀분석 실시하기"
   ]
  },
  {
   "cell_type": "code",
   "execution_count": 1,
   "id": "3e938b03-13b9-4e14-8d1d-d5c9a20a978b",
   "metadata": {
    "tags": []
   },
   "outputs": [],
   "source": [
    "# 필요한 패키지 호출\n",
    "from sklearn.linear_model import LinearRegression\n",
    "import pandas as pd\n",
    "import numpy as np"
   ]
  },
  {
   "cell_type": "code",
   "execution_count": 2,
   "id": "d18e8359-eef5-4080-8dff-9f87fe4477c7",
   "metadata": {
    "tags": []
   },
   "outputs": [],
   "source": [
    "# 데이터 가져오기\n",
    "from sklearn.datasets import load_diabetes\n",
    "diabetes = load_diabetes()\n",
    "data = diabetes.data\n",
    "target = diabetes.target"
   ]
  },
  {
   "cell_type": "code",
   "execution_count": 5,
   "id": "db07d61b-512b-4161-8beb-98f8577e7ed0",
   "metadata": {
    "tags": []
   },
   "outputs": [],
   "source": [
    "df = pd.DataFrame(data, columns=diabetes.feature_names)"
   ]
  },
  {
   "cell_type": "code",
   "execution_count": 6,
   "id": "1bf66cff-161e-4b3d-84f6-02d48420df5c",
   "metadata": {
    "tags": []
   },
   "outputs": [],
   "source": [
    "columns = ['bmi', 'bp', 's1', 's2', 's3']\n",
    "X = df[columns]\n",
    "y = target"
   ]
  },
  {
   "cell_type": "code",
   "execution_count": 7,
   "id": "9db5270c-51fd-422a-a517-d4a71f62112d",
   "metadata": {
    "tags": []
   },
   "outputs": [],
   "source": [
    "# 선형회귀 객체 생성\n",
    "model = LinearRegression()"
   ]
  },
  {
   "cell_type": "code",
   "execution_count": 8,
   "id": "9cd8d6ea-271d-4394-85fd-2072857d899f",
   "metadata": {
    "tags": []
   },
   "outputs": [
    {
     "data": {
      "text/html": [
       "<style>#sk-container-id-1 {color: black;}#sk-container-id-1 pre{padding: 0;}#sk-container-id-1 div.sk-toggleable {background-color: white;}#sk-container-id-1 label.sk-toggleable__label {cursor: pointer;display: block;width: 100%;margin-bottom: 0;padding: 0.3em;box-sizing: border-box;text-align: center;}#sk-container-id-1 label.sk-toggleable__label-arrow:before {content: \"▸\";float: left;margin-right: 0.25em;color: #696969;}#sk-container-id-1 label.sk-toggleable__label-arrow:hover:before {color: black;}#sk-container-id-1 div.sk-estimator:hover label.sk-toggleable__label-arrow:before {color: black;}#sk-container-id-1 div.sk-toggleable__content {max-height: 0;max-width: 0;overflow: hidden;text-align: left;background-color: #f0f8ff;}#sk-container-id-1 div.sk-toggleable__content pre {margin: 0.2em;color: black;border-radius: 0.25em;background-color: #f0f8ff;}#sk-container-id-1 input.sk-toggleable__control:checked~div.sk-toggleable__content {max-height: 200px;max-width: 100%;overflow: auto;}#sk-container-id-1 input.sk-toggleable__control:checked~label.sk-toggleable__label-arrow:before {content: \"▾\";}#sk-container-id-1 div.sk-estimator input.sk-toggleable__control:checked~label.sk-toggleable__label {background-color: #d4ebff;}#sk-container-id-1 div.sk-label input.sk-toggleable__control:checked~label.sk-toggleable__label {background-color: #d4ebff;}#sk-container-id-1 input.sk-hidden--visually {border: 0;clip: rect(1px 1px 1px 1px);clip: rect(1px, 1px, 1px, 1px);height: 1px;margin: -1px;overflow: hidden;padding: 0;position: absolute;width: 1px;}#sk-container-id-1 div.sk-estimator {font-family: monospace;background-color: #f0f8ff;border: 1px dotted black;border-radius: 0.25em;box-sizing: border-box;margin-bottom: 0.5em;}#sk-container-id-1 div.sk-estimator:hover {background-color: #d4ebff;}#sk-container-id-1 div.sk-parallel-item::after {content: \"\";width: 100%;border-bottom: 1px solid gray;flex-grow: 1;}#sk-container-id-1 div.sk-label:hover label.sk-toggleable__label {background-color: #d4ebff;}#sk-container-id-1 div.sk-serial::before {content: \"\";position: absolute;border-left: 1px solid gray;box-sizing: border-box;top: 0;bottom: 0;left: 50%;z-index: 0;}#sk-container-id-1 div.sk-serial {display: flex;flex-direction: column;align-items: center;background-color: white;padding-right: 0.2em;padding-left: 0.2em;position: relative;}#sk-container-id-1 div.sk-item {position: relative;z-index: 1;}#sk-container-id-1 div.sk-parallel {display: flex;align-items: stretch;justify-content: center;background-color: white;position: relative;}#sk-container-id-1 div.sk-item::before, #sk-container-id-1 div.sk-parallel-item::before {content: \"\";position: absolute;border-left: 1px solid gray;box-sizing: border-box;top: 0;bottom: 0;left: 50%;z-index: -1;}#sk-container-id-1 div.sk-parallel-item {display: flex;flex-direction: column;z-index: 1;position: relative;background-color: white;}#sk-container-id-1 div.sk-parallel-item:first-child::after {align-self: flex-end;width: 50%;}#sk-container-id-1 div.sk-parallel-item:last-child::after {align-self: flex-start;width: 50%;}#sk-container-id-1 div.sk-parallel-item:only-child::after {width: 0;}#sk-container-id-1 div.sk-dashed-wrapped {border: 1px dashed gray;margin: 0 0.4em 0.5em 0.4em;box-sizing: border-box;padding-bottom: 0.4em;background-color: white;}#sk-container-id-1 div.sk-label label {font-family: monospace;font-weight: bold;display: inline-block;line-height: 1.2em;}#sk-container-id-1 div.sk-label-container {text-align: center;}#sk-container-id-1 div.sk-container {/* jupyter's `normalize.less` sets `[hidden] { display: none; }` but bootstrap.min.css set `[hidden] { display: none !important; }` so we also need the `!important` here to be able to override the default hidden behavior on the sphinx rendered scikit-learn.org. See: https://github.com/scikit-learn/scikit-learn/issues/21755 */display: inline-block !important;position: relative;}#sk-container-id-1 div.sk-text-repr-fallback {display: none;}</style><div id=\"sk-container-id-1\" class=\"sk-top-container\"><div class=\"sk-text-repr-fallback\"><pre>LinearRegression()</pre><b>In a Jupyter environment, please rerun this cell to show the HTML representation or trust the notebook. <br />On GitHub, the HTML representation is unable to render, please try loading this page with nbviewer.org.</b></div><div class=\"sk-container\" hidden><div class=\"sk-item\"><div class=\"sk-estimator sk-toggleable\"><input class=\"sk-toggleable__control sk-hidden--visually\" id=\"sk-estimator-id-1\" type=\"checkbox\" checked><label for=\"sk-estimator-id-1\" class=\"sk-toggleable__label sk-toggleable__label-arrow\">LinearRegression</label><div class=\"sk-toggleable__content\"><pre>LinearRegression()</pre></div></div></div></div></div>"
      ],
      "text/plain": [
       "LinearRegression()"
      ]
     },
     "execution_count": 8,
     "metadata": {},
     "output_type": "execute_result"
    }
   ],
   "source": [
    "# 선형회귀 적합\n",
    "model.fit(X = X, y = y)"
   ]
  },
  {
   "cell_type": "code",
   "execution_count": 9,
   "id": "183ffe96-9fd2-414f-8ac4-6e8f4a952a56",
   "metadata": {
    "tags": []
   },
   "outputs": [
    {
     "data": {
      "text/plain": [
       "array([ 608.94692667,  301.1268683 ,  990.86452444, -938.97359917,\n",
       "       -597.46181621])"
      ]
     },
     "execution_count": 9,
     "metadata": {},
     "output_type": "execute_result"
    }
   ],
   "source": [
    "# 독립변수들에 대한 추정 회귀계수들\n",
    "model.coef_"
   ]
  },
  {
   "cell_type": "code",
   "execution_count": 10,
   "id": "cbf76fc0-b0a7-4163-85be-4c3b6d85a70f",
   "metadata": {
    "tags": []
   },
   "outputs": [
    {
     "data": {
      "text/plain": [
       "152.13348416289614"
      ]
     },
     "execution_count": 10,
     "metadata": {},
     "output_type": "execute_result"
    }
   ],
   "source": [
    "# 절편항에 대한 추정 회귀계수\n",
    "model.intercept_"
   ]
  },
  {
   "cell_type": "markdown",
   "id": "1a304a4f-4529-4581-85c1-9c73a7d1679a",
   "metadata": {},
   "source": [
    "- ```model.coef_```, ```model.intercept_```를 통해 회귀계수를 확인한 결과, 추정된 회귀식: \n",
    "$$target = 152.13 + (608.94 * bmi) + (301.13 * bp) + (990.87 * s1) + (-938.97 * s2) + (-597.46 * s3)$$"
   ]
  },
  {
   "cell_type": "code",
   "execution_count": 11,
   "id": "07d0b2ba-b242-41c8-b62b-fb667932f693",
   "metadata": {
    "tags": []
   },
   "outputs": [
    {
     "data": {
      "text/plain": [
       "0.4772123190202695"
      ]
     },
     "execution_count": 11,
     "metadata": {},
     "output_type": "execute_result"
    }
   ],
   "source": [
    "# 결정계수\n",
    "model.score(X = X, y = y)"
   ]
  },
  {
   "cell_type": "markdown",
   "id": "ecd50de5-cf54-4fca-8c37-0e1d4f061d29",
   "metadata": {},
   "source": [
    "- 결정계수는 **0.477**이므로 회귀모형이 전체 데이터의 약 47.72%를 설명할 수 있음\n",
    "- 결정계수 값이 조금 낮게 나타났기 때문에 해당 회귀추정식이 데이터를 적절하게 설명하고 있다고는 할 수 없음\n",
    "- 사이킷런의 회귀분석 방법은 모형의 통계적 유의성이나 회귀계수의 유의성을 바로 제공하지 않음\n",
    "- 따라서 유의성 확인을 위해서는 그 결과를 바로 제공하는 ```statsmodels```패키지를 사용하는 것이 편리함"
   ]
  },
  {
   "cell_type": "markdown",
   "id": "725be535-77fd-47fc-995b-230cf1a17076",
   "metadata": {},
   "source": [
    "<br>\n",
    "<br>\n",
    "<br>\n",
    "\n",
    "#### **1-2) 릿지 (Ridge)**\n",
    "\n",
    "- 릿지 회귀모형은 사이킷런 패키지를 활용해 클래스 ```sklearn.linear_model.Ridge()```을 통해 릿지회귀객체를 생성한 후, 해당 객체의 메소드 ```fit()```을 이용해 회귀모형을 적합함 (릿지 회귀는 능형 회귀라고도 함)\n",
    "- ```sklearn.linear_model.Ridge(alpha = 1.0, ...)```  \n",
    "   - **alpha**: 규제 강도를 제어하는 L2 항에 곱하는 상수로, alpha는 0에서 무한대 값을 가지며 0일 경우 규제항이 없는 일반적인 선형회귀모형임 (default = 1.0)\n",
    "\n",
    "<br>\n",
    "\n",
    "- ```릿지회귀객체.fit(X, y, ...)```\n",
    "   - **X**: 학습 데이터\n",
    "   - **y**: 목푯값"
   ]
  },
  {
   "cell_type": "markdown",
   "id": "1da2f85a-0b19-448f-923d-08eb03af7267",
   "metadata": {},
   "source": [
    "#### Q.\n",
    "diabetes 데이터에서 'bmi', 'bp', 's1', 's2', 's3' 컬럼을 독립변수로 설정하고, 'target' 변수를 종속변수로 설정하여 릿지 회귀분석 실시하기"
   ]
  },
  {
   "cell_type": "code",
   "execution_count": 12,
   "id": "55d3d8c3-fd80-4d1f-b8fc-f136cdd324a2",
   "metadata": {
    "tags": []
   },
   "outputs": [],
   "source": [
    "# 필요한 패키지 가져오기\n",
    "from sklearn.linear_model import Ridge"
   ]
  },
  {
   "cell_type": "code",
   "execution_count": 13,
   "id": "f8e8ace2-26fd-4492-b9b6-3649528f738f",
   "metadata": {
    "tags": []
   },
   "outputs": [],
   "source": [
    "# 데이터 가져오기\n",
    "from sklearn.datasets import load_diabetes\n",
    "diabetes = load_diabetes()\n",
    "data = diabetes.data\n",
    "target = diabetes.target"
   ]
  },
  {
   "cell_type": "code",
   "execution_count": 14,
   "id": "f897a112-9bc6-4846-99b0-dc0980c78c43",
   "metadata": {
    "tags": []
   },
   "outputs": [],
   "source": [
    "df = pd.DataFrame(data, columns=diabetes.feature_names)"
   ]
  },
  {
   "cell_type": "code",
   "execution_count": 15,
   "id": "6c666f9d-5721-42b0-a573-a167015ed0ca",
   "metadata": {
    "tags": []
   },
   "outputs": [],
   "source": [
    "columns = ['bmi', 'bp', 's1', 's2', 's3']\n",
    "X = df[columns]\n",
    "y = target"
   ]
  },
  {
   "cell_type": "code",
   "execution_count": 16,
   "id": "61658e3d-89bd-4f47-8a10-a4700062df3e",
   "metadata": {
    "tags": []
   },
   "outputs": [],
   "source": [
    "# 릿지회귀객체 생성\n",
    "model = Ridge(alpha = 0.1)"
   ]
  },
  {
   "cell_type": "code",
   "execution_count": 17,
   "id": "54f91427-9f95-421f-8b66-2cb64457554d",
   "metadata": {
    "tags": []
   },
   "outputs": [
    {
     "data": {
      "text/html": [
       "<style>#sk-container-id-2 {color: black;}#sk-container-id-2 pre{padding: 0;}#sk-container-id-2 div.sk-toggleable {background-color: white;}#sk-container-id-2 label.sk-toggleable__label {cursor: pointer;display: block;width: 100%;margin-bottom: 0;padding: 0.3em;box-sizing: border-box;text-align: center;}#sk-container-id-2 label.sk-toggleable__label-arrow:before {content: \"▸\";float: left;margin-right: 0.25em;color: #696969;}#sk-container-id-2 label.sk-toggleable__label-arrow:hover:before {color: black;}#sk-container-id-2 div.sk-estimator:hover label.sk-toggleable__label-arrow:before {color: black;}#sk-container-id-2 div.sk-toggleable__content {max-height: 0;max-width: 0;overflow: hidden;text-align: left;background-color: #f0f8ff;}#sk-container-id-2 div.sk-toggleable__content pre {margin: 0.2em;color: black;border-radius: 0.25em;background-color: #f0f8ff;}#sk-container-id-2 input.sk-toggleable__control:checked~div.sk-toggleable__content {max-height: 200px;max-width: 100%;overflow: auto;}#sk-container-id-2 input.sk-toggleable__control:checked~label.sk-toggleable__label-arrow:before {content: \"▾\";}#sk-container-id-2 div.sk-estimator input.sk-toggleable__control:checked~label.sk-toggleable__label {background-color: #d4ebff;}#sk-container-id-2 div.sk-label input.sk-toggleable__control:checked~label.sk-toggleable__label {background-color: #d4ebff;}#sk-container-id-2 input.sk-hidden--visually {border: 0;clip: rect(1px 1px 1px 1px);clip: rect(1px, 1px, 1px, 1px);height: 1px;margin: -1px;overflow: hidden;padding: 0;position: absolute;width: 1px;}#sk-container-id-2 div.sk-estimator {font-family: monospace;background-color: #f0f8ff;border: 1px dotted black;border-radius: 0.25em;box-sizing: border-box;margin-bottom: 0.5em;}#sk-container-id-2 div.sk-estimator:hover {background-color: #d4ebff;}#sk-container-id-2 div.sk-parallel-item::after {content: \"\";width: 100%;border-bottom: 1px solid gray;flex-grow: 1;}#sk-container-id-2 div.sk-label:hover label.sk-toggleable__label {background-color: #d4ebff;}#sk-container-id-2 div.sk-serial::before {content: \"\";position: absolute;border-left: 1px solid gray;box-sizing: border-box;top: 0;bottom: 0;left: 50%;z-index: 0;}#sk-container-id-2 div.sk-serial {display: flex;flex-direction: column;align-items: center;background-color: white;padding-right: 0.2em;padding-left: 0.2em;position: relative;}#sk-container-id-2 div.sk-item {position: relative;z-index: 1;}#sk-container-id-2 div.sk-parallel {display: flex;align-items: stretch;justify-content: center;background-color: white;position: relative;}#sk-container-id-2 div.sk-item::before, #sk-container-id-2 div.sk-parallel-item::before {content: \"\";position: absolute;border-left: 1px solid gray;box-sizing: border-box;top: 0;bottom: 0;left: 50%;z-index: -1;}#sk-container-id-2 div.sk-parallel-item {display: flex;flex-direction: column;z-index: 1;position: relative;background-color: white;}#sk-container-id-2 div.sk-parallel-item:first-child::after {align-self: flex-end;width: 50%;}#sk-container-id-2 div.sk-parallel-item:last-child::after {align-self: flex-start;width: 50%;}#sk-container-id-2 div.sk-parallel-item:only-child::after {width: 0;}#sk-container-id-2 div.sk-dashed-wrapped {border: 1px dashed gray;margin: 0 0.4em 0.5em 0.4em;box-sizing: border-box;padding-bottom: 0.4em;background-color: white;}#sk-container-id-2 div.sk-label label {font-family: monospace;font-weight: bold;display: inline-block;line-height: 1.2em;}#sk-container-id-2 div.sk-label-container {text-align: center;}#sk-container-id-2 div.sk-container {/* jupyter's `normalize.less` sets `[hidden] { display: none; }` but bootstrap.min.css set `[hidden] { display: none !important; }` so we also need the `!important` here to be able to override the default hidden behavior on the sphinx rendered scikit-learn.org. See: https://github.com/scikit-learn/scikit-learn/issues/21755 */display: inline-block !important;position: relative;}#sk-container-id-2 div.sk-text-repr-fallback {display: none;}</style><div id=\"sk-container-id-2\" class=\"sk-top-container\"><div class=\"sk-text-repr-fallback\"><pre>Ridge(alpha=0.1)</pre><b>In a Jupyter environment, please rerun this cell to show the HTML representation or trust the notebook. <br />On GitHub, the HTML representation is unable to render, please try loading this page with nbviewer.org.</b></div><div class=\"sk-container\" hidden><div class=\"sk-item\"><div class=\"sk-estimator sk-toggleable\"><input class=\"sk-toggleable__control sk-hidden--visually\" id=\"sk-estimator-id-2\" type=\"checkbox\" checked><label for=\"sk-estimator-id-2\" class=\"sk-toggleable__label sk-toggleable__label-arrow\">Ridge</label><div class=\"sk-toggleable__content\"><pre>Ridge(alpha=0.1)</pre></div></div></div></div></div>"
      ],
      "text/plain": [
       "Ridge(alpha=0.1)"
      ]
     },
     "execution_count": 17,
     "metadata": {},
     "output_type": "execute_result"
    }
   ],
   "source": [
    "# 릿지회귀 적합\n",
    "model.fit(X = X, y = y)"
   ]
  },
  {
   "cell_type": "code",
   "execution_count": 18,
   "id": "2c954249-c8d1-42a0-8e50-2c6a40ce0cdd",
   "metadata": {
    "tags": []
   },
   "outputs": [
    {
     "data": {
      "text/plain": [
       "array([ 595.99425538,  339.08790294,  397.33725338, -338.99514707,\n",
       "       -406.34548455])"
      ]
     },
     "execution_count": 18,
     "metadata": {},
     "output_type": "execute_result"
    }
   ],
   "source": [
    "# 독립변수에 대한 추정 회귀계수들 확인\n",
    "model.coef_"
   ]
  },
  {
   "cell_type": "code",
   "execution_count": 19,
   "id": "f12235a2-363f-43b7-a4b2-0c90f3cbb104",
   "metadata": {
    "tags": []
   },
   "outputs": [
    {
     "data": {
      "text/plain": [
       "152.1334841628961"
      ]
     },
     "execution_count": 19,
     "metadata": {},
     "output_type": "execute_result"
    }
   ],
   "source": [
    "model.intercept_"
   ]
  },
  {
   "cell_type": "markdown",
   "id": "dff159c0-f791-4379-9609-1112e04f64bd",
   "metadata": {},
   "source": [
    "- ```model.coef_```, ```model.intercept_```를 통해 회귀계수를 확인한 결과, 추정된 회귀식: \n",
    "$$target = 152.13 + (595.99 * bmi) + (339.09 * bp) + (397.34 * s1) + (-339.00 * s2) + (-406.35 * s3)$$"
   ]
  },
  {
   "cell_type": "markdown",
   "id": "6f8af40d-c771-40a9-b088-fdb667e7e6d9",
   "metadata": {},
   "source": [
    "<br>\n",
    "<br>\n",
    "<br>\n",
    "\n",
    "#### **1-3) 라쏘 (Lasso)**\n",
    "\n",
    "- 라쏘 회귀모형은 사이킷런 패키지를 활용해 클래스 ```sklearn.linear_model.Lasso()```을 통해 라쏘회귀객체를 생성한 후, 해당 객체의 메소드 ```fit()```을 이용해 회귀모형을 적합함\n",
    "- ```sklearn.linear_model.Lasso(alpha = 1.0, fit_intercept = True, ...)```  \n",
    "   - **alpha**: 규제 강도를 제어하는 L1 항에 곱하는 상수로, alpha는 0에서 무한대 값을 가지며 0일 경우 규제항이 없는 일반적인 선형회귀모형임 (default = 1.0)\n",
    "   - **fit_intercept**: 모델에 절편항을 적합 시킬 지에 대한 여부 (default = True)\n",
    "\n",
    "<br>\n",
    "\n",
    "- ```라쏘회귀객체.fit(X, y, ...)```\n",
    "   - **X**: 학습 데이터\n",
    "   - **y**: 목푯값"
   ]
  },
  {
   "cell_type": "markdown",
   "id": "41b46e59-6d86-4226-bd77-f30dec6dca26",
   "metadata": {},
   "source": [
    "#### Q.\n",
    "diabetes 데이터에서 'bmi', 'bp', 's1', 's2', 's3' 컬럼을 독립변수로 설정하고, 'target' 변수를 종속변수로 설정하여 라쏘 회귀분석 실시하기"
   ]
  },
  {
   "cell_type": "code",
   "execution_count": 20,
   "id": "4613171b-f113-4daa-9566-a8ce112ae975",
   "metadata": {
    "tags": []
   },
   "outputs": [],
   "source": [
    "# 필요한 패키지 가져오기\n",
    "from sklearn.linear_model import Lasso"
   ]
  },
  {
   "cell_type": "code",
   "execution_count": 21,
   "id": "9d7febf4-23cf-42f9-994e-4856b92748ec",
   "metadata": {
    "tags": []
   },
   "outputs": [],
   "source": [
    "# 데이터 가져오기\n",
    "from sklearn.datasets import load_diabetes\n",
    "diabetes = load_diabetes()\n",
    "data = diabetes.data\n",
    "target = diabetes.target"
   ]
  },
  {
   "cell_type": "code",
   "execution_count": 22,
   "id": "0f8eb433-6431-4e7b-9036-93da0f561de8",
   "metadata": {
    "tags": []
   },
   "outputs": [],
   "source": [
    "df = pd.DataFrame(data, columns=diabetes.feature_names)"
   ]
  },
  {
   "cell_type": "code",
   "execution_count": 23,
   "id": "b34d6904-479e-4b8d-b1f6-34e60582e98e",
   "metadata": {
    "tags": []
   },
   "outputs": [],
   "source": [
    "columns = ['bmi', 'bp', 's1', 's2', 's3']\n",
    "X = df[columns]\n",
    "y = target"
   ]
  },
  {
   "cell_type": "code",
   "execution_count": 24,
   "id": "56c23765-973c-49e1-a17c-5393e5543af4",
   "metadata": {
    "tags": []
   },
   "outputs": [],
   "source": [
    "# 라쏘 회귀객체 생성\n",
    "model = Lasso(alpha = 0.5)"
   ]
  },
  {
   "cell_type": "code",
   "execution_count": 25,
   "id": "8e5353c0-4558-4109-aa36-cf70a9f90f6d",
   "metadata": {
    "tags": []
   },
   "outputs": [
    {
     "data": {
      "text/html": [
       "<style>#sk-container-id-3 {color: black;}#sk-container-id-3 pre{padding: 0;}#sk-container-id-3 div.sk-toggleable {background-color: white;}#sk-container-id-3 label.sk-toggleable__label {cursor: pointer;display: block;width: 100%;margin-bottom: 0;padding: 0.3em;box-sizing: border-box;text-align: center;}#sk-container-id-3 label.sk-toggleable__label-arrow:before {content: \"▸\";float: left;margin-right: 0.25em;color: #696969;}#sk-container-id-3 label.sk-toggleable__label-arrow:hover:before {color: black;}#sk-container-id-3 div.sk-estimator:hover label.sk-toggleable__label-arrow:before {color: black;}#sk-container-id-3 div.sk-toggleable__content {max-height: 0;max-width: 0;overflow: hidden;text-align: left;background-color: #f0f8ff;}#sk-container-id-3 div.sk-toggleable__content pre {margin: 0.2em;color: black;border-radius: 0.25em;background-color: #f0f8ff;}#sk-container-id-3 input.sk-toggleable__control:checked~div.sk-toggleable__content {max-height: 200px;max-width: 100%;overflow: auto;}#sk-container-id-3 input.sk-toggleable__control:checked~label.sk-toggleable__label-arrow:before {content: \"▾\";}#sk-container-id-3 div.sk-estimator input.sk-toggleable__control:checked~label.sk-toggleable__label {background-color: #d4ebff;}#sk-container-id-3 div.sk-label input.sk-toggleable__control:checked~label.sk-toggleable__label {background-color: #d4ebff;}#sk-container-id-3 input.sk-hidden--visually {border: 0;clip: rect(1px 1px 1px 1px);clip: rect(1px, 1px, 1px, 1px);height: 1px;margin: -1px;overflow: hidden;padding: 0;position: absolute;width: 1px;}#sk-container-id-3 div.sk-estimator {font-family: monospace;background-color: #f0f8ff;border: 1px dotted black;border-radius: 0.25em;box-sizing: border-box;margin-bottom: 0.5em;}#sk-container-id-3 div.sk-estimator:hover {background-color: #d4ebff;}#sk-container-id-3 div.sk-parallel-item::after {content: \"\";width: 100%;border-bottom: 1px solid gray;flex-grow: 1;}#sk-container-id-3 div.sk-label:hover label.sk-toggleable__label {background-color: #d4ebff;}#sk-container-id-3 div.sk-serial::before {content: \"\";position: absolute;border-left: 1px solid gray;box-sizing: border-box;top: 0;bottom: 0;left: 50%;z-index: 0;}#sk-container-id-3 div.sk-serial {display: flex;flex-direction: column;align-items: center;background-color: white;padding-right: 0.2em;padding-left: 0.2em;position: relative;}#sk-container-id-3 div.sk-item {position: relative;z-index: 1;}#sk-container-id-3 div.sk-parallel {display: flex;align-items: stretch;justify-content: center;background-color: white;position: relative;}#sk-container-id-3 div.sk-item::before, #sk-container-id-3 div.sk-parallel-item::before {content: \"\";position: absolute;border-left: 1px solid gray;box-sizing: border-box;top: 0;bottom: 0;left: 50%;z-index: -1;}#sk-container-id-3 div.sk-parallel-item {display: flex;flex-direction: column;z-index: 1;position: relative;background-color: white;}#sk-container-id-3 div.sk-parallel-item:first-child::after {align-self: flex-end;width: 50%;}#sk-container-id-3 div.sk-parallel-item:last-child::after {align-self: flex-start;width: 50%;}#sk-container-id-3 div.sk-parallel-item:only-child::after {width: 0;}#sk-container-id-3 div.sk-dashed-wrapped {border: 1px dashed gray;margin: 0 0.4em 0.5em 0.4em;box-sizing: border-box;padding-bottom: 0.4em;background-color: white;}#sk-container-id-3 div.sk-label label {font-family: monospace;font-weight: bold;display: inline-block;line-height: 1.2em;}#sk-container-id-3 div.sk-label-container {text-align: center;}#sk-container-id-3 div.sk-container {/* jupyter's `normalize.less` sets `[hidden] { display: none; }` but bootstrap.min.css set `[hidden] { display: none !important; }` so we also need the `!important` here to be able to override the default hidden behavior on the sphinx rendered scikit-learn.org. See: https://github.com/scikit-learn/scikit-learn/issues/21755 */display: inline-block !important;position: relative;}#sk-container-id-3 div.sk-text-repr-fallback {display: none;}</style><div id=\"sk-container-id-3\" class=\"sk-top-container\"><div class=\"sk-text-repr-fallback\"><pre>Lasso(alpha=0.5)</pre><b>In a Jupyter environment, please rerun this cell to show the HTML representation or trust the notebook. <br />On GitHub, the HTML representation is unable to render, please try loading this page with nbviewer.org.</b></div><div class=\"sk-container\" hidden><div class=\"sk-item\"><div class=\"sk-estimator sk-toggleable\"><input class=\"sk-toggleable__control sk-hidden--visually\" id=\"sk-estimator-id-3\" type=\"checkbox\" checked><label for=\"sk-estimator-id-3\" class=\"sk-toggleable__label sk-toggleable__label-arrow\">Lasso</label><div class=\"sk-toggleable__content\"><pre>Lasso(alpha=0.5)</pre></div></div></div></div></div>"
      ],
      "text/plain": [
       "Lasso(alpha=0.5)"
      ]
     },
     "execution_count": 25,
     "metadata": {},
     "output_type": "execute_result"
    }
   ],
   "source": [
    "# 라쏘회귀 적합\n",
    "model.fit(X = X, y = y)"
   ]
  },
  {
   "cell_type": "code",
   "execution_count": 26,
   "id": "d3ada279-3f9d-4dc1-8173-e102d22621ec",
   "metadata": {
    "tags": []
   },
   "outputs": [
    {
     "data": {
      "text/plain": [
       "array([ 574.04562479,  237.22854049,    0.        ,    0.        ,\n",
       "       -165.17168117])"
      ]
     },
     "execution_count": 26,
     "metadata": {},
     "output_type": "execute_result"
    }
   ],
   "source": [
    "# 독립변수에 대한 추정 회귀계수들 확인\n",
    "model.coef_"
   ]
  },
  {
   "cell_type": "code",
   "execution_count": 27,
   "id": "d0071c6d-7317-4ebf-9458-08b2bc51870f",
   "metadata": {
    "tags": []
   },
   "outputs": [
    {
     "data": {
      "text/plain": [
       "152.13348416289608"
      ]
     },
     "execution_count": 27,
     "metadata": {},
     "output_type": "execute_result"
    }
   ],
   "source": [
    "model.intercept_"
   ]
  },
  {
   "cell_type": "markdown",
   "id": "d31b9e52-eb5d-4cc4-b2b6-886f0cc6ecb1",
   "metadata": {},
   "source": [
    "- ```model.coef_```, ```model.intercept_```를 통해 회귀계수를 확인한 결과, 추정된 회귀식: \n",
    "$$target = 152.13 + (574.04 * bmi) + (237.23 * bp) + (0 * s1) + (0 * s2) + (-165.17 * s3)$$\n",
    "- 이 회귀식을 통해 라쏘 회귀모형은 **중요한 변수를 선택하는 역할**을 수행할 수 있음을 확인 가능함"
   ]
  },
  {
   "cell_type": "markdown",
   "id": "8710aea3-3e8a-4246-aecf-959f5de8ea76",
   "metadata": {},
   "source": [
    "<br><br><br>\n",
    "\n",
    "#### Q.\n",
    "diabetes 데이터를 0 ~ 309번 행을 train, 310 ~ 441번 행을 test로 각각 데이터프레임을 추출한 후, train과 test에서 'bmi', 'bp', 's1', 's2', 's3' 컬럼을 독립변수로 설정하여 각각 X_train과 X_test로 저장하고, train에서 'target' 컬럼을 종속변수로 설정하여 y_train으로 저장하기. 다음으로 X_train과 y_train으로 라쏘 회귀모형을 적합한 후 X_test를 통해 새로운 'target' 변수 예측하기 (라쏘의 L1 규제의 상수항은 0.5로 설정)"
   ]
  },
  {
   "cell_type": "code",
   "execution_count": 28,
   "id": "28c0fa5b-974f-431a-9989-79ddd756d63e",
   "metadata": {
    "tags": []
   },
   "outputs": [],
   "source": [
    "# 필요한 패키지 가져오기\n",
    "import pandas as pd\n",
    "from sklearn.datasets import load_diabetes\n",
    "from sklearn.linear_model import Lasso"
   ]
  },
  {
   "cell_type": "code",
   "execution_count": 29,
   "id": "86237ed5-23d9-4ee0-b46d-38f4b4976e0c",
   "metadata": {
    "tags": []
   },
   "outputs": [
    {
     "data": {
      "text/html": [
       "<div>\n",
       "<style scoped>\n",
       "    .dataframe tbody tr th:only-of-type {\n",
       "        vertical-align: middle;\n",
       "    }\n",
       "\n",
       "    .dataframe tbody tr th {\n",
       "        vertical-align: top;\n",
       "    }\n",
       "\n",
       "    .dataframe thead th {\n",
       "        text-align: right;\n",
       "    }\n",
       "</style>\n",
       "<table border=\"1\" class=\"dataframe\">\n",
       "  <thead>\n",
       "    <tr style=\"text-align: right;\">\n",
       "      <th></th>\n",
       "      <th>age</th>\n",
       "      <th>sex</th>\n",
       "      <th>bmi</th>\n",
       "      <th>bp</th>\n",
       "      <th>s1</th>\n",
       "      <th>s2</th>\n",
       "      <th>s3</th>\n",
       "      <th>s4</th>\n",
       "      <th>s5</th>\n",
       "      <th>s6</th>\n",
       "      <th>target</th>\n",
       "    </tr>\n",
       "  </thead>\n",
       "  <tbody>\n",
       "    <tr>\n",
       "      <th>0</th>\n",
       "      <td>0.038076</td>\n",
       "      <td>0.050680</td>\n",
       "      <td>0.061696</td>\n",
       "      <td>0.021872</td>\n",
       "      <td>-0.044223</td>\n",
       "      <td>-0.034821</td>\n",
       "      <td>-0.043401</td>\n",
       "      <td>-0.002592</td>\n",
       "      <td>0.019907</td>\n",
       "      <td>-0.017646</td>\n",
       "      <td>151.0</td>\n",
       "    </tr>\n",
       "    <tr>\n",
       "      <th>1</th>\n",
       "      <td>-0.001882</td>\n",
       "      <td>-0.044642</td>\n",
       "      <td>-0.051474</td>\n",
       "      <td>-0.026328</td>\n",
       "      <td>-0.008449</td>\n",
       "      <td>-0.019163</td>\n",
       "      <td>0.074412</td>\n",
       "      <td>-0.039493</td>\n",
       "      <td>-0.068332</td>\n",
       "      <td>-0.092204</td>\n",
       "      <td>75.0</td>\n",
       "    </tr>\n",
       "    <tr>\n",
       "      <th>2</th>\n",
       "      <td>0.085299</td>\n",
       "      <td>0.050680</td>\n",
       "      <td>0.044451</td>\n",
       "      <td>-0.005670</td>\n",
       "      <td>-0.045599</td>\n",
       "      <td>-0.034194</td>\n",
       "      <td>-0.032356</td>\n",
       "      <td>-0.002592</td>\n",
       "      <td>0.002861</td>\n",
       "      <td>-0.025930</td>\n",
       "      <td>141.0</td>\n",
       "    </tr>\n",
       "    <tr>\n",
       "      <th>3</th>\n",
       "      <td>-0.089063</td>\n",
       "      <td>-0.044642</td>\n",
       "      <td>-0.011595</td>\n",
       "      <td>-0.036656</td>\n",
       "      <td>0.012191</td>\n",
       "      <td>0.024991</td>\n",
       "      <td>-0.036038</td>\n",
       "      <td>0.034309</td>\n",
       "      <td>0.022688</td>\n",
       "      <td>-0.009362</td>\n",
       "      <td>206.0</td>\n",
       "    </tr>\n",
       "    <tr>\n",
       "      <th>4</th>\n",
       "      <td>0.005383</td>\n",
       "      <td>-0.044642</td>\n",
       "      <td>-0.036385</td>\n",
       "      <td>0.021872</td>\n",
       "      <td>0.003935</td>\n",
       "      <td>0.015596</td>\n",
       "      <td>0.008142</td>\n",
       "      <td>-0.002592</td>\n",
       "      <td>-0.031988</td>\n",
       "      <td>-0.046641</td>\n",
       "      <td>135.0</td>\n",
       "    </tr>\n",
       "    <tr>\n",
       "      <th>...</th>\n",
       "      <td>...</td>\n",
       "      <td>...</td>\n",
       "      <td>...</td>\n",
       "      <td>...</td>\n",
       "      <td>...</td>\n",
       "      <td>...</td>\n",
       "      <td>...</td>\n",
       "      <td>...</td>\n",
       "      <td>...</td>\n",
       "      <td>...</td>\n",
       "      <td>...</td>\n",
       "    </tr>\n",
       "    <tr>\n",
       "      <th>437</th>\n",
       "      <td>0.041708</td>\n",
       "      <td>0.050680</td>\n",
       "      <td>0.019662</td>\n",
       "      <td>0.059744</td>\n",
       "      <td>-0.005697</td>\n",
       "      <td>-0.002566</td>\n",
       "      <td>-0.028674</td>\n",
       "      <td>-0.002592</td>\n",
       "      <td>0.031193</td>\n",
       "      <td>0.007207</td>\n",
       "      <td>178.0</td>\n",
       "    </tr>\n",
       "    <tr>\n",
       "      <th>438</th>\n",
       "      <td>-0.005515</td>\n",
       "      <td>0.050680</td>\n",
       "      <td>-0.015906</td>\n",
       "      <td>-0.067642</td>\n",
       "      <td>0.049341</td>\n",
       "      <td>0.079165</td>\n",
       "      <td>-0.028674</td>\n",
       "      <td>0.034309</td>\n",
       "      <td>-0.018114</td>\n",
       "      <td>0.044485</td>\n",
       "      <td>104.0</td>\n",
       "    </tr>\n",
       "    <tr>\n",
       "      <th>439</th>\n",
       "      <td>0.041708</td>\n",
       "      <td>0.050680</td>\n",
       "      <td>-0.015906</td>\n",
       "      <td>0.017293</td>\n",
       "      <td>-0.037344</td>\n",
       "      <td>-0.013840</td>\n",
       "      <td>-0.024993</td>\n",
       "      <td>-0.011080</td>\n",
       "      <td>-0.046883</td>\n",
       "      <td>0.015491</td>\n",
       "      <td>132.0</td>\n",
       "    </tr>\n",
       "    <tr>\n",
       "      <th>440</th>\n",
       "      <td>-0.045472</td>\n",
       "      <td>-0.044642</td>\n",
       "      <td>0.039062</td>\n",
       "      <td>0.001215</td>\n",
       "      <td>0.016318</td>\n",
       "      <td>0.015283</td>\n",
       "      <td>-0.028674</td>\n",
       "      <td>0.026560</td>\n",
       "      <td>0.044529</td>\n",
       "      <td>-0.025930</td>\n",
       "      <td>220.0</td>\n",
       "    </tr>\n",
       "    <tr>\n",
       "      <th>441</th>\n",
       "      <td>-0.045472</td>\n",
       "      <td>-0.044642</td>\n",
       "      <td>-0.073030</td>\n",
       "      <td>-0.081413</td>\n",
       "      <td>0.083740</td>\n",
       "      <td>0.027809</td>\n",
       "      <td>0.173816</td>\n",
       "      <td>-0.039493</td>\n",
       "      <td>-0.004222</td>\n",
       "      <td>0.003064</td>\n",
       "      <td>57.0</td>\n",
       "    </tr>\n",
       "  </tbody>\n",
       "</table>\n",
       "<p>442 rows × 11 columns</p>\n",
       "</div>"
      ],
      "text/plain": [
       "          age       sex       bmi        bp        s1        s2        s3  \\\n",
       "0    0.038076  0.050680  0.061696  0.021872 -0.044223 -0.034821 -0.043401   \n",
       "1   -0.001882 -0.044642 -0.051474 -0.026328 -0.008449 -0.019163  0.074412   \n",
       "2    0.085299  0.050680  0.044451 -0.005670 -0.045599 -0.034194 -0.032356   \n",
       "3   -0.089063 -0.044642 -0.011595 -0.036656  0.012191  0.024991 -0.036038   \n",
       "4    0.005383 -0.044642 -0.036385  0.021872  0.003935  0.015596  0.008142   \n",
       "..        ...       ...       ...       ...       ...       ...       ...   \n",
       "437  0.041708  0.050680  0.019662  0.059744 -0.005697 -0.002566 -0.028674   \n",
       "438 -0.005515  0.050680 -0.015906 -0.067642  0.049341  0.079165 -0.028674   \n",
       "439  0.041708  0.050680 -0.015906  0.017293 -0.037344 -0.013840 -0.024993   \n",
       "440 -0.045472 -0.044642  0.039062  0.001215  0.016318  0.015283 -0.028674   \n",
       "441 -0.045472 -0.044642 -0.073030 -0.081413  0.083740  0.027809  0.173816   \n",
       "\n",
       "           s4        s5        s6  target  \n",
       "0   -0.002592  0.019907 -0.017646   151.0  \n",
       "1   -0.039493 -0.068332 -0.092204    75.0  \n",
       "2   -0.002592  0.002861 -0.025930   141.0  \n",
       "3    0.034309  0.022688 -0.009362   206.0  \n",
       "4   -0.002592 -0.031988 -0.046641   135.0  \n",
       "..        ...       ...       ...     ...  \n",
       "437 -0.002592  0.031193  0.007207   178.0  \n",
       "438  0.034309 -0.018114  0.044485   104.0  \n",
       "439 -0.011080 -0.046883  0.015491   132.0  \n",
       "440  0.026560  0.044529 -0.025930   220.0  \n",
       "441 -0.039493 -0.004222  0.003064    57.0  \n",
       "\n",
       "[442 rows x 11 columns]"
      ]
     },
     "execution_count": 29,
     "metadata": {},
     "output_type": "execute_result"
    }
   ],
   "source": [
    "# 데이터 가져오기\n",
    "diabetes = load_diabetes()\n",
    "data = pd.DataFrame(diabetes.data, columns = diabetes.feature_names)\n",
    "target = pd.Series(diabetes.target, name = 'target')\n",
    "df = pd.concat( [data, target], axis = 1)\n",
    "df"
   ]
  },
  {
   "cell_type": "code",
   "execution_count": 30,
   "id": "3c76f464-59bb-4b9c-aa57-a44497351271",
   "metadata": {
    "tags": []
   },
   "outputs": [],
   "source": [
    "# 데이터 분할\n",
    "col = ['bmi', 'bp', 's1', 's2', 's3']\n",
    "X_train = df[col].loc[:310]\n",
    "X_test = df[col].loc[310:]\n",
    "y_train = df['target'].loc[:310]"
   ]
  },
  {
   "cell_type": "code",
   "execution_count": 31,
   "id": "15700b89-9139-4f81-a12d-60e0fe3a032e",
   "metadata": {
    "tags": []
   },
   "outputs": [
    {
     "data": {
      "text/html": [
       "<style>#sk-container-id-4 {color: black;}#sk-container-id-4 pre{padding: 0;}#sk-container-id-4 div.sk-toggleable {background-color: white;}#sk-container-id-4 label.sk-toggleable__label {cursor: pointer;display: block;width: 100%;margin-bottom: 0;padding: 0.3em;box-sizing: border-box;text-align: center;}#sk-container-id-4 label.sk-toggleable__label-arrow:before {content: \"▸\";float: left;margin-right: 0.25em;color: #696969;}#sk-container-id-4 label.sk-toggleable__label-arrow:hover:before {color: black;}#sk-container-id-4 div.sk-estimator:hover label.sk-toggleable__label-arrow:before {color: black;}#sk-container-id-4 div.sk-toggleable__content {max-height: 0;max-width: 0;overflow: hidden;text-align: left;background-color: #f0f8ff;}#sk-container-id-4 div.sk-toggleable__content pre {margin: 0.2em;color: black;border-radius: 0.25em;background-color: #f0f8ff;}#sk-container-id-4 input.sk-toggleable__control:checked~div.sk-toggleable__content {max-height: 200px;max-width: 100%;overflow: auto;}#sk-container-id-4 input.sk-toggleable__control:checked~label.sk-toggleable__label-arrow:before {content: \"▾\";}#sk-container-id-4 div.sk-estimator input.sk-toggleable__control:checked~label.sk-toggleable__label {background-color: #d4ebff;}#sk-container-id-4 div.sk-label input.sk-toggleable__control:checked~label.sk-toggleable__label {background-color: #d4ebff;}#sk-container-id-4 input.sk-hidden--visually {border: 0;clip: rect(1px 1px 1px 1px);clip: rect(1px, 1px, 1px, 1px);height: 1px;margin: -1px;overflow: hidden;padding: 0;position: absolute;width: 1px;}#sk-container-id-4 div.sk-estimator {font-family: monospace;background-color: #f0f8ff;border: 1px dotted black;border-radius: 0.25em;box-sizing: border-box;margin-bottom: 0.5em;}#sk-container-id-4 div.sk-estimator:hover {background-color: #d4ebff;}#sk-container-id-4 div.sk-parallel-item::after {content: \"\";width: 100%;border-bottom: 1px solid gray;flex-grow: 1;}#sk-container-id-4 div.sk-label:hover label.sk-toggleable__label {background-color: #d4ebff;}#sk-container-id-4 div.sk-serial::before {content: \"\";position: absolute;border-left: 1px solid gray;box-sizing: border-box;top: 0;bottom: 0;left: 50%;z-index: 0;}#sk-container-id-4 div.sk-serial {display: flex;flex-direction: column;align-items: center;background-color: white;padding-right: 0.2em;padding-left: 0.2em;position: relative;}#sk-container-id-4 div.sk-item {position: relative;z-index: 1;}#sk-container-id-4 div.sk-parallel {display: flex;align-items: stretch;justify-content: center;background-color: white;position: relative;}#sk-container-id-4 div.sk-item::before, #sk-container-id-4 div.sk-parallel-item::before {content: \"\";position: absolute;border-left: 1px solid gray;box-sizing: border-box;top: 0;bottom: 0;left: 50%;z-index: -1;}#sk-container-id-4 div.sk-parallel-item {display: flex;flex-direction: column;z-index: 1;position: relative;background-color: white;}#sk-container-id-4 div.sk-parallel-item:first-child::after {align-self: flex-end;width: 50%;}#sk-container-id-4 div.sk-parallel-item:last-child::after {align-self: flex-start;width: 50%;}#sk-container-id-4 div.sk-parallel-item:only-child::after {width: 0;}#sk-container-id-4 div.sk-dashed-wrapped {border: 1px dashed gray;margin: 0 0.4em 0.5em 0.4em;box-sizing: border-box;padding-bottom: 0.4em;background-color: white;}#sk-container-id-4 div.sk-label label {font-family: monospace;font-weight: bold;display: inline-block;line-height: 1.2em;}#sk-container-id-4 div.sk-label-container {text-align: center;}#sk-container-id-4 div.sk-container {/* jupyter's `normalize.less` sets `[hidden] { display: none; }` but bootstrap.min.css set `[hidden] { display: none !important; }` so we also need the `!important` here to be able to override the default hidden behavior on the sphinx rendered scikit-learn.org. See: https://github.com/scikit-learn/scikit-learn/issues/21755 */display: inline-block !important;position: relative;}#sk-container-id-4 div.sk-text-repr-fallback {display: none;}</style><div id=\"sk-container-id-4\" class=\"sk-top-container\"><div class=\"sk-text-repr-fallback\"><pre>Lasso(alpha=0.5)</pre><b>In a Jupyter environment, please rerun this cell to show the HTML representation or trust the notebook. <br />On GitHub, the HTML representation is unable to render, please try loading this page with nbviewer.org.</b></div><div class=\"sk-container\" hidden><div class=\"sk-item\"><div class=\"sk-estimator sk-toggleable\"><input class=\"sk-toggleable__control sk-hidden--visually\" id=\"sk-estimator-id-4\" type=\"checkbox\" checked><label for=\"sk-estimator-id-4\" class=\"sk-toggleable__label sk-toggleable__label-arrow\">Lasso</label><div class=\"sk-toggleable__content\"><pre>Lasso(alpha=0.5)</pre></div></div></div></div></div>"
      ],
      "text/plain": [
       "Lasso(alpha=0.5)"
      ]
     },
     "execution_count": 31,
     "metadata": {},
     "output_type": "execute_result"
    }
   ],
   "source": [
    "# 라쏘 회귀객체 생성\n",
    "model = Lasso(alpha = 0.5)\n",
    "\n",
    "# X_train과 y_train으로 라쏘 회귀모형 적합\n",
    "model.fit(X = X_train, y = y_train)"
   ]
  },
  {
   "cell_type": "code",
   "execution_count": 32,
   "id": "c088f1cd-9590-41a1-92f7-d98f431b5d06",
   "metadata": {
    "tags": []
   },
   "outputs": [
    {
     "data": {
      "text/plain": [
       "0      198.788357\n",
       "1      166.214176\n",
       "2      133.539177\n",
       "3      194.702189\n",
       "4      172.636544\n",
       "          ...    \n",
       "127    178.910743\n",
       "128    131.853902\n",
       "129    148.589829\n",
       "130    178.546705\n",
       "131     65.611052\n",
       "Name: target, Length: 132, dtype: float64"
      ]
     },
     "execution_count": 32,
     "metadata": {},
     "output_type": "execute_result"
    }
   ],
   "source": [
    "# X_test를 통해 새로운 'target' 변수 예측\n",
    "target = model.predict(X_test)\n",
    "target = pd.Series(target, name = 'target')\n",
    "target"
   ]
  },
  {
   "cell_type": "code",
   "execution_count": 33,
   "id": "fb860263-687c-4f41-bc0f-597c3c9d7704",
   "metadata": {
    "tags": []
   },
   "outputs": [
    {
     "data": {
      "text/plain": [
       "array([ 594.71569107,  203.35216045,    0.        ,    0.        ,\n",
       "       -145.53721619])"
      ]
     },
     "execution_count": 33,
     "metadata": {},
     "output_type": "execute_result"
    }
   ],
   "source": [
    "model.coef_"
   ]
  },
  {
   "cell_type": "code",
   "execution_count": 34,
   "id": "d091d90e-2522-4612-aa57-68952196876d",
   "metadata": {
    "tags": []
   },
   "outputs": [
    {
     "data": {
      "text/plain": [
       "150.89552261373652"
      ]
     },
     "execution_count": 34,
     "metadata": {},
     "output_type": "execute_result"
    }
   ],
   "source": [
    "model.intercept_"
   ]
  },
  {
   "cell_type": "markdown",
   "id": "e38b20e8-ca8b-4d18-9ca1-ef7afa9843ce",
   "metadata": {
    "tags": []
   },
   "source": [
    "- ```model.coef_```, ```model_intercept_```를 통해 train 데이터셋만으로 회귀계수를 적합한 결과, 추정된 회귀식:\n",
    "$$target = 150.90 + (594.72 * bmi) + (203.35 * bp) + (0 * s1) + (0 * s2) + (-145.54 * s3)$$\n",
    "- target을 추정하는 데 중요한 변수는 ```bmi```, ```bp```, ```s3```로 나타남을 알 수 있음\n",
    "- 이 결과는 라쏘 객체 생성 시 alpha값에 따라 달라지며 alpha값이 0에 가까울수록 가장 많은 변수를 가지는 회귀모형이 되며, 무한대에 가까울수록 절편항만을 포함하는 가장 간단한 회귀모형이 됨\n",
    "- 따라서 적절한 alpha값을 그리드 서치(Grid Search) 방법이나 k-fold 교차검증(k-fold CV) 통계량을 통해 찾아야 함"
   ]
  },
  {
   "cell_type": "code",
   "execution_count": 35,
   "id": "5cc6c99d-45b7-44f2-866f-792e1cb060fa",
   "metadata": {
    "tags": []
   },
   "outputs": [],
   "source": [
    "# 그냥 해보는 평가지표로 예측값 확인하기\n",
    "from sklearn.metrics import mean_squared_error, mean_absolute_error, mean_absolute_percentage_error"
   ]
  },
  {
   "cell_type": "code",
   "execution_count": 36,
   "id": "3a2f0c06-c989-4139-abd7-3040702f03ea",
   "metadata": {
    "tags": []
   },
   "outputs": [],
   "source": [
    "y_true = df['target'].loc[310:]\n",
    "y_pred = target  # 위에서 예측한 값"
   ]
  },
  {
   "cell_type": "code",
   "execution_count": 37,
   "id": "22c0f3d2-9397-4d6c-b18e-f8fab8d24704",
   "metadata": {
    "tags": []
   },
   "outputs": [],
   "source": [
    "# 평가지표 계산\n",
    "mse = mean_squared_error(y_true, y_pred)\n",
    "mae = mean_absolute_error(y_true, y_pred)\n",
    "mape = mean_absolute_percentage_error(y_true, y_pred)"
   ]
  },
  {
   "cell_type": "code",
   "execution_count": 38,
   "id": "d1fc7bd3-cae4-415d-9c71-5352e010b1ca",
   "metadata": {
    "tags": []
   },
   "outputs": [
    {
     "name": "stdout",
     "output_type": "stream",
     "text": [
      "Mean Squared Error (MSE): 3283.79\n",
      "Mean Absolute Error (MAE): 47.93\n",
      "Mean Absolute Percentage Error (MAPE): 0.42\n"
     ]
    }
   ],
   "source": [
    "print(f\"Mean Squared Error (MSE): {round(mse, 2)}\")\n",
    "print(f\"Mean Absolute Error (MAE): {round(mae, 2)}\")\n",
    "print(f\"Mean Absolute Percentage Error (MAPE): {round(mape, 2)}\")"
   ]
  },
  {
   "cell_type": "code",
   "execution_count": 39,
   "id": "7749f8e3-fdb6-4d47-a741-beb886f857ab",
   "metadata": {
    "tags": []
   },
   "outputs": [],
   "source": [
    "# MAE: 평균적으로 47.93 단위만큼 예측이 실제와 차이난다는 뜻\n",
    "# MAPE: 예측값이 실제값에서 평균적으로 42% 벗어났다는 것을 의미함"
   ]
  },
  {
   "cell_type": "markdown",
   "id": "718e9e61-5389-40e3-be9e-8d29f7efa70a",
   "metadata": {},
   "source": [
    "<br><br><br>\n",
    "<hr>\n",
    "\n",
    "#### **2) 사이킷런을 활용한 로지스틱 회귀분석**\n",
    "\n",
    "<br>\n",
    "\n",
    "- 로지스틱 회귀모형은 서브패키지 ```linear_model``` 내 클래스 ```LogisticRegression()```을 통해 모형객체를 생성할 수 있음\n",
    "- **참고)** 선형 회귀모델과 달리 로지스틱 회귀모형은 클래스 ```LogisticRegression()```과 릿지와 라쏘를 함께 지원함\n",
    "- ```sklearn.linear_model.LogisticRegression(penalty = 'l2', C = 1.0, multi_class = 'auto', max_iter = 100, ...)```  \n",
    "   - **penalty**: 규제항 추가와 관련된 옵션\n",
    "      - 'none': 규제항 추가하지 않음\n",
    "      - 'l2': L2 규제항 추가 (default)\n",
    "      - 'l1': L1 규제항 추가\n",
    "   - **C**: 규제항에 곱하는 상수의 역수로 규제강도를 제어함. C는 적을수록 가장 규제가 가장 강함 (default = 1.0)\n",
    "   - **multi_class**: 다지분류를 위한 옵션(default = auto(target의 레이블에 따라 자동으로 선택))\n",
    "      - 'ovr': 이진분류\n",
    "      - 'multinomail': 다지분류\n",
    "   - **max_iter**: 수렴할 때까지 걸리는 최대 반복 획수(default = 100)"
   ]
  },
  {
   "cell_type": "markdown",
   "id": "493c33c9-8f3c-4540-94ea-2a12b943e044",
   "metadata": {},
   "source": [
    "#### Q.\n",
    "사이킷런 패키지 내 breast_cancer 데이터를 호출한 후 학습 데이터와 평가 데이터로 분할하고 클래스 ```LogisticRegression()```을 통해 이진분류 모형객체를 생성하고 학습한 후 평가 데이터로 목푯값을 예측하고 성능을 측정하는 코드 작성하기 (단, 학습과 평가 데이터의 비율은 8대 2로하고, target의 비율을 반영하고 평가지표는 AUC 사용하기)"
   ]
  },
  {
   "cell_type": "code",
   "execution_count": 40,
   "id": "a60b8b20-c4e9-496d-91d9-c447fcddebbc",
   "metadata": {
    "tags": []
   },
   "outputs": [],
   "source": [
    "from sklearn.linear_model import LogisticRegression\n",
    "from sklearn.model_selection import train_test_split"
   ]
  },
  {
   "cell_type": "code",
   "execution_count": 41,
   "id": "7106e65e-30af-46bb-8f23-2f4b942bcae4",
   "metadata": {
    "tags": []
   },
   "outputs": [],
   "source": [
    "# breast cancer 데이터 가져오기\n",
    "from sklearn.datasets import load_breast_cancer\n",
    "breast_cancer = load_breast_cancer()\n",
    "data = breast_cancer.data\n",
    "target = breast_cancer.target"
   ]
  },
  {
   "cell_type": "code",
   "execution_count": 42,
   "id": "9e4b1337-6829-4bb6-bc87-58e7c300400f",
   "metadata": {
    "tags": []
   },
   "outputs": [],
   "source": [
    "# 데이터분할\n",
    "X_train, X_test, y_train, y_test = train_test_split(data, \n",
    "                                                    target,\n",
    "                                                    test_size = 0.2,         # 8:2 비율\n",
    "                                                    random_state = 2205,\n",
    "                                                    stratify = target)       # target의 비율 반영"
   ]
  },
  {
   "cell_type": "code",
   "execution_count": 43,
   "id": "3834c735-698a-4ebd-958a-8d2d128d146a",
   "metadata": {
    "tags": []
   },
   "outputs": [
    {
     "data": {
      "text/html": [
       "<style>#sk-container-id-5 {color: black;}#sk-container-id-5 pre{padding: 0;}#sk-container-id-5 div.sk-toggleable {background-color: white;}#sk-container-id-5 label.sk-toggleable__label {cursor: pointer;display: block;width: 100%;margin-bottom: 0;padding: 0.3em;box-sizing: border-box;text-align: center;}#sk-container-id-5 label.sk-toggleable__label-arrow:before {content: \"▸\";float: left;margin-right: 0.25em;color: #696969;}#sk-container-id-5 label.sk-toggleable__label-arrow:hover:before {color: black;}#sk-container-id-5 div.sk-estimator:hover label.sk-toggleable__label-arrow:before {color: black;}#sk-container-id-5 div.sk-toggleable__content {max-height: 0;max-width: 0;overflow: hidden;text-align: left;background-color: #f0f8ff;}#sk-container-id-5 div.sk-toggleable__content pre {margin: 0.2em;color: black;border-radius: 0.25em;background-color: #f0f8ff;}#sk-container-id-5 input.sk-toggleable__control:checked~div.sk-toggleable__content {max-height: 200px;max-width: 100%;overflow: auto;}#sk-container-id-5 input.sk-toggleable__control:checked~label.sk-toggleable__label-arrow:before {content: \"▾\";}#sk-container-id-5 div.sk-estimator input.sk-toggleable__control:checked~label.sk-toggleable__label {background-color: #d4ebff;}#sk-container-id-5 div.sk-label input.sk-toggleable__control:checked~label.sk-toggleable__label {background-color: #d4ebff;}#sk-container-id-5 input.sk-hidden--visually {border: 0;clip: rect(1px 1px 1px 1px);clip: rect(1px, 1px, 1px, 1px);height: 1px;margin: -1px;overflow: hidden;padding: 0;position: absolute;width: 1px;}#sk-container-id-5 div.sk-estimator {font-family: monospace;background-color: #f0f8ff;border: 1px dotted black;border-radius: 0.25em;box-sizing: border-box;margin-bottom: 0.5em;}#sk-container-id-5 div.sk-estimator:hover {background-color: #d4ebff;}#sk-container-id-5 div.sk-parallel-item::after {content: \"\";width: 100%;border-bottom: 1px solid gray;flex-grow: 1;}#sk-container-id-5 div.sk-label:hover label.sk-toggleable__label {background-color: #d4ebff;}#sk-container-id-5 div.sk-serial::before {content: \"\";position: absolute;border-left: 1px solid gray;box-sizing: border-box;top: 0;bottom: 0;left: 50%;z-index: 0;}#sk-container-id-5 div.sk-serial {display: flex;flex-direction: column;align-items: center;background-color: white;padding-right: 0.2em;padding-left: 0.2em;position: relative;}#sk-container-id-5 div.sk-item {position: relative;z-index: 1;}#sk-container-id-5 div.sk-parallel {display: flex;align-items: stretch;justify-content: center;background-color: white;position: relative;}#sk-container-id-5 div.sk-item::before, #sk-container-id-5 div.sk-parallel-item::before {content: \"\";position: absolute;border-left: 1px solid gray;box-sizing: border-box;top: 0;bottom: 0;left: 50%;z-index: -1;}#sk-container-id-5 div.sk-parallel-item {display: flex;flex-direction: column;z-index: 1;position: relative;background-color: white;}#sk-container-id-5 div.sk-parallel-item:first-child::after {align-self: flex-end;width: 50%;}#sk-container-id-5 div.sk-parallel-item:last-child::after {align-self: flex-start;width: 50%;}#sk-container-id-5 div.sk-parallel-item:only-child::after {width: 0;}#sk-container-id-5 div.sk-dashed-wrapped {border: 1px dashed gray;margin: 0 0.4em 0.5em 0.4em;box-sizing: border-box;padding-bottom: 0.4em;background-color: white;}#sk-container-id-5 div.sk-label label {font-family: monospace;font-weight: bold;display: inline-block;line-height: 1.2em;}#sk-container-id-5 div.sk-label-container {text-align: center;}#sk-container-id-5 div.sk-container {/* jupyter's `normalize.less` sets `[hidden] { display: none; }` but bootstrap.min.css set `[hidden] { display: none !important; }` so we also need the `!important` here to be able to override the default hidden behavior on the sphinx rendered scikit-learn.org. See: https://github.com/scikit-learn/scikit-learn/issues/21755 */display: inline-block !important;position: relative;}#sk-container-id-5 div.sk-text-repr-fallback {display: none;}</style><div id=\"sk-container-id-5\" class=\"sk-top-container\"><div class=\"sk-text-repr-fallback\"><pre>LogisticRegression(C=0.5, max_iter=2000)</pre><b>In a Jupyter environment, please rerun this cell to show the HTML representation or trust the notebook. <br />On GitHub, the HTML representation is unable to render, please try loading this page with nbviewer.org.</b></div><div class=\"sk-container\" hidden><div class=\"sk-item\"><div class=\"sk-estimator sk-toggleable\"><input class=\"sk-toggleable__control sk-hidden--visually\" id=\"sk-estimator-id-5\" type=\"checkbox\" checked><label for=\"sk-estimator-id-5\" class=\"sk-toggleable__label sk-toggleable__label-arrow\">LogisticRegression</label><div class=\"sk-toggleable__content\"><pre>LogisticRegression(C=0.5, max_iter=2000)</pre></div></div></div></div></div>"
      ],
      "text/plain": [
       "LogisticRegression(C=0.5, max_iter=2000)"
      ]
     },
     "execution_count": 43,
     "metadata": {},
     "output_type": "execute_result"
    }
   ],
   "source": [
    "# 모형객체 생성\n",
    "lr_bin = LogisticRegression(C = 0.5,           # 규제 강도\n",
    "                            max_iter = 2000)   # 수렴까지 걸리는 최대 반복 횟수\n",
    "lr_bin"
   ]
  },
  {
   "cell_type": "code",
   "execution_count": 44,
   "id": "f089e644-1c67-4f3f-abfe-4300660a6cd4",
   "metadata": {
    "tags": []
   },
   "outputs": [],
   "source": [
    "# 모델 학습 & 적합\n",
    "model_lr_bin = lr_bin.fit(X_train, y_train)"
   ]
  },
  {
   "cell_type": "code",
   "execution_count": 45,
   "id": "e3c54b7e-1428-42e8-8abf-e025bab66b75",
   "metadata": {
    "tags": []
   },
   "outputs": [],
   "source": [
    "# ROC\n",
    "from sklearn.metrics import roc_curve, auc"
   ]
  },
  {
   "cell_type": "code",
   "execution_count": 46,
   "id": "5badfdd1-3faf-4ebd-bf19-221400089451",
   "metadata": {
    "tags": []
   },
   "outputs": [
    {
     "data": {
      "text/plain": [
       "array([9.99925131e-01, 1.10456678e-02, 9.99987418e-01, 9.98630111e-01,\n",
       "       9.99874680e-01, 9.98674613e-01, 1.58396422e-05, 9.99962441e-01,\n",
       "       9.85188682e-01, 9.99994102e-01, 2.05776144e-04, 9.99804201e-01,\n",
       "       3.27780513e-06, 6.05581672e-12, 3.26446244e-03, 9.56527456e-01,\n",
       "       9.51512101e-01, 9.94962683e-01, 9.92078578e-01, 9.98486248e-01,\n",
       "       2.17386463e-06, 9.99998270e-01, 9.63276864e-01, 9.97095388e-01,\n",
       "       9.50976935e-01, 1.38632669e-02, 4.78891275e-04, 9.99982004e-01,\n",
       "       9.03208838e-14, 9.16107327e-01, 7.87279453e-01, 9.62384235e-01,\n",
       "       9.77201462e-01, 9.99610278e-01, 9.96193838e-01, 7.85161454e-07,\n",
       "       2.29120273e-02, 9.98552612e-01, 6.63496397e-01, 9.69663603e-01,\n",
       "       9.03219928e-01, 4.40925463e-03, 5.63958852e-08, 1.17978511e-02,\n",
       "       3.87791735e-10, 3.22913969e-07, 7.43367065e-01, 8.85829789e-11,\n",
       "       9.99659159e-01, 9.99975461e-01, 7.45649983e-08, 9.97664045e-01,\n",
       "       9.59113068e-01, 9.65426081e-01, 6.35987996e-04, 1.57128398e-03,\n",
       "       4.91521554e-02, 9.99469851e-01, 1.21946712e-02, 9.99667699e-01,\n",
       "       4.71537038e-06, 9.79972442e-01, 1.89716983e-05, 4.24366234e-03,\n",
       "       8.89728782e-01, 9.99998482e-01, 1.88379790e-05, 9.99034829e-01,\n",
       "       9.22572795e-01, 9.99007901e-01, 9.98544433e-01, 9.99995080e-01,\n",
       "       1.33158790e-06, 3.95348660e-04, 8.36662993e-01, 7.34524154e-01,\n",
       "       9.84070151e-01, 4.93587324e-01, 9.99604319e-01, 7.63816500e-06,\n",
       "       3.85439919e-06, 5.30589457e-05, 1.86691277e-04, 9.97769676e-01,\n",
       "       9.87536332e-01, 9.14920193e-01, 8.09619692e-10, 9.70553925e-01,\n",
       "       2.84743740e-09, 1.41607226e-05, 6.08286518e-05, 2.58617892e-09,\n",
       "       5.75851700e-06, 9.99674703e-01, 9.44542830e-01, 9.66614516e-01,\n",
       "       9.99951609e-01, 9.99808637e-01, 9.74688112e-01, 9.98003298e-01,\n",
       "       9.32272423e-01, 9.97560315e-01, 6.33290969e-33, 9.99974363e-01,\n",
       "       8.93037157e-01, 9.94565474e-01, 9.98836460e-01, 8.47119912e-07,\n",
       "       9.99933827e-01, 9.98721520e-01, 9.90180477e-01, 9.99515137e-01,\n",
       "       9.99157986e-01, 9.34142971e-01])"
      ]
     },
     "execution_count": 46,
     "metadata": {},
     "output_type": "execute_result"
    }
   ],
   "source": [
    "y_score = model_lr_bin.predict_proba(X_test)[:, 1]\n",
    "y_score"
   ]
  },
  {
   "cell_type": "code",
   "execution_count": 47,
   "id": "f4b322a1-b4ee-433b-80ba-eb2d2e21356b",
   "metadata": {
    "tags": []
   },
   "outputs": [
    {
     "name": "stdout",
     "output_type": "stream",
     "text": [
      "[0.         0.         0.         0.02380952 0.02380952 1.        ]\n",
      "[0.         0.01388889 0.93055556 0.93055556 1.         1.        ]\n",
      "[           inf 9.99998482e-01 8.89728782e-01 8.36662993e-01\n",
      " 4.93587324e-01 6.33290969e-33]\n"
     ]
    }
   ],
   "source": [
    "fpr, tpr, thresholds = roc_curve(y_test, y_score)\n",
    "print(fpr)\n",
    "print(tpr)\n",
    "print(thresholds)"
   ]
  },
  {
   "cell_type": "code",
   "execution_count": 48,
   "id": "21e35ceb-cb21-4b0e-82f1-cc184be679ad",
   "metadata": {
    "tags": []
   },
   "outputs": [
    {
     "data": {
      "text/plain": [
       "0.9983465608465608"
      ]
     },
     "execution_count": 48,
     "metadata": {},
     "output_type": "execute_result"
    }
   ],
   "source": [
    "# AUC\n",
    "AUC = auc(fpr, tpr)   # roc_curve()에서 반환된 fpr > x축, tpr > y축\n",
    "AUC"
   ]
  },
  {
   "cell_type": "markdown",
   "id": "c66fc4d2-b757-44da-ba71-3adbf52026c1",
   "metadata": {},
   "source": [
    "- AUC를 계산하기 위해 ROC_curve를 먼저 생성\n",
    "- 이때 함수 ```roc_curve()```의 인자 ```y_score```는 모형에서 예측된 결과가 확률의 형태를 입력받아야하므로 모형객체의 메소드 ```predict_proba()```를 이용\n",
    "- ```predict_proba(X_test)```의 결과는 2차원 배열 형태를 반환하며, 첫 번째 열은 0이 될 확률, 두 번째 열은 1이 될 확률을 반환함\n",
    "- 따라서 두 번째 열을 선택하기 위해 [:, 1]을 통하여 인덱싱\n",
    "- 마지막으로 ```roc_curve()```에서 반환되는 결과 중 FPR과 TRP을 각각 x, y축으로 함수 ```auc()```의 인자로 사용함 >> 그 결과 AUC 값은 0.9983으로 매우 높게 나타남\n",
    "- 이 결과는 무조건 높다고 해서 좋은 모형은 아니며, 분석 분야에 따라 다양한 지표들을 활용하여 분석 모형을 선택할 수 있다는 것 참고# metrics.classification_report(y_true, y_pred) 함수 테스트해보기\n",
    "from sklearn.metrics import classification_report"
   ]
  },
  {
   "cell_type": "code",
   "execution_count": 49,
   "id": "0919c9be-cc94-4c89-83c9-45f8053ed3f6",
   "metadata": {
    "tags": []
   },
   "outputs": [],
   "source": [
    "# metrics.classification_report(y_true, y_pred) 함수 테스트해보기\n",
    "from sklearn.metrics import classification_report"
   ]
  },
  {
   "cell_type": "code",
   "execution_count": 50,
   "id": "4e5f07a5-dee6-4fa1-9e46-8c22d299ef8b",
   "metadata": {
    "tags": []
   },
   "outputs": [],
   "source": [
    "# 예측값 데이터 만들기\n",
    "y_pred = model_lr_bin.predict(X_test)"
   ]
  },
  {
   "cell_type": "code",
   "execution_count": 51,
   "id": "1dff3e0e-ebf4-46d0-bac6-48ac93c6b552",
   "metadata": {
    "tags": []
   },
   "outputs": [
    {
     "name": "stdout",
     "output_type": "stream",
     "text": [
      "              precision    recall  f1-score   support\n",
      "\n",
      "           0       0.98      0.98      0.98        42\n",
      "           1       0.99      0.99      0.99        72\n",
      "\n",
      "    accuracy                           0.98       114\n",
      "   macro avg       0.98      0.98      0.98       114\n",
      "weighted avg       0.98      0.98      0.98       114\n",
      "\n"
     ]
    }
   ],
   "source": [
    "report = classification_report(y_test, y_pred)\n",
    "print(report)"
   ]
  },
  {
   "cell_type": "markdown",
   "id": "f7a6743b-14d1-46ed-aa76-e33ee336d9b2",
   "metadata": {},
   "source": [
    "<br><br>\n",
    "\n",
    "#### Q.\n",
    "사이킷런 패키지 내 iris 데이터를 호출한 후 학습 데이터와 평가 데이터로 분할하고 클래스 ```LogisticRegression()```을 통해 다지분류 모형객체를 생성하고 학습한 후 평가 데이터로 목푯값을 예측하고 성능을 측정하는 코드 작성하기 (단, 학습과 평가 데이터의 비율은 8:2로 하고, target의 비율을 반영하고 평가지표는 macro f1-score 사용하기)"
   ]
  },
  {
   "cell_type": "code",
   "execution_count": 52,
   "id": "870997bb-fdc7-4d64-861c-bae6167b7168",
   "metadata": {
    "tags": []
   },
   "outputs": [],
   "source": [
    "from sklearn.linear_model import LogisticRegression\n",
    "from sklearn.model_selection import train_test_split"
   ]
  },
  {
   "cell_type": "code",
   "execution_count": 53,
   "id": "a70807f7-79c1-4f88-b34d-ba20048b8ac5",
   "metadata": {
    "tags": []
   },
   "outputs": [],
   "source": [
    "# iris 데이터셋 가져오기\n",
    "from sklearn.datasets import load_iris\n",
    "iris = load_iris()\n",
    "data = iris.data\n",
    "target = iris.target"
   ]
  },
  {
   "cell_type": "code",
   "execution_count": 54,
   "id": "994e2ac3-1d1b-4791-8433-a272f780e035",
   "metadata": {
    "tags": []
   },
   "outputs": [],
   "source": [
    "# 데이터 분할\n",
    "X_train, X_test, y_train, y_test = train_test_split(data,\n",
    "                                                    target,\n",
    "                                                    test_size = 0.2,\n",
    "                                                    random_state = 2205,\n",
    "                                                    stratify = target)"
   ]
  },
  {
   "cell_type": "code",
   "execution_count": 55,
   "id": "4428ba68-a79c-407e-9947-6201de0d6c54",
   "metadata": {
    "tags": []
   },
   "outputs": [],
   "source": [
    "# 모형객체 생성\n",
    "lr_multi = LogisticRegression(C = 0.05,                 # 규제 강도\n",
    "                              max_iter = 200)           # 수렴까지 걸리는 최대 반복 횟수"
   ]
  },
  {
   "cell_type": "code",
   "execution_count": 56,
   "id": "4dbdbc8e-1172-40d2-b500-27d96705d594",
   "metadata": {
    "tags": []
   },
   "outputs": [],
   "source": [
    "# 모델학습\n",
    "model_lr_multi = lr_multi.fit(X_train, y_train)"
   ]
  },
  {
   "cell_type": "code",
   "execution_count": 57,
   "id": "75678929-f782-4902-950f-1a235ac7e9de",
   "metadata": {
    "tags": []
   },
   "outputs": [],
   "source": [
    "# macro f1-score\n",
    "from sklearn.metrics import f1_score\n",
    "y_pred = model_lr_multi.predict(X_test)"
   ]
  },
  {
   "cell_type": "code",
   "execution_count": 58,
   "id": "9bdb5bc6-1fc7-41ad-992a-94f93c17fddb",
   "metadata": {
    "tags": []
   },
   "outputs": [
    {
     "data": {
      "text/plain": [
       "0.9665831244778613"
      ]
     },
     "execution_count": 58,
     "metadata": {},
     "output_type": "execute_result"
    }
   ],
   "source": [
    "macro_f1 = f1_score(y_test, y_pred, average = 'macro')\n",
    "macro_f1"
   ]
  },
  {
   "cell_type": "markdown",
   "id": "9c5a04bd-48a8-45ef-b8a1-0c0bf2ede357",
   "metadata": {},
   "source": [
    "- macro f1-score를 계산하기 위한 함수인 ```f1_score()```의 ```y_pred```의 인자에 입력될 예측값을 구하기 위해 모형객체의 메소드 ```predict```를 이용\n",
    "- 파이썬에서 macro f1-score를 계산하는 방법은 ```average = 'macro'```의 옵션을 추가함으로써 수행이 가능함\n",
    "- macro f1-score를 계산한 결과 0.96666으로 매우 높게 나타났음\n",
    "- 이 결과는 무조건 높다고 해서 좋은 모형은 아니며, 분석 분야에 따라 다양한 지표들을 활용하여 분석 모형을 선택할 수 있다는 것 참고"
   ]
  },
  {
   "cell_type": "code",
   "execution_count": 59,
   "id": "5e4aff16-9e71-49a5-ae6d-154117e4a58c",
   "metadata": {
    "tags": []
   },
   "outputs": [],
   "source": [
    "# metrics.classification_report(y_true, y_pred) 함수 테스트해보기\n",
    "from sklearn.metrics import classification_report"
   ]
  },
  {
   "cell_type": "code",
   "execution_count": 60,
   "id": "84c09803-3fee-42ae-862b-2bfac72c653d",
   "metadata": {
    "tags": []
   },
   "outputs": [
    {
     "name": "stdout",
     "output_type": "stream",
     "text": [
      "              precision    recall  f1-score   support\n",
      "\n",
      "           0       1.00      1.00      1.00        10\n",
      "           1       1.00      0.90      0.95        10\n",
      "           2       0.91      1.00      0.95        10\n",
      "\n",
      "    accuracy                           0.97        30\n",
      "   macro avg       0.97      0.97      0.97        30\n",
      "weighted avg       0.97      0.97      0.97        30\n",
      "\n"
     ]
    }
   ],
   "source": [
    "report = classification_report(y_test, y_pred)\n",
    "print(report)"
   ]
  },
  {
   "cell_type": "code",
   "execution_count": null,
   "id": "a689dbcf-fb84-4f7b-bdb2-17a24263f4fb",
   "metadata": {},
   "outputs": [],
   "source": []
  }
 ],
 "metadata": {
  "kernelspec": {
   "display_name": "Python 3 (ipykernel)",
   "language": "python",
   "name": "python3"
  },
  "language_info": {
   "codemirror_mode": {
    "name": "ipython",
    "version": 3
   },
   "file_extension": ".py",
   "mimetype": "text/x-python",
   "name": "python",
   "nbconvert_exporter": "python",
   "pygments_lexer": "ipython3",
   "version": "3.11.5"
  }
 },
 "nbformat": 4,
 "nbformat_minor": 5
}
